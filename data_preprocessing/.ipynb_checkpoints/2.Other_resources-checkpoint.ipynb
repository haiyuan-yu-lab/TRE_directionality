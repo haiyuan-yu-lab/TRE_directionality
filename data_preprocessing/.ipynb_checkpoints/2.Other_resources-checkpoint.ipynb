{
 "cells": [
  {
   "cell_type": "code",
   "execution_count": 14,
   "id": "513fe9b6-c681-492f-aaa7-4511707527f9",
   "metadata": {
    "execution": {
     "iopub.execute_input": "2024-11-02T13:01:08.967943Z",
     "iopub.status.busy": "2024-11-02T13:01:08.967607Z",
     "iopub.status.idle": "2024-11-02T13:01:13.772807Z",
     "shell.execute_reply": "2024-11-02T13:01:13.772277Z",
     "shell.execute_reply.started": "2024-11-02T13:01:08.967922Z"
    }
   },
   "outputs": [],
   "source": [
    "import pandas as pd\n",
    "import json\n",
    "import subprocess\n",
    "from collections import defaultdict\n",
    "from biodata.delimited import DelimitedReader, DelimitedWriter\n",
    "from mphelper import ProcessWrapPool\n",
    "import gzip\n",
    "from Bio import AlignIO"
   ]
  },
  {
   "cell_type": "code",
   "execution_count": 2,
   "id": "080dbf0c-22a9-465d-bfaa-335f56ddf98c",
   "metadata": {
    "execution": {
     "iopub.execute_input": "2024-11-02T03:18:43.159272Z",
     "iopub.status.busy": "2024-11-02T03:18:43.158931Z",
     "iopub.status.idle": "2024-11-02T03:18:43.162241Z",
     "shell.execute_reply": "2024-11-02T03:18:43.161734Z",
     "shell.execute_reply.started": "2024-11-02T03:18:43.159249Z"
    }
   },
   "outputs": [],
   "source": [
    "PROJECT_DIR_r = \"/fs/cbsuhy02/storage/yc2553/yc2553/projects/TRE_directionality/resources/\"\n",
    "PROJECT_DIR_r2 = \"/fs/cbsuhy02/storage/yc2553/yc2553/databases/\""
   ]
  },
  {
   "cell_type": "markdown",
   "id": "74d7e558-890a-495e-94fb-53061eabe059",
   "metadata": {},
   "source": [
    "# ENCODE data"
   ]
  },
  {
   "cell_type": "markdown",
   "id": "835f2384-4182-47d0-8240-f6dd625dbafd",
   "metadata": {},
   "source": [
    "## K562"
   ]
  },
  {
   "cell_type": "markdown",
   "id": "fe7e327f-1670-44fe-886e-1374a5103ba8",
   "metadata": {},
   "source": [
    "### Epigenomic features"
   ]
  },
  {
   "cell_type": "code",
   "execution_count": 3,
   "id": "677d9077-b3af-4036-a85f-2cfe62f4e582",
   "metadata": {
    "execution": {
     "iopub.execute_input": "2024-09-21T16:09:19.168718Z",
     "iopub.status.busy": "2024-09-21T16:09:19.168373Z",
     "iopub.status.idle": "2024-09-21T16:09:19.171339Z",
     "shell.execute_reply": "2024-09-21T16:09:19.170855Z",
     "shell.execute_reply.started": "2024-09-21T16:09:19.168698Z"
    }
   },
   "outputs": [],
   "source": [
    "# DNase-seq \n",
    "# ENCSR000EOT\n",
    "# https://www.encodeproject.org/files/ENCFF414OGC/@@download/ENCFF414OGC.bigWig\n",
    "# https://www.encodeproject.org/files/ENCFF185XRG/@@download/ENCFF185XRG.bed.gz\n",
    "# https://www.encodeproject.org/files/ENCFF205FNC/@@download/ENCFF205FNC.bam\n",
    "\n",
    "# H3K27ac ChIP-seq\n",
    "# ENCSR000AKP\n",
    "# https://www.encodeproject.org/files/ENCFF849TDM/@@download/ENCFF849TDM.bigWig\n",
    "# rep1: https://www.encodeproject.org/files/ENCFF121RHF/@@download/ENCFF121RHF.bam\n",
    "# rep2: https://www.encodeproject.org/files/ENCFF907MNY/@@download/ENCFF907MNY.bam"
   ]
  },
  {
   "cell_type": "markdown",
   "id": "27f35ee5-1cd1-48da-9122-437a408863c0",
   "metadata": {},
   "source": [
    "### Hi-C"
   ]
  },
  {
   "cell_type": "code",
   "execution_count": null,
   "id": "b612cb3e-77c9-4364-8fe0-7436da5f5b9e",
   "metadata": {},
   "outputs": [],
   "source": [
    "# ENCSR479XDG\n",
    "# rep1/2: https://www.encodeproject.org/files/ENCFF621AIY/@@download/ENCFF621AIY.hic"
   ]
  },
  {
   "cell_type": "markdown",
   "id": "a9ba1cda-5f80-4467-9fb1-d1355ca521f1",
   "metadata": {},
   "source": [
    "### RNA-seq"
   ]
  },
  {
   "cell_type": "code",
   "execution_count": null,
   "id": "4a298246-3d85-4b4c-85f8-27aa8ba806e4",
   "metadata": {},
   "outputs": [],
   "source": [
    "# Get processed TPM file from the older version of ABC model github\n",
    "# https://raw.githubusercontent.com/broadinstitute/ABC-Enhancer-Gene-Prediction/refs/heads/master/example_chr22/input_data/Expression/K562.ENCFF934YBO.TPM.txt"
   ]
  },
  {
   "cell_type": "markdown",
   "id": "ed1c7d23-b3e6-445e-ad9d-d324f859d7db",
   "metadata": {},
   "source": [
    "### TF ChIP-seq data"
   ]
  },
  {
   "cell_type": "code",
   "execution_count": 22,
   "id": "6e5c35b5-b3ed-4c6a-ac88-364b662c01ca",
   "metadata": {
    "execution": {
     "iopub.execute_input": "2024-10-27T16:45:05.309826Z",
     "iopub.status.busy": "2024-10-27T16:45:05.309432Z",
     "iopub.status.idle": "2024-10-27T16:45:05.422448Z",
     "shell.execute_reply": "2024-10-27T16:45:05.421924Z",
     "shell.execute_reply.started": "2024-10-27T16:45:05.309803Z"
    },
    "tags": []
   },
   "outputs": [
    {
     "data": {
      "text/html": [
       "<div>\n",
       "<style scoped>\n",
       "    .dataframe tbody tr th:only-of-type {\n",
       "        vertical-align: middle;\n",
       "    }\n",
       "\n",
       "    .dataframe tbody tr th {\n",
       "        vertical-align: top;\n",
       "    }\n",
       "\n",
       "    .dataframe thead th {\n",
       "        text-align: right;\n",
       "    }\n",
       "</style>\n",
       "<table border=\"1\" class=\"dataframe\">\n",
       "  <thead>\n",
       "    <tr style=\"text-align: right;\">\n",
       "      <th></th>\n",
       "      <th>File accession</th>\n",
       "      <th>File format</th>\n",
       "      <th>File type</th>\n",
       "      <th>File format type</th>\n",
       "      <th>Output type</th>\n",
       "      <th>File assembly</th>\n",
       "      <th>Experiment accession</th>\n",
       "      <th>Assay</th>\n",
       "      <th>Donor(s)</th>\n",
       "      <th>Biosample term id</th>\n",
       "      <th>...</th>\n",
       "      <th>Genome annotation</th>\n",
       "      <th>Platform</th>\n",
       "      <th>Controlled by</th>\n",
       "      <th>File Status</th>\n",
       "      <th>s3_uri</th>\n",
       "      <th>File analysis title</th>\n",
       "      <th>File analysis status</th>\n",
       "      <th>Audit WARNING</th>\n",
       "      <th>Audit NOT_COMPLIANT</th>\n",
       "      <th>Audit ERROR</th>\n",
       "    </tr>\n",
       "  </thead>\n",
       "  <tbody>\n",
       "    <tr>\n",
       "      <th>0</th>\n",
       "      <td>ENCFF983BOB</td>\n",
       "      <td>bigWig</td>\n",
       "      <td>bigWig</td>\n",
       "      <td>NaN</td>\n",
       "      <td>signal p-value</td>\n",
       "      <td>GRCh38</td>\n",
       "      <td>ENCSR000ATW</td>\n",
       "      <td>TF ChIP-seq</td>\n",
       "      <td>/human-donors/ENCDO000AAD/</td>\n",
       "      <td>EFO:0002067</td>\n",
       "      <td>...</td>\n",
       "      <td>NaN</td>\n",
       "      <td>NaN</td>\n",
       "      <td>NaN</td>\n",
       "      <td>released</td>\n",
       "      <td>s3://encode-public/2021/01/07/779fe20b-09af-4c...</td>\n",
       "      <td>ENCODE4 v1.6.1 GRCh38</td>\n",
       "      <td>released</td>\n",
       "      <td>low read depth, inconsistent platforms, low re...</td>\n",
       "      <td>poor library complexity, severe bottlenecking</td>\n",
       "      <td>extremely low read depth</td>\n",
       "    </tr>\n",
       "    <tr>\n",
       "      <th>1</th>\n",
       "      <td>ENCFF522HZT</td>\n",
       "      <td>bed narrowPeak</td>\n",
       "      <td>bed</td>\n",
       "      <td>narrowPeak</td>\n",
       "      <td>IDR thresholded peaks</td>\n",
       "      <td>GRCh38</td>\n",
       "      <td>ENCSR000ATW</td>\n",
       "      <td>TF ChIP-seq</td>\n",
       "      <td>/human-donors/ENCDO000AAD/</td>\n",
       "      <td>EFO:0002067</td>\n",
       "      <td>...</td>\n",
       "      <td>NaN</td>\n",
       "      <td>NaN</td>\n",
       "      <td>NaN</td>\n",
       "      <td>released</td>\n",
       "      <td>s3://encode-public/2021/01/07/42310e87-3e57-44...</td>\n",
       "      <td>ENCODE4 v1.6.1 GRCh38</td>\n",
       "      <td>released</td>\n",
       "      <td>low read depth, inconsistent platforms, low re...</td>\n",
       "      <td>poor library complexity, severe bottlenecking</td>\n",
       "      <td>extremely low read depth</td>\n",
       "    </tr>\n",
       "  </tbody>\n",
       "</table>\n",
       "<p>2 rows × 58 columns</p>\n",
       "</div>"
      ],
      "text/plain": [
       "  File accession     File format File type File format type  \\\n",
       "0    ENCFF983BOB          bigWig    bigWig              NaN   \n",
       "1    ENCFF522HZT  bed narrowPeak       bed       narrowPeak   \n",
       "\n",
       "             Output type File assembly Experiment accession        Assay  \\\n",
       "0         signal p-value        GRCh38          ENCSR000ATW  TF ChIP-seq   \n",
       "1  IDR thresholded peaks        GRCh38          ENCSR000ATW  TF ChIP-seq   \n",
       "\n",
       "                     Donor(s) Biosample term id  ... Genome annotation  \\\n",
       "0  /human-donors/ENCDO000AAD/       EFO:0002067  ...               NaN   \n",
       "1  /human-donors/ENCDO000AAD/       EFO:0002067  ...               NaN   \n",
       "\n",
       "  Platform Controlled by File Status  \\\n",
       "0      NaN           NaN    released   \n",
       "1      NaN           NaN    released   \n",
       "\n",
       "                                              s3_uri    File analysis title  \\\n",
       "0  s3://encode-public/2021/01/07/779fe20b-09af-4c...  ENCODE4 v1.6.1 GRCh38   \n",
       "1  s3://encode-public/2021/01/07/42310e87-3e57-44...  ENCODE4 v1.6.1 GRCh38   \n",
       "\n",
       "  File analysis status                                      Audit WARNING  \\\n",
       "0             released  low read depth, inconsistent platforms, low re...   \n",
       "1             released  low read depth, inconsistent platforms, low re...   \n",
       "\n",
       "                             Audit NOT_COMPLIANT               Audit ERROR  \n",
       "0  poor library complexity, severe bottlenecking  extremely low read depth  \n",
       "1  poor library complexity, severe bottlenecking  extremely low read depth  \n",
       "\n",
       "[2 rows x 58 columns]"
      ]
     },
     "execution_count": 22,
     "metadata": {},
     "output_type": "execute_result"
    }
   ],
   "source": [
    "# ENCODE TF ChIP-seq data actually also covers non-TF proteins\n",
    "\n",
    "# When a set of experiments have been selected, click on the \"Download\" button to download a \"files.txt\" file that contains a list of URLs. The first URL in \"files.txt\" is \"metadata.tsv\", a file described below that contains all the experimental metadata for the files resulting from the search. The remaining URLs in files.txt are links that will download each ENCFF accessioned file.\n",
    "\n",
    "# https://www.encodeproject.org/metadata/?control_type%21=%2A&status=released&perturbed=false&assay_title=TF+ChIP-seq&replicates.library.biosample.donor.organism.scientific_name=Homo+sapiens&biosample_ontology.term_name=K562&assembly=GRCh38&files.file_type=bed+narrowPeak&type=Experiment&files.analyses.status=released&files.preferred_default=true\n",
    "\n",
    "inputfile = f\"{PROJECT_DIR_r}ENCODE/metadata.tsv\"\n",
    "df = pd.read_table(inputfile)\n",
    "df.head(2)"
   ]
  },
  {
   "cell_type": "code",
   "execution_count": 12,
   "id": "2160cb16-c150-4cc9-959a-f3af582e0139",
   "metadata": {
    "execution": {
     "iopub.execute_input": "2024-10-17T18:27:39.351328Z",
     "iopub.status.busy": "2024-10-17T18:27:39.350662Z",
     "iopub.status.idle": "2024-10-17T18:27:39.390452Z",
     "shell.execute_reply": "2024-10-17T18:27:39.389232Z",
     "shell.execute_reply.started": "2024-10-17T18:27:39.351261Z"
    }
   },
   "outputs": [
    {
     "data": {
      "text/plain": [
       "469"
      ]
     },
     "execution_count": 12,
     "metadata": {},
     "output_type": "execute_result"
    }
   ],
   "source": [
    "# Somehow, hg19 is found in meta file despite the selection of \"GRCh38\"\n",
    "# Get rid of datasets with treatments & modifications\n",
    "\n",
    "columns = [c for c in df.columns if (\"treatment\" in c or \"genetic modifications\" in c or c == \"Library depleted in\")]\n",
    "filtered_df = df[(df[\"File assembly\"]==\"GRCh38\") & (df[columns].isna().all(axis=1)) & (df[\"File type\"]==\"bed\")]\n",
    "len(filtered_df)"
   ]
  },
  {
   "cell_type": "code",
   "execution_count": 16,
   "id": "036422c5-2607-46bc-9692-afdd3794d13c",
   "metadata": {
    "execution": {
     "iopub.execute_input": "2024-10-17T18:28:22.314095Z",
     "iopub.status.busy": "2024-10-17T18:28:22.313462Z",
     "iopub.status.idle": "2024-10-17T18:28:22.363547Z",
     "shell.execute_reply": "2024-10-17T18:28:22.362336Z",
     "shell.execute_reply.started": "2024-10-17T18:28:22.314045Z"
    },
    "scrolled": true
   },
   "outputs": [],
   "source": [
    "# Download all files (.bed.gz)\n",
    "# https://www.encodeproject.org/help/batch-download/\n",
    "# xargs -n 1 curl -O -L < download_ChIP.txt\n",
    "\n",
    "outputfile = f\"{PROJECT_DIR_r}download_ChIP.txt\"\n",
    "df_url = pd.DataFrame(list(filtered_df[\"File download URL\"]))\n",
    "df_url.to_csv(outputfile, sep=\"\\t\", index=False, header=None)"
   ]
  },
  {
   "cell_type": "code",
   "execution_count": 13,
   "id": "d729f847-dbcb-48df-b71a-a678e7e2d097",
   "metadata": {
    "execution": {
     "iopub.execute_input": "2024-10-17T18:28:12.259163Z",
     "iopub.status.busy": "2024-10-17T18:28:12.258534Z",
     "iopub.status.idle": "2024-10-17T18:28:12.266100Z",
     "shell.execute_reply": "2024-10-17T18:28:12.264920Z",
     "shell.execute_reply.started": "2024-10-17T18:28:12.259114Z"
    },
    "tags": []
   },
   "outputs": [],
   "source": [
    "acc = list(filtered_df[\"File accession\"])\n",
    "target = [tf.split(\"-human\")[0] for tf in list(filtered_df[\"Experiment target\"])]\n",
    "acc_target = dict(zip(acc, target))"
   ]
  },
  {
   "cell_type": "code",
   "execution_count": 14,
   "id": "f50ca26c-de14-4585-bf44-6f72050dc7a2",
   "metadata": {
    "execution": {
     "iopub.execute_input": "2024-10-17T18:28:12.887698Z",
     "iopub.status.busy": "2024-10-17T18:28:12.887088Z",
     "iopub.status.idle": "2024-10-17T18:28:12.895145Z",
     "shell.execute_reply": "2024-10-17T18:28:12.894056Z",
     "shell.execute_reply.started": "2024-10-17T18:28:12.887650Z"
    }
   },
   "outputs": [
    {
     "data": {
      "text/plain": [
       "(469, 311)"
      ]
     },
     "execution_count": 14,
     "metadata": {},
     "output_type": "execute_result"
    }
   ],
   "source": [
    "# Some targets have multiple ChIP-seq experiments/files available\n",
    "# For the follow-up analysis (see Fig.1_supps/4.1.Fig1e.SuppFig1d.ChIP_enrichment.ipynb), we treat each experiment independently\n",
    "\n",
    "len(acc_target), len(set(acc_target.values()))"
   ]
  },
  {
   "cell_type": "code",
   "execution_count": 15,
   "id": "6131913e-4b84-427e-b882-d890fcd07c8a",
   "metadata": {
    "execution": {
     "iopub.execute_input": "2024-10-17T18:28:16.508936Z",
     "iopub.status.busy": "2024-10-17T18:28:16.508340Z",
     "iopub.status.idle": "2024-10-17T18:28:16.519935Z",
     "shell.execute_reply": "2024-10-17T18:28:16.518833Z",
     "shell.execute_reply.started": "2024-10-17T18:28:16.508888Z"
    }
   },
   "outputs": [],
   "source": [
    "outputfile = f\"{PROJECT_DIR_r}acc_target.json\"\n",
    "with open(outputfile, \"w\") as f:\n",
    "\tjson.dump(acc_target, f)"
   ]
  },
  {
   "cell_type": "code",
   "execution_count": null,
   "id": "017b9640-b8b8-462a-92bd-ac91a1834867",
   "metadata": {},
   "outputs": [],
   "source": [
    "# Get bigwig files for examples (see Fig.1_supps/4-2.SuppFig1e.ChIP_examples.ipynb)\n",
    "\n",
    "# PHF8 ChIP-seq\n",
    "# https://www.encodeproject.org/files/ENCFF092HFK/@@download/ENCFF092HFK.bigWig\n",
    "\n",
    "# SMAD5 ChIP-seq\n",
    "# https://www.encodeproject.org/files/ENCFF094FAV/@@download/ENCFF094FAV.bigWig"
   ]
  },
  {
   "cell_type": "markdown",
   "id": "3f351af3-4aa7-48d2-ab59-2a9513619571",
   "metadata": {},
   "source": [
    "## HCT116"
   ]
  },
  {
   "cell_type": "code",
   "execution_count": null,
   "id": "85d584ae-7500-4e7b-babd-7a91336ee211",
   "metadata": {},
   "outputs": [],
   "source": [
    "# DNase-seq\n",
    "# https://www.encodeproject.org/files/ENCFF240LRP/@@download/ENCFF240LRP.bed.gz\n",
    "\n",
    "# CTCF ChIP-seq\n",
    "# https://www.encodeproject.org/files/ENCFF388PVO/@@download/ENCFF388PVO.bigWig\n",
    "# https://www.encodeproject.org/files/ENCFF832INR/@@download/ENCFF832INR.bed.gz\n",
    "\n",
    "# RAD21 ChIP-seq\n",
    "# https://www.encodeproject.org/files/ENCFF776IXR/@@download/ENCFF776IXR.bigWig"
   ]
  },
  {
   "cell_type": "code",
   "execution_count": null,
   "id": "109d73fd-2863-4d99-b2a6-9bbab20d80a2",
   "metadata": {},
   "outputs": [],
   "source": [
    "# CTCF ChIA-PET\n",
    "# https://www.encodeproject.org/files/ENCFF431BUN/@@download/ENCFF431BUN.bedpe.gz\n",
    "# Ruan lab ChIA-PET pipeline: https://www.encodeproject.org/pipelines/ENCPL169TBL/\n",
    "# Produce loop (bedpe) file: First, ChIA-PIPE filters out inter-chromosomal contacts and self-ligation PETs with genomic span less than 8 kbp. Then, the 5’ end of each inter-ligation PET is extended by 500 bp along the reference genome, which makes chromatin fragments closer to the actual protein binding position in DNA. Finally, ChIA-PIPE merges overlapping extended inter-ligation PETs into a cluster with the number of overlapped inter-ligation PET as a PET count of the loop. Loops with PET count =1 are called singletons and they filter them out to retain only highly confident frequent loops.\n",
    "\n",
    "# Hi-C\n",
    "# https://www.encodeproject.org/files/ENCFF573OPJ/@@download/ENCFF573OPJ.hic"
   ]
  },
  {
   "cell_type": "markdown",
   "id": "b49ba8eb-c2d2-4288-aa67-fafd56ca21ae",
   "metadata": {},
   "source": [
    "# Other data"
   ]
  },
  {
   "cell_type": "markdown",
   "id": "68d1352c-54ca-4a7c-8d99-776bb424e7d0",
   "metadata": {},
   "source": [
    "## Mappability"
   ]
  },
  {
   "cell_type": "code",
   "execution_count": null,
   "id": "f2868847-c20f-4ecd-b17e-e94911efcdb8",
   "metadata": {},
   "outputs": [],
   "source": [
    "# Paper: https://academic.oup.com/nar/article/46/20/e120/5086676\n",
    "\n",
    "# k24\n",
    "# http://hgdownload.soe.ucsc.edu/gbdb/hg38/hoffmanMappability/k24.Umap.MultiTrackMappability.bw\n",
    "# k36\n",
    "# http://hgdownload.soe.ucsc.edu/gbdb/hg38/hoffmanMappability/k36.Umap.MultiTrackMappability.bw\n",
    "# k50\n",
    "# http://hgdownload.soe.ucsc.edu/gbdb/hg38/hoffmanMappability/k50.Umap.MultiTrackMappability.bw"
   ]
  },
  {
   "cell_type": "markdown",
   "id": "03928381-3646-438c-ba1c-50d5bc645c2a",
   "metadata": {},
   "source": [
    "## phyloP"
   ]
  },
  {
   "cell_type": "code",
   "execution_count": 12,
   "id": "98bb85c5-1f09-447b-bedf-fddb18671404",
   "metadata": {
    "execution": {
     "iopub.execute_input": "2024-05-23T16:44:41.240493Z",
     "iopub.status.busy": "2024-05-23T16:44:41.231862Z",
     "iopub.status.idle": "2024-05-23T16:44:41.263922Z",
     "shell.execute_reply": "2024-05-23T16:44:41.261539Z",
     "shell.execute_reply.started": "2024-05-23T16:44:41.240463Z"
    },
    "tags": []
   },
   "outputs": [],
   "source": [
    "# http://hgdownload.cse.ucsc.edu/goldenPath/hg38/phyloP100way/hg38.phyloP100way.bw"
   ]
  },
  {
   "cell_type": "markdown",
   "id": "3648cf02-2472-4d32-9021-fc18f20d0709",
   "metadata": {},
   "source": [
    "## CTDS"
   ]
  },
  {
   "cell_type": "code",
   "execution_count": null,
   "id": "6442c8b4-0dc8-47ab-8e10-992be719fa9f",
   "metadata": {},
   "outputs": [],
   "source": [
    "# Paper: https://www.nature.com/articles/s41588-018-0062-7\n",
    "# The files were downloaded through the links below a few years ago; Unfortunately, these links are no longer active...\n",
    "# http://www.hli-opendata.com/noncoding/README_noncoding_HLIopendata_20171019.txt\n",
    "# http://www.hli-opendata.com/noncoding/coord_CDTS_percentile_N7794unrelated.txt.gz"
   ]
  },
  {
   "cell_type": "code",
   "execution_count": 23,
   "id": "6a2f7f7f-66c5-44c8-816b-132f9b02769d",
   "metadata": {
    "execution": {
     "iopub.execute_input": "2024-10-27T16:46:31.465093Z",
     "iopub.status.busy": "2024-10-27T16:46:31.464734Z",
     "iopub.status.idle": "2024-10-27T16:46:31.682702Z",
     "shell.execute_reply": "2024-10-27T16:46:31.681795Z",
     "shell.execute_reply.started": "2024-10-27T16:46:31.465073Z"
    }
   },
   "outputs": [
    {
     "name": "stdout",
     "output_type": "stream",
     "text": [
      "chromosome\tstart\tend\tCDTS\tpercentile\n",
      "chr1\t821620\t821630\t-2.76477\t29\n",
      "\n",
      "gzip: stdout: Broken pipe\n"
     ]
    }
   ],
   "source": [
    "f1 = f\"{PROJECT_DIR_r}other/CDTS/coord_CDTS_percentile_N7794unrelated.txt.gz\"\n",
    "! zcat $f1 | head -n 2 2>/dev/null"
   ]
  },
  {
   "cell_type": "code",
   "execution_count": 24,
   "id": "aa7d5ec7-fce7-402d-a698-9fe5185c163a",
   "metadata": {
    "execution": {
     "iopub.execute_input": "2024-10-27T16:46:41.854450Z",
     "iopub.status.busy": "2024-10-27T16:46:41.854041Z",
     "iopub.status.idle": "2024-10-27T16:48:43.966676Z",
     "shell.execute_reply": "2024-10-27T16:48:43.966085Z",
     "shell.execute_reply.started": "2024-10-27T16:46:41.854417Z"
    }
   },
   "outputs": [
    {
     "data": {
      "text/plain": [
       "CompletedProcess(args=\"zcat /fs/cbsuhy02/storage/yc2553/yc2553/projects/TRE_directionality/resources/other/CDTS/coord_CDTS_percentile_N7794unrelated.txt.gz | awk -v OFS='\\\\t' 'NR>1 {print $1,$2,$3,$4}' > /fs/cbsuhy02/storage/yc2553/yc2553/projects/TRE_directionality/resources/other/CDTS/coord_CDTS_percentile_N7794unrelated.bg\", returncode=0)"
      ]
     },
     "execution_count": 24,
     "metadata": {},
     "output_type": "execute_result"
    }
   ],
   "source": [
    "# txt --> bedGraph\n",
    "\n",
    "f2 = f\"{PROJECT_DIR_r}other/CDTS/coord_CDTS_percentile_N7794unrelated.bg\"\n",
    "commands = f\"zcat {f1} | awk -v OFS='\\\\t' 'NR>1 {{print $1,$2,$3,$4}}' > {f2}\"\n",
    "subprocess.run(commands, shell=True, check=True)"
   ]
  },
  {
   "cell_type": "code",
   "execution_count": 15,
   "id": "54233d0d-0b58-4a0f-aacb-e7796ef1507d",
   "metadata": {
    "execution": {
     "iopub.execute_input": "2024-10-24T04:09:20.721897Z",
     "iopub.status.busy": "2024-10-24T04:09:20.721479Z",
     "iopub.status.idle": "2024-10-24T04:14:46.175183Z",
     "shell.execute_reply": "2024-10-24T04:14:46.173839Z",
     "shell.execute_reply.started": "2024-10-24T04:09:20.721874Z"
    }
   },
   "outputs": [],
   "source": [
    "# bedGraph --> bw\n",
    "\n",
    "chrom_sizes = f\"{PROJECT_DIR_r}genomes/human/hg38.chrom.sizes.filtered\"\n",
    "f3 = f\"{PROJECT_DIR_r}other/CDTS/coord_CDTS_percentile_N7794unrelated.bw\"\n",
    "! bedGraphToBigWig $f2 $chrom_sizes $f3"
   ]
  },
  {
   "cell_type": "markdown",
   "id": "6fb765fa-6a28-49bd-90b4-97a2b8622a86",
   "metadata": {},
   "source": [
    "## Age"
   ]
  },
  {
   "cell_type": "code",
   "execution_count": null,
   "id": "6235e6e3-9ad8-41ab-b2a1-102523fdfec1",
   "metadata": {},
   "outputs": [],
   "source": [
    "# Syntenic aging strategy: refer to https://academic.oup.com/mbe/article/38/9/3681/6273355"
   ]
  },
  {
   "cell_type": "markdown",
   "id": "571cb390-294f-4103-9064-5a32ad0293b6",
   "metadata": {},
   "source": [
    "### Clade timing"
   ]
  },
  {
   "cell_type": "code",
   "execution_count": 19,
   "id": "b65b1410-04c1-4147-9ef5-56732119493c",
   "metadata": {
    "execution": {
     "iopub.execute_input": "2024-10-27T16:44:27.137730Z",
     "iopub.status.busy": "2024-10-27T16:44:27.137362Z",
     "iopub.status.idle": "2024-10-27T16:44:27.141457Z",
     "shell.execute_reply": "2024-10-27T16:44:27.140944Z",
     "shell.execute_reply.started": "2024-10-27T16:44:27.137705Z"
    }
   },
   "outputs": [],
   "source": [
    "# MYA: million years ago\n",
    "\n",
    "clades = {\"None\": \"NA\",\n",
    "\t\t  \"Homo_sapiens\": 0,\n",
    "\t\t  \"Primate\": 72,\n",
    "\t\t  \"Euarchontoglires\": 90,\n",
    "\t\t  \"Boreoeutheria\": 96,\n",
    "\t\t  \"Eutheria\": 105,\n",
    "\t\t  \"Theria\": 159,\n",
    "\t\t  \"Mammalia\": 177,\n",
    "\t\t  \"Amniote\": 312,\n",
    "\t\t  \"Tetrapod\": 352,\n",
    "\t\t  \"Vertebrate\": 615}"
   ]
  },
  {
   "cell_type": "code",
   "execution_count": 26,
   "id": "17271396-97fc-4722-9249-0ad6d860c668",
   "metadata": {
    "execution": {
     "iopub.execute_input": "2024-10-27T17:01:24.550886Z",
     "iopub.status.busy": "2024-10-27T17:01:24.550490Z",
     "iopub.status.idle": "2024-10-27T17:01:24.601047Z",
     "shell.execute_reply": "2024-10-27T17:01:24.600518Z",
     "shell.execute_reply.started": "2024-10-27T17:01:24.550860Z"
    }
   },
   "outputs": [],
   "source": [
    "outputfile = f\"{PROJECT_DIR_r}other/age/clades.json\"\n",
    "with open(outputfile, \"w\") as f:\n",
    "\tjson.dump(clades, f)"
   ]
  },
  {
   "cell_type": "markdown",
   "id": "9333292e-4a72-4bc1-abb4-77f9bcb2c57b",
   "metadata": {},
   "source": [
    "### Group species into 10 clades"
   ]
  },
  {
   "cell_type": "markdown",
   "id": "a1310c70-1d10-40a5-886e-193280e76fc2",
   "metadata": {},
   "source": [
    "Here age categories are marked in yellow and the name of subsets in multiz100way-README.txt are marked in red."
   ]
  },
  {
   "attachments": {
    "36eaa72f-6ccd-4cf8-85bb-9754c2eb1369.png": {
     "image/png": "[encoded data removed]"
    }
   },
   "cell_type": "markdown",
   "id": "0222c0fe-59a4-49f3-bea2-59c9389f5eac",
   "metadata": {},
   "source": [
    "<img src=\"attachment:36eaa72f-6ccd-4cf8-85bb-9754c2eb1369.png\" width=\"800\"/>"
   ]
  },
  {
   "cell_type": "code",
   "execution_count": 64,
   "id": "04a5ecff-e8c2-4e68-8000-dae2eff5fa1e",
   "metadata": {
    "execution": {
     "iopub.execute_input": "2024-10-27T17:18:30.366665Z",
     "iopub.status.busy": "2024-10-27T17:18:30.366290Z",
     "iopub.status.idle": "2024-10-27T17:18:30.371771Z",
     "shell.execute_reply": "2024-10-27T17:18:30.371243Z",
     "shell.execute_reply.started": "2024-10-27T17:18:30.366643Z"
    }
   },
   "outputs": [],
   "source": [
    "# http://hgdownload.cse.ucsc.edu/goldenPath/hg38/multiz100way/README.txt\n",
    "\n",
    "inputfile = f\"{PROJECT_DIR_r2}UCSC/multiz100way/hg38/README.txt\"\n",
    "temp = defaultdict(set)\n",
    "versions = {}\n",
    "with DelimitedReader(inputfile) as dr:\n",
    "\tfor cols in dr:\n",
    "\t\tif \"==\" in cols[0]:\n",
    "\t\t\t# e.g., Primate\n",
    "\t\t\tcategory = cols[0].split()[1]\n",
    "\t\tif len(cols[0]) > 100:\n",
    "\t\t\t# e.g., Human\n",
    "\t\t\tspecies = cols[0][:24].strip()\n",
    "\t\t\t# e.g., \"hg38\"\n",
    "\t\t\tversion = cols[0][66:112].strip().split(\"/\")[-1]\n",
    "\t\t\tversions[version] = species\n",
    "\t\t\ttemp[category].add(species)"
   ]
  },
  {
   "cell_type": "code",
   "execution_count": 65,
   "id": "34af541a-347d-4f22-828e-64b46ea5f1e4",
   "metadata": {
    "execution": {
     "iopub.execute_input": "2024-10-27T17:18:32.822132Z",
     "iopub.status.busy": "2024-10-27T17:18:32.821735Z",
     "iopub.status.idle": "2024-10-27T17:18:32.824814Z",
     "shell.execute_reply": "2024-10-27T17:18:32.824283Z",
     "shell.execute_reply.started": "2024-10-27T17:18:32.822110Z"
    },
    "tags": []
   },
   "outputs": [],
   "source": [
    "# Re-organize the categories\n",
    "\n",
    "categories = defaultdict(set)"
   ]
  },
  {
   "cell_type": "code",
   "execution_count": 66,
   "id": "c1692e16-f3ec-423c-be48-53a053ceed04",
   "metadata": {
    "execution": {
     "iopub.execute_input": "2024-10-27T17:18:33.193686Z",
     "iopub.status.busy": "2024-10-27T17:18:33.192867Z",
     "iopub.status.idle": "2024-10-27T17:18:33.197366Z",
     "shell.execute_reply": "2024-10-27T17:18:33.196752Z",
     "shell.execute_reply.started": "2024-10-27T17:18:33.193637Z"
    },
    "tags": []
   },
   "outputs": [],
   "source": [
    "categories[\"Homo_sapiens\"] = {\"Human\"}\n",
    "for k in temp[\"Primate\"]:\n",
    "\tif k != \"Human\":\n",
    "\t\tcategories[\"Primate\"].add(k)\n",
    "categories[\"Euarchontoglires\"] = temp[\"Euarchontoglires\"]\n",
    "categories[\"Boreoeutheria\"] = temp[\"Laurasiatheria\"]\n",
    "categories[\"Eutheria\"] = temp[\"Afrotheria\"]"
   ]
  },
  {
   "cell_type": "code",
   "execution_count": 71,
   "id": "c4a38ebd-088d-4690-b214-65e54e5d1dfc",
   "metadata": {
    "execution": {
     "iopub.execute_input": "2024-10-27T17:18:36.897480Z",
     "iopub.status.busy": "2024-10-27T17:18:36.896928Z",
     "iopub.status.idle": "2024-10-27T17:18:36.900183Z",
     "shell.execute_reply": "2024-10-27T17:18:36.899664Z",
     "shell.execute_reply.started": "2024-10-27T17:18:36.897457Z"
    },
    "tags": []
   },
   "outputs": [],
   "source": [
    "# Divide \"Mammal\" into three categories\n",
    "# \"Armadillo\": Xenarthra - Eutheria\n",
    "# \"Opossum\", \"Tasmanian devil\", \"Wallaby\": Metatheria - Theria\n",
    "# \"Platypus\": Prototheria - Mammalia\n",
    "\n",
    "categories[\"Eutheria\"].add(\"Armadillo\")\n",
    "categories[\"Theria\"] = {\"Opossum\", \"Tasmanian devil\", \"Wallaby\"}\n",
    "categories[\"Mammalia\"] = {\"Platypus\"}\n",
    "categories[\"Amniote\"] = temp[\"Aves\"]"
   ]
  },
  {
   "cell_type": "code",
   "execution_count": 75,
   "id": "3e16ff78-7bca-4ec4-b97e-07b7ab6ae3e3",
   "metadata": {
    "execution": {
     "iopub.execute_input": "2024-10-27T17:18:50.572396Z",
     "iopub.status.busy": "2024-10-27T17:18:50.571912Z",
     "iopub.status.idle": "2024-10-27T17:18:50.575373Z",
     "shell.execute_reply": "2024-10-27T17:18:50.574842Z",
     "shell.execute_reply.started": "2024-10-27T17:18:50.572374Z"
    },
    "tags": []
   },
   "outputs": [],
   "source": [
    "# Divide \"Sarcopterygii\" into tetrapod and non-tetrapod\n",
    "# \"American alligator\": tetrapod\n",
    "# \"Chinese softshell turtle\": tetrapod\n",
    "# \"Coelacanth\": non-tetrapod\n",
    "# \"Green seaturtle\": tetrapod\n",
    "# \"Lizard\": tetrapod\n",
    "# \"Painted turtle\": tetrapod\n",
    "# \"Spiny softshell turtle\": tetrapod\n",
    "# \"X. tropicalis\": tetrapod\n",
    "\n",
    "for k in temp[\"Sarcopterygii\"]:\n",
    "\tif k != \"Coelacanth\":\n",
    "\t\tcategories[\"Tetrapod\"].add(k)\n",
    "categories[\"Vertebrate\"] = temp[\"Fish\"]\n",
    "categories[\"Vertebrate\"].add(\"Coelacanth\")"
   ]
  },
  {
   "cell_type": "code",
   "execution_count": 80,
   "id": "868e2efd-074d-4d0a-b3ce-37c13fd90d9e",
   "metadata": {
    "execution": {
     "iopub.execute_input": "2024-10-27T17:20:27.244137Z",
     "iopub.status.busy": "2024-10-27T17:20:27.243550Z",
     "iopub.status.idle": "2024-10-27T17:20:27.248621Z",
     "shell.execute_reply": "2024-10-27T17:20:27.248091Z",
     "shell.execute_reply.started": "2024-10-27T17:20:27.244115Z"
    },
    "scrolled": true,
    "tags": []
   },
   "outputs": [],
   "source": [
    "outputfile = f\"{PROJECT_DIR_r}other/age/MRCA_categories_100way.json\"\n",
    "categories = defaultdict(list, {key: list(value) for key, value in categories.items()})\n",
    "with open(outputfile, \"w\") as f:\n",
    "\tjson.dump(categories, f)"
   ]
  },
  {
   "cell_type": "markdown",
   "id": "938cdf67-726e-49e7-ab48-095bb6eab6e2",
   "metadata": {},
   "source": [
    "### Get syntenic blocks"
   ]
  },
  {
   "cell_type": "code",
   "execution_count": null,
   "id": "49668d58-df09-4cd8-b01a-a01442ab6105",
   "metadata": {},
   "outputs": [],
   "source": [
    "# http://hgdownload.cse.ucsc.edu/goldenpath/hg38/multiz100way/maf/\n",
    "# The maf/chr*.maf.gz files each contain all the alignments to that particular human chromosome, with additional annotations to indicate gap context, and genomic breaks for the sequence in the underlying genome assemblies."
   ]
  },
  {
   "cell_type": "code",
   "execution_count": 89,
   "id": "f5c70f91-3927-4a16-9b25-ae5090f3f731",
   "metadata": {
    "execution": {
     "iopub.execute_input": "2024-10-27T17:52:50.933498Z",
     "iopub.status.busy": "2024-10-27T17:52:50.933122Z",
     "iopub.status.idle": "2024-10-27T17:52:50.939194Z",
     "shell.execute_reply": "2024-10-27T17:52:50.938657Z",
     "shell.execute_reply.started": "2024-10-27T17:52:50.933477Z"
    }
   },
   "outputs": [],
   "source": [
    "# Each syntenic block was assigned an age based on the most recent common ancestor (MRCA) of the species present in the alignment block of the UCSC species tree model.\n",
    "\n",
    "def get_syntenic_blocks(inputfile, outputfile, clades):\n",
    "\twith DelimitedWriter(outputfile) as dw:\n",
    "\t\twith gzip.open(inputfile, \"rt\") as f:\n",
    "\t\t\tfor multiple_alignment in AlignIO.parse(f, \"maf\"):\n",
    "\t\t\t\tall_species = []\n",
    "\t\t\t\tfor seqrec in multiple_alignment:\n",
    "\t\t\t\t\tversion = seqrec.id.split(\".\")[0]\n",
    "\t\t\t\t\tcategory = categories[versions[version]]\n",
    "\t\t\t\t\tall_species.append(clades.index(category))\n",
    "\t\t\t\t\tif version == \"hg38\":\n",
    "\t\t\t\t\t\t# 0-based\n",
    "\t\t\t\t\t\tstart = seqrec.annotations[\"start\"]\n",
    "\t\t\t\t\t\tsize = seqrec.annotations[\"size\"]\n",
    "\t\t\t\t\t\tstrand = seqrec.annotations[\"strand\"]\n",
    "\t\t\t\t\t\tsrcSize = seqrec.annotations[\"srcSize\"]\n",
    "\t\t\t\t\t\tchrom = seqrec.id.split(\".\")[1]\n",
    "\t\t\t\t\t\t# \"+\" strand\n",
    "\t\t\t\t\t\tif strand == 1:\n",
    "\t\t\t\t\t\t\tend = start + size\n",
    "\t\t\t\t\t\t# \"-\" strand: http://genomewiki.ucsc.edu/index.php/Coordinate_Transforms\n",
    "\t\t\t\t\t\telse:\n",
    "\t\t\t\t\t\t\tstart_temp = start\n",
    "\t\t\t\t\t\t\tend_temp = start_temp + size\n",
    "\t\t\t\t\t\t\tstart = srcSize - end_temp\n",
    "\t\t\t\t\t\t\tend = srcSize - start_temp\n",
    "\t\t\t\tage = clades[max(all_species)]\n",
    "\t\t\t\tdw.write([chrom, start, end, age])"
   ]
  },
  {
   "cell_type": "code",
   "execution_count": 425,
   "id": "de97c1a4-0a80-4c42-9a40-c06663f3cdd1",
   "metadata": {
    "execution": {
     "iopub.execute_input": "2024-06-30T00:07:52.844191Z",
     "iopub.status.busy": "2024-06-30T00:07:52.843659Z",
     "iopub.status.idle": "2024-06-30T00:07:52.848871Z",
     "shell.execute_reply": "2024-06-30T00:07:52.848134Z",
     "shell.execute_reply.started": "2024-06-30T00:07:52.844157Z"
    },
    "tags": []
   },
   "outputs": [],
   "source": [
    "chroms = [f\"chr{n}\" for n in range(1, 23)]\n",
    "chroms.extend([\"chrX\"])"
   ]
  },
  {
   "cell_type": "code",
   "execution_count": 90,
   "id": "87f5b29d-6d3a-45f8-b170-7fb4dbf5e708",
   "metadata": {
    "execution": {
     "iopub.execute_input": "2024-10-27T17:55:59.224942Z",
     "iopub.status.busy": "2024-10-27T17:55:59.224579Z",
     "iopub.status.idle": "2024-10-27T17:55:59.227603Z",
     "shell.execute_reply": "2024-10-27T17:55:59.227084Z",
     "shell.execute_reply.started": "2024-10-27T17:55:59.224920Z"
    }
   },
   "outputs": [],
   "source": [
    "pwpool = ProcessWrapPool(len(chroms))\n",
    "\n",
    "for chrom in chroms:\n",
    "\tinputfile = f\"{PROJECT_DIR_r2}/UCSC/multiz100way/hg38/{chrom}.maf.gz\"\n",
    "\toutputfile = f\"{PROJECT_DIR_r2}/UCSC/multiz100way/hg38/{chrom}.bed\"\n",
    "\tpwpool.run(get_syntenic_blocks, args=[inputfile, outputfile, list(clades.keys())])"
   ]
  },
  {
   "cell_type": "code",
   "execution_count": 86,
   "id": "7ba4f4a5-e0aa-41a8-a9c7-3a6fa0be920f",
   "metadata": {
    "execution": {
     "iopub.execute_input": "2024-10-27T17:42:51.024454Z",
     "iopub.status.busy": "2024-10-27T17:42:51.024082Z",
     "iopub.status.idle": "2024-10-27T17:42:51.028088Z",
     "shell.execute_reply": "2024-10-27T17:42:51.027609Z",
     "shell.execute_reply.started": "2024-10-27T17:42:51.024432Z"
    },
    "tags": []
   },
   "outputs": [
    {
     "data": {
      "text/plain": [
       "23"
      ]
     },
     "execution_count": 86,
     "metadata": {},
     "output_type": "execute_result"
    }
   ],
   "source": [
    "len(pwpool.finished_tasks)"
   ]
  },
  {
   "cell_type": "code",
   "execution_count": 87,
   "id": "64ab8dad-6c7e-4ccc-81fa-8b210ae61062",
   "metadata": {
    "execution": {
     "iopub.execute_input": "2024-10-27T17:42:59.009463Z",
     "iopub.status.busy": "2024-10-27T17:42:59.008885Z",
     "iopub.status.idle": "2024-10-27T17:42:59.011880Z",
     "shell.execute_reply": "2024-10-27T17:42:59.011370Z",
     "shell.execute_reply.started": "2024-10-27T17:42:59.009443Z"
    }
   },
   "outputs": [],
   "source": [
    "pwpool.close()"
   ]
  },
  {
   "cell_type": "markdown",
   "id": "33b3cbde-59e2-466e-8412-138f848e825e",
   "metadata": {},
   "source": [
    "## TE"
   ]
  },
  {
   "cell_type": "code",
   "execution_count": 15,
   "id": "c0809ba6-c66e-441d-bb76-29a0c81fe9cc",
   "metadata": {
    "execution": {
     "iopub.execute_input": "2024-06-20T12:09:49.840366Z",
     "iopub.status.busy": "2024-06-20T12:09:49.839784Z",
     "iopub.status.idle": "2024-06-20T12:09:49.844192Z",
     "shell.execute_reply": "2024-06-20T12:09:49.843619Z",
     "shell.execute_reply.started": "2024-06-20T12:09:49.840332Z"
    }
   },
   "outputs": [],
   "source": [
    "# https://repeatmasker.org/genomes/hg38/RepeatMasker-rm405-db20140131/hg38.fa.out.gz\n",
    "# hg38 - Dec 2013 - RepeatMasker open-4.0.5 - Repeat Library 20140131"
   ]
  },
  {
   "cell_type": "code",
   "execution_count": 406,
   "id": "8099b7cc-74cf-4468-9978-041cb1623e3f",
   "metadata": {
    "execution": {
     "iopub.execute_input": "2024-06-29T23:27:32.008992Z",
     "iopub.status.busy": "2024-06-29T23:27:32.008001Z",
     "iopub.status.idle": "2024-06-29T23:29:47.072524Z",
     "shell.execute_reply": "2024-06-29T23:29:47.067742Z",
     "shell.execute_reply.started": "2024-06-29T23:27:32.008961Z"
    },
    "tags": []
   },
   "outputs": [],
   "source": [
    "# Convert the file into tab-delimited file\n",
    "\n",
    "inputfile = f\"{PROJECT_DIR_r}other/rmsk/hg38.fa.out.gz\"\n",
    "outputfile = f\"{PROJECT_DIR_r}other/rmsk/hg38.fa.tbl.gz\"\n",
    "with DelimitedWriter(outputfile) as dw:\n",
    "\tdw.write([\"SW score\", \"perc div.\", \"perc del.\", \"perc ins.\", \"genoName\", \"genoStart\", \"genoEnd\", \"genoLeft\", \n",
    "\t\t\t  \"strand\", \"repName\", \"repClass\", \"repFamily\", \"repStart\", \"repEnd\", \"repLeft\", \"id\"])\n",
    "\twith DelimitedReader(inputfile) as dr:\n",
    "\t\tfor cols in dr:\n",
    "\t\t\tif \"SW\" not in cols[0] and \"score\" not in cols[0]:\n",
    "\t\t\t\tcols2 = cols[0].split(\" \")\n",
    "\t\t\t\tcols2 = [c for c in cols2 if c != \"\"]\n",
    "\t\t\t\t# strand\n",
    "\t\t\t\tif cols2[8] == \"C\":\n",
    "\t\t\t\t\tcols2[8] = \"-\"\n",
    "\t\t\t\tif \"/\" in cols2[10]:\n",
    "\t\t\t\t\trepClass, repFamily = cols2[10].split(\"/\")\n",
    "\t\t\t\telse:\n",
    "\t\t\t\t\trepClass = cols2[10]\n",
    "\t\t\t\t\trepFamily = cols2[10]\n",
    "\t\t\t\tcols_final = cols2[:10] + [repClass, repFamily] + cols2[12:]\n",
    "\t\t\t\tdw.write(cols_final)"
   ]
  },
  {
   "cell_type": "code",
   "execution_count": 25,
   "id": "75075dcf-d588-408d-babf-54b2abd23196",
   "metadata": {
    "execution": {
     "iopub.execute_input": "2024-10-27T16:58:03.659343Z",
     "iopub.status.busy": "2024-10-27T16:58:03.658955Z",
     "iopub.status.idle": "2024-10-27T16:58:41.860680Z",
     "shell.execute_reply": "2024-10-27T16:58:41.860070Z",
     "shell.execute_reply.started": "2024-10-27T16:58:03.659321Z"
    },
    "tags": []
   },
   "outputs": [
    {
     "data": {
      "text/html": [
       "<div>\n",
       "<style scoped>\n",
       "    .dataframe tbody tr th:only-of-type {\n",
       "        vertical-align: middle;\n",
       "    }\n",
       "\n",
       "    .dataframe tbody tr th {\n",
       "        vertical-align: top;\n",
       "    }\n",
       "\n",
       "    .dataframe thead th {\n",
       "        text-align: right;\n",
       "    }\n",
       "</style>\n",
       "<table border=\"1\" class=\"dataframe\">\n",
       "  <thead>\n",
       "    <tr style=\"text-align: right;\">\n",
       "      <th></th>\n",
       "      <th>SW score</th>\n",
       "      <th>perc div.</th>\n",
       "      <th>perc del.</th>\n",
       "      <th>perc ins.</th>\n",
       "      <th>genoName</th>\n",
       "      <th>genoStart</th>\n",
       "      <th>genoEnd</th>\n",
       "      <th>genoLeft</th>\n",
       "      <th>strand</th>\n",
       "      <th>repName</th>\n",
       "      <th>repClass</th>\n",
       "      <th>repFamily</th>\n",
       "      <th>repStart</th>\n",
       "      <th>repEnd</th>\n",
       "      <th>repLeft</th>\n",
       "      <th>id</th>\n",
       "    </tr>\n",
       "  </thead>\n",
       "  <tbody>\n",
       "    <tr>\n",
       "      <th>0</th>\n",
       "      <td>463</td>\n",
       "      <td>1.3</td>\n",
       "      <td>0.6</td>\n",
       "      <td>1.7</td>\n",
       "      <td>chr1</td>\n",
       "      <td>10001</td>\n",
       "      <td>10468</td>\n",
       "      <td>(248945954)</td>\n",
       "      <td>+</td>\n",
       "      <td>(TAACCC)n</td>\n",
       "      <td>Simple_repeat</td>\n",
       "      <td>Simple_repeat</td>\n",
       "      <td>463</td>\n",
       "      <td>(0)</td>\n",
       "      <td>1.0</td>\n",
       "      <td>NaN</td>\n",
       "    </tr>\n",
       "    <tr>\n",
       "      <th>1</th>\n",
       "      <td>4005</td>\n",
       "      <td>11.3</td>\n",
       "      <td>21.5</td>\n",
       "      <td>1.3</td>\n",
       "      <td>chr1</td>\n",
       "      <td>10469</td>\n",
       "      <td>11447</td>\n",
       "      <td>(248944975)</td>\n",
       "      <td>-</td>\n",
       "      <td>TAR1</td>\n",
       "      <td>Satellite</td>\n",
       "      <td>telo</td>\n",
       "      <td>1712</td>\n",
       "      <td>483</td>\n",
       "      <td>2.0</td>\n",
       "      <td>NaN</td>\n",
       "    </tr>\n",
       "  </tbody>\n",
       "</table>\n",
       "</div>"
      ],
      "text/plain": [
       "   SW score  perc div.  perc del.  perc ins. genoName  genoStart  genoEnd  \\\n",
       "0       463        1.3        0.6        1.7     chr1      10001    10468   \n",
       "1      4005       11.3       21.5        1.3     chr1      10469    11447   \n",
       "\n",
       "      genoLeft strand    repName       repClass      repFamily  repStart  \\\n",
       "0  (248945954)      +  (TAACCC)n  Simple_repeat  Simple_repeat       463   \n",
       "1  (248944975)      -       TAR1      Satellite           telo      1712   \n",
       "\n",
       "  repEnd  repLeft  id  \n",
       "0    (0)      1.0 NaN  \n",
       "1    483      2.0 NaN  "
      ]
     },
     "execution_count": 25,
     "metadata": {},
     "output_type": "execute_result"
    }
   ],
   "source": [
    "inputfile = f\"{PROJECT_DIR_r}other/rmsk/hg38.fa.tbl.gz\"\n",
    "df_all = pd.read_table(inputfile)\n",
    "df_all.head(2)"
   ]
  },
  {
   "cell_type": "code",
   "execution_count": 429,
   "id": "ccba5ed5-7465-42ad-9c0a-d946285d5e6f",
   "metadata": {
    "execution": {
     "iopub.execute_input": "2024-06-30T00:08:05.423857Z",
     "iopub.status.busy": "2024-06-30T00:08:05.420339Z",
     "iopub.status.idle": "2024-06-30T00:08:05.973816Z",
     "shell.execute_reply": "2024-06-30T00:08:05.973192Z",
     "shell.execute_reply.started": "2024-06-30T00:08:05.423830Z"
    },
    "scrolled": true
   },
   "outputs": [
    {
     "data": {
      "text/plain": [
       "Counter({'SINE': 1861482,\n",
       "         'LINE': 1609790,\n",
       "         'LTR': 763158,\n",
       "         'Simple_repeat': 700455,\n",
       "         'DNA': 536363,\n",
       "         'Low_complexity': 103244,\n",
       "         'LTR?': 8525,\n",
       "         'Satellite': 7918,\n",
       "         'Unknown': 6523,\n",
       "         'Retroposon': 5827,\n",
       "         'snRNA': 4537,\n",
       "         'DNA?': 4383,\n",
       "         'tRNA': 2066,\n",
       "         'scRNA': 1931,\n",
       "         'rRNA': 1861,\n",
       "         'RC': 1822,\n",
       "         'srpRNA': 1428,\n",
       "         'RNA': 762,\n",
       "         'RC?': 435,\n",
       "         'SINE?': 6})"
      ]
     },
     "execution_count": 429,
     "metadata": {},
     "output_type": "execute_result"
    }
   ],
   "source": [
    "# https://genome.ucsc.edu/cgi-bin/hgTrackUi?g=rmsk\n",
    "# A \"?\" at the end of the \"Family\" or \"Class\" (for example, DNA?) signifies that the curator was unsure of the classification. At some point in the future, either the \"?\" will be removed or the classification will be changed.\n",
    "\n",
    "Counter(df_all[\"repClass\"])"
   ]
  },
  {
   "cell_type": "code",
   "execution_count": 426,
   "id": "a5100fa9-8532-48b5-a2e4-de3d4ae9b1ae",
   "metadata": {
    "execution": {
     "iopub.execute_input": "2024-06-30T00:07:53.695456Z",
     "iopub.status.busy": "2024-06-30T00:07:53.694919Z",
     "iopub.status.idle": "2024-06-30T00:07:54.144196Z",
     "shell.execute_reply": "2024-06-30T00:07:54.143333Z",
     "shell.execute_reply.started": "2024-06-30T00:07:53.695411Z"
    },
    "tags": []
   },
   "outputs": [],
   "source": [
    "TEclass = [\"SINE\", \"LINE\", \"LTR\", \"DNA\"]"
   ]
  },
  {
   "cell_type": "code",
   "execution_count": 427,
   "id": "013e5f20-c060-41cf-8414-94960f7d0cd6",
   "metadata": {
    "execution": {
     "iopub.execute_input": "2024-06-30T00:07:54.936008Z",
     "iopub.status.busy": "2024-06-30T00:07:54.935473Z",
     "iopub.status.idle": "2024-06-30T00:07:59.573147Z",
     "shell.execute_reply": "2024-06-30T00:07:59.571959Z",
     "shell.execute_reply.started": "2024-06-30T00:07:54.935965Z"
    },
    "tags": []
   },
   "outputs": [
    {
     "data": {
      "text/html": [
       "<div>\n",
       "<style scoped>\n",
       "    .dataframe tbody tr th:only-of-type {\n",
       "        vertical-align: middle;\n",
       "    }\n",
       "\n",
       "    .dataframe tbody tr th {\n",
       "        vertical-align: top;\n",
       "    }\n",
       "\n",
       "    .dataframe thead th {\n",
       "        text-align: right;\n",
       "    }\n",
       "</style>\n",
       "<table border=\"1\" class=\"dataframe\">\n",
       "  <thead>\n",
       "    <tr style=\"text-align: right;\">\n",
       "      <th></th>\n",
       "      <th>0</th>\n",
       "      <th>1</th>\n",
       "      <th>2</th>\n",
       "      <th>3</th>\n",
       "      <th>4</th>\n",
       "      <th>5</th>\n",
       "      <th>6</th>\n",
       "      <th>7</th>\n",
       "    </tr>\n",
       "  </thead>\n",
       "  <tbody>\n",
       "    <tr>\n",
       "      <th>2</th>\n",
       "      <td>chr1</td>\n",
       "      <td>11485</td>\n",
       "      <td>11676</td>\n",
       "      <td>-</td>\n",
       "      <td>L1MC5a</td>\n",
       "      <td>LINE</td>\n",
       "      <td>L1</td>\n",
       "      <td>21.2</td>\n",
       "    </tr>\n",
       "    <tr>\n",
       "      <th>3</th>\n",
       "      <td>chr1</td>\n",
       "      <td>11678</td>\n",
       "      <td>11780</td>\n",
       "      <td>-</td>\n",
       "      <td>MER5B</td>\n",
       "      <td>DNA</td>\n",
       "      <td>hAT-Charlie</td>\n",
       "      <td>29.4</td>\n",
       "    </tr>\n",
       "  </tbody>\n",
       "</table>\n",
       "</div>"
      ],
      "text/plain": [
       "      0      1      2  3       4     5            6     7\n",
       "2  chr1  11485  11676  -  L1MC5a  LINE           L1  21.2\n",
       "3  chr1  11678  11780  -   MER5B   DNA  hAT-Charlie  29.4"
      ]
     },
     "execution_count": 427,
     "metadata": {},
     "output_type": "execute_result"
    }
   ],
   "source": [
    "target_cols = [\"genoName\", \"genoStart\", \"genoEnd\", \"strand\", \"repName\", \"repClass\", \"repFamily\", \"perc div.\"]\n",
    "df_filtered = df_all[df_all[\"repClass\"].isin(TEclass) & df_all[\"genoName\"].isin(chroms)][target_cols]\n",
    "df_filtered.columns = [i for i in range(len(target_cols))]\n",
    "df_filtered.head(2)"
   ]
  },
  {
   "cell_type": "code",
   "execution_count": 428,
   "id": "29f67382-7b86-413f-833f-0a4dedbced6c",
   "metadata": {
    "execution": {
     "iopub.execute_input": "2024-06-30T00:07:59.576088Z",
     "iopub.status.busy": "2024-06-30T00:07:59.575665Z",
     "iopub.status.idle": "2024-06-30T00:07:59.581508Z",
     "shell.execute_reply": "2024-06-30T00:07:59.580903Z",
     "shell.execute_reply.started": "2024-06-30T00:07:59.576060Z"
    },
    "tags": []
   },
   "outputs": [
    {
     "data": {
      "text/plain": [
       "(5622516, 4565530)"
      ]
     },
     "execution_count": 428,
     "metadata": {},
     "output_type": "execute_result"
    }
   ],
   "source": [
    "len(df_all), len(df_filtered)"
   ]
  },
  {
   "cell_type": "code",
   "execution_count": 414,
   "id": "51740c6f-1cc7-464f-99e5-b0532092c06a",
   "metadata": {
    "execution": {
     "iopub.execute_input": "2024-06-29T23:52:27.692168Z",
     "iopub.status.busy": "2024-06-29T23:52:27.691669Z",
     "iopub.status.idle": "2024-06-29T23:53:23.832515Z",
     "shell.execute_reply": "2024-06-29T23:53:23.831380Z",
     "shell.execute_reply.started": "2024-06-29T23:52:27.692141Z"
    },
    "tags": []
   },
   "outputs": [],
   "source": [
    "outputfile = f\"{PROJECT_DIR_r}other/rmsk/TE_filtered.bed.gz\"\n",
    "df_filtered.to_csv(outputfile, sep=\"\\t\", index=False, header=False)"
   ]
  },
  {
   "cell_type": "markdown",
   "id": "e553dc7a-a8d2-446c-99a2-88017a19459a",
   "metadata": {},
   "source": [
    "## CRISPR"
   ]
  },
  {
   "cell_type": "code",
   "execution_count": null,
   "id": "6ffb4a61-279e-41c2-87eb-01c010335d16",
   "metadata": {},
   "outputs": [],
   "source": [
    "# A K562 CRISPR benchmarking dataset generated from combining results from different published experiments\n",
    "# https://github.com/EngreitzLab/CRISPR_comparison/blob/main/resources/crispr_data/EPCrisprBenchmark_ensemble_data_GRCh38.tsv.gz"
   ]
  },
  {
   "cell_type": "markdown",
   "id": "7e898401-eb8a-41d5-a3f5-dec5cad56d9c",
   "metadata": {},
   "source": [
    "## LOEUF"
   ]
  },
  {
   "cell_type": "code",
   "execution_count": null,
   "id": "a320f651-ca6d-4d40-ab7c-c9b3d27898cb",
   "metadata": {},
   "outputs": [],
   "source": [
    "# https://gnomad.broadinstitute.org/help/constraint#loeuf \n",
    "# https://storage.googleapis.com/gcp-public-data--gnomad/release/4.1/constraint/gnomad.v4.1.constraint_metrics.tsv"
   ]
  },
  {
   "cell_type": "markdown",
   "id": "38caed6e-8345-454d-ba37-5e7b781af99c",
   "metadata": {},
   "source": [
    "## Promoter classification"
   ]
  },
  {
   "cell_type": "code",
   "execution_count": null,
   "id": "85d697a1-09c3-48fb-9d8e-a96e2cf4c9eb",
   "metadata": {},
   "outputs": [],
   "source": [
    "# https://www.nature.com/articles/s41586-022-04877-w\n",
    "# https://static-content.springer.com/esm/art%3A10.1038%2Fs41586-022-04877-w/MediaObjects/41586_2022_4877_MOESM9_ESM.txt"
   ]
  },
  {
   "cell_type": "markdown",
   "id": "d86fd80e-39a9-4b15-9e34-d129574cfc87",
   "metadata": {},
   "source": [
    "## CTCF ChIP-seq (GSE179540)"
   ]
  },
  {
   "cell_type": "code",
   "execution_count": null,
   "id": "f059e8d1-1ec9-49d3-991d-0a2bf06bad07",
   "metadata": {},
   "outputs": [],
   "source": [
    "# paper: https://academic.oup.com/nar/article/50/1/207/6471093\n",
    "# https://www.ncbi.nlm.nih.gov/geo/query/acc.cgi?acc=GSE179540\n",
    "# For inducing auxin-inducible degron system, 500μM 3-indole acetic acid was treated for 6 hours.\n",
    "# CTCF Auxin- rep1: https://www.ncbi.nlm.nih.gov/geo/query/acc.cgi?acc=GSM5420199\n",
    "# CTCF Auxin+ rep1: https://www.ncbi.nlm.nih.gov/geo/query/acc.cgi?acc=GSM5420200\n",
    "# CPM normalized bigwig, hg19; Liftover to hg38"
   ]
  },
  {
   "cell_type": "code",
   "execution_count": 11,
   "id": "b7a31583-214d-4d2f-a75f-1d16ebc6caa5",
   "metadata": {
    "execution": {
     "iopub.execute_input": "2024-11-02T12:57:14.704360Z",
     "iopub.status.busy": "2024-11-02T12:57:14.704027Z",
     "iopub.status.idle": "2024-11-02T12:57:14.707753Z",
     "shell.execute_reply": "2024-11-02T12:57:14.707301Z",
     "shell.execute_reply.started": "2024-11-02T12:57:14.704338Z"
    }
   },
   "outputs": [],
   "source": [
    "def bw_liftover(bw_in, bw_out, unlifted_file, chain_file, chrom_sizes):\n",
    "\tcommands = [\"bwtool lift\",\n",
    "\t\t\tbw_in,\n",
    "\t\t\tchain_file,\n",
    "\t\t\tbw_out,\n",
    "\t\t\tf\"-sizes={chrom_sizes}\",\n",
    "\t\t\tf\"-unlifted={unlifted_file}\"]\n",
    "\tsubprocess.run(\" \".join(commands), shell=True)"
   ]
  },
  {
   "cell_type": "code",
   "execution_count": 25,
   "id": "6f8441ad-810c-4835-8d0a-33215d1f1b5c",
   "metadata": {
    "execution": {
     "iopub.execute_input": "2024-11-03T03:11:30.658542Z",
     "iopub.status.busy": "2024-11-03T03:11:30.658208Z",
     "iopub.status.idle": "2024-11-03T03:11:30.661444Z",
     "shell.execute_reply": "2024-11-03T03:11:30.660976Z",
     "shell.execute_reply.started": "2024-11-03T03:11:30.658520Z"
    }
   },
   "outputs": [],
   "source": [
    "ids = [\"GSM5420199_I_Con\", \"GSM5420200_I_IAA\"]\n",
    "chrom_sizes = f\"{PROJECT_DIR_r}genomes/human/hg38.chrom.sizes\"\n",
    "chain_file = f\"{PROJECT_DIR_r}genomes/human/hg19ToHg38.over.chain.gz\""
   ]
  },
  {
   "cell_type": "code",
   "execution_count": null,
   "id": "ac4f0692-e239-41f0-9751-7108a78d5732",
   "metadata": {},
   "outputs": [],
   "source": [
    "pwpool = ProcessWrapPool(len(ids))\n",
    "for i in ids:\n",
    "\tbw_in = f\"{PROJECT_DIR_r}other/GSE179540/{i}_CTCF.bw\"\n",
    "\tbw_out = f\"{PROJECT_DIR_r}other/GSE179540/{i}_CTCF_hg38.bw\"\n",
    "\tunlifted_file = f\"{PROJECT_DIR_r}other/GSE179540/{i}_CTCF_hg38_unmapped.bed\"\n",
    "\tpwpool.run(bw_liftover, args=[bw_in, bw_out, unlifted_file, chain_file, chrom_sizes])"
   ]
  },
  {
   "cell_type": "code",
   "execution_count": 28,
   "id": "c72e7d14-bbe3-462e-9dd6-a0fcc5e5a94c",
   "metadata": {
    "execution": {
     "iopub.execute_input": "2024-11-03T13:32:33.289251Z",
     "iopub.status.busy": "2024-11-03T13:32:33.288910Z",
     "iopub.status.idle": "2024-11-03T13:32:33.294545Z",
     "shell.execute_reply": "2024-11-03T13:32:33.294106Z",
     "shell.execute_reply.started": "2024-11-03T13:32:33.289228Z"
    }
   },
   "outputs": [
    {
     "data": {
      "text/plain": [
       "2"
      ]
     },
     "execution_count": 28,
     "metadata": {},
     "output_type": "execute_result"
    }
   ],
   "source": [
    "len(pwpool.finished_tasks)"
   ]
  },
  {
   "cell_type": "code",
   "execution_count": 29,
   "id": "d4726251-e5c9-44ab-8637-d79a8b05fc38",
   "metadata": {
    "execution": {
     "iopub.execute_input": "2024-11-03T13:32:33.988487Z",
     "iopub.status.busy": "2024-11-03T13:32:33.988151Z",
     "iopub.status.idle": "2024-11-03T13:32:33.991078Z",
     "shell.execute_reply": "2024-11-03T13:32:33.990630Z",
     "shell.execute_reply.started": "2024-11-03T13:32:33.988466Z"
    }
   },
   "outputs": [],
   "source": [
    "pwpool.close()"
   ]
  },
  {
   "cell_type": "markdown",
   "id": "6933eef6-6694-410b-b84f-28e250894a53",
   "metadata": {},
   "source": [
    "## JASPAR"
   ]
  },
  {
   "cell_type": "code",
   "execution_count": null,
   "id": "086ebed7-7796-4e28-a711-1dd651e452d9",
   "metadata": {},
   "outputs": [],
   "source": [
    "# JASPAR\n",
    "# https://jaspar.elixir.no/download/data/2024/CORE/JASPAR2024_CORE_vertebrates_non-redundant_pfms_meme.txt"
   ]
  },
  {
   "cell_type": "code",
   "execution_count": 93,
   "id": "b96fd44d-50ba-4682-9fb1-38a4e25ea23d",
   "metadata": {
    "execution": {
     "iopub.execute_input": "2024-10-28T17:53:26.880347Z",
     "iopub.status.busy": "2024-10-28T17:53:26.879716Z",
     "iopub.status.idle": "2024-10-28T17:53:26.887439Z",
     "shell.execute_reply": "2024-10-28T17:53:26.886855Z",
     "shell.execute_reply.started": "2024-10-28T17:53:26.880324Z"
    }
   },
   "outputs": [],
   "source": [
    "def get_motif_file(motif, inputfile, outputfile):\n",
    "\twith open(inputfile, \"r\") as f:\n",
    "\t    content = f.read()\n",
    "\t\n",
    "\twith open(outputfile, \"w\") as f:\n",
    "\t\tinfos = content.split(\"MOTIF\")\n",
    "\t\t# header\n",
    "\t\tf.write(infos[0])\n",
    "\t\t# motif matrix\n",
    "\t\tfor k in infos:\n",
    "\t\t\tif motif + \"\\n\" in k:\n",
    "\t\t\t\tf.write(\"MOTIF\" + k)"
   ]
  },
  {
   "cell_type": "code",
   "execution_count": 96,
   "id": "57831e2a-28d3-4d32-b11f-618c05c19cec",
   "metadata": {
    "execution": {
     "iopub.execute_input": "2024-10-28T17:54:33.840002Z",
     "iopub.status.busy": "2024-10-28T17:54:33.839629Z",
     "iopub.status.idle": "2024-10-28T17:54:33.844976Z",
     "shell.execute_reply": "2024-10-28T17:54:33.844451Z",
     "shell.execute_reply.started": "2024-10-28T17:54:33.839980Z"
    }
   },
   "outputs": [],
   "source": [
    "motif = \"CTCF\"\n",
    "inputfile = f\"{PROJECT_DIR_r}other/JASPAR/JASPAR2024_CORE_vertebrates_non-redundant_pfms_meme.txt\"\n",
    "outputfile = f\"{PROJECT_DIR_r}other/JASPAR/JASPAR2024_CORE_vertebrates_{motif}.txt\"\n",
    "get_motif_file(motif, inputfile, outputfile)"
   ]
  },
  {
   "cell_type": "markdown",
   "id": "e385dbad-8494-47d5-9d0f-d4d2a7e9f5a8",
   "metadata": {},
   "source": [
    "# Tools"
   ]
  },
  {
   "cell_type": "code",
   "execution_count": null,
   "id": "fbb4dda1-1415-430e-a474-7a74852cfeda",
   "metadata": {},
   "outputs": [],
   "source": [
    "# For tools not listed in \".yml\" files are shown below"
   ]
  },
  {
   "cell_type": "markdown",
   "id": "40814ad0-f9a2-47f5-9ed2-adee00e69c32",
   "metadata": {},
   "source": [
    "## SVR model (TATA & DPR)"
   ]
  },
  {
   "cell_type": "code",
   "execution_count": null,
   "id": "3726d4c4-25d6-4c79-b4d1-ebfdf8933465",
   "metadata": {},
   "outputs": [],
   "source": [
    "# Paper: https://www.nature.com/articles/s41586-020-2689-7\n",
    "# https://www.ncbi.nlm.nih.gov/geo/query/acc.cgi?acc=GSE139635"
   ]
  },
  {
   "cell_type": "markdown",
   "id": "5acd0fee-95de-4a83-800d-f07043248947",
   "metadata": {},
   "source": [
    "## ProCapNet"
   ]
  },
  {
   "cell_type": "code",
   "execution_count": null,
   "id": "b3303b26-2eb9-40fd-ad49-2af097a13351",
   "metadata": {},
   "outputs": [],
   "source": [
    "# https://github.com/kundajelab/nascent_RNA_models"
   ]
  },
  {
   "cell_type": "markdown",
   "id": "de53ec9e-8f24-43d1-9c3c-2e3268f30466",
   "metadata": {},
   "source": [
    "## ABC model"
   ]
  },
  {
   "cell_type": "code",
   "execution_count": null,
   "id": "6b7cd83e-645e-4528-9c75-122949959eca",
   "metadata": {},
   "outputs": [],
   "source": [
    "# https://github.com/broadinstitute/ABC-Enhancer-Gene-Prediction/tree/master\n",
    "# https://abc-enhancer-gene-prediction.readthedocs.io/en/latest/usage/methods.html#defining-candidate-elements"
   ]
  },
  {
   "cell_type": "markdown",
   "id": "0558eaee-60f0-479d-9663-1b6240c37fc4",
   "metadata": {},
   "source": [
    "## CRISPR benchmark"
   ]
  },
  {
   "cell_type": "code",
   "execution_count": null,
   "id": "34bb25a5-2692-4852-88ae-a27d8f6f2896",
   "metadata": {},
   "outputs": [],
   "source": [
    "# https://github.com/EngreitzLab/CRISPR_comparison"
   ]
  },
  {
   "cell_type": "markdown",
   "id": "65c9cf9d-2de4-4c81-940a-fdcacc3c1c08",
   "metadata": {},
   "source": [
    "## FIMO"
   ]
  },
  {
   "cell_type": "code",
   "execution_count": null,
   "id": "1cdce276-072a-4ce9-9d14-9f314eda9e8c",
   "metadata": {},
   "outputs": [],
   "source": [
    "# https://meme-suite.org/meme/meme-software/"
   ]
  },
  {
   "cell_type": "code",
   "execution_count": 128,
   "id": "594d1b67-77c3-4612-8f05-680b07eb1f25",
   "metadata": {
    "execution": {
     "iopub.execute_input": "2024-10-29T16:52:05.563224Z",
     "iopub.status.busy": "2024-10-29T16:52:05.562844Z",
     "iopub.status.idle": "2024-10-29T16:52:05.828963Z",
     "shell.execute_reply": "2024-10-29T16:52:05.828302Z",
     "shell.execute_reply.started": "2024-10-29T16:52:05.563203Z"
    }
   },
   "outputs": [
    {
     "name": "stdout",
     "output_type": "stream",
     "text": [
      "5.5.4\n"
     ]
    }
   ],
   "source": [
    "! fimo --version"
   ]
  },
  {
   "cell_type": "markdown",
   "id": "3d7352d0-1dc5-426d-aec0-33cca4744bb5",
   "metadata": {},
   "source": [
    "## bwtool"
   ]
  },
  {
   "cell_type": "code",
   "execution_count": null,
   "id": "032f0177-f455-4a13-8aaf-97246255df03",
   "metadata": {},
   "outputs": [],
   "source": [
    "# https://github.com/CRG-Barcelona/bwtool"
   ]
  },
  {
   "cell_type": "code",
   "execution_count": 129,
   "id": "ec8ab2b1-8d75-40f5-b637-7a1b5ee5167d",
   "metadata": {
    "execution": {
     "iopub.execute_input": "2024-10-29T16:52:12.057086Z",
     "iopub.status.busy": "2024-10-29T16:52:12.056700Z",
     "iopub.status.idle": "2024-10-29T16:52:12.267962Z",
     "shell.execute_reply": "2024-10-29T16:52:12.267253Z",
     "shell.execute_reply.started": "2024-10-29T16:52:12.057059Z"
    }
   },
   "outputs": [
    {
     "name": "stdout",
     "output_type": "stream",
     "text": [
      "bwtool 1.0\n",
      "Copyright (C) 2015 Centre for Genomic Regulation (CRG) in Barcelona.\n",
      "License GPLv3+: GNU GPL version 3 or later <http://gnu.org/licenses/gpl.html>.\n",
      "This is free software: you are free to change and redistribute it.\n",
      "There is NO WARRANTY, to the extent permitted by law.\n",
      "\n",
      "Written by Andy Pohl.\n"
     ]
    }
   ],
   "source": [
    "! bwtool --version"
   ]
  },
  {
   "cell_type": "markdown",
   "id": "531d8dac-2724-446a-bad9-e04bfd052b93",
   "metadata": {},
   "source": [
    "## statannotations"
   ]
  },
  {
   "cell_type": "code",
   "execution_count": null,
   "id": "e1cb0065-658a-4bbb-8602-8517d875a93e",
   "metadata": {},
   "outputs": [],
   "source": [
    "# To be compatible with seaborn 0.13.2; https://github.com/trevismd/statannotations/pull/155\n",
    "# pip install git+https://github.com/getzze/statannotations.git@compat-seaborn-13 --upgrade"
   ]
  },
  {
   "cell_type": "code",
   "execution_count": null,
   "id": "20263864-2343-4dfc-8e12-a283f5cd8c9f",
   "metadata": {},
   "outputs": [],
   "source": []
  }
 ],
 "metadata": {
  "kernelspec": {
   "display_name": "Python 3 (ipykernel)",
   "language": "python",
   "name": "python3"
  },
  "language_info": {
   "codemirror_mode": {
    "name": "ipython",
    "version": 3
   },
   "file_extension": ".py",
   "mimetype": "text/x-python",
   "name": "python",
   "nbconvert_exporter": "python",
   "pygments_lexer": "ipython3",
   "version": "3.10.8"
  },
  "toc-autonumbering": true
 },
 "nbformat": 4,
 "nbformat_minor": 5
}

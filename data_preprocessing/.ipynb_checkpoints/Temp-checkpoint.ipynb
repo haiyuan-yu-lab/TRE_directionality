{
 "cells": [
  {
   "cell_type": "code",
   "execution_count": 1,
   "id": "200be7fe-c310-4146-b7f2-74c70d2ea86f",
   "metadata": {
    "execution": {
     "iopub.execute_input": "2024-10-12T22:34:21.549782Z",
     "iopub.status.busy": "2024-10-12T22:34:21.549485Z",
     "iopub.status.idle": "2024-10-12T22:34:48.534698Z",
     "shell.execute_reply": "2024-10-12T22:34:48.534160Z",
     "shell.execute_reply.started": "2024-10-12T22:34:21.549759Z"
    },
    "tags": []
   },
   "outputs": [],
   "source": [
    "import pandas as pd\n",
    "pd.set_option('display.max_colwidth', None)\n",
    "import os\n",
    "from biodata.bed import BEDGraphReader\n",
    "import itertools\n",
    "import numpy as np\n",
    "import encode_utils as eu\n",
    "from encode_utils.connection import Connection\n",
    "from biodata.baseio import BaseReader"
   ]
  },
  {
   "cell_type": "code",
   "execution_count": 2,
   "id": "95495097-e2aa-4d4c-9d80-6a66f63ec9ff",
   "metadata": {
    "execution": {
     "iopub.execute_input": "2024-10-12T22:34:48.535906Z",
     "iopub.status.busy": "2024-10-12T22:34:48.535563Z",
     "iopub.status.idle": "2024-10-12T22:34:48.538301Z",
     "shell.execute_reply": "2024-10-12T22:34:48.537870Z",
     "shell.execute_reply.started": "2024-10-12T22:34:48.535887Z"
    },
    "tags": []
   },
   "outputs": [],
   "source": [
    "PROJECT_DIR_d = \"/fs/cbsuhy02/storage/yc2553/yc2553/projects/TRE_directionality/\""
   ]
  },
  {
   "cell_type": "markdown",
   "id": "90e0a0d1-d31a-472b-89d4-8027eda641c8",
   "metadata": {},
   "source": [
    "# Data preparation"
   ]
  },
  {
   "cell_type": "code",
   "execution_count": 3,
   "id": "944ac018-1fd9-4fd2-aedd-09cd280e0cae",
   "metadata": {
    "execution": {
     "iopub.execute_input": "2024-10-12T22:34:48.539018Z",
     "iopub.status.busy": "2024-10-12T22:34:48.538818Z",
     "iopub.status.idle": "2024-10-12T22:34:49.955505Z",
     "shell.execute_reply": "2024-10-12T22:34:49.955021Z",
     "shell.execute_reply.started": "2024-10-12T22:34:48.539002Z"
    },
    "tags": []
   },
   "outputs": [],
   "source": [
    "# Do we still use this award???\n",
    "\n",
    "lab = \"/labs/haiyuan-yu/\"\n",
    "award = \"/awards/UM1HG009393/\"\n",
    "submitter_comment = \"Experiment performed by Sagar R. Shah and preprocessed by Alden Leung\"\n",
    "assembly = \"GRCh38\""
   ]
  },
  {
   "cell_type": "code",
   "execution_count": 4,
   "id": "24886839-c087-4878-b9b1-02f5b63a092c",
   "metadata": {
    "execution": {
     "iopub.execute_input": "2024-10-12T22:34:49.956725Z",
     "iopub.status.busy": "2024-10-12T22:34:49.956487Z",
     "iopub.status.idle": "2024-10-12T22:34:51.335163Z",
     "shell.execute_reply": "2024-10-12T22:34:51.334705Z",
     "shell.execute_reply.started": "2024-10-12T22:34:49.956706Z"
    },
    "tags": []
   },
   "outputs": [],
   "source": [
    "encode_ontologies = {\"C1\": \"encode:K562\"\n",
    "\t\t\t\t\t}"
   ]
  },
  {
   "cell_type": "code",
   "execution_count": 5,
   "id": "f5ff6c38-78e3-47ed-950e-0636635ef77e",
   "metadata": {
    "execution": {
     "iopub.execute_input": "2024-10-12T22:34:51.335857Z",
     "iopub.status.busy": "2024-10-12T22:34:51.335693Z",
     "iopub.status.idle": "2024-10-12T22:34:54.180747Z",
     "shell.execute_reply": "2024-10-12T22:34:54.180258Z",
     "shell.execute_reply.started": "2024-10-12T22:34:51.335841Z"
    },
    "tags": []
   },
   "outputs": [],
   "source": [
    "lib_names = {\"C1\": [\"C1a\", \"C1b\"]}"
   ]
  },
  {
   "cell_type": "code",
   "execution_count": 6,
   "id": "d59b0fd4-d7c0-4f9e-ab9c-4d2af2cbb476",
   "metadata": {
    "execution": {
     "iopub.execute_input": "2024-10-12T22:34:54.181552Z",
     "iopub.status.busy": "2024-10-12T22:34:54.181317Z",
     "iopub.status.idle": "2024-10-12T22:35:04.199998Z",
     "shell.execute_reply": "2024-10-12T22:35:04.199496Z",
     "shell.execute_reply.started": "2024-10-12T22:34:54.181535Z"
    },
    "tags": []
   },
   "outputs": [],
   "source": [
    "procap_info = pd.read_excel(f\"{PROJECT_DIR_d}output/supp_tables/suppTable1.xlsx\")"
   ]
  },
  {
   "cell_type": "code",
   "execution_count": 7,
   "id": "d5868f74-398d-472a-be2d-c8a9ceee6323",
   "metadata": {
    "execution": {
     "iopub.execute_input": "2024-10-12T22:35:04.200867Z",
     "iopub.status.busy": "2024-10-12T22:35:04.200571Z",
     "iopub.status.idle": "2024-10-12T22:35:04.207465Z",
     "shell.execute_reply": "2024-10-12T22:35:04.207051Z",
     "shell.execute_reply.started": "2024-10-12T22:35:04.200848Z"
    },
    "scrolled": true,
    "tags": []
   },
   "outputs": [],
   "source": [
    "# RNA length\n",
    "\n",
    "rnalens = {}\n",
    "for sample_id in lib_names:\n",
    "\tfor lib_name in lib_names[sample_id]:\n",
    "\t\tdf = pd.read_table(f\"{PROJECT_DIR_d}PROcap/QC/RNALen/{lib_name}_RNALen_stat.txt\", header=None, index_col=0)\n",
    "\t\trnalens[lib_name] = int(df.loc[\"mean\"].iloc[0])"
   ]
  },
  {
   "cell_type": "markdown",
   "id": "9da10144-d7c3-4643-a530-f0384fc0ea70",
   "metadata": {},
   "source": [
    "# Data submission"
   ]
  },
  {
   "cell_type": "code",
   "execution_count": 33,
   "id": "362c73bb-5d25-4e58-b84b-887634e76d47",
   "metadata": {
    "execution": {
     "iopub.execute_input": "2024-10-12T02:21:04.618167Z",
     "iopub.status.busy": "2024-10-12T02:21:04.617406Z",
     "iopub.status.idle": "2024-10-12T02:21:04.623547Z",
     "shell.execute_reply": "2024-10-12T02:21:04.622198Z",
     "shell.execute_reply.started": "2024-10-12T02:21:04.618112Z"
    },
    "tags": []
   },
   "outputs": [],
   "source": [
    "# Sagar will get a new key under his name\n",
    "\n",
    "# %env DCC_API_KEY=Q3BTI4I7\n",
    "# %env DCC_SECRET_KEY=rbrmcsulnpvcvr7d"
   ]
  },
  {
   "cell_type": "code",
   "execution_count": 29,
   "id": "2e8ba4e8-47c5-44aa-8eff-fdb05d39e809",
   "metadata": {
    "execution": {
     "iopub.execute_input": "2024-10-12T02:08:43.012874Z",
     "iopub.status.busy": "2024-10-12T02:08:43.012369Z",
     "iopub.status.idle": "2024-10-12T02:08:43.027115Z",
     "shell.execute_reply": "2024-10-12T02:08:43.025771Z",
     "shell.execute_reply.started": "2024-10-12T02:08:43.012824Z"
    },
    "tags": []
   },
   "outputs": [
    {
     "name": "stdout",
     "output_type": "stream",
     "text": [
      "2024-10-11 22:08:43,019:eu_debug:\tsubmission=False: In non-submission mode.\n"
     ]
    }
   ],
   "source": [
    "# Confirm with data wrangler after submitting to test server\n",
    "# Submit to real server\n",
    "# Fill out ENCODE ID in suppTable and 1-1.ipynb\n",
    "\n",
    "# conn = Connection(\"dev\")\n",
    "# conn = Connection(\"prod\")"
   ]
  },
  {
   "cell_type": "code",
   "execution_count": 8,
   "id": "ca138807-0159-464e-80b7-5a860e12719e",
   "metadata": {
    "execution": {
     "iopub.execute_input": "2024-10-12T17:48:46.705727Z",
     "iopub.status.busy": "2024-10-12T17:48:46.705184Z",
     "iopub.status.idle": "2024-10-12T17:48:48.793251Z",
     "shell.execute_reply": "2024-10-12T17:48:48.791724Z",
     "shell.execute_reply.started": "2024-10-12T17:48:46.705682Z"
    }
   },
   "outputs": [
    {
     "name": "stdout",
     "output_type": "stream",
     "text": [
      "/NFS4/storage/yc2553/yc2553/projects/TRE_directionality/PROcap\n"
     ]
    }
   ],
   "source": [
    "cd $PROJECT_DIR_d/PROcap"
   ]
  },
  {
   "cell_type": "markdown",
   "id": "81a7c73c-5b00-40ea-83b8-ba2b870796ed",
   "metadata": {},
   "source": [
    "## Document"
   ]
  },
  {
   "cell_type": "code",
   "execution_count": 23,
   "id": "b8d71c8a-0ae3-42da-97ee-0e32fb655247",
   "metadata": {
    "execution": {
     "iopub.execute_input": "2024-10-11T21:44:46.364321Z",
     "iopub.status.busy": "2024-10-11T21:44:46.363651Z",
     "iopub.status.idle": "2024-10-11T21:44:46.374927Z",
     "shell.execute_reply": "2024-10-11T21:44:46.372795Z",
     "shell.execute_reply.started": "2024-10-11T21:44:46.364265Z"
    },
    "scrolled": true,
    "tags": []
   },
   "outputs": [],
   "source": [
    "# payload = {\n",
    "# \t\t\t\"document_type\": \"general protocol\",\n",
    "# \t\t\t\"lab\": lab,\n",
    "# \t\t\t\"award\": award,\n",
    "# \t\t\t\"attachment\": {\"path\":\"20220128_PROcap_Experimental_Protocol.pdf\"},\n",
    "# \t\t\t\"aliases\": [\"haiyuan-yu:PROcap-Protocols\"],\n",
    "# \t\t}\n",
    "# payload[Connection.PROFILE_KEY] = \"document\"\n",
    "# conn.post(payload)"
   ]
  },
  {
   "cell_type": "code",
   "execution_count": 24,
   "id": "d2c8362d-9ca3-4933-ad16-643e7d460323",
   "metadata": {
    "execution": {
     "iopub.execute_input": "2024-10-11T21:44:49.494429Z",
     "iopub.status.busy": "2024-10-11T21:44:49.493615Z",
     "iopub.status.idle": "2024-10-11T21:44:49.500822Z",
     "shell.execute_reply": "2024-10-11T21:44:49.499711Z",
     "shell.execute_reply.started": "2024-10-11T21:44:49.494353Z"
    },
    "scrolled": true,
    "tags": []
   },
   "outputs": [],
   "source": [
    "# payload = {\n",
    "# \t\t\t\"document_type\": \"pipeline protocol\",\n",
    "# \t\t\t\"lab\": lab,\n",
    "# \t\t\t\"award\": award,\n",
    "# \t\t\t\"attachment\": {\"path\":\"20240501_PROcap_Computational_Pipeline.pdf\"},\n",
    "# \t\t\t\"aliases\": [\"haiyuan-yu:PROcap-Pipelines\"],\n",
    "# \t\t}\n",
    "# payload[Connection.PROFILE_KEY] = \"document\"\n",
    "# conn.post(payload)"
   ]
  },
  {
   "cell_type": "markdown",
   "id": "20a6760c-85e6-4009-ae36-4eec56b57a96",
   "metadata": {},
   "source": [
    "## Library"
   ]
  },
  {
   "cell_type": "code",
   "execution_count": 9,
   "id": "0d85ebc4-7978-45c0-8e4d-c163150542eb",
   "metadata": {
    "execution": {
     "iopub.execute_input": "2024-10-12T18:23:52.036510Z",
     "iopub.status.busy": "2024-10-12T18:23:52.029994Z",
     "iopub.status.idle": "2024-10-12T18:23:52.990987Z",
     "shell.execute_reply": "2024-10-12T18:23:52.989977Z",
     "shell.execute_reply.started": "2024-10-12T18:23:52.036445Z"
    },
    "tags": []
   },
   "outputs": [
    {
     "data": {
      "text/html": [
       "<div>\n",
       "<style scoped>\n",
       "    .dataframe tbody tr th:only-of-type {\n",
       "        vertical-align: middle;\n",
       "    }\n",
       "\n",
       "    .dataframe tbody tr th {\n",
       "        vertical-align: top;\n",
       "    }\n",
       "\n",
       "    .dataframe thead th {\n",
       "        text-align: right;\n",
       "    }\n",
       "</style>\n",
       "<table border=\"1\" class=\"dataframe\">\n",
       "  <thead>\n",
       "    <tr style=\"text-align: right;\">\n",
       "      <th></th>\n",
       "      <th>lab</th>\n",
       "      <th>award</th>\n",
       "      <th>aliases</th>\n",
       "      <th>nucleic_acid_term_name</th>\n",
       "      <th>strand_specificity</th>\n",
       "      <th>biosample</th>\n",
       "      <th>average_fragment_size</th>\n",
       "      <th>construction_method</th>\n",
       "      <th>library_size_selection_method</th>\n",
       "    </tr>\n",
       "  </thead>\n",
       "  <tbody>\n",
       "    <tr>\n",
       "      <th>0</th>\n",
       "      <td>/labs/haiyuan-yu/</td>\n",
       "      <td>/awards/UM1HG009393/</td>\n",
       "      <td>[haiyuan-yu:procap-library-C1-1_1]</td>\n",
       "      <td>RNA</td>\n",
       "      <td>reverse</td>\n",
       "      <td>K562</td>\n",
       "      <td>17</td>\n",
       "      <td>[capped RNA enrichment]</td>\n",
       "      <td>Streptavidin magnetic beads</td>\n",
       "    </tr>\n",
       "    <tr>\n",
       "      <th>1</th>\n",
       "      <td>/labs/haiyuan-yu/</td>\n",
       "      <td>/awards/UM1HG009393/</td>\n",
       "      <td>[haiyuan-yu:procap-library-C1-1_2]</td>\n",
       "      <td>RNA</td>\n",
       "      <td>reverse</td>\n",
       "      <td>K562</td>\n",
       "      <td>17</td>\n",
       "      <td>[capped RNA enrichment]</td>\n",
       "      <td>Streptavidin magnetic beads</td>\n",
       "    </tr>\n",
       "  </tbody>\n",
       "</table>\n",
       "</div>"
      ],
      "text/plain": [
       "                 lab                 award  \\\n",
       "0  /labs/haiyuan-yu/  /awards/UM1HG009393/   \n",
       "1  /labs/haiyuan-yu/  /awards/UM1HG009393/   \n",
       "\n",
       "                              aliases nucleic_acid_term_name  \\\n",
       "0  [haiyuan-yu:procap-library-C1-1_1]                    RNA   \n",
       "1  [haiyuan-yu:procap-library-C1-1_2]                    RNA   \n",
       "\n",
       "  strand_specificity biosample  average_fragment_size  \\\n",
       "0            reverse      K562                     17   \n",
       "1            reverse      K562                     17   \n",
       "\n",
       "       construction_method library_size_selection_method  \n",
       "0  [capped RNA enrichment]   Streptavidin magnetic beads  \n",
       "1  [capped RNA enrichment]   Streptavidin magnetic beads  "
      ]
     },
     "execution_count": 9,
     "metadata": {},
     "output_type": "execute_result"
    }
   ],
   "source": [
    "nucleic_acid_term_name = \"RNA\"\n",
    "strand_specificity = \"reverse\"\n",
    "construction_method = [\"capped RNA enrichment\"]\n",
    "library_size_selection_method = \"Streptavidin magnetic beads\"\n",
    "\n",
    "contents = []\n",
    "header = [\"lab\", \"award\", \"aliases\", \"nucleic_acid_term_name\", \"strand_specificity\", \"biosample\", \"average_fragment_size\", \"construction_method\", \"library_size_selection_method\"]\n",
    "for sample_id in lib_names:\n",
    "\tbiosample = encode_ontologies[sample_id].split(\":\")[1]\n",
    "\tfor lib_name in lib_names[sample_id]:\n",
    "\t\tbiological_replicate_number = 1\n",
    "\t\ttechnical_replicate_number = lib_names[sample_id].index(lib_name)+1\n",
    "\t\taliases = [f\"haiyuan-yu:procap-library-{sample_id}-{biological_replicate_number}_{technical_replicate_number}\"]\n",
    "\t\taverage_fragment_size = rnalens[lib_name]\n",
    "\t\tcontents.append([lab, award, aliases, nucleic_acid_term_name, strand_specificity, biosample, average_fragment_size, construction_method, library_size_selection_method])\n",
    "df = pd.DataFrame(contents, columns=header)\n",
    "df.to_csv(f\"{PROJECT_DIR_d}/PROcap/ENCODE_submission/submit_library.txt\", sep=\"\\t\", index=False)\n",
    "df"
   ]
  },
  {
   "cell_type": "code",
   "execution_count": 55,
   "id": "60ab2576-a742-499a-a0b1-90cee2e34b20",
   "metadata": {
    "execution": {
     "iopub.execute_input": "2024-10-12T15:46:46.099825Z",
     "iopub.status.busy": "2024-10-12T15:46:46.099211Z",
     "iopub.status.idle": "2024-10-12T15:46:46.104342Z",
     "shell.execute_reply": "2024-10-12T15:46:46.103268Z",
     "shell.execute_reply.started": "2024-10-12T15:46:46.099776Z"
    },
    "tags": []
   },
   "outputs": [],
   "source": [
    "# library_logs = []\n",
    "# for content in contents:\n",
    "# \tpayload = OrderedDict(zip(header, content))\n",
    "# \tpayload[Connection.PROFILE_KEY] = \"library\"\n",
    "# \tlibrary_logs.append(conn.post(payload))"
   ]
  },
  {
   "cell_type": "markdown",
   "id": "6e76f0b2-4ea7-4e97-942a-ec0c0abac165",
   "metadata": {},
   "source": [
    "## Experiment"
   ]
  },
  {
   "cell_type": "code",
   "execution_count": 94,
   "id": "82061de7-632f-4fa5-bd0a-866b51754015",
   "metadata": {
    "execution": {
     "iopub.execute_input": "2024-10-12T17:11:13.842326Z",
     "iopub.status.busy": "2024-10-12T17:11:13.841678Z",
     "iopub.status.idle": "2024-10-12T17:11:13.876735Z",
     "shell.execute_reply": "2024-10-12T17:11:13.875690Z",
     "shell.execute_reply.started": "2024-10-12T17:11:13.842277Z"
    },
    "tags": []
   },
   "outputs": [
    {
     "data": {
      "text/html": [
       "<div>\n",
       "<style scoped>\n",
       "    .dataframe tbody tr th:only-of-type {\n",
       "        vertical-align: middle;\n",
       "    }\n",
       "\n",
       "    .dataframe tbody tr th {\n",
       "        vertical-align: top;\n",
       "    }\n",
       "\n",
       "    .dataframe thead th {\n",
       "        text-align: right;\n",
       "    }\n",
       "</style>\n",
       "<table border=\"1\" class=\"dataframe\">\n",
       "  <thead>\n",
       "    <tr style=\"text-align: right;\">\n",
       "      <th></th>\n",
       "      <th>lab</th>\n",
       "      <th>award</th>\n",
       "      <th>biosample_ontology</th>\n",
       "      <th>assay_term_name</th>\n",
       "      <th>description</th>\n",
       "      <th>documents</th>\n",
       "      <th>aliases</th>\n",
       "    </tr>\n",
       "  </thead>\n",
       "  <tbody>\n",
       "    <tr>\n",
       "      <th>0</th>\n",
       "      <td>/labs/haiyuan-yu/</td>\n",
       "      <td>/awards/UM1HG009393/</td>\n",
       "      <td>encode:K562</td>\n",
       "      <td>PRO-cap</td>\n",
       "      <td>A run-on assay that precisely maps the transcription start sites genome-wide with high sensitivity and specificity in C1.</td>\n",
       "      <td>[haiyuan-yu:PROcap-Pipelines, haiyuan-yu:PROcap-Protocols]</td>\n",
       "      <td>[haiyuan-yu:procap-experiment-C1]</td>\n",
       "    </tr>\n",
       "  </tbody>\n",
       "</table>\n",
       "</div>"
      ],
      "text/plain": [
       "                 lab                 award biosample_ontology assay_term_name  \\\n",
       "0  /labs/haiyuan-yu/  /awards/UM1HG009393/        encode:K562         PRO-cap   \n",
       "\n",
       "                                                                                                                 description  \\\n",
       "0  A run-on assay that precisely maps the transcription start sites genome-wide with high sensitivity and specificity in C1.   \n",
       "\n",
       "                                                    documents  \\\n",
       "0  [haiyuan-yu:PROcap-Pipelines, haiyuan-yu:PROcap-Protocols]   \n",
       "\n",
       "                             aliases  \n",
       "0  [haiyuan-yu:procap-experiment-C1]  "
      ]
     },
     "execution_count": 94,
     "metadata": {},
     "output_type": "execute_result"
    }
   ],
   "source": [
    "contents =[]\n",
    "header=[\"lab\", \"award\", \"biosample_ontology\", \"assay_term_name\", \"description\", \"documents\", \"aliases\"]\n",
    "for sample_id in lib_names:\n",
    "\tdescription = f\"A run-on assay that precisely maps the transcription start sites genome-wide with high sensitivity and specificity in {sample_id}.\"\n",
    "\tbiosample_ontology = encode_ontologies[sample_id]\n",
    "\tassay_term_name = \"PRO-cap\"\n",
    "\tdocuments = [\"haiyuan-yu:PROcap-Pipelines\", \"haiyuan-yu:PROcap-Protocols\"]\n",
    "\taliases = [f\"haiyuan-yu:procap-experiment-{sample_id}\"]\n",
    "\tcontents.append([lab, award, biosample_ontology, assay_term_name, description, documents, aliases])\n",
    "df = pd.DataFrame(contents, columns=header)\n",
    "df.to_csv(f\"{PROJECT_DIR_d}/PROcap/ENCODE_submission/submit_experiment.txt\", sep=\"\\t\", index=False)\n",
    "df"
   ]
  },
  {
   "cell_type": "code",
   "execution_count": 54,
   "id": "46f42296-bc66-4fc2-b90e-3fa48af51b89",
   "metadata": {
    "execution": {
     "iopub.execute_input": "2024-10-12T15:46:39.641774Z",
     "iopub.status.busy": "2024-10-12T15:46:39.641106Z",
     "iopub.status.idle": "2024-10-12T15:46:39.646280Z",
     "shell.execute_reply": "2024-10-12T15:46:39.645213Z",
     "shell.execute_reply.started": "2024-10-12T15:46:39.641721Z"
    },
    "tags": []
   },
   "outputs": [],
   "source": [
    "# experiment_logs = []\n",
    "# for content in contents:\n",
    "# \tpayload = OrderedDict(zip(header, content))\n",
    "# \tpayload[Connection.PROFILE_KEY] = \"experiment\"\n",
    "# \texperiment_logs.append(conn.post(payload))"
   ]
  },
  {
   "cell_type": "markdown",
   "id": "a947ce38-f0b3-486b-b42e-87a8fa443c8c",
   "metadata": {},
   "source": [
    "## Replicate"
   ]
  },
  {
   "cell_type": "code",
   "execution_count": 70,
   "id": "5bfdc2dd-0a07-41d0-9d09-549001733d15",
   "metadata": {
    "execution": {
     "iopub.execute_input": "2024-10-12T16:13:12.409692Z",
     "iopub.status.busy": "2024-10-12T16:13:12.409084Z",
     "iopub.status.idle": "2024-10-12T16:13:12.467367Z",
     "shell.execute_reply": "2024-10-12T16:13:12.466114Z",
     "shell.execute_reply.started": "2024-10-12T16:13:12.409643Z"
    },
    "tags": []
   },
   "outputs": [
    {
     "data": {
      "text/html": [
       "<div>\n",
       "<style scoped>\n",
       "    .dataframe tbody tr th:only-of-type {\n",
       "        vertical-align: middle;\n",
       "    }\n",
       "\n",
       "    .dataframe tbody tr th {\n",
       "        vertical-align: top;\n",
       "    }\n",
       "\n",
       "    .dataframe thead th {\n",
       "        text-align: right;\n",
       "    }\n",
       "</style>\n",
       "<table border=\"1\" class=\"dataframe\">\n",
       "  <thead>\n",
       "    <tr style=\"text-align: right;\">\n",
       "      <th></th>\n",
       "      <th>aliases</th>\n",
       "      <th>experiment</th>\n",
       "      <th>biological_replicate_number</th>\n",
       "      <th>technical_replicate_number</th>\n",
       "      <th>library</th>\n",
       "    </tr>\n",
       "  </thead>\n",
       "  <tbody>\n",
       "    <tr>\n",
       "      <th>0</th>\n",
       "      <td>[haiyuan-yu:procap-replicate-C1a-1_1]</td>\n",
       "      <td>haiyuan-yu:procap-experiment-C1</td>\n",
       "      <td>1</td>\n",
       "      <td>1</td>\n",
       "      <td>haiyuan-yu:procap-library-C1a-1_1</td>\n",
       "    </tr>\n",
       "    <tr>\n",
       "      <th>1</th>\n",
       "      <td>[haiyuan-yu:procap-replicate-C1b-1_2]</td>\n",
       "      <td>haiyuan-yu:procap-experiment-C1</td>\n",
       "      <td>1</td>\n",
       "      <td>2</td>\n",
       "      <td>haiyuan-yu:procap-library-C1b-1_2</td>\n",
       "    </tr>\n",
       "  </tbody>\n",
       "</table>\n",
       "</div>"
      ],
      "text/plain": [
       "                                 aliases                       experiment  \\\n",
       "0  [haiyuan-yu:procap-replicate-C1a-1_1]  haiyuan-yu:procap-experiment-C1   \n",
       "1  [haiyuan-yu:procap-replicate-C1b-1_2]  haiyuan-yu:procap-experiment-C1   \n",
       "\n",
       "   biological_replicate_number  technical_replicate_number  \\\n",
       "0                            1                           1   \n",
       "1                            1                           2   \n",
       "\n",
       "                             library  \n",
       "0  haiyuan-yu:procap-library-C1a-1_1  \n",
       "1  haiyuan-yu:procap-library-C1b-1_2  "
      ]
     },
     "execution_count": 70,
     "metadata": {},
     "output_type": "execute_result"
    }
   ],
   "source": [
    "contents = []\n",
    "header = [\"aliases\", \"experiment\", \"biological_replicate_number\", \"technical_replicate_number\", \"library\"]\n",
    "for sample_id in lib_names:\n",
    "\texperiment = f\"haiyuan-yu:procap-experiment-{sample_id}\"\n",
    "\tfor lib_name in lib_names[sample_id]:\n",
    "\t\tbiological_replicate_number = 1\n",
    "\t\ttechnical_replicate_number = lib_names[sample_id].index(lib_name)+1\n",
    "\t\tsuffix = f\"{lib_name}-{biological_replicate_number}_{technical_replicate_number}\"\n",
    "\t\tlibrary = f\"haiyuan-yu:procap-library-{suffix}\"\n",
    "\t\taliases = [f\"haiyuan-yu:procap-replicate-{suffix}\"]\n",
    "\t\tcontents.append([aliases, experiment, biological_replicate_number, technical_replicate_number, library])\n",
    "df = pd.DataFrame(contents, columns=header)\n",
    "df.to_csv(f\"{PROJECT_DIR_d}/PROcap/ENCODE_submission/submit_replicate.txt\", sep=\"\\t\", index=False)\n",
    "df"
   ]
  },
  {
   "cell_type": "code",
   "execution_count": 53,
   "id": "54e9ec7b-a015-47f0-8b62-9408b5489280",
   "metadata": {
    "execution": {
     "iopub.execute_input": "2024-10-12T15:46:35.874102Z",
     "iopub.status.busy": "2024-10-12T15:46:35.873458Z",
     "iopub.status.idle": "2024-10-12T15:46:35.878706Z",
     "shell.execute_reply": "2024-10-12T15:46:35.877601Z",
     "shell.execute_reply.started": "2024-10-12T15:46:35.874050Z"
    },
    "tags": []
   },
   "outputs": [],
   "source": [
    "# replicate_logs = []\n",
    "# for content in contents:\n",
    "# \tpayload = OrderedDict(zip(header, content))\n",
    "# \tpayload[Connection.PROFILE_KEY] = \"replicate\"\n",
    "# \treplicate_logs.append(conn.post(payload))"
   ]
  },
  {
   "cell_type": "markdown",
   "id": "24e5f53e-10cb-4a6e-a073-f1ddae6d0d96",
   "metadata": {},
   "source": [
    "## File"
   ]
  },
  {
   "cell_type": "markdown",
   "id": "660d704c-4fe9-4c47-b157-ec714479aa2d",
   "metadata": {},
   "source": [
    "### fastq"
   ]
  },
  {
   "cell_type": "code",
   "execution_count": 71,
   "id": "fe16e21f-50ec-43c3-b08a-f2a36d09a3c9",
   "metadata": {
    "execution": {
     "iopub.execute_input": "2024-10-12T16:17:24.501381Z",
     "iopub.status.busy": "2024-10-12T16:17:24.500763Z",
     "iopub.status.idle": "2024-10-12T16:17:24.515274Z",
     "shell.execute_reply": "2024-10-12T16:17:24.514040Z",
     "shell.execute_reply.started": "2024-10-12T16:17:24.501333Z"
    }
   },
   "outputs": [],
   "source": [
    "def get_read_length(f):\n",
    "\twith BaseReader(f) as br:\n",
    "\t\tbr.read()\n",
    "\t\ts1 = br.read()\n",
    "\t\tbr.read()\n",
    "\t\ts2 = br.read()\n",
    "\t\tif len(s1) != len(s2):\n",
    "\t\t\traise Exception()\n",
    "\t\treturn len(s1)"
   ]
  },
  {
   "cell_type": "code",
   "execution_count": 95,
   "id": "fcb1943a-60e5-448c-85e7-6cf5d4e1a2ef",
   "metadata": {
    "execution": {
     "iopub.execute_input": "2024-10-12T17:11:23.623767Z",
     "iopub.status.busy": "2024-10-12T17:11:23.623134Z",
     "iopub.status.idle": "2024-10-12T17:11:23.695939Z",
     "shell.execute_reply": "2024-10-12T17:11:23.694849Z",
     "shell.execute_reply.started": "2024-10-12T17:11:23.623719Z"
    },
    "tags": []
   },
   "outputs": [
    {
     "data": {
      "text/html": [
       "<div>\n",
       "<style scoped>\n",
       "    .dataframe tbody tr th:only-of-type {\n",
       "        vertical-align: middle;\n",
       "    }\n",
       "\n",
       "    .dataframe tbody tr th {\n",
       "        vertical-align: top;\n",
       "    }\n",
       "\n",
       "    .dataframe thead th {\n",
       "        text-align: right;\n",
       "    }\n",
       "</style>\n",
       "<table border=\"1\" class=\"dataframe\">\n",
       "  <thead>\n",
       "    <tr style=\"text-align: right;\">\n",
       "      <th></th>\n",
       "      <th>lab</th>\n",
       "      <th>award</th>\n",
       "      <th>dataset</th>\n",
       "      <th>file_format</th>\n",
       "      <th>run_type</th>\n",
       "      <th>platform</th>\n",
       "      <th>output_type</th>\n",
       "      <th>replicate</th>\n",
       "      <th>submitted_file_name</th>\n",
       "      <th>paired_end</th>\n",
       "      <th>paired_with</th>\n",
       "      <th>aliases</th>\n",
       "      <th>read_length</th>\n",
       "    </tr>\n",
       "  </thead>\n",
       "  <tbody>\n",
       "    <tr>\n",
       "      <th>0</th>\n",
       "      <td>/labs/haiyuan-yu/</td>\n",
       "      <td>/awards/UM1HG009393/</td>\n",
       "      <td>haiyuan-yu:procap-experiment-C1</td>\n",
       "      <td>fastq</td>\n",
       "      <td>paired-ended</td>\n",
       "      <td>encode:NovaSeq6000</td>\n",
       "      <td>reads</td>\n",
       "      <td>haiyuan-yu:procap-replicate-C1a-1_1</td>\n",
       "      <td>RawData/C1a_CKDL220028609-1A_HLJNNDSX5_L4_1.fq.gz</td>\n",
       "      <td>1</td>\n",
       "      <td></td>\n",
       "      <td>[haiyuan-yu:procap-read1-C1-1_1]</td>\n",
       "      <td>150</td>\n",
       "    </tr>\n",
       "    <tr>\n",
       "      <th>1</th>\n",
       "      <td>/labs/haiyuan-yu/</td>\n",
       "      <td>/awards/UM1HG009393/</td>\n",
       "      <td>haiyuan-yu:procap-experiment-C1</td>\n",
       "      <td>fastq</td>\n",
       "      <td>paired-ended</td>\n",
       "      <td>encode:NovaSeq6000</td>\n",
       "      <td>reads</td>\n",
       "      <td>haiyuan-yu:procap-replicate-C1a-1_1</td>\n",
       "      <td>RawData/C1a_CKDL220028609-1A_HLJNNDSX5_L4_2.fq.gz</td>\n",
       "      <td>2</td>\n",
       "      <td>haiyuan-yu:procap-read1-C1-1_1</td>\n",
       "      <td>[haiyuan-yu:procap-read2-C1-1_1]</td>\n",
       "      <td>150</td>\n",
       "    </tr>\n",
       "    <tr>\n",
       "      <th>2</th>\n",
       "      <td>/labs/haiyuan-yu/</td>\n",
       "      <td>/awards/UM1HG009393/</td>\n",
       "      <td>haiyuan-yu:procap-experiment-C1</td>\n",
       "      <td>fastq</td>\n",
       "      <td>paired-ended</td>\n",
       "      <td>encode:NovaSeq6000</td>\n",
       "      <td>reads</td>\n",
       "      <td>haiyuan-yu:procap-replicate-C1b-1_2</td>\n",
       "      <td>RawData/C1b_CKDL220028609-1A_HLJNNDSX5_L4_1.fq.gz</td>\n",
       "      <td>1</td>\n",
       "      <td></td>\n",
       "      <td>[haiyuan-yu:procap-read1-C1-1_2]</td>\n",
       "      <td>150</td>\n",
       "    </tr>\n",
       "    <tr>\n",
       "      <th>3</th>\n",
       "      <td>/labs/haiyuan-yu/</td>\n",
       "      <td>/awards/UM1HG009393/</td>\n",
       "      <td>haiyuan-yu:procap-experiment-C1</td>\n",
       "      <td>fastq</td>\n",
       "      <td>paired-ended</td>\n",
       "      <td>encode:NovaSeq6000</td>\n",
       "      <td>reads</td>\n",
       "      <td>haiyuan-yu:procap-replicate-C1b-1_2</td>\n",
       "      <td>RawData/C1b_CKDL220028609-1A_HLJNNDSX5_L4_2.fq.gz</td>\n",
       "      <td>2</td>\n",
       "      <td>haiyuan-yu:procap-read1-C1-1_2</td>\n",
       "      <td>[haiyuan-yu:procap-read2-C1-1_2]</td>\n",
       "      <td>150</td>\n",
       "    </tr>\n",
       "  </tbody>\n",
       "</table>\n",
       "</div>"
      ],
      "text/plain": [
       "                 lab                 award                          dataset  \\\n",
       "0  /labs/haiyuan-yu/  /awards/UM1HG009393/  haiyuan-yu:procap-experiment-C1   \n",
       "1  /labs/haiyuan-yu/  /awards/UM1HG009393/  haiyuan-yu:procap-experiment-C1   \n",
       "2  /labs/haiyuan-yu/  /awards/UM1HG009393/  haiyuan-yu:procap-experiment-C1   \n",
       "3  /labs/haiyuan-yu/  /awards/UM1HG009393/  haiyuan-yu:procap-experiment-C1   \n",
       "\n",
       "  file_format      run_type            platform output_type  \\\n",
       "0       fastq  paired-ended  encode:NovaSeq6000       reads   \n",
       "1       fastq  paired-ended  encode:NovaSeq6000       reads   \n",
       "2       fastq  paired-ended  encode:NovaSeq6000       reads   \n",
       "3       fastq  paired-ended  encode:NovaSeq6000       reads   \n",
       "\n",
       "                             replicate  \\\n",
       "0  haiyuan-yu:procap-replicate-C1a-1_1   \n",
       "1  haiyuan-yu:procap-replicate-C1a-1_1   \n",
       "2  haiyuan-yu:procap-replicate-C1b-1_2   \n",
       "3  haiyuan-yu:procap-replicate-C1b-1_2   \n",
       "\n",
       "                                 submitted_file_name paired_end  \\\n",
       "0  RawData/C1a_CKDL220028609-1A_HLJNNDSX5_L4_1.fq.gz          1   \n",
       "1  RawData/C1a_CKDL220028609-1A_HLJNNDSX5_L4_2.fq.gz          2   \n",
       "2  RawData/C1b_CKDL220028609-1A_HLJNNDSX5_L4_1.fq.gz          1   \n",
       "3  RawData/C1b_CKDL220028609-1A_HLJNNDSX5_L4_2.fq.gz          2   \n",
       "\n",
       "                      paired_with                           aliases  \\\n",
       "0                                  [haiyuan-yu:procap-read1-C1-1_1]   \n",
       "1  haiyuan-yu:procap-read1-C1-1_1  [haiyuan-yu:procap-read2-C1-1_1]   \n",
       "2                                  [haiyuan-yu:procap-read1-C1-1_2]   \n",
       "3  haiyuan-yu:procap-read1-C1-1_2  [haiyuan-yu:procap-read2-C1-1_2]   \n",
       "\n",
       "   read_length  \n",
       "0          150  \n",
       "1          150  \n",
       "2          150  \n",
       "3          150  "
      ]
     },
     "execution_count": 95,
     "metadata": {},
     "output_type": "execute_result"
    }
   ],
   "source": [
    "run_type = \"paired-ended\"\n",
    "platform = \"encode:NovaSeq6000\"\n",
    "file_format = \"fastq\"\n",
    "output_type = \"reads\"\n",
    "\n",
    "contents = []\n",
    "header = [\"lab\", \"award\", \"dataset\", \"file_format\", \"run_type\", \"platform\", \"output_type\", \"replicate\", \"submitted_file_name\", \"paired_end\", \"paired_with\", \"aliases\", \"read_length\"]\n",
    "for sample_id in lib_names:\n",
    "\tdataset = f\"haiyuan-yu:procap-experiment-{sample_id}\"\n",
    "\tfor lib_name in lib_names[sample_id]:\n",
    "\t\tbiological_replicate_number = 1\n",
    "\t\ttechnical_replicate_number = lib_names[sample_id].index(lib_name)+1\n",
    "\t\treplicate = f\"haiyuan-yu:procap-replicate-{lib_name}-{biological_replicate_number}_{technical_replicate_number}\"\n",
    "\t\tfor row in procap_info.loc[procap_info[\"Library Name\"] == lib_name].iterrows():\n",
    "\t\t\tr1, r2 = \"RawData/\" + row[1][\"Sequencing Read 1\"], \"RawData/\" + row[1][\"Sequencing Read 2\"]\n",
    "\t\t\tsuffix = f\"{sample_id}-{biological_replicate_number}_{technical_replicate_number}\"\n",
    "\t\t\tsubmitted_file_name = r1\n",
    "\t\t\tpaired_end = \"1\"\n",
    "\t\t\tpaired_with = \"\"\n",
    "\t\t\taliases = [f\"haiyuan-yu:procap-read1-{suffix}\"]\n",
    "\t\t\tread_length = get_read_length(r1)\n",
    "\t\t\tcontents.append([lab, award, dataset, file_format, run_type, platform, output_type, replicate, submitted_file_name, paired_end, paired_with, aliases, read_length])\n",
    "\n",
    "\t\t\tsubmitted_file_name = r2 \n",
    "\t\t\tpaired_end = \"2\"\n",
    "\t\t\tpaired_with = f\"haiyuan-yu:procap-read1-{suffix}\"\n",
    "\t\t\taliases = [f\"haiyuan-yu:procap-read2-{suffix}\"]\n",
    "\t\t\tread_length = get_read_length(r2)\n",
    "\t\t\tcontents.append([lab, award, dataset, file_format, run_type, platform, output_type, replicate, submitted_file_name, paired_end, paired_with, aliases, read_length])\n",
    "df = pd.DataFrame(contents, columns=header)\n",
    "df.to_csv(f\"{PROJECT_DIR_d}/PROcap/ENCODE_submission/submit_file_fastq.txt\", sep=\"\\t\", index=False)\n",
    "df"
   ]
  },
  {
   "cell_type": "code",
   "execution_count": 57,
   "id": "ca25c078-ce5a-405b-b90e-e499d0a66384",
   "metadata": {
    "execution": {
     "iopub.execute_input": "2024-10-12T15:48:13.309717Z",
     "iopub.status.busy": "2024-10-12T15:48:13.309228Z",
     "iopub.status.idle": "2024-10-12T15:48:13.314474Z",
     "shell.execute_reply": "2024-10-12T15:48:13.313330Z",
     "shell.execute_reply.started": "2024-10-12T15:48:13.309672Z"
    },
    "tags": []
   },
   "outputs": [],
   "source": [
    "# file_logs = []\n",
    "# for content in contents:\n",
    "# \tpayload = OrderedDict(zip(header, content))\n",
    "# \tif payload[\"paired_with\"] == '':\n",
    "# \t\tpayload.pop('paired_with')\n",
    "# \tpayload[Connection.PROFILE_KEY] = \"file\"\n",
    "# \tfile_logs.append(conn.post(payload))"
   ]
  },
  {
   "cell_type": "markdown",
   "id": "3c4e013b-69b7-42fc-918d-c817dc0fed83",
   "metadata": {
    "execution": {
     "iopub.execute_input": "2021-09-28T00:31:56.877186Z",
     "iopub.status.busy": "2021-09-28T00:31:56.876687Z",
     "iopub.status.idle": "2021-09-28T00:31:56.882134Z",
     "shell.execute_reply": "2021-09-28T00:31:56.880813Z",
     "shell.execute_reply.started": "2021-09-28T00:31:56.877129Z"
    }
   },
   "source": [
    "### bam (unfiltered alignments)"
   ]
  },
  {
   "cell_type": "code",
   "execution_count": 96,
   "id": "9264c268-b167-4743-b5fa-29254188dc98",
   "metadata": {
    "execution": {
     "iopub.execute_input": "2024-10-12T17:11:29.929048Z",
     "iopub.status.busy": "2024-10-12T17:11:29.928409Z",
     "iopub.status.idle": "2024-10-12T17:11:29.992635Z",
     "shell.execute_reply": "2024-10-12T17:11:29.991538Z",
     "shell.execute_reply.started": "2024-10-12T17:11:29.928986Z"
    },
    "tags": []
   },
   "outputs": [
    {
     "data": {
      "text/html": [
       "<div>\n",
       "<style scoped>\n",
       "    .dataframe tbody tr th:only-of-type {\n",
       "        vertical-align: middle;\n",
       "    }\n",
       "\n",
       "    .dataframe tbody tr th {\n",
       "        vertical-align: top;\n",
       "    }\n",
       "\n",
       "    .dataframe thead th {\n",
       "        text-align: right;\n",
       "    }\n",
       "</style>\n",
       "<table border=\"1\" class=\"dataframe\">\n",
       "  <thead>\n",
       "    <tr style=\"text-align: right;\">\n",
       "      <th></th>\n",
       "      <th>lab</th>\n",
       "      <th>award</th>\n",
       "      <th>dataset</th>\n",
       "      <th>file_format</th>\n",
       "      <th>output_type</th>\n",
       "      <th>submitted_file_name</th>\n",
       "      <th>aliases</th>\n",
       "      <th>derived_from</th>\n",
       "      <th>assembly</th>\n",
       "      <th>step_run</th>\n",
       "    </tr>\n",
       "  </thead>\n",
       "  <tbody>\n",
       "    <tr>\n",
       "      <th>0</th>\n",
       "      <td>/labs/haiyuan-yu/</td>\n",
       "      <td>/awards/UM1HG009393/</td>\n",
       "      <td>haiyuan-yu:procap-experiment-C1</td>\n",
       "      <td>bam</td>\n",
       "      <td>unfiltered alignments</td>\n",
       "      <td>RawAlignments/C1a_Aligned.sortedByCoord.out.bam</td>\n",
       "      <td>[haiyuan-yu:test-procap-unfiltered_alignment-C1-1_1]</td>\n",
       "      <td>[john-lis:procap-rdna, dnanexus:file-BjB0pV00Qy5PzkzfX1Gy6pYy, haiyuan-yu:procap-read1-C1-1_1, haiyuan-yu:procap-read2-C1-1_1]</td>\n",
       "      <td>GRCh38</td>\n",
       "      <td>haiyuan-yu:pro-cap-run-step-1</td>\n",
       "    </tr>\n",
       "    <tr>\n",
       "      <th>1</th>\n",
       "      <td>/labs/haiyuan-yu/</td>\n",
       "      <td>/awards/UM1HG009393/</td>\n",
       "      <td>haiyuan-yu:procap-experiment-C1</td>\n",
       "      <td>bam</td>\n",
       "      <td>unfiltered alignments</td>\n",
       "      <td>RawAlignments/C1b_Aligned.sortedByCoord.out.bam</td>\n",
       "      <td>[haiyuan-yu:test-procap-unfiltered_alignment-C1-1_2]</td>\n",
       "      <td>[john-lis:procap-rdna, dnanexus:file-BjB0pV00Qy5PzkzfX1Gy6pYy, haiyuan-yu:procap-read1-C1-1_2, haiyuan-yu:procap-read2-C1-1_2]</td>\n",
       "      <td>GRCh38</td>\n",
       "      <td>haiyuan-yu:pro-cap-run-step-1</td>\n",
       "    </tr>\n",
       "  </tbody>\n",
       "</table>\n",
       "</div>"
      ],
      "text/plain": [
       "                 lab                 award                          dataset  \\\n",
       "0  /labs/haiyuan-yu/  /awards/UM1HG009393/  haiyuan-yu:procap-experiment-C1   \n",
       "1  /labs/haiyuan-yu/  /awards/UM1HG009393/  haiyuan-yu:procap-experiment-C1   \n",
       "\n",
       "  file_format            output_type  \\\n",
       "0         bam  unfiltered alignments   \n",
       "1         bam  unfiltered alignments   \n",
       "\n",
       "                               submitted_file_name  \\\n",
       "0  RawAlignments/C1a_Aligned.sortedByCoord.out.bam   \n",
       "1  RawAlignments/C1b_Aligned.sortedByCoord.out.bam   \n",
       "\n",
       "                                                aliases  \\\n",
       "0  [haiyuan-yu:test-procap-unfiltered_alignment-C1-1_1]   \n",
       "1  [haiyuan-yu:test-procap-unfiltered_alignment-C1-1_2]   \n",
       "\n",
       "                                                                                                                     derived_from  \\\n",
       "0  [john-lis:procap-rdna, dnanexus:file-BjB0pV00Qy5PzkzfX1Gy6pYy, haiyuan-yu:procap-read1-C1-1_1, haiyuan-yu:procap-read2-C1-1_1]   \n",
       "1  [john-lis:procap-rdna, dnanexus:file-BjB0pV00Qy5PzkzfX1Gy6pYy, haiyuan-yu:procap-read1-C1-1_2, haiyuan-yu:procap-read2-C1-1_2]   \n",
       "\n",
       "  assembly                       step_run  \n",
       "0   GRCh38  haiyuan-yu:pro-cap-run-step-1  \n",
       "1   GRCh38  haiyuan-yu:pro-cap-run-step-1  "
      ]
     },
     "execution_count": 96,
     "metadata": {},
     "output_type": "execute_result"
    }
   ],
   "source": [
    "step_run = \"haiyuan-yu:pro-cap-run-step-1\"\n",
    "file_format = \"bam\"\n",
    "output_type = \"unfiltered alignments\"\n",
    "\n",
    "contents = []\n",
    "header = [\"lab\", \"award\", \"dataset\", \"file_format\", \"output_type\", \"submitted_file_name\", \"aliases\", \"derived_from\", \"assembly\", \"step_run\"]\n",
    "for sample_id in lib_names:\n",
    "\tdataset = f\"haiyuan-yu:procap-experiment-{sample_id}\"\n",
    "\tfor lib_name in lib_names[sample_id]:\n",
    "\t\tbiological_replicate_number = 1\n",
    "\t\ttechnical_replicate_number = lib_names[sample_id].index(lib_name)+1\n",
    "\t\tsuffix = f\"{sample_id}-{biological_replicate_number}_{technical_replicate_number}\"\n",
    "\t\taliases = [f\"haiyuan-yu:test-procap-unfiltered_alignment-{suffix}\"]\n",
    "\t\tderived_from = [\"john-lis:procap-rdna\", \"dnanexus:file-BjB0pV00Qy5PzkzfX1Gy6pYy\",\n",
    "\t\t\t\t\t\tf\"haiyuan-yu:procap-read1-{suffix}\",\n",
    "\t\t\t\t\t\tf\"haiyuan-yu:procap-read2-{suffix}\"\n",
    "\t\t\t\t\t\t]\n",
    "\t\tsubmitted_file_name = f\"RawAlignments/{lib_name}_Aligned.sortedByCoord.out.bam\"\n",
    "\t\tcontents.append([lab, award, dataset, file_format, output_type, submitted_file_name, aliases, derived_from, assembly, step_run])\n",
    "df = pd.DataFrame(contents, columns=header)\n",
    "df.to_csv(f\"{PROJECT_DIR_d}/PROcap/ENCODE_submission/submit_file_unfiltered_alignment.txt\", sep=\"\\t\", index=False)\n",
    "df"
   ]
  },
  {
   "cell_type": "code",
   "execution_count": 60,
   "id": "8d80ee18-a573-4f19-8fbb-65ce4a5ab4e3",
   "metadata": {
    "execution": {
     "iopub.execute_input": "2024-10-12T15:49:02.024708Z",
     "iopub.status.busy": "2024-10-12T15:49:02.024150Z",
     "iopub.status.idle": "2024-10-12T15:49:02.030460Z",
     "shell.execute_reply": "2024-10-12T15:49:02.029365Z",
     "shell.execute_reply.started": "2024-10-12T15:49:02.024661Z"
    },
    "tags": []
   },
   "outputs": [],
   "source": [
    "# file_logs = []\n",
    "# for content in contents:\n",
    "# \tpayload = OrderedDict(zip(header, content))\n",
    "# \tpayload[Connection.PROFILE_KEY] = \"file\"\n",
    "# \tfile_logs.append(conn.post(payload))"
   ]
  },
  {
   "cell_type": "code",
   "execution_count": 58,
   "id": "c008ab2a-86e2-4ec6-b514-23237257607b",
   "metadata": {
    "execution": {
     "iopub.execute_input": "2024-10-12T15:48:42.842287Z",
     "iopub.status.busy": "2024-10-12T15:48:42.841625Z",
     "iopub.status.idle": "2024-10-12T15:48:42.849803Z",
     "shell.execute_reply": "2024-10-12T15:48:42.848747Z",
     "shell.execute_reply.started": "2024-10-12T15:48:42.842235Z"
    },
    "tags": []
   },
   "outputs": [],
   "source": [
    "# file_logs = []\n",
    "# for content in contents:\t\n",
    "# \tpayload = OrderedDict(zip(header, content))\n",
    "# \tpayload[\"_enc_id\"] = payload[\"aliases\"][0]\n",
    "# \tpayload[Connection.PROFILE_KEY] = \"file\"\n",
    "# \tpayload.pop(\"derived_from\")\n",
    "# \tfile_logs.append(conn.patch(payload))"
   ]
  },
  {
   "cell_type": "code",
   "execution_count": 59,
   "id": "746866ce-fa9d-44ef-b590-87d4df00b5e7",
   "metadata": {
    "execution": {
     "iopub.execute_input": "2024-10-12T15:48:46.760802Z",
     "iopub.status.busy": "2024-10-12T15:48:46.760201Z",
     "iopub.status.idle": "2024-10-12T15:48:46.765376Z",
     "shell.execute_reply": "2024-10-12T15:48:46.764334Z",
     "shell.execute_reply.started": "2024-10-12T15:48:46.760755Z"
    }
   },
   "outputs": [],
   "source": [
    "# file_logs = []\n",
    "# for content in contents:\n",
    "# \tpayload = OrderedDict(zip(header, content))\n",
    "# \tpayload[\"_enc_id\"] = payload[\"aliases\"][0]\n",
    "# \tif payload[\"paired_with\"] == '':\n",
    "# \t\tpayload.pop('paired_with')\n",
    "# \tpayload.pop('submitted_file_name')\n",
    "# \tpayload[Connection.PROFILE_KEY] = \"file\"\n",
    "# \tfile_logs.append(conn.patch(payload))"
   ]
  },
  {
   "cell_type": "markdown",
   "id": "9ff113dc-e92b-4c5b-ac86-e25d11e26ae6",
   "metadata": {
    "execution": {
     "iopub.execute_input": "2021-09-28T00:31:56.877186Z",
     "iopub.status.busy": "2021-09-28T00:31:56.876687Z",
     "iopub.status.idle": "2021-09-28T00:31:56.882134Z",
     "shell.execute_reply": "2021-09-28T00:31:56.880813Z",
     "shell.execute_reply.started": "2021-09-28T00:31:56.877129Z"
    }
   },
   "source": [
    "### bam (alignments)"
   ]
  },
  {
   "cell_type": "code",
   "execution_count": 97,
   "id": "4a91b3b7-5aa7-4d9d-8b5f-711b4d7aafea",
   "metadata": {
    "execution": {
     "iopub.execute_input": "2024-10-12T17:11:38.337148Z",
     "iopub.status.busy": "2024-10-12T17:11:38.336525Z",
     "iopub.status.idle": "2024-10-12T17:11:38.383405Z",
     "shell.execute_reply": "2024-10-12T17:11:38.382130Z",
     "shell.execute_reply.started": "2024-10-12T17:11:38.337096Z"
    },
    "tags": []
   },
   "outputs": [
    {
     "data": {
      "text/html": [
       "<div>\n",
       "<style scoped>\n",
       "    .dataframe tbody tr th:only-of-type {\n",
       "        vertical-align: middle;\n",
       "    }\n",
       "\n",
       "    .dataframe tbody tr th {\n",
       "        vertical-align: top;\n",
       "    }\n",
       "\n",
       "    .dataframe thead th {\n",
       "        text-align: right;\n",
       "    }\n",
       "</style>\n",
       "<table border=\"1\" class=\"dataframe\">\n",
       "  <thead>\n",
       "    <tr style=\"text-align: right;\">\n",
       "      <th></th>\n",
       "      <th>lab</th>\n",
       "      <th>award</th>\n",
       "      <th>dataset</th>\n",
       "      <th>file_format</th>\n",
       "      <th>output_type</th>\n",
       "      <th>submitted_file_name</th>\n",
       "      <th>aliases</th>\n",
       "      <th>derived_from</th>\n",
       "      <th>assembly</th>\n",
       "      <th>step_run</th>\n",
       "    </tr>\n",
       "  </thead>\n",
       "  <tbody>\n",
       "    <tr>\n",
       "      <th>0</th>\n",
       "      <td>/labs/haiyuan-yu/</td>\n",
       "      <td>/awards/UM1HG009393/</td>\n",
       "      <td>haiyuan-yu:procap-experiment-C1</td>\n",
       "      <td>bam</td>\n",
       "      <td>alignments</td>\n",
       "      <td>RawAlignments/C1a_dedup.bam</td>\n",
       "      <td>[haiyuan-yu:procap-alignment-C1-1_1]</td>\n",
       "      <td>[haiyuan-yu:procap-unfiltered_alignment-C1-1_1]</td>\n",
       "      <td>GRCh38</td>\n",
       "      <td>haiyuan-yu:pro-cap-run-step-2</td>\n",
       "    </tr>\n",
       "    <tr>\n",
       "      <th>1</th>\n",
       "      <td>/labs/haiyuan-yu/</td>\n",
       "      <td>/awards/UM1HG009393/</td>\n",
       "      <td>haiyuan-yu:procap-experiment-C1</td>\n",
       "      <td>bam</td>\n",
       "      <td>alignments</td>\n",
       "      <td>RawAlignments/C1b_dedup.bam</td>\n",
       "      <td>[haiyuan-yu:procap-alignment-C1-1_2]</td>\n",
       "      <td>[haiyuan-yu:procap-unfiltered_alignment-C1-1_2]</td>\n",
       "      <td>GRCh38</td>\n",
       "      <td>haiyuan-yu:pro-cap-run-step-2</td>\n",
       "    </tr>\n",
       "  </tbody>\n",
       "</table>\n",
       "</div>"
      ],
      "text/plain": [
       "                 lab                 award                          dataset  \\\n",
       "0  /labs/haiyuan-yu/  /awards/UM1HG009393/  haiyuan-yu:procap-experiment-C1   \n",
       "1  /labs/haiyuan-yu/  /awards/UM1HG009393/  haiyuan-yu:procap-experiment-C1   \n",
       "\n",
       "  file_format output_type          submitted_file_name  \\\n",
       "0         bam  alignments  RawAlignments/C1a_dedup.bam   \n",
       "1         bam  alignments  RawAlignments/C1b_dedup.bam   \n",
       "\n",
       "                                aliases  \\\n",
       "0  [haiyuan-yu:procap-alignment-C1-1_1]   \n",
       "1  [haiyuan-yu:procap-alignment-C1-1_2]   \n",
       "\n",
       "                                      derived_from assembly  \\\n",
       "0  [haiyuan-yu:procap-unfiltered_alignment-C1-1_1]   GRCh38   \n",
       "1  [haiyuan-yu:procap-unfiltered_alignment-C1-1_2]   GRCh38   \n",
       "\n",
       "                        step_run  \n",
       "0  haiyuan-yu:pro-cap-run-step-2  \n",
       "1  haiyuan-yu:pro-cap-run-step-2  "
      ]
     },
     "execution_count": 97,
     "metadata": {},
     "output_type": "execute_result"
    }
   ],
   "source": [
    "step_run = \"haiyuan-yu:pro-cap-run-step-2\"\n",
    "file_format = \"bam\"\n",
    "output_type = \"alignments\"\n",
    "\n",
    "contents = []\n",
    "header = [\"lab\", \"award\", \"dataset\", \"file_format\", \"output_type\", \"submitted_file_name\", \"aliases\", \"derived_from\", \"assembly\", \"step_run\"]\n",
    "for sample_id in lib_names:\n",
    "\tdataset = f\"haiyuan-yu:procap-experiment-{sample_id}\"\n",
    "\tfor lib_name in lib_names[sample_id]:\n",
    "\t\tbiological_replicate_number = 1\n",
    "\t\ttechnical_replicate_number = lib_names[sample_id].index(lib_name)+1\n",
    "\t\tsuffix = f\"{sample_id}-{biological_replicate_number}_{technical_replicate_number}\"\n",
    "\t\taliases = [f\"haiyuan-yu:procap-alignment-{suffix}\"]\n",
    "\t\tderived_from = [f\"haiyuan-yu:procap-unfiltered_alignment-{suffix}\"]\n",
    "\t\tsubmitted_file_name = f\"RawAlignments/{lib_name}_dedup.bam\"\n",
    "\t\tcontents.append([lab, award, dataset, file_format, output_type, submitted_file_name, aliases, derived_from, assembly, step_run])\n",
    "df = pd.DataFrame(contents, columns=header)\n",
    "df.to_csv(f\"{PROJECT_DIR_d}/PROcap/ENCODE_submission/submit_file_alignment.txt\", sep=\"\\t\", index=False)\n",
    "df"
   ]
  },
  {
   "cell_type": "code",
   "execution_count": 61,
   "id": "e384b26d-04a4-4e58-a261-93ad8f19593b",
   "metadata": {
    "execution": {
     "iopub.execute_input": "2024-10-12T15:51:22.947227Z",
     "iopub.status.busy": "2024-10-12T15:51:22.946563Z",
     "iopub.status.idle": "2024-10-12T15:51:22.954794Z",
     "shell.execute_reply": "2024-10-12T15:51:22.953669Z",
     "shell.execute_reply.started": "2024-10-12T15:51:22.947176Z"
    },
    "tags": []
   },
   "outputs": [],
   "source": [
    "# file_logs = []\n",
    "# for content in contents:\n",
    "# \tpayload = OrderedDict(zip(header, content))\n",
    "# \tpayload[Connection.PROFILE_KEY] = \"file\"\n",
    "# \tfile_logs.append(conn.post(payload))"
   ]
  },
  {
   "cell_type": "markdown",
   "id": "1e3fc9ac-4dd7-471a-8f09-d9441cb4eabf",
   "metadata": {},
   "source": [
    "### bigwig"
   ]
  },
  {
   "cell_type": "code",
   "execution_count": 98,
   "id": "8794d9b8-241b-43fd-9eb9-e9281f49eb9f",
   "metadata": {
    "execution": {
     "iopub.execute_input": "2024-10-12T17:11:41.451799Z",
     "iopub.status.busy": "2024-10-12T17:11:41.451153Z",
     "iopub.status.idle": "2024-10-12T17:11:41.510055Z",
     "shell.execute_reply": "2024-10-12T17:11:41.508993Z",
     "shell.execute_reply.started": "2024-10-12T17:11:41.451750Z"
    },
    "tags": []
   },
   "outputs": [
    {
     "data": {
      "text/html": [
       "<div>\n",
       "<style scoped>\n",
       "    .dataframe tbody tr th:only-of-type {\n",
       "        vertical-align: middle;\n",
       "    }\n",
       "\n",
       "    .dataframe tbody tr th {\n",
       "        vertical-align: top;\n",
       "    }\n",
       "\n",
       "    .dataframe thead th {\n",
       "        text-align: right;\n",
       "    }\n",
       "</style>\n",
       "<table border=\"1\" class=\"dataframe\">\n",
       "  <thead>\n",
       "    <tr style=\"text-align: right;\">\n",
       "      <th></th>\n",
       "      <th>lab</th>\n",
       "      <th>award</th>\n",
       "      <th>dataset</th>\n",
       "      <th>file_format</th>\n",
       "      <th>output_type</th>\n",
       "      <th>submitted_file_name</th>\n",
       "      <th>aliases</th>\n",
       "      <th>derived_from</th>\n",
       "      <th>assembly</th>\n",
       "      <th>step_run</th>\n",
       "    </tr>\n",
       "  </thead>\n",
       "  <tbody>\n",
       "    <tr>\n",
       "      <th>0</th>\n",
       "      <td>/labs/haiyuan-yu/</td>\n",
       "      <td>/awards/UM1HG009393/</td>\n",
       "      <td>haiyuan-yu:procap-experiment-C1</td>\n",
       "      <td>bigWig</td>\n",
       "      <td>plus strand signal of unique reads</td>\n",
       "      <td>Alignments/C1a_pl.bw</td>\n",
       "      <td>[haiyuan-yu:procap-bigwig-plus-C1-1_1]</td>\n",
       "      <td>[haiyuan-yu:procap-alignment-C1-1_1]</td>\n",
       "      <td>GRCh38</td>\n",
       "      <td>haiyuan-yu:pro-cap-run-step-3</td>\n",
       "    </tr>\n",
       "    <tr>\n",
       "      <th>1</th>\n",
       "      <td>/labs/haiyuan-yu/</td>\n",
       "      <td>/awards/UM1HG009393/</td>\n",
       "      <td>haiyuan-yu:procap-experiment-C1</td>\n",
       "      <td>bigWig</td>\n",
       "      <td>minus strand signal of unique reads</td>\n",
       "      <td>Alignments/C1a_mn.bw</td>\n",
       "      <td>[haiyuan-yu:procap-bigwig-minus-C1-1_1]</td>\n",
       "      <td>[haiyuan-yu:procap-alignment-C1-1_1]</td>\n",
       "      <td>GRCh38</td>\n",
       "      <td>haiyuan-yu:pro-cap-run-step-3</td>\n",
       "    </tr>\n",
       "    <tr>\n",
       "      <th>2</th>\n",
       "      <td>/labs/haiyuan-yu/</td>\n",
       "      <td>/awards/UM1HG009393/</td>\n",
       "      <td>haiyuan-yu:procap-experiment-C1</td>\n",
       "      <td>bigWig</td>\n",
       "      <td>plus strand signal of unique reads</td>\n",
       "      <td>Alignments/C1b_pl.bw</td>\n",
       "      <td>[haiyuan-yu:procap-bigwig-plus-C1-1_2]</td>\n",
       "      <td>[haiyuan-yu:procap-alignment-C1-1_2]</td>\n",
       "      <td>GRCh38</td>\n",
       "      <td>haiyuan-yu:pro-cap-run-step-3</td>\n",
       "    </tr>\n",
       "    <tr>\n",
       "      <th>3</th>\n",
       "      <td>/labs/haiyuan-yu/</td>\n",
       "      <td>/awards/UM1HG009393/</td>\n",
       "      <td>haiyuan-yu:procap-experiment-C1</td>\n",
       "      <td>bigWig</td>\n",
       "      <td>minus strand signal of unique reads</td>\n",
       "      <td>Alignments/C1b_mn.bw</td>\n",
       "      <td>[haiyuan-yu:procap-bigwig-minus-C1-1_2]</td>\n",
       "      <td>[haiyuan-yu:procap-alignment-C1-1_2]</td>\n",
       "      <td>GRCh38</td>\n",
       "      <td>haiyuan-yu:pro-cap-run-step-3</td>\n",
       "    </tr>\n",
       "  </tbody>\n",
       "</table>\n",
       "</div>"
      ],
      "text/plain": [
       "                 lab                 award                          dataset  \\\n",
       "0  /labs/haiyuan-yu/  /awards/UM1HG009393/  haiyuan-yu:procap-experiment-C1   \n",
       "1  /labs/haiyuan-yu/  /awards/UM1HG009393/  haiyuan-yu:procap-experiment-C1   \n",
       "2  /labs/haiyuan-yu/  /awards/UM1HG009393/  haiyuan-yu:procap-experiment-C1   \n",
       "3  /labs/haiyuan-yu/  /awards/UM1HG009393/  haiyuan-yu:procap-experiment-C1   \n",
       "\n",
       "  file_format                          output_type   submitted_file_name  \\\n",
       "0      bigWig   plus strand signal of unique reads  Alignments/C1a_pl.bw   \n",
       "1      bigWig  minus strand signal of unique reads  Alignments/C1a_mn.bw   \n",
       "2      bigWig   plus strand signal of unique reads  Alignments/C1b_pl.bw   \n",
       "3      bigWig  minus strand signal of unique reads  Alignments/C1b_mn.bw   \n",
       "\n",
       "                                   aliases  \\\n",
       "0   [haiyuan-yu:procap-bigwig-plus-C1-1_1]   \n",
       "1  [haiyuan-yu:procap-bigwig-minus-C1-1_1]   \n",
       "2   [haiyuan-yu:procap-bigwig-plus-C1-1_2]   \n",
       "3  [haiyuan-yu:procap-bigwig-minus-C1-1_2]   \n",
       "\n",
       "                           derived_from assembly  \\\n",
       "0  [haiyuan-yu:procap-alignment-C1-1_1]   GRCh38   \n",
       "1  [haiyuan-yu:procap-alignment-C1-1_1]   GRCh38   \n",
       "2  [haiyuan-yu:procap-alignment-C1-1_2]   GRCh38   \n",
       "3  [haiyuan-yu:procap-alignment-C1-1_2]   GRCh38   \n",
       "\n",
       "                        step_run  \n",
       "0  haiyuan-yu:pro-cap-run-step-3  \n",
       "1  haiyuan-yu:pro-cap-run-step-3  \n",
       "2  haiyuan-yu:pro-cap-run-step-3  \n",
       "3  haiyuan-yu:pro-cap-run-step-3  "
      ]
     },
     "execution_count": 98,
     "metadata": {},
     "output_type": "execute_result"
    }
   ],
   "source": [
    "step_run = \"haiyuan-yu:pro-cap-run-step-3\"\n",
    "file_format = \"bigWig\"\n",
    "\n",
    "header=[\"lab\", \"award\", \"dataset\", \"file_format\", \"output_type\", \"submitted_file_name\", \"aliases\", \"derived_from\", \"assembly\", \"step_run\"]\n",
    "contents = []\n",
    "\n",
    "for sample_id in lib_names:\n",
    "\tdataset = f\"haiyuan-yu:procap-experiment-{sample_id}\"\n",
    "\tfor lib_name in lib_names[sample_id]:\n",
    "\t\tbiological_replicate_number = 1\n",
    "\t\ttechnical_replicate_number = lib_names[sample_id].index(lib_name)+1\n",
    "\t\tsuffix = f\"{sample_id}-{biological_replicate_number}_{technical_replicate_number}\"\n",
    "\t\tderived_from = [f\"haiyuan-yu:procap-alignment-{suffix}\"]\n",
    "\t\t\n",
    "\t\toutput_type = \"plus strand signal of unique reads\"\n",
    "\t\taliases = [f\"haiyuan-yu:procap-bigwig-plus-{suffix}\"]\n",
    "\t\tsubmitted_file_name=f\"Alignments/{lib_name}_pl.bw\"\n",
    "\t\tcontents.append([lab, award, dataset, file_format, output_type, submitted_file_name, aliases, derived_from, assembly, step_run])\n",
    "\t\t\n",
    "\t\toutput_type = \"minus strand signal of unique reads\"\n",
    "\t\taliases = [f\"haiyuan-yu:procap-bigwig-minus-{suffix}\"]\n",
    "\t\tsubmitted_file_name = f\"Alignments/{lib_name}_mn.bw\"\n",
    "\t\tcontents.append([lab, award, dataset, file_format, output_type, submitted_file_name, aliases, derived_from, assembly, step_run])\n",
    "df = pd.DataFrame(contents, columns=header)\n",
    "df.to_csv(f\"{PROJECT_DIR_d}/PROcap/ENCODE_submission/submit_file_bigwig_patch.txt\", sep=\"\\t\", index=False)\n",
    "df"
   ]
  },
  {
   "cell_type": "code",
   "execution_count": 62,
   "id": "f820f91f-297c-4b17-b5d0-2fc526eed7cf",
   "metadata": {
    "execution": {
     "iopub.execute_input": "2024-10-12T15:51:27.625494Z",
     "iopub.status.busy": "2024-10-12T15:51:27.624842Z",
     "iopub.status.idle": "2024-10-12T15:51:27.630023Z",
     "shell.execute_reply": "2024-10-12T15:51:27.628967Z",
     "shell.execute_reply.started": "2024-10-12T15:51:27.625444Z"
    },
    "tags": []
   },
   "outputs": [],
   "source": [
    "# file_logs = []\n",
    "# for content in contents:\n",
    "# \tpayload = OrderedDict(zip(header, content))\n",
    "# \tpayload[Connection.PROFILE_KEY] = \"file\"\n",
    "# \tfile_logs.append(conn.post(payload))"
   ]
  },
  {
   "cell_type": "markdown",
   "id": "e5aee56f-b97c-43de-8443-ea4584f835d9",
   "metadata": {
    "execution": {
     "iopub.execute_input": "2021-09-28T00:31:56.877186Z",
     "iopub.status.busy": "2021-09-28T00:31:56.876687Z",
     "iopub.status.idle": "2021-09-28T00:31:56.882134Z",
     "shell.execute_reply": "2021-09-28T00:31:56.880813Z",
     "shell.execute_reply.started": "2021-09-28T00:31:56.877129Z"
    }
   },
   "source": [
    "### bed"
   ]
  },
  {
   "cell_type": "code",
   "execution_count": 34,
   "id": "ec37996d-7ae8-40c0-9af0-a76c3757f578",
   "metadata": {
    "execution": {
     "iopub.execute_input": "2024-10-12T22:33:14.577785Z",
     "iopub.status.busy": "2024-10-12T22:33:14.577452Z",
     "iopub.status.idle": "2024-10-12T22:33:14.664846Z",
     "shell.execute_reply": "2024-10-12T22:33:14.664389Z",
     "shell.execute_reply.started": "2024-10-12T22:33:14.577764Z"
    },
    "tags": []
   },
   "outputs": [
    {
     "data": {
      "text/html": [
       "<div>\n",
       "<style scoped>\n",
       "    .dataframe tbody tr th:only-of-type {\n",
       "        vertical-align: middle;\n",
       "    }\n",
       "\n",
       "    .dataframe tbody tr th {\n",
       "        vertical-align: top;\n",
       "    }\n",
       "\n",
       "    .dataframe thead th {\n",
       "        text-align: right;\n",
       "    }\n",
       "</style>\n",
       "<table border=\"1\" class=\"dataframe\">\n",
       "  <thead>\n",
       "    <tr style=\"text-align: right;\">\n",
       "      <th></th>\n",
       "      <th>lab</th>\n",
       "      <th>award</th>\n",
       "      <th>dataset</th>\n",
       "      <th>file_format</th>\n",
       "      <th>file_format_type</th>\n",
       "      <th>output_type</th>\n",
       "      <th>submitted_file_name</th>\n",
       "      <th>aliases</th>\n",
       "      <th>derived_from</th>\n",
       "      <th>assembly</th>\n",
       "      <th>step_run</th>\n",
       "    </tr>\n",
       "  </thead>\n",
       "  <tbody>\n",
       "    <tr>\n",
       "      <th>0</th>\n",
       "      <td>/labs/haiyuan-yu/</td>\n",
       "      <td>/awards/UM1HG009393/</td>\n",
       "      <td>haiyuan-yu:procap-experiment-C1</td>\n",
       "      <td>bed</td>\n",
       "      <td>bed3+</td>\n",
       "      <td>bidirectional peaks</td>\n",
       "      <td>Peaks/PINTS/alignmentmerge_C1a_and_C1b_1_bidirectional_peaks.bed.gz</td>\n",
       "      <td>[haiyuan-yu:procap-bidirectional_peaks-C1]</td>\n",
       "      <td>[haiyuan-yu:procap-bigwig-plus-C1-1_1, haiyuan-yu:procap-bigwig-plus-C1-1_2, haiyuan-yu:procap-bigwig-minus-C1-1_1, haiyuan-yu:procap-bigwig-minus-C1-1_2]</td>\n",
       "      <td>GRCh38</td>\n",
       "      <td>haiyuan-yu:pro-cap-run-step-4</td>\n",
       "    </tr>\n",
       "    <tr>\n",
       "      <th>1</th>\n",
       "      <td>/labs/haiyuan-yu/</td>\n",
       "      <td>/awards/UM1HG009393/</td>\n",
       "      <td>haiyuan-yu:procap-experiment-C1</td>\n",
       "      <td>bed</td>\n",
       "      <td>bed3+</td>\n",
       "      <td>divergent peaks</td>\n",
       "      <td>Peaks/PINTS/alignmentmerge_C1a_and_C1b_1_bidirectional_peaks.bed.gz</td>\n",
       "      <td>[haiyuan-yu:procap-divergent_peaks-C1]</td>\n",
       "      <td>[haiyuan-yu:procap-bigwig-plus-C1-1_1, haiyuan-yu:procap-bigwig-plus-C1-1_2, haiyuan-yu:procap-bigwig-minus-C1-1_1, haiyuan-yu:procap-bigwig-minus-C1-1_2]</td>\n",
       "      <td>GRCh38</td>\n",
       "      <td>haiyuan-yu:pro-cap-run-step-4</td>\n",
       "    </tr>\n",
       "    <tr>\n",
       "      <th>2</th>\n",
       "      <td>/labs/haiyuan-yu/</td>\n",
       "      <td>/awards/UM1HG009393/</td>\n",
       "      <td>haiyuan-yu:procap-experiment-C1</td>\n",
       "      <td>bed</td>\n",
       "      <td>bed3+</td>\n",
       "      <td>unidirectional peaks</td>\n",
       "      <td>Peaks/PINTS/alignmentmerge_C1a_and_C1b_1_unidirectional_peaks.bed.gz</td>\n",
       "      <td>[haiyuan-yu:procap-unidirectional_peaks-C1]</td>\n",
       "      <td>[haiyuan-yu:procap-bigwig-plus-C1-1_1, haiyuan-yu:procap-bigwig-plus-C1-1_2, haiyuan-yu:procap-bigwig-minus-C1-1_1, haiyuan-yu:procap-bigwig-minus-C1-1_2]</td>\n",
       "      <td>GRCh38</td>\n",
       "      <td>haiyuan-yu:pro-cap-run-step-4</td>\n",
       "    </tr>\n",
       "  </tbody>\n",
       "</table>\n",
       "</div>"
      ],
      "text/plain": [
       "                 lab                 award                          dataset  \\\n",
       "0  /labs/haiyuan-yu/  /awards/UM1HG009393/  haiyuan-yu:procap-experiment-C1   \n",
       "1  /labs/haiyuan-yu/  /awards/UM1HG009393/  haiyuan-yu:procap-experiment-C1   \n",
       "2  /labs/haiyuan-yu/  /awards/UM1HG009393/  haiyuan-yu:procap-experiment-C1   \n",
       "\n",
       "  file_format file_format_type           output_type  \\\n",
       "0         bed            bed3+   bidirectional peaks   \n",
       "1         bed            bed3+       divergent peaks   \n",
       "2         bed            bed3+  unidirectional peaks   \n",
       "\n",
       "                                                    submitted_file_name  \\\n",
       "0   Peaks/PINTS/alignmentmerge_C1a_and_C1b_1_bidirectional_peaks.bed.gz   \n",
       "1   Peaks/PINTS/alignmentmerge_C1a_and_C1b_1_bidirectional_peaks.bed.gz   \n",
       "2  Peaks/PINTS/alignmentmerge_C1a_and_C1b_1_unidirectional_peaks.bed.gz   \n",
       "\n",
       "                                       aliases  \\\n",
       "0   [haiyuan-yu:procap-bidirectional_peaks-C1]   \n",
       "1       [haiyuan-yu:procap-divergent_peaks-C1]   \n",
       "2  [haiyuan-yu:procap-unidirectional_peaks-C1]   \n",
       "\n",
       "                                                                                                                                                 derived_from  \\\n",
       "0  [haiyuan-yu:procap-bigwig-plus-C1-1_1, haiyuan-yu:procap-bigwig-plus-C1-1_2, haiyuan-yu:procap-bigwig-minus-C1-1_1, haiyuan-yu:procap-bigwig-minus-C1-1_2]   \n",
       "1  [haiyuan-yu:procap-bigwig-plus-C1-1_1, haiyuan-yu:procap-bigwig-plus-C1-1_2, haiyuan-yu:procap-bigwig-minus-C1-1_1, haiyuan-yu:procap-bigwig-minus-C1-1_2]   \n",
       "2  [haiyuan-yu:procap-bigwig-plus-C1-1_1, haiyuan-yu:procap-bigwig-plus-C1-1_2, haiyuan-yu:procap-bigwig-minus-C1-1_1, haiyuan-yu:procap-bigwig-minus-C1-1_2]   \n",
       "\n",
       "  assembly                       step_run  \n",
       "0   GRCh38  haiyuan-yu:pro-cap-run-step-4  \n",
       "1   GRCh38  haiyuan-yu:pro-cap-run-step-4  \n",
       "2   GRCh38  haiyuan-yu:pro-cap-run-step-4  "
      ]
     },
     "execution_count": 34,
     "metadata": {},
     "output_type": "execute_result"
    }
   ],
   "source": [
    "step_run = \"haiyuan-yu:pro-cap-run-step-4\"\n",
    "file_format = \"bed\"\n",
    "file_format_type = \"bed3+\"\n",
    "\n",
    "contents = []\n",
    "header=[\"lab\", \"award\", \"dataset\", \"file_format\", \"file_format_type\", \"output_type\", \"submitted_file_name\", \"aliases\", \"derived_from\", \"assembly\", \"step_run\"]\n",
    "for sample_id in lib_names:\n",
    "\tdataset=f\"haiyuan-yu:procap-experiment-{sample_id}\"\n",
    "\tsuffice = []\n",
    "\tslibs = []\n",
    "\tfor lib_name in lib_names[sample_id]:\n",
    "\t\tbiological_replicate_number = 1\n",
    "\t\ttechnical_replicate_number = lib_names[sample_id].index(lib_name)+1\n",
    "\t\tslibs.append(lib_name)\n",
    "\t\tsuffice.append(f\"{sample_id}-{biological_replicate_number}_{technical_replicate_number}\")\n",
    "\tderived_from = ([f\"haiyuan-yu:procap-bigwig-plus-{suffix}\" for suffix in suffice]\n",
    "\t\t\t\t\t+ [f\"haiyuan-yu:procap-bigwig-minus-{suffix}\" for suffix in suffice])\n",
    "\n",
    "\toutput_type = \"bidirectional peaks\"\n",
    "\toutput_type_str = \"bidirectional_peaks\"\n",
    "\taliases = [f\"haiyuan-yu:procap-{output_type_str}-{sample_id}\"]\n",
    "\tsubmitted_file_name=f\"Peaks/PINTS/alignmentmerge_{'_and_'.join(slibs)}_1_bidirectional_peaks.bed.gz\"\n",
    "\tcontents.append([lab, award, dataset, file_format, file_format_type, output_type, submitted_file_name, aliases, derived_from, assembly, step_run])\n",
    "\n",
    "\toutput_type = \"divergent peaks\"\n",
    "\toutput_type_str = \"divergent_peaks\"\n",
    "\taliases = [f\"haiyuan-yu:procap-{output_type_str}-{sample_id}\"]\n",
    "\tsubmitted_file_name=f\"Peaks/PINTS/alignmentmerge_{'_and_'.join(slibs)}_1_bidirectional_peaks.bed.gz\"\n",
    "\tcontents.append([lab, award, dataset, file_format, file_format_type, output_type, submitted_file_name, aliases, derived_from, assembly, step_run])\n",
    "\n",
    "\toutput_type = \"unidirectional peaks\"\n",
    "\toutput_type_str = \"unidirectional_peaks\"\n",
    "\taliases = [f\"haiyuan-yu:procap-{output_type_str}-{sample_id}\"]\n",
    "\tsubmitted_file_name=f\"Peaks/PINTS/alignmentmerge_{'_and_'.join(slibs)}_1_unidirectional_peaks.bed.gz\"\n",
    "\tcontents.append([lab, award, dataset, file_format, file_format_type, output_type, submitted_file_name, aliases, derived_from, assembly, step_run])\n",
    "df = pd.DataFrame(contents, columns=header)\n",
    "df.to_csv(f\"{PROJECT_DIR_d}/PROcap/ENCODE_submission/submit_file_bed.txt\", sep=\"\\t\", index=False)\n",
    "df"
   ]
  },
  {
   "cell_type": "code",
   "execution_count": 63,
   "id": "328fe11a-bc70-409a-b125-94212dd9f545",
   "metadata": {
    "execution": {
     "iopub.execute_input": "2024-10-12T15:51:32.641969Z",
     "iopub.status.busy": "2024-10-12T15:51:32.641352Z",
     "iopub.status.idle": "2024-10-12T15:51:32.646257Z",
     "shell.execute_reply": "2024-10-12T15:51:32.645212Z",
     "shell.execute_reply.started": "2024-10-12T15:51:32.641917Z"
    },
    "scrolled": true,
    "tags": []
   },
   "outputs": [],
   "source": [
    "# file_logs = []\n",
    "# for content in contents:\n",
    "# \tpayload = OrderedDict(zip(header, content))\n",
    "# \tpayload[Connection.PROFILE_KEY] = \"file\"\n",
    "# \tfile_logs.append(conn.post(payload))"
   ]
  },
  {
   "cell_type": "code",
   "execution_count": null,
   "id": "6cd216ec-7e7e-4282-8ed8-c4d4ca832707",
   "metadata": {},
   "outputs": [],
   "source": []
  }
 ],
 "metadata": {
  "kernelspec": {
   "display_name": "Python 3 (ipykernel)",
   "language": "python",
   "name": "python3"
  },
  "language_info": {
   "codemirror_mode": {
    "name": "ipython",
    "version": 3
   },
   "file_extension": ".py",
   "mimetype": "text/x-python",
   "name": "python",
   "nbconvert_exporter": "python",
   "pygments_lexer": "ipython3",
   "version": "3.10.8"
  },
  "toc-autonumbering": true
 },
 "nbformat": 4,
 "nbformat_minor": 5
}

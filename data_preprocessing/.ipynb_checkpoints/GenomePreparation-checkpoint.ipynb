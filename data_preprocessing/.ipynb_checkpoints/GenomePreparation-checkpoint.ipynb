{
 "cells": [
  {
   "cell_type": "code",
   "execution_count": 1,
   "id": "9ff7645a-70e2-4b4e-a2c7-71e9a143ac5e",
   "metadata": {
    "execution": {
     "iopub.execute_input": "2024-06-08T18:53:06.991913Z",
     "iopub.status.busy": "2024-06-08T18:53:06.991552Z",
     "iopub.status.idle": "2024-06-08T18:53:07.774896Z",
     "shell.execute_reply": "2024-06-08T18:53:07.774384Z",
     "shell.execute_reply.started": "2024-06-08T18:53:06.991888Z"
    },
    "tags": []
   },
   "outputs": [
    {
     "name": "stdout",
     "output_type": "stream",
     "text": [
      "Checking tasks to skip...\n",
      "Checking pending tasks to submit...\n",
      "Total pending pids available to submit: 0 / 0\n"
     ]
    }
   ],
   "source": [
    "DBPATH = \"/home/yc2553/projects/TRE_directionality/TRE_Directionality_DB/\"\n",
    "DBNAME = \"2024_TRE_Directionality.db\"\n",
    "DBRESDIR = \"RMSResources/\"\n",
    "import sys\n",
    "import logging\n",
    "logger = logging.getLogger(\"rmspool\")\n",
    "logger.setLevel(\"INFO\")\n",
    "logger.addHandler(logging.StreamHandler(sys.stdout))\n",
    "from rmsp import rmscore\n",
    "rms = rmscore.ResourceManagementSystem(f\"{DBPATH}{DBNAME}\", f\"{DBPATH}{DBRESDIR}\")\n",
    "from rmsp import rmsbuilder\n",
    "rmspool = rmsbuilder.RMSProcessWrapPool(rms, 8)\n",
    "rmsb = rmsbuilder.RMSUnrunTasksBuilder(rmspool)\n",
    "from rmsp import rmsutils\n",
    "rms.set_scriptID(\"bcc3719729074f69a93a31a4b58e9fda\")\n",
    "\n"
   ]
  },
  {
   "cell_type": "code",
   "execution_count": 3,
   "id": "d30184fd-c7d0-4507-b7c7-0a6b525182d7",
   "metadata": {
    "execution": {
     "iopub.execute_input": "2024-06-08T18:40:56.326264Z",
     "iopub.status.busy": "2024-06-08T18:40:56.325512Z",
     "iopub.status.idle": "2024-06-08T18:40:56.375593Z",
     "shell.execute_reply": "2024-06-08T18:40:56.374491Z",
     "shell.execute_reply.started": "2024-06-08T18:40:56.326216Z"
    },
    "tags": []
   },
   "outputs": [],
   "source": [
    "from commandtemplate.conda import run_template_bash, OUTPUT_run_template_bash\n",
    "run_template_bash = rms.register_pipe(run_template_bash, output_func=OUTPUT_run_template_bash)\n"
   ]
  },
  {
   "cell_type": "code",
   "execution_count": 2,
   "id": "ab6b5b99-6008-47ae-a597-18d5b73e9489",
   "metadata": {
    "execution": {
     "iopub.execute_input": "2024-06-08T18:53:09.383121Z",
     "iopub.status.busy": "2024-06-08T18:53:09.382604Z",
     "iopub.status.idle": "2024-06-08T18:53:09.386581Z",
     "shell.execute_reply": "2024-06-08T18:53:09.385966Z",
     "shell.execute_reply.started": "2024-06-08T18:53:09.383093Z"
    },
    "tags": []
   },
   "outputs": [],
   "source": [
    "RESOURCE_DIR = \"/home/yc2553/projects/TRE_directionality/Resources/\""
   ]
  },
  {
   "cell_type": "markdown",
   "id": "14419182-910d-47ab-a59e-d85bc9f81e43",
   "metadata": {},
   "source": [
    "# Register genome and related files"
   ]
  },
  {
   "cell_type": "code",
   "execution_count": 3,
   "id": "8e736b55-f2ae-43ce-b801-df75988ae5b0",
   "metadata": {
    "execution": {
     "iopub.execute_input": "2024-06-08T18:53:10.567186Z",
     "iopub.status.busy": "2024-06-08T18:53:10.566640Z",
     "iopub.status.idle": "2024-06-08T18:53:29.183402Z",
     "shell.execute_reply": "2024-06-08T18:53:29.179860Z",
     "shell.execute_reply.started": "2024-06-08T18:53:10.567146Z"
    },
    "tags": []
   },
   "outputs": [],
   "source": [
    "for f in [\n",
    "\tf\"{RESOURCE_DIR}Genome/Human/GRCh38_no_alt_analysis_set_GCA_000001405.15.fasta.gz\",\n",
    "\tf\"{RESOURCE_DIR}Genome/Human/rDNA_U13369.1.fa.gz\",\n",
    "\tf\"{RESOURCE_DIR}Genome/Human/hg38.chrom.sizes.filtered\",\n",
    "\tf\"{RESOURCE_DIR}Genome/Human/hg38.chrom.sizes.filtered.no.chrY\",\n",
    "\tf\"{RESOURCE_DIR}Gencode/Human/gencode.v37.annotation.gtf.gz\",\n",
    "\tf\"{RESOURCE_DIR}Genome/Drosophila/dm6.fa.gz\",\n",
    "\t\n",
    "]:\n",
    "\trms.register_file(f)"
   ]
  },
  {
   "cell_type": "markdown",
   "id": "78b9f088-8176-43cf-96a4-e4af9800c169",
   "metadata": {},
   "source": [
    "# Unzip genome \n",
    "STAR require raw fasta files"
   ]
  },
  {
   "cell_type": "code",
   "execution_count": 8,
   "id": "bc762717-5d8d-4466-94fa-10c738566f53",
   "metadata": {
    "execution": {
     "iopub.execute_input": "2024-05-19T18:59:25.658167Z",
     "iopub.status.busy": "2024-05-19T18:59:25.657057Z",
     "iopub.status.idle": "2024-05-19T19:00:41.659257Z",
     "shell.execute_reply": "2024-05-19T19:00:41.657687Z",
     "shell.execute_reply.started": "2024-05-19T18:59:25.658079Z"
    },
    "tags": []
   },
   "outputs": [
    {
     "data": {
      "text/plain": [
       "<rmsp.rmscore.Resource at 0x7f69624f8280>"
      ]
     },
     "execution_count": 8,
     "metadata": {},
     "output_type": "execute_result"
    }
   ],
   "source": [
    "f = lambda **kwargs: [kwargs['o']]\n",
    "output_func = rms.register_pipe(f)\n",
    "run_template_bash(\n",
    "\t\"zcat {i} > {o}\",\n",
    "\toutput_func=output_func,\n",
    "\ti=rms.file_from_path(f\"{RESOURCE_DIR}Genome/Human/GRCh38_no_alt_analysis_set_GCA_000001405.15.fasta.gz\"),\n",
    "\to=f\"{RESOURCE_DIR}Genome/Human/GRCh38_no_alt_analysis_set_GCA_000001405.15.fasta\"\n",
    ")\n",
    "run_template_bash(\n",
    "\t\"zcat {i} > {o}\",\n",
    "\toutput_func=output_func,\n",
    "\ti=rms.file_from_path(f\"{RESOURCE_DIR}Genome/Human/rDNA_U13369.1.fa.gz\"),\n",
    "\to=f\"{RESOURCE_DIR}Genome/Human/rDNA_U13369.1.fa\"\n",
    ")\n",
    "run_template_bash(\n",
    "\t\"zcat {i} > {o}\",\n",
    "\toutput_func=output_func,\n",
    "\ti=rms.file_from_path(f\"{RESOURCE_DIR}Gencode/Human/gencode.v37.annotation.gtf.gz\"),\n",
    "\to=f\"{RESOURCE_DIR}Gencode/Human/gencode.v37.annotation.gtf\"\n",
    ")\n",
    "run_template_bash(\n",
    "\t\"zcat {i} > {o}\",\n",
    "\toutput_func=output_func,\n",
    "\ti=rms.file_from_path(f\"{RESOURCE_DIR}Genome/Drosophila/dm6.fa.gz\"),\n",
    "\to=f\"{RESOURCE_DIR}Genome/Drosophila/dm6.fa\"\n",
    ")"
   ]
  },
  {
   "cell_type": "markdown",
   "id": "8317d615-f2ac-47c4-98bf-4cf1a72d2aad",
   "metadata": {},
   "source": [
    "### Add prefix to dm6 for spikein indication"
   ]
  },
  {
   "cell_type": "code",
   "execution_count": 9,
   "id": "e3eb1c81-c33e-4b97-a071-d0252f8ea87d",
   "metadata": {
    "execution": {
     "iopub.execute_input": "2024-05-19T19:00:41.663621Z",
     "iopub.status.busy": "2024-05-19T19:00:41.662587Z",
     "iopub.status.idle": "2024-05-19T19:01:20.334424Z",
     "shell.execute_reply": "2024-05-19T19:01:20.330839Z",
     "shell.execute_reply.started": "2024-05-19T19:00:41.663554Z"
    },
    "tags": []
   },
   "outputs": [
    {
     "name": "stdout",
     "output_type": "stream",
     "text": [
      "conda run -n rms_procap_analysis_20240501 /bin/bash -c \"biodatatools modify_fasta_names -i /home/yc2553/projects/TRE_directionality/Resources/Genome/Drosophila/dm6.fa -o /home/yc2553/projects/TRE_directionality/Resources/Genome/Drosophila/dm6_addprefix.fa -func 'lambda x: \\\"dm6_\\\" + x'\"\n"
     ]
    },
    {
     "data": {
      "text/plain": [
       "<rmsp.rmscore.Resource at 0x7f6962e539a0>"
      ]
     },
     "execution_count": 9,
     "metadata": {},
     "output_type": "execute_result"
    }
   ],
   "source": [
    "f = lambda **kwargs: [kwargs['o']]\n",
    "output_func = rms.register_pipe(f)\n",
    "run_template_bash(\n",
    "\t\"biodatatools modify_fasta_names -i {i} -o {o} -func {func}\",\n",
    "\tconda_env=\"rms_procap_analysis_20240501\",\n",
    "\toutput_func=output_func,\n",
    "\ti=rms.file_from_path(f\"{RESOURCE_DIR}Genome/Drosophila/dm6.fa\"),\n",
    "\to=f\"{RESOURCE_DIR}Genome/Drosophila/dm6_addprefix.fa\",\n",
    "\tfunc=\"'lambda x: \\\"dm6_\\\" + x'\"\n",
    ")"
   ]
  },
  {
   "cell_type": "markdown",
   "id": "05788e9f-fb19-4e22-9555-d869aa0badf1",
   "metadata": {},
   "source": [
    "# STAR genome index"
   ]
  },
  {
   "cell_type": "markdown",
   "id": "ba955477-02d7-4a33-bc3a-1f56f2841548",
   "metadata": {},
   "source": [
    "## Human without spikein"
   ]
  },
  {
   "cell_type": "code",
   "execution_count": 10,
   "id": "6a99b5d9-e12a-4eb7-ba86-b394395aa36e",
   "metadata": {
    "execution": {
     "iopub.execute_input": "2024-05-19T19:01:20.340802Z",
     "iopub.status.busy": "2024-05-19T19:01:20.338701Z",
     "iopub.status.idle": "2024-05-19T19:40:46.991385Z",
     "shell.execute_reply": "2024-05-19T19:40:46.989937Z",
     "shell.execute_reply.started": "2024-05-19T19:01:20.340707Z"
    },
    "tags": []
   },
   "outputs": [
    {
     "name": "stdout",
     "output_type": "stream",
     "text": [
      "conda run -n rms_procap_analysis_20240501 /bin/bash -c \"STAR --runMode genomeGenerate --readFilesCommand zcat --runThreadN 32 --genomeDir /home/yc2553/projects/TRE_directionality/Resources/STAR_genome_index/hg38_rDNA_20240515 --genomeFastaFiles /home/yc2553/projects/TRE_directionality/Resources/Genome/Human/GRCh38_no_alt_analysis_set_GCA_000001405.15.fasta /home/yc2553/projects/TRE_directionality/Resources/Genome/Human/rDNA_U13369.1.fa --sjdbGTFfile /home/yc2553/projects/TRE_directionality/Resources/Gencode/Human/gencode.v37.annotation.gtf\"\n"
     ]
    },
    {
     "name": "stderr",
     "output_type": "stream",
     "text": [
      "!!!!! WARNING: Could not move Log.out file from ./Log.out into /home/yc2553/projects/TRE_directionality/Resources/STAR_genome_index/hg38_rDNA_20240515/Log.out. Will keep ./Log.out\n",
      "\n",
      "\n"
     ]
    },
    {
     "name": "stdout",
     "output_type": "stream",
     "text": [
      "\t/home/kl945/miniconda3/envs/rms_procap_analysis_20240501/bin/STAR-avx2 --runMode genomeGenerate --readFilesCommand zcat --runThreadN 32 --genomeDir /home/yc2553/projects/TRE_directionality/Resources/STAR_genome_index/hg38_rDNA_20240515 --genomeFastaFiles /home/yc2553/projects/TRE_directionality/Resources/Genome/Human/GRCh38_no_alt_analysis_set_GCA_000001405.15.fasta /home/yc2553/projects/TRE_directionality/Resources/Genome/Human/rDNA_U13369.1.fa --sjdbGTFfile /home/yc2553/projects/TRE_directionality/Resources/Gencode/Human/gencode.v37.annotation.gtf\n",
      "\tSTAR version: 2.7.11a   compiled: 2023-09-15T02:58:53+0000 :/opt/conda/conda-bld/star_1694746407721/work/source\n",
      "May 19 15:01:26 ..... started STAR run\n",
      "May 19 15:01:26 ... starting to generate Genome files\n",
      "May 19 15:02:42 ..... processing annotations GTF\n",
      "May 19 15:03:41 ... starting to sort Suffix Array. This may take a long time...\n",
      "May 19 15:04:08 ... sorting Suffix Array chunks and saving them to disk...\n",
      "May 19 15:24:53 ... loading chunks from disk, packing SA...\n",
      "May 19 15:28:14 ... finished generating suffix array\n",
      "May 19 15:28:15 ... generating Suffix Array index\n",
      "May 19 15:33:49 ... completed Suffix Array index\n",
      "May 19 15:33:51 ..... inserting junctions into the genome indices\n",
      "May 19 15:39:51 ... writing Genome to disk ...\n",
      "May 19 15:39:56 ... writing Suffix Array to disk ...\n",
      "May 19 15:40:38 ... writing SAindex to disk\n",
      "May 19 15:40:45 ..... finished successfully\n",
      "\n"
     ]
    },
    {
     "data": {
      "text/plain": [
       "<rmsp.rmscore.Resource at 0x7f69624f8ac0>"
      ]
     },
     "execution_count": 10,
     "metadata": {},
     "output_type": "execute_result"
    }
   ],
   "source": [
    "f = lambda **kwargs: [kwargs['genomeDir']]\n",
    "output_func = rms.register_pipe(f)\n",
    "run_template_bash(\n",
    "\t\"STAR --runMode genomeGenerate --readFilesCommand zcat --runThreadN {thread} --genomeDir {genomeDir} --genomeFastaFiles {i0} {i1} --sjdbGTFfile {annotation_file}\",\n",
    "\tconda_env=\"rms_procap_analysis_20240501\",\n",
    "\toutput_func=output_func,\n",
    "\ti0=rms.file_from_path(f\"{RESOURCE_DIR}Genome/Human/GRCh38_no_alt_analysis_set_GCA_000001405.15.fasta\"),\n",
    "\ti1=rms.file_from_path(f\"{RESOURCE_DIR}Genome/Human/rDNA_U13369.1.fa\"),\n",
    "\tannotation_file=rms.file_from_path(f\"{RESOURCE_DIR}Gencode/Human/gencode.v37.annotation.gtf\"),\n",
    "\tthread=32,\n",
    "\tgenomeDir=f\"{RESOURCE_DIR}STAR_genome_index/hg38_rDNA_20240515\"\n",
    ")\n"
   ]
  },
  {
   "cell_type": "markdown",
   "id": "36d7aa34-f15c-4409-bf40-04b3ee247490",
   "metadata": {},
   "source": [
    "## Human with drosophila spikein"
   ]
  },
  {
   "cell_type": "code",
   "execution_count": 12,
   "id": "b388e949-858d-4d18-ac86-e470ca345999",
   "metadata": {
    "execution": {
     "iopub.execute_input": "2024-05-20T03:24:33.153780Z",
     "iopub.status.busy": "2024-05-20T03:24:33.152829Z",
     "iopub.status.idle": "2024-05-20T04:17:42.098704Z",
     "shell.execute_reply": "2024-05-20T04:17:42.096015Z",
     "shell.execute_reply.started": "2024-05-20T03:24:33.153692Z"
    },
    "tags": []
   },
   "outputs": [
    {
     "name": "stdout",
     "output_type": "stream",
     "text": [
      "conda run -n rms_procap_analysis_20240501 /bin/bash -c \"STAR --runMode genomeGenerate --readFilesCommand zcat --runThreadN 32 --genomeDir /home/yc2553/projects/TRE_directionality/Resources/STAR_genome_index/hg38_rDNA_dm6_20240519 --genomeFastaFiles /home/yc2553/projects/TRE_directionality/Resources/Genome/Human/GRCh38_no_alt_analysis_set_GCA_000001405.15.fasta /home/yc2553/projects/TRE_directionality/Resources/Genome/Human/rDNA_U13369.1.fa /home/yc2553/projects/TRE_directionality/Resources/Genome/Drosophila/dm6_addprefix.fa --sjdbGTFfile /home/yc2553/projects/TRE_directionality/Resources/Gencode/Human/gencode.v37.annotation.gtf\"\n"
     ]
    },
    {
     "name": "stderr",
     "output_type": "stream",
     "text": [
      "!!!!! WARNING: Could not move Log.out file from ./Log.out into /home/yc2553/projects/TRE_directionality/Resources/STAR_genome_index/hg38_rDNA_dm6_20240519/Log.out. Will keep ./Log.out\n",
      "\n",
      "\n"
     ]
    },
    {
     "name": "stdout",
     "output_type": "stream",
     "text": [
      "\t/home/kl945/miniconda3/envs/rms_procap_analysis_20240501/bin/STAR-avx2 --runMode genomeGenerate --readFilesCommand zcat --runThreadN 32 --genomeDir /home/yc2553/projects/TRE_directionality/Resources/STAR_genome_index/hg38_rDNA_dm6_20240519 --genomeFastaFiles /home/yc2553/projects/TRE_directionality/Resources/Genome/Human/GRCh38_no_alt_analysis_set_GCA_000001405.15.fasta /home/yc2553/projects/TRE_directionality/Resources/Genome/Human/rDNA_U13369.1.fa /home/yc2553/projects/TRE_directionality/Resources/Genome/Drosophila/dm6_addprefix.fa --sjdbGTFfile /home/yc2553/projects/TRE_directionality/Resources/Gencode/Human/gencode.v37.annotation.gtf\n",
      "\tSTAR version: 2.7.11a   compiled: 2023-09-15T02:58:53+0000 :/opt/conda/conda-bld/star_1694746407721/work/source\n",
      "May 19 23:24:36 ..... started STAR run\n",
      "May 19 23:24:36 ... starting to generate Genome files\n",
      "May 19 23:26:07 ..... processing annotations GTF\n",
      "May 19 23:27:18 ... starting to sort Suffix Array. This may take a long time...\n",
      "May 19 23:28:16 ... sorting Suffix Array chunks and saving them to disk...\n",
      "May 19 23:56:27 ... loading chunks from disk, packing SA...\n",
      "May 20 00:00:55 ... finished generating suffix array\n",
      "May 20 00:00:55 ... generating Suffix Array index\n",
      "May 20 00:08:14 ... completed Suffix Array index\n",
      "May 20 00:08:15 ..... inserting junctions into the genome indices\n",
      "May 20 00:16:39 ... writing Genome to disk ...\n",
      "May 20 00:16:46 ... writing Suffix Array to disk ...\n",
      "May 20 00:17:33 ... writing SAindex to disk\n",
      "May 20 00:17:38 ..... finished successfully\n",
      "\n"
     ]
    },
    {
     "data": {
      "text/plain": [
       "<rmsp.rmscore.Resource at 0x7f6961161f70>"
      ]
     },
     "execution_count": 12,
     "metadata": {},
     "output_type": "execute_result"
    }
   ],
   "source": [
    "f = lambda **kwargs: [kwargs['genomeDir']]\n",
    "output_func = rms.register_pipe(f)\n",
    "run_template_bash(\n",
    "\t\"STAR --runMode genomeGenerate --readFilesCommand zcat --runThreadN {thread} --genomeDir {genomeDir} --genomeFastaFiles {i0} {i1} {i2} --sjdbGTFfile {annotation_file}\",\n",
    "\tconda_env=\"rms_procap_analysis_20240501\",\n",
    "\toutput_func=output_func,\n",
    "\ti0=rms.file_from_path(f\"{RESOURCE_DIR}Genome/Human/GRCh38_no_alt_analysis_set_GCA_000001405.15.fasta\"),\n",
    "\ti1=rms.file_from_path(f\"{RESOURCE_DIR}Genome/Human/rDNA_U13369.1.fa\"),\n",
    "\ti2=rms.file_from_path(f\"{RESOURCE_DIR}Genome/Drosophila/dm6_addprefix.fa\"),\n",
    "\tannotation_file=rms.file_from_path(f\"{RESOURCE_DIR}Gencode/Human/gencode.v37.annotation.gtf\"),\n",
    "\tthread=32,\n",
    "\tgenomeDir=f\"{RESOURCE_DIR}STAR_genome_index/hg38_rDNA_dm6_20240519\"\n",
    ")\n"
   ]
  },
  {
   "cell_type": "markdown",
   "id": "ef2d326c-9c3d-4f10-8e12-f8f4b423c20c",
   "metadata": {},
   "source": [
    "# Gencode annotation "
   ]
  },
  {
   "cell_type": "code",
   "execution_count": 6,
   "id": "056618eb-274c-4ea4-aeed-a10c2c2fcf09",
   "metadata": {
    "execution": {
     "iopub.execute_input": "2024-05-22T18:55:49.778657Z",
     "iopub.status.busy": "2024-05-22T18:55:49.778116Z",
     "iopub.status.idle": "2024-05-22T18:59:36.762224Z",
     "shell.execute_reply": "2024-05-22T18:59:36.761191Z",
     "shell.execute_reply.started": "2024-05-22T18:55:49.778623Z"
    },
    "tags": []
   },
   "outputs": [
    {
     "data": {
      "text/plain": [
       "<rmsp.rmscore.Resource at 0x7fc2e0ffad60>"
      ]
     },
     "execution_count": 6,
     "metadata": {},
     "output_type": "execute_result"
    }
   ],
   "source": [
    "f = lambda **kwargs: [kwargs['o']]\n",
    "output_func = rms.register_pipe(f)\n",
    "run_template_bash(\n",
    "\t\"biodatatools generate_union_TSS -i {i} -o {o} -forward_len {forward_len} -reverse_len {reverse_len}\",\n",
    "\tconda_env=\"rms_procap_analysis_20240501\",\n",
    "\toutput_func=output_func,\n",
    "\ti=rms.file_from_path(f\"{RESOURCE_DIR}Gencode/Human/gencode.v37.annotation.gtf.gz\"),\n",
    "\to=f\"{RESOURCE_DIR}Gencode/Human/gencode.v37.annotation.TSS.500.bed.bgz\",\n",
    "\tforward_len=500,\n",
    "\treverse_len=500,\n",
    "\t\n",
    ")"
   ]
  },
  {
   "cell_type": "code",
   "execution_count": 8,
   "id": "3d3c80c9-8222-4c58-95b4-b6821658fcd9",
   "metadata": {
    "execution": {
     "iopub.execute_input": "2024-06-01T02:58:20.008007Z",
     "iopub.status.busy": "2024-06-01T02:58:20.006502Z",
     "iopub.status.idle": "2024-06-01T03:02:30.078923Z",
     "shell.execute_reply": "2024-06-01T03:02:30.077365Z",
     "shell.execute_reply.started": "2024-06-01T02:58:20.007938Z"
    },
    "tags": []
   },
   "outputs": [
    {
     "data": {
      "text/plain": [
       "<rmsp.rmscore.Resource at 0x7fc2e2152700>"
      ]
     },
     "execution_count": 8,
     "metadata": {},
     "output_type": "execute_result"
    }
   ],
   "source": [
    "f = lambda **kwargs: [kwargs['o']]\n",
    "output_func = rms.register_pipe(f)\n",
    "run_template_bash(\n",
    "\t\"biodatatools generate_union_transcripts -i {i} -o {o}\",\n",
    "\tconda_env=\"rms_procap_analysis_20240501\",\n",
    "\toutput_func=output_func,\n",
    "\ti=rms.file_from_path(f\"{RESOURCE_DIR}Gencode/Human/gencode.v37.annotation.gtf.gz\"),\n",
    "\to=f\"{RESOURCE_DIR}Gencode/Human/gencode.v37.annotation.transcripts.union.bed.bgz\",\n",
    "\t\n",
    ")"
   ]
  },
  {
   "cell_type": "markdown",
   "id": "7ca2aa9b-d6a8-4571-8fa8-a0af45c4e489",
   "metadata": {},
   "source": [
    "# Generate annotation for QC (gene body ratio)"
   ]
  },
  {
   "cell_type": "code",
   "execution_count": 5,
   "id": "7166f290-16aa-4e00-97b9-9004f4f09648",
   "metadata": {
    "execution": {
     "iopub.execute_input": "2024-06-08T18:41:23.532174Z",
     "iopub.status.busy": "2024-06-08T18:41:23.531613Z",
     "iopub.status.idle": "2024-06-08T18:41:23.545669Z",
     "shell.execute_reply": "2024-06-08T18:41:23.544585Z",
     "shell.execute_reply.started": "2024-06-08T18:41:23.532127Z"
    },
    "tags": []
   },
   "outputs": [],
   "source": [
    "from commonhelper import load_func\n",
    "RMSTemplate_generate_QC_gbratio_annotation_20240501 = load_func(\"/fs/cbsuhy01/storage/kl945/github_repositories/Test3/TestDB/RMSLibrary/PROcapAnalysis/20240501/scripts/procapanalysis.py\", \"RMSTemplate_generate_QC_gbratio_annotation_20240501\")\n"
   ]
  },
  {
   "cell_type": "code",
   "execution_count": 6,
   "id": "a8a98c72-a434-4a12-b357-c16feb2f3f25",
   "metadata": {
    "execution": {
     "iopub.execute_input": "2024-06-08T18:42:32.830513Z",
     "iopub.status.busy": "2024-06-08T18:42:32.828274Z",
     "iopub.status.idle": "2024-06-08T18:48:33.278125Z",
     "shell.execute_reply": "2024-06-08T18:48:33.276625Z",
     "shell.execute_reply.started": "2024-06-08T18:42:32.830448Z"
    },
    "tags": []
   },
   "outputs": [],
   "source": [
    "RMSTemplate_generate_QC_gbratio_annotation_20240501(\n",
    "\trms,\n",
    "\tconda_env=\"rms_procap_analysis_20240501\",\n",
    "\tannotation_file=f\"{RESOURCE_DIR}Gencode/Human/gencode.v37.annotation.gtf.gz\",\n",
    "\to = f\"/home/yc2553/projects/TRE_directionality/PROcap/QC/Annotations/gencode.v37.annotation_proteincoding_nonoverlapping_long_transcripts.gtf.gz\",\n",
    "\tdiscarded_chroms=[\"chrY\"]\n",
    ")\n"
   ]
  }
 ],
 "metadata": {
  "kernelspec": {
   "display_name": "Python 3 (ipykernel)",
   "language": "python",
   "name": "python3"
  },
  "language_info": {
   "codemirror_mode": {
    "name": "ipython",
    "version": 3
   },
   "file_extension": ".py",
   "mimetype": "text/x-python",
   "name": "python",
   "nbconvert_exporter": "python",
   "pygments_lexer": "ipython3",
   "version": "3.9.15"
  }
 },
 "nbformat": 4,
 "nbformat_minor": 5
}

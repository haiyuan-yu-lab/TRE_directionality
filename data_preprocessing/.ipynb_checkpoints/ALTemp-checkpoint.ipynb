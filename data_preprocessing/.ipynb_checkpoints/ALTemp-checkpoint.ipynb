{
 "cells": [
  {
   "cell_type": "code",
   "execution_count": 31,
   "id": "485a6274-f3c7-4127-b199-7abade325537",
   "metadata": {
    "execution": {
     "iopub.execute_input": "2024-10-02T05:05:41.808298Z",
     "iopub.status.busy": "2024-10-02T05:05:41.807471Z",
     "iopub.status.idle": "2024-10-02T05:05:46.502637Z",
     "shell.execute_reply": "2024-10-02T05:05:46.501087Z",
     "shell.execute_reply.started": "2024-10-02T05:05:41.808247Z"
    },
    "tags": []
   },
   "outputs": [],
   "source": [
    "import pandas as pd\n",
    "import matplotlib\n",
    "import matplotlib.pyplot as plt\n",
    "from mphelper import ProcessWrapPool\n",
    "import numpy as np\n",
    "from biodata.delimited import DelimitedReader"
   ]
  },
  {
   "cell_type": "code",
   "execution_count": 10,
   "id": "3a02941b-44fb-4ae3-aa1f-6a6366d81611",
   "metadata": {
    "execution": {
     "iopub.execute_input": "2024-10-02T07:39:55.005771Z",
     "iopub.status.busy": "2024-10-02T07:39:55.005101Z",
     "iopub.status.idle": "2024-10-02T07:39:55.012448Z",
     "shell.execute_reply": "2024-10-02T07:39:55.011152Z",
     "shell.execute_reply.started": "2024-10-02T07:39:55.005721Z"
    },
    "tags": []
   },
   "outputs": [],
   "source": [
    "PROJECT_DIR_s = \"/home/yc2553/projects/TRE_directionality/codes/\"\n",
    "PROJECT_DIR_r = \"/home/yc2553/projects/TRE_directionality/Resources/\"\n",
    "PROJECT_DIR_d = \"/home/yc2553/projects/TRE_directionality/PROcap/\"\n",
    "PROJECT_DIR_o = \"/home/yc2553/projects/TRE_directionality/output/\""
   ]
  },
  {
   "cell_type": "code",
   "execution_count": 3,
   "id": "f1c3ecb7-756d-4fb6-a73d-f260af385537",
   "metadata": {
    "execution": {
     "iopub.execute_input": "2024-08-20T20:32:07.029446Z",
     "iopub.status.busy": "2024-08-20T20:32:07.028520Z",
     "iopub.status.idle": "2024-08-20T20:32:07.035050Z",
     "shell.execute_reply": "2024-08-20T20:32:07.034041Z",
     "shell.execute_reply.started": "2024-08-20T20:32:07.029389Z"
    }
   },
   "outputs": [],
   "source": [
    "import sys\n",
    "sys.path.append(PROJECT_DIR_s)"
   ]
  },
  {
   "cell_type": "code",
   "execution_count": 4,
   "id": "4992f562-8fd9-4a5a-9990-9c7408dad3ef",
   "metadata": {
    "execution": {
     "iopub.execute_input": "2024-08-20T20:32:07.037849Z",
     "iopub.status.busy": "2024-08-20T20:32:07.036603Z",
     "iopub.status.idle": "2024-08-20T20:32:07.225387Z",
     "shell.execute_reply": "2024-08-20T20:32:07.224130Z",
     "shell.execute_reply.started": "2024-08-20T20:32:07.037797Z"
    }
   },
   "outputs": [
    {
     "data": {
      "text/plain": [
       "<module 'utils' from '/home/yc2553/projects/TRE_directionality/codes/utils.py'>"
      ]
     },
     "execution_count": 4,
     "metadata": {},
     "output_type": "execute_result"
    }
   ],
   "source": [
    "import importlib\n",
    "import utils\n",
    "importlib.reload(utils)"
   ]
  },
  {
   "cell_type": "markdown",
   "id": "8c745a06-a9b3-4ec7-9f7c-183a6f4c9c52",
   "metadata": {},
   "source": [
    "# 1. Generate feature matrix"
   ]
  },
  {
   "cell_type": "markdown",
   "id": "088d6ce0-1101-4036-8077-1ed1a6bdc942",
   "metadata": {},
   "source": [
    "## 1.1 Get individual matrix"
   ]
  },
  {
   "cell_type": "code",
   "execution_count": 7,
   "id": "c44eabf3-daef-435d-9e5f-19ea5e69e8a0",
   "metadata": {
    "execution": {
     "iopub.execute_input": "2024-10-02T07:39:50.153012Z",
     "iopub.status.busy": "2024-10-02T07:39:50.152338Z",
     "iopub.status.idle": "2024-10-02T07:39:50.160052Z",
     "shell.execute_reply": "2024-10-02T07:39:50.158822Z",
     "shell.execute_reply.started": "2024-10-02T07:39:50.152958Z"
    },
    "tags": []
   },
   "outputs": [],
   "source": [
    "s = \"C1\"\n",
    "ks = [\"pl\", \"mn\"]\n",
    "ps = [\"divergent\", \"unidirectional\"]\n",
    "ds = [\"distal\", \"proximal\"]\n",
    "gs = [p+\"_\"+d for p in ps for d in ds]\n",
    "#cs = [\"\", \"_control\"]\n",
    "cs = [\"\"]"
   ]
  },
  {
   "cell_type": "code",
   "execution_count": 11,
   "id": "531ac254-e8b9-4eba-8a6e-e24a719d758d",
   "metadata": {
    "execution": {
     "iopub.execute_input": "2024-10-02T07:39:57.523816Z",
     "iopub.status.busy": "2024-10-02T07:39:57.523123Z",
     "iopub.status.idle": "2024-10-02T07:39:57.531444Z",
     "shell.execute_reply": "2024-10-02T07:39:57.530327Z",
     "shell.execute_reply.started": "2024-10-02T07:39:57.523761Z"
    },
    "tags": []
   },
   "outputs": [],
   "source": [
    "bws = {\"PROcap_pl\": PROJECT_DIR_d + \"Analysis/\" + \"_\".join([s, \"dedup_chr1-22-X_R2_coverage\", \"pl\"]) + \".bw\",\n",
    "\t   \"PROcap_mn\": PROJECT_DIR_d + \"Analysis/\" + \"_\".join([s, \"dedup_chr1-22-X_R2_coverage\", \"mn\"]) + \".bw\",\n",
    "\t   \"DNase\": PROJECT_DIR_r + \"ENCODE/ENCFF414OGC.bigWig\",\n",
    "\t   \"H3K27ac\": PROJECT_DIR_r + \"ENCODE/ENCFF849TDM.bigWig\"\n",
    "\t\t}"
   ]
  },
  {
   "cell_type": "code",
   "execution_count": 12,
   "id": "f460bbe5-647c-417d-9106-e9c219e6d26d",
   "metadata": {
    "execution": {
     "iopub.execute_input": "2024-10-02T07:39:59.028547Z",
     "iopub.status.busy": "2024-10-02T07:39:59.027870Z",
     "iopub.status.idle": "2024-10-02T07:39:59.034662Z",
     "shell.execute_reply": "2024-10-02T07:39:59.033632Z",
     "shell.execute_reply.started": "2024-10-02T07:39:59.028495Z"
    },
    "tags": []
   },
   "outputs": [],
   "source": [
    "ms = [\"PROcap\", \"DNase\", \"H3K27ac\"]"
   ]
  },
  {
   "cell_type": "code",
   "execution_count": 13,
   "id": "5474de41-5067-4bd5-b9ba-324601b1fb3d",
   "metadata": {
    "execution": {
     "iopub.execute_input": "2024-10-02T07:40:00.486465Z",
     "iopub.status.busy": "2024-10-02T07:40:00.485791Z",
     "iopub.status.idle": "2024-10-02T07:40:00.495763Z",
     "shell.execute_reply": "2024-10-02T07:40:00.494723Z",
     "shell.execute_reply.started": "2024-10-02T07:40:00.486410Z"
    },
    "tags": []
   },
   "outputs": [],
   "source": [
    "for g in gs:\n",
    "\tfor c in cs:\n",
    "\t\tbed_in = PROJECT_DIR_d + \"bed_plot/\" + \"_\".join([s, g+c]) + \".bed\"\n",
    "\t\tfor m in bws:\n",
    "\t\t\toutput1 = PROJECT_DIR_o + \"temp/\" + \"_\".join([s, m, g+c]) + \".txt\"\n",
    "\t\t\toutput2 = PROJECT_DIR_o + \"temp/\" + \"_\".join([s, m, g+c, \"reformat\"]) + \".txt\"\n",
    "\t\t\tif \"PROcap\" in m:\t\t\n",
    "\t\t\t\tstrand_sensitive = True\n",
    "\t\t\t\tstrand = m.split(\"_\")[1]\n",
    "\t\t\t\tbreak\n",
    "\t\t\telse:\n",
    "\t\t\t\tstrand_sensitive = False\n",
    "\t\t\t\tstrand = None\t\t\n",
    "\t\t\t\t"
   ]
  },
  {
   "cell_type": "code",
   "execution_count": 5,
   "id": "16f7b198-766f-40d5-a99b-8e93b0a9801d",
   "metadata": {
    "execution": {
     "iopub.execute_input": "2024-10-02T07:39:43.608364Z",
     "iopub.status.busy": "2024-10-02T07:39:43.607787Z",
     "iopub.status.idle": "2024-10-02T07:39:43.618470Z",
     "shell.execute_reply": "2024-10-02T07:39:43.617365Z",
     "shell.execute_reply.started": "2024-10-02T07:39:43.608311Z"
    },
    "tags": []
   },
   "outputs": [],
   "source": [
    "def get_feature_matrix(bed_in, bw_in, output1, output2, strand_sensitive=False, strand=None, na_replace=0, type=\"full_length\", extension=250):\n",
    "\t\"\"\"\n",
    "\tGet one feature matrix for heatmap and one reformatted matrix for metaplot\n",
    "\t\"\"\"\n",
    "\t\n",
    "\tn = get_feature_matrix_for_heatmap(bed_in, bw_in, output1, strand_sensitive, strand, na_replace, type, extension)\n",
    "\treturn n\n",
    "\t# t = get_feature_matrix(bed_in, bws[m], output1, output2, strand_sensitive, strand)"
   ]
  },
  {
   "cell_type": "code",
   "execution_count": 85,
   "id": "86d11b69-5657-480e-b3f7-b3bcc5e13208",
   "metadata": {
    "execution": {
     "iopub.execute_input": "2024-10-02T05:18:20.916422Z",
     "iopub.status.busy": "2024-10-02T05:18:20.915777Z",
     "iopub.status.idle": "2024-10-02T05:18:20.924772Z",
     "shell.execute_reply": "2024-10-02T05:18:20.923629Z",
     "shell.execute_reply.started": "2024-10-02T05:18:20.916377Z"
    },
    "tags": []
   },
   "outputs": [
    {
     "data": {
      "text/plain": [
       "'/home/yc2553/projects/TRE_directionality/PROcap/bed_plot/C1_unidirectional_proximal.bed'"
      ]
     },
     "execution_count": 85,
     "metadata": {},
     "output_type": "execute_result"
    }
   ],
   "source": [
    "bed_in"
   ]
  },
  {
   "cell_type": "code",
   "execution_count": 53,
   "id": "89c0a2b8-3834-4413-96e2-7e47bc4e9022",
   "metadata": {
    "execution": {
     "iopub.execute_input": "2024-10-02T08:07:27.428631Z",
     "iopub.status.busy": "2024-10-02T08:07:27.428135Z",
     "iopub.status.idle": "2024-10-02T08:07:27.436098Z",
     "shell.execute_reply": "2024-10-02T08:07:27.434342Z",
     "shell.execute_reply.started": "2024-10-02T08:07:27.428585Z"
    },
    "tags": []
   },
   "outputs": [
    {
     "data": {
      "text/plain": [
       "'pl'"
      ]
     },
     "execution_count": 53,
     "metadata": {},
     "output_type": "execute_result"
    }
   ],
   "source": [
    "strand_sensitive\n",
    "strand"
   ]
  },
  {
   "cell_type": "code",
   "execution_count": 26,
   "id": "5165186c-51c3-4e8f-bb3d-7cad1c749d90",
   "metadata": {
    "execution": {
     "iopub.execute_input": "2024-10-02T07:59:49.987189Z",
     "iopub.status.busy": "2024-10-02T07:59:49.986497Z",
     "iopub.status.idle": "2024-10-02T07:59:54.568167Z",
     "shell.execute_reply": "2024-10-02T07:59:54.566953Z",
     "shell.execute_reply.started": "2024-10-02T07:59:49.987137Z"
    },
    "tags": []
   },
   "outputs": [],
   "source": [
    "df1 = get_feature_matrix(bed_in, bws[\"PROcap_pl\"], output1, output2, strand_sensitive, strand)\n",
    "df2 = get_feature_matrix(bed_in, bws[\"PROcap_mn\"], output1, output2, strand_sensitive, strand)"
   ]
  },
  {
   "cell_type": "code",
   "execution_count": 27,
   "id": "2c8c1356-5098-4c62-9e43-2dbcf594f77d",
   "metadata": {
    "execution": {
     "iopub.execute_input": "2024-10-02T07:59:58.370239Z",
     "iopub.status.busy": "2024-10-02T07:59:58.369559Z",
     "iopub.status.idle": "2024-10-02T07:59:58.599750Z",
     "shell.execute_reply": "2024-10-02T07:59:58.598670Z",
     "shell.execute_reply.started": "2024-10-02T07:59:58.370188Z"
    },
    "tags": []
   },
   "outputs": [
    {
     "data": {
      "text/html": [
       "<div>\n",
       "<style scoped>\n",
       "    .dataframe tbody tr th:only-of-type {\n",
       "        vertical-align: middle;\n",
       "    }\n",
       "\n",
       "    .dataframe tbody tr th {\n",
       "        vertical-align: top;\n",
       "    }\n",
       "\n",
       "    .dataframe thead th {\n",
       "        text-align: right;\n",
       "    }\n",
       "</style>\n",
       "<table border=\"1\" class=\"dataframe\">\n",
       "  <thead>\n",
       "    <tr style=\"text-align: right;\">\n",
       "      <th></th>\n",
       "      <th>Element</th>\n",
       "      <th>0</th>\n",
       "      <th>1</th>\n",
       "      <th>2</th>\n",
       "      <th>3</th>\n",
       "      <th>4</th>\n",
       "      <th>5</th>\n",
       "      <th>6</th>\n",
       "      <th>7</th>\n",
       "      <th>8</th>\n",
       "      <th>...</th>\n",
       "      <th>991</th>\n",
       "      <th>992</th>\n",
       "      <th>993</th>\n",
       "      <th>994</th>\n",
       "      <th>995</th>\n",
       "      <th>996</th>\n",
       "      <th>997</th>\n",
       "      <th>998</th>\n",
       "      <th>999</th>\n",
       "      <th>1000</th>\n",
       "    </tr>\n",
       "  </thead>\n",
       "  <tbody>\n",
       "    <tr>\n",
       "      <th>0</th>\n",
       "      <td>(chr1, 976227, 976241)</td>\n",
       "      <td>0.0</td>\n",
       "      <td>0.0</td>\n",
       "      <td>0.0</td>\n",
       "      <td>0.0</td>\n",
       "      <td>0.0</td>\n",
       "      <td>0.0</td>\n",
       "      <td>0.0</td>\n",
       "      <td>0.0</td>\n",
       "      <td>0.0</td>\n",
       "      <td>...</td>\n",
       "      <td>0.0</td>\n",
       "      <td>0.0</td>\n",
       "      <td>0.0</td>\n",
       "      <td>0.0</td>\n",
       "      <td>0.0</td>\n",
       "      <td>0.0</td>\n",
       "      <td>0.0</td>\n",
       "      <td>0.0</td>\n",
       "      <td>0.0</td>\n",
       "      <td>0.0</td>\n",
       "    </tr>\n",
       "    <tr>\n",
       "      <th>1</th>\n",
       "      <td>(chr1, 1063992, 1064058)</td>\n",
       "      <td>0.0</td>\n",
       "      <td>0.0</td>\n",
       "      <td>0.0</td>\n",
       "      <td>0.0</td>\n",
       "      <td>0.0</td>\n",
       "      <td>0.0</td>\n",
       "      <td>0.0</td>\n",
       "      <td>0.0</td>\n",
       "      <td>0.0</td>\n",
       "      <td>...</td>\n",
       "      <td>11.0</td>\n",
       "      <td>11.0</td>\n",
       "      <td>10.0</td>\n",
       "      <td>10.0</td>\n",
       "      <td>10.0</td>\n",
       "      <td>11.0</td>\n",
       "      <td>36.0</td>\n",
       "      <td>39.0</td>\n",
       "      <td>38.0</td>\n",
       "      <td>38.0</td>\n",
       "    </tr>\n",
       "    <tr>\n",
       "      <th>2</th>\n",
       "      <td>(chr1, 1304847, 1304875)</td>\n",
       "      <td>0.0</td>\n",
       "      <td>0.0</td>\n",
       "      <td>0.0</td>\n",
       "      <td>0.0</td>\n",
       "      <td>0.0</td>\n",
       "      <td>0.0</td>\n",
       "      <td>0.0</td>\n",
       "      <td>0.0</td>\n",
       "      <td>0.0</td>\n",
       "      <td>...</td>\n",
       "      <td>0.0</td>\n",
       "      <td>0.0</td>\n",
       "      <td>0.0</td>\n",
       "      <td>0.0</td>\n",
       "      <td>0.0</td>\n",
       "      <td>0.0</td>\n",
       "      <td>0.0</td>\n",
       "      <td>0.0</td>\n",
       "      <td>0.0</td>\n",
       "      <td>0.0</td>\n",
       "    </tr>\n",
       "    <tr>\n",
       "      <th>3</th>\n",
       "      <td>(chr1, 1309313, 1309388)</td>\n",
       "      <td>-0.0</td>\n",
       "      <td>-0.0</td>\n",
       "      <td>-0.0</td>\n",
       "      <td>-0.0</td>\n",
       "      <td>-0.0</td>\n",
       "      <td>-0.0</td>\n",
       "      <td>-0.0</td>\n",
       "      <td>-0.0</td>\n",
       "      <td>-0.0</td>\n",
       "      <td>...</td>\n",
       "      <td>-3.0</td>\n",
       "      <td>-3.0</td>\n",
       "      <td>-3.0</td>\n",
       "      <td>-3.0</td>\n",
       "      <td>-3.0</td>\n",
       "      <td>-3.0</td>\n",
       "      <td>-4.0</td>\n",
       "      <td>-8.0</td>\n",
       "      <td>-11.0</td>\n",
       "      <td>-15.0</td>\n",
       "    </tr>\n",
       "    <tr>\n",
       "      <th>4</th>\n",
       "      <td>(chr1, 3471909, 3471968)</td>\n",
       "      <td>-0.0</td>\n",
       "      <td>-0.0</td>\n",
       "      <td>-0.0</td>\n",
       "      <td>-0.0</td>\n",
       "      <td>-0.0</td>\n",
       "      <td>-0.0</td>\n",
       "      <td>-0.0</td>\n",
       "      <td>-0.0</td>\n",
       "      <td>-0.0</td>\n",
       "      <td>...</td>\n",
       "      <td>-0.0</td>\n",
       "      <td>-0.0</td>\n",
       "      <td>-0.0</td>\n",
       "      <td>-0.0</td>\n",
       "      <td>-0.0</td>\n",
       "      <td>-0.0</td>\n",
       "      <td>-0.0</td>\n",
       "      <td>-0.0</td>\n",
       "      <td>-0.0</td>\n",
       "      <td>-0.0</td>\n",
       "    </tr>\n",
       "    <tr>\n",
       "      <th>...</th>\n",
       "      <td>...</td>\n",
       "      <td>...</td>\n",
       "      <td>...</td>\n",
       "      <td>...</td>\n",
       "      <td>...</td>\n",
       "      <td>...</td>\n",
       "      <td>...</td>\n",
       "      <td>...</td>\n",
       "      <td>...</td>\n",
       "      <td>...</td>\n",
       "      <td>...</td>\n",
       "      <td>...</td>\n",
       "      <td>...</td>\n",
       "      <td>...</td>\n",
       "      <td>...</td>\n",
       "      <td>...</td>\n",
       "      <td>...</td>\n",
       "      <td>...</td>\n",
       "      <td>...</td>\n",
       "      <td>...</td>\n",
       "      <td>...</td>\n",
       "    </tr>\n",
       "    <tr>\n",
       "      <th>1415</th>\n",
       "      <td>(chrX, 153470479, 153470619)</td>\n",
       "      <td>-0.0</td>\n",
       "      <td>-0.0</td>\n",
       "      <td>-0.0</td>\n",
       "      <td>-0.0</td>\n",
       "      <td>-0.0</td>\n",
       "      <td>-0.0</td>\n",
       "      <td>-0.0</td>\n",
       "      <td>-0.0</td>\n",
       "      <td>-0.0</td>\n",
       "      <td>...</td>\n",
       "      <td>-1.0</td>\n",
       "      <td>-1.0</td>\n",
       "      <td>-1.0</td>\n",
       "      <td>-1.0</td>\n",
       "      <td>-1.0</td>\n",
       "      <td>-1.0</td>\n",
       "      <td>-1.0</td>\n",
       "      <td>-1.0</td>\n",
       "      <td>-1.0</td>\n",
       "      <td>-1.0</td>\n",
       "    </tr>\n",
       "    <tr>\n",
       "      <th>1416</th>\n",
       "      <td>(chrX, 153471030, 153471065)</td>\n",
       "      <td>0.0</td>\n",
       "      <td>0.0</td>\n",
       "      <td>0.0</td>\n",
       "      <td>0.0</td>\n",
       "      <td>0.0</td>\n",
       "      <td>0.0</td>\n",
       "      <td>0.0</td>\n",
       "      <td>0.0</td>\n",
       "      <td>0.0</td>\n",
       "      <td>...</td>\n",
       "      <td>0.0</td>\n",
       "      <td>0.0</td>\n",
       "      <td>0.0</td>\n",
       "      <td>0.0</td>\n",
       "      <td>0.0</td>\n",
       "      <td>0.0</td>\n",
       "      <td>0.0</td>\n",
       "      <td>0.0</td>\n",
       "      <td>0.0</td>\n",
       "      <td>0.0</td>\n",
       "    </tr>\n",
       "    <tr>\n",
       "      <th>1417</th>\n",
       "      <td>(chrX, 153600108, 153600146)</td>\n",
       "      <td>-0.0</td>\n",
       "      <td>-0.0</td>\n",
       "      <td>-0.0</td>\n",
       "      <td>-0.0</td>\n",
       "      <td>-0.0</td>\n",
       "      <td>-0.0</td>\n",
       "      <td>-0.0</td>\n",
       "      <td>-0.0</td>\n",
       "      <td>-0.0</td>\n",
       "      <td>...</td>\n",
       "      <td>-0.0</td>\n",
       "      <td>-0.0</td>\n",
       "      <td>-0.0</td>\n",
       "      <td>-0.0</td>\n",
       "      <td>-0.0</td>\n",
       "      <td>-0.0</td>\n",
       "      <td>-0.0</td>\n",
       "      <td>-0.0</td>\n",
       "      <td>-0.0</td>\n",
       "      <td>-0.0</td>\n",
       "    </tr>\n",
       "    <tr>\n",
       "      <th>1418</th>\n",
       "      <td>(chrX, 153776874, 153776890)</td>\n",
       "      <td>0.0</td>\n",
       "      <td>0.0</td>\n",
       "      <td>0.0</td>\n",
       "      <td>0.0</td>\n",
       "      <td>0.0</td>\n",
       "      <td>0.0</td>\n",
       "      <td>0.0</td>\n",
       "      <td>0.0</td>\n",
       "      <td>0.0</td>\n",
       "      <td>...</td>\n",
       "      <td>0.0</td>\n",
       "      <td>0.0</td>\n",
       "      <td>0.0</td>\n",
       "      <td>0.0</td>\n",
       "      <td>0.0</td>\n",
       "      <td>0.0</td>\n",
       "      <td>0.0</td>\n",
       "      <td>0.0</td>\n",
       "      <td>0.0</td>\n",
       "      <td>0.0</td>\n",
       "    </tr>\n",
       "    <tr>\n",
       "      <th>1419</th>\n",
       "      <td>(chrX, 153793466, 153793536)</td>\n",
       "      <td>0.0</td>\n",
       "      <td>0.0</td>\n",
       "      <td>0.0</td>\n",
       "      <td>0.0</td>\n",
       "      <td>0.0</td>\n",
       "      <td>0.0</td>\n",
       "      <td>0.0</td>\n",
       "      <td>0.0</td>\n",
       "      <td>0.0</td>\n",
       "      <td>...</td>\n",
       "      <td>1.0</td>\n",
       "      <td>1.0</td>\n",
       "      <td>1.0</td>\n",
       "      <td>1.0</td>\n",
       "      <td>1.0</td>\n",
       "      <td>0.0</td>\n",
       "      <td>0.0</td>\n",
       "      <td>0.0</td>\n",
       "      <td>0.0</td>\n",
       "      <td>0.0</td>\n",
       "    </tr>\n",
       "  </tbody>\n",
       "</table>\n",
       "<p>1420 rows × 1002 columns</p>\n",
       "</div>"
      ],
      "text/plain": [
       "                           Element    0    1    2    3    4    5    6    7  \\\n",
       "0           (chr1, 976227, 976241)  0.0  0.0  0.0  0.0  0.0  0.0  0.0  0.0   \n",
       "1         (chr1, 1063992, 1064058)  0.0  0.0  0.0  0.0  0.0  0.0  0.0  0.0   \n",
       "2         (chr1, 1304847, 1304875)  0.0  0.0  0.0  0.0  0.0  0.0  0.0  0.0   \n",
       "3         (chr1, 1309313, 1309388) -0.0 -0.0 -0.0 -0.0 -0.0 -0.0 -0.0 -0.0   \n",
       "4         (chr1, 3471909, 3471968) -0.0 -0.0 -0.0 -0.0 -0.0 -0.0 -0.0 -0.0   \n",
       "...                            ...  ...  ...  ...  ...  ...  ...  ...  ...   \n",
       "1415  (chrX, 153470479, 153470619) -0.0 -0.0 -0.0 -0.0 -0.0 -0.0 -0.0 -0.0   \n",
       "1416  (chrX, 153471030, 153471065)  0.0  0.0  0.0  0.0  0.0  0.0  0.0  0.0   \n",
       "1417  (chrX, 153600108, 153600146) -0.0 -0.0 -0.0 -0.0 -0.0 -0.0 -0.0 -0.0   \n",
       "1418  (chrX, 153776874, 153776890)  0.0  0.0  0.0  0.0  0.0  0.0  0.0  0.0   \n",
       "1419  (chrX, 153793466, 153793536)  0.0  0.0  0.0  0.0  0.0  0.0  0.0  0.0   \n",
       "\n",
       "        8  ...   991   992   993   994   995   996   997   998   999  1000  \n",
       "0     0.0  ...   0.0   0.0   0.0   0.0   0.0   0.0   0.0   0.0   0.0   0.0  \n",
       "1     0.0  ...  11.0  11.0  10.0  10.0  10.0  11.0  36.0  39.0  38.0  38.0  \n",
       "2     0.0  ...   0.0   0.0   0.0   0.0   0.0   0.0   0.0   0.0   0.0   0.0  \n",
       "3    -0.0  ...  -3.0  -3.0  -3.0  -3.0  -3.0  -3.0  -4.0  -8.0 -11.0 -15.0  \n",
       "4    -0.0  ...  -0.0  -0.0  -0.0  -0.0  -0.0  -0.0  -0.0  -0.0  -0.0  -0.0  \n",
       "...   ...  ...   ...   ...   ...   ...   ...   ...   ...   ...   ...   ...  \n",
       "1415 -0.0  ...  -1.0  -1.0  -1.0  -1.0  -1.0  -1.0  -1.0  -1.0  -1.0  -1.0  \n",
       "1416  0.0  ...   0.0   0.0   0.0   0.0   0.0   0.0   0.0   0.0   0.0   0.0  \n",
       "1417 -0.0  ...  -0.0  -0.0  -0.0  -0.0  -0.0  -0.0  -0.0  -0.0  -0.0  -0.0  \n",
       "1418  0.0  ...   0.0   0.0   0.0   0.0   0.0   0.0   0.0   0.0   0.0   0.0  \n",
       "1419  0.0  ...   1.0   1.0   1.0   1.0   1.0   0.0   0.0   0.0   0.0   0.0  \n",
       "\n",
       "[1420 rows x 1002 columns]"
      ]
     },
     "execution_count": 27,
     "metadata": {},
     "output_type": "execute_result"
    }
   ],
   "source": [
    "df1"
   ]
  },
  {
   "cell_type": "code",
   "execution_count": 54,
   "id": "286df09e-fba4-4b1e-b5b5-31d9431be813",
   "metadata": {
    "execution": {
     "iopub.execute_input": "2024-10-02T08:08:06.908593Z",
     "iopub.status.busy": "2024-10-02T08:08:06.908081Z",
     "iopub.status.idle": "2024-10-02T08:08:06.917335Z",
     "shell.execute_reply": "2024-10-02T08:08:06.916330Z",
     "shell.execute_reply.started": "2024-10-02T08:08:06.908547Z"
    },
    "tags": []
   },
   "outputs": [
    {
     "data": {
      "text/plain": [
       "False"
      ]
     },
     "execution_count": 54,
     "metadata": {},
     "output_type": "execute_result"
    }
   ],
   "source": [
    "oridf[r] == v[::-1]"
   ]
  },
  {
   "cell_type": "code",
   "execution_count": 72,
   "id": "145993ae-c1ce-444e-8f8b-34ddad80bcea",
   "metadata": {
    "execution": {
     "iopub.execute_input": "2024-10-02T08:11:55.092799Z",
     "iopub.status.busy": "2024-10-02T08:11:55.092152Z",
     "iopub.status.idle": "2024-10-02T08:11:56.698299Z",
     "shell.execute_reply": "2024-10-02T08:11:56.697125Z",
     "shell.execute_reply.started": "2024-10-02T08:11:55.092750Z"
    },
    "tags": []
   },
   "outputs": [],
   "source": [
    "oridf1 = {}\n",
    "for _, r in df1.iterrows():\n",
    "\toridf1[r[\"Element\"]] = list(r)[1:]\n",
    "oridf2 = {}\n",
    "for _, r in df2.iterrows():\n",
    "\toridf2[r[\"Element\"]] = list(r)[1:]"
   ]
  },
  {
   "cell_type": "code",
   "execution_count": 28,
   "id": "a8577d52-a7fc-414d-8e45-c04de3fb6f35",
   "metadata": {
    "execution": {
     "iopub.execute_input": "2024-10-02T08:00:32.002544Z",
     "iopub.status.busy": "2024-10-02T08:00:32.001856Z",
     "iopub.status.idle": "2024-10-02T08:00:32.007625Z",
     "shell.execute_reply": "2024-10-02T08:00:32.006437Z",
     "shell.execute_reply.started": "2024-10-02T08:00:32.002490Z"
    },
    "tags": []
   },
   "outputs": [],
   "source": [
    "xt = pl_non_flip + mn_flip"
   ]
  },
  {
   "cell_type": "code",
   "execution_count": 84,
   "id": "7e90df8a-1a13-43f3-94f1-b3cd70459b04",
   "metadata": {
    "execution": {
     "iopub.execute_input": "2024-10-02T08:15:29.861084Z",
     "iopub.status.busy": "2024-10-02T08:15:29.860387Z",
     "iopub.status.idle": "2024-10-02T08:15:29.872546Z",
     "shell.execute_reply": "2024-10-02T08:15:29.871337Z",
     "shell.execute_reply.started": "2024-10-02T08:15:29.861012Z"
    },
    "tags": []
   },
   "outputs": [],
   "source": [
    "from commonhelper import reimport\n",
    "reimport(locals(), \"biodataplot.metaplot\")"
   ]
  },
  {
   "cell_type": "code",
   "execution_count": 85,
   "id": "097086a5-5106-45bd-b965-a0eb130f65b0",
   "metadata": {
    "execution": {
     "iopub.execute_input": "2024-10-02T08:15:30.069319Z",
     "iopub.status.busy": "2024-10-02T08:15:30.068690Z",
     "iopub.status.idle": "2024-10-02T08:15:30.117047Z",
     "shell.execute_reply": "2024-10-02T08:15:30.115724Z",
     "shell.execute_reply.started": "2024-10-02T08:15:30.069264Z"
    },
    "tags": []
   },
   "outputs": [],
   "source": [
    "import biodataplot.metaplot as bpm\n",
    "from genomictools import StrandedGenomicPos, StrandedGenomicAnnotation\n",
    "from biodata.bed import BEDXReader\n",
    "from biodata.bigwig import BigWigIReader\n",
    "regions = BEDXReader.read_all(list, bed_in, x=3, strandfield=\"f7\")"
   ]
  },
  {
   "cell_type": "code",
   "execution_count": 86,
   "id": "17235aa1-06e3-4705-8327-713c1cdd4d71",
   "metadata": {
    "execution": {
     "iopub.execute_input": "2024-10-02T08:15:30.305727Z",
     "iopub.status.busy": "2024-10-02T08:15:30.305089Z",
     "iopub.status.idle": "2024-10-02T08:15:34.878792Z",
     "shell.execute_reply": "2024-10-02T08:15:34.877162Z",
     "shell.execute_reply.started": "2024-10-02T08:15:30.305675Z"
    },
    "tags": []
   },
   "outputs": [],
   "source": [
    "# Case 1: strand \"+\". Here the direction of the region is NOT flipped. The plus reads is assigned to \"POSITIVE track profile\", the minus reads is assigned to \"NEGATIVE track profile\".\n",
    "# Case 2: strand \"-\": Here the direction of the region is flipped. Then plus reads is assigned in \"NEGATIVE track profile\", and the minus reads is assigned to \"POSITIVE track profile\"\n",
    "# Case 3: strand \".\" (Control): Treat it as case 1.\n",
    "non_flip_regions = list(filter(lambda a: a.stranded_genomic_pos.strand == \"+\", regions))\n",
    "flip_regions = list(filter(lambda a: a.stranded_genomic_pos.strand == \"-\", regions))\n",
    "\n",
    "pl_non_flip = bpm.generate_signal_profile(non_flip_regions, BigWigIReader(bws[\"PROcap_pl\"]), fixed_size=1001, use_strand=True)\n",
    "pl_flip = bpm.generate_signal_profile(flip_regions, BigWigIReader(bws[\"PROcap_pl\"]), fixed_size=1001, use_strand=True)\n",
    "mn_non_flip = bpm.generate_signal_profile(non_flip_regions, BigWigIReader(bws[\"PROcap_mn\"]), fixed_size=1001, use_strand=True)\n",
    "mn_flip = bpm.generate_signal_profile(flip_regions, BigWigIReader(bws[\"PROcap_mn\"]), fixed_size=1001, use_strand=True)\n",
    "\n",
    "assert len(pl_flip + mn_non_flip) == len(pl_non_flip + mn_flip)\n",
    "# Positive track\n",
    "# pl_non_flip + mn_flip \n",
    "# Negative track\n",
    "# mn_non_flip + pl_flip"
   ]
  },
  {
   "cell_type": "code",
   "execution_count": 96,
   "id": "ac145349-e092-4c68-b74f-70fa0b4507b2",
   "metadata": {
    "execution": {
     "iopub.execute_input": "2024-10-02T08:18:38.600678Z",
     "iopub.status.busy": "2024-10-02T08:18:38.600020Z",
     "iopub.status.idle": "2024-10-02T08:18:39.594153Z",
     "shell.execute_reply": "2024-10-02T08:18:39.593072Z",
     "shell.execute_reply.started": "2024-10-02T08:18:38.600627Z"
    },
    "tags": []
   },
   "outputs": [],
   "source": [
    "for r, v in zip(non_flip_regions + flip_regions, pl_non_flip + mn_flip):\n",
    "\tn = r.chrom, r.f3, r.f4\n",
    "\tif r.f7 == \"+\":\n",
    "\t\tif oridf1[n] != [abs(i) for i in v]:\n",
    "\t\t\tprint(n)\n",
    "\t\t\traise Exception()\n",
    "\telse:\n",
    "\t\tif oridf2[n] != [-abs(i) for i in v]:\n",
    "\t\t\tprint(n)\n",
    "\t\t\traise Exception()\n",
    "\t\t\t\n",
    "\n",
    "for r, v in zip(non_flip_regions + flip_regions, mn_non_flip + pl_flip):\n",
    "\tn = r.chrom, r.f3, r.f4\n",
    "\tif r.f7 == \"+\":\n",
    "\t\tif oridf2[n] != [abs(i) for i in v]:\n",
    "\t\t\tprint(n)\n",
    "\t\t\traise Exception()\n",
    "\telse:\n",
    "\t\tif oridf1[n] != [-abs(i) for i in v]:\n",
    "\t\t\tprint(n)\n",
    "\t\t\traise Exception()"
   ]
  },
  {
   "cell_type": "code",
   "execution_count": null,
   "id": "36e8593e-c007-48fa-9741-12836e13fa2e",
   "metadata": {},
   "outputs": [],
   "source": []
  },
  {
   "cell_type": "code",
   "execution_count": null,
   "id": "c37c78a0-f111-4c49-a688-011574733507",
   "metadata": {},
   "outputs": [],
   "source": []
  },
  {
   "cell_type": "code",
   "execution_count": 96,
   "id": "47a9b112-7e51-423a-bff9-5b2627090c1b",
   "metadata": {
    "execution": {
     "iopub.execute_input": "2024-10-02T05:19:25.696927Z",
     "iopub.status.busy": "2024-10-02T05:19:25.696276Z",
     "iopub.status.idle": "2024-10-02T05:19:25.788450Z",
     "shell.execute_reply": "2024-10-02T05:19:25.787141Z",
     "shell.execute_reply.started": "2024-10-02T05:19:25.696878Z"
    },
    "tags": []
   },
   "outputs": [
    {
     "data": {
      "text/html": [
       "<div>\n",
       "<style scoped>\n",
       "    .dataframe tbody tr th:only-of-type {\n",
       "        vertical-align: middle;\n",
       "    }\n",
       "\n",
       "    .dataframe tbody tr th {\n",
       "        vertical-align: top;\n",
       "    }\n",
       "\n",
       "    .dataframe thead th {\n",
       "        text-align: right;\n",
       "    }\n",
       "</style>\n",
       "<table border=\"1\" class=\"dataframe\">\n",
       "  <thead>\n",
       "    <tr style=\"text-align: right;\">\n",
       "      <th></th>\n",
       "      <th>Element</th>\n",
       "      <th>0</th>\n",
       "      <th>1</th>\n",
       "      <th>2</th>\n",
       "      <th>3</th>\n",
       "      <th>4</th>\n",
       "      <th>5</th>\n",
       "      <th>6</th>\n",
       "      <th>7</th>\n",
       "      <th>8</th>\n",
       "      <th>...</th>\n",
       "      <th>991</th>\n",
       "      <th>992</th>\n",
       "      <th>993</th>\n",
       "      <th>994</th>\n",
       "      <th>995</th>\n",
       "      <th>996</th>\n",
       "      <th>997</th>\n",
       "      <th>998</th>\n",
       "      <th>999</th>\n",
       "      <th>1000</th>\n",
       "    </tr>\n",
       "  </thead>\n",
       "  <tbody>\n",
       "    <tr>\n",
       "      <th>0</th>\n",
       "      <td>(chr1, 976227, 976241)</td>\n",
       "      <td>0.0</td>\n",
       "      <td>0.0</td>\n",
       "      <td>0.0</td>\n",
       "      <td>0.0</td>\n",
       "      <td>0.0</td>\n",
       "      <td>0.0</td>\n",
       "      <td>0.0</td>\n",
       "      <td>0.0</td>\n",
       "      <td>0.0</td>\n",
       "      <td>...</td>\n",
       "      <td>0.0</td>\n",
       "      <td>0.0</td>\n",
       "      <td>0.0</td>\n",
       "      <td>0.0</td>\n",
       "      <td>0.0</td>\n",
       "      <td>0.0</td>\n",
       "      <td>0.0</td>\n",
       "      <td>0.0</td>\n",
       "      <td>0.0</td>\n",
       "      <td>0.0</td>\n",
       "    </tr>\n",
       "    <tr>\n",
       "      <th>1</th>\n",
       "      <td>(chr1, 1063992, 1064058)</td>\n",
       "      <td>0.0</td>\n",
       "      <td>0.0</td>\n",
       "      <td>0.0</td>\n",
       "      <td>0.0</td>\n",
       "      <td>0.0</td>\n",
       "      <td>0.0</td>\n",
       "      <td>0.0</td>\n",
       "      <td>0.0</td>\n",
       "      <td>0.0</td>\n",
       "      <td>...</td>\n",
       "      <td>11.0</td>\n",
       "      <td>11.0</td>\n",
       "      <td>10.0</td>\n",
       "      <td>10.0</td>\n",
       "      <td>10.0</td>\n",
       "      <td>11.0</td>\n",
       "      <td>36.0</td>\n",
       "      <td>39.0</td>\n",
       "      <td>38.0</td>\n",
       "      <td>38.0</td>\n",
       "    </tr>\n",
       "    <tr>\n",
       "      <th>2</th>\n",
       "      <td>(chr1, 1304847, 1304875)</td>\n",
       "      <td>0.0</td>\n",
       "      <td>0.0</td>\n",
       "      <td>0.0</td>\n",
       "      <td>0.0</td>\n",
       "      <td>0.0</td>\n",
       "      <td>0.0</td>\n",
       "      <td>0.0</td>\n",
       "      <td>0.0</td>\n",
       "      <td>0.0</td>\n",
       "      <td>...</td>\n",
       "      <td>0.0</td>\n",
       "      <td>0.0</td>\n",
       "      <td>0.0</td>\n",
       "      <td>0.0</td>\n",
       "      <td>0.0</td>\n",
       "      <td>0.0</td>\n",
       "      <td>0.0</td>\n",
       "      <td>0.0</td>\n",
       "      <td>0.0</td>\n",
       "      <td>0.0</td>\n",
       "    </tr>\n",
       "    <tr>\n",
       "      <th>3</th>\n",
       "      <td>(chr1, 1309313, 1309388)</td>\n",
       "      <td>-0.0</td>\n",
       "      <td>-0.0</td>\n",
       "      <td>-0.0</td>\n",
       "      <td>-0.0</td>\n",
       "      <td>-0.0</td>\n",
       "      <td>-0.0</td>\n",
       "      <td>-0.0</td>\n",
       "      <td>-0.0</td>\n",
       "      <td>-0.0</td>\n",
       "      <td>...</td>\n",
       "      <td>-3.0</td>\n",
       "      <td>-3.0</td>\n",
       "      <td>-3.0</td>\n",
       "      <td>-3.0</td>\n",
       "      <td>-3.0</td>\n",
       "      <td>-3.0</td>\n",
       "      <td>-4.0</td>\n",
       "      <td>-8.0</td>\n",
       "      <td>-11.0</td>\n",
       "      <td>-15.0</td>\n",
       "    </tr>\n",
       "    <tr>\n",
       "      <th>4</th>\n",
       "      <td>(chr1, 3471909, 3471968)</td>\n",
       "      <td>-0.0</td>\n",
       "      <td>-0.0</td>\n",
       "      <td>-0.0</td>\n",
       "      <td>-0.0</td>\n",
       "      <td>-0.0</td>\n",
       "      <td>-0.0</td>\n",
       "      <td>-0.0</td>\n",
       "      <td>-0.0</td>\n",
       "      <td>-0.0</td>\n",
       "      <td>...</td>\n",
       "      <td>-0.0</td>\n",
       "      <td>-0.0</td>\n",
       "      <td>-0.0</td>\n",
       "      <td>-0.0</td>\n",
       "      <td>-0.0</td>\n",
       "      <td>-0.0</td>\n",
       "      <td>-0.0</td>\n",
       "      <td>-0.0</td>\n",
       "      <td>-0.0</td>\n",
       "      <td>-0.0</td>\n",
       "    </tr>\n",
       "    <tr>\n",
       "      <th>...</th>\n",
       "      <td>...</td>\n",
       "      <td>...</td>\n",
       "      <td>...</td>\n",
       "      <td>...</td>\n",
       "      <td>...</td>\n",
       "      <td>...</td>\n",
       "      <td>...</td>\n",
       "      <td>...</td>\n",
       "      <td>...</td>\n",
       "      <td>...</td>\n",
       "      <td>...</td>\n",
       "      <td>...</td>\n",
       "      <td>...</td>\n",
       "      <td>...</td>\n",
       "      <td>...</td>\n",
       "      <td>...</td>\n",
       "      <td>...</td>\n",
       "      <td>...</td>\n",
       "      <td>...</td>\n",
       "      <td>...</td>\n",
       "      <td>...</td>\n",
       "    </tr>\n",
       "    <tr>\n",
       "      <th>1415</th>\n",
       "      <td>(chrX, 153470479, 153470619)</td>\n",
       "      <td>-0.0</td>\n",
       "      <td>-0.0</td>\n",
       "      <td>-0.0</td>\n",
       "      <td>-0.0</td>\n",
       "      <td>-0.0</td>\n",
       "      <td>-0.0</td>\n",
       "      <td>-0.0</td>\n",
       "      <td>-0.0</td>\n",
       "      <td>-0.0</td>\n",
       "      <td>...</td>\n",
       "      <td>-1.0</td>\n",
       "      <td>-1.0</td>\n",
       "      <td>-1.0</td>\n",
       "      <td>-1.0</td>\n",
       "      <td>-1.0</td>\n",
       "      <td>-1.0</td>\n",
       "      <td>-1.0</td>\n",
       "      <td>-1.0</td>\n",
       "      <td>-1.0</td>\n",
       "      <td>-1.0</td>\n",
       "    </tr>\n",
       "    <tr>\n",
       "      <th>1416</th>\n",
       "      <td>(chrX, 153471030, 153471065)</td>\n",
       "      <td>0.0</td>\n",
       "      <td>0.0</td>\n",
       "      <td>0.0</td>\n",
       "      <td>0.0</td>\n",
       "      <td>0.0</td>\n",
       "      <td>0.0</td>\n",
       "      <td>0.0</td>\n",
       "      <td>0.0</td>\n",
       "      <td>0.0</td>\n",
       "      <td>...</td>\n",
       "      <td>0.0</td>\n",
       "      <td>0.0</td>\n",
       "      <td>0.0</td>\n",
       "      <td>0.0</td>\n",
       "      <td>0.0</td>\n",
       "      <td>0.0</td>\n",
       "      <td>0.0</td>\n",
       "      <td>0.0</td>\n",
       "      <td>0.0</td>\n",
       "      <td>0.0</td>\n",
       "    </tr>\n",
       "    <tr>\n",
       "      <th>1417</th>\n",
       "      <td>(chrX, 153600108, 153600146)</td>\n",
       "      <td>-0.0</td>\n",
       "      <td>-0.0</td>\n",
       "      <td>-0.0</td>\n",
       "      <td>-0.0</td>\n",
       "      <td>-0.0</td>\n",
       "      <td>-0.0</td>\n",
       "      <td>-0.0</td>\n",
       "      <td>-0.0</td>\n",
       "      <td>-0.0</td>\n",
       "      <td>...</td>\n",
       "      <td>-0.0</td>\n",
       "      <td>-0.0</td>\n",
       "      <td>-0.0</td>\n",
       "      <td>-0.0</td>\n",
       "      <td>-0.0</td>\n",
       "      <td>-0.0</td>\n",
       "      <td>-0.0</td>\n",
       "      <td>-0.0</td>\n",
       "      <td>-0.0</td>\n",
       "      <td>-0.0</td>\n",
       "    </tr>\n",
       "    <tr>\n",
       "      <th>1418</th>\n",
       "      <td>(chrX, 153776874, 153776890)</td>\n",
       "      <td>0.0</td>\n",
       "      <td>0.0</td>\n",
       "      <td>0.0</td>\n",
       "      <td>0.0</td>\n",
       "      <td>0.0</td>\n",
       "      <td>0.0</td>\n",
       "      <td>0.0</td>\n",
       "      <td>0.0</td>\n",
       "      <td>0.0</td>\n",
       "      <td>...</td>\n",
       "      <td>0.0</td>\n",
       "      <td>0.0</td>\n",
       "      <td>0.0</td>\n",
       "      <td>0.0</td>\n",
       "      <td>0.0</td>\n",
       "      <td>0.0</td>\n",
       "      <td>0.0</td>\n",
       "      <td>0.0</td>\n",
       "      <td>0.0</td>\n",
       "      <td>0.0</td>\n",
       "    </tr>\n",
       "    <tr>\n",
       "      <th>1419</th>\n",
       "      <td>(chrX, 153793466, 153793536)</td>\n",
       "      <td>0.0</td>\n",
       "      <td>0.0</td>\n",
       "      <td>0.0</td>\n",
       "      <td>0.0</td>\n",
       "      <td>0.0</td>\n",
       "      <td>0.0</td>\n",
       "      <td>0.0</td>\n",
       "      <td>0.0</td>\n",
       "      <td>0.0</td>\n",
       "      <td>...</td>\n",
       "      <td>1.0</td>\n",
       "      <td>1.0</td>\n",
       "      <td>1.0</td>\n",
       "      <td>1.0</td>\n",
       "      <td>1.0</td>\n",
       "      <td>0.0</td>\n",
       "      <td>0.0</td>\n",
       "      <td>0.0</td>\n",
       "      <td>0.0</td>\n",
       "      <td>0.0</td>\n",
       "    </tr>\n",
       "  </tbody>\n",
       "</table>\n",
       "<p>1420 rows × 1002 columns</p>\n",
       "</div>"
      ],
      "text/plain": [
       "                           Element    0    1    2    3    4    5    6    7  \\\n",
       "0           (chr1, 976227, 976241)  0.0  0.0  0.0  0.0  0.0  0.0  0.0  0.0   \n",
       "1         (chr1, 1063992, 1064058)  0.0  0.0  0.0  0.0  0.0  0.0  0.0  0.0   \n",
       "2         (chr1, 1304847, 1304875)  0.0  0.0  0.0  0.0  0.0  0.0  0.0  0.0   \n",
       "3         (chr1, 1309313, 1309388) -0.0 -0.0 -0.0 -0.0 -0.0 -0.0 -0.0 -0.0   \n",
       "4         (chr1, 3471909, 3471968) -0.0 -0.0 -0.0 -0.0 -0.0 -0.0 -0.0 -0.0   \n",
       "...                            ...  ...  ...  ...  ...  ...  ...  ...  ...   \n",
       "1415  (chrX, 153470479, 153470619) -0.0 -0.0 -0.0 -0.0 -0.0 -0.0 -0.0 -0.0   \n",
       "1416  (chrX, 153471030, 153471065)  0.0  0.0  0.0  0.0  0.0  0.0  0.0  0.0   \n",
       "1417  (chrX, 153600108, 153600146) -0.0 -0.0 -0.0 -0.0 -0.0 -0.0 -0.0 -0.0   \n",
       "1418  (chrX, 153776874, 153776890)  0.0  0.0  0.0  0.0  0.0  0.0  0.0  0.0   \n",
       "1419  (chrX, 153793466, 153793536)  0.0  0.0  0.0  0.0  0.0  0.0  0.0  0.0   \n",
       "\n",
       "        8  ...   991   992   993   994   995   996   997   998   999  1000  \n",
       "0     0.0  ...   0.0   0.0   0.0   0.0   0.0   0.0   0.0   0.0   0.0   0.0  \n",
       "1     0.0  ...  11.0  11.0  10.0  10.0  10.0  11.0  36.0  39.0  38.0  38.0  \n",
       "2     0.0  ...   0.0   0.0   0.0   0.0   0.0   0.0   0.0   0.0   0.0   0.0  \n",
       "3    -0.0  ...  -3.0  -3.0  -3.0  -3.0  -3.0  -3.0  -4.0  -8.0 -11.0 -15.0  \n",
       "4    -0.0  ...  -0.0  -0.0  -0.0  -0.0  -0.0  -0.0  -0.0  -0.0  -0.0  -0.0  \n",
       "...   ...  ...   ...   ...   ...   ...   ...   ...   ...   ...   ...   ...  \n",
       "1415 -0.0  ...  -1.0  -1.0  -1.0  -1.0  -1.0  -1.0  -1.0  -1.0  -1.0  -1.0  \n",
       "1416  0.0  ...   0.0   0.0   0.0   0.0   0.0   0.0   0.0   0.0   0.0   0.0  \n",
       "1417 -0.0  ...  -0.0  -0.0  -0.0  -0.0  -0.0  -0.0  -0.0  -0.0  -0.0  -0.0  \n",
       "1418  0.0  ...   0.0   0.0   0.0   0.0   0.0   0.0   0.0   0.0   0.0   0.0  \n",
       "1419  0.0  ...   1.0   1.0   1.0   1.0   1.0   0.0   0.0   0.0   0.0   0.0  \n",
       "\n",
       "[1420 rows x 1002 columns]"
      ]
     },
     "execution_count": 96,
     "metadata": {},
     "output_type": "execute_result"
    }
   ],
   "source": [
    "df"
   ]
  },
  {
   "cell_type": "code",
   "execution_count": 74,
   "id": "30e0b2ca-09ba-4725-8cb6-561fcc6744b1",
   "metadata": {
    "execution": {
     "iopub.execute_input": "2024-10-02T05:15:28.135876Z",
     "iopub.status.busy": "2024-10-02T05:15:28.135218Z",
     "iopub.status.idle": "2024-10-02T05:15:28.144449Z",
     "shell.execute_reply": "2024-10-02T05:15:28.143371Z",
     "shell.execute_reply.started": "2024-10-02T05:15:28.135828Z"
    },
    "tags": []
   },
   "outputs": [
    {
     "data": {
      "text/plain": [
       "21.0"
      ]
     },
     "execution_count": 74,
     "metadata": {},
     "output_type": "execute_result"
    }
   ],
   "source": [
    "max(p[1])"
   ]
  },
  {
   "cell_type": "code",
   "execution_count": 62,
   "id": "201562df-2794-44fb-aebd-9c945842dd4d",
   "metadata": {
    "execution": {
     "iopub.execute_input": "2024-10-02T05:13:02.539329Z",
     "iopub.status.busy": "2024-10-02T05:13:02.538779Z",
     "iopub.status.idle": "2024-10-02T05:13:02.550003Z",
     "shell.execute_reply": "2024-10-02T05:13:02.548913Z",
     "shell.execute_reply.started": "2024-10-02T05:13:02.539284Z"
    },
    "tags": []
   },
   "outputs": [
    {
     "data": {
      "text/plain": [
       "21.0"
      ]
     },
     "execution_count": 62,
     "metadata": {},
     "output_type": "execute_result"
    }
   ],
   "source": [
    "max(list(df.iloc[1])[1:])\n"
   ]
  },
  {
   "cell_type": "code",
   "execution_count": 3,
   "id": "44cf7c06-8a7c-4e99-9ed3-dfabb6424641",
   "metadata": {
    "execution": {
     "iopub.execute_input": "2024-10-02T07:39:26.241959Z",
     "iopub.status.busy": "2024-10-02T07:39:26.241325Z",
     "iopub.status.idle": "2024-10-02T07:39:26.277756Z",
     "shell.execute_reply": "2024-10-02T07:39:26.276378Z",
     "shell.execute_reply.started": "2024-10-02T07:39:26.241909Z"
    },
    "tags": []
   },
   "outputs": [],
   "source": [
    "def get_feature_matrix_for_heatmap(bed_in, bw_in, outputfile, strand_sensitive=False, strand=None, na_replace=0, type=\"full_length\", extension=250):\n",
    "\t\"\"\"\n",
    "\tGet a matrix of a given feature for heatmap\n",
    "\tEach row: a region of interest\n",
    "\tEach column: 1-bp position\n",
    "\tna_replace: 0 for experimental data (e.g., PROcap, DNase-seq, ChIP-seq); np.nan for others\n",
    "\t\"\"\"\n",
    "\t\n",
    "\timport pyBigWig\n",
    "\tfrom biodata.delimited import DelimitedReader\n",
    "\timport pandas as pd\n",
    "\timport numpy as np\n",
    "\t\n",
    "\tresults = []\n",
    "\tbw = pyBigWig.open(bw_in)\n",
    "\twith DelimitedReader(bed_in) as dr:\n",
    "\t\tfor cols in dr:\n",
    "\t\t\tchrom, start, end = cols[:3]\n",
    "\t\t\tscores = {}\n",
    "\t\t\tbp_features = []\n",
    "\t\t\ttry:\n",
    "\t\t\t\tfor zstart, ostop, score in bw.intervals(chrom, int(start)-extension, int(end)+extension+1):\n",
    "\t\t\t\t\tfor pos in range(max(int(start)-extension, zstart), min(int(end)+extension+1, ostop)):\n",
    "\t\t\t\t\t\t# PRO-cap\n",
    "\t\t\t\t\t\tif strand_sensitive:\n",
    "\t\t\t\t\t\t\tif strand == \"pl\":\n",
    "\t\t\t\t\t\t\t\tscores[pos] = score\n",
    "\t\t\t\t\t\t\t# Outputfile from bam_to_bw(.., .., \"full_length\") doesn't have negative values, while bam_to_bw(.., .., \"5_end\") has negative values\n",
    "\t\t\t\t\t\t\telse:\n",
    "\t\t\t\t\t\t\t\tif type == \"full_length\":\n",
    "\t\t\t\t\t\t\t\t\tscores[pos] = -score\n",
    "\t\t\t\t\t\t\t\telse:\n",
    "\t\t\t\t\t\t\t\t\tscores[pos] = score\n",
    "\t\t\t\t\t\t# Other features, e.g., epigenomic features\n",
    "\t\t\t\t\t\telse:\n",
    "\t\t\t\t\t\t\tscores[pos] = score\n",
    "\t\t\t\t\t\t\t\n",
    "\t\t\t\tfor pos in range(int(start)-extension, int(end)+extension+1):\n",
    "\t\t\t\t\tif pos in scores:\n",
    "\t\t\t\t\t\tbp_features.append(scores[pos])\n",
    "\t\t\t\t\telse:\n",
    "\t\t\t\t\t\tbp_features.append(na_replace)\n",
    "\t\t\texcept:\n",
    "\t\t\t\t# no values in this region\n",
    "\t\t\t\tbp_features = [na_replace for pos in range(int(start)-extension, int(end)+extension+1)]\n",
    "\n",
    "\t\t\tif \"control\" in bed_in:\n",
    "\t\t\t\tresults.append([(chrom, start, end)] + bp_features)\n",
    "\t\t\telse:\n",
    "\t\t\t\t# Flip the side with more read counts to the right\n",
    "\t\t\t\tsign = cols[7]\n",
    "\t\t\t\tif sign == \"-\":\n",
    "\t\t\t\t\tbp_features = bp_features[::-1]\n",
    "\t\t\t\t\tif strand_sensitive:\n",
    "\t\t\t\t\t\tbp_features = [-b for b in bp_features]\n",
    "\t\n",
    "\t\t\t\t# Keep peak position; it's easier to add labels later\n",
    "\t\t\t\tpstart, pend = cols[3:5]\n",
    "\t\t\t\tresults.append([(chrom, pstart, pend)] + bp_features)\n",
    "\n",
    "\tn_values = int(end)-int(start)+1+extension*2\n",
    "\tdf = pd.DataFrame(results, columns=[\"Element\"]+list(range(n_values)))\n",
    "\treturn df\n",
    "\t# df.to_csv(outputfile, sep=\"\\t\", index=False)\n"
   ]
  },
  {
   "cell_type": "code",
   "execution_count": 4,
   "id": "3bd2f627-b419-4a9c-85e0-7427bc49df7d",
   "metadata": {
    "execution": {
     "iopub.execute_input": "2024-10-02T07:39:26.983432Z",
     "iopub.status.busy": "2024-10-02T07:39:26.982781Z",
     "iopub.status.idle": "2024-10-02T07:39:26.993664Z",
     "shell.execute_reply": "2024-10-02T07:39:26.992423Z",
     "shell.execute_reply.started": "2024-10-02T07:39:26.983383Z"
    },
    "tags": []
   },
   "outputs": [],
   "source": [
    "def get_feature_matrix(bed_in, bw_in, output1, output2, strand_sensitive=False, strand=None, na_replace=0, type=\"full_length\", extension=250):\n",
    "\t\"\"\"\n",
    "\tGet one feature matrix for heatmap and one reformatted matrix for metaplot\n",
    "\t\"\"\"\n",
    "\t\n",
    "\tget_feature_matrix_for_heatmap(bed_in, bw_in, output1, strand_sensitive, strand, na_replace, type, extension)\n",
    "\treformat_feature_matrix_for_metaplot(output1, output2)\n",
    "def reformat_feature_matrix_for_metaplot(inputfile, outputfile):\n",
    "\t\"\"\"\n",
    "\tGet a matrix of a given feature for metaplot\n",
    "\tEach row: a 1-bp position\n",
    "\tColumns: position, feature value, label (e.g., TRE vs. Control)\n",
    "\t\"\"\"\n",
    "\n",
    "\timport pandas as pd\n",
    "\t\n",
    "\tdf = pd.read_table(inputfile)\n",
    "\t# change the format\n",
    "\tdf_reformat = pd.melt(df,\n",
    "\t\t\t\t\t  id_vars=\"Element\",\n",
    "\t\t\t\t\t  value_vars=list(df.columns[1:]),\n",
    "\t\t\t\t\t  var_name=\"Position\",\n",
    "\t\t\t\t\t  value_name=\"Feature\"\n",
    "\t\t\t\t\t  )\n",
    "\tdf_reformat.to_csv(outputfile, sep=\"\\t\", index=False)\n"
   ]
  },
  {
   "cell_type": "code",
   "execution_count": 8,
   "id": "874d6741-5203-4e51-9b27-c167e288a50c",
   "metadata": {
    "execution": {
     "iopub.execute_input": "2024-08-20T20:32:09.235633Z",
     "iopub.status.busy": "2024-08-20T20:32:09.234980Z",
     "iopub.status.idle": "2024-08-20T20:32:09.265043Z",
     "shell.execute_reply": "2024-08-20T20:32:09.263678Z",
     "shell.execute_reply.started": "2024-08-20T20:32:09.235576Z"
    },
    "scrolled": true
   },
   "outputs": [],
   "source": [
    "pwpool = ProcessWrapPool(20)\n",
    "\n",
    "for g in gs:\n",
    "\tfor c in cs:\n",
    "\t\tbed_in = PROJECT_DIR_d + \"bed_plot/\" + \"_\".join([s, g+c]) + \".bed\"\n",
    "\t\tfor m in bws:\n",
    "\t\t\toutput1 = PROJECT_DIR_o + \"temp/\" + \"_\".join([s, m, g+c]) + \".txt\"\n",
    "\t\t\toutput2 = PROJECT_DIR_o + \"temp/\" + \"_\".join([s, m, g+c, \"reformat\"]) + \".txt\"\n",
    "\t\t\tif \"PROcap\" in m:\t\t\n",
    "\t\t\t\tstrand_sensitive = True\n",
    "\t\t\t\tstrand = m.split(\"_\")[1]\n",
    "\t\t\telse:\n",
    "\t\t\t\tstrand_sensitive = False\n",
    "\t\t\t\tstrand = None\t\t\n",
    "\t\t\tpwpool.run(utils.get_feature_matrix, args=[bed_in, bws[m], output1, output2, strand_sensitive, strand])"
   ]
  },
  {
   "cell_type": "code",
   "execution_count": null,
   "id": "85c4e7e0-cf50-4c4c-878d-2316d1d04ab4",
   "metadata": {},
   "outputs": [],
   "source": []
  },
  {
   "cell_type": "code",
   "execution_count": null,
   "id": "f142eddd-0a52-4384-8637-71d5660883a0",
   "metadata": {},
   "outputs": [],
   "source": []
  },
  {
   "cell_type": "code",
   "execution_count": null,
   "id": "3adcec61-7be8-4431-8375-bd7e646ae8da",
   "metadata": {},
   "outputs": [],
   "source": []
  },
  {
   "cell_type": "code",
   "execution_count": null,
   "id": "b8edd6d5-1947-49c9-8bd1-62a7a6035d56",
   "metadata": {},
   "outputs": [],
   "source": []
  },
  {
   "cell_type": "code",
   "execution_count": 302,
   "id": "482c99c9-09df-41c0-a400-fde80ce62dbb",
   "metadata": {
    "execution": {
     "iopub.execute_input": "2024-09-28T14:59:13.883141Z",
     "iopub.status.busy": "2024-09-28T14:59:13.882666Z",
     "iopub.status.idle": "2024-09-28T14:59:13.889000Z",
     "shell.execute_reply": "2024-09-28T14:59:13.888375Z",
     "shell.execute_reply.started": "2024-09-28T14:59:13.883109Z"
    },
    "tags": []
   },
   "outputs": [
    {
     "name": "stdout",
     "output_type": "stream",
     "text": [
      "env: MPLBACKEND=\n"
     ]
    }
   ],
   "source": [
    "%env MPLBACKEND="
   ]
  },
  {
   "cell_type": "code",
   "execution_count": 303,
   "id": "7d448f5c-45b3-4ca6-be6f-1aab0291d7d3",
   "metadata": {
    "execution": {
     "iopub.execute_input": "2024-09-28T14:59:15.691523Z",
     "iopub.status.busy": "2024-09-28T14:59:15.691172Z",
     "iopub.status.idle": "2024-09-28T14:59:15.895530Z",
     "shell.execute_reply": "2024-09-28T14:59:15.894849Z",
     "shell.execute_reply.started": "2024-09-28T14:59:15.691500Z"
    },
    "tags": []
   },
   "outputs": [
    {
     "name": "stdout",
     "output_type": "stream",
     "text": [
      "\n"
     ]
    }
   ],
   "source": [
    "!echo $MPLBACKEND"
   ]
  },
  {
   "cell_type": "code",
   "execution_count": 296,
   "id": "0de1a9ae-0d0a-45c1-8bc3-fdf6c13c6320",
   "metadata": {
    "execution": {
     "iopub.execute_input": "2024-09-28T14:46:18.271527Z",
     "iopub.status.busy": "2024-09-28T14:46:18.271171Z",
     "iopub.status.idle": "2024-09-28T14:46:32.549434Z",
     "shell.execute_reply": "2024-09-28T14:46:32.548733Z",
     "shell.execute_reply.started": "2024-09-28T14:46:18.271497Z"
    },
    "tags": []
   },
   "outputs": [
    {
     "name": "stdout",
     "output_type": "stream",
     "text": [
      "conda run -n rms_procap_analysis_20240501 /bin/bash -c \"biodatatools plot_count_tables_correlation -i /local/storage/kl945/EnhancerAtlas/PROcap/QC/ReplicatesCorrelation/brm_C1a_and_C1b_erm_5pl_binned_count_table.txt.gz /local/storage/kl945/EnhancerAtlas/PROcap/QC/ReplicatesCorrelation/brm_C1a_and_C1b_erm_5mn_binned_count_table.txt.gz -o /local/storage/kl945/EnhancerAtlas/PROcap/QC/ReplicatesCorrelation/Test_correlation.pdf -filter_func \\\"lambda x, y: abs(x) > 0 and abs(y) > 0\\\" -value_func \\\"lambda x: math.log10(abs(x))\\\"\"\n",
      "ENTER\n",
      "OK\n",
      "OK-2\n",
      "OK-3\n",
      "\n"
     ]
    },
    {
     "name": "stderr",
     "output_type": "stream",
     "text": [
      "Traceback (most recent call last):\n",
      "  File \"/home/kl945/miniconda3/envs/rms_procap_analysis_20240501/bin/biodatatools\", line 8, in <module>\n",
      "    sys.exit(main())\n",
      "  File \"/home/kl945/miniconda3/envs/rms_procap_analysis_20240501/lib/python3.10/site-packages/simplevc/simplevc.py\", line 521, in main\n",
      "    return module_main(module)\n",
      "  File \"/home/kl945/miniconda3/envs/rms_procap_analysis_20240501/lib/python3.10/site-packages/simplevc/simplevc.py\", line 388, in module_main\n",
      "    getattr(module, _subparser_name)(**vars(args))\n",
      "  File \"/home/kl945/miniconda3/envs/rms_procap_analysis_20240501/lib/python3.10/site-packages/simplevc/simplevc.py\", line 261, in _run_method\n",
      "    return method_dict[rversion](*args, **kwargs)\n",
      "  File \"/local/storage/kl945/eclipse-workspace/AldenBasePythonLibrary/biodatatools/__init__.py\", line 2756, in _plot_count_tables_correlation_20240901\n",
      "    fig = _plot_two_way_correlation_20240901(\n",
      "  File \"/local/storage/kl945/eclipse-workspace/AldenBasePythonLibrary/biodataplot/common.py\", line 219, in _plot_two_way_correlation_20240901\n",
      "    fig, axs = plt.subplots(len(ykeys), len(xkeys), figsize=(len(xkeys)*3, len(ykeys)*3), squeeze=False)\n",
      "  File \"/home/kl945/miniconda3/envs/rms_procap_analysis_20240501/lib/python3.10/site-packages/matplotlib/pyplot.py\", line 1613, in subplots\n",
      "    fig = figure(**fig_kw)\n",
      "  File \"/home/kl945/miniconda3/envs/rms_procap_analysis_20240501/lib/python3.10/site-packages/matplotlib/pyplot.py\", line 934, in figure\n",
      "    manager = new_figure_manager(\n",
      "  File \"/home/kl945/miniconda3/envs/rms_procap_analysis_20240501/lib/python3.10/site-packages/matplotlib/pyplot.py\", line 464, in new_figure_manager\n",
      "    _warn_if_gui_out_of_main_thread()\n",
      "  File \"/home/kl945/miniconda3/envs/rms_procap_analysis_20240501/lib/python3.10/site-packages/matplotlib/pyplot.py\", line 441, in _warn_if_gui_out_of_main_thread\n",
      "    canvas_class = cast(type[FigureCanvasBase], _get_backend_mod().FigureCanvas)\n",
      "  File \"/home/kl945/miniconda3/envs/rms_procap_analysis_20240501/lib/python3.10/site-packages/matplotlib/pyplot.py\", line 280, in _get_backend_mod\n",
      "    switch_backend(rcParams._get(\"backend\"))  # type: ignore[attr-defined]\n",
      "  File \"/home/kl945/miniconda3/envs/rms_procap_analysis_20240501/lib/python3.10/site-packages/matplotlib/pyplot.py\", line 342, in switch_backend\n",
      "    module = importlib.import_module(cbook._backend_module_name(newbackend))\n",
      "  File \"/home/kl945/miniconda3/envs/rms_procap_analysis_20240501/lib/python3.10/importlib/__init__.py\", line 126, in import_module\n",
      "    return _bootstrap._gcd_import(name[level:], package, level)\n",
      "  File \"<frozen importlib._bootstrap>\", line 1050, in _gcd_import\n",
      "  File \"<frozen importlib._bootstrap>\", line 1027, in _find_and_load\n",
      "  File \"<frozen importlib._bootstrap>\", line 992, in _find_and_load_unlocked\n",
      "  File \"<frozen importlib._bootstrap>\", line 241, in _call_with_frames_removed\n",
      "  File \"<frozen importlib._bootstrap>\", line 1050, in _gcd_import\n",
      "  File \"<frozen importlib._bootstrap>\", line 1027, in _find_and_load\n",
      "  File \"<frozen importlib._bootstrap>\", line 1004, in _find_and_load_unlocked\n",
      "ModuleNotFoundError: No module named 'matplotlib_inline'\n",
      "\n",
      "ERROR conda.cli.main_run:execute(47): `conda run /bin/bash -c biodatatools plot_count_tables_correlation -i /local/storage/kl945/EnhancerAtlas/PROcap/QC/ReplicatesCorrelation/brm_C1a_and_C1b_erm_5pl_binned_count_table.txt.gz /local/storage/kl945/EnhancerAtlas/PROcap/QC/ReplicatesCorrelation/brm_C1a_and_C1b_erm_5mn_binned_count_table.txt.gz -o /local/storage/kl945/EnhancerAtlas/PROcap/QC/ReplicatesCorrelation/Test_correlation.pdf -filter_func \"lambda x, y: abs(x) > 0 and abs(y) > 0\" -value_func \"lambda x: math.log10(abs(x))\"` failed. (See above for error)\n"
     ]
    },
    {
     "ename": "Exception",
     "evalue": "Error in executing commands: conda run -n rms_procap_analysis_20240501 /bin/bash -c \"biodatatools plot_count_tables_correlation -i /local/storage/kl945/EnhancerAtlas/PROcap/QC/ReplicatesCorrelation/brm_C1a_and_C1b_erm_5pl_binned_count_table.txt.gz /local/storage/kl945/EnhancerAtlas/PROcap/QC/ReplicatesCorrelation/brm_C1a_and_C1b_erm_5mn_binned_count_table.txt.gz -o /local/storage/kl945/EnhancerAtlas/PROcap/QC/ReplicatesCorrelation/Test_correlation.pdf -filter_func \\\"lambda x, y: abs(x) > 0 and abs(y) > 0\\\" -value_func \\\"lambda x: math.log10(abs(x))\\\"\"",
     "output_type": "error",
     "traceback": [
      "\u001b[0;31m---------------------------------------------------------------------------\u001b[0m",
      "\u001b[0;31mException\u001b[0m                                 Traceback (most recent call last)",
      "Cell \u001b[0;32mIn[296], line 2\u001b[0m\n\u001b[1;32m      1\u001b[0m \u001b[38;5;28;01mfrom\u001b[39;00m \u001b[38;5;21;01mcommandtemplate\u001b[39;00m\u001b[38;5;21;01m.\u001b[39;00m\u001b[38;5;21;01mconda\u001b[39;00m \u001b[38;5;28;01mimport\u001b[39;00m run_template_bash\n\u001b[0;32m----> 2\u001b[0m \u001b[43mrun_template_bash\u001b[49m\u001b[43m(\u001b[49m\n\u001b[1;32m      3\u001b[0m \u001b[43m\t\u001b[49m\u001b[38;5;124;43m\"\u001b[39;49m\u001b[38;5;124;43mbiodatatools plot_count_tables_correlation -i \u001b[39;49m\u001b[38;5;132;43;01m{i0}\u001b[39;49;00m\u001b[38;5;124;43m \u001b[39;49m\u001b[38;5;132;43;01m{i1}\u001b[39;49;00m\u001b[38;5;124;43m -o \u001b[39;49m\u001b[38;5;132;43;01m{o}\u001b[39;49;00m\u001b[38;5;124;43m -filter_func \u001b[39;49m\u001b[38;5;132;43;01m{filter_func}\u001b[39;49;00m\u001b[38;5;124;43m -value_func \u001b[39;49m\u001b[38;5;132;43;01m{value_func}\u001b[39;49;00m\u001b[38;5;124;43m\"\u001b[39;49m\u001b[43m,\u001b[49m\n\u001b[1;32m      4\u001b[0m \u001b[43m\t\u001b[49m\u001b[43mconda_env\u001b[49m\u001b[38;5;241;43m=\u001b[39;49m\u001b[38;5;124;43m\"\u001b[39;49m\u001b[38;5;124;43mrms_procap_analysis_20240501\u001b[39;49m\u001b[38;5;124;43m\"\u001b[39;49m\u001b[43m,\u001b[49m\n\u001b[1;32m      5\u001b[0m \u001b[43m\t\u001b[49m\u001b[38;5;66;43;03m#output_func=output_func,\u001b[39;49;00m\n\u001b[1;32m      6\u001b[0m \u001b[43m\t\u001b[49m\u001b[38;5;66;43;03m#i0 = rms.file_from_path(f\"{REPLICATES_CORRELATION_DIR}{output_prefix}_5pl_binned_count_table.txt.gz\"),\u001b[39;49;00m\n\u001b[1;32m      7\u001b[0m \u001b[43m\t\u001b[49m\u001b[38;5;66;43;03m#i1 = rms.file_from_path(f\"{REPLICATES_CORRELATION_DIR}{output_prefix}_5mn_binned_count_table.txt.gz\"),\u001b[39;49;00m\n\u001b[1;32m      8\u001b[0m \u001b[43m\t\u001b[49m\u001b[43mi0\u001b[49m\u001b[43m \u001b[49m\u001b[38;5;241;43m=\u001b[39;49m\u001b[43m \u001b[49m\u001b[38;5;124;43m\"\u001b[39;49m\u001b[38;5;124;43m/local/storage/kl945/EnhancerAtlas/PROcap/QC/ReplicatesCorrelation/brm_C1a_and_C1b_erm_5pl_binned_count_table.txt.gz\u001b[39;49m\u001b[38;5;124;43m\"\u001b[39;49m\u001b[43m,\u001b[49m\n\u001b[1;32m      9\u001b[0m \u001b[43m\t\u001b[49m\u001b[43mi1\u001b[49m\u001b[43m \u001b[49m\u001b[38;5;241;43m=\u001b[39;49m\u001b[43m \u001b[49m\u001b[38;5;124;43m\"\u001b[39;49m\u001b[38;5;124;43m/local/storage/kl945/EnhancerAtlas/PROcap/QC/ReplicatesCorrelation/brm_C1a_and_C1b_erm_5mn_binned_count_table.txt.gz\u001b[39;49m\u001b[38;5;124;43m\"\u001b[39;49m\u001b[43m,\u001b[49m\n\u001b[1;32m     10\u001b[0m \u001b[43m\t\u001b[49m\u001b[43mo\u001b[49m\u001b[43m \u001b[49m\u001b[38;5;241;43m=\u001b[39;49m\u001b[43m  \u001b[49m\u001b[38;5;124;43m\"\u001b[39;49m\u001b[38;5;124;43m/local/storage/kl945/EnhancerAtlas/PROcap/QC/ReplicatesCorrelation/Test_correlation.pdf\u001b[39;49m\u001b[38;5;124;43m\"\u001b[39;49m\u001b[43m,\u001b[49m\n\u001b[1;32m     11\u001b[0m \u001b[43m\t\u001b[49m\u001b[43mfilter_func\u001b[49m\u001b[43m \u001b[49m\u001b[38;5;241;43m=\u001b[39;49m\u001b[43m \u001b[49m\u001b[38;5;124;43m'\u001b[39;49m\u001b[38;5;124;43m\"\u001b[39;49m\u001b[38;5;124;43mlambda x, y: abs(x) > 0 and abs(y) > 0\u001b[39;49m\u001b[38;5;124;43m\"\u001b[39;49m\u001b[38;5;124;43m'\u001b[39;49m\u001b[43m,\u001b[49m\n\u001b[1;32m     12\u001b[0m \u001b[43m\t\u001b[49m\u001b[43mvalue_func\u001b[49m\u001b[43m \u001b[49m\u001b[38;5;241;43m=\u001b[39;49m\u001b[43m \u001b[49m\u001b[38;5;124;43m'\u001b[39;49m\u001b[38;5;124;43m\"\u001b[39;49m\u001b[38;5;124;43mlambda x: math.log10(abs(x))\u001b[39;49m\u001b[38;5;124;43m\"\u001b[39;49m\u001b[38;5;124;43m'\u001b[39;49m\n\u001b[1;32m     13\u001b[0m \u001b[43m)\u001b[49m\n",
      "File \u001b[0;32m~/eclipse-workspace/AldenBasePythonLibrary/commandtemplate/conda.py:39\u001b[0m, in \u001b[0;36mrun_template_bash\u001b[0;34m(template, output_func, conda_env, conda_root, init_cmd, **kwargs)\u001b[0m\n\u001b[1;32m     37\u001b[0m r \u001b[38;5;241m=\u001b[39m subprocess\u001b[38;5;241m.\u001b[39mrun(conda_init_cmd \u001b[38;5;241m+\u001b[39m init_cmd \u001b[38;5;241m+\u001b[39m conda_run_cmd, shell\u001b[38;5;241m=\u001b[39m\u001b[38;5;28;01mTrue\u001b[39;00m, executable\u001b[38;5;241m=\u001b[39m\u001b[38;5;124m'\u001b[39m\u001b[38;5;124m/bin/bash\u001b[39m\u001b[38;5;124m'\u001b[39m)\n\u001b[1;32m     38\u001b[0m \u001b[38;5;28;01mif\u001b[39;00m r\u001b[38;5;241m.\u001b[39mreturncode \u001b[38;5;241m!=\u001b[39m \u001b[38;5;241m0\u001b[39m:\n\u001b[0;32m---> 39\u001b[0m \t\u001b[38;5;28;01mraise\u001b[39;00m \u001b[38;5;167;01mException\u001b[39;00m(\u001b[38;5;124m\"\u001b[39m\u001b[38;5;124mError in executing commands: \u001b[39m\u001b[38;5;124m\"\u001b[39m \u001b[38;5;241m+\u001b[39m conda_init_cmd \u001b[38;5;241m+\u001b[39m init_cmd \u001b[38;5;241m+\u001b[39m conda_run_cmd)\n",
      "\u001b[0;31mException\u001b[0m: Error in executing commands: conda run -n rms_procap_analysis_20240501 /bin/bash -c \"biodatatools plot_count_tables_correlation -i /local/storage/kl945/EnhancerAtlas/PROcap/QC/ReplicatesCorrelation/brm_C1a_and_C1b_erm_5pl_binned_count_table.txt.gz /local/storage/kl945/EnhancerAtlas/PROcap/QC/ReplicatesCorrelation/brm_C1a_and_C1b_erm_5mn_binned_count_table.txt.gz -o /local/storage/kl945/EnhancerAtlas/PROcap/QC/ReplicatesCorrelation/Test_correlation.pdf -filter_func \\\"lambda x, y: abs(x) > 0 and abs(y) > 0\\\" -value_func \\\"lambda x: math.log10(abs(x))\\\"\""
     ]
    }
   ],
   "source": [
    "from commandtemplate.conda import run_template_bash\n",
    "run_template_bash(\n",
    "\t\"biodatatools plot_count_tables_correlation -i {i0} {i1} -o {o} -filter_func {filter_func} -value_func {value_func}\",\n",
    "\tconda_env=\"rms_procap_analysis_20240501\",\n",
    "\t#output_func=output_func,\n",
    "\t#i0 = rms.file_from_path(f\"{REPLICATES_CORRELATION_DIR}{output_prefix}_5pl_binned_count_table.txt.gz\"),\n",
    "\t#i1 = rms.file_from_path(f\"{REPLICATES_CORRELATION_DIR}{output_prefix}_5mn_binned_count_table.txt.gz\"),\n",
    "\ti0 = \"/local/storage/kl945/EnhancerAtlas/PROcap/QC/ReplicatesCorrelation/brm_C1a_and_C1b_erm_5pl_binned_count_table.txt.gz\",\n",
    "\ti1 = \"/local/storage/kl945/EnhancerAtlas/PROcap/QC/ReplicatesCorrelation/brm_C1a_and_C1b_erm_5mn_binned_count_table.txt.gz\",\n",
    "\to =  \"/local/storage/kl945/EnhancerAtlas/PROcap/QC/ReplicatesCorrelation/Test_correlation.pdf\",\n",
    "\tfilter_func = '\"lambda x, y: abs(x) > 0 and abs(y) > 0\"',\n",
    "\tvalue_func = '\"lambda x: math.log10(abs(x))\"'\n",
    ")\n"
   ]
  },
  {
   "cell_type": "code",
   "execution_count": 293,
   "id": "4476d240-1d7a-4dad-b1df-2b9e8731cf1e",
   "metadata": {
    "execution": {
     "iopub.execute_input": "2024-09-28T14:19:42.390417Z",
     "iopub.status.busy": "2024-09-28T14:19:42.388600Z",
     "iopub.status.idle": "2024-09-28T14:19:56.154616Z",
     "shell.execute_reply": "2024-09-28T14:19:56.154187Z",
     "shell.execute_reply.started": "2024-09-28T14:19:42.390387Z"
    },
    "tags": []
   },
   "outputs": [
    {
     "data": {
      "image/png": "[encoded data removed]",
      "text/plain": [
       "<Figure size 300x300 with 1 Axes>"
      ]
     },
     "execution_count": 293,
     "metadata": {},
     "output_type": "execute_result"
    },
    {
     "data": {
      "image/png": "[encoded data removed]",
      "text/plain": [
       "<Figure size 300x300 with 1 Axes>"
      ]
     },
     "metadata": {},
     "output_type": "display_data"
    }
   ],
   "source": [
    "from commonhelper import reimport\n",
    "reimport(locals(), \"biodataplot.common\", altname=\"bpc\")\n",
    "reimport(locals(), \"biodataplot.utils\", altname=\"bpu\")\n",
    "\n",
    "def _plot_count_tables_correlation_20240901(\n",
    "\ti:list[str], \n",
    "\to:str, \n",
    "\tfilter_func:str=None, \n",
    "\tvalue_func:str=None, \n",
    "\tkeys:list[str]=[],\n",
    "\tlabels:str=None,\n",
    "\tfigure_change_kw={},\n",
    "\tsavefig_kw:str={}\n",
    "):\n",
    "\tfrom biodatatools.utils.common import _read_json_like_struct_20240601\n",
    "\t\n",
    "\timport itertools\n",
    "\timport math\n",
    "\timport numpy as np\n",
    "\t\n",
    "\tfrom commonhelper import safe_inverse_zip\n",
    "\tfrom biodata.delimited import DelimitedReader, DelimitedWriter\n",
    "\tfrom biodataplot.common import _plot_two_way_correlation_20240901\n",
    "\tfrom biodataplot.utils import _plt_change_figure_properties_20240501\n",
    "\ttables = None\n",
    "\tfor f in i:\n",
    "\t\twith DelimitedReader(f) as dr:\n",
    "\t\t\theader = dr.read()[1:]\n",
    "\t\t\tif keys is None or len(keys) == 0:\n",
    "\t\t\t\tkeys = header\n",
    "\t\t\ttmp_tables = safe_inverse_zip([list(map(float, d[1:])) for d in dr], len(keys))\n",
    "\t\t\tindice = [header.index(k) for k in keys]\n",
    "\t\t\ttmp_tables = {keys[idx]:tmp_tables[idx] for idx in indice}\n",
    "\t\t\tif tables is None:\n",
    "\t\t\t\ttables = {k:list(t) for k, t in tmp_tables.items()}\n",
    "\t\t\telse:\n",
    "\t\t\t\tfor k in keys:\n",
    "\t\t\t\t\ttables[k].extend(tmp_tables[k])\n",
    "\t\t\t\n",
    "\tif filter_func is not None:\n",
    "\t\tfilter_func = eval(filter_func, {})\n",
    "\tif value_func is not None:\n",
    "\t\tvalue_func = eval(value_func, {\"math\":math})\n",
    "\tif labels is not None:\n",
    "\t\tif isinstance(labels, str):\n",
    "\t\t\tlabels = _read_json_like_struct_20240601(labels)\n",
    "\tif isinstance(figure_change_kw, str):\n",
    "\t\tfigure_change_kw = _read_json_like_struct_20240601(figure_change_kw)\n",
    "\tif isinstance(savefig_kw, str):\n",
    "\t\tsavefig_kw = _read_json_like_struct_20240601(savefig_kw)\n",
    "\tfig = _plot_two_way_correlation_20240901(\n",
    "\t\ttables, xkeys=keys[:-1], ykeys=keys[1:], skip_repeat=True, \n",
    "\t\tscatter_kw={\"s\":.1, \"alpha\":.5}, \n",
    "\t\tvalue_func=value_func, filter_func=filter_func, labels=labels)\n",
    "\t_plt_change_figure_properties_20240501(\n",
    "\t\tfig, \n",
    "\t\tfig_supxlabel=\"Count\",\n",
    "\t\tfig_supylabel=\"Count\",\n",
    "\t\tfig_supxlabel_prop={\"fontsize\":16},\n",
    "\t\tfig_supylabel_prop={\"fontsize\":16},\n",
    "\t\txlabel_prop={\"fontsize\":14},\n",
    "\t\tylabel_prop={\"fontsize\":14},\n",
    "\t\t\n",
    "\t)\n",
    "\t\n",
    "\tif len(figure_change_kw) > 0:\n",
    "\t\t_plt_change_figure_properties_20240501(\n",
    "\t\t\tfig, **figure_change_kw\n",
    "\t\t)\n",
    "\tfig.tight_layout()\n",
    "\tfig.savefig(o, **savefig_kw)\n",
    "\treturn fig\n",
    "_plot_count_tables_correlation_20240901(\n",
    "\t[#\"/local/storage/kl945/EnhancerAtlas/PROcap/QC/ReplicatesCorrelation/brm_C6a_and_C6b_and_SC1a_and_SC1b_erm_5pl_binned_count_table.txt.gz\",],  \n",
    "\t \"/local/storage/kl945/EnhancerAtlas/PROcap/QC/ReplicatesCorrelation/brm_C1a_and_C1b_erm_5mn_binned_count_table.txt.gz\"],\n",
    "\tNone, \n",
    "\t\"lambda x, y: abs(x) > 0 and abs(y) > 0\", \n",
    "\t\"lambda x: math.log10(abs(x))\",\n",
    "\tfigure_change_kw={\"fig_supxlabel_prop\":{\"text\":\"$log_{10}$ Reads\"}, \"fig_supylabel_prop\":{\"text\":\"$log_{10}$ Reads\"}}\n",
    ")"
   ]
  },
  {
   "cell_type": "code",
   "execution_count": null,
   "id": "153e4bb0-10d6-46ca-85f2-d3bcf43cb99a",
   "metadata": {
    "execution": {
     "iopub.status.busy": "2024-09-20T15:06:39.261915Z",
     "iopub.status.idle": "2024-09-20T15:06:39.262266Z",
     "shell.execute_reply": "2024-09-20T15:06:39.262106Z",
     "shell.execute_reply.started": "2024-09-20T15:06:39.262087Z"
    },
    "tags": []
   },
   "outputs": [],
   "source": [
    "import aldentools.plot as ap"
   ]
  },
  {
   "cell_type": "code",
   "execution_count": 270,
   "id": "10e3f483-b216-425e-961d-b14287d3966f",
   "metadata": {
    "execution": {
     "iopub.execute_input": "2024-09-27T17:22:15.192984Z",
     "iopub.status.busy": "2024-09-27T17:22:15.192634Z",
     "iopub.status.idle": "2024-09-27T17:22:15.403837Z",
     "shell.execute_reply": "2024-09-27T17:22:15.403401Z",
     "shell.execute_reply.started": "2024-09-27T17:22:15.192962Z"
    },
    "tags": []
   },
   "outputs": [
    {
     "data": {
      "text/plain": [
       "(0.0, 1.0, 0.0, 1.0)"
      ]
     },
     "execution_count": 270,
     "metadata": {},
     "output_type": "execute_result"
    },
    {
     "data": {
      "image/png": "[encoded data removed]",
      "text/plain": [
       "<Figure size 640x480 with 3 Axes>"
      ]
     },
     "metadata": {},
     "output_type": "display_data"
    }
   ],
   "source": [
    "fig, axs = plt.subplots(2, 1)\n",
    "axs[0].set_ylabel(\"A\")\n",
    "axs[1].set_ylabel(\"B\")\n",
    "ax = fig.add_axes([0,0,1,1])\n",
    "for spine in ax.spines.values():\n",
    "\tspine.set_visible(False)\n",
    "ax.zorder= -1\n",
    "ax.axis('off')\n",
    "\n",
    "\n",
    "\n",
    "\n",
    "# bpu.plt_change_figure_properties(fig, ylabel_prop={\"fontsize\":10, \"color\":\"red\"})"
   ]
  },
  {
   "cell_type": "code",
   "execution_count": 236,
   "id": "5ca801b7-6689-4e4d-ae7b-b28a39cf123f",
   "metadata": {
    "execution": {
     "iopub.execute_input": "2024-09-25T08:48:43.779042Z",
     "iopub.status.busy": "2024-09-25T08:48:43.778708Z",
     "iopub.status.idle": "2024-09-25T08:48:43.895957Z",
     "shell.execute_reply": "2024-09-25T08:48:43.895360Z",
     "shell.execute_reply.started": "2024-09-25T08:48:43.779014Z"
    },
    "tags": []
   },
   "outputs": [
    {
     "ename": "UnboundLocalError",
     "evalue": "local variable 'labels' referenced before assignment",
     "output_type": "error",
     "traceback": [
      "\u001b[0;31m---------------------------------------------------------------------------\u001b[0m",
      "\u001b[0;31mUnboundLocalError\u001b[0m                         Traceback (most recent call last)",
      "Cell \u001b[0;32mIn[236], line 1\u001b[0m\n\u001b[0;32m----> 1\u001b[0m fig \u001b[38;5;241m=\u001b[39m \u001b[43m_plot_two_way_correlation_20230918\u001b[49m\u001b[43m(\u001b[49m\u001b[43m{\u001b[49m\u001b[38;5;124;43m\"\u001b[39;49m\u001b[38;5;124;43mA\u001b[39;49m\u001b[38;5;124;43m\"\u001b[39;49m\u001b[43m:\u001b[49m\u001b[43m[\u001b[49m\u001b[38;5;241;43m1\u001b[39;49m\u001b[43m,\u001b[49m\u001b[38;5;241;43m2\u001b[39;49m\u001b[43m,\u001b[49m\u001b[38;5;241;43m3\u001b[39;49m\u001b[43m]\u001b[49m\u001b[43m,\u001b[49m\u001b[43m \u001b[49m\u001b[38;5;124;43m\"\u001b[39;49m\u001b[38;5;124;43mB\u001b[39;49m\u001b[38;5;124;43m\"\u001b[39;49m\u001b[43m:\u001b[49m\u001b[43m[\u001b[49m\u001b[38;5;241;43m4\u001b[39;49m\u001b[43m,\u001b[49m\u001b[38;5;241;43m4.9\u001b[39;49m\u001b[43m,\u001b[49m\u001b[38;5;241;43m6\u001b[39;49m\u001b[43m]\u001b[49m\u001b[43m,\u001b[49m\u001b[43m \u001b[49m\u001b[38;5;124;43m\"\u001b[39;49m\u001b[38;5;124;43mC\u001b[39;49m\u001b[38;5;124;43m\"\u001b[39;49m\u001b[43m:\u001b[49m\u001b[43m[\u001b[49m\u001b[38;5;241;43m7\u001b[39;49m\u001b[43m,\u001b[49m\u001b[38;5;241;43m8.1\u001b[39;49m\u001b[43m,\u001b[49m\u001b[38;5;241;43m9\u001b[39;49m\u001b[43m]\u001b[49m\u001b[43m}\u001b[49m\u001b[43m)\u001b[49m;\n\u001b[1;32m      2\u001b[0m \u001b[38;5;66;03m# fig.supxlabel(\"Read count\")\u001b[39;00m\n\u001b[1;32m      3\u001b[0m \u001b[38;5;66;03m# fig.supylabel(\"Read count\")\u001b[39;00m\n",
      "Cell \u001b[0;32mIn[235], line 35\u001b[0m, in \u001b[0;36m_plot_two_way_correlation_20230918\u001b[0;34m(object_dict, xkeys, ykeys, use_density_scatter, scatter_kw, scatter_style_func, title, identity_line_kw, odr_line_kw, correlation_kw, skip_repeat, skip_same_keys, value_func, filter_func, axs)\u001b[0m\n\u001b[1;32m     33\u001b[0m \u001b[38;5;28;01mif\u001b[39;00m ykeys \u001b[38;5;129;01mis\u001b[39;00m \u001b[38;5;28;01mNone\u001b[39;00m:\n\u001b[1;32m     34\u001b[0m \tykeys \u001b[38;5;241m=\u001b[39m keys\n\u001b[0;32m---> 35\u001b[0m \u001b[38;5;28;01mif\u001b[39;00m \u001b[43mlabels\u001b[49m \u001b[38;5;129;01mis\u001b[39;00m \u001b[38;5;28;01mNone\u001b[39;00m:\n\u001b[1;32m     36\u001b[0m \tlabels \u001b[38;5;241m=\u001b[39m {k:k \u001b[38;5;28;01mfor\u001b[39;00m k \u001b[38;5;129;01min\u001b[39;00m itertools\u001b[38;5;241m.\u001b[39mchain(xkeys, ykeys)}\n\u001b[1;32m     38\u001b[0m \u001b[38;5;28;01mif\u001b[39;00m axs \u001b[38;5;129;01mis\u001b[39;00m \u001b[38;5;28;01mNone\u001b[39;00m:\n",
      "\u001b[0;31mUnboundLocalError\u001b[0m: local variable 'labels' referenced before assignment"
     ]
    }
   ],
   "source": [
    "fig = _plot_two_way_correlation_20230918({\"A\":[1,2,3], \"B\":[4,4.9,6], \"C\":[7,8.1,9]});\n",
    "# fig.supxlabel(\"Read count\")\n",
    "# fig.supylabel(\"Read count\")\n"
   ]
  },
  {
   "cell_type": "code",
   "execution_count": 237,
   "id": "711e21bb-0de5-4cb6-a607-d33bbabb395c",
   "metadata": {
    "execution": {
     "iopub.execute_input": "2024-09-25T08:49:11.657521Z",
     "iopub.status.busy": "2024-09-25T08:49:11.657209Z",
     "iopub.status.idle": "2024-09-25T08:49:11.679129Z",
     "shell.execute_reply": "2024-09-25T08:49:11.678674Z",
     "shell.execute_reply.started": "2024-09-25T08:49:11.657501Z"
    },
    "tags": []
   },
   "outputs": [],
   "source": [
    "from commonhelper import reimport\n",
    "reimport(locals(), \"biodataplot.common\", altname=\"bpc\")\n",
    "reimport(locals(), \"biodataplot.utils\", altname=\"bpu\")\n",
    "from matplotlib.offsetbox import AnchoredText\n",
    "\n",
    "def _plot_two_way_correlation_20240918(\n",
    "\tobject_dict, xkeys=None, ykeys=None, labels=None,\n",
    "\tuse_density_scatter=False, scatter_kw={}, \n",
    "\tscatter_style_func={}, \n",
    "\tvalue_func=None,\n",
    "\tfilter_func=None,\n",
    "\ttitle=None, \n",
    "\tidentity_line_kw={},\n",
    "\todr_line_kw=None, \n",
    "\tcorrelation_kw={}, \n",
    "\tskip_repeat=True, \n",
    "\tskip_same_keys=True,\n",
    "\taxs=None):\n",
    "\timport matplotlib.pyplot as plt\n",
    "\timport aldentools.methods as pm\n",
    "\tfrom commonhelper import safe_inverse_zip\n",
    "\timport numpy as np\n",
    "\timport itertools\n",
    "\tfrom matplotlib.ticker import AutoLocator\n",
    "\tfrom collections import defaultdict\n",
    "\t\t\n",
    "\t\n",
    "\t# Update default keys\n",
    "\tkeys = list(object_dict.keys())\n",
    "\tif xkeys is None:\n",
    "\t\txkeys = keys\n",
    "\tif ykeys is None:\n",
    "\t\tykeys = keys\n",
    "\tif labels is None:\n",
    "\t\tlabels = {k:k for k in itertools.chain(xkeys, ykeys)}\n",
    "\t\n",
    "\tif axs is None:\n",
    "\t\tfig, axs = plt.subplots(len(ykeys), len(xkeys), figsize=(len(xkeys)*3, len(ykeys)*3), squeeze=False)\n",
    "\telse:\n",
    "\t\tfig = axs[0][0].figure\n",
    "\t\t\n",
    "\tused_pairs = set() \n",
    "\tscatter_kw = {\"alpha\":0.5, **scatter_kw}\n",
    "\tfor xidx, xkey in enumerate(xkeys):\n",
    "\t\tfor yidx, ykey in enumerate(ykeys):\n",
    "\t\t\tax = axs[yidx][xidx]\n",
    "\t\t\tt = tuple(sorted([xkey, ykey]))\n",
    "\t\t\tif (skip_repeat and t in used_pairs) or (skip_same_keys and xkey == ykey):\n",
    "\t\t\t\tfor spine in ax.spines.values():\n",
    "\t\t\t\t\tspine.set_visible(False)\n",
    "\t\t\t\tax.set_xticks([])\n",
    "\t\t\t\tax.set_yticks([])\n",
    "\t\t\t\tcontinue\n",
    "\t\t\tused_pairs.add(t)\n",
    "\t\t\t# if xkey == ykey:\n",
    "\t\t\t# \tax.add_artist(AnchoredText(xkey, loc=\"center\", frameon=False, prop={\"fontsize\":20}))\n",
    "\t\t\t# \tfor spine in ax.spines.values():\n",
    "\t\t\t# \t\tspine.set_visible(False)\n",
    "\t\t\t# \tax.set_xticks([])\n",
    "\t\t\t# \tax.set_yticks([])\n",
    "\t\t\t# \tcontinue\n",
    "\t\t\te1 = object_dict[xkey]\n",
    "\t\t\te2 = object_dict[ykey]\n",
    "\t\t\tif isinstance(e1, dict) and isinstance(e2, dict):\n",
    "\t\t\t\tdatapoints = [(k, e1[k], e2[k]) for k in sorted(set(e1.keys()).intersection(set(e2.keys())))]\n",
    "\t\t\t\tif filter_func is not None:\n",
    "\t\t\t\t\tdatapoints = [(k, x, y) for k, x, y in datapoints if filter_func(k, x, y)]\n",
    "\t\t\t\tks, xs, ys = safe_inverse_zip(datapoints, 3)\n",
    "\t\t\t\tcustom_kw = {k:[func(*d) for d in datapoints] for k, func in scatter_style_func.items()}\n",
    "\t\t\telse:\n",
    "\t\t\t\t\n",
    "\t\t\t\tdatapoints = [(x, y) for x, y in zip(e1, e2) if filter_func is None or filter_func(x, y)]\n",
    "\t\t\t\txs, ys = safe_inverse_zip(datapoints, 2)\n",
    "\t\t\tif value_func is not None:\n",
    "\t\t\t\txs = list(map(value_func, xs))\n",
    "\t\t\t\tys = list(map(value_func, ys))\n",
    "\t\t\tcustom_kw = {k:[func(x, y) for x, y in zip(xs, ys)] for k, func in scatter_style_func.items()}\n",
    "\t\t\tif use_density_scatter:\n",
    "\t\t\t\t_plot_density_scatter_20220213(xs, ys, ax=ax, **{**scatter_kw, **custom_kw})\n",
    "\t\t\telse:\n",
    "\t\t\t\tax.scatter(xs, ys, **{**scatter_kw, **custom_kw})\n",
    "\t\t\t\n",
    "\t\t\tif identity_line_kw is not None:\n",
    "\t\t\t\tidentity_line_kw = {\"color\":\"grey\", \"ls\":\"--\", **identity_line_kw}\n",
    "\t\t\t\tax.axline([0, 0], slope=1, **identity_line_kw)\n",
    "\t\t\tif odr_line_kw is not None:\n",
    "\t\t\t\tbpc._add_scatter_odr_line_20240701(xs, ys, **odr_line_kw, ax=ax)\n",
    "\t\t\tif correlation_kw is not None:\n",
    "\t\t\t\tbpc._add_scatter_correlation_20240701(xs, ys, **correlation_kw, ax=ax)\n",
    "\t\t\tax.set_aspect(\"equal\")\n",
    "\t\t\tpm._plt_equal_xylim_20201107(ax)\n",
    "\t\t\tlim = ax.get_xlim()\n",
    "\t\t\tax.yaxis.set_major_locator(AutoLocator())\n",
    "\t\t\tax.set_xticks(ax.get_yticks())\n",
    "\t\t\tax.set_yticks(ax.get_yticks())\n",
    "\t\t\tax.set_xlim(lim)\n",
    "\t\t\tax.set_ylim(lim)\n",
    "\t\t\t# odr.RealData(X, Y, sy=min(1/np.var(Y), 1/np.var(X)))\n",
    "\tfor xidx, xkey in enumerate(xkeys):\n",
    "\t\taxs[-1][xidx].set_xlabel(labels[xkey])\n",
    "\tfor yidx, ykey in enumerate(ykeys):\n",
    "\t\taxs[yidx][0].set_ylabel(labels[ykey])\n",
    "\tif title is not None:\n",
    "\t\tfig.suptitle(title)\n",
    "\treturn fig\n"
   ]
  },
  {
   "cell_type": "code",
   "execution_count": null,
   "id": "7bbeecc0-331a-439b-8aa3-693f98aada04",
   "metadata": {},
   "outputs": [],
   "source": [
    "\tfrom aldentools.common_functions import safe_inverse_zip\n",
    "\timport aldentools.plot as ap\n",
    "\tbws1, bws2 = [[_open_pyBigWig_20210519(bw) for bw in bws] for bws in [bws1, bws2]]\n",
    "\tarr1, arr2 = [[sum(abs(_get_pyBigWig_count_20210504(bw, r)) for bw in bws) for r in regions] for bws in [bws1, bws2]]\n",
    "\tif colors is not None and not isinstance(colors, str) and len(colors) == len(regions):\n",
    "\t\tarr1, arr2, colors = safe_inverse_zip([(z1, z2, c) for z1, z2, c in zip(arr1, arr2, colors) if z1 >= filter_value or z2 >= filter_value], 3)\n",
    "\telse:\n",
    "\t\tarr1, arr2 = safe_inverse_zip([(z1, z2) for z1, z2 in zip(arr1, arr2) if z1 >= filter_value or z2 >= filter_value], 2)\n",
    "\tif correlation_use_log:\n",
    "\t\tarr1 = [_log_value_plus_one_20201023(i, 10) for i in arr1]\n",
    "\t\tarr2 = [_log_value_plus_one_20201023(i, 10) for i in arr2]\n",
    "\tscatter_kw = {\"s\":1}\n",
    "\tif colors is not None:\n",
    "\t\tscatter_kw[\"c\"] = colors\n",
    "\tfig = ap._plot_two_way_correlation_20220527({name1:arr1, name2:arr2}, xkeys=[name1], ykeys=[name2], scatter_kw =scatter_kw)\n",
    "\treturn fig\n"
   ]
  },
  {
   "cell_type": "code",
   "execution_count": null,
   "id": "3ec38770-ee43-4284-8e75-17d901496f7f",
   "metadata": {},
   "outputs": [],
   "source": [
    "biodatatools plot_count_tables_correlation"
   ]
  },
  {
   "cell_type": "code",
   "execution_count": null,
   "id": "0f130c4e-a0e5-4cd2-8369-efd9053d8598",
   "metadata": {},
   "outputs": [],
   "source": [
    "from biodata.delimited import DelimitedReader\n",
    "with DelimitedReader"
   ]
  },
  {
   "cell_type": "code",
   "execution_count": 15,
   "id": "830a9ef7-e3ad-4f60-9d86-c393461f748d",
   "metadata": {
    "execution": {
     "iopub.execute_input": "2024-09-18T20:22:02.563639Z",
     "iopub.status.busy": "2024-09-18T20:22:02.563197Z",
     "iopub.status.idle": "2024-09-18T20:22:02.570310Z",
     "shell.execute_reply": "2024-09-18T20:22:02.569772Z",
     "shell.execute_reply.started": "2024-09-18T20:22:02.563612Z"
    },
    "tags": []
   },
   "outputs": [
    {
     "data": {
      "text/plain": [
       "<function numpy.std(a, axis=None, dtype=None, out=None, ddof=0, keepdims=<no value>, *, where=<no value>)>"
      ]
     },
     "execution_count": 15,
     "metadata": {},
     "output_type": "execute_result"
    }
   ],
   "source": [
    "np.std"
   ]
  },
  {
   "cell_type": "code",
   "execution_count": 33,
   "id": "2b59df65-92cc-456c-a1b8-700125f006cd",
   "metadata": {
    "execution": {
     "iopub.execute_input": "2024-09-18T20:35:39.783337Z",
     "iopub.status.busy": "2024-09-18T20:35:39.782909Z",
     "iopub.status.idle": "2024-09-18T20:35:40.436196Z",
     "shell.execute_reply": "2024-09-18T20:35:40.435583Z",
     "shell.execute_reply.started": "2024-09-18T20:35:39.783308Z"
    },
    "tags": []
   },
   "outputs": [
    {
     "name": "stdout",
     "output_type": "stream",
     "text": [
      "6.488888825628473 467.40128808262295\n",
      "0.6727351066151507 468.2531292818461\n",
      "0.07059440556898425 469.3898973085742\n",
      "0.006727351839380756 468.25333037399173\n"
     ]
    },
    {
     "data": {
      "image/png": "[encoded data removed]",
      "text/plain": [
       "<Figure size 640x480 with 4 Axes>"
      ]
     },
     "metadata": {},
     "output_type": "display_data"
    }
   ],
   "source": [
    "from random import random, seed\n",
    "from scipy import polyfit\n",
    "from scipy import odr\n",
    "import numpy as np\n",
    "from matplotlib import pyplot as plt\n",
    "\n",
    "seed(1)\n",
    "X = np.array([random() for i in range(1000)])\n",
    "Y = np.array([i + random()**2 for i in range(1000)])\n",
    "\n",
    "for num in range(1, 5):\n",
    "    plt.subplot(2, 2, num)\n",
    "    plt.title('X range is %.1f times Y' % (float(100 / max(X))))\n",
    "    X *= 10\n",
    "    z = np.polyfit(X, Y, 1)\n",
    "    plt.plot(X, Y, 'k.', alpha=0.1)\n",
    "\n",
    "    # Fit using odr\n",
    "    def f(B, X):\n",
    "        return B[0]*X + B[1]    \n",
    "\n",
    "    linear = odr.Model(f)\n",
    "    # mydata = odr.RealData(X, Y)\n",
    "    # mydata = odr.RealData(X, Y, sx=np.std(X), sy=np.std(Y))\n",
    "    # mydata = odr.RealData(X, Y, sx=1, sy=1)\n",
    "    seed(19)\n",
    "    mydata = odr.RealData(X, Y, sy=min(1/np.var(Y), 1/np.var(X)))\n",
    "\n",
    "    myodr = odr.ODR(mydata, linear, beta0=z)\n",
    "    myodr.set_job(fit_type=0)\n",
    "    myoutput = myodr.run()\n",
    "    a, b = myoutput.beta\n",
    "    print(a, b)\n",
    "    sa, sb = myoutput.sd_beta\n",
    "    xp = np.linspace(plt.xlim()[0], plt.xlim()[1], 1000)\n",
    "    yp = a*xp+b\n",
    "    plt.plot(xp, yp, label='ODR')\n",
    "    yp2 = z[0]*xp+z[1]\n",
    "    plt.plot(xp, yp2, label='polyfit')\n",
    "    plt.legend()\n",
    "    plt.ylim(-1000, 2000)\n",
    "plt.show()\n"
   ]
  },
  {
   "cell_type": "code",
   "execution_count": 72,
   "id": "94ef553d-f80b-4848-9a31-51ec6f63434e",
   "metadata": {
    "execution": {
     "iopub.execute_input": "2024-09-22T15:41:51.954622Z",
     "iopub.status.busy": "2024-09-22T15:41:51.954317Z",
     "iopub.status.idle": "2024-09-22T15:41:51.958291Z",
     "shell.execute_reply": "2024-09-22T15:41:51.957848Z",
     "shell.execute_reply.started": "2024-09-22T15:41:51.954601Z"
    },
    "tags": []
   },
   "outputs": [],
   "source": []
  },
  {
   "cell_type": "code",
   "execution_count": 79,
   "id": "42717829-9838-4a23-a517-03543be16470",
   "metadata": {
    "execution": {
     "iopub.execute_input": "2024-09-22T15:47:32.202387Z",
     "iopub.status.busy": "2024-09-22T15:47:32.202070Z",
     "iopub.status.idle": "2024-09-22T15:47:32.205048Z",
     "shell.execute_reply": "2024-09-22T15:47:32.204611Z",
     "shell.execute_reply.started": "2024-09-22T15:47:32.202368Z"
    },
    "tags": []
   },
   "outputs": [],
   "source": [
    "import os\n",
    "os.chdir(\"/local/storage/kl945/TestPlot/\")"
   ]
  },
  {
   "cell_type": "code",
   "execution_count": 77,
   "id": "4057690c-ae92-4170-b9ae-4d11a1e2c03d",
   "metadata": {
    "execution": {
     "iopub.execute_input": "2024-09-22T15:44:56.840639Z",
     "iopub.status.busy": "2024-09-22T15:44:56.840297Z",
     "iopub.status.idle": "2024-09-22T15:44:56.844349Z",
     "shell.execute_reply": "2024-09-22T15:44:56.843937Z",
     "shell.execute_reply.started": "2024-09-22T15:44:56.840619Z"
    },
    "tags": []
   },
   "outputs": [
    {
     "data": {
      "text/plain": [
       "'/home/yc2553/projects/TRE_directionality/resources/'"
      ]
     },
     "execution_count": 77,
     "metadata": {},
     "output_type": "execute_result"
    }
   ],
   "source": [
    "PROJECT_DIR_r"
   ]
  },
  {
   "cell_type": "code",
   "execution_count": null,
   "id": "d3e40905-01ce-488c-abef-4d36e0c96f86",
   "metadata": {},
   "outputs": [],
   "source": []
  },
  {
   "cell_type": "code",
   "execution_count": 115,
   "id": "1f7907e3-00e3-4270-96f4-dcadd83b1753",
   "metadata": {
    "execution": {
     "iopub.execute_input": "2024-09-22T16:47:15.220642Z",
     "iopub.status.busy": "2024-09-22T16:47:15.220394Z",
     "iopub.status.idle": "2024-09-22T16:47:15.922477Z",
     "shell.execute_reply": "2024-09-22T16:47:15.922052Z",
     "shell.execute_reply.started": "2024-09-22T16:47:15.220624Z"
    },
    "tags": []
   },
   "outputs": [
    {
     "name": "stdout",
     "output_type": "stream",
     "text": [
      "A\n"
     ]
    },
    {
     "data": {
      "image/png": "[encoded data removed]",
      "text/plain": [
       "<Figure size 500x600 with 6 Axes>"
      ]
     },
     "metadata": {},
     "output_type": "display_data"
    }
   ],
   "source": [
    "def _expand_genomic_pos(r, size):\n",
    "\tfrom genomictools import GenomicPos\n",
    "\tr = GenomicPos(r)\n",
    "\ts = size - len(r)\n",
    "\treturn GenomicPos(r.name, r.start - (s // 2), r.stop + (s // 2 + s % 2))\n",
    "\n",
    "import biodataplot.genomeview as gv\n",
    "import biodataplot.utils as bpu\n",
    "region = \"chr8:127735649-127736591\"\n",
    "region = _expand_genomic_pos(region,1000) # This changes the size of region\n",
    "fig = gv.plot_genome_view(\n",
    "\tregion,\n",
    "\tdata = {\n",
    "\t\t\"PRO-cap (rep1)\": [f\"ENCFF538JPG.bigWig\", f\"ENCFF183SSA.bigWig\"],\n",
    "\t\t\"PRO-cap (rep2)\": [f\"ENCFF929BQB.bigWig\", f\"ENCFF806IHJ.bigWig\"],\n",
    "\t\t\"DNase\": f\"ENCFF414OGC.bigWig\",\n",
    "\t\t\"H3K27ac\": f\"ENCFF849TDM.bigWig\",\n",
    "\t\t\"PRO-cap Peaks\":\"ENCFF227JQX.bed.gz\"\n",
    "\t},\n",
    "\tformatters = {\n",
    "\t\t\"PRO-cap (rep1)\": {\"yscale\":\"asym_pos_neg\", \"plot_kw\":{\"width\":5}},\n",
    "\t\t\"PRO-cap (rep2)\": {\"yscale\":\"asym_pos_neg\", \"plot_kw\":{\"width\":5}},\n",
    "\t\t\"DNase\": {\"plot_kw\": {\"width\":1, \"fill_kw\":{\"color\":\"#B3DE69\"}}},\n",
    "\t\t\"H3K27ac\": {\"plot_kw\": {\"width\":1, \"fill_kw\":{\"color\":\"#FFD700\"}}},\n",
    "\t},\n",
    "\theight_ratios = {\n",
    "\t\t\"PRO-cap (rep1)\": 8,\n",
    "\t\t\"PRO-cap (rep2)\": 8,\n",
    "\t\t\"DNase\": 5,\n",
    "\t\t\"H3K27ac\": 5\n",
    "\t},\n",
    "\tgroup_autoscales = [[\"PRO-cap (rep1)\"]],\n",
    "\tcoordinate_kw = {\"major_coordinate_unit\":150},\n",
    ")\n",
    "\n",
    "bpu.plt_change_figure_properties(\n",
    "\tfig,\n",
    "\t**{\n",
    "\t\"fig_prop\":{\"size_inches\":[5,6]}, # This change the figure size\n",
    "\t\"locator_prop\": {\"nbins\":3, \"axis\":\"x\"},\n",
    "\t\"fig_suptitle\": \"GAPDH promoter\",\n",
    "\t\"fig_suptitle_kwargs\": {\"fontsize\":35, \"fontweight\":\"bold\", \"y\":1.02},\n",
    "\t\"xticklabels_prop\": {\"fontsize\":18},\n",
    "\t\"yticklabels_prop\": {\"fontsize\":18},\n",
    "\t\"ylabel_prop\": {\"fontsize\":25, \"fontweight\":\"bold\"},\n",
    "\t\"xlabel_prop\": {\"fontsize\":25, \"fontweight\":\"bold\"}},\n",
    "\ttitle_prop = {\"text\":\"\"}\n",
    ")\n"
   ]
  },
  {
   "cell_type": "code",
   "execution_count": 343,
   "id": "90536ed5-0c1e-437d-9fe6-fd06eb071183",
   "metadata": {
    "execution": {
     "iopub.execute_input": "2024-09-29T13:57:27.928915Z",
     "iopub.status.busy": "2024-09-29T13:57:27.928591Z",
     "iopub.status.idle": "2024-09-29T13:57:28.698381Z",
     "shell.execute_reply": "2024-09-29T13:57:28.697930Z",
     "shell.execute_reply.started": "2024-09-29T13:57:27.928893Z"
    },
    "tags": []
   },
   "outputs": [
    {
     "name": "stdout",
     "output_type": "stream",
     "text": [
      "A\n"
     ]
    },
    {
     "data": {
      "text/plain": [
       "(0.0, 1.0)"
      ]
     },
     "execution_count": 343,
     "metadata": {},
     "output_type": "execute_result"
    },
    {
     "data": {
      "image/png": "[encoded data removed]",
      "text/plain": [
       "<Figure size 500x600 with 7 Axes>"
      ]
     },
     "metadata": {},
     "output_type": "display_data"
    }
   ],
   "source": [
    "def _expand_genomic_pos(r, size):\n",
    "\tfrom genomictools import GenomicPos\n",
    "\tr = GenomicPos(r)\n",
    "\ts = size - len(r)\n",
    "\treturn GenomicPos(r.name, r.start - (s // 2), r.stop + (s // 2 + s % 2))\n",
    "\n",
    "import biodataplot.genomeview as gv\n",
    "import biodataplot.utils as bpu\n",
    "region = \"chr8:127735649-127736591\"\n",
    "region = _expand_genomic_pos(region,1000) # This changes the size of region\n",
    "fig = gv.plot_genome_view(\n",
    "\tregion,\n",
    "\tdata = {\n",
    "\t\t\"PRO-cap (rep1)\": [f\"ENCFF538JPG.bigWig\", f\"ENCFF183SSA.bigWig\"],\n",
    "\t\t\"PRO-cap (rep2)\": [f\"ENCFF929BQB.bigWig\", f\"ENCFF806IHJ.bigWig\"],\n",
    "\t\t\"DNase\": f\"ENCFF414OGC.bigWig\",\n",
    "\t\t\"H3K27ac\": f\"ENCFF849TDM.bigWig\",\n",
    "\t\t\"PRO-cap Peaks\":\"ENCFF227JQX.bed.gz\"\n",
    "\t},\n",
    "\tformatters = {\n",
    "\t\t\"PRO-cap (rep1)\": {\"yscale\":\"asym_pos_neg\", \"plot_kw\":{\"width\":5}},\n",
    "\t\t\"PRO-cap (rep2)\": {\"yscale\":\"asym_pos_neg\", \"plot_kw\":{\"width\":5}},\n",
    "\t\t\"DNase\": {\"plot_kw\": {\"width\":1, \"fill_kw\":{\"color\":\"#B3DE69\"}}},\n",
    "\t\t\"H3K27ac\": {\"plot_kw\": {\"width\":1, \"fill_kw\":{\"color\":\"#FFD700\"}}},\n",
    "\t},\n",
    "\theight_ratios = {\n",
    "\t\t\"PRO-cap (rep1)\": 8,\n",
    "\t\t\"PRO-cap (rep2)\": 8,\n",
    "\t\t\"DNase\": 5,\n",
    "\t\t\"H3K27ac\": 5\n",
    "\t},\n",
    "\tgroup_autoscales = [[\"PRO-cap (rep1)\"]],\n",
    "\tcoordinate_kw = {\"major_coordinate_unit\":150},\n",
    ")\n",
    "\n",
    "bpu.plt_change_figure_properties(\n",
    "\tfig,\n",
    "\t**{\n",
    "\t\"fig_prop\":{\"size_inches\":[5,6]}, # This change the figure size\n",
    "\t\"locator_prop\": {\"nbins\":3, \"axis\":\"x\"},\n",
    "\t\"fig_suptitle\": \"GAPDH promoter\",\n",
    "\t\"fig_suptitle_kwargs\": {\"fontsize\":35, \"fontweight\":\"bold\", \"y\":1.02},\n",
    "\t\"xticklabels_prop\": {\"fontsize\":18},\n",
    "\t\"yticklabels_prop\": {\"fontsize\":18},\n",
    "\t\"ylabel_prop\": {\"fontsize\":25, \"fontweight\":\"bold\"},\n",
    "\t\"xlabel_prop\": {\"fontsize\":25, \"fontweight\":\"bold\"}},\n",
    "\ttitle_prop = {\"text\":\"\"}\n",
    ")\n",
    "\n",
    "for i, c in enumerate([\"red\", \"blue\", \"green\", \"orange\"]):\n",
    "\tbpu.plt_change_figure_properties(\n",
    "\t\tfig,\n",
    "\t\tax_targets=[i],\n",
    "\t\tylabel_prop={\"color\":c, \"text\":\"SAME\"}\n",
    "\t)\n",
    "ax = fig.add_axes([0,0,1,1])\n",
    "for spine in ax.spines.values():\n",
    "\tspine.set_visible(False)\n",
    "ax.zorder= -1\n",
    "ax.axis('off')\n",
    "trans = ax.get_yaxis_transform()\n",
    "# ax.annotate(\"Distal\", xy=(-.8, 0.5), xycoords=trans, ha=\"center\", va=\"center\", fontsize=20, fontweight=\"bold\", rotation=90)\n",
    "# ax.plot([-.75,-.75],[0,1], color=\"k\", transform=trans, clip_on=False)\n",
    "ax.text(-.8, (.54+.9)/2, \"Distal\", fontsize=20, fontweight=\"bold\", rotation=90, va=\"center\", ha=\"center\", transform=trans)\n",
    "ax.plot([-.75, -.75], [.54, .9], color=\"k\", transform=trans, clip_on=False)\n",
    "ax.set_ylim(0, 1)\n"
   ]
  },
  {
   "cell_type": "code",
   "execution_count": 352,
   "id": "89c94c54-cbee-486d-9dc2-f906a52fdd68",
   "metadata": {
    "execution": {
     "iopub.execute_input": "2024-09-29T14:03:04.944639Z",
     "iopub.status.busy": "2024-09-29T14:03:04.944312Z",
     "iopub.status.idle": "2024-09-29T14:03:04.948191Z",
     "shell.execute_reply": "2024-09-29T14:03:04.947743Z",
     "shell.execute_reply.started": "2024-09-29T14:03:04.944618Z"
    },
    "tags": []
   },
   "outputs": [
    {
     "name": "stdout",
     "output_type": "stream",
     "text": [
      "Bbox(x0=0.125, y0=0.704, x1=0.9, y1=0.88)\n",
      "Bbox(x0=0.125, y0=0.506, x1=0.9, y1=0.6819999999999999)\n",
      "Bbox(x0=0.125, y0=0.374, x1=0.9, y1=0.484)\n",
      "Bbox(x0=0.125, y0=0.242, x1=0.9, y1=0.352)\n",
      "Bbox(x0=0.125, y0=0.15400000000000003, x1=0.9, y1=0.21999999999999997)\n",
      "Bbox(x0=0.125, y0=0.10999999999999999, x1=0.9, y1=0.132)\n",
      "Bbox(x0=0.0, y0=0.0, x1=1.0, y1=1.0)\n"
     ]
    }
   ],
   "source": [
    "for t in fig.axes:\n",
    "\tprint(t.get_position())"
   ]
  },
  {
   "cell_type": "code",
   "execution_count": 351,
   "id": "96cd2325-e402-4430-bfc9-7e68b32f22d5",
   "metadata": {
    "execution": {
     "iopub.execute_input": "2024-09-29T14:02:39.585200Z",
     "iopub.status.busy": "2024-09-29T14:02:39.584869Z",
     "iopub.status.idle": "2024-09-29T14:02:39.612432Z",
     "shell.execute_reply": "2024-09-29T14:02:39.612014Z",
     "shell.execute_reply.started": "2024-09-29T14:02:39.585179Z"
    },
    "tags": []
   },
   "outputs": [
    {
     "data": {
      "text/plain": [
       "Bbox([[0.125, 0.704], [0.9, 0.88]])"
      ]
     },
     "execution_count": 351,
     "metadata": {},
     "output_type": "execute_result"
    }
   ],
   "source": [
    "t.get_position()"
   ]
  },
  {
   "cell_type": "code",
   "execution_count": null,
   "id": "5589a0da-260e-40d4-9549-435e0b02e131",
   "metadata": {},
   "outputs": [],
   "source": [
    "# fig.savefig(outputfile, bbox_inches = \"tight\", dpi = 300)"
   ]
  },
  {
   "cell_type": "code",
   "execution_count": 350,
   "id": "1bd46a8a-8731-4b6b-89fc-9415dd558d7e",
   "metadata": {
    "execution": {
     "iopub.execute_input": "2024-09-29T14:01:11.350691Z",
     "iopub.status.busy": "2024-09-29T14:01:11.350163Z",
     "iopub.status.idle": "2024-09-29T14:01:11.354268Z",
     "shell.execute_reply": "2024-09-29T14:01:11.353856Z",
     "shell.execute_reply.started": "2024-09-29T14:01:11.350669Z"
    },
    "tags": []
   },
   "outputs": [
    {
     "data": {
      "text/plain": [
       "[<Axes: ylabel='SAME'>,\n",
       " <Axes: ylabel='SAME'>,\n",
       " <Axes: ylabel='SAME'>,\n",
       " <Axes: ylabel='SAME'>,\n",
       " <Axes: ylabel='PRO-cap Peaks'>,\n",
       " <Axes: xlabel='Genomic Position (chr8)'>,\n",
       " <Axes: >]"
      ]
     },
     "execution_count": 350,
     "metadata": {},
     "output_type": "execute_result"
    }
   ],
   "source": [
    "fig.axes"
   ]
  }
 ],
 "metadata": {
  "kernelspec": {
   "display_name": "Python 3 (ipykernel)",
   "language": "python",
   "name": "python3"
  },
  "language_info": {
   "codemirror_mode": {
    "name": "ipython",
    "version": 3
   },
   "file_extension": ".py",
   "mimetype": "text/x-python",
   "name": "python",
   "nbconvert_exporter": "python",
   "pygments_lexer": "ipython3",
   "version": "3.9.15"
  }
 },
 "nbformat": 4,
 "nbformat_minor": 5
}

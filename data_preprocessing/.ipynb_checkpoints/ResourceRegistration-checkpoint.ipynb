{
 "cells": [
  {
   "cell_type": "code",
   "execution_count": 5,
   "id": "9d122608-414e-475a-a81e-765bc7b2a512",
   "metadata": {
    "execution": {
     "iopub.execute_input": "2024-05-24T01:38:44.832693Z",
     "iopub.status.busy": "2024-05-24T01:38:44.831860Z",
     "iopub.status.idle": "2024-05-24T01:38:44.848822Z",
     "shell.execute_reply": "2024-05-24T01:38:44.848138Z",
     "shell.execute_reply.started": "2024-05-24T01:38:44.832574Z"
    },
    "tags": []
   },
   "outputs": [],
   "source": [
    "DBPATH = \"/home/yc2553/projects/TRE_directionality/TRE_Directionality_DB/\"\n",
    "DBNAME = \"2024_TRE_Directionality.db\"\n",
    "DBRESDIR = \"RMSResources/\"\n",
    "import sys\n",
    "import logging\n",
    "logger = logging.getLogger(\"rmspool\")\n",
    "logger.setLevel(\"INFO\")\n",
    "logger.addHandler(logging.StreamHandler(sys.stdout))\n",
    "from rmsp import rmscore\n",
    "rms = rmscore.ResourceManagementSystem(f\"{DBPATH}{DBNAME}\", f\"{DBPATH}{DBRESDIR}\")\n"
   ]
  },
  {
   "cell_type": "code",
   "execution_count": 6,
   "id": "b7ba2374-fa65-4bc6-9368-64915eadc1be",
   "metadata": {
    "execution": {
     "iopub.execute_input": "2024-05-24T01:38:57.743637Z",
     "iopub.status.busy": "2024-05-24T01:38:57.742979Z",
     "iopub.status.idle": "2024-05-24T01:38:57.763536Z",
     "shell.execute_reply": "2024-05-24T01:38:57.762798Z",
     "shell.execute_reply.started": "2024-05-24T01:38:57.743613Z"
    },
    "tags": []
   },
   "outputs": [],
   "source": [
    "seq_lib_names = [\"CTCF_T1\", \"CTCF_T2\", \"CTCF_U1\", \"CTCF_U2\", \"C1a\", \"C1b\", \"LL3\", \"LL4\", \"RAD21_T1\", \"RAD21_T2\", \"RAD21_U1\", \"RAD21_U2\"]\n"
   ]
  },
  {
   "cell_type": "code",
   "execution_count": 22,
   "id": "6c4c32f5-7cf6-450a-98e8-419788420029",
   "metadata": {
    "execution": {
     "iopub.execute_input": "2024-05-24T01:43:37.540467Z",
     "iopub.status.busy": "2024-05-24T01:43:37.539755Z",
     "iopub.status.idle": "2024-05-24T01:45:08.435309Z",
     "shell.execute_reply": "2024-05-24T01:45:08.434089Z",
     "shell.execute_reply.started": "2024-05-24T01:43:37.540416Z"
    },
    "tags": []
   },
   "outputs": [
    {
     "name": "stdout",
     "output_type": "stream",
     "text": [
      "CTCF_T1_1.fq.gz\n",
      "CTCF_T1_2.fq.gz\n",
      "CTCF_T2_1.fq.gz\n",
      "CTCF_T2_2.fq.gz\n",
      "CTCF_U1_1.fq.gz\n",
      "CTCF_U1_2.fq.gz\n",
      "CTCF_U2_1.fq.gz\n",
      "CTCF_U2_2.fq.gz\n",
      "RAD21_T1_1.fq.gz\n",
      "RAD21_T1_2.fq.gz\n",
      "RAD21_T2_1.fq.gz\n",
      "RAD21_T2_2.fq.gz\n",
      "RAD21_U1_1.fq.gz\n",
      "RAD21_U1_2.fq.gz\n",
      "RAD21_U2_1.fq.gz\n",
      "RAD21_U2_2.fq.gz\n",
      "C1a_CKDL220028609-1A_HLJNNDSX5_L4_1.fq.gz\n",
      "C1a_CKDL220028609-1A_HLJNNDSX5_L4_2.fq.gz\n",
      "C1b_CKDL220028609-1A_HLJNNDSX5_L4_1.fq.gz\n",
      "C1b_CKDL220028609-1A_HLJNNDSX5_L4_2.fq.gz\n",
      "LL3_CKDL230031693-1A_HHW5VDSX7_L3_1.fq.gz\n",
      "LL3_CKDL230031693-1A_HHW5VDSX7_L3_2.fq.gz\n",
      "LL4_CKDL230031693-1A_HHW5VDSX7_L3_1.fq.gz\n",
      "LL4_CKDL230031693-1A_HHW5VDSX7_L3_2.fq.gz\n"
     ]
    }
   ],
   "source": [
    "import os\n",
    "import aldentools.methods as apm\n",
    "\n",
    "import pandas as pd\n",
    "procap_info = pd.read_excel(f'/local/storage/kl945/PROcap/Information/PROcap_metainfo/20240519_RO_Libraries_MetaInfo_v0.8.3.xlsx', engine='openpyxl')\n",
    "# seq_lib_names = [g for k, v in apm.json_load(\"/fs/cbsuhy02/storage/kl945/EnhancerAtlas/Series/20240515_grouped_lib_names.json\").items() for g in v]\n",
    "df = procap_info[procap_info[\"Sequenced Library Name\"].isin(seq_lib_names)]\n",
    "files = []\n",
    "for _, row in df.iterrows():\n",
    "\tfiles.extend([row[\"Sequencing Read 1\"], row[\"Sequencing Read 2\"]])\n",
    "for f in files:\n",
    "\tprint(f)\n",
    "\trms.register_file(\"/home/yc2553/projects/TRE_directionality/PROcap/RawData/\" + f)\n",
    "\t"
   ]
  },
  {
   "cell_type": "code",
   "execution_count": 23,
   "id": "7eb5f138-3dfc-43b2-857d-88e19bd86ce0",
   "metadata": {
    "execution": {
     "iopub.execute_input": "2024-06-10T17:52:12.288217Z",
     "iopub.status.busy": "2024-06-10T17:52:12.287608Z",
     "iopub.status.idle": "2024-06-10T17:52:17.749672Z",
     "shell.execute_reply": "2024-06-10T17:52:17.748889Z",
     "shell.execute_reply.started": "2024-06-10T17:52:12.288173Z"
    },
    "tags": []
   },
   "outputs": [
    {
     "data": {
      "text/plain": [
       "<rmsp.rmscore.Pipe at 0x7fb88d4e0ac0>"
      ]
     },
     "execution_count": 23,
     "metadata": {},
     "output_type": "execute_result"
    }
   ],
   "source": [
    "from biodatatools.utils.alignment import get_bam_total_reads\n",
    "rms.register_pipe(get_bam_total_reads)"
   ]
  }
 ],
 "metadata": {
  "kernelspec": {
   "display_name": "Python 3 (ipykernel)",
   "language": "python",
   "name": "python3"
  },
  "language_info": {
   "codemirror_mode": {
    "name": "ipython",
    "version": 3
   },
   "file_extension": ".py",
   "mimetype": "text/x-python",
   "name": "python",
   "nbconvert_exporter": "python",
   "pygments_lexer": "ipython3",
   "version": "3.9.15"
  }
 },
 "nbformat": 4,
 "nbformat_minor": 5
}

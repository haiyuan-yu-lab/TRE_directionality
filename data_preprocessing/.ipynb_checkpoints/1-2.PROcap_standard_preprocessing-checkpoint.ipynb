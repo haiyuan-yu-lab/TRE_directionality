{
 "cells": [
  {
   "cell_type": "code",
   "execution_count": 1,
   "id": "50cba46e-90b5-40ec-ada4-f0e666f306e6",
   "metadata": {
    "execution": {
     "iopub.execute_input": "2024-10-13T16:40:55.224217Z",
     "iopub.status.busy": "2024-10-13T16:40:55.224019Z",
     "iopub.status.idle": "2024-10-13T16:41:13.595166Z",
     "shell.execute_reply": "2024-10-13T16:41:13.594669Z",
     "shell.execute_reply.started": "2024-10-13T16:40:55.224197Z"
    },
    "scrolled": true,
    "tags": []
   },
   "outputs": [
    {
     "name": "stdout",
     "output_type": "stream",
     "text": [
      "Checking tasks to skip...\n",
      "Checking pending tasks to submit...\n",
      "Total pending pids available to submit: 0 / 0\n",
      "Checking tasks to skip...\n",
      "... Processed 100 skipped tasks.\n",
      "Skipped 137 tasks that were done before.\n",
      "Checking tasks to skip...\n",
      "Checking pending tasks to submit...\n",
      "Total pending pids available to submit: 4 / 4\n",
      "WARNING! An unruntask cannot be started with exceptions! pid: d4fa59c3d28f4136b0474d19237e4f57\n",
      "Exception('Cannot overwrite files: /fs/cbsuhy02/storage/yc2553/yc2553/projects/TRE_directionality/PROcap/TrimmedData/FastQC_reports/C1a_1_fastqc.zip;/fs/cbsuhy02/storage/yc2553/yc2553/projects/TRE_directionality/PROcap/TrimmedData/FastQC_reports/C1a_1_fastqc.html;/fs/cbsuhy02/storage/yc2553/yc2553/projects/TRE_directionality/PROcap/TrimmedData/FastQC_reports/C1a_2_fastqc.zip;/fs/cbsuhy02/storage/yc2553/yc2553/projects/TRE_directionality/PROcap/TrimmedData/FastQC_reports/C1a_2_fastqc.html')\n",
      "Cannot overwrite files: /fs/cbsuhy02/storage/yc2553/yc2553/projects/TRE_directionality/PROcap/TrimmedData/FastQC_reports/C1a_1_fastqc.zip;/fs/cbsuhy02/storage/yc2553/yc2553/projects/TRE_directionality/PROcap/TrimmedData/FastQC_reports/C1a_1_fastqc.html;/fs/cbsuhy02/storage/yc2553/yc2553/projects/TRE_directionality/PROcap/TrimmedData/FastQC_reports/C1a_2_fastqc.zip;/fs/cbsuhy02/storage/yc2553/yc2553/projects/TRE_directionality/PROcap/TrimmedData/FastQC_reports/C1a_2_fastqc.html\n",
      "WARNING! An unruntask cannot be started with exceptions! pid: c56a11a8faa446e0be2a0ee98e1e3440\n",
      "Exception('Cannot overwrite files: /fs/cbsuhy02/storage/yc2553/yc2553/projects/TRE_directionality/PROcap/TrimmedData/FastQC_reports/C1b_1_fastqc.zip;/fs/cbsuhy02/storage/yc2553/yc2553/projects/TRE_directionality/PROcap/TrimmedData/FastQC_reports/C1b_1_fastqc.html;/fs/cbsuhy02/storage/yc2553/yc2553/projects/TRE_directionality/PROcap/TrimmedData/FastQC_reports/C1b_2_fastqc.zip;/fs/cbsuhy02/storage/yc2553/yc2553/projects/TRE_directionality/PROcap/TrimmedData/FastQC_reports/C1b_2_fastqc.html')\n",
      "Cannot overwrite files: /fs/cbsuhy02/storage/yc2553/yc2553/projects/TRE_directionality/PROcap/TrimmedData/FastQC_reports/C1b_1_fastqc.zip;/fs/cbsuhy02/storage/yc2553/yc2553/projects/TRE_directionality/PROcap/TrimmedData/FastQC_reports/C1b_1_fastqc.html;/fs/cbsuhy02/storage/yc2553/yc2553/projects/TRE_directionality/PROcap/TrimmedData/FastQC_reports/C1b_2_fastqc.zip;/fs/cbsuhy02/storage/yc2553/yc2553/projects/TRE_directionality/PROcap/TrimmedData/FastQC_reports/C1b_2_fastqc.html\n",
      "WARNING! An unruntask cannot be started with exceptions! pid: 6cf15981515c4d68974e37de02b34237\n",
      "Exception('Cannot overwrite files: /fs/cbsuhy02/storage/yc2553/yc2553/projects/TRE_directionality/PROcap/TrimmedData/FastQC_reports/CTCF_U1_1_fastqc.zip;/fs/cbsuhy02/storage/yc2553/yc2553/projects/TRE_directionality/PROcap/TrimmedData/FastQC_reports/CTCF_U1_1_fastqc.html;/fs/cbsuhy02/storage/yc2553/yc2553/projects/TRE_directionality/PROcap/TrimmedData/FastQC_reports/CTCF_U1_2_fastqc.zip;/fs/cbsuhy02/storage/yc2553/yc2553/projects/TRE_directionality/PROcap/TrimmedData/FastQC_reports/CTCF_U1_2_fastqc.html')\n",
      "Cannot overwrite files: /fs/cbsuhy02/storage/yc2553/yc2553/projects/TRE_directionality/PROcap/TrimmedData/FastQC_reports/CTCF_U1_1_fastqc.zip;/fs/cbsuhy02/storage/yc2553/yc2553/projects/TRE_directionality/PROcap/TrimmedData/FastQC_reports/CTCF_U1_1_fastqc.html;/fs/cbsuhy02/storage/yc2553/yc2553/projects/TRE_directionality/PROcap/TrimmedData/FastQC_reports/CTCF_U1_2_fastqc.zip;/fs/cbsuhy02/storage/yc2553/yc2553/projects/TRE_directionality/PROcap/TrimmedData/FastQC_reports/CTCF_U1_2_fastqc.html\n",
      "WARNING! An unruntask cannot be started with exceptions! pid: b91ddbe749564abf925763bb41b28493\n",
      "Exception('Cannot overwrite files: /fs/cbsuhy02/storage/yc2553/yc2553/projects/TRE_directionality/PROcap/RawAlignments/CTCF_U1_Aligned.sortedByCoord.out.bam;/fs/cbsuhy02/storage/yc2553/yc2553/projects/TRE_directionality/PROcap/RawAlignments/CTCF_U1_Log.final.out;/fs/cbsuhy02/storage/yc2553/yc2553/projects/TRE_directionality/PROcap/RawAlignments/CTCF_U1_Log.out;/fs/cbsuhy02/storage/yc2553/yc2553/projects/TRE_directionality/PROcap/RawAlignments/CTCF_U1_Log.progress.out;/fs/cbsuhy02/storage/yc2553/yc2553/projects/TRE_directionality/PROcap/RawAlignments/CTCF_U1_ReadsPerGene.out.tab;/fs/cbsuhy02/storage/yc2553/yc2553/projects/TRE_directionality/PROcap/RawAlignments/CTCF_U1_SJ.out.tab')\n",
      "Cannot overwrite files: /fs/cbsuhy02/storage/yc2553/yc2553/projects/TRE_directionality/PROcap/RawAlignments/CTCF_U1_Aligned.sortedByCoord.out.bam;/fs/cbsuhy02/storage/yc2553/yc2553/projects/TRE_directionality/PROcap/RawAlignments/CTCF_U1_Log.final.out;/fs/cbsuhy02/storage/yc2553/yc2553/projects/TRE_directionality/PROcap/RawAlignments/CTCF_U1_Log.out;/fs/cbsuhy02/storage/yc2553/yc2553/projects/TRE_directionality/PROcap/RawAlignments/CTCF_U1_Log.progress.out;/fs/cbsuhy02/storage/yc2553/yc2553/projects/TRE_directionality/PROcap/RawAlignments/CTCF_U1_ReadsPerGene.out.tab;/fs/cbsuhy02/storage/yc2553/yc2553/projects/TRE_directionality/PROcap/RawAlignments/CTCF_U1_SJ.out.tab\n",
      "Remaining pending tasks: 0\n",
      "Checking tasks to skip...\n",
      "Checking pending tasks to submit...\n",
      "Total pending pids available to submit: 0 / 0\n"
     ]
    }
   ],
   "source": [
    "DBPATH = \"/fs/cbsuhy02/storage/yc2553/yc2553/projects/TRE_directionality/test_DB/\"\n",
    "DBNAME = \"test.db\"\n",
    "DBRESDIR = \"RMSResources/\"\n",
    "import sys\n",
    "import logging\n",
    "logger = logging.getLogger(\"rmspool\")\n",
    "logger.setLevel(\"INFO\")\n",
    "logger.addHandler(logging.StreamHandler(sys.stdout))\n",
    "from rmsp import rmscore\n",
    "rms = rmscore.ResourceManagementSystem(f\"{DBPATH}{DBNAME}\", f\"{DBPATH}{DBRESDIR}\")\n",
    "from rmsp import rmsbuilder\n",
    "rmspool = rmsbuilder.RMSProcessWrapPool(rms, 8)\n",
    "rmsb = rmsbuilder.RMSUnrunTasksBuilder(rmspool)\n",
    "from rmsp import rmsutils\n",
    "rms.set_scriptID(\"93b9b3d5f2934e639886ea387b0c4f50\")"
   ]
  },
  {
   "cell_type": "code",
   "execution_count": 22,
   "id": "62bf4008-e491-4175-bea0-526346e3cb6d",
   "metadata": {
    "execution": {
     "iopub.execute_input": "2024-10-23T18:48:18.817818Z",
     "iopub.status.busy": "2024-10-23T18:48:18.817474Z",
     "iopub.status.idle": "2024-10-23T18:48:18.820807Z",
     "shell.execute_reply": "2024-10-23T18:48:18.820346Z",
     "shell.execute_reply.started": "2024-10-23T18:48:18.817792Z"
    }
   },
   "outputs": [],
   "source": [
    "from commonhelper import load_func\n",
    "from commonhelper import convert_to_bool as ctb\n",
    "import pandas as pd\n",
    "from mphelper import ProcessWrapPool\n",
    "import subprocess\n",
    "import tempfile\n",
    "import os"
   ]
  },
  {
   "cell_type": "code",
   "execution_count": 24,
   "id": "559d64a5-6663-4135-8b9c-c07151a0fc9a",
   "metadata": {
    "execution": {
     "iopub.execute_input": "2024-10-23T18:50:36.735892Z",
     "iopub.status.busy": "2024-10-23T18:50:36.735548Z",
     "iopub.status.idle": "2024-10-23T18:51:00.674272Z",
     "shell.execute_reply": "2024-10-23T18:51:00.673737Z",
     "shell.execute_reply.started": "2024-10-23T18:50:36.735869Z"
    },
    "tags": []
   },
   "outputs": [],
   "source": [
    "conda_env = \"DI_test\"\n",
    "pipeline = \"./procapanalysis.py\"\n",
    "RMSTemplate_preprocessing_with_UMI_20240501 = load_func(pipeline, \"RMSTemplate_preprocessing_with_UMI_20240501\")\n",
    "RMSTemplate_merge_reseqs_20240501 = load_func(pipeline, \"RMSTemplate_merge_reseqs_20240501\")\n",
    "RMSTemplate_merge_replicates_20240501 = load_func(pipeline, \"RMSTemplate_merge_replicates_20240501\")\n",
    "RMSTemplate_peak_calling_pints_20240501 = load_func(pipeline, \"RMSTemplate_peak_calling_pints_20240501\")\n",
    "RMSTemplate_generate_PROcap_gbratio_20240501 = load_func(pipeline, \"RMSTemplate_generate_PROcap_gbratio_20240501\")\n",
    "RMSTemplate_generate_replicates_correlation_20240501 = load_func(pipeline, \"RMSTemplate_generate_replicates_correlation_20240501\")\n",
    "RMSTemplate_generate_PROcap_RNA_length_20240501 = load_func(pipeline, \"RMSTemplate_generate_PROcap_RNA_length_20240501\")"
   ]
  },
  {
   "cell_type": "code",
   "execution_count": 2,
   "id": "67b76797-2b70-465d-bfed-aabc1620f0ca",
   "metadata": {
    "execution": {
     "iopub.execute_input": "2024-10-23T18:35:08.589836Z",
     "iopub.status.busy": "2024-10-23T18:35:08.589504Z",
     "iopub.status.idle": "2024-10-23T18:35:08.592581Z",
     "shell.execute_reply": "2024-10-23T18:35:08.592118Z",
     "shell.execute_reply.started": "2024-10-23T18:35:08.589813Z"
    }
   },
   "outputs": [],
   "source": [
    "PROJECT_DIR_d = \"/fs/cbsuhy02/storage/yc2553/yc2553/projects/TRE_directionality/PROcap/\"\n",
    "PROJECT_DIR_r = \"/fs/cbsuhy02/storage/yc2553/yc2553/projects/TRE_directionality/resources/\"\n",
    "PROJECT_DIR_o = \"/fs/cbsuhy02/storage/yc2553/yc2553/projects/TRE_directionality/output/\""
   ]
  },
  {
   "cell_type": "markdown",
   "id": "d5e1a0d8-a502-41b8-9b1b-13c19f43befc",
   "metadata": {},
   "source": [
    "# PRO-cap preprocessing"
   ]
  },
  {
   "cell_type": "code",
   "execution_count": 5,
   "id": "2dbca0f3-ab56-44a0-b584-04f97159e8ad",
   "metadata": {
    "execution": {
     "iopub.execute_input": "2024-10-13T16:41:47.526388Z",
     "iopub.status.busy": "2024-10-13T16:41:47.526170Z",
     "iopub.status.idle": "2024-10-13T16:41:49.163835Z",
     "shell.execute_reply": "2024-10-13T16:41:49.163340Z",
     "shell.execute_reply.started": "2024-10-13T16:41:47.526371Z"
    },
    "tags": []
   },
   "outputs": [],
   "source": [
    "gencode_annotations = {\"Human\":f\"{PROJECT_DIR_r}genomes/human/gencode.v37.annotation.gff3.gz\"}\n",
    "chrom_size_files = {\"Human\":f\"{PROJECT_DIR_r}genomes/human/hg38.chrom.sizes.filtered\"}\n",
    "star_nospikein_ref_dirs = {\"Human\":f\"{PROJECT_DIR_r}STAR_genome_index/hg38_rDNA\"}\n",
    "star_spikein_ref_dirs = {\"Human\":f\"{PROJECT_DIR_r}STAR_genome_index/hg38_rDNA_dm6\"}"
   ]
  },
  {
   "cell_type": "code",
   "execution_count": 6,
   "id": "64a117b8-5306-4d64-b62e-dabe38b8d050",
   "metadata": {
    "execution": {
     "iopub.execute_input": "2024-10-13T16:41:49.164670Z",
     "iopub.status.busy": "2024-10-13T16:41:49.164426Z",
     "iopub.status.idle": "2024-10-13T16:42:00.199235Z",
     "shell.execute_reply": "2024-10-13T16:42:00.198705Z",
     "shell.execute_reply.started": "2024-10-13T16:41:49.164652Z"
    },
    "tags": []
   },
   "outputs": [],
   "source": [
    "procap_info = pd.read_excel(f\"{PROJECT_DIR_o}supp_tables/suppTable1.xlsx\")\n",
    "lib_names = list(procap_info[\"Library Name\"])"
   ]
  },
  {
   "cell_type": "markdown",
   "id": "e4881961-3ce2-42b6-8378-c8785f32d19d",
   "metadata": {},
   "source": [
    "## Preprocessing"
   ]
  },
  {
   "cell_type": "code",
   "execution_count": 7,
   "id": "a2cc0d79-07bc-4bb6-8483-487cde230654",
   "metadata": {
    "execution": {
     "iopub.execute_input": "2024-10-13T16:42:00.200232Z",
     "iopub.status.busy": "2024-10-13T16:42:00.199884Z",
     "iopub.status.idle": "2024-10-13T16:42:01.317276Z",
     "shell.execute_reply": "2024-10-13T16:42:01.316448Z",
     "shell.execute_reply.started": "2024-10-13T16:42:00.200210Z"
    },
    "scrolled": true,
    "tags": []
   },
   "outputs": [],
   "source": [
    "# Get raw data: /fs/cbsuhyfs1/storage/kl945/PROcap/RawData/\n",
    "# temp files: /home/yc2553/tmp/\n",
    "\n",
    "files = []\n",
    "for _, r in procap_info.iterrows():\n",
    "\trna_strand = \"reverse\"\n",
    "\tlib_name = r[\"Library Name\"]\n",
    "\tr1_name = r[\"Sequencing Read 1\"]\n",
    "\tr2_name = r[\"Sequencing Read 2\"]\n",
    "\t\n",
    "\tif r[\"3' adapter\"] == \"VRA3 + 6N\" and r[\"5' adapter\"] == \"VRA5 + 6N\":\n",
    "\t\tadapter_seq1 = \"TGGAATTCTCGGGTGCCAAGG\"\n",
    "\t\tadapter_seq2 = \"GATCGTCGGACTGTAGAACTCTGAAC\"\n",
    "\t\tumi_loc = 'per_read'\n",
    "\t\tumi_len = 6\n",
    "\telif r[\"3' adapter\"] == \"VRA3 + 6N\" and r[\"5' adapter\"] == \"VRA5\":\n",
    "\t\tadapter_seq1 = \"TGGAATTCTCGGGTGCCAAGG\"\n",
    "\t\tadapter_seq2 = \"GATCGTCGGACTGTAGAACTCTGAAC\"\n",
    "\t\tumi_loc = 'read1'\n",
    "\t\tumi_len = 6\n",
    "\telse:\n",
    "\t\tprint(\"ERROR:\", r[\"3' adapter\"], r[\"5' adapter\"], lib_name)\n",
    "\t\tcontinue\n",
    "\ttry:\n",
    "\t\tif ctb(r[\"S2 spike-in\"].strip()):\n",
    "\t\t\tstar_genome_dir = star_spikein_ref_dirs[r[\"Species\"]]\n",
    "\t\telse:\n",
    "\t\t\tstar_genome_dir = star_nospikein_ref_dirs[r[\"Species\"]]\n",
    "\texcept:\n",
    "\t\tprint(\"ERROR:\", r[\"S2 spike-in\"], lib_name)\n",
    "\t\tcontinue\n",
    "\ttry:\n",
    "\t\trms.file_from_path(f\"{PROJECT_DIR_d}RawData/{r1_name}\")\n",
    "\t\trms.file_from_path(f\"{PROJECT_DIR_d}RawData/{r2_name}\")\n",
    "\texcept:\n",
    "\t\tprint(\"ERROR:\", \"Missing files\", lib_name)\n",
    "\t\tcontinue\n",
    "\tRMSTemplate_preprocessing_with_UMI_20240501(\n",
    "\t\trmsb,\n",
    "\t\t**{\"conda_env\": conda_env,\n",
    "\t\t\t\"project_dir\": f\"{PROJECT_DIR_d}\",\n",
    "\t\t\t\"prefix\": f\"{lib_name}\",\n",
    "\t\t\t\"genome_dir\": star_genome_dir,\n",
    "\t\t\t\"chrom_size_file\": chrom_size_files[\"Human\"],\n",
    "\t\t\t\"r1\": f\"{PROJECT_DIR_d}RawData/{r1_name}\",\n",
    "\t\t\t\"r2\": f\"{PROJECT_DIR_d}RawData/{r2_name}\",\n",
    "\t\t\t\"rna_strand\": rna_strand,\n",
    "\t\t\t\"umi_len\": umi_len,\n",
    "\t\t\t\"umi_loc\": umi_loc,\n",
    "\t\t\t\"adapter_seq_r1\": adapter_seq1,\n",
    "\t\t\t\"adapter_seq_r2\": adapter_seq2,\n",
    "\t\t\t\"thread\": 32,\n",
    "\t\t    \"remove_spliced_reads\":True\n",
    "\t\t  }\n",
    "\t)"
   ]
  },
  {
   "cell_type": "code",
   "execution_count": 8,
   "id": "0e870b84-c758-4909-affd-2b2d359e7cdc",
   "metadata": {
    "execution": {
     "iopub.execute_input": "2024-10-13T16:42:01.318543Z",
     "iopub.status.busy": "2024-10-13T16:42:01.318249Z",
     "iopub.status.idle": "2024-10-13T16:42:02.563484Z",
     "shell.execute_reply": "2024-10-13T16:42:02.562875Z",
     "shell.execute_reply.started": "2024-10-13T16:42:01.318523Z"
    },
    "tags": []
   },
   "outputs": [],
   "source": [
    "sample_to_replicates = {\n",
    "\t\"C1\": [\"C1a\", \"C1b\"],\n",
    "\t\"CTCF_U\": [\"CTCF_U1\", \"CTCF_U2\"],\n",
    "\t\"CTCF_T\": [\"CTCF_T1\", \"CTCF_T2\"]\n",
    "}"
   ]
  },
  {
   "cell_type": "code",
   "execution_count": 9,
   "id": "c3c0f3c1-341f-4dd0-8704-f4674592d065",
   "metadata": {
    "execution": {
     "iopub.execute_input": "2024-10-13T16:42:02.564452Z",
     "iopub.status.busy": "2024-10-13T16:42:02.564191Z",
     "iopub.status.idle": "2024-10-13T16:42:04.173082Z",
     "shell.execute_reply": "2024-10-13T16:42:04.172516Z",
     "shell.execute_reply.started": "2024-10-13T16:42:02.564434Z"
    },
    "tags": []
   },
   "outputs": [],
   "source": [
    "for sample, namedreplicates in sample_to_replicates.items():\n",
    "\tRMSTemplate_merge_replicates_20240501(\n",
    "\t\trmsb,\n",
    "\t\t**{\"conda_env\": conda_env,\n",
    "\t\t\t\"project_dir\": f\"{PROJECT_DIR_d}\",\n",
    "\t\t\t\"prefixes\": namedreplicates,\n",
    "\t\t\t\"chrom_size_file\": chrom_size_files[\"Human\"]\n",
    "\t\t  }\n",
    "\t)"
   ]
  },
  {
   "cell_type": "code",
   "execution_count": 10,
   "id": "4ac23359-a140-46ea-9d85-7010e3fe10a4",
   "metadata": {
    "execution": {
     "iopub.execute_input": "2024-10-13T16:42:04.174026Z",
     "iopub.status.busy": "2024-10-13T16:42:04.173768Z",
     "iopub.status.idle": "2024-10-13T16:42:05.402023Z",
     "shell.execute_reply": "2024-10-13T16:42:05.401474Z",
     "shell.execute_reply.started": "2024-10-13T16:42:04.174007Z"
    },
    "tags": []
   },
   "outputs": [],
   "source": [
    "sample_to_namedsample = {\n",
    "\t\"C1\": \"brm_C1a_and_C1b_erm\",\n",
    "\t\"CTCF_U\": \"brm_CTCF_U1_and_CTCF_U2_erm\",\n",
    "\t\"CTCF_T\": \"brm_CTCF_T1_and_CTCF_T2_erm\"\n",
    "}"
   ]
  },
  {
   "cell_type": "code",
   "execution_count": 11,
   "id": "5798bdae-97f1-4c95-a956-26e02930fd6f",
   "metadata": {
    "execution": {
     "iopub.execute_input": "2024-10-13T16:42:05.402940Z",
     "iopub.status.busy": "2024-10-13T16:42:05.402697Z",
     "iopub.status.idle": "2024-10-13T16:42:18.032896Z",
     "shell.execute_reply": "2024-10-13T16:42:18.032295Z",
     "shell.execute_reply.started": "2024-10-13T16:42:05.402922Z"
    },
    "tags": []
   },
   "outputs": [],
   "source": [
    "for sample, namedsample in sample_to_namedsample.items():\n",
    "\tRMSTemplate_peak_calling_pints_20240501(\n",
    "\t\trmsb,\n",
    "\t\t**{\"conda_env\": conda_env,\n",
    "\t\t\t\"project_dir\": f\"{PROJECT_DIR_d}\",\n",
    "\t\t\t\"prefix\": namedsample,\n",
    "\t\t\t\"exp_type\":\"PROcap\", \n",
    "\t\t\t\"thread\": 32\n",
    "\t\t  }\n",
    "\t)"
   ]
  },
  {
   "cell_type": "markdown",
   "id": "284bb735-3271-4625-bf3c-da65987d7dd1",
   "metadata": {},
   "source": [
    "## QC"
   ]
  },
  {
   "cell_type": "markdown",
   "id": "fbee2964-0a99-4ab5-87fd-4e739b6a3144",
   "metadata": {},
   "source": [
    "### Gene body ratio"
   ]
  },
  {
   "cell_type": "code",
   "execution_count": 12,
   "id": "d79c3a3c-bd0b-4c12-abe3-17e747b68959",
   "metadata": {
    "execution": {
     "iopub.execute_input": "2024-10-13T16:42:18.035383Z",
     "iopub.status.busy": "2024-10-13T16:42:18.035172Z",
     "iopub.status.idle": "2024-10-13T16:42:31.729230Z",
     "shell.execute_reply": "2024-10-13T16:42:31.728637Z",
     "shell.execute_reply.started": "2024-10-13T16:42:18.035366Z"
    },
    "tags": []
   },
   "outputs": [],
   "source": [
    "for lib_name in lib_names:\n",
    "\tRMSTemplate_generate_PROcap_gbratio_20240501(\n",
    "\t\trmsb,\n",
    "\t\t**{\n",
    "\t\t\t\"conda_env\": conda_env,\n",
    "\t\t\t\"project_dir\": f\"{PROJECT_DIR_d}\",\n",
    "\t\t\t\"gbratio_annotation_file\": f\"{PROJECT_DIR_d}QC/Annotations/gencode.v37.annotation_proteincoding_nonoverlapping_long_transcripts.gtf.gz\",\n",
    "\t\t\t\"prefix\": lib_name\n",
    "\t\t  }\n",
    "\t)"
   ]
  },
  {
   "cell_type": "markdown",
   "id": "8dec4455-c278-4f9e-9a61-e28b92229e1a",
   "metadata": {},
   "source": [
    "### Median RNA length"
   ]
  },
  {
   "cell_type": "code",
   "execution_count": 13,
   "id": "efbed46a-a25d-4427-925c-64b5ebee1ccb",
   "metadata": {
    "execution": {
     "iopub.execute_input": "2024-10-13T16:42:31.730217Z",
     "iopub.status.busy": "2024-10-13T16:42:31.729942Z",
     "iopub.status.idle": "2024-10-13T16:42:32.805206Z",
     "shell.execute_reply": "2024-10-13T16:42:32.804658Z",
     "shell.execute_reply.started": "2024-10-13T16:42:31.730198Z"
    },
    "tags": []
   },
   "outputs": [],
   "source": [
    "for lib_name in lib_names:\n",
    "\tRMSTemplate_generate_PROcap_RNA_length_20240501(\n",
    "\t\trmsb,\n",
    "\t\tconda_env = conda_env,\n",
    "\t\tproject_dir = f\"{PROJECT_DIR_d}\",\n",
    "\t\tprefix = lib_name\n",
    "\t)"
   ]
  },
  {
   "cell_type": "markdown",
   "id": "da67a51b-20cc-49cd-944b-73c1a0eb358e",
   "metadata": {},
   "source": [
    "### Replicates correlation"
   ]
  },
  {
   "cell_type": "code",
   "execution_count": 14,
   "id": "e5409120-f790-4301-b6c2-450bd60a335a",
   "metadata": {
    "execution": {
     "iopub.execute_input": "2024-10-13T16:42:32.806102Z",
     "iopub.status.busy": "2024-10-13T16:42:32.805850Z",
     "iopub.status.idle": "2024-10-13T16:42:34.205853Z",
     "shell.execute_reply": "2024-10-13T16:42:34.205264Z",
     "shell.execute_reply.started": "2024-10-13T16:42:32.806084Z"
    }
   },
   "outputs": [
    {
     "name": "stdout",
     "output_type": "stream",
     "text": [
      "env: MPLBACKEND=\n"
     ]
    }
   ],
   "source": [
    "%env MPLBACKEND="
   ]
  },
  {
   "cell_type": "code",
   "execution_count": 15,
   "id": "12f335df-915d-4215-83a4-a81de0ecff54",
   "metadata": {
    "execution": {
     "iopub.execute_input": "2024-10-13T16:42:34.206772Z",
     "iopub.status.busy": "2024-10-13T16:42:34.206521Z",
     "iopub.status.idle": "2024-10-13T16:42:35.533146Z",
     "shell.execute_reply": "2024-10-13T16:42:35.532555Z",
     "shell.execute_reply.started": "2024-10-13T16:42:34.206754Z"
    },
    "scrolled": true,
    "tags": []
   },
   "outputs": [],
   "source": [
    "for s, replicates in sample_to_replicates.items():\n",
    "\tRMSTemplate_generate_replicates_correlation_20240501(\n",
    "\t\trmsb,\n",
    "\t\t# rms,\n",
    "\t\tconda_env = conda_env,\n",
    "\t\tproject_dir = f\"{PROJECT_DIR_d}\",\n",
    "\t\tprefixes = replicates,\n",
    "\t\tbin_size = 50,\n",
    "\t\tchrom_size_file = f\"{PROJECT_DIR_r}genomes/human/hg38.chrom.sizes.filtered.no.chrY\"\n",
    "\t)"
   ]
  },
  {
   "cell_type": "code",
   "execution_count": 16,
   "id": "5209efda-995b-485a-9b5c-5b0070a87822",
   "metadata": {
    "execution": {
     "iopub.execute_input": "2024-10-13T16:42:35.534074Z",
     "iopub.status.busy": "2024-10-13T16:42:35.533820Z",
     "iopub.status.idle": "2024-10-13T16:42:37.442139Z",
     "shell.execute_reply": "2024-10-13T16:42:37.441542Z",
     "shell.execute_reply.started": "2024-10-13T16:42:35.534057Z"
    },
    "tags": []
   },
   "outputs": [],
   "source": [
    "rmspool.nthread = 16\n",
    "u = rmsb.execute_builder()"
   ]
  },
  {
   "cell_type": "code",
   "execution_count": 17,
   "id": "a5400848-ee7b-42e3-b22c-ff350a026a07",
   "metadata": {
    "execution": {
     "iopub.execute_input": "2024-10-13T16:42:37.444470Z",
     "iopub.status.busy": "2024-10-13T16:42:37.444212Z",
     "iopub.status.idle": "2024-10-13T16:42:38.772163Z",
     "shell.execute_reply": "2024-10-13T16:42:38.771574Z",
     "shell.execute_reply.started": "2024-10-13T16:42:37.444451Z"
    },
    "tags": []
   },
   "outputs": [
    {
     "name": "stdout",
     "output_type": "stream",
     "text": [
      "COMPLETE: 0\n",
      "RUNNING: 0\n",
      "ERROR: 0\n",
      "PENDING_READY: 0\n",
      "PENDING_NOT_READY: 0\n"
     ]
    }
   ],
   "source": [
    "rmspool.print_stat()"
   ]
  },
  {
   "cell_type": "markdown",
   "id": "ca1349b8-b5a7-42e5-80bd-19ea600fd981",
   "metadata": {},
   "source": [
    "# rpm normalization"
   ]
  },
  {
   "cell_type": "code",
   "execution_count": 34,
   "id": "5d013402-048f-45e3-bb28-01ff59ee211c",
   "metadata": {
    "execution": {
     "iopub.execute_input": "2024-10-28T18:01:01.474750Z",
     "iopub.status.busy": "2024-10-28T18:01:01.474454Z",
     "iopub.status.idle": "2024-10-28T18:01:01.478780Z",
     "shell.execute_reply": "2024-10-28T18:01:01.478338Z",
     "shell.execute_reply.started": "2024-10-28T18:01:01.474723Z"
    }
   },
   "outputs": [],
   "source": [
    "# For analysis in Fig.4 and related suppFigures\n",
    "\n",
    "ks = [\"pl\", \"mn\"]\n",
    "bws = {# replicates: browser shots\n",
    "\t   \"CTCF_U1\": [f\"{PROJECT_DIR_d}Alignments/CTCF_U1_5{k}.bw\" for k in ks],\n",
    "\t   \"CTCF_U2\": [f\"{PROJECT_DIR_d}Alignments/CTCF_U2_5{k}.bw\" for k in ks],\n",
    "\t   \"CTCF_T1\": [f\"{PROJECT_DIR_d}Alignments/CTCF_T1_5{k}.bw\" for k in ks],\n",
    "\t   \"CTCF_T2\": [f\"{PROJECT_DIR_d}Alignments/CTCF_T2_5{k}.bw\" for k in ks],\n",
    "\t   # merged: metaplots\n",
    "\t   \"CTCF_U\": [f\"{PROJECT_DIR_d}Alignments/brm_CTCF_U1_and_CTCF_U2_erm_5{k}.bw\" for k in ks],\n",
    "\t   \"CTCF_T\": [f\"{PROJECT_DIR_d}Alignments/brm_CTCF_T1_and_CTCF_T2_erm_5{k}.bw\" for k in ks]\n",
    "\t\t}"
   ]
  },
  {
   "cell_type": "code",
   "execution_count": 4,
   "id": "8a6d1131-dc35-48fd-90e6-1cfa446abcc1",
   "metadata": {
    "execution": {
     "iopub.execute_input": "2024-10-23T18:35:12.987280Z",
     "iopub.status.busy": "2024-10-23T18:35:12.986946Z",
     "iopub.status.idle": "2024-10-23T18:35:13.106393Z",
     "shell.execute_reply": "2024-10-23T18:35:13.105937Z",
     "shell.execute_reply.started": "2024-10-23T18:35:12.987257Z"
    }
   },
   "outputs": [],
   "source": [
    "chroms = [\"chr\" + str(n) for n in range(1,23)] + [\"chrX\", \"chrY\"]"
   ]
  },
  {
   "cell_type": "code",
   "execution_count": 35,
   "id": "eefd62d8-550c-4090-88d9-43c5621b1a58",
   "metadata": {
    "execution": {
     "iopub.execute_input": "2024-10-28T18:01:05.651166Z",
     "iopub.status.busy": "2024-10-28T18:01:05.650851Z",
     "iopub.status.idle": "2024-10-28T18:01:05.655287Z",
     "shell.execute_reply": "2024-10-28T18:01:05.654838Z",
     "shell.execute_reply.started": "2024-10-28T18:01:05.651142Z"
    }
   },
   "outputs": [],
   "source": [
    "def bw_rpm(bw_ins, bw_outs, chroms):\n",
    "\twith tempfile.TemporaryDirectory() as tempdir:\n",
    "\t\tbws_temp = [os.path.join(tempdir, f\"filtered_{i}.bw\") for i in range(len(bw_outs))]\n",
    "\t\t\n",
    "\t\t# Filter BigWig files by chromosomes\n",
    "\t\tfor bw_in, bw_temp in zip(bw_ins, bws_temp):\n",
    "\t\t\tcommands = [\"biodatatools filter_bigwig_by_chroms\",\n",
    "\t\t\t\t\t\t\"-i\", bw_in,\n",
    "\t\t\t\t\t\t\"-o\", bw_temp,\n",
    "\t\t\t\t\t\t\"-chroms\", \" \".join(chroms)\n",
    "\t\t\t\t\t\t]\n",
    "\t\t\tsubprocess.run(\" \".join(commands), shell=True)\n",
    "\t\t\n",
    "\t\t# Normalize BigWig files to RPM\n",
    "\t\tcommands = [\"biodatatools normalize_bigwig\",\n",
    "\t\t\t\t\t\"-ibws\", \" \".join(bws_temp),\n",
    "\t\t\t\t\t\"-obws\", \" \".join(bw_outs),\n",
    "\t\t\t\t\t\"-mode rpm\"\n",
    "\t\t\t\t\t]\n",
    "\t\tsubprocess.run(\" \".join(commands), shell=True)"
   ]
  },
  {
   "cell_type": "code",
   "execution_count": 36,
   "id": "641283a8-32b0-4eb6-8707-e4ec5d0fed7a",
   "metadata": {
    "execution": {
     "iopub.execute_input": "2024-10-28T18:01:50.840050Z",
     "iopub.status.busy": "2024-10-28T18:01:50.839715Z",
     "iopub.status.idle": "2024-10-28T18:01:50.845173Z",
     "shell.execute_reply": "2024-10-28T18:01:50.843968Z",
     "shell.execute_reply.started": "2024-10-28T18:01:50.840027Z"
    },
    "scrolled": true
   },
   "outputs": [],
   "source": [
    "pwpool = ProcessWrapPool(len(bws))\n",
    "\n",
    "for m in bws:\n",
    "\tbw_ins = []\n",
    "\tbw_outs = []\n",
    "\tfor n in range(2):\n",
    "\t\tbw_in = bws[m][n]\n",
    "\t\tbw_ins.append(bw_in)\n",
    "\t\tbw_out = f\"{PROJECT_DIR_d}Alignments/{m}_5{ks[n]}_rpm.bw\"\n",
    "\t\tbw_outs.append(bw_out)\n",
    "\tpwpool.run(bw_rpm, args=[bw_ins, bw_outs, chroms])"
   ]
  },
  {
   "cell_type": "code",
   "execution_count": 38,
   "id": "c8be824a-1c66-4c2b-8ec9-ab10be2bb698",
   "metadata": {
    "execution": {
     "iopub.execute_input": "2024-10-28T18:03:10.286441Z",
     "iopub.status.busy": "2024-10-28T18:03:10.286024Z",
     "iopub.status.idle": "2024-10-28T18:03:10.290395Z",
     "shell.execute_reply": "2024-10-28T18:03:10.289924Z",
     "shell.execute_reply.started": "2024-10-28T18:03:10.286405Z"
    },
    "tags": []
   },
   "outputs": [
    {
     "data": {
      "text/plain": [
       "6"
      ]
     },
     "execution_count": 38,
     "metadata": {},
     "output_type": "execute_result"
    }
   ],
   "source": [
    "len(pwpool.finished_tasks)"
   ]
  },
  {
   "cell_type": "code",
   "execution_count": 39,
   "id": "ae076c42-8959-4bb5-bd7c-8c2c693bdfe4",
   "metadata": {
    "execution": {
     "iopub.execute_input": "2024-10-28T18:03:11.649546Z",
     "iopub.status.busy": "2024-10-28T18:03:11.649254Z",
     "iopub.status.idle": "2024-10-28T18:03:11.652193Z",
     "shell.execute_reply": "2024-10-28T18:03:11.651695Z",
     "shell.execute_reply.started": "2024-10-28T18:03:11.649523Z"
    }
   },
   "outputs": [],
   "source": [
    "pwpool.close()"
   ]
  },
  {
   "cell_type": "code",
   "execution_count": null,
   "id": "e7ceb0f5-b2af-4bc5-9597-ece3f2df9a6e",
   "metadata": {},
   "outputs": [],
   "source": []
  }
 ],
 "metadata": {
  "kernelspec": {
   "display_name": "Python 3 (ipykernel)",
   "language": "python",
   "name": "python3"
  },
  "language_info": {
   "codemirror_mode": {
    "name": "ipython",
    "version": 3
   },
   "file_extension": ".py",
   "mimetype": "text/x-python",
   "name": "python",
   "nbconvert_exporter": "python",
   "pygments_lexer": "ipython3",
   "version": "3.9.16"
  }
 },
 "nbformat": 4,
 "nbformat_minor": 5
}

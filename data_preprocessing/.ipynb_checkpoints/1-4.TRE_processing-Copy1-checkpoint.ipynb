{
 "cells": [
  {
   "cell_type": "code",
   "execution_count": 1,
   "id": "3bad7d94-a605-4bb8-b682-faf14e64df76",
   "metadata": {
    "execution": {
     "iopub.execute_input": "2024-10-16T21:07:57.196589Z",
     "iopub.status.busy": "2024-10-16T21:07:57.196266Z",
     "iopub.status.idle": "2024-10-16T21:09:03.154651Z",
     "shell.execute_reply": "2024-10-16T21:09:03.153757Z",
     "shell.execute_reply.started": "2024-10-16T21:07:57.196567Z"
    }
   },
   "outputs": [],
   "source": [
    "import itertools\n",
    "from commandtemplate.conda import run_template_bash\n",
    "from biodata.bed import BEDXReader\n",
    "from biodata.bigwig import BigWigIReader\n",
    "from biodata.delimited import DelimitedWriter\n",
    "import pandas as pd\n",
    "from collections import defaultdict \n",
    "from biodata.bed import BEDXReader, BED3Reader, ENCODENarrowPeakReader\n",
    "from biodata.delimited import DelimitedReader, DelimitedWriter\n",
    "from genomictools import GenomicCollection, GenomicPos"
   ]
  },
  {
   "cell_type": "code",
   "execution_count": 2,
   "id": "8b7f5274-04be-4918-9f76-34b3b9c89dbd",
   "metadata": {
    "execution": {
     "iopub.execute_input": "2024-10-16T21:09:03.156254Z",
     "iopub.status.busy": "2024-10-16T21:09:03.155829Z",
     "iopub.status.idle": "2024-10-16T21:09:03.159216Z",
     "shell.execute_reply": "2024-10-16T21:09:03.158739Z",
     "shell.execute_reply.started": "2024-10-16T21:09:03.156231Z"
    },
    "tags": []
   },
   "outputs": [],
   "source": [
    "PROJECT_DIR_d = \"/fs/cbsuhy02/storage/yc2553/yc2553/projects/TRE_directionality/PROcap/\"\n",
    "PROJECT_DIR_r = \"/fs/cbsuhy02/storage/yc2553/yc2553/projects/TRE_directionality/resources/\"\n",
    "PROJECT_DIR_o = \"/fs/cbsuhy02/storage/yc2553/yc2553/projects/TRE_directionality/output/\"\n",
    "conda_env = \"DI_test\""
   ]
  },
  {
   "cell_type": "markdown",
   "id": "c03c80a4-cf27-4f8a-8b5e-e95c67200656",
   "metadata": {},
   "source": [
    "# Reformat peak call files\n"
   ]
  },
  {
   "cell_type": "code",
   "execution_count": 3,
   "id": "a0ecd570-03ee-43f8-986f-a3d4793a5805",
   "metadata": {
    "execution": {
     "iopub.execute_input": "2024-10-16T21:09:03.159995Z",
     "iopub.status.busy": "2024-10-16T21:09:03.159770Z",
     "iopub.status.idle": "2024-10-16T21:09:07.157207Z",
     "shell.execute_reply": "2024-10-16T21:09:07.156701Z",
     "shell.execute_reply.started": "2024-10-16T21:09:03.159978Z"
    }
   },
   "outputs": [],
   "source": [
    "def filter_and_reformat_PINTS_divergent_peaks(i, o, bwpl, bwmn, chroms):\n",
    "\twith BigWigIReader(bwpl) as pl, BigWigIReader(bwmn) as mn, BEDXReader(i, [\"conf\", \"fwdTSS\", \"revTSS\"], x=3) as br, DelimitedWriter(o) as dw:\n",
    "\t\tfor bed in br:\n",
    "\t\t\tif bed.chrom not in chroms:\n",
    "\t\t\t\tcontinue\n",
    "\t\t\t# check which strand has more read counts\n",
    "\t\t\tstrand = \"+\" if pl.value(bed, method=\"abssum\") >= mn.value(bed, method=\"abssum\") else \"-\"\n",
    "\t\t\tdw.write([bed.chrom, bed.chromStart, bed.chromEnd, bed.revTSS, bed.fwdTSS, strand])"
   ]
  },
  {
   "cell_type": "code",
   "execution_count": 4,
   "id": "7b513796-7663-4712-96ea-6821ecdb54fe",
   "metadata": {
    "execution": {
     "iopub.execute_input": "2024-10-16T21:09:07.158530Z",
     "iopub.status.busy": "2024-10-16T21:09:07.158276Z",
     "iopub.status.idle": "2024-10-16T21:09:21.005779Z",
     "shell.execute_reply": "2024-10-16T21:09:21.005270Z",
     "shell.execute_reply.started": "2024-10-16T21:09:07.158512Z"
    }
   },
   "outputs": [],
   "source": [
    "def filter_and_reformat_PINTS_unidirectional_peaks(i, o, chroms):\n",
    "\twith BEDXReader(i, [\"name\", \"q\", \"strand\", \"read_count\", \"summit_position\", \"summit_height\"], x=3) as br, DelimitedWriter(o) as dw:\n",
    "\t\tfor bed in br:\n",
    "\t\t\tif bed.chrom not in chroms:\n",
    "\t\t\t\tcontinue\n",
    "\t\t\tdw.write([bed.chrom, bed.chromStart, bed.chromEnd, bed.summit_position, \".\", bed.strand])"
   ]
  },
  {
   "cell_type": "code",
   "execution_count": 5,
   "id": "f7085ac2-d4e1-4af8-b069-6424298e24fb",
   "metadata": {
    "execution": {
     "iopub.execute_input": "2024-10-16T21:09:21.006589Z",
     "iopub.status.busy": "2024-10-16T21:09:21.006353Z",
     "iopub.status.idle": "2024-10-16T21:09:35.896559Z",
     "shell.execute_reply": "2024-10-16T21:09:35.896059Z",
     "shell.execute_reply.started": "2024-10-16T21:09:21.006572Z"
    }
   },
   "outputs": [],
   "source": [
    "samples = [\"C1\", \"HCT116\"]\n",
    "fnames = {\"C1\": \"brm_C1a_and_C1b_erm\", \n",
    "\t\t   \"HCT116\": \"brm_CTCF_U1_and_CTCF_U2_erm\"}\n",
    "incl_chroms = {\n",
    "\t# K562: a female with chronic myelogenous leukemia\n",
    "\t\"C1\":[\"chr\" + str(n) for n in range(1,23)] + [\"chrX\"],\n",
    "\t# HCT116: a male with colorectal carcinoma \n",
    "\t\"HCT116\":[\"chr\" + str(n) for n in range(1,23)] + [\"chrX\", \"chrY\"]\n",
    "}"
   ]
  },
  {
   "cell_type": "code",
   "execution_count": 6,
   "id": "49348db6-0599-4e3e-bfde-c418e97b25ab",
   "metadata": {
    "execution": {
     "iopub.execute_input": "2024-10-16T21:09:35.897396Z",
     "iopub.status.busy": "2024-10-16T21:09:35.897151Z",
     "iopub.status.idle": "2024-10-16T21:09:50.883040Z",
     "shell.execute_reply": "2024-10-16T21:09:50.882096Z",
     "shell.execute_reply.started": "2024-10-16T21:09:35.897378Z"
    },
    "tags": []
   },
   "outputs": [],
   "source": [
    "for sample in samples:\n",
    "\tpeaktype = \"divergent\"\n",
    "\tfilter_and_reformat_PINTS_divergent_peaks(\n",
    "\t\tf\"{PROJECT_DIR_d}Peaks/PINTS/{fnames[sample]}_1_{peaktype}_peaks.bed\",\n",
    "\t\tf\"{PROJECT_DIR_d}peak_reformat/{sample}_{peaktype}.bed\",\n",
    "\t\tf\"{PROJECT_DIR_d}Alignments/{fnames[sample]}_5pl.bw\",\n",
    "\t\tf\"{PROJECT_DIR_d}Alignments/{fnames[sample]}_5mn.bw\",\n",
    "\t\tincl_chroms[sample]\n",
    "\t\t)\n",
    "\tpeaktype = \"unidirectional\"\n",
    "\tfilter_and_reformat_PINTS_unidirectional_peaks(\n",
    "\t\tf\"{PROJECT_DIR_d}Peaks/PINTS/{fnames[sample]}_1_{peaktype}_peaks.bed\",\n",
    "\t\tf\"{PROJECT_DIR_d}peak_reformat/{sample}_{peaktype}.bed\",\n",
    "\t\tincl_chroms[sample]\n",
    "\t)"
   ]
  },
  {
   "cell_type": "markdown",
   "id": "50587da7-63b1-4d1d-a3cf-bf49998b9e2c",
   "metadata": {},
   "source": [
    "# Peak categories"
   ]
  },
  {
   "cell_type": "code",
   "execution_count": 7,
   "id": "10fc1e93-f86c-462a-97ec-a52749d2aa2c",
   "metadata": {
    "execution": {
     "iopub.execute_input": "2024-10-16T21:09:50.884160Z",
     "iopub.status.busy": "2024-10-16T21:09:50.883872Z",
     "iopub.status.idle": "2024-10-16T21:09:50.887271Z",
     "shell.execute_reply": "2024-10-16T21:09:50.886818Z",
     "shell.execute_reply.started": "2024-10-16T21:09:50.884140Z"
    }
   },
   "outputs": [],
   "source": [
    "peaktypes = [\"divergent\", \"unidirectional\"]"
   ]
  },
  {
   "cell_type": "code",
   "execution_count": 8,
   "id": "b44f0111-13ac-489e-ad0c-ba4ff17fa5bd",
   "metadata": {
    "execution": {
     "iopub.execute_input": "2024-10-16T21:09:50.888056Z",
     "iopub.status.busy": "2024-10-16T21:09:50.887815Z",
     "iopub.status.idle": "2024-10-16T21:12:15.305178Z",
     "shell.execute_reply": "2024-10-16T21:12:15.304607Z",
     "shell.execute_reply.started": "2024-10-16T21:09:50.888037Z"
    },
    "scrolled": true,
    "tags": []
   },
   "outputs": [],
   "source": [
    "for sample, peaktype in itertools.product(samples, peaktypes):\n",
    "\t# Proximal\n",
    "\trun_template_bash(\n",
    "\t\t\"biodatatools filter_bed -i {i} -o {o} -bedx {bedx} -overlap_regions {r}\",\n",
    "\t\tconda_env=conda_env,\n",
    "\t\ti=f\"{PROJECT_DIR_d}peak_reformat/{sample}_{peaktype}.bed\",\n",
    "\t\tr=f\"{PROJECT_DIR_r}genomes/human/gencode.v37.annotation.TSS.500.bed.bgz\",\n",
    "\t\to=f\"{PROJECT_DIR_d}bed_pd/{sample}_{peaktype}_proximal.bed\", \n",
    "\t\tbedx=3\n",
    "\t)\n",
    "\t# Distal\n",
    "\trun_template_bash(\n",
    "\t\t\"biodatatools filter_bed -i {i} -o {o} -bedx {bedx} -non_overlap_regions {r}\",\n",
    "\t\tconda_env=conda_env,\n",
    "\t\ti=f\"{PROJECT_DIR_d}peak_reformat/{sample}_{peaktype}.bed\",\n",
    "\t\tr=f\"{PROJECT_DIR_r}genomes/human/gencode.v37.annotation.TSS.500.bed.bgz\",\n",
    "\t\to=f\"{PROJECT_DIR_d}bed_pd/{sample}_{peaktype}_distal.bed\", \n",
    "\t\tbedx=3\n",
    "\t)\n",
    "\t# Distal Intragenic\n",
    "\trun_template_bash(\n",
    "\t\t\"biodatatools filter_bed -i {i} -o {o} -bedx {bedx} -overlap_regions {r}\",\n",
    "\t\tconda_env=conda_env,\n",
    "\t\ti=f\"{PROJECT_DIR_d}bed_pd/{sample}_{peaktype}_distal.bed\", \n",
    "\t\tr=f\"{PROJECT_DIR_r}genomes/human/gencode.v37.annotation.transcripts.union.bed.bgz\",\n",
    "\t\to=f\"{PROJECT_DIR_d}bed_pd/{sample}_{peaktype}_distal_intragenic.bed\",\n",
    "\t\tbedx=3\n",
    "\t)\n",
    "\t# Distal Intergenic\n",
    "\trun_template_bash(\n",
    "\t\t\"biodatatools filter_bed -i {i} -o {o} -bedx {bedx} -non_overlap_regions {r}\",\n",
    "\t\tconda_env=conda_env,\n",
    "\t\ti=f\"{PROJECT_DIR_d}bed_pd/{sample}_{peaktype}_distal.bed\", \n",
    "\t\tr=f\"{PROJECT_DIR_r}genomes/human/gencode.v37.annotation.transcripts.union.bed.bgz\",\n",
    "\t\to=f\"{PROJECT_DIR_d}bed_pd/{sample}_{peaktype}_distal_intergenic.bed\", \n",
    "\t\tbedx=3\n",
    "\t)"
   ]
  },
  {
   "cell_type": "markdown",
   "id": "db31998d-b9d9-464f-8b91-43fa3450f2a8",
   "metadata": {},
   "source": [
    "# Resize and filter peaks"
   ]
  },
  {
   "cell_type": "code",
   "execution_count": 9,
   "id": "6fbd0b7f-3efa-4dbb-b58d-9b481ccd5c29",
   "metadata": {
    "execution": {
     "iopub.execute_input": "2024-10-16T21:12:15.306049Z",
     "iopub.status.busy": "2024-10-16T21:12:15.305794Z",
     "iopub.status.idle": "2024-10-16T21:12:15.308963Z",
     "shell.execute_reply": "2024-10-16T21:12:15.308521Z",
     "shell.execute_reply.started": "2024-10-16T21:12:15.306024Z"
    },
    "tags": []
   },
   "outputs": [],
   "source": [
    "chrom_sizes = f\"{PROJECT_DIR_r}genomes/human/hg38.chrom.sizes.filtered\"\n",
    "blacklist = f\"{PROJECT_DIR_r}genomes/human/hg38-blacklist.v2.bed.gz\"\n",
    "ACC_files = {\"C1\": f\"{PROJECT_DIR_r}ENCODE/ENCFF185XRG.bed.gz\",\n",
    "\t\t\t \"HCT116\": f\"{PROJECT_DIR_r}ENCODE/ENCFF240LRP.bed.gz\",\n",
    "\t\t\t}\n",
    "distypes = [\"distal\", \"proximal\"]"
   ]
  },
  {
   "cell_type": "code",
   "execution_count": 50,
   "id": "ee69d1b6-f9ba-4c8f-bc0e-d6142e1a7151",
   "metadata": {
    "execution": {
     "iopub.execute_input": "2024-10-17T01:35:11.590788Z",
     "iopub.status.busy": "2024-10-17T01:35:11.590477Z",
     "iopub.status.idle": "2024-10-17T01:35:11.602106Z",
     "shell.execute_reply": "2024-10-17T01:35:11.601628Z",
     "shell.execute_reply.started": "2024-10-17T01:35:11.590768Z"
    },
    "tags": []
   },
   "outputs": [],
   "source": [
    "# PINTS: chromStart 0-based, chromEnd 0-based, bed fwdTSS 0-based; bed revTSS 0-based\n",
    "# biodata.bed BED: chromStart 0-based chromEnd 1-based; BED.genomic_pos --> GenomicPos\n",
    "# GenomicPos: start 1-based, stop 1-based; ostart 1-based, ostop 1-based; zstart 0-based, zstop 0-based\n",
    "\n",
    "def resize_and_filter_reformatted_peaks(iuni, idiv, ouni, odiv, ori_uni, ori_bi, acc, g, excluded, extension):\t\n",
    "\tacc_regions = ENCODENarrowPeakReader.read_all(GenomicCollection, acc)\n",
    "\tchrom_size = DelimitedReader.read_all(lambda ds: {d[0]:int(d[1]) for d in ds}, g)\n",
    "\tbi_regions = BED3Reader.read_all(GenomicCollection, ori_bi)\n",
    "\tuni_regions = BED3Reader.read_all(GenomicCollection, ori_uni)\n",
    "\texc_regions = BED3Reader.read_all(GenomicCollection, excluded)\n",
    "\n",
    "\tkept_regions = defaultdict(dict)\n",
    "\tstats = {}\n",
    "\tfor i, k in [[iuni, \"uni\"], [idiv, \"div\"]]:\n",
    "\t\tstats[k] = defaultdict(int)\n",
    "\t\twith BEDXReader(i, [\"revTSS\", \"fwdTSS\", \"strand\"], x=3) as br:\n",
    "\t\t\tfor bed in br:\n",
    "\t\t\t\t# Filter 1: find anchor point for resizing\n",
    "\t\t\t\tstats[k][\"0. Original\"] += 1\n",
    "\t\t\t\t# Unidirectional: anchor on the center of overlapping open chromatin peaks\n",
    "\t\t\t\tif bed.fwdTSS == \".\": \n",
    "\t\t\t\t\thits = list(acc_regions.find_overlaps(bed))\n",
    "\t\t\t\t\t# U1: overlap with DNase peaks\n",
    "\t\t\t\t\tif len(hits) == 0:\n",
    "\t\t\t\t\t\tcontinue\n",
    "\t\t\t\t\tstats[k][\"0.1. Unidirectional - Found ACC Hits\"] += 1\n",
    "\t\t\t\t\t# U2: the center of ACC peak must be appropriately positioned  (on the left of the prominent TSS if the unidirectional element is on the forward strand, or on the right if on the reverse strand)\n",
    "\t\t\t\t\tfiltered_hits = []\n",
    "\t\t\t\t\tfor hit in hits:\n",
    "\t\t\t\t\t\tcenter = (hit.genomic_pos.ostart + hit.genomic_pos.ostop) // 2\n",
    "\t\t\t\t\t\tif not((bed.strand == \"+\" and (center < int(bed.revTSS))) or (bed.strand == \"-\" and (center > int(bed.revTSS)))):\n",
    "\t\t\t\t\t\t\tcontinue\n",
    "\t\t\t\t\t\tfiltered_hits.append(hit)\n",
    "\t\t\t\t\tif len(filtered_hits) == 0:\n",
    "\t\t\t\t\t\tcontinue\n",
    "\t\t\t\t\tstats[k][\"0.2. Unidirectional - Good ACC Hits\"] += 1\n",
    "\t\t\t\t\t# U3: if overlapping with multiple hits, retain the one with the highest signal\n",
    "\t\t\t\t\tif len(filtered_hits) == 1:\n",
    "\t\t\t\t\t\tstats[k][\"0.3. Unidirectional - Single Good ACC Hits\"] += 1\n",
    "\t\t\t\t\thit = max(filtered_hits, key=lambda h: (min(h.genomic_pos.stop, bed.genomic_pos.stop) - max(h.genomic_pos.start, bed.genomic_pos.start) + 1, h.signalValue))\n",
    "\t\t\t\t\tcenter = (hit.genomic_pos.ostart + hit.genomic_pos.ostop) // 2\n",
    "\t\t\t\t# Divergent: anchor on the midpoint between two prominent TSSs\n",
    "\t\t\t\telse:\n",
    "\t\t\t\t\tif int(bed.revTSS) >= int(bed.fwdTSS):\n",
    "\t\t\t\t\t\tcontinue\n",
    "\t\t\t\t\tcenter = (int(bed.fwdTSS)+int(bed.revTSS)) // 2 \n",
    "\t\t\t\tregion = GenomicPos(bed.chrom, center-extension, center+extension)\n",
    "\t\t\t\tstats[k][\"1. Found centers\"] += 1\n",
    "\t\t\t\t\n",
    "\t\t\t\t# Filter 2: elements not extending beyond chromosome ends\n",
    "\t\t\t\tif region.stop > chrom_size[region.name] or region.start < 1:\n",
    "\t\t\t\t\tcontinue\n",
    "\t\t\t\tstats[k][\"2. Not extending beyond chromosome ends\"] += 1\n",
    "\t\t\t\t\n",
    "\t\t\t\t# Filter 3: not overlapping with ENCODE blacklist regions\n",
    "\t\t\t\tif exc_regions.overlaps(region):\n",
    "\t\t\t\t\tcontinue\n",
    "\t\t\t\tstats[k][\"3. Not overlapping with ENCODE blacklist regions\"] += 1\n",
    "\t\t\t\t\n",
    "\t\t\t\t# Filter 4: original peak region fully contained within the resized region\n",
    "\t\t\t\tif not bed.genomic_pos in region:\n",
    "\t\t\t\t\tcontinue\n",
    "\t\t\t\tstats[k][\"4. Original peak region fully contained within the resized region\"] += 1\n",
    "\t\t\t\t\n",
    "\t\t\t\t# Filter 5: not overlapping with any other elements (the original boundary of all divergent and unidirectional peaks called by PINTS)\n",
    "\t\t\t\tif len(list(uni_regions.find_overlaps(region)) + list(bi_regions.find_overlaps(region))) > 1:\n",
    "\t\t\t\t\tcontinue\n",
    "\t\t\t\tstats[k][\"5. Not overlapping with any other elements (original)\"] += 1\n",
    "\n",
    "\t\t\t\tkept_regions[k][region] = bed\n",
    "\n",
    "\t# All resized elements\n",
    "\tall_regions = GenomicCollection([region for k in kept_regions for region in kept_regions[k]])\n",
    "\n",
    "\tfor o, k in [[ouni, \"uni\"], [odiv, \"div\"]]:\n",
    "\t\t# Filter 6: not overlapping wtih any other resized elements\n",
    "\t\tkept = [region for region in kept_regions[k] if len(list(all_regions.find_overlaps(region))) == 1]\n",
    "\t\tstats[k][\"6. Not overlapping with any other elements (resized)\"] = len(kept)\n",
    "\t\t\n",
    "\t\twith DelimitedWriter(o) as dw:\n",
    "\t\t\tfor region, bed in kept_regions[k].items():\n",
    "\t\t\t\tif region in kept:\n",
    "\t\t\t\t\tdw.write([region.name, region.zstart, region.ostop, bed.chromStart, bed.chromEnd, bed.revTSS, bed.fwdTSS, bed.strand])\n",
    "\t\t\n",
    "\t\t# Stats for each filtering step\n",
    "\t\twith DelimitedWriter(o + \".stat.tsv\") as dw:\n",
    "\t\t\tfor i in stats[k].items():\n",
    "\t\t\t\tdw.write(i)"
   ]
  },
  {
   "cell_type": "code",
   "execution_count": 51,
   "id": "c4e1c607-aa8c-44b5-b1b6-29553bbfc9c5",
   "metadata": {
    "execution": {
     "iopub.execute_input": "2024-10-17T01:35:12.428101Z",
     "iopub.status.busy": "2024-10-17T01:35:12.427807Z",
     "iopub.status.idle": "2024-10-17T01:35:26.265650Z",
     "shell.execute_reply": "2024-10-17T01:35:26.265117Z",
     "shell.execute_reply.started": "2024-10-17T01:35:12.428083Z"
    },
    "scrolled": true,
    "tags": []
   },
   "outputs": [],
   "source": [
    "for sample, distype in itertools.product(samples, distypes):\n",
    "\tresize_and_filter_reformatted_peaks(\n",
    "\t\tf\"{PROJECT_DIR_d}bed_pd/{sample}_unidirectional_{distype}.bed\", \n",
    "\t\tf\"{PROJECT_DIR_d}bed_pd/{sample}_divergent_{distype}.bed\", \n",
    "\t\tf\"{PROJECT_DIR_d}bed_plot/{sample}_unidirectional_{distype}.bed\", \n",
    "\t\tf\"{PROJECT_DIR_d}bed_plot/{sample}_divergent_{distype}.bed\", \n",
    "\t\tf\"{PROJECT_DIR_d}Peaks/PINTS/{fnames[sample]}_1_unidirectional_peaks.bed\",\n",
    "\t\tf\"{PROJECT_DIR_d}Peaks/PINTS/{fnames[sample]}_1_divergent_peaks.bed\",\n",
    "\t\tACC_files[sample],\n",
    "\t\tchrom_sizes,\n",
    "\t\tblacklist,\n",
    "\t\t250\n",
    "\t)"
   ]
  },
  {
   "cell_type": "code",
   "execution_count": 52,
   "id": "a7a94fa3-000c-4d98-bdc5-f432eac8244a",
   "metadata": {
    "execution": {
     "iopub.execute_input": "2024-10-17T01:35:26.266791Z",
     "iopub.status.busy": "2024-10-17T01:35:26.266539Z",
     "iopub.status.idle": "2024-10-17T01:35:26.276145Z",
     "shell.execute_reply": "2024-10-17T01:35:26.275713Z",
     "shell.execute_reply.started": "2024-10-17T01:35:26.266773Z"
    },
    "tags": []
   },
   "outputs": [],
   "source": [
    "dfs = defaultdict(dict)\n",
    "for sample, peaktype, distype in itertools.product(samples, peaktypes, distypes):\n",
    "\tdfs[sample][f\"{peaktype}_{distype}\"] = pd.read_csv(f\"{PROJECT_DIR_d}bed_plot/{sample}_{peaktype}_{distype}.bed.stat.tsv\", sep=\"\\t\", index_col=0, header=None, names=[f\"{peaktype}_{distype}\"])"
   ]
  },
  {
   "cell_type": "code",
   "execution_count": 53,
   "id": "378c6386-0035-413c-859b-4c1913e5b6d7",
   "metadata": {
    "execution": {
     "iopub.execute_input": "2024-10-17T01:35:26.276855Z",
     "iopub.status.busy": "2024-10-17T01:35:26.276644Z",
     "iopub.status.idle": "2024-10-17T01:35:27.984711Z",
     "shell.execute_reply": "2024-10-17T01:35:27.984239Z",
     "shell.execute_reply.started": "2024-10-17T01:35:26.276839Z"
    },
    "tags": []
   },
   "outputs": [
    {
     "data": {
      "text/html": [
       "<div>\n",
       "<style scoped>\n",
       "    .dataframe tbody tr th:only-of-type {\n",
       "        vertical-align: middle;\n",
       "    }\n",
       "\n",
       "    .dataframe tbody tr th {\n",
       "        vertical-align: top;\n",
       "    }\n",
       "\n",
       "    .dataframe thead th {\n",
       "        text-align: right;\n",
       "    }\n",
       "</style>\n",
       "<table border=\"1\" class=\"dataframe\">\n",
       "  <thead>\n",
       "    <tr style=\"text-align: right;\">\n",
       "      <th></th>\n",
       "      <th>divergent_distal</th>\n",
       "      <th>divergent_proximal</th>\n",
       "      <th>unidirectional_distal</th>\n",
       "      <th>unidirectional_proximal</th>\n",
       "    </tr>\n",
       "  </thead>\n",
       "  <tbody>\n",
       "    <tr>\n",
       "      <th>0. Original</th>\n",
       "      <td>11966</td>\n",
       "      <td>22065</td>\n",
       "      <td>12946</td>\n",
       "      <td>6400</td>\n",
       "    </tr>\n",
       "    <tr>\n",
       "      <th>0.1. Unidirectional - Found ACC Hits</th>\n",
       "      <td>0</td>\n",
       "      <td>0</td>\n",
       "      <td>6606</td>\n",
       "      <td>3298</td>\n",
       "    </tr>\n",
       "    <tr>\n",
       "      <th>0.2. Unidirectional - Good ACC Hits</th>\n",
       "      <td>0</td>\n",
       "      <td>0</td>\n",
       "      <td>4750</td>\n",
       "      <td>2279</td>\n",
       "    </tr>\n",
       "    <tr>\n",
       "      <th>0.3. Unidirectional - Single Good ACC Hits</th>\n",
       "      <td>0</td>\n",
       "      <td>0</td>\n",
       "      <td>4736</td>\n",
       "      <td>2271</td>\n",
       "    </tr>\n",
       "    <tr>\n",
       "      <th>1. Found centers</th>\n",
       "      <td>11934</td>\n",
       "      <td>21916</td>\n",
       "      <td>4750</td>\n",
       "      <td>2279</td>\n",
       "    </tr>\n",
       "    <tr>\n",
       "      <th>2. Not extending beyond chromosome ends</th>\n",
       "      <td>11934</td>\n",
       "      <td>21916</td>\n",
       "      <td>4750</td>\n",
       "      <td>2279</td>\n",
       "    </tr>\n",
       "    <tr>\n",
       "      <th>3. Not overlapping with ENCODE blacklist regions</th>\n",
       "      <td>11854</td>\n",
       "      <td>21729</td>\n",
       "      <td>4710</td>\n",
       "      <td>2260</td>\n",
       "    </tr>\n",
       "    <tr>\n",
       "      <th>4. Original peak region fully contained within the resized region</th>\n",
       "      <td>11358</td>\n",
       "      <td>17672</td>\n",
       "      <td>4677</td>\n",
       "      <td>2200</td>\n",
       "    </tr>\n",
       "    <tr>\n",
       "      <th>5. Not overlapping with any other elements (original)</th>\n",
       "      <td>8960</td>\n",
       "      <td>10216</td>\n",
       "      <td>3669</td>\n",
       "      <td>1443</td>\n",
       "    </tr>\n",
       "    <tr>\n",
       "      <th>6. Not overlapping with any other elements (resized)</th>\n",
       "      <td>8416</td>\n",
       "      <td>9026</td>\n",
       "      <td>3557</td>\n",
       "      <td>1304</td>\n",
       "    </tr>\n",
       "  </tbody>\n",
       "</table>\n",
       "</div>"
      ],
      "text/plain": [
       "                                                    divergent_distal  \\\n",
       "0. Original                                                    11966   \n",
       "0.1. Unidirectional - Found ACC Hits                               0   \n",
       "0.2. Unidirectional - Good ACC Hits                                0   \n",
       "0.3. Unidirectional - Single Good ACC Hits                         0   \n",
       "1. Found centers                                               11934   \n",
       "2. Not extending beyond chromosome ends                        11934   \n",
       "3. Not overlapping with ENCODE blacklist regions               11854   \n",
       "4. Original peak region fully contained within ...             11358   \n",
       "5. Not overlapping with any other elements (ori...              8960   \n",
       "6. Not overlapping with any other elements (res...              8416   \n",
       "\n",
       "                                                    divergent_proximal  \\\n",
       "0. Original                                                      22065   \n",
       "0.1. Unidirectional - Found ACC Hits                                 0   \n",
       "0.2. Unidirectional - Good ACC Hits                                  0   \n",
       "0.3. Unidirectional - Single Good ACC Hits                           0   \n",
       "1. Found centers                                                 21916   \n",
       "2. Not extending beyond chromosome ends                          21916   \n",
       "3. Not overlapping with ENCODE blacklist regions                 21729   \n",
       "4. Original peak region fully contained within ...               17672   \n",
       "5. Not overlapping with any other elements (ori...               10216   \n",
       "6. Not overlapping with any other elements (res...                9026   \n",
       "\n",
       "                                                    unidirectional_distal  \\\n",
       "0. Original                                                         12946   \n",
       "0.1. Unidirectional - Found ACC Hits                                 6606   \n",
       "0.2. Unidirectional - Good ACC Hits                                  4750   \n",
       "0.3. Unidirectional - Single Good ACC Hits                           4736   \n",
       "1. Found centers                                                     4750   \n",
       "2. Not extending beyond chromosome ends                              4750   \n",
       "3. Not overlapping with ENCODE blacklist regions                     4710   \n",
       "4. Original peak region fully contained within ...                   4677   \n",
       "5. Not overlapping with any other elements (ori...                   3669   \n",
       "6. Not overlapping with any other elements (res...                   3557   \n",
       "\n",
       "                                                    unidirectional_proximal  \n",
       "0. Original                                                            6400  \n",
       "0.1. Unidirectional - Found ACC Hits                                   3298  \n",
       "0.2. Unidirectional - Good ACC Hits                                    2279  \n",
       "0.3. Unidirectional - Single Good ACC Hits                             2271  \n",
       "1. Found centers                                                       2279  \n",
       "2. Not extending beyond chromosome ends                                2279  \n",
       "3. Not overlapping with ENCODE blacklist regions                       2260  \n",
       "4. Original peak region fully contained within ...                     2200  \n",
       "5. Not overlapping with any other elements (ori...                     1443  \n",
       "6. Not overlapping with any other elements (res...                     1304  "
      ]
     },
     "execution_count": 53,
     "metadata": {},
     "output_type": "execute_result"
    }
   ],
   "source": [
    "pd.concat(list(dfs[\"C1\"].values()), axis=1).sort_index().fillna(0).astype(int)"
   ]
  },
  {
   "cell_type": "code",
   "execution_count": 54,
   "id": "13e95adc-f94c-42ba-9d18-fef8e51ed807",
   "metadata": {
    "execution": {
     "iopub.execute_input": "2024-10-17T01:35:27.986050Z",
     "iopub.status.busy": "2024-10-17T01:35:27.985786Z",
     "iopub.status.idle": "2024-10-17T01:35:29.890294Z",
     "shell.execute_reply": "2024-10-17T01:35:29.889814Z",
     "shell.execute_reply.started": "2024-10-17T01:35:27.986026Z"
    },
    "tags": []
   },
   "outputs": [
    {
     "data": {
      "text/html": [
       "<div>\n",
       "<style scoped>\n",
       "    .dataframe tbody tr th:only-of-type {\n",
       "        vertical-align: middle;\n",
       "    }\n",
       "\n",
       "    .dataframe tbody tr th {\n",
       "        vertical-align: top;\n",
       "    }\n",
       "\n",
       "    .dataframe thead th {\n",
       "        text-align: right;\n",
       "    }\n",
       "</style>\n",
       "<table border=\"1\" class=\"dataframe\">\n",
       "  <thead>\n",
       "    <tr style=\"text-align: right;\">\n",
       "      <th></th>\n",
       "      <th>divergent_distal</th>\n",
       "      <th>divergent_proximal</th>\n",
       "      <th>unidirectional_distal</th>\n",
       "      <th>unidirectional_proximal</th>\n",
       "    </tr>\n",
       "  </thead>\n",
       "  <tbody>\n",
       "    <tr>\n",
       "      <th>0. Original</th>\n",
       "      <td>12159</td>\n",
       "      <td>22661</td>\n",
       "      <td>6749</td>\n",
       "      <td>3614</td>\n",
       "    </tr>\n",
       "    <tr>\n",
       "      <th>0.1. Unidirectional - Found ACC Hits</th>\n",
       "      <td>0</td>\n",
       "      <td>0</td>\n",
       "      <td>2261</td>\n",
       "      <td>833</td>\n",
       "    </tr>\n",
       "    <tr>\n",
       "      <th>0.2. Unidirectional - Good ACC Hits</th>\n",
       "      <td>0</td>\n",
       "      <td>0</td>\n",
       "      <td>1835</td>\n",
       "      <td>656</td>\n",
       "    </tr>\n",
       "    <tr>\n",
       "      <th>0.3. Unidirectional - Single Good ACC Hits</th>\n",
       "      <td>0</td>\n",
       "      <td>0</td>\n",
       "      <td>1833</td>\n",
       "      <td>653</td>\n",
       "    </tr>\n",
       "    <tr>\n",
       "      <th>1. Found centers</th>\n",
       "      <td>12109</td>\n",
       "      <td>22344</td>\n",
       "      <td>1835</td>\n",
       "      <td>656</td>\n",
       "    </tr>\n",
       "    <tr>\n",
       "      <th>2. Not extending beyond chromosome ends</th>\n",
       "      <td>12109</td>\n",
       "      <td>22344</td>\n",
       "      <td>1835</td>\n",
       "      <td>656</td>\n",
       "    </tr>\n",
       "    <tr>\n",
       "      <th>3. Not overlapping with ENCODE blacklist regions</th>\n",
       "      <td>12044</td>\n",
       "      <td>22167</td>\n",
       "      <td>1828</td>\n",
       "      <td>651</td>\n",
       "    </tr>\n",
       "    <tr>\n",
       "      <th>4. Original peak region fully contained within the resized region</th>\n",
       "      <td>11304</td>\n",
       "      <td>16321</td>\n",
       "      <td>1812</td>\n",
       "      <td>598</td>\n",
       "    </tr>\n",
       "    <tr>\n",
       "      <th>5. Not overlapping with any other elements (original)</th>\n",
       "      <td>8811</td>\n",
       "      <td>9068</td>\n",
       "      <td>1474</td>\n",
       "      <td>389</td>\n",
       "    </tr>\n",
       "    <tr>\n",
       "      <th>6. Not overlapping with any other elements (resized)</th>\n",
       "      <td>8378</td>\n",
       "      <td>8264</td>\n",
       "      <td>1445</td>\n",
       "      <td>372</td>\n",
       "    </tr>\n",
       "  </tbody>\n",
       "</table>\n",
       "</div>"
      ],
      "text/plain": [
       "                                                    divergent_distal  \\\n",
       "0. Original                                                    12159   \n",
       "0.1. Unidirectional - Found ACC Hits                               0   \n",
       "0.2. Unidirectional - Good ACC Hits                                0   \n",
       "0.3. Unidirectional - Single Good ACC Hits                         0   \n",
       "1. Found centers                                               12109   \n",
       "2. Not extending beyond chromosome ends                        12109   \n",
       "3. Not overlapping with ENCODE blacklist regions               12044   \n",
       "4. Original peak region fully contained within ...             11304   \n",
       "5. Not overlapping with any other elements (ori...              8811   \n",
       "6. Not overlapping with any other elements (res...              8378   \n",
       "\n",
       "                                                    divergent_proximal  \\\n",
       "0. Original                                                      22661   \n",
       "0.1. Unidirectional - Found ACC Hits                                 0   \n",
       "0.2. Unidirectional - Good ACC Hits                                  0   \n",
       "0.3. Unidirectional - Single Good ACC Hits                           0   \n",
       "1. Found centers                                                 22344   \n",
       "2. Not extending beyond chromosome ends                          22344   \n",
       "3. Not overlapping with ENCODE blacklist regions                 22167   \n",
       "4. Original peak region fully contained within ...               16321   \n",
       "5. Not overlapping with any other elements (ori...                9068   \n",
       "6. Not overlapping with any other elements (res...                8264   \n",
       "\n",
       "                                                    unidirectional_distal  \\\n",
       "0. Original                                                          6749   \n",
       "0.1. Unidirectional - Found ACC Hits                                 2261   \n",
       "0.2. Unidirectional - Good ACC Hits                                  1835   \n",
       "0.3. Unidirectional - Single Good ACC Hits                           1833   \n",
       "1. Found centers                                                     1835   \n",
       "2. Not extending beyond chromosome ends                              1835   \n",
       "3. Not overlapping with ENCODE blacklist regions                     1828   \n",
       "4. Original peak region fully contained within ...                   1812   \n",
       "5. Not overlapping with any other elements (ori...                   1474   \n",
       "6. Not overlapping with any other elements (res...                   1445   \n",
       "\n",
       "                                                    unidirectional_proximal  \n",
       "0. Original                                                            3614  \n",
       "0.1. Unidirectional - Found ACC Hits                                    833  \n",
       "0.2. Unidirectional - Good ACC Hits                                     656  \n",
       "0.3. Unidirectional - Single Good ACC Hits                              653  \n",
       "1. Found centers                                                        656  \n",
       "2. Not extending beyond chromosome ends                                 656  \n",
       "3. Not overlapping with ENCODE blacklist regions                        651  \n",
       "4. Original peak region fully contained within ...                      598  \n",
       "5. Not overlapping with any other elements (ori...                      389  \n",
       "6. Not overlapping with any other elements (res...                      372  "
      ]
     },
     "execution_count": 54,
     "metadata": {},
     "output_type": "execute_result"
    }
   ],
   "source": [
    "pd.concat(list(dfs[\"HCT116\"].values()), axis=1).sort_index().fillna(0).astype(int)"
   ]
  },
  {
   "cell_type": "markdown",
   "id": "c94512a5-db44-4a75-ac86-4a674e70bd74",
   "metadata": {
    "execution": {
     "iopub.execute_input": "2024-09-30T16:00:10.301004Z",
     "iopub.status.busy": "2024-09-30T16:00:10.300622Z",
     "iopub.status.idle": "2024-09-30T16:00:10.305022Z",
     "shell.execute_reply": "2024-09-30T16:00:10.304543Z",
     "shell.execute_reply.started": "2024-09-30T16:00:10.300980Z"
    },
    "tags": []
   },
   "source": [
    "# Generate control"
   ]
  },
  {
   "cell_type": "code",
   "execution_count": 56,
   "id": "a46b5d9b-13a4-41cc-b045-f4e0935a80ab",
   "metadata": {
    "execution": {
     "iopub.execute_input": "2024-10-17T01:44:03.778555Z",
     "iopub.status.busy": "2024-10-17T01:44:03.777484Z",
     "iopub.status.idle": "2024-10-17T01:44:19.525465Z",
     "shell.execute_reply": "2024-10-17T01:44:19.523726Z",
     "shell.execute_reply.started": "2024-10-17T01:44:03.778513Z"
    },
    "scrolled": true,
    "tags": []
   },
   "outputs": [],
   "source": [
    "excl_regions = f\"{PROJECT_DIR_r}genomes/human/excluded_regions.bed.gz\"\n",
    "for seed_root, (sample, peaktype, distype) in enumerate(itertools.product(samples, peaktypes, distypes)):\n",
    "\trun_template_bash(\n",
    "\t\t\"cut -f 1-3 {i} | bedtools shuffle -i stdin -g {g} -excl {excl} -seed {seed} -chrom -noOverlapping | bedtools sort -i stdin > {o}\",\n",
    "\t\tconda_env=conda_env,\n",
    "\t\ti=f\"{PROJECT_DIR_d}bed_plot/{sample}_{peaktype}_{distype}.bed\",\n",
    "\t\tg=chrom_sizes,\n",
    "\t\texcl=excl_regions,\n",
    "\t\tseed=seed_root+102390,\n",
    "\t\to=f\"{PROJECT_DIR_d}bed_plot/{sample}_{peaktype}_{distype}_control.bed\",\n",
    "\t)"
   ]
  },
  {
   "cell_type": "code",
   "execution_count": null,
   "id": "77297156-9a86-487a-99d1-4e98d215f63c",
   "metadata": {},
   "outputs": [],
   "source": []
  }
 ],
 "metadata": {
  "kernelspec": {
   "display_name": "Python 3 (ipykernel)",
   "language": "python",
   "name": "python3"
  },
  "language_info": {
   "codemirror_mode": {
    "name": "ipython",
    "version": 3
   },
   "file_extension": ".py",
   "mimetype": "text/x-python",
   "name": "python",
   "nbconvert_exporter": "python",
   "pygments_lexer": "ipython3",
   "version": "3.10.8"
  },
  "toc-autonumbering": true
 },
 "nbformat": 4,
 "nbformat_minor": 5
}

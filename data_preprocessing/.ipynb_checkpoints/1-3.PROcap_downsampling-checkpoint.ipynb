{
 "cells": [
  {
   "cell_type": "code",
   "execution_count": 1,
   "id": "2cccb3a0-21f8-4d9d-83a6-cdd3042f025d",
   "metadata": {
    "execution": {
     "iopub.execute_input": "2024-10-12T21:44:14.631339Z",
     "iopub.status.busy": "2024-10-12T21:44:14.630896Z",
     "iopub.status.idle": "2024-10-12T21:44:36.770284Z",
     "shell.execute_reply": "2024-10-12T21:44:36.769801Z",
     "shell.execute_reply.started": "2024-10-12T21:44:14.631318Z"
    },
    "tags": []
   },
   "outputs": [
    {
     "name": "stdout",
     "output_type": "stream",
     "text": [
      "Checking tasks to skip...\n",
      "Checking pending tasks to submit...\n",
      "Total pending pids available to submit: 0 / 0\n",
      "Checking tasks to skip...\n",
      "Skipped 46 tasks that were done before.\n",
      "Checking tasks to skip...\n",
      "Checking pending tasks to submit...\n",
      "Total pending pids available to submit: 0 / 0\n"
     ]
    }
   ],
   "source": [
    "DBPATH = \"/fs/cbsuhy02/storage/yc2553/yc2553/projects/TRE_directionality/test_DB/\"\n",
    "DBNAME = \"test.db\"\n",
    "DBRESDIR = \"RMSResources/\"\n",
    "import sys\n",
    "import logging\n",
    "logger = logging.getLogger(\"rmspool\")\n",
    "logger.setLevel(\"INFO\")\n",
    "logger.addHandler(logging.StreamHandler(sys.stdout))\n",
    "from rmsp import rmscore\n",
    "rms = rmscore.ResourceManagementSystem(f\"{DBPATH}{DBNAME}\", f\"{DBPATH}{DBRESDIR}\")\n",
    "from rmsp import rmsbuilder\n",
    "rmspool = rmsbuilder.RMSProcessWrapPool(rms, 8)\n",
    "rmsb = rmsbuilder.RMSUnrunTasksBuilder(rmspool)\n",
    "from rmsp import rmsutils\n",
    "rms.set_scriptID(\"503ed0ede5424701a68c6c562eb671f4\")"
   ]
  },
  {
   "cell_type": "code",
   "execution_count": 2,
   "id": "58c49c1b-9e7e-412c-9c80-a2450dbde651",
   "metadata": {
    "execution": {
     "iopub.execute_input": "2024-10-12T21:44:36.772472Z",
     "iopub.status.busy": "2024-10-12T21:44:36.772279Z",
     "iopub.status.idle": "2024-10-12T21:44:36.849463Z",
     "shell.execute_reply": "2024-10-12T21:44:36.849049Z",
     "shell.execute_reply.started": "2024-10-12T21:44:36.772455Z"
    },
    "tags": []
   },
   "outputs": [],
   "source": [
    "exec(rmsutils.convert_import_str('''\n",
    "from commandtemplate.conda import run_template_bash\n",
    "''',\n",
    "rmsvar = \"rmsb\"\n",
    "))\n",
    "conda_env = \"DI_test\""
   ]
  },
  {
   "cell_type": "code",
   "execution_count": 3,
   "id": "fb1d7489-6a2f-473b-b7bb-800c420bc227",
   "metadata": {
    "execution": {
     "iopub.execute_input": "2024-10-12T21:44:36.851369Z",
     "iopub.status.busy": "2024-10-12T21:44:36.851182Z",
     "iopub.status.idle": "2024-10-12T21:44:37.702763Z",
     "shell.execute_reply": "2024-10-12T21:44:37.702336Z",
     "shell.execute_reply.started": "2024-10-12T21:44:36.851353Z"
    }
   },
   "outputs": [],
   "source": [
    "PROJECT_DIR_d = \"/fs/cbsuhy02/storage/yc2553/yc2553/projects/TRE_directionality/PROcap/\"\n",
    "PROJECT_DIR_r = \"/fs/cbsuhy02/storage/yc2553/yc2553/projects/TRE_directionality/resources/\""
   ]
  },
  {
   "cell_type": "markdown",
   "id": "3e1a5dae-3c65-4229-9e42-6e6cdfd5c7be",
   "metadata": {},
   "source": [
    "# Merged data"
   ]
  },
  {
   "cell_type": "markdown",
   "id": "c45063f1-1987-4e8a-8dff-bec09f7a7270",
   "metadata": {},
   "source": [
    "## Merge replicates"
   ]
  },
  {
   "cell_type": "code",
   "execution_count": 4,
   "id": "ac227985-b3ba-426f-9db6-a7f595141b77",
   "metadata": {
    "execution": {
     "iopub.execute_input": "2024-10-12T21:44:39.090488Z",
     "iopub.status.busy": "2024-10-12T21:44:39.090149Z",
     "iopub.status.idle": "2024-10-12T21:44:39.103223Z",
     "shell.execute_reply": "2024-10-12T21:44:39.102824Z",
     "shell.execute_reply.started": "2024-10-12T21:44:39.090471Z"
    },
    "tags": []
   },
   "outputs": [
    {
     "data": {
      "text/plain": [
       "<rmsp.rmscore.VirtualResource at 0x7fe3948f3b80>"
      ]
     },
     "execution_count": 4,
     "metadata": {},
     "output_type": "execute_result"
    }
   ],
   "source": [
    "# Merge C1a and C1b\n",
    "\n",
    "prefixes = [\"C1a\", \"C1b\"]\n",
    "output_prefix = \"C1\"\n",
    "f = lambda **kwargs: [kwargs['o']]\n",
    "output_func = rms.register_pipe(f)\n",
    "run_template_bash(\n",
    "\t\"samtools merge -o {o} \" + \" \".join([f\"<(samtools view -b -h {{i{idx}}} chr1 chr2 chr3 chr4 chr5 chr6 chr7 chr8 chr9 chr10 chr11 chr12 chr13 chr14 chr15 chr16 chr17 chr18 chr19 chr20 chr21 chr22 chrX)\" for idx in range(len(prefixes))]),\n",
    "\tconda_env = conda_env, \n",
    "\toutput_func = output_func,\n",
    "\t**{f\"i{idx}\": rmsb.file_from_path(f\"{PROJECT_DIR_d}RawAlignments/{prefix}_dedup.bam\") for idx, prefix in enumerate(prefixes)},\n",
    "\to = f\"{PROJECT_DIR_d}Analysis/{output_prefix}_dedup_chr1-22-X.bam\"\n",
    ")\n",
    "f = lambda **kwargs: [f\"{kwargs['i']}.bai\"]\n",
    "output_func = rms.register_pipe(f)\n",
    "run_template_bash(\n",
    "\t\"samtools index {i}\", \n",
    "\tconda_env = conda_env,\n",
    "\toutput_func = output_func,\n",
    "\ti = rmsb.file_from_path(f\"{PROJECT_DIR_d}Analysis/{output_prefix}_dedup_chr1-22-X.bam\")\n",
    ")"
   ]
  },
  {
   "cell_type": "markdown",
   "id": "59809516-d289-4ecd-9d3e-0f1ed14a91aa",
   "metadata": {},
   "source": [
    "## Get bigwig files (full read length)"
   ]
  },
  {
   "cell_type": "code",
   "execution_count": 5,
   "id": "83ed1a22-3101-4d00-aa73-b32b173ae59d",
   "metadata": {
    "execution": {
     "iopub.execute_input": "2024-10-12T21:44:39.105120Z",
     "iopub.status.busy": "2024-10-12T21:44:39.104929Z",
     "iopub.status.idle": "2024-10-12T21:44:40.564117Z",
     "shell.execute_reply": "2024-10-12T21:44:40.563665Z",
     "shell.execute_reply.started": "2024-10-12T21:44:39.105105Z"
    },
    "tags": []
   },
   "outputs": [
    {
     "data": {
      "text/plain": [
       "<rmsp.rmscore.VirtualResource at 0x7fe3948f2f20>"
      ]
     },
     "execution_count": 5,
     "metadata": {},
     "output_type": "execute_result"
    }
   ],
   "source": [
    "# Extract R2\n",
    "\n",
    "f = lambda **kwargs: [kwargs['o']]\n",
    "output_func = rms.register_pipe(f)\n",
    "run_template_bash(\n",
    "\t\"samtools view -b -f 128 {i} > {o}\",\n",
    "\tconda_env = conda_env,\n",
    "\toutput_func = output_func,\n",
    "\ti = rmsb.file_from_path(f\"{PROJECT_DIR_d}Analysis/C1_dedup_chr1-22-X.bam\"),\n",
    "\to = f\"{PROJECT_DIR_d}Analysis/C1_dedup_chr1-22-X_R2.bam\",\n",
    ")\n",
    "f = lambda **kwargs: [f\"{kwargs['i']}.bai\"]\n",
    "output_func = rms.register_pipe(f)\n",
    "run_template_bash(\n",
    "\t\"samtools index {i}\", \n",
    "\tconda_env = conda_env,\n",
    "\toutput_func = output_func,\n",
    "\ti = rmsb.file_from_path(f\"{PROJECT_DIR_d}Analysis/C1_dedup_chr1-22-X_R2.bam\"),\n",
    ")"
   ]
  },
  {
   "cell_type": "code",
   "execution_count": 6,
   "id": "4af8f13e-2309-45d2-b216-1129ece903fb",
   "metadata": {
    "execution": {
     "iopub.execute_input": "2024-10-12T21:44:40.568741Z",
     "iopub.status.busy": "2024-10-12T21:44:40.568550Z",
     "iopub.status.idle": "2024-10-12T21:44:41.770686Z",
     "shell.execute_reply": "2024-10-12T21:44:41.770271Z",
     "shell.execute_reply.started": "2024-10-12T21:44:40.568725Z"
    },
    "tags": []
   },
   "outputs": [
    {
     "data": {
      "text/plain": [
       "<rmsp.rmscore.VirtualResource at 0x7fe3948f20e0>"
      ]
     },
     "execution_count": 6,
     "metadata": {},
     "output_type": "execute_result"
    }
   ],
   "source": [
    "# Convert bam to bigwig\n",
    "\n",
    "f = lambda **kwargs: [kwargs['o']]\n",
    "output_func = rms.register_pipe(f)\n",
    "run_template_bash(\n",
    "\t\"bamCoverage -b {i} -o {o} --filterRNAstrand {strand} --binSize 1 --numberOfProcessors {thread}\",\n",
    "\tconda_env = conda_env,\n",
    "\toutput_func = output_func,\n",
    "\ti = rmsb.file_from_path(f\"{PROJECT_DIR_d}Analysis/C1_dedup_chr1-22-X_R2.bam\"),\n",
    "\tbami = rmsb.file_from_path(f\"{PROJECT_DIR_d}Analysis/C1_dedup_chr1-22-X_R2.bam.bai\"),\n",
    "\to = f\"{PROJECT_DIR_d}Analysis/C1_dedup_chr1-22-X_R2_coverage_pl.bw\",\n",
    "\tstrand = \"forward\",\n",
    "\tthread = 32\n",
    ")\n",
    "run_template_bash(\n",
    "\t\"bamCoverage -b {i} -o {o} --filterRNAstrand {strand} --binSize 1 --numberOfProcessors {thread}\",\n",
    "\tconda_env = conda_env,\n",
    "\toutput_func = output_func,\n",
    "\ti = rmsb.file_from_path(f\"{PROJECT_DIR_d}Analysis/C1_dedup_chr1-22-X_R2.bam\"),\n",
    "\tbami = rmsb.file_from_path(f\"{PROJECT_DIR_d}Analysis/C1_dedup_chr1-22-X_R2.bam.bai\"),\n",
    "\to = f\"{PROJECT_DIR_d}Analysis/C1_dedup_chr1-22-X_R2_coverage_mn.bw\",\n",
    "\tstrand = \"reverse\",\n",
    "\tthread = 32\n",
    ")"
   ]
  },
  {
   "cell_type": "markdown",
   "id": "34b6efe0-fc1e-46b9-9942-70d41e3fc9f5",
   "metadata": {},
   "source": [
    "# Subsampling"
   ]
  },
  {
   "cell_type": "markdown",
   "id": "97a47c10-ad1a-4b7a-b993-d0f2ef96e179",
   "metadata": {},
   "source": [
    "## Create subsampled bam files"
   ]
  },
  {
   "cell_type": "code",
   "execution_count": 4,
   "id": "16a5b51b-b6f0-4963-bf09-406baee87efa",
   "metadata": {
    "execution": {
     "iopub.execute_input": "2024-11-29T16:23:44.439395Z",
     "iopub.status.busy": "2024-11-29T16:23:44.439069Z",
     "iopub.status.idle": "2024-11-29T16:24:13.764663Z",
     "shell.execute_reply": "2024-11-29T16:24:13.751287Z",
     "shell.execute_reply.started": "2024-11-29T16:23:44.439375Z"
    },
    "scrolled": true
   },
   "outputs": [
    {
     "name": "stdout",
     "output_type": "stream",
     "text": [
      "88200416 + 0 in total (QC-passed reads + QC-failed reads)\n",
      "88200416 + 0 primary\n",
      "0 + 0 secondary\n",
      "0 + 0 supplementary\n",
      "0 + 0 duplicates\n",
      "0 + 0 primary duplicates\n",
      "88200416 + 0 mapped (100.00% : N/A)\n",
      "88200416 + 0 primary mapped (100.00% : N/A)\n",
      "88200416 + 0 paired in sequencing\n",
      "44100208 + 0 read1\n",
      "44100208 + 0 read2\n",
      "88200416 + 0 properly paired (100.00% : N/A)\n",
      "88200416 + 0 with itself and mate mapped\n",
      "0 + 0 singletons (0.00% : N/A)\n",
      "0 + 0 with mate mapped to a different chr\n",
      "0 + 0 with mate mapped to a different chr (mapQ>=5)\n"
     ]
    }
   ],
   "source": [
    "# Check original seq depth\n",
    "\n",
    "original = f\"{PROJECT_DIR_d}Analysis/C1_dedup_chr1-22-X.bam\"\n",
    "! samtools flagstat $original"
   ]
  },
  {
   "cell_type": "code",
   "execution_count": 7,
   "id": "c4aa0a14-f0f4-4fed-9855-d06f5811947f",
   "metadata": {
    "execution": {
     "iopub.execute_input": "2024-10-12T21:44:41.772661Z",
     "iopub.status.busy": "2024-10-12T21:44:41.772465Z",
     "iopub.status.idle": "2024-10-12T21:45:01.530925Z",
     "shell.execute_reply": "2024-10-12T21:45:01.530411Z",
     "shell.execute_reply.started": "2024-10-12T21:44:41.772645Z"
    },
    "tags": []
   },
   "outputs": [],
   "source": [
    "subsample_dict = {\n",
    "\t\"1M\": 1000000,\n",
    "\t\"5M\": 5000000,\n",
    "\t\"10M\": 10000000,\n",
    "\t\"20M\": 20000000,\n",
    "\t\"30M\": 30000000\n",
    "\t}"
   ]
  },
  {
   "cell_type": "code",
   "execution_count": 8,
   "id": "4bba7286-f729-4bfe-b699-09fe63d79942",
   "metadata": {
    "execution": {
     "iopub.execute_input": "2024-10-12T21:45:01.533116Z",
     "iopub.status.busy": "2024-10-12T21:45:01.532916Z",
     "iopub.status.idle": "2024-10-12T21:45:03.566630Z",
     "shell.execute_reply": "2024-10-12T21:45:03.566130Z",
     "shell.execute_reply.started": "2024-10-12T21:45:01.533098Z"
    },
    "tags": []
   },
   "outputs": [],
   "source": [
    "f = lambda **kwargs: [kwargs['o']]\n",
    "output_func = rms.register_pipe(f)\n",
    "for subsample_name, n in subsample_dict.items():\n",
    "\trun_template_bash(\n",
    "\t\t\"biodatatools subsample_bam -i {i} -o {o} -n {n} -seed {seed}\",\n",
    "\t\tconda_env = conda_env,\n",
    "\t\toutput_func = output_func,\n",
    "\t\ti = rmsb.file_from_path(f\"{PROJECT_DIR_d}Analysis/C1_dedup_chr1-22-X.bam\"),\n",
    "\t\to = f\"{PROJECT_DIR_d}Analysis/C1_{subsample_name}.bam\",\n",
    "\t\tn = n,\n",
    "\t\tseed = n\n",
    "\t)\n",
    "f = lambda **kwargs: [f\"{kwargs['i']}.bai\"]\n",
    "output_func = rms.register_pipe(f)\n",
    "for subsample_name, n in subsample_dict.items():\n",
    "\trun_template_bash(\n",
    "\t\t\"samtools index {i}\", \n",
    "\t\tconda_env = conda_env,\n",
    "\t\toutput_func = output_func,\n",
    "\t\ti = rmsb.file_from_path(f\"{PROJECT_DIR_d}Analysis/C1_{subsample_name}.bam\")\n",
    "\t)"
   ]
  },
  {
   "cell_type": "code",
   "execution_count": 5,
   "id": "7dd8d112-8698-48c5-9ac8-4050d848e482",
   "metadata": {
    "execution": {
     "iopub.execute_input": "2024-11-29T16:26:52.071213Z",
     "iopub.status.busy": "2024-11-29T16:26:52.070880Z",
     "iopub.status.idle": "2024-11-29T16:26:58.526707Z",
     "shell.execute_reply": "2024-11-29T16:26:58.526108Z",
     "shell.execute_reply.started": "2024-11-29T16:26:52.071178Z"
    },
    "scrolled": true
   },
   "outputs": [
    {
     "name": "stdout",
     "output_type": "stream",
     "text": [
      "20000000 + 0 in total (QC-passed reads + QC-failed reads)\n",
      "20000000 + 0 primary\n",
      "0 + 0 secondary\n",
      "0 + 0 supplementary\n",
      "0 + 0 duplicates\n",
      "0 + 0 primary duplicates\n",
      "20000000 + 0 mapped (100.00% : N/A)\n",
      "20000000 + 0 primary mapped (100.00% : N/A)\n",
      "20000000 + 0 paired in sequencing\n",
      "10000000 + 0 read1\n",
      "10000000 + 0 read2\n",
      "20000000 + 0 properly paired (100.00% : N/A)\n",
      "20000000 + 0 with itself and mate mapped\n",
      "0 + 0 singletons (0.00% : N/A)\n",
      "0 + 0 with mate mapped to a different chr\n",
      "0 + 0 with mate mapped to a different chr (mapQ>=5)\n"
     ]
    }
   ],
   "source": [
    "# Check seq depth after downsampling\n",
    "\n",
    "downsampled = f\"{PROJECT_DIR_d}Analysis/C1_10M.bam\"\n",
    "! samtools flagstat $downsampled"
   ]
  },
  {
   "cell_type": "markdown",
   "id": "83e0c560-3202-427a-bb97-df296a881c8a",
   "metadata": {},
   "source": [
    "## Peak calling"
   ]
  },
  {
   "cell_type": "code",
   "execution_count": 9,
   "id": "4d41a245-9234-4117-bccb-5da65e103f55",
   "metadata": {
    "execution": {
     "iopub.execute_input": "2024-10-12T21:45:03.570982Z",
     "iopub.status.busy": "2024-10-12T21:45:03.570797Z",
     "iopub.status.idle": "2024-10-12T21:45:05.133115Z",
     "shell.execute_reply": "2024-10-12T21:45:05.132644Z",
     "shell.execute_reply.started": "2024-10-12T21:45:03.570966Z"
    },
    "tags": []
   },
   "outputs": [],
   "source": [
    "# Convert bam to bigwig (5' only)\n",
    "\n",
    "chrom_size_file = f\"{PROJECT_DIR_r}genomes/human/hg38.chrom.sizes.filtered\"\n",
    "for subsample_name, n in subsample_dict.items():\n",
    "\tf = lambda **kwargs: [kwargs['o'] + \"_5pl.bw\", kwargs['o'] + \"_5mn.bw\", kwargs['o'] + \"_3pl.bw\", kwargs['o'] + \"_3mn.bw\"]\n",
    "\toutput_func = rms.register_pipe(f)\n",
    "\trun_template_bash(\n",
    "\t\t\"biodatatools process_PROcap_bam_to_bigwig -i {i} -g {g} -o {o} -paired_end True -rna_strand {rna_strand}\",\n",
    "\t\tconda_env = conda_env,\n",
    "\t\toutput_func = output_func,\n",
    "\t\ti = rmsb.file_from_path(f\"{PROJECT_DIR_d}Analysis/C1_{subsample_name}.bam\"),\n",
    "\t\tg = rms.file_from_path(chrom_size_file),\n",
    "\t\to = f\"{PROJECT_DIR_d}Analysis/C1_{subsample_name}\",\n",
    "\t\trna_strand = \"reverse\"\n",
    "\t)"
   ]
  },
  {
   "cell_type": "code",
   "execution_count": 10,
   "id": "f36e78a1-e4f7-46e4-ae3e-83968e5ca255",
   "metadata": {
    "execution": {
     "iopub.execute_input": "2024-10-12T21:45:05.135184Z",
     "iopub.status.busy": "2024-10-12T21:45:05.134968Z",
     "iopub.status.idle": "2024-10-12T21:45:07.372383Z",
     "shell.execute_reply": "2024-10-12T21:45:07.371873Z",
     "shell.execute_reply.started": "2024-10-12T21:45:05.135166Z"
    },
    "tags": []
   },
   "outputs": [],
   "source": [
    "# Peak calling using PINTS\n",
    "\n",
    "f = lambda **kwargs: [f\"{kwargs['output_dir']}/{kwargs['file_prefix']}_1_bidirectional_peaks.bed\", f\"{kwargs['output_dir']}/{kwargs['file_prefix']}_1_divergent_peaks.bed\", f\"{kwargs['output_dir']}/{kwargs['file_prefix']}_1_unidirectional_peaks.bed\"]\n",
    "output_func = rms.register_pipe(f)\n",
    "for subsample_name, n in subsample_dict.items():\n",
    "\tbwpl = f\"{PROJECT_DIR_d}Analysis/C1_{subsample_name}_5pl.bw\"\n",
    "\tbwmn = f\"{PROJECT_DIR_d}Analysis/C1_{subsample_name}_5mn.bw\"\n",
    "\tprefix = f\"C1_{subsample_name}\"\n",
    "\trun_template_bash(\n",
    "\t\t\"pints_caller --save-to {output_dir} --file-prefix {file_prefix} --bw-pl {bwpl} --bw-mn {bwmn} --exp-type {exp_type} --min-lengths-opposite-peaks 5 --thread {thread}\", \n",
    "\t\tconda_env = conda_env, \n",
    "\t\toutput_func = output_func,\n",
    "\t\toutput_dir = f\"{PROJECT_DIR_d}Analysis/\",\n",
    "\t\tfile_prefix = prefix, \n",
    "\t\tbwpl = rmsb.file_from_path(bwpl),\n",
    "\t\tbwmn = rmsb.file_from_path(bwmn),\n",
    "\t\texp_type = \"PROcap\",\n",
    "\t\tthread = 32\n",
    "\t)"
   ]
  },
  {
   "cell_type": "markdown",
   "id": "5bb18bcd-59f0-4c95-83cd-01169371cc86",
   "metadata": {},
   "source": [
    "## Get bigwig files (full read length)"
   ]
  },
  {
   "cell_type": "code",
   "execution_count": 11,
   "id": "06109500-166b-455e-b90a-8a7cb2ba7eda",
   "metadata": {
    "execution": {
     "iopub.execute_input": "2024-10-12T21:45:07.374487Z",
     "iopub.status.busy": "2024-10-12T21:45:07.374296Z",
     "iopub.status.idle": "2024-10-12T21:45:08.717626Z",
     "shell.execute_reply": "2024-10-12T21:45:08.717173Z",
     "shell.execute_reply.started": "2024-10-12T21:45:07.374470Z"
    },
    "tags": []
   },
   "outputs": [],
   "source": [
    "f = lambda **kwargs: [kwargs['o']]\n",
    "output_func = rms.register_pipe(f)\n",
    "for subsample_name, n in subsample_dict.items():\n",
    "\trun_template_bash(\n",
    "\t\t\"samtools view -b -f 128 {i} > {o}\",\n",
    "\t\tconda_env = conda_env,\n",
    "\t\toutput_func = output_func,\n",
    "\t\ti = rmsb.file_from_path(f\"{PROJECT_DIR_d}Analysis/C1_{subsample_name}.bam\"),\n",
    "\t\to = f\"{PROJECT_DIR_d}Analysis/C1_{subsample_name}_R2.bam\",\n",
    "\t)\n",
    "f = lambda **kwargs: [f\"{kwargs['i']}.bai\"]\n",
    "output_func = rms.register_pipe(f)\n",
    "for subsample_name, n in subsample_dict.items():\n",
    "\trun_template_bash(\n",
    "\t\t\"samtools index {i}\", \n",
    "\t\tconda_env = conda_env,\n",
    "\t\toutput_func = output_func,\n",
    "\t\ti = rmsb.file_from_path(f\"{PROJECT_DIR_d}Analysis/C1_{subsample_name}_R2.bam\"),\n",
    "\t)"
   ]
  },
  {
   "cell_type": "code",
   "execution_count": 12,
   "id": "b98dce28-0a90-47de-a589-269fa2e03661",
   "metadata": {
    "execution": {
     "iopub.execute_input": "2024-10-12T21:45:08.719628Z",
     "iopub.status.busy": "2024-10-12T21:45:08.719439Z",
     "iopub.status.idle": "2024-10-12T21:45:09.723551Z",
     "shell.execute_reply": "2024-10-12T21:45:09.723115Z",
     "shell.execute_reply.started": "2024-10-12T21:45:08.719612Z"
    },
    "tags": []
   },
   "outputs": [],
   "source": [
    "f = lambda **kwargs: [kwargs['o']]\n",
    "output_func = rms.register_pipe(f)\n",
    "for subsample_name, n in subsample_dict.items():\n",
    "\trun_template_bash(\n",
    "\t\t\"bamCoverage -b {i} -o {o} --filterRNAstrand {strand} --binSize 1 --numberOfProcessors {thread}\",\n",
    "\t\tconda_env = conda_env,\n",
    "\t\toutput_func = output_func,\n",
    "\t\ti = rmsb.file_from_path(f\"{PROJECT_DIR_d}Analysis/C1_{subsample_name}_R2.bam\"),\n",
    "\t\tbami = rmsb.file_from_path(f\"{PROJECT_DIR_d}Analysis/C1_{subsample_name}_R2.bam.bai\"),\n",
    "\t\to = f\"{PROJECT_DIR_d}Analysis/C1_{subsample_name}_R2_coverage_pl.bw\",\n",
    "\t\tstrand = \"forward\",\n",
    "\t\tthread = 32\n",
    "\t)\n",
    "\trun_template_bash(\n",
    "\t\t\"bamCoverage -b {i} -o {o} --filterRNAstrand {strand} --binSize 1 --numberOfProcessors {thread}\",\n",
    "\t\tconda_env = conda_env,\n",
    "\t\toutput_func = output_func,\n",
    "\t\ti = rmsb.file_from_path(f\"{PROJECT_DIR_d}Analysis/C1_{subsample_name}_R2.bam\"),\n",
    "\t\tbami = rmsb.file_from_path(f\"{PROJECT_DIR_d}Analysis/C1_{subsample_name}_R2.bam.bai\"),\n",
    "\t\to = f\"{PROJECT_DIR_d}Analysis/C1_{subsample_name}_R2_coverage_mn.bw\",\n",
    "\t\tstrand = \"reverse\",\n",
    "\t\tthread = 32\n",
    "\t)"
   ]
  },
  {
   "cell_type": "code",
   "execution_count": 13,
   "id": "ccac126f-01b9-48ed-8b92-87ff5ab113a2",
   "metadata": {
    "execution": {
     "iopub.execute_input": "2024-10-12T21:45:09.725487Z",
     "iopub.status.busy": "2024-10-12T21:45:09.725299Z",
     "iopub.status.idle": "2024-10-12T21:45:10.697847Z",
     "shell.execute_reply": "2024-10-12T21:45:10.697417Z",
     "shell.execute_reply.started": "2024-10-12T21:45:09.725470Z"
    },
    "tags": []
   },
   "outputs": [],
   "source": [
    "u = rmsb.execute_builder()"
   ]
  },
  {
   "cell_type": "code",
   "execution_count": 14,
   "id": "79db4328-df56-495e-a748-dd1da5aac218",
   "metadata": {
    "execution": {
     "iopub.execute_input": "2024-10-12T21:45:10.699823Z",
     "iopub.status.busy": "2024-10-12T21:45:10.699634Z",
     "iopub.status.idle": "2024-10-12T21:45:11.822176Z",
     "shell.execute_reply": "2024-10-12T21:45:11.821685Z",
     "shell.execute_reply.started": "2024-10-12T21:45:10.699805Z"
    }
   },
   "outputs": [
    {
     "name": "stdout",
     "output_type": "stream",
     "text": [
      "COMPLETE: 0\n",
      "RUNNING: 0\n",
      "ERROR: 0\n",
      "PENDING_READY: 0\n",
      "PENDING_NOT_READY: 0\n"
     ]
    }
   ],
   "source": [
    "rmspool.print_stat()"
   ]
  },
  {
   "cell_type": "code",
   "execution_count": null,
   "id": "6346969e-798c-4894-8225-1bec12a0050d",
   "metadata": {},
   "outputs": [],
   "source": []
  }
 ],
 "metadata": {
  "kernelspec": {
   "display_name": "Python 3 (ipykernel)",
   "language": "python",
   "name": "python3"
  },
  "language_info": {
   "codemirror_mode": {
    "name": "ipython",
    "version": 3
   },
   "file_extension": ".py",
   "mimetype": "text/x-python",
   "name": "python",
   "nbconvert_exporter": "python",
   "pygments_lexer": "ipython3",
   "version": "3.10.8"
  }
 },
 "nbformat": 4,
 "nbformat_minor": 5
}

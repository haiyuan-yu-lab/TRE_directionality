{
 "cells": [
  {
   "cell_type": "code",
   "execution_count": 1,
   "id": "66d21ef5-55e3-4e63-b1c4-6c23df47434d",
   "metadata": {
    "execution": {
     "iopub.execute_input": "2024-10-11T20:42:00.539347Z",
     "iopub.status.busy": "2024-10-11T20:42:00.538605Z",
     "iopub.status.idle": "2024-10-11T20:42:02.371800Z",
     "shell.execute_reply": "2024-10-11T20:42:02.370467Z",
     "shell.execute_reply.started": "2024-10-11T20:42:00.539295Z"
    },
    "tags": []
   },
   "outputs": [
    {
     "name": "stdout",
     "output_type": "stream",
     "text": [
      "Checking tasks to skip...\n",
      "Checking pending tasks to submit...\n",
      "Total pending pids available to submit: 0 / 0\n"
     ]
    }
   ],
   "source": [
    "# rmstools setup_wizard -dbpath /fs/cbsuhy02/storage/yc2553/yc2553/projects/TRE_directionality/test_DB/ -dbname test.db\n",
    "\n",
    "DBPATH = \"/fs/cbsuhy02/storage/yc2553/yc2553/projects/TRE_directionality/test_DB/\"\n",
    "DBNAME = \"test.db\"\n",
    "DBRESDIR = \"RMSResources/\"\n",
    "import sys\n",
    "import logging\n",
    "logger = logging.getLogger(\"rmspool\")\n",
    "logger.setLevel(\"INFO\")\n",
    "logger.addHandler(logging.StreamHandler(sys.stdout))\n",
    "from rmsp import rmscore\n",
    "rms = rmscore.ResourceManagementSystem(f\"{DBPATH}{DBNAME}\", f\"{DBPATH}{DBRESDIR}\")\n",
    "from rmsp import rmsbuilder\n",
    "rmspool = rmsbuilder.RMSProcessWrapPool(rms, 8)\n",
    "rmsb = rmsbuilder.RMSUnrunTasksBuilder(rmspool)\n",
    "from rmsp import rmsutils\n",
    "# This ID is randomly generated to trace Jupyter files in RMS\n",
    "rms.set_scriptID(\"bcc3719729074f69a93a31a4b58e9fda\")"
   ]
  },
  {
   "cell_type": "code",
   "execution_count": 2,
   "id": "daca1269-c7da-4e25-a145-a52086ae73e0",
   "metadata": {
    "execution": {
     "iopub.execute_input": "2024-10-11T20:42:02.377976Z",
     "iopub.status.busy": "2024-10-11T20:42:02.377213Z",
     "iopub.status.idle": "2024-10-11T20:42:37.189148Z",
     "shell.execute_reply": "2024-10-11T20:42:37.187735Z",
     "shell.execute_reply.started": "2024-10-11T20:42:02.377924Z"
    }
   },
   "outputs": [],
   "source": [
    "import pandas as pd\n",
    "from commonhelper import load_func\n",
    "from commandtemplate.conda import run_template_bash, OUTPUT_run_template_bash\n",
    "import json"
   ]
  },
  {
   "cell_type": "code",
   "execution_count": 3,
   "id": "1aa344d1-e15f-420c-91ae-0f2c960364d0",
   "metadata": {
    "execution": {
     "iopub.execute_input": "2024-10-11T20:42:37.244278Z",
     "iopub.status.busy": "2024-10-11T20:42:37.243743Z",
     "iopub.status.idle": "2024-10-11T20:42:37.259587Z",
     "shell.execute_reply": "2024-10-11T20:42:37.258393Z",
     "shell.execute_reply.started": "2024-10-11T20:42:37.244231Z"
    }
   },
   "outputs": [],
   "source": [
    "conda_env = \"DI_test\"\n",
    "pipeline = \"./procapanalysis.py\""
   ]
  },
  {
   "cell_type": "code",
   "execution_count": 4,
   "id": "080dbf0c-22a9-465d-bfaa-335f56ddf98c",
   "metadata": {
    "execution": {
     "iopub.execute_input": "2024-10-11T20:42:37.270650Z",
     "iopub.status.busy": "2024-10-11T20:42:37.270159Z",
     "iopub.status.idle": "2024-10-11T20:42:39.896027Z",
     "shell.execute_reply": "2024-10-11T20:42:39.894893Z",
     "shell.execute_reply.started": "2024-10-11T20:42:37.270607Z"
    }
   },
   "outputs": [],
   "source": [
    "PROJECT_DIR_d = \"/fs/cbsuhy02/storage/yc2553/yc2553/projects/TRE_directionality/PROcap/\"\n",
    "PROJECT_DIR_r = \"/fs/cbsuhy02/storage/yc2553/yc2553/projects/TRE_directionality/resources/\"\n",
    "PROJECT_DIR_o = \"/fs/cbsuhy02/storage/yc2553/yc2553/projects/TRE_directionality/output/\""
   ]
  },
  {
   "cell_type": "markdown",
   "id": "e903f004-a3f7-452a-b1ad-bd382a86b4c3",
   "metadata": {},
   "source": [
    "# Pipeline registration"
   ]
  },
  {
   "cell_type": "code",
   "execution_count": 5,
   "id": "e865730b-757f-41a8-a051-c3bad367d7a9",
   "metadata": {
    "execution": {
     "iopub.execute_input": "2024-10-11T20:42:39.900106Z",
     "iopub.status.busy": "2024-10-11T20:42:39.899227Z",
     "iopub.status.idle": "2024-10-11T20:42:41.466621Z",
     "shell.execute_reply": "2024-10-11T20:42:41.465344Z",
     "shell.execute_reply.started": "2024-10-11T20:42:39.900048Z"
    },
    "tags": []
   },
   "outputs": [],
   "source": [
    "run_template_bash = rms.register_pipe(run_template_bash, output_func = OUTPUT_run_template_bash)"
   ]
  },
  {
   "cell_type": "markdown",
   "id": "7004f45a-5bc3-41ad-843f-0eeb334b383c",
   "metadata": {},
   "source": [
    "# Raw PRO-cap data"
   ]
  },
  {
   "cell_type": "code",
   "execution_count": 21,
   "id": "55f4a8b5-81f4-4ae7-9fcf-6e91173f5259",
   "metadata": {
    "execution": {
     "iopub.execute_input": "2024-10-12T15:01:47.462547Z",
     "iopub.status.busy": "2024-10-12T15:01:47.461868Z",
     "iopub.status.idle": "2024-10-12T15:01:47.932028Z",
     "shell.execute_reply": "2024-10-12T15:01:47.930542Z",
     "shell.execute_reply.started": "2024-10-12T15:01:47.462488Z"
    }
   },
   "outputs": [
    {
     "data": {
      "text/html": [
       "<div>\n",
       "<style scoped>\n",
       "    .dataframe tbody tr th:only-of-type {\n",
       "        vertical-align: middle;\n",
       "    }\n",
       "\n",
       "    .dataframe tbody tr th {\n",
       "        vertical-align: top;\n",
       "    }\n",
       "\n",
       "    .dataframe thead th {\n",
       "        text-align: right;\n",
       "    }\n",
       "</style>\n",
       "<table border=\"1\" class=\"dataframe\">\n",
       "  <thead>\n",
       "    <tr style=\"text-align: right;\">\n",
       "      <th></th>\n",
       "      <th>Library Name</th>\n",
       "      <th>Sequencing Read 1</th>\n",
       "      <th>Sequencing Read 2</th>\n",
       "      <th>Species</th>\n",
       "      <th>Assay</th>\n",
       "      <th>ENCODE Biosample ID</th>\n",
       "      <th>S2 spike-in</th>\n",
       "      <th>5' adapter</th>\n",
       "      <th>5' UMI</th>\n",
       "      <th>3' adapter</th>\n",
       "      <th>3' UMI</th>\n",
       "      <th>PCR barcode (P7 index)</th>\n",
       "    </tr>\n",
       "  </thead>\n",
       "  <tbody>\n",
       "    <tr>\n",
       "      <th>0</th>\n",
       "      <td>C1a</td>\n",
       "      <td>C1a_CKDL220028609-1A_HLJNNDSX5_L4_1.fq.gz</td>\n",
       "      <td>C1a_CKDL220028609-1A_HLJNNDSX5_L4_2.fq.gz</td>\n",
       "      <td>Human</td>\n",
       "      <td>PRO-cap</td>\n",
       "      <td>NaN</td>\n",
       "      <td>No</td>\n",
       "      <td>VRA5 + 6N</td>\n",
       "      <td>6N</td>\n",
       "      <td>VRA3 + 6N</td>\n",
       "      <td>6N</td>\n",
       "      <td>CAGATC</td>\n",
       "    </tr>\n",
       "    <tr>\n",
       "      <th>1</th>\n",
       "      <td>C1b</td>\n",
       "      <td>C1b_CKDL220028609-1A_HLJNNDSX5_L4_1.fq.gz</td>\n",
       "      <td>C1b_CKDL220028609-1A_HLJNNDSX5_L4_2.fq.gz</td>\n",
       "      <td>Human</td>\n",
       "      <td>PRO-cap</td>\n",
       "      <td>NaN</td>\n",
       "      <td>No</td>\n",
       "      <td>VRA5 + 6N</td>\n",
       "      <td>6N</td>\n",
       "      <td>VRA3 + 6N</td>\n",
       "      <td>6N</td>\n",
       "      <td>ACTTGA</td>\n",
       "    </tr>\n",
       "    <tr>\n",
       "      <th>2</th>\n",
       "      <td>CTCF_U1</td>\n",
       "      <td>CTCF_U1_1.fq.gz</td>\n",
       "      <td>CTCF_U1_2.fq.gz</td>\n",
       "      <td>Human</td>\n",
       "      <td>PRO-cap</td>\n",
       "      <td>ENCBS440YTE</td>\n",
       "      <td>Yes</td>\n",
       "      <td>VRA5 + 6N</td>\n",
       "      <td>6N</td>\n",
       "      <td>VRA3 + 6N</td>\n",
       "      <td>6N</td>\n",
       "      <td>GGCTAC</td>\n",
       "    </tr>\n",
       "    <tr>\n",
       "      <th>3</th>\n",
       "      <td>CTCF_U2</td>\n",
       "      <td>CTCF_U2_1.fq.gz</td>\n",
       "      <td>CTCF_U2_2.fq.gz</td>\n",
       "      <td>Human</td>\n",
       "      <td>PRO-cap</td>\n",
       "      <td>ENCBS596YYF</td>\n",
       "      <td>Yes</td>\n",
       "      <td>VRA5 + 6N</td>\n",
       "      <td>6N</td>\n",
       "      <td>VRA3 + 6N</td>\n",
       "      <td>6N</td>\n",
       "      <td>CTTGTA</td>\n",
       "    </tr>\n",
       "    <tr>\n",
       "      <th>4</th>\n",
       "      <td>CTCF_T1</td>\n",
       "      <td>CTCF_T1_1.fq.gz</td>\n",
       "      <td>CTCF_T1_2.fq.gz</td>\n",
       "      <td>Human</td>\n",
       "      <td>PRO-cap</td>\n",
       "      <td>ENCBS637VLU</td>\n",
       "      <td>Yes</td>\n",
       "      <td>VRA5 + 6N</td>\n",
       "      <td>6N</td>\n",
       "      <td>VRA3 + 6N</td>\n",
       "      <td>6N</td>\n",
       "      <td>GATCAG</td>\n",
       "    </tr>\n",
       "    <tr>\n",
       "      <th>5</th>\n",
       "      <td>CTCF_T2</td>\n",
       "      <td>CTCF_T2_1.fq.gz</td>\n",
       "      <td>CTCF_T2_2.fq.gz</td>\n",
       "      <td>Human</td>\n",
       "      <td>PRO-cap</td>\n",
       "      <td>ENCBS304XWN</td>\n",
       "      <td>Yes</td>\n",
       "      <td>VRA5 + 6N</td>\n",
       "      <td>6N</td>\n",
       "      <td>VRA3 + 6N</td>\n",
       "      <td>6N</td>\n",
       "      <td>TAGCTT</td>\n",
       "    </tr>\n",
       "  </tbody>\n",
       "</table>\n",
       "</div>"
      ],
      "text/plain": [
       "  Library Name                          Sequencing Read 1  \\\n",
       "0          C1a  C1a_CKDL220028609-1A_HLJNNDSX5_L4_1.fq.gz   \n",
       "1          C1b  C1b_CKDL220028609-1A_HLJNNDSX5_L4_1.fq.gz   \n",
       "2      CTCF_U1                            CTCF_U1_1.fq.gz   \n",
       "3      CTCF_U2                            CTCF_U2_1.fq.gz   \n",
       "4      CTCF_T1                            CTCF_T1_1.fq.gz   \n",
       "5      CTCF_T2                            CTCF_T2_1.fq.gz   \n",
       "\n",
       "                           Sequencing Read 2 Species    Assay  \\\n",
       "0  C1a_CKDL220028609-1A_HLJNNDSX5_L4_2.fq.gz   Human  PRO-cap   \n",
       "1  C1b_CKDL220028609-1A_HLJNNDSX5_L4_2.fq.gz   Human  PRO-cap   \n",
       "2                            CTCF_U1_2.fq.gz   Human  PRO-cap   \n",
       "3                            CTCF_U2_2.fq.gz   Human  PRO-cap   \n",
       "4                            CTCF_T1_2.fq.gz   Human  PRO-cap   \n",
       "5                            CTCF_T2_2.fq.gz   Human  PRO-cap   \n",
       "\n",
       "  ENCODE Biosample ID S2 spike-in 5' adapter 5' UMI 3' adapter 3' UMI  \\\n",
       "0                 NaN          No  VRA5 + 6N     6N  VRA3 + 6N     6N   \n",
       "1                 NaN          No  VRA5 + 6N     6N  VRA3 + 6N     6N   \n",
       "2         ENCBS440YTE         Yes  VRA5 + 6N     6N  VRA3 + 6N     6N   \n",
       "3         ENCBS596YYF         Yes  VRA5 + 6N     6N  VRA3 + 6N     6N   \n",
       "4         ENCBS637VLU         Yes  VRA5 + 6N     6N  VRA3 + 6N     6N   \n",
       "5         ENCBS304XWN         Yes  VRA5 + 6N     6N  VRA3 + 6N     6N   \n",
       "\n",
       "  PCR barcode (P7 index)  \n",
       "0                 CAGATC  \n",
       "1                 ACTTGA  \n",
       "2                 GGCTAC  \n",
       "3                 CTTGTA  \n",
       "4                 GATCAG  \n",
       "5                 TAGCTT  "
      ]
     },
     "execution_count": 21,
     "metadata": {},
     "output_type": "execute_result"
    }
   ],
   "source": [
    "procap_info = pd.read_excel(f\"{PROJECT_DIR_o}supp_tables/suppTable1.xlsx\")\n",
    "procap_info"
   ]
  },
  {
   "cell_type": "code",
   "execution_count": null,
   "id": "bb255252-2053-43fb-a0c2-c4696be2406a",
   "metadata": {},
   "outputs": [],
   "source": [
    "# Download PRO-cap fasta files from ENCODE; rename as \"Sequencing Read 1\" and \"Sequencing Read 2\" columns in \"suppTable1.xlsx\"\n",
    "\n",
    "# C1a\n",
    "# Read 1: https://www.encodeproject.org/files/ENCFF298PQK/@@download/ENCFF298PQK.fastq.gz\n",
    "# Read 2: https://www.encodeproject.org/files/ENCFF084GIA/@@download/ENCFF084GIA.fastq.gz\n",
    "\n",
    "# C1b\n",
    "# Read 1: https://www.encodeproject.org/files/ENCFF191TQL/@@download/ENCFF191TQL.fastq.gz\n",
    "# Read 2: https://www.encodeproject.org/files/ENCFF583FVG/@@download/ENCFF583FVG.fastq.gz\n",
    "\n",
    "# CTCF_U1\n",
    "# Read 1: https://www.encodeproject.org/files/ENCFF443JEG/@@download/ENCFF443JEG.fastq.gz\n",
    "# Read 2: https://www.encodeproject.org/files/ENCFF602SVL/@@download/ENCFF602SVL.fastq.gz\n",
    "\n",
    "# CTCF_U2\n",
    "# Read 1: https://www.encodeproject.org/files/ENCFF857ZBB/@@download/ENCFF857ZBB.fastq.gz\n",
    "# Read 2: https://www.encodeproject.org/files/ENCFF624LJO/@@download/ENCFF624LJO.fastq.gz\n",
    "\n",
    "# CTCF_T1\n",
    "# Read 1: https://www.encodeproject.org/files/ENCFF002VVH/@@download/ENCFF002VVH.fastq.gz\n",
    "# Read 2: https://www.encodeproject.org/files/ENCFF422MIH/@@download/ENCFF422MIH.fastq.gz\n",
    "\n",
    "# CTCF_T2\n",
    "# Read 1: https://www.encodeproject.org/files/ENCFF459FEW/@@download/ENCFF459FEW.fastq.gz\n",
    "# Read 2: https://www.encodeproject.org/files/ENCFF783WPX/@@download/ENCFF783WPX.fastq.gz"
   ]
  },
  {
   "cell_type": "code",
   "execution_count": 9,
   "id": "b69d6b98-92f5-4b4b-9002-068f1795d7bd",
   "metadata": {
    "execution": {
     "iopub.execute_input": "2024-10-11T21:00:47.473519Z",
     "iopub.status.busy": "2024-10-11T21:00:47.472760Z",
     "iopub.status.idle": "2024-10-11T21:01:28.331567Z",
     "shell.execute_reply": "2024-10-11T21:01:28.329819Z",
     "shell.execute_reply.started": "2024-10-11T21:00:47.473464Z"
    },
    "scrolled": true,
    "tags": []
   },
   "outputs": [],
   "source": [
    "files = []\n",
    "for _, row in procap_info.iterrows():\n",
    "\tfiles.extend([row[\"Sequencing Read 1\"], row[\"Sequencing Read 2\"]])\n",
    "for f in files:\n",
    "\trms.register_file(f\"{PROJECT_DIR_d}/RawData/{f}\")"
   ]
  },
  {
   "cell_type": "markdown",
   "id": "05335602-e1da-4438-b6fa-846ba9922290",
   "metadata": {},
   "source": [
    "# Genome and related files"
   ]
  },
  {
   "cell_type": "code",
   "execution_count": 10,
   "id": "51517856-9873-4f0e-bd93-ed4340e2955a",
   "metadata": {
    "execution": {
     "iopub.execute_input": "2024-10-11T21:01:28.334812Z",
     "iopub.status.busy": "2024-10-11T21:01:28.334077Z",
     "iopub.status.idle": "2024-10-11T21:01:30.932049Z",
     "shell.execute_reply": "2024-10-11T21:01:30.930751Z",
     "shell.execute_reply.started": "2024-10-11T21:01:28.334757Z"
    },
    "scrolled": true,
    "tags": []
   },
   "outputs": [],
   "source": [
    "for f in [\n",
    "\t# https://www.encodeproject.org/files/GRCh38_no_alt_analysis_set_GCA_000001405.15/@@download/GRCh38_no_alt_analysis_set_GCA_000001405.15.fasta.gz\n",
    "\tf\"{PROJECT_DIR_r}genomes/human/GRCh38_no_alt_analysis_set_GCA_000001405.15.fasta.gz\", \n",
    "\t# NCBI GenBank ID U13369.1; https://www.ncbi.nlm.nih.gov/nuccore/555853\n",
    "\tf\"{PROJECT_DIR_r}genomes/human/rDNA_U13369.1.fasta\",\n",
    "\t# https://hgdownload.soe.ucsc.edu/goldenPath/hg38/bigZips/hg38.chrom.sizes\n",
    "\tf\"{PROJECT_DIR_r}genomes/human/hg38.chrom.sizes.filtered\",\n",
    "\tf\"{PROJECT_DIR_r}genomes/human/hg38.chrom.sizes.filtered.no.chrY\",\n",
    "\t# https://ftp.ebi.ac.uk/pub/databases/gencode/Gencode_human/release_37/gencode.v37.annotation.gtf.gz\n",
    "\tf\"{PROJECT_DIR_r}genomes/human/gencode.v37.annotation.gtf.gz\",\n",
    "\t# https://hgdownload.soe.ucsc.edu/goldenPath/dm6/bigZips/dm6.fa.gz\n",
    "\tf\"{PROJECT_DIR_r}genomes/drosophila/dm6.fa.gz\",\n",
    "\t# https://github.com/Boyle-Lab/Blacklist/raw/master/lists/hg38-blacklist.v2.bed.gz\n",
    "\tf\"{PROJECT_DIR_r}genomes/human/hg38-blacklist.v2.bed.gz\"\n",
    "]:\n",
    "\trms.register_file(f)"
   ]
  },
  {
   "cell_type": "code",
   "execution_count": 11,
   "id": "8e5cc40a-a84b-4d5c-b533-8c916a8c022e",
   "metadata": {
    "execution": {
     "iopub.execute_input": "2024-10-11T21:01:30.934448Z",
     "iopub.status.busy": "2024-10-11T21:01:30.933679Z",
     "iopub.status.idle": "2024-10-11T21:02:39.439894Z",
     "shell.execute_reply": "2024-10-11T21:02:39.438781Z",
     "shell.execute_reply.started": "2024-10-11T21:01:30.934396Z"
    },
    "tags": []
   },
   "outputs": [
    {
     "data": {
      "text/plain": [
       "<rmsp.rmscore.Resource at 0x7fea463049a0>"
      ]
     },
     "execution_count": 11,
     "metadata": {},
     "output_type": "execute_result"
    }
   ],
   "source": [
    "# Unzip files\n",
    "\n",
    "f = lambda **kwargs: [kwargs['o']]\n",
    "output_func = rms.register_pipe(f)\n",
    "run_template_bash(\n",
    "\t\"zcat {i} > {o}\",\n",
    "\toutput_func = output_func,\n",
    "\ti = rms.file_from_path(f\"{PROJECT_DIR_r}genomes/human/GRCh38_no_alt_analysis_set_GCA_000001405.15.fasta.gz\"),\n",
    "\to = f\"{PROJECT_DIR_r}genomes/human/GRCh38_no_alt_analysis_set_GCA_000001405.15.fasta\"\n",
    ")\n",
    "run_template_bash(\n",
    "\t\"zcat {i} > {o}\",\n",
    "\toutput_func = output_func,\n",
    "\ti = rms.file_from_path(f\"{PROJECT_DIR_r}genomes/human/gencode.v37.annotation.gtf.gz\"),\n",
    "\to = f\"{PROJECT_DIR_r}genomes/human/gencode.v37.annotation.gtf\"\n",
    ")\n",
    "run_template_bash(\n",
    "\t\"zcat {i} > {o}\",\n",
    "\toutput_func = output_func,\n",
    "\ti = rms.file_from_path(f\"{PROJECT_DIR_r}genomes/drosophila/dm6.fa.gz\"),\n",
    "\to = f\"{PROJECT_DIR_r}genomes/drosophila/dm6.fa\"\n",
    ")"
   ]
  },
  {
   "cell_type": "code",
   "execution_count": 12,
   "id": "5367163d-5b37-472a-a972-bce6636a365f",
   "metadata": {
    "execution": {
     "iopub.execute_input": "2024-10-11T21:02:39.443456Z",
     "iopub.status.busy": "2024-10-11T21:02:39.442484Z",
     "iopub.status.idle": "2024-10-11T21:02:50.957217Z",
     "shell.execute_reply": "2024-10-11T21:02:50.956095Z",
     "shell.execute_reply.started": "2024-10-11T21:02:39.443399Z"
    },
    "tags": []
   },
   "outputs": [
    {
     "data": {
      "text/plain": [
       "<rmsp.rmscore.Resource at 0x7fea46302f20>"
      ]
     },
     "execution_count": 12,
     "metadata": {},
     "output_type": "execute_result"
    }
   ],
   "source": [
    "# Add prefix to dm6 for spike-in indication\n",
    "\n",
    "f = lambda **kwargs: [kwargs['o']]\n",
    "output_func = rms.register_pipe(f)\n",
    "run_template_bash(\n",
    "\t\"biodatatools modify_fasta_names -i {i} -o {o} -func {func}\",\n",
    "\tconda_env = conda_env,\n",
    "\toutput_func = output_func,\n",
    "\ti = rms.file_from_path(f\"{PROJECT_DIR_r}genomes/drosophila/dm6.fa\"),\n",
    "\to = f\"{PROJECT_DIR_r}genomes/drosophila/dm6_addprefix.fa\",\n",
    "\tfunc = \"'lambda x: \\\"dm6_\\\" + x'\"\n",
    ")"
   ]
  },
  {
   "cell_type": "markdown",
   "id": "09d53913-165d-4a86-a590-18ca11d33c41",
   "metadata": {},
   "source": [
    "# STAR genome index"
   ]
  },
  {
   "cell_type": "markdown",
   "id": "f5434800-53ad-4c01-92bb-bcf1dd2d84b7",
   "metadata": {},
   "source": [
    "## Human without spikein"
   ]
  },
  {
   "cell_type": "code",
   "execution_count": 13,
   "id": "944c5caf-485c-4a58-9e08-b3d1072460a1",
   "metadata": {
    "execution": {
     "iopub.execute_input": "2024-10-11T21:02:50.959855Z",
     "iopub.status.busy": "2024-10-11T21:02:50.958961Z",
     "iopub.status.idle": "2024-10-11T21:42:39.298990Z",
     "shell.execute_reply": "2024-10-11T21:42:39.297690Z",
     "shell.execute_reply.started": "2024-10-11T21:02:50.959806Z"
    },
    "scrolled": true,
    "tags": []
   },
   "outputs": [
    {
     "name": "stderr",
     "output_type": "stream",
     "text": [
      "!!!!! WARNING: Could not move Log.out file from ./Log.out into /fs/cbsuhy02/storage/yc2553/yc2553/projects/TRE_directionality/resources/STAR_genome_index/hg38_rDNA/Log.out. Will keep ./Log.out\n",
      "\n",
      "\n"
     ]
    },
    {
     "name": "stdout",
     "output_type": "stream",
     "text": [
      "\t/home/yc2553/miniconda3_new/envs/DI_test/bin/STAR-avx2 --runMode genomeGenerate --readFilesCommand zcat --runThreadN 32 --genomeDir /fs/cbsuhy02/storage/yc2553/yc2553/projects/TRE_directionality/resources/STAR_genome_index/hg38_rDNA --genomeFastaFiles /fs/cbsuhy02/storage/yc2553/yc2553/projects/TRE_directionality/resources/genomes/human/GRCh38_no_alt_analysis_set_GCA_000001405.15.fasta /fs/cbsuhy02/storage/yc2553/yc2553/projects/TRE_directionality/resources/genomes/human/rDNA_U13369.1.fasta --sjdbGTFfile /fs/cbsuhy02/storage/yc2553/yc2553/projects/TRE_directionality/resources/genomes/human/gencode.v37.annotation.gtf\n",
      "\tSTAR version: 2.7.11a   compiled: 2023-09-15T02:58:53+0000 :/opt/conda/conda-bld/star_1694746407721/work/source\n",
      "Oct 11 17:02:53 ..... started STAR run\n",
      "Oct 11 17:02:53 ... starting to generate Genome files\n",
      "Oct 11 17:04:28 ..... processing annotations GTF\n",
      "Oct 11 17:05:28 ... starting to sort Suffix Array. This may take a long time...\n",
      "Oct 11 17:06:02 ... sorting Suffix Array chunks and saving them to disk...\n",
      "Oct 11 17:26:29 ... loading chunks from disk, packing SA...\n",
      "Oct 11 17:28:22 ... finished generating suffix array\n",
      "Oct 11 17:28:22 ... generating Suffix Array index\n",
      "Oct 11 17:34:07 ... completed Suffix Array index\n",
      "Oct 11 17:34:08 ..... inserting junctions into the genome indices\n",
      "Oct 11 17:41:41 ... writing Genome to disk ...\n",
      "Oct 11 17:41:44 ... writing Suffix Array to disk ...\n",
      "Oct 11 17:42:31 ... writing SAindex to disk\n",
      "Oct 11 17:42:38 ..... finished successfully\n",
      "\n"
     ]
    },
    {
     "data": {
      "text/plain": [
       "<rmsp.rmscore.Resource at 0x7fea46303b50>"
      ]
     },
     "execution_count": 13,
     "metadata": {},
     "output_type": "execute_result"
    }
   ],
   "source": [
    "# C1 library: no spike-in\n",
    "\n",
    "f = lambda **kwargs: [kwargs['genomeDir']]\n",
    "output_func = rms.register_pipe(f)\n",
    "run_template_bash(\n",
    "\t\"STAR --runMode genomeGenerate --readFilesCommand zcat --runThreadN {thread} --genomeDir {genomeDir} --genomeFastaFiles {i0} {i1} --sjdbGTFfile {annotation_file}\",\n",
    "\tconda_env = conda_env,\n",
    "\toutput_func = output_func,\n",
    "\ti0 = rms.file_from_path(f\"{PROJECT_DIR_r}genomes/human/GRCh38_no_alt_analysis_set_GCA_000001405.15.fasta\"),\n",
    "\ti1 = rms.file_from_path(f\"{PROJECT_DIR_r}genomes/human/rDNA_U13369.1.fasta\"),\n",
    "\tannotation_file = rms.file_from_path(f\"{PROJECT_DIR_r}genomes/human/gencode.v37.annotation.gtf\"),\n",
    "\tthread = 32,\n",
    "\tgenomeDir = f\"{PROJECT_DIR_r}STAR_genome_index/hg38_rDNA\"\n",
    ")"
   ]
  },
  {
   "cell_type": "markdown",
   "id": "1f1a824e-4242-440c-badc-478fd1710aa7",
   "metadata": {},
   "source": [
    "## Human with drosophila spikein"
   ]
  },
  {
   "cell_type": "code",
   "execution_count": 14,
   "id": "52653479-d51b-4c77-bd03-6a519ad47152",
   "metadata": {
    "execution": {
     "iopub.execute_input": "2024-10-11T21:42:39.303307Z",
     "iopub.status.busy": "2024-10-11T21:42:39.300225Z",
     "iopub.status.idle": "2024-10-11T22:27:28.274506Z",
     "shell.execute_reply": "2024-10-11T22:27:28.272764Z",
     "shell.execute_reply.started": "2024-10-11T21:42:39.303250Z"
    },
    "scrolled": true,
    "tags": []
   },
   "outputs": [
    {
     "name": "stdout",
     "output_type": "stream",
     "text": [
      "The history saving thread hit an unexpected error (OperationalError('attempt to write a readonly database')).History will not be written to the database.\n",
      "\t/home/yc2553/miniconda3_new/envs/DI_test/bin/STAR-avx2 --runMode genomeGenerate --readFilesCommand zcat --runThreadN 32 --genomeDir /fs/cbsuhy02/storage/yc2553/yc2553/projects/TRE_directionality/resources/STAR_genome_index/hg38_rDNA_dm6 --genomeFastaFiles /fs/cbsuhy02/storage/yc2553/yc2553/projects/TRE_directionality/resources/genomes/human/GRCh38_no_alt_analysis_set_GCA_000001405.15.fasta /fs/cbsuhy02/storage/yc2553/yc2553/projects/TRE_directionality/resources/genomes/human/rDNA_U13369.1.fasta /fs/cbsuhy02/storage/yc2553/yc2553/projects/TRE_directionality/resources/genomes/drosophila/dm6_addprefix.fa --sjdbGTFfile /fs/cbsuhy02/storage/yc2553/yc2553/projects/TRE_directionality/resources/genomes/human/gencode.v37.annotation.gtf\n",
      "\tSTAR version: 2.7.11a   compiled: 2023-09-15T02:58:53+0000 :/opt/conda/conda-bld/star_1694746407721/work/source\n",
      "Oct 11 17:42:41 ..... started STAR run\n",
      "Oct 11 17:42:43 ... starting to generate Genome files\n",
      "Oct 11 17:44:24 ..... processing annotations GTF\n",
      "Oct 11 17:45:31 ... starting to sort Suffix Array. This may take a long time...\n",
      "Oct 11 17:46:12 ... sorting Suffix Array chunks and saving them to disk...\n",
      "Oct 11 18:10:09 ... loading chunks from disk, packing SA...\n",
      "Oct 11 18:12:16 ... finished generating suffix array\n",
      "Oct 11 18:12:16 ... generating Suffix Array index\n",
      "Oct 11 18:20:05 ... completed Suffix Array index\n",
      "Oct 11 18:20:07 ..... inserting junctions into the genome indices\n",
      "Oct 11 18:26:43 ... writing Genome to disk ...\n",
      "Oct 11 18:26:49 ... writing Suffix Array to disk ...\n",
      "Oct 11 18:27:19 ... writing SAindex to disk\n",
      "Oct 11 18:27:25 ..... finished successfully\n",
      "\n"
     ]
    },
    {
     "name": "stderr",
     "output_type": "stream",
     "text": [
      "!!!!! WARNING: Could not move Log.out file from ./Log.out into /fs/cbsuhy02/storage/yc2553/yc2553/projects/TRE_directionality/resources/STAR_genome_index/hg38_rDNA_dm6/Log.out. Will keep ./Log.out\n",
      "\n",
      "\n"
     ]
    },
    {
     "data": {
      "text/plain": [
       "<rmsp.rmscore.Resource at 0x7fea4657b5b0>"
      ]
     },
     "execution_count": 14,
     "metadata": {},
     "output_type": "execute_result"
    }
   ],
   "source": [
    "# HCT116/CTCF library: with spike-in\n",
    "\n",
    "f = lambda **kwargs: [kwargs['genomeDir']]\n",
    "output_func = rms.register_pipe(f)\n",
    "run_template_bash(\n",
    "\t\"STAR --runMode genomeGenerate --readFilesCommand zcat --runThreadN {thread} --genomeDir {genomeDir} --genomeFastaFiles {i0} {i1} {i2} --sjdbGTFfile {annotation_file}\",\n",
    "\tconda_env = conda_env,\n",
    "\toutput_func = output_func,\n",
    "\ti0 = rms.file_from_path(f\"{PROJECT_DIR_r}genomes/human/GRCh38_no_alt_analysis_set_GCA_000001405.15.fasta\"),\n",
    "\ti1 = rms.file_from_path(f\"{PROJECT_DIR_r}genomes/human/rDNA_U13369.1.fasta\"),\n",
    "\ti2 = rms.file_from_path(f\"{PROJECT_DIR_r}genomes/drosophila/dm6_addprefix.fa\"),\n",
    "\tannotation_file = rms.file_from_path(f\"{PROJECT_DIR_r}genomes/human/gencode.v37.annotation.gtf\"),\n",
    "\tthread = 32,\n",
    "\tgenomeDir = f\"{PROJECT_DIR_r}STAR_genome_index/hg38_rDNA_dm6\"\n",
    ")"
   ]
  },
  {
   "cell_type": "markdown",
   "id": "e696e996-0e78-4886-ab54-68a922633506",
   "metadata": {},
   "source": [
    "# GENCODE annotation "
   ]
  },
  {
   "cell_type": "code",
   "execution_count": 15,
   "id": "bfb2cdb2-9935-48ec-9b40-4181de06e973",
   "metadata": {
    "execution": {
     "iopub.execute_input": "2024-10-11T22:27:28.280538Z",
     "iopub.status.busy": "2024-10-11T22:27:28.278967Z",
     "iopub.status.idle": "2024-10-11T22:31:35.449728Z",
     "shell.execute_reply": "2024-10-11T22:31:35.448631Z",
     "shell.execute_reply.started": "2024-10-11T22:27:28.280471Z"
    },
    "tags": []
   },
   "outputs": [
    {
     "data": {
      "text/plain": [
       "<rmsp.rmscore.Resource at 0x7fea462ff7f0>"
      ]
     },
     "execution_count": 15,
     "metadata": {},
     "output_type": "execute_result"
    }
   ],
   "source": [
    "# This file is used to classify distal vs. proximal elements\n",
    "\n",
    "f = lambda **kwargs: [kwargs['o']]\n",
    "output_func = rms.register_pipe(f)\n",
    "run_template_bash(\n",
    "\t\"biodatatools generate_union_TSS -i {i} -o {o} -forward_len {forward_len} -reverse_len {reverse_len}\",\n",
    "\tconda_env = conda_env,\n",
    "\toutput_func = output_func,\n",
    "\ti = rms.file_from_path(f\"{PROJECT_DIR_r}genomes/human/gencode.v37.annotation.gtf.gz\"),\n",
    "\to = f\"{PROJECT_DIR_r}genomes/human/gencode.v37.annotation.TSS.500.bed.bgz\",\n",
    "\tforward_len = 500,\n",
    "\treverse_len = 500\n",
    ")"
   ]
  },
  {
   "cell_type": "code",
   "execution_count": 16,
   "id": "74f0545b-03af-493d-a135-da165a75206f",
   "metadata": {
    "execution": {
     "iopub.execute_input": "2024-10-11T22:31:35.451833Z",
     "iopub.status.busy": "2024-10-11T22:31:35.451125Z",
     "iopub.status.idle": "2024-10-11T22:35:31.530551Z",
     "shell.execute_reply": "2024-10-11T22:35:31.529431Z",
     "shell.execute_reply.started": "2024-10-11T22:31:35.451782Z"
    },
    "tags": []
   },
   "outputs": [
    {
     "data": {
      "text/plain": [
       "<rmsp.rmscore.Resource at 0x7fea4657b5e0>"
      ]
     },
     "execution_count": 16,
     "metadata": {},
     "output_type": "execute_result"
    }
   ],
   "source": [
    "# This file is used to classify intergenic vs. intragenic elements\n",
    "\n",
    "f = lambda **kwargs: [kwargs['o']]\n",
    "output_func = rms.register_pipe(f)\n",
    "run_template_bash(\n",
    "\t\"biodatatools generate_union_transcripts -i {i} -o {o}\",\n",
    "\tconda_env = conda_env,\n",
    "\toutput_func = output_func,\n",
    "\ti = rms.file_from_path(f\"{PROJECT_DIR_r}genomes/human/gencode.v37.annotation.gtf.gz\"),\n",
    "\to = f\"{PROJECT_DIR_r}genomes/human/gencode.v37.annotation.transcripts.union.bed.bgz\"\n",
    ")"
   ]
  },
  {
   "cell_type": "code",
   "execution_count": 17,
   "id": "18f695eb-a28a-4fd9-86e2-ffde8dcc4af4",
   "metadata": {
    "execution": {
     "iopub.execute_input": "2024-10-11T22:35:31.536840Z",
     "iopub.status.busy": "2024-10-11T22:35:31.534437Z",
     "iopub.status.idle": "2024-10-11T22:39:45.261242Z",
     "shell.execute_reply": "2024-10-11T22:39:45.260182Z",
     "shell.execute_reply.started": "2024-10-11T22:35:31.536744Z"
    }
   },
   "outputs": [
    {
     "data": {
      "text/plain": [
       "<rmsp.rmscore.Resource at 0x7fea463012d0>"
      ]
     },
     "execution_count": 17,
     "metadata": {},
     "output_type": "execute_result"
    }
   ],
   "source": [
    "f = lambda **kwargs: [kwargs['o']]\n",
    "output_func = rms.register_pipe(f)\n",
    "run_template_bash(\n",
    "\t\"biodatatools generate_geneannotations_union_features -i {i} -o {o} -feature {f}\",\n",
    "\tconda_env=conda_env,\n",
    "\toutput_func=output_func,\n",
    "\ti = rms.file_from_path(f\"{PROJECT_DIR_r}genomes/human/gencode.v37.annotation.gtf.gz\"),\n",
    "\to = f\"{PROJECT_DIR_r}genomes/human/gencode.v37.annotation.CDS.union.bed.bgz\",\n",
    "\tf = \"CDS\"\n",
    ")"
   ]
  },
  {
   "cell_type": "code",
   "execution_count": 23,
   "id": "a96aebd9-a22c-4bf2-be91-af7b4e087739",
   "metadata": {
    "execution": {
     "iopub.execute_input": "2024-10-17T01:42:27.433909Z",
     "iopub.status.busy": "2024-10-17T01:42:27.433559Z",
     "iopub.status.idle": "2024-10-17T01:42:52.852362Z",
     "shell.execute_reply": "2024-10-17T01:42:52.851907Z",
     "shell.execute_reply.started": "2024-10-17T01:42:27.433884Z"
    }
   },
   "outputs": [
    {
     "data": {
      "text/plain": [
       "<rmsp.rmscore.Resource at 0x7fea4629ea40>"
      ]
     },
     "execution_count": 23,
     "metadata": {},
     "output_type": "execute_result"
    }
   ],
   "source": [
    "# Exclude coding or blacklist regions\n",
    "# Used to generate control regions later\n",
    "\n",
    "f = lambda **kwargs: [kwargs['o']]\n",
    "output_func = rms.register_pipe(f)\n",
    "run_template_bash(\n",
    "\t\"zcat {i0} {i1} | cut -f 1-3 | gzip > {o}\",\n",
    "\tconda_env=conda_env,\n",
    "\toutput_func=output_func,\n",
    "\ti0 = rms.file_from_path(f\"{PROJECT_DIR_r}genomes/human/gencode.v37.annotation.CDS.union.bed.bgz\"),\n",
    "\ti1 = rms.file_from_path(f\"{PROJECT_DIR_r}genomes/human/hg38-blacklist.v2.bed.gz\"),\n",
    "\to = f\"{PROJECT_DIR_r}genomes/human/excluded_regions.bed.gz\",\n",
    ")"
   ]
  },
  {
   "cell_type": "markdown",
   "id": "aecad3af-bf80-4aeb-bd59-dd6bc1dead76",
   "metadata": {},
   "source": [
    "# Generate annotation for QC (gene body ratio)"
   ]
  },
  {
   "cell_type": "code",
   "execution_count": 19,
   "id": "8816b3b9-2843-4a38-8219-e8012c59cf3c",
   "metadata": {
    "execution": {
     "iopub.execute_input": "2024-10-11T22:39:47.315044Z",
     "iopub.status.busy": "2024-10-11T22:39:47.313959Z",
     "iopub.status.idle": "2024-10-11T22:39:47.337529Z",
     "shell.execute_reply": "2024-10-11T22:39:47.336353Z",
     "shell.execute_reply.started": "2024-10-11T22:39:47.314982Z"
    },
    "tags": []
   },
   "outputs": [],
   "source": [
    "RMSTemplate_generate_QC_gbratio_annotation_20240901 = load_func(pipeline, \"RMSTemplate_generate_QC_gbratio_annotation_20240901\")"
   ]
  },
  {
   "cell_type": "code",
   "execution_count": 20,
   "id": "cfe530f6-fc3d-4afd-a63f-7f3ae8772554",
   "metadata": {
    "execution": {
     "iopub.execute_input": "2024-10-11T22:39:47.340546Z",
     "iopub.status.busy": "2024-10-11T22:39:47.339468Z",
     "iopub.status.idle": "2024-10-11T22:45:06.515699Z",
     "shell.execute_reply": "2024-10-11T22:45:06.514609Z",
     "shell.execute_reply.started": "2024-10-11T22:39:47.340490Z"
    },
    "scrolled": true,
    "tags": []
   },
   "outputs": [],
   "source": [
    "RMSTemplate_generate_QC_gbratio_annotation_20240901(\n",
    "\trms,\n",
    "\tconda_env = conda_env,\n",
    "\tannotation_file = f\"{PROJECT_DIR_r}genomes/human/gencode.v37.annotation.gtf.gz\",\n",
    "\to = f\"{PROJECT_DIR_d}QC/Annotations/gencode.v37.annotation_proteincoding_nonoverlapping_long_transcripts.gtf.gz\",\n",
    "\tdiscarded_chroms = [\"chrY\"]\n",
    ")"
   ]
  },
  {
   "cell_type": "code",
   "execution_count": null,
   "id": "086ebed7-7796-4e28-a711-1dd651e452d9",
   "metadata": {},
   "outputs": [],
   "source": []
  }
 ],
 "metadata": {
  "kernelspec": {
   "display_name": "Python 3 (ipykernel)",
   "language": "python",
   "name": "python3"
  },
  "language_info": {
   "codemirror_mode": {
    "name": "ipython",
    "version": 3
   },
   "file_extension": ".py",
   "mimetype": "text/x-python",
   "name": "python",
   "nbconvert_exporter": "python",
   "pygments_lexer": "ipython3",
   "version": "3.10.8"
  },
  "toc-autonumbering": true
 },
 "nbformat": 4,
 "nbformat_minor": 5
}

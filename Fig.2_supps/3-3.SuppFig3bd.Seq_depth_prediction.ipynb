{
 "cells": [
  {
   "cell_type": "code",
   "execution_count": 1,
   "id": "485a6274-f3c7-4127-b199-7abade325537",
   "metadata": {
    "execution": {
     "iopub.execute_input": "2024-11-27T16:43:33.839686Z",
     "iopub.status.busy": "2024-11-27T16:43:33.839511Z",
     "iopub.status.idle": "2024-11-27T16:43:59.325702Z",
     "shell.execute_reply": "2024-11-27T16:43:59.324876Z",
     "shell.execute_reply.started": "2024-11-27T16:43:33.839666Z"
    }
   },
   "outputs": [],
   "source": [
    "import pandas as pd\n",
    "import matplotlib.pyplot as plt\n",
    "from mphelper import ProcessWrapPool\n",
    "import itertools\n",
    "import biodataplot.metaplot as bpm\n",
    "from biodata.bigwig import BigWigIReader\n",
    "from biodata.bed import BEDXReader\n",
    "from genomictools import GenomicCollection"
   ]
  },
  {
   "cell_type": "code",
   "execution_count": 2,
   "id": "07a348a9-8dde-41f5-95d4-6c2ec78cd0d6",
   "metadata": {
    "execution": {
     "iopub.execute_input": "2024-11-27T16:43:59.328118Z",
     "iopub.status.busy": "2024-11-27T16:43:59.327907Z",
     "iopub.status.idle": "2024-11-27T16:43:59.332266Z",
     "shell.execute_reply": "2024-11-27T16:43:59.331847Z",
     "shell.execute_reply.started": "2024-11-27T16:43:59.328101Z"
    }
   },
   "outputs": [],
   "source": [
    "import sys\n",
    "from pathlib import Path\n",
    "sys.path.append(str(Path.cwd().parent))\n",
    "import utils"
   ]
  },
  {
   "cell_type": "code",
   "execution_count": 3,
   "id": "8cd327b5-2334-4ec9-bcbc-13725583aff0",
   "metadata": {
    "execution": {
     "iopub.execute_input": "2024-11-27T16:43:59.334280Z",
     "iopub.status.busy": "2024-11-27T16:43:59.334051Z",
     "iopub.status.idle": "2024-11-27T16:44:00.601812Z",
     "shell.execute_reply": "2024-11-27T16:44:00.601255Z",
     "shell.execute_reply.started": "2024-11-27T16:43:59.334262Z"
    }
   },
   "outputs": [],
   "source": [
    "import matplotlib\n",
    "font_dir = Path.cwd().parent / \"font\"\n",
    "for font in [\"Arial.ttf\", \"Arial_Bold.ttf\"]:\n",
    "    matplotlib.font_manager.fontManager.addfont(font_dir / font)\n",
    "matplotlib.rcParams[\"font.family\"] = \"Arial\"\n",
    "bfontsize = 12\n",
    "sfontsize = 9"
   ]
  },
  {
   "cell_type": "code",
   "execution_count": 4,
   "id": "3e46a59b-d00b-45da-9982-2d4230391881",
   "metadata": {
    "execution": {
     "iopub.execute_input": "2024-11-27T16:44:01.747714Z",
     "iopub.status.busy": "2024-11-27T16:44:01.747509Z",
     "iopub.status.idle": "2024-11-27T16:44:01.750301Z",
     "shell.execute_reply": "2024-11-27T16:44:01.749819Z",
     "shell.execute_reply.started": "2024-11-27T16:44:01.747696Z"
    }
   },
   "outputs": [],
   "source": [
    "PROJECT_DIR_s = \"/fs/cbsuhy02/storage/yc2553/yc2553/projects/TRE_directionality/softwares/procapnet/\"\n",
    "PROJECT_DIR_d = \"/fs/cbsuhy02/storage/yc2553/yc2553/projects/TRE_directionality/PROcap/\"\n",
    "PROJECT_DIR_o = \"/fs/cbsuhy02/storage/yc2553/yc2553/projects/TRE_directionality/output/\""
   ]
  },
  {
   "cell_type": "markdown",
   "id": "dbd5903f-8cc0-4bf7-a2f7-b32f21af6f18",
   "metadata": {},
   "source": [
    "# Generate feature matrix"
   ]
  },
  {
   "cell_type": "code",
   "execution_count": 5,
   "id": "a83bc799-086e-4f20-ac5a-cb2a4a84e828",
   "metadata": {
    "execution": {
     "iopub.execute_input": "2024-11-27T16:44:01.754759Z",
     "iopub.status.busy": "2024-11-27T16:44:01.754561Z",
     "iopub.status.idle": "2024-11-27T16:44:02.783548Z",
     "shell.execute_reply": "2024-11-27T16:44:02.782610Z",
     "shell.execute_reply.started": "2024-11-27T16:44:01.754743Z"
    }
   },
   "outputs": [],
   "source": [
    "cell = \"C1\"\n",
    "ds = [\"distal\", \"proximal\"]\n",
    "p = \"unidirectional\"\n",
    "ks = [\"+\", \"-\"]"
   ]
  },
  {
   "cell_type": "code",
   "execution_count": 6,
   "id": "c417b44c-b065-4d74-949e-57f8718a5888",
   "metadata": {
    "execution": {
     "iopub.execute_input": "2024-11-27T16:44:02.785695Z",
     "iopub.status.busy": "2024-11-27T16:44:02.785468Z",
     "iopub.status.idle": "2024-11-27T16:44:04.387649Z",
     "shell.execute_reply": "2024-11-27T16:44:04.386799Z",
     "shell.execute_reply.started": "2024-11-27T16:44:02.785677Z"
    }
   },
   "outputs": [],
   "source": [
    "samples = [f\"{cell}_{n}M\" for n in [30, 20, 10, 5, 1]]"
   ]
  },
  {
   "cell_type": "markdown",
   "id": "9a2cb078-69b4-484f-8589-4247b80df961",
   "metadata": {},
   "source": [
    "## Get individual matrix"
   ]
  },
  {
   "cell_type": "code",
   "execution_count": 7,
   "id": "26bb884c-a827-495e-b616-fcdf29e9c170",
   "metadata": {
    "execution": {
     "iopub.execute_input": "2024-11-27T16:44:04.389733Z",
     "iopub.status.busy": "2024-11-27T16:44:04.389531Z",
     "iopub.status.idle": "2024-11-27T16:44:05.318850Z",
     "shell.execute_reply": "2024-11-27T16:44:05.318370Z",
     "shell.execute_reply.started": "2024-11-27T16:44:04.389716Z"
    },
    "scrolled": true
   },
   "outputs": [
    {
     "name": "stdout",
     "output_type": "stream",
     "text": [
      "sbatch /fs/cbsuhy02/storage/yc2553/yc2553/projects/TRE_directionality/softwares/procapnet/slurm/predict.sh C1 strand_merged_umap /fs/cbsuhy02/storage/yc2553/yc2553/projects/TRE_directionality/output/procapnet/ /fs/cbsuhy02/storage/yc2553/yc2553/projects/TRE_directionality/PROcap/bed_plot/C1_30M_unidirectional_distal.bed /fs/cbsuhy02/storage/yc2553/yc2553/projects/TRE_directionality/output/procapnet/prediction/C1_30M_unidirectional_distal. True 0\n",
      "sbatch /fs/cbsuhy02/storage/yc2553/yc2553/projects/TRE_directionality/softwares/procapnet/slurm/predict.sh C1 strand_merged_umap /fs/cbsuhy02/storage/yc2553/yc2553/projects/TRE_directionality/output/procapnet/ /fs/cbsuhy02/storage/yc2553/yc2553/projects/TRE_directionality/PROcap/bed_plot/C1_30M_unidirectional_proximal.bed /fs/cbsuhy02/storage/yc2553/yc2553/projects/TRE_directionality/output/procapnet/prediction/C1_30M_unidirectional_proximal. True 1\n",
      "sbatch /fs/cbsuhy02/storage/yc2553/yc2553/projects/TRE_directionality/softwares/procapnet/slurm/predict.sh C1 strand_merged_umap /fs/cbsuhy02/storage/yc2553/yc2553/projects/TRE_directionality/output/procapnet/ /fs/cbsuhy02/storage/yc2553/yc2553/projects/TRE_directionality/PROcap/bed_plot/C1_20M_unidirectional_distal.bed /fs/cbsuhy02/storage/yc2553/yc2553/projects/TRE_directionality/output/procapnet/prediction/C1_20M_unidirectional_distal. True 0\n",
      "sbatch /fs/cbsuhy02/storage/yc2553/yc2553/projects/TRE_directionality/softwares/procapnet/slurm/predict.sh C1 strand_merged_umap /fs/cbsuhy02/storage/yc2553/yc2553/projects/TRE_directionality/output/procapnet/ /fs/cbsuhy02/storage/yc2553/yc2553/projects/TRE_directionality/PROcap/bed_plot/C1_20M_unidirectional_proximal.bed /fs/cbsuhy02/storage/yc2553/yc2553/projects/TRE_directionality/output/procapnet/prediction/C1_20M_unidirectional_proximal. True 1\n",
      "sbatch /fs/cbsuhy02/storage/yc2553/yc2553/projects/TRE_directionality/softwares/procapnet/slurm/predict.sh C1 strand_merged_umap /fs/cbsuhy02/storage/yc2553/yc2553/projects/TRE_directionality/output/procapnet/ /fs/cbsuhy02/storage/yc2553/yc2553/projects/TRE_directionality/PROcap/bed_plot/C1_10M_unidirectional_distal.bed /fs/cbsuhy02/storage/yc2553/yc2553/projects/TRE_directionality/output/procapnet/prediction/C1_10M_unidirectional_distal. True 0\n",
      "sbatch /fs/cbsuhy02/storage/yc2553/yc2553/projects/TRE_directionality/softwares/procapnet/slurm/predict.sh C1 strand_merged_umap /fs/cbsuhy02/storage/yc2553/yc2553/projects/TRE_directionality/output/procapnet/ /fs/cbsuhy02/storage/yc2553/yc2553/projects/TRE_directionality/PROcap/bed_plot/C1_10M_unidirectional_proximal.bed /fs/cbsuhy02/storage/yc2553/yc2553/projects/TRE_directionality/output/procapnet/prediction/C1_10M_unidirectional_proximal. True 1\n",
      "sbatch /fs/cbsuhy02/storage/yc2553/yc2553/projects/TRE_directionality/softwares/procapnet/slurm/predict.sh C1 strand_merged_umap /fs/cbsuhy02/storage/yc2553/yc2553/projects/TRE_directionality/output/procapnet/ /fs/cbsuhy02/storage/yc2553/yc2553/projects/TRE_directionality/PROcap/bed_plot/C1_5M_unidirectional_distal.bed /fs/cbsuhy02/storage/yc2553/yc2553/projects/TRE_directionality/output/procapnet/prediction/C1_5M_unidirectional_distal. True 0\n",
      "sbatch /fs/cbsuhy02/storage/yc2553/yc2553/projects/TRE_directionality/softwares/procapnet/slurm/predict.sh C1 strand_merged_umap /fs/cbsuhy02/storage/yc2553/yc2553/projects/TRE_directionality/output/procapnet/ /fs/cbsuhy02/storage/yc2553/yc2553/projects/TRE_directionality/PROcap/bed_plot/C1_5M_unidirectional_proximal.bed /fs/cbsuhy02/storage/yc2553/yc2553/projects/TRE_directionality/output/procapnet/prediction/C1_5M_unidirectional_proximal. True 1\n",
      "sbatch /fs/cbsuhy02/storage/yc2553/yc2553/projects/TRE_directionality/softwares/procapnet/slurm/predict.sh C1 strand_merged_umap /fs/cbsuhy02/storage/yc2553/yc2553/projects/TRE_directionality/output/procapnet/ /fs/cbsuhy02/storage/yc2553/yc2553/projects/TRE_directionality/PROcap/bed_plot/C1_1M_unidirectional_distal.bed /fs/cbsuhy02/storage/yc2553/yc2553/projects/TRE_directionality/output/procapnet/prediction/C1_1M_unidirectional_distal. True 0\n",
      "sbatch /fs/cbsuhy02/storage/yc2553/yc2553/projects/TRE_directionality/softwares/procapnet/slurm/predict.sh C1 strand_merged_umap /fs/cbsuhy02/storage/yc2553/yc2553/projects/TRE_directionality/output/procapnet/ /fs/cbsuhy02/storage/yc2553/yc2553/projects/TRE_directionality/PROcap/bed_plot/C1_1M_unidirectional_proximal.bed /fs/cbsuhy02/storage/yc2553/yc2553/projects/TRE_directionality/output/procapnet/prediction/C1_1M_unidirectional_proximal. True 1\n"
     ]
    }
   ],
   "source": [
    "# Add GPU at the end\n",
    "\n",
    "script = f\"{PROJECT_DIR_s}slurm/predict.sh\"\n",
    "scale = \"True\"\n",
    "model_type = \"strand_merged_umap\"\n",
    "for s, d in itertools.product(samples, ds):\n",
    "\tinputfile = f\"{PROJECT_DIR_d}bed_plot/{s}_{p}_{d}.bed\"\n",
    "\toutput_prefix = f\"{PROJECT_DIR_o}procapnet/prediction/{s}_{p}_{d}.\"\n",
    "\tcommands = \" \".join([\"sbatch \" + script,\n",
    "\t\t\t\t\t\tcell,\n",
    "\t\t\t\t\t\tmodel_type,\n",
    "\t\t\t\t\t\tf\"{PROJECT_DIR_o}procapnet/\",\n",
    "\t\t\t\t\t\tinputfile,\n",
    "\t\t\t\t\t\toutput_prefix,\n",
    "\t\t\t\t\t\tscale,\n",
    "\t\t\t\t\t\tstr(ds.index(d))\n",
    "\t\t\t\t\t\t])\n",
    "\tprint(commands)"
   ]
  },
  {
   "cell_type": "code",
   "execution_count": 8,
   "id": "ee0dbeb7-844d-462a-a165-8678b5ce8c73",
   "metadata": {
    "execution": {
     "iopub.execute_input": "2024-11-27T16:44:05.320907Z",
     "iopub.status.busy": "2024-11-27T16:44:05.320735Z",
     "iopub.status.idle": "2024-11-27T16:44:06.676886Z",
     "shell.execute_reply": "2024-11-27T16:44:06.675901Z",
     "shell.execute_reply.started": "2024-11-27T16:44:05.320891Z"
    }
   },
   "outputs": [],
   "source": [
    "# \"*pos.bigWig\" & \"*neg.bigWig\": positive values\n",
    "\n",
    "bws = {}\n",
    "for s, d in itertools.product(samples, ds):\n",
    "\tbws[(s,d)] = {\"PROcap_pl\": f\"{PROJECT_DIR_o}procapnet/prediction/{s}_{p}_{d}.pred_profiles.pos.bigWig\",\n",
    "\t\t\t\t  \"PROcap_mn\": f\"{PROJECT_DIR_o}procapnet/prediction/{s}_{p}_{d}.pred_profiles.neg.bigWig\"\n",
    "\t\t\t\t }"
   ]
  },
  {
   "cell_type": "code",
   "execution_count": 9,
   "id": "0f58114b-99d2-4657-98a4-70a373967859",
   "metadata": {
    "execution": {
     "iopub.execute_input": "2024-11-27T16:44:06.679016Z",
     "iopub.status.busy": "2024-11-27T16:44:06.678812Z",
     "iopub.status.idle": "2024-11-27T16:44:30.339157Z",
     "shell.execute_reply": "2024-11-27T16:44:30.335913Z",
     "shell.execute_reply.started": "2024-11-27T16:44:06.679000Z"
    },
    "scrolled": true
   },
   "outputs": [],
   "source": [
    "df_features = {}\n",
    "for s, d in bws:\n",
    "\tbed = f\"{PROJECT_DIR_d}bed_plot/{s}_{p}_{d}.bed\"\n",
    "\tall_regions = BEDXReader.read_all(GenomicCollection, bed, strandfield=\"f7\")\n",
    "\tuse_strand = True\n",
    "\n",
    "\tfor m, k in itertools.product(bws[(s,d)].keys(), ks):\n",
    "\t\tregions = list(filter(lambda a: a.stranded_genomic_pos.strand==k, all_regions))\n",
    "\t\tindex = [f\"{r.chrom}_{r.chromStart}_{r.chromEnd}\" for r in regions]\n",
    "\t\tif (m == \"PROcap_pl\" and k == \"+\") or (m == \"PROcap_mn\" and k == \"-\"):\n",
    "\t\t\tsign = 1\n",
    "\t\telse:\n",
    "\t\t\tsign = -1\n",
    "\t\tdf_features[(s,d,m,k)] = sign*pd.DataFrame(bpm.generate_signal_profile(regions, BigWigIReader(bws[(s,d)][m]), fixed_size=501, use_strand=use_strand), index=index)"
   ]
  },
  {
   "cell_type": "code",
   "execution_count": 10,
   "id": "bccdd786-0d44-4329-ae20-ffa14900f1cd",
   "metadata": {
    "execution": {
     "iopub.execute_input": "2024-11-27T16:44:30.340413Z",
     "iopub.status.busy": "2024-11-27T16:44:30.340125Z",
     "iopub.status.idle": "2024-11-27T16:45:27.544230Z",
     "shell.execute_reply": "2024-11-27T16:45:27.543279Z",
     "shell.execute_reply.started": "2024-11-27T16:44:30.340391Z"
    },
    "scrolled": true
   },
   "outputs": [],
   "source": [
    "# 10-bp bins\n",
    "\n",
    "df_bins = {}\n",
    "for k in df_features:\n",
    "\tdf_bins[k] = utils.bin_values(df_features[k])"
   ]
  },
  {
   "cell_type": "code",
   "execution_count": 11,
   "id": "cf86b9ea-59a4-4fcf-b30a-803d872feb5a",
   "metadata": {
    "execution": {
     "iopub.execute_input": "2024-11-27T16:45:27.546308Z",
     "iopub.status.busy": "2024-11-27T16:45:27.545187Z",
     "iopub.status.idle": "2024-11-27T16:45:27.882243Z",
     "shell.execute_reply": "2024-11-27T16:45:27.881719Z",
     "shell.execute_reply.started": "2024-11-27T16:45:27.546284Z"
    }
   },
   "outputs": [],
   "source": [
    "df_reformat = {}\n",
    "for k in df_bins:\n",
    "\tdf = df_bins[k].reset_index()\n",
    "\tdf_reformat[k] = pd.melt(df,\n",
    "\t\t\t\t\t\t  id_vars=\"index\",\n",
    "\t\t\t\t\t\t  value_vars=list(df.columns[1:]),\n",
    "\t\t\t\t\t\t  var_name=\"Position\",\n",
    "\t\t\t\t\t\t  value_name=\"Feature\"\n",
    "\t\t\t\t\t\t  )"
   ]
  },
  {
   "cell_type": "markdown",
   "id": "3e8e3d94-0fed-452d-9137-415d98995b83",
   "metadata": {},
   "source": [
    "## Combine dataframes for plotting"
   ]
  },
  {
   "cell_type": "code",
   "execution_count": 12,
   "id": "cb05bebf-3b11-44cb-b948-404c9dd5c198",
   "metadata": {
    "execution": {
     "iopub.execute_input": "2024-11-27T16:45:27.883186Z",
     "iopub.status.busy": "2024-11-27T16:45:27.882923Z",
     "iopub.status.idle": "2024-11-27T16:45:30.176549Z",
     "shell.execute_reply": "2024-11-27T16:45:30.175990Z",
     "shell.execute_reply.started": "2024-11-27T16:45:27.883167Z"
    },
    "scrolled": true
   },
   "outputs": [],
   "source": [
    "df_metaplots = {}\n",
    "for s, d in bws:\n",
    "\t# show maximum and minimum TSS separately\n",
    "\tdf1 = pd.concat([df_reformat[(s, d, \"PROcap_pl\", \"+\")], \n",
    "\t\t\t\t\t df_reformat[(s, d, \"PROcap_mn\", \"-\")]])\n",
    "\tdf1[\"Label\"] = \"maxTSS\"\n",
    "\tdf2 = pd.concat([df_reformat[(s, d, \"PROcap_pl\", \"-\")], \n",
    "\t\t\t\t\t df_reformat[(s, d, \"PROcap_mn\", \"+\")]])\n",
    "\tdf2[\"Label\"] = \"minTSS\"\n",
    "\tdf_metaplots[(s,d)] = pd.concat([df1, df2]).reset_index(drop=True)\t"
   ]
  },
  {
   "cell_type": "markdown",
   "id": "55faa021-2c7b-490c-8e16-88259ecac135",
   "metadata": {},
   "source": [
    "# Generate metaplots"
   ]
  },
  {
   "cell_type": "markdown",
   "id": "b3f25912-e860-4ed6-92b2-31ba15d9b24e",
   "metadata": {},
   "source": [
    "## ylims"
   ]
  },
  {
   "cell_type": "code",
   "execution_count": 13,
   "id": "08ba18f1-91c3-4abe-b16f-a020c0f45e2e",
   "metadata": {
    "execution": {
     "iopub.execute_input": "2024-11-27T16:45:30.177489Z",
     "iopub.status.busy": "2024-11-27T16:45:30.177218Z",
     "iopub.status.idle": "2024-11-27T16:45:32.095180Z",
     "shell.execute_reply": "2024-11-27T16:45:32.094684Z",
     "shell.execute_reply.started": "2024-11-27T16:45:30.177470Z"
    }
   },
   "outputs": [
    {
     "name": "stdout",
     "output_type": "stream",
     "text": [
      "distal PROcap_mn 19.81123762367517 -6.256183109029338\n",
      "proximal PROcap_mn 79.83225911149665 -20.000989814368978\n"
     ]
    }
   ],
   "source": [
    "for d in ds:\n",
    "\tmaxs = []\n",
    "\tmins = []\n",
    "\tlabels = [\"maxTSS\", \"minTSS\"]\n",
    "\tfor s in samples:\n",
    "\t\tdf = df_metaplots[(s,d)]\n",
    "\t\tfor label in labels:\n",
    "\t\t\tmaxs.append(df[df[\"Label\"]==label].groupby(\"Position\")[\"Feature\"].mean().max())\n",
    "\t\t\tmins.append(df[df[\"Label\"]==label].groupby(\"Position\")[\"Feature\"].mean().min())\n",
    "\tprint(d, m, max(maxs), min(mins))"
   ]
  },
  {
   "cell_type": "code",
   "execution_count": 13,
   "id": "5cec981f-8080-4b7f-82b6-2e107a47c7ff",
   "metadata": {
    "execution": {
     "iopub.execute_input": "2024-10-30T02:06:36.905010Z",
     "iopub.status.busy": "2024-10-30T02:06:36.904723Z",
     "iopub.status.idle": "2024-10-30T02:06:38.610357Z",
     "shell.execute_reply": "2024-10-30T02:06:38.609830Z",
     "shell.execute_reply.started": "2024-10-30T02:06:36.904990Z"
    }
   },
   "outputs": [
    {
     "name": "stdout",
     "output_type": "stream",
     "text": [
      "distal PROcap_mn 19.81123762367517 -6.256183109029338\n",
      "proximal PROcap_mn 79.83225911149665 -20.000989814368978\n"
     ]
    }
   ],
   "source": [
    "for d in ds:\n",
    "\tmaxs = []\n",
    "\tmins = []\n",
    "\tlabels = [\"maxTSS\", \"minTSS\"]\n",
    "\tfor s in samples:\n",
    "\t\tdf = df_metaplots[(s,d)]\n",
    "\t\tfor label in labels:\n",
    "\t\t\tmaxs.append(df[df[\"Label\"]==label].groupby(\"Position\")[\"Feature\"].mean().max())\n",
    "\t\t\tmins.append(df[df[\"Label\"]==label].groupby(\"Position\")[\"Feature\"].mean().min())\n",
    "\tprint(d, m, max(maxs), min(mins))"
   ]
  },
  {
   "cell_type": "markdown",
   "id": "3bb2221a-50c7-4f74-a240-fddbb93047d5",
   "metadata": {},
   "source": [
    "## Generate metaplots"
   ]
  },
  {
   "cell_type": "code",
   "execution_count": 14,
   "id": "da56b161-e015-46c9-a2d3-cfeabaf754fe",
   "metadata": {
    "execution": {
     "iopub.execute_input": "2024-11-27T16:45:32.096037Z",
     "iopub.status.busy": "2024-11-27T16:45:32.095794Z",
     "iopub.status.idle": "2024-11-27T16:45:32.460383Z",
     "shell.execute_reply": "2024-11-27T16:45:32.459932Z",
     "shell.execute_reply.started": "2024-11-27T16:45:32.096020Z"
    }
   },
   "outputs": [],
   "source": [
    "def generate_metaplot(d, samples, ylims, yticks, outputfile, test, xlabel=\"Distance (kb)\"):\n",
    "\tfig, axes = plt.subplots(len(samples), 1, figsize=(2, 5.5))\n",
    "\tlabelpad = 2\n",
    "\twspace = 0.25 \n",
    "\thspace = 0.2\n",
    "\n",
    "\thue_order = [\"minTSS\", \"maxTSS\"]\n",
    "\tpalette = [\"#2c7bb6\", \"#d7191c\"]\n",
    "\n",
    "\tfor s in samples:\n",
    "\t\trow = samples.index(s)\n",
    "\t\tax = axes[row]\n",
    "\n",
    "\t\tax.axhline(y=0, color=\"#969696\", linestyle=\"--\")\n",
    "\t\tutils.generate_feature_metaplot(df_metaplots[(s,d)], palette, hue_order, ax, test)\n",
    "\t\t\t\n",
    "\t\tif row == 0:\n",
    "\t\t\tax.legend(loc=\"upper left\", title=None, fontsize=sfontsize, frameon=False,\n",
    "\t\t\t\t\t handlelength=1.0, handletextpad=0.5, labelspacing=0.2)\n",
    "\t\t\tax.set_title(\"Predicted\", fontsize=bfontsize, pad=labelpad+5, fontweight=\"bold\")\n",
    "\t\telse:\n",
    "\t\t\tax.legend([],[], frameon=False)\n",
    "\t\t\tax.set_title(\"\")\n",
    "\t\n",
    "\t\txtick_list = [0, 24, 48]\n",
    "\t\txticklabel_list = [\"-250\", \"0\", \"250\"]\n",
    "\t\tax.set_xlim([0, 48])\n",
    "\t\tax.set_xticks(xtick_list)\n",
    "\t\tif row == len(samples)-1:\n",
    "\t\t\tax.set_xlabel(xlabel, fontsize=bfontsize, fontweight=\"bold\")\n",
    "\t\t\tax.set_xticklabels(xticklabel_list)\n",
    "\t\telse:\n",
    "\t\t\tax.set_xlabel(\"\")\n",
    "\t\t\tax.set_xticklabels([])\n",
    "\n",
    "\t\tax.set_ylabel(\"\")\n",
    "\t\tax.set_ylim(ylims)\n",
    "\t\tax.set_yticks(yticks)\n",
    "\t\t\n",
    "\t\tax.tick_params(labelsize=sfontsize, pad=labelpad)\n",
    "\n",
    "\tfig.subplots_adjust(hspace=hspace)\n",
    "\tplt.savefig(outputfile, bbox_inches=\"tight\", dpi=300) "
   ]
  },
  {
   "cell_type": "code",
   "execution_count": 15,
   "id": "50f16484-abac-4a82-a840-3f99e296303e",
   "metadata": {
    "execution": {
     "iopub.execute_input": "2024-11-27T16:45:32.461156Z",
     "iopub.status.busy": "2024-11-27T16:45:32.460930Z",
     "iopub.status.idle": "2024-11-27T16:45:33.356292Z",
     "shell.execute_reply": "2024-11-27T16:45:33.355728Z",
     "shell.execute_reply.started": "2024-11-27T16:45:32.461140Z"
    },
    "scrolled": true
   },
   "outputs": [],
   "source": [
    "pwpool = ProcessWrapPool(len(ds))\n",
    "\n",
    "# test = True\n",
    "test = False\n",
    "for d in ds:\n",
    "\tif d == \"distal\":\n",
    "\t\toutputfile = f\"{PROJECT_DIR_o}supp_figures/SuppFig3b.pdf\"\n",
    "\t\tylims = [-17, 32]\n",
    "\t\tyticks = [-15, 0, 15, 30]\n",
    "\telse:\n",
    "\t\toutputfile = f\"{PROJECT_DIR_o}supp_figures/SuppFig3d.pdf\"\n",
    "\t\tylims = [-55, 100]\n",
    "\t\tyticks = [-45, 0, 45, 90]\n",
    "\tpwpool.run(generate_metaplot, args=[d, samples, ylims, yticks, outputfile, test])"
   ]
  },
  {
   "cell_type": "code",
   "execution_count": 17,
   "id": "13f2c717-db0d-4200-9333-861f14165a68",
   "metadata": {
    "execution": {
     "iopub.execute_input": "2024-11-27T16:46:40.694391Z",
     "iopub.status.busy": "2024-11-27T16:46:40.693999Z",
     "iopub.status.idle": "2024-11-27T16:46:40.698475Z",
     "shell.execute_reply": "2024-11-27T16:46:40.697908Z",
     "shell.execute_reply.started": "2024-11-27T16:46:40.694366Z"
    },
    "tags": []
   },
   "outputs": [
    {
     "data": {
      "text/plain": [
       "2"
      ]
     },
     "execution_count": 17,
     "metadata": {},
     "output_type": "execute_result"
    }
   ],
   "source": [
    "len(pwpool.finished_tasks)"
   ]
  },
  {
   "cell_type": "code",
   "execution_count": 18,
   "id": "d3e72420-9593-4881-bd80-7bfb0a1b0dcf",
   "metadata": {
    "execution": {
     "iopub.execute_input": "2024-11-27T16:46:41.336526Z",
     "iopub.status.busy": "2024-11-27T16:46:41.336286Z",
     "iopub.status.idle": "2024-11-27T16:46:42.277479Z",
     "shell.execute_reply": "2024-11-27T16:46:42.276900Z",
     "shell.execute_reply.started": "2024-11-27T16:46:41.336508Z"
    }
   },
   "outputs": [],
   "source": [
    "pwpool.close()"
   ]
  },
  {
   "cell_type": "code",
   "execution_count": null,
   "id": "d47a940d-2a6c-439f-b36a-f8e7e2016628",
   "metadata": {},
   "outputs": [],
   "source": []
  }
 ],
 "metadata": {
  "kernelspec": {
   "display_name": "Python 3 (ipykernel)",
   "language": "python",
   "name": "python3"
  },
  "language_info": {
   "codemirror_mode": {
    "name": "ipython",
    "version": 3
   },
   "file_extension": ".py",
   "mimetype": "text/x-python",
   "name": "python",
   "nbconvert_exporter": "python",
   "pygments_lexer": "ipython3",
   "version": "3.10.8"
  }
 },
 "nbformat": 4,
 "nbformat_minor": 5
}

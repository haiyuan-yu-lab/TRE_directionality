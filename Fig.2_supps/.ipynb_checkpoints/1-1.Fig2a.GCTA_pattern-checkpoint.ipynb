{
 "cells": [
  {
   "cell_type": "code",
   "execution_count": 1,
   "id": "485a6274-f3c7-4127-b199-7abade325537",
   "metadata": {
    "execution": {
     "iopub.execute_input": "2024-11-27T15:50:30.586810Z",
     "iopub.status.busy": "2024-11-27T15:50:30.586345Z",
     "iopub.status.idle": "2024-11-27T15:50:35.264699Z",
     "shell.execute_reply": "2024-11-27T15:50:35.264123Z",
     "shell.execute_reply.started": "2024-11-27T15:50:30.586785Z"
    }
   },
   "outputs": [],
   "source": [
    "import pandas as pd\n",
    "import matplotlib.pyplot as plt\n",
    "from mphelper import ProcessWrapPool\n",
    "from Bio import SeqIO\n",
    "from matplotlib.colors import LinearSegmentedColormap\n",
    "import itertools\n",
    "import json\n",
    "from biodata.bed import BEDXReader\n",
    "from genomictools import GenomicCollection"
   ]
  },
  {
   "cell_type": "code",
   "execution_count": 2,
   "id": "07a348a9-8dde-41f5-95d4-6c2ec78cd0d6",
   "metadata": {
    "execution": {
     "iopub.execute_input": "2024-11-27T15:50:35.265920Z",
     "iopub.status.busy": "2024-11-27T15:50:35.265593Z",
     "iopub.status.idle": "2024-11-27T15:50:35.270096Z",
     "shell.execute_reply": "2024-11-27T15:50:35.269666Z",
     "shell.execute_reply.started": "2024-11-27T15:50:35.265900Z"
    }
   },
   "outputs": [],
   "source": [
    "import sys\n",
    "from pathlib import Path\n",
    "sys.path.append(str(Path.cwd().parent))\n",
    "import utils"
   ]
  },
  {
   "cell_type": "code",
   "execution_count": 3,
   "id": "e5aa7b18-244f-4222-8a4c-1bf22cb4dd6d",
   "metadata": {
    "execution": {
     "iopub.execute_input": "2024-11-27T15:50:35.270820Z",
     "iopub.status.busy": "2024-11-27T15:50:35.270598Z",
     "iopub.status.idle": "2024-11-27T15:50:36.914835Z",
     "shell.execute_reply": "2024-11-27T15:50:36.914306Z",
     "shell.execute_reply.started": "2024-11-27T15:50:35.270803Z"
    }
   },
   "outputs": [],
   "source": [
    "import matplotlib\n",
    "font_dir = Path.cwd().parent / \"font\"\n",
    "for font in [\"Arial.ttf\", \"Arial_Bold.ttf\"]:\n",
    "    matplotlib.font_manager.fontManager.addfont(font_dir / font)\n",
    "matplotlib.rcParams[\"font.family\"] = \"Arial\"\n",
    "bfontsize = 12\n",
    "sfontsize = 9"
   ]
  },
  {
   "cell_type": "code",
   "execution_count": 4,
   "id": "c89db596-fae2-4921-9836-9bf8e0474897",
   "metadata": {
    "execution": {
     "iopub.execute_input": "2024-11-27T15:50:36.915971Z",
     "iopub.status.busy": "2024-11-27T15:50:36.915731Z",
     "iopub.status.idle": "2024-11-27T15:50:38.157003Z",
     "shell.execute_reply": "2024-11-27T15:50:38.156547Z",
     "shell.execute_reply.started": "2024-11-27T15:50:36.915954Z"
    },
    "tags": []
   },
   "outputs": [],
   "source": [
    "PROJECT_DIR_d = \"/fs/cbsuhy02/storage/yc2553/yc2553/projects/TRE_directionality/PROcap/\"\n",
    "PROJECT_DIR_r = \"/fs/cbsuhy02/storage/yc2553/yc2553/projects/TRE_directionality/resources/\"\n",
    "PROJECT_DIR_o = \"/fs/cbsuhy02/storage/yc2553/yc2553/projects/TRE_directionality/output/\""
   ]
  },
  {
   "cell_type": "markdown",
   "id": "dea0d7b7-00f9-423c-8f71-91c836a79d89",
   "metadata": {},
   "source": [
    "# Generate sequence matrix"
   ]
  },
  {
   "cell_type": "code",
   "execution_count": 5,
   "id": "a83bc799-086e-4f20-ac5a-cb2a4a84e828",
   "metadata": {
    "execution": {
     "iopub.execute_input": "2024-11-27T15:50:52.934778Z",
     "iopub.status.busy": "2024-11-27T15:50:52.934443Z",
     "iopub.status.idle": "2024-11-27T15:50:52.938093Z",
     "shell.execute_reply": "2024-11-27T15:50:52.937636Z",
     "shell.execute_reply.started": "2024-11-27T15:50:52.934757Z"
    }
   },
   "outputs": [],
   "source": [
    "s = \"C1\"\n",
    "ps = [\"divergent\", \"unidirectional\"]\n",
    "ds = [\"distal\", \"proximal\"]\n",
    "gs = [f\"{p}_{d}\" for p, d in itertools.product(ps, ds)]"
   ]
  },
  {
   "cell_type": "code",
   "execution_count": 6,
   "id": "e98547c5-a480-47cc-85c7-1ba842df3d7b",
   "metadata": {
    "execution": {
     "iopub.execute_input": "2024-11-27T15:50:53.786828Z",
     "iopub.status.busy": "2024-11-27T15:50:53.786570Z",
     "iopub.status.idle": "2024-11-27T15:51:14.169108Z",
     "shell.execute_reply": "2024-11-27T15:51:14.168088Z",
     "shell.execute_reply.started": "2024-11-27T15:50:53.786809Z"
    },
    "scrolled": true
   },
   "outputs": [],
   "source": [
    "# 0-based\n",
    "\n",
    "inputfile = f\"{PROJECT_DIR_r}genomes/human/GRCh38_no_alt_analysis_set_GCA_000001405.15.fasta\"\n",
    "with open(inputfile, \"r\") as f:\n",
    "\tfdict = SeqIO.to_dict(SeqIO.parse(f, \"fasta\"))"
   ]
  },
  {
   "cell_type": "code",
   "execution_count": 7,
   "id": "92cb8bfd-e3d6-4b0e-a2f2-96849a61d73a",
   "metadata": {
    "execution": {
     "iopub.execute_input": "2024-11-27T15:51:14.170588Z",
     "iopub.status.busy": "2024-11-27T15:51:14.170296Z",
     "iopub.status.idle": "2024-11-27T15:51:14.176170Z",
     "shell.execute_reply": "2024-11-27T15:51:14.175730Z",
     "shell.execute_reply.started": "2024-11-27T15:51:14.170569Z"
    }
   },
   "outputs": [],
   "source": [
    "def get_binary_sequence_matrix(inputfile, fdict):\n",
    "\t\"\"\"\n",
    "\tGet sequence content for a given peak file (G/C:1; T/A:0).  \n",
    "\tIf the forward strand has more reads, keep the original sequence; \n",
    "\tOtherwise, use the reverse complementary sequence.\n",
    "\t\"\"\"\n",
    "\t\n",
    "\tresults = []\n",
    "\tall_regions = BEDXReader.read_all(GenomicCollection, inputfile, strandfield=\"f7\")\n",
    "\tindex = [f\"{r.chrom}_{r.chromStart}_{r.chromEnd}\" for r in all_regions]\n",
    "\tfor r in all_regions:\n",
    "\t\tseq = fdict[r.chrom][r.chromStart:r.chromEnd].seq\n",
    "\t\tif r.stranded_genomic_pos.strand == \"-\":\n",
    "\t\t\tseq = seq.reverse_complement()\n",
    "\t\tseq2 = [0 if i in [\"A\", \"a\", \"T\", \"t\"] else 1 for i in seq]\n",
    "\t\tresults.append(seq2)\n",
    "\tdf = pd.DataFrame(results, index=index)\n",
    "\treturn df"
   ]
  },
  {
   "cell_type": "code",
   "execution_count": 8,
   "id": "c0834adb-160a-4fcd-a4d1-cd5b06a3a881",
   "metadata": {
    "execution": {
     "iopub.execute_input": "2024-11-27T15:51:14.176881Z",
     "iopub.status.busy": "2024-11-27T15:51:14.176672Z",
     "iopub.status.idle": "2024-11-27T15:51:23.133239Z",
     "shell.execute_reply": "2024-11-27T15:51:23.132712Z",
     "shell.execute_reply.started": "2024-11-27T15:51:14.176864Z"
    },
    "scrolled": true,
    "tags": []
   },
   "outputs": [],
   "source": [
    "df_heatmaps = {}\n",
    "for g in gs:\n",
    "\tinputfile = f\"{PROJECT_DIR_d}bed_plot/{s}_{g}.bed\"\n",
    "\tdf_heatmaps[g] = get_binary_sequence_matrix(inputfile, fdict)"
   ]
  },
  {
   "cell_type": "markdown",
   "id": "12d4d7dd-bd81-4994-a216-6dd83c47dace",
   "metadata": {},
   "source": [
    "# Generate heatmaps"
   ]
  },
  {
   "cell_type": "markdown",
   "id": "83074674-ee9b-4abe-92b1-8e91311d3cd4",
   "metadata": {},
   "source": [
    "## Settings"
   ]
  },
  {
   "cell_type": "code",
   "execution_count": 9,
   "id": "d0824af9-e99e-41d0-b31a-24ce4dfb2fc8",
   "metadata": {
    "execution": {
     "iopub.execute_input": "2024-11-27T15:51:23.134558Z",
     "iopub.status.busy": "2024-11-27T15:51:23.134301Z",
     "iopub.status.idle": "2024-11-27T15:51:23.158437Z",
     "shell.execute_reply": "2024-11-27T15:51:23.158000Z",
     "shell.execute_reply.started": "2024-11-27T15:51:23.134538Z"
    },
    "tags": []
   },
   "outputs": [
    {
     "data": {
      "image/png": "[encoded data removed]",
      "text/html": [
       "<div style=\"vertical-align: middle;\"><strong>Custom</strong> </div><div class=\"cmap\"><img alt=\"Custom colormap\" title=\"Custom\" style=\"border: 1px solid #555;\" src=\"data:image/png;base64,iVBORw0KGgoAAAANSUhEUgAAAgAAAABACAYAAABsv8+/AAAAFXRFWHRUaXRsZQBDdXN0b20gY29sb3JtYXCxbEWJAAAAG3RFWHREZXNjcmlwdGlvbgBDdXN0b20gY29sb3JtYXD4+11tAAAAMHRFWHRBdXRob3IATWF0cGxvdGxpYiB2My44LjMsIGh0dHBzOi8vbWF0cGxvdGxpYi5vcmeqnk4cAAAAMnRFWHRTb2Z0d2FyZQBNYXRwbG90bGliIHYzLjguMywgaHR0cHM6Ly9tYXRwbG90bGliLm9yZ4Q40TsAAAEqSURBVHic7dYxAYAADMAwhn/PwwU7mijo2dndfYCkmblOAI681wEAwP8MAAAEGQAACDIAABBkAAAgyAAAQJABAIAgAwAAQQYAAIIMAAAEGQAACDIAABBkAAAgyAAAQJABAIAgAwAAQQYAAIIMAAAEGQAACDIAABBkAAAgyAAAQJABAIAgAwAAQQYAAIIMAAAEGQAACDIAABBkAAAgyAAAQJABAIAgAwAAQQYAAIIMAAAEGQAACDIAABBkAAAgyAAAQJABAIAgAwAAQQYAAIIMAAAEGQAACDIAABBkAAAgyAAAQJABAIAgAwAAQQYAAIIMAAAEGQAACDIAABBkAAAgyAAAQJABAIAgAwAAQQYAAIIMAAAEGQAACDIAABBkAAAgyAAAQJABAICgD3mTBH+ei0R9AAAAAElFTkSuQmCC\"></div><div style=\"vertical-align: middle; max-width: 514px; display: flex; justify-content: space-between;\"><div style=\"float: left;\"><div title=\"#ffffffff\" style=\"display: inline-block; width: 1em; height: 1em; margin: 0; vertical-align: middle; border: 1px solid #555; background-color: #ffffffff;\"></div> under</div><div style=\"margin: 0 auto; display: inline-block;\">bad <div title=\"#00000000\" style=\"display: inline-block; width: 1em; height: 1em; margin: 0; vertical-align: middle; border: 1px solid #555; background-color: #00000000;\"></div></div><div style=\"float: right;\">over <div title=\"#000000ff\" style=\"display: inline-block; width: 1em; height: 1em; margin: 0; vertical-align: middle; border: 1px solid #555; background-color: #000000ff;\"></div></div>"
      ],
      "text/plain": [
       "<matplotlib.colors.LinearSegmentedColormap at 0x7fe67d08e680>"
      ]
     },
     "execution_count": 9,
     "metadata": {},
     "output_type": "execute_result"
    }
   ],
   "source": [
    "# Make a discrete cmap\n",
    "\n",
    "colors = (\"#ffffff\", \"#000000\")\n",
    "cmap = LinearSegmentedColormap.from_list('Custom', colors, len(colors))\n",
    "cmap"
   ]
  },
  {
   "cell_type": "markdown",
   "id": "f08bbd6f-67db-4c2f-abfc-2c3726cfb091",
   "metadata": {},
   "source": [
    "## Generate heatmaps"
   ]
  },
  {
   "cell_type": "code",
   "execution_count": 10,
   "id": "97fd6af3-1df3-42bc-8a69-6c78924bece7",
   "metadata": {
    "execution": {
     "iopub.execute_input": "2024-11-27T15:51:23.159209Z",
     "iopub.status.busy": "2024-11-27T15:51:23.158973Z",
     "iopub.status.idle": "2024-11-27T15:51:24.659827Z",
     "shell.execute_reply": "2024-11-27T15:51:24.659372Z",
     "shell.execute_reply.started": "2024-11-27T15:51:23.159191Z"
    },
    "tags": []
   },
   "outputs": [],
   "source": [
    "def generate_heatmap(d, ps, df_heatmaps, sort_file, ylims, cbar_ticks, cmap, outputfile, test, xlabel=\"Distance (bp)\"):\n",
    "\tfig, axes = plt.subplots(1, len(ps), figsize=(6, 3))\n",
    "\tlabelpad = 2\n",
    "\twspace = 0.15\n",
    "\t\n",
    "\tfor p in ps:\n",
    "\t\tcol = ps.index(p)\n",
    "\t\tax = axes[col]\n",
    "\n",
    "\t\tif col == 1:\n",
    "\t\t\tcbar = True\n",
    "\t\t\tcbar_ax = fig.add_axes([0.92, 0.7, 0.02, 0.1])\n",
    "\t\telse:\n",
    "\t\t\tcbar = False\n",
    "\t\t\tcbar_ax = None\t\n",
    "\t\tcbar_kws = {\"ticks\": cbar_ticks}\n",
    "\t\t\n",
    "\t\tutils.generate_feature_heatmap(df_heatmaps[(f\"{p}_{d}\")], ylims, cmap, cbar, cbar_ax, cbar_kws, ax, sort_file, test)\n",
    "\t\t\n",
    "\t\tif col == len(ps)-1:\n",
    "\t\t\tcbar_ax.set_yticklabels([\"A/T\", \"C/G\"])\n",
    "\t\t\tcbar_ax.spines[\"outline\"].set(visible=True, lw=1, edgecolor=\"black\")\n",
    "\n",
    "\t\tax.set_title(p.capitalize(), fontsize=bfontsize, pad=labelpad+5, fontweight=\"bold\")\n",
    "\n",
    "\t\tax.set_ylabel(\"\")\n",
    "\t\t\n",
    "\t\txtick_list = [0, 250, 500]\n",
    "\t\txticklabel_list = [\"-250\", \"0\", \"250\"]\n",
    "\t\tax.set_xlim([0, 500])\n",
    "\t\tax.set_xticks(xtick_list)\n",
    "\t\tax.set_xticklabels(xticklabel_list)\n",
    "\t\tax.set_xlabel(xlabel, fontsize=bfontsize, fontweight=\"bold\")\n",
    "\t\t\n",
    "\t\tax.tick_params(labelsize=sfontsize, pad=labelpad)\n",
    "\n",
    "\tfig.subplots_adjust(wspace=wspace)\n",
    "\tplt.savefig(outputfile, bbox_inches=\"tight\", dpi=300)"
   ]
  },
  {
   "cell_type": "code",
   "execution_count": 11,
   "id": "75ec4e1f-a229-4c41-b25e-ad0803287ed6",
   "metadata": {
    "execution": {
     "iopub.execute_input": "2024-11-27T15:51:24.660566Z",
     "iopub.status.busy": "2024-11-27T15:51:24.660329Z",
     "iopub.status.idle": "2024-11-27T15:51:25.579300Z",
     "shell.execute_reply": "2024-11-27T15:51:25.578794Z",
     "shell.execute_reply.started": "2024-11-27T15:51:24.660548Z"
    },
    "scrolled": true
   },
   "outputs": [],
   "source": [
    "pwpool = ProcessWrapPool(len(ds))\n",
    "\n",
    "# test = True\n",
    "test = False\n",
    "ylims = [0,1]\n",
    "cbar_ticks = [0.25, 0.75]\n",
    "sort_file = f\"{PROJECT_DIR_o}labels/{s}_distance_to_center.json\"\n",
    "for d in ds:\n",
    "\tfolder = \"figures/\" if d == \"distal\" else \"other_figures/\"\n",
    "\toutputfile = f\"{PROJECT_DIR_o}{folder}Fig2a.pdf\"\n",
    "\tpwpool.run(generate_heatmap, args=[d, ps, df_heatmaps, sort_file, ylims, cbar_ticks, cmap, outputfile, test])"
   ]
  },
  {
   "cell_type": "code",
   "execution_count": 14,
   "id": "6ca11e52-c60d-4fa2-be44-cadabfbb4f3d",
   "metadata": {
    "execution": {
     "iopub.execute_input": "2024-11-27T16:00:06.136916Z",
     "iopub.status.busy": "2024-11-27T16:00:06.136396Z",
     "iopub.status.idle": "2024-11-27T16:00:06.141749Z",
     "shell.execute_reply": "2024-11-27T16:00:06.141105Z",
     "shell.execute_reply.started": "2024-11-27T16:00:06.136878Z"
    },
    "tags": []
   },
   "outputs": [
    {
     "data": {
      "text/plain": [
       "2"
      ]
     },
     "execution_count": 14,
     "metadata": {},
     "output_type": "execute_result"
    }
   ],
   "source": [
    "len(pwpool.finished_tasks)"
   ]
  },
  {
   "cell_type": "code",
   "execution_count": 15,
   "id": "4656bafe-e05a-4746-9cba-9c4ee64ca283",
   "metadata": {
    "execution": {
     "iopub.execute_input": "2024-11-27T16:00:06.523063Z",
     "iopub.status.busy": "2024-11-27T16:00:06.522559Z",
     "iopub.status.idle": "2024-11-27T16:00:06.526402Z",
     "shell.execute_reply": "2024-11-27T16:00:06.525773Z",
     "shell.execute_reply.started": "2024-11-27T16:00:06.523026Z"
    }
   },
   "outputs": [],
   "source": [
    "pwpool.close()"
   ]
  },
  {
   "cell_type": "code",
   "execution_count": null,
   "id": "d47a940d-2a6c-439f-b36a-f8e7e2016628",
   "metadata": {},
   "outputs": [],
   "source": []
  }
 ],
 "metadata": {
  "kernelspec": {
   "display_name": "Python 3 (ipykernel)",
   "language": "python",
   "name": "python3"
  },
  "language_info": {
   "codemirror_mode": {
    "name": "ipython",
    "version": 3
   },
   "file_extension": ".py",
   "mimetype": "text/x-python",
   "name": "python",
   "nbconvert_exporter": "python",
   "pygments_lexer": "ipython3",
   "version": "3.10.8"
  }
 },
 "nbformat": 4,
 "nbformat_minor": 5
}

{
 "cells": [
  {
   "cell_type": "code",
   "execution_count": 1,
   "id": "536a5ac5-c6f5-4a2d-bc04-a776ab04be2f",
   "metadata": {
    "execution": {
     "iopub.execute_input": "2024-11-27T15:57:29.401091Z",
     "iopub.status.busy": "2024-11-27T15:57:29.400672Z",
     "iopub.status.idle": "2024-11-27T15:57:30.789926Z",
     "shell.execute_reply": "2024-11-27T15:57:30.789385Z",
     "shell.execute_reply.started": "2024-11-27T15:57:29.401068Z"
    }
   },
   "outputs": [],
   "source": [
    "import pandas as pd\n",
    "import matplotlib.pyplot as plt\n",
    "from mphelper import ProcessWrapPool\n",
    "from Bio import SeqIO\n",
    "import matplotlib\n",
    "from matplotlib.colors import LinearSegmentedColormap\n",
    "import itertools\n",
    "import json\n",
    "from biodata.bed import BEDXReader\n",
    "from collections import defaultdict"
   ]
  },
  {
   "cell_type": "code",
   "execution_count": 2,
   "id": "b315b91a-c46d-4eb9-84e4-10577046e618",
   "metadata": {
    "execution": {
     "iopub.execute_input": "2024-11-27T15:57:30.791035Z",
     "iopub.status.busy": "2024-11-27T15:57:30.790728Z",
     "iopub.status.idle": "2024-11-27T15:57:30.883889Z",
     "shell.execute_reply": "2024-11-27T15:57:30.883445Z",
     "shell.execute_reply.started": "2024-11-27T15:57:30.791014Z"
    }
   },
   "outputs": [],
   "source": [
    "import sys\n",
    "from pathlib import Path\n",
    "sys.path.append(str(Path.cwd().parent))\n",
    "import utils"
   ]
  },
  {
   "cell_type": "code",
   "execution_count": 3,
   "id": "8c4a59b5-e83d-485e-9ae5-f3acf418834e",
   "metadata": {
    "execution": {
     "iopub.execute_input": "2024-11-27T15:57:30.884818Z",
     "iopub.status.busy": "2024-11-27T15:57:30.884564Z",
     "iopub.status.idle": "2024-11-27T15:57:31.955578Z",
     "shell.execute_reply": "2024-11-27T15:57:31.955040Z",
     "shell.execute_reply.started": "2024-11-27T15:57:30.884800Z"
    }
   },
   "outputs": [],
   "source": [
    "import matplotlib\n",
    "font_dir = Path.cwd().parent / \"font\"\n",
    "for font in [\"Arial.ttf\", \"Arial_Bold.ttf\"]:\n",
    "    matplotlib.font_manager.fontManager.addfont(font_dir / font)\n",
    "matplotlib.rcParams[\"font.family\"] = \"Arial\"\n",
    "bfontsize = 12\n",
    "sfontsize = 9"
   ]
  },
  {
   "cell_type": "code",
   "execution_count": 4,
   "id": "44d9fea2-b533-4e2c-bcac-b9c7d9ef95ee",
   "metadata": {
    "execution": {
     "iopub.execute_input": "2024-11-27T15:57:31.956627Z",
     "iopub.status.busy": "2024-11-27T15:57:31.956404Z",
     "iopub.status.idle": "2024-11-27T15:57:33.319440Z",
     "shell.execute_reply": "2024-11-27T15:57:33.318914Z",
     "shell.execute_reply.started": "2024-11-27T15:57:31.956608Z"
    },
    "tags": []
   },
   "outputs": [],
   "source": [
    "PROJECT_DIR_d = \"/fs/cbsuhy02/storage/yc2553/yc2553/projects/TRE_directionality/PROcap/\"\n",
    "PROJECT_DIR_r = \"/fs/cbsuhy02/storage/yc2553/yc2553/projects/TRE_directionality/resources/\"\n",
    "PROJECT_DIR_o = \"/fs/cbsuhy02/storage/yc2553/yc2553/projects/TRE_directionality/output/\""
   ]
  },
  {
   "cell_type": "markdown",
   "id": "8c0c91e7-dd4e-4c10-9325-ffc8b48c0b82",
   "metadata": {},
   "source": [
    "# Get sequences"
   ]
  },
  {
   "cell_type": "code",
   "execution_count": 5,
   "id": "bb950434-7ba0-4c07-a0c2-f6e6810a706c",
   "metadata": {
    "execution": {
     "iopub.execute_input": "2024-11-27T15:57:35.534275Z",
     "iopub.status.busy": "2024-11-27T15:57:35.533950Z",
     "iopub.status.idle": "2024-11-27T15:57:35.536979Z",
     "shell.execute_reply": "2024-11-27T15:57:35.536506Z",
     "shell.execute_reply.started": "2024-11-27T15:57:35.534254Z"
    }
   },
   "outputs": [],
   "source": [
    "s = \"C1\"\n",
    "ds = [\"distal\", \"proximal\"]\n",
    "ps = [\"divergent\", \"unidirectional\"]"
   ]
  },
  {
   "cell_type": "code",
   "execution_count": 6,
   "id": "34eff66d-fdc3-4322-a463-785e56812e4f",
   "metadata": {
    "execution": {
     "iopub.execute_input": "2024-11-27T15:57:35.893061Z",
     "iopub.status.busy": "2024-11-27T15:57:35.892748Z",
     "iopub.status.idle": "2024-11-27T15:57:56.650169Z",
     "shell.execute_reply": "2024-11-27T15:57:56.648021Z",
     "shell.execute_reply.started": "2024-11-27T15:57:35.893042Z"
    },
    "scrolled": true
   },
   "outputs": [],
   "source": [
    "inputfile = f\"{PROJECT_DIR_r}genomes/human/GRCh38_no_alt_analysis_set_GCA_000001405.15.fasta\"\n",
    "with open(inputfile, \"r\") as f:\n",
    "\tfdict = SeqIO.to_dict(SeqIO.parse(f, \"fasta\"))"
   ]
  },
  {
   "cell_type": "code",
   "execution_count": 7,
   "id": "2b660663-4e44-4efa-8698-b49260dd64b2",
   "metadata": {
    "execution": {
     "iopub.execute_input": "2024-11-27T15:57:56.653312Z",
     "iopub.status.busy": "2024-11-27T15:57:56.652887Z",
     "iopub.status.idle": "2024-11-27T15:57:56.659565Z",
     "shell.execute_reply": "2024-11-27T15:57:56.658665Z",
     "shell.execute_reply.started": "2024-11-27T15:57:56.653288Z"
    }
   },
   "outputs": [],
   "source": [
    "# 100bp region\n",
    "# Divergent: anchor on maximum and minimum TSSs, separately\n",
    "# Unidirectional: anchor on one prominent TSSs\n",
    "\n",
    "def process_sequence(fdict, chrom, position, strand, tsstype, extension=50):\n",
    "\tseq = fdict[chrom][int(position)-extension:int(position)+extension+1].seq\n",
    "\tif (tsstype == \"minTSS\" and strand == \"+\") or (tsstype != \"minTSS\" and strand == \"-\"):\n",
    "\t\tseq = seq.reverse_complement()\n",
    "\treturn str(seq)"
   ]
  },
  {
   "cell_type": "code",
   "execution_count": 8,
   "id": "5df5f789-6689-4818-b297-45235c0ed776",
   "metadata": {
    "execution": {
     "iopub.execute_input": "2024-11-27T15:57:56.660564Z",
     "iopub.status.busy": "2024-11-27T15:57:56.660280Z",
     "iopub.status.idle": "2024-11-27T15:57:58.143120Z",
     "shell.execute_reply": "2024-11-27T15:57:58.141945Z",
     "shell.execute_reply.started": "2024-11-27T15:57:56.660545Z"
    },
    "scrolled": true
   },
   "outputs": [],
   "source": [
    "seqs = defaultdict(list)\n",
    "for p, d in itertools.product(ps, ds):\n",
    "\tinputfile = f\"{PROJECT_DIR_d}bed_plot/{s}_{p}_{d}.bed\"\n",
    "\tif p == \"unidirectional\":\n",
    "\t\twith BEDXReader(inputfile, [\"summit_position\", \"na\", \"strand\"], x=5) as br:\n",
    "\t\t\tfor r in br:\n",
    "\t\t\t\tseq = process_sequence(fdict, r.chrom, r.summit_position, r.strand, \"uniTSS\")\n",
    "\t\t\t\tseqs[f\"{p.capitalize()}_{d}\"].append(seq)\n",
    "\telse:\n",
    "\t\twith BEDXReader(inputfile, [\"revTSS\", \"fwdTSS\", \"strand\"], x=5) as br:\n",
    "\t\t\tfor r in br:\n",
    "\t\t\t\tif r.strand == \"+\":\n",
    "\t\t\t\t\tseq_max = process_sequence(fdict, r.chrom, r.fwdTSS, r.strand, \"maxTSS\")\n",
    "\t\t\t\t\tseq_min = process_sequence(fdict, r.chrom, r.revTSS, r.strand, \"minTSS\")\n",
    "\t\t\t\telse:\n",
    "\t\t\t\t\tseq_max = process_sequence(fdict, r.chrom, r.revTSS, r.strand, \"maxTSS\")\n",
    "\t\t\t\t\tseq_min = process_sequence(fdict, r.chrom, r.fwdTSS, r.strand, \"minTSS\")\n",
    "\t\t\t\tseqs[f\"{p.capitalize()}_maxTSS_{d}\"].append(seq_max)\n",
    "\t\t\t\tseqs[f\"{p.capitalize()}_minTSS_{d}\"].append(seq_min)"
   ]
  },
  {
   "cell_type": "code",
   "execution_count": 9,
   "id": "35397cea-d94b-4a0b-b23a-a7b516b71af7",
   "metadata": {
    "execution": {
     "iopub.execute_input": "2024-11-27T15:57:58.144883Z",
     "iopub.status.busy": "2024-11-27T15:57:58.144559Z",
     "iopub.status.idle": "2024-11-27T15:57:59.271822Z",
     "shell.execute_reply": "2024-11-27T15:57:59.270894Z",
     "shell.execute_reply.started": "2024-11-27T15:57:58.144863Z"
    },
    "scrolled": true
   },
   "outputs": [],
   "source": [
    "# Also used in \"1-3.Fig2c.Core_promoter_motifs.ipynb\"\n",
    "\n",
    "outputfile = f\"{PROJECT_DIR_o}temp/{s}_TSS_seqs.json\"\n",
    "with open(outputfile, \"w\") as f:\n",
    "\tjson.dump(seqs, f)"
   ]
  },
  {
   "cell_type": "markdown",
   "id": "1bc2f7f2-6d94-4884-a932-91649f909d84",
   "metadata": {},
   "source": [
    "# Get 3-mer counts"
   ]
  },
  {
   "cell_type": "code",
   "execution_count": 10,
   "id": "e15901cc-faac-4ecf-80bb-08f29db5e80b",
   "metadata": {
    "execution": {
     "iopub.execute_input": "2024-11-27T15:57:59.273122Z",
     "iopub.status.busy": "2024-11-27T15:57:59.272842Z",
     "iopub.status.idle": "2024-11-27T15:58:00.393032Z",
     "shell.execute_reply": "2024-11-27T15:58:00.392495Z",
     "shell.execute_reply.started": "2024-11-27T15:57:59.273103Z"
    }
   },
   "outputs": [
    {
     "data": {
      "text/plain": [
       "64"
      ]
     },
     "execution_count": 10,
     "metadata": {},
     "output_type": "execute_result"
    }
   ],
   "source": [
    "nucs = [\"A\", \"T\", \"C\", \"G\"]\n",
    "kmers = [\"\".join(kmer) for kmer in itertools.product(nucs, repeat=3)]\n",
    "len(kmers)"
   ]
  },
  {
   "cell_type": "code",
   "execution_count": 11,
   "id": "4ffcadaa-629b-412f-bec3-54d198026ac6",
   "metadata": {
    "execution": {
     "iopub.execute_input": "2024-11-27T15:58:00.394013Z",
     "iopub.status.busy": "2024-11-27T15:58:00.393729Z",
     "iopub.status.idle": "2024-11-27T15:58:04.866491Z",
     "shell.execute_reply": "2024-11-27T15:58:04.865474Z",
     "shell.execute_reply.started": "2024-11-27T15:58:00.393994Z"
    }
   },
   "outputs": [],
   "source": [
    "# Check position-specific 3-mer counts normalized to total 3-mer frequencies for a given category\n",
    "\n",
    "df_heatmaps = {}\n",
    "for k in seqs:\n",
    "\ttot = defaultdict(int)\n",
    "\tpos = {kmer: [0] * len(seqs[k][0]) for kmer in kmers}\n",
    "\t# 1bp step, 3bp window\n",
    "\tfor seq in seqs[k]:\n",
    "\t\tfor n in range(len(seq) - 2):\n",
    "\t\t\tss = seq[n:n+3]\n",
    "\t\t\ttot[ss] += 1\n",
    "\t\t\tfor n2 in range(n, n+3):\n",
    "\t\t\t\tpos[ss][n2] += 1\n",
    "\tresults = []\n",
    "\tfor kmer in kmers:\n",
    "\t\tresults.append([k/tot[kmer] for k in pos[kmer]])\n",
    "\tdf_heatmaps[k] = pd.DataFrame(results, index=kmers)"
   ]
  },
  {
   "cell_type": "markdown",
   "id": "a78ed0ed-2a47-4c9e-b424-0ab90f3f8ef8",
   "metadata": {},
   "source": [
    "# Heatmaps"
   ]
  },
  {
   "cell_type": "markdown",
   "id": "1b2a5eb2-ea84-47cc-a1f9-4004896f57f7",
   "metadata": {},
   "source": [
    "## Settings"
   ]
  },
  {
   "cell_type": "code",
   "execution_count": 12,
   "id": "6d0bcfdb-a715-4da8-87ba-e9aad7c15367",
   "metadata": {
    "execution": {
     "iopub.execute_input": "2024-11-27T15:58:04.868055Z",
     "iopub.status.busy": "2024-11-27T15:58:04.867780Z",
     "iopub.status.idle": "2024-11-27T15:58:05.358779Z",
     "shell.execute_reply": "2024-11-27T15:58:05.358206Z",
     "shell.execute_reply.started": "2024-11-27T15:58:04.868037Z"
    }
   },
   "outputs": [],
   "source": [
    "ms = [\"Divergent_maxTSS\", \"Divergent_minTSS\", \"Unidirectional\"]"
   ]
  },
  {
   "cell_type": "code",
   "execution_count": 13,
   "id": "09ccd3bf-460c-4f0e-9a7f-5dbffc9f05c0",
   "metadata": {
    "execution": {
     "iopub.execute_input": "2024-11-27T15:58:05.359717Z",
     "iopub.status.busy": "2024-11-27T15:58:05.359465Z",
     "iopub.status.idle": "2024-11-27T15:58:06.605878Z",
     "shell.execute_reply": "2024-11-27T15:58:06.605266Z",
     "shell.execute_reply.started": "2024-11-27T15:58:05.359699Z"
    }
   },
   "outputs": [
    {
     "name": "stdout",
     "output_type": "stream",
     "text": [
      "distal 0.133954857703631 0.002536556251865115\n",
      "proximal 0.15913200723327306 0.0008807985907222549\n"
     ]
    }
   ],
   "source": [
    "for d in ds:\n",
    "\tmaxs = []\n",
    "\tmins = []\n",
    "\tfor m in ms:\n",
    "\t\tmaxs.append(max(df_heatmaps[f\"{m}_{d}\"].max()))\n",
    "\t\tmins.append(min(df_heatmaps[f\"{m}_{d}\"].min()))\n",
    "\tprint(d, max(maxs), min(mins))"
   ]
  },
  {
   "cell_type": "code",
   "execution_count": 14,
   "id": "cb2f5729-870f-415b-a3e6-26ae8a289f3f",
   "metadata": {
    "execution": {
     "iopub.execute_input": "2024-11-27T15:58:06.606957Z",
     "iopub.status.busy": "2024-11-27T15:58:06.606652Z",
     "iopub.status.idle": "2024-11-27T15:58:07.976252Z",
     "shell.execute_reply": "2024-11-27T15:58:07.975734Z",
     "shell.execute_reply.started": "2024-11-27T15:58:06.606937Z"
    },
    "tags": []
   },
   "outputs": [
    {
     "data": {
      "image/png": "[encoded data removed]",
      "text/html": [
       "<div style=\"vertical-align: middle;\"><strong></strong> </div><div class=\"cmap\"><img alt=\" colormap\" title=\"\" style=\"border: 1px solid #555;\" src=\"data:image/png;base64,iVBORw0KGgoAAAANSUhEUgAAAgAAAABACAYAAABsv8+/AAAAD3RFWHRUaXRsZQAgY29sb3JtYXCKlOmYAAAAFXRFWHREZXNjcmlwdGlvbgAgY29sb3JtYXAQltASAAAAMHRFWHRBdXRob3IATWF0cGxvdGxpYiB2My44LjMsIGh0dHBzOi8vbWF0cGxvdGxpYi5vcmeqnk4cAAAAMnRFWHRTb2Z0d2FyZQBNYXRwbG90bGliIHYzLjguMywgaHR0cHM6Ly9tYXRwbG90bGliLm9yZ4Q40TsAAAHCSURBVHic7dYxUsMwFEBBwf3vbAqYzITYkRRC9XabUCjiG0vM+ziO4xhjjJ+PMRY/r9ePcffDdP3zfW7fG6/ONc7Xj9257vd5+N5kvmM2z/Z85/tMn+fhvSzOc/V7xtpzLf+db9vsnper9/KmuX6d69fvy8U82/flfJ/9+3Ixz5vO4/59Gefrt+dbe675fRl766f35U1z/fE8Xr7/5f9jm+9/8Twuv//pfXk+z/p9Gefr/+k8zu/L+T779+Xb5wAAcgQAAAQJAAAIEgAAECQAACBIAABAkAAAgCABAABBAgAAggQAAAQJAAAIEgAAECQAACBIAABAkAAAgCABAABBAgAAggQAAAQJAAAIEgAAECQAACBIAABAkAAAgCABAABBAgAAggQAAAQJAAAIEgAAECQAACBIAABAkAAAgCABAABBAgAAggQAAAQJAAAIEgAAECQAACBIAABAkAAAgCABAABBAgAAggQAAAQJAAAIEgAAECQAACBIAABAkAAAgCABAABBAgAAggQAAAQJAAAIEgAAECQAACBIAABAkAAAgCABAABBAgAAggQAAAQJAAAIEgAAECQAACBIAABAkAAAgKAv0s7zmi3ic/wAAAAASUVORK5CYII=\"></div><div style=\"vertical-align: middle; max-width: 514px; display: flex; justify-content: space-between;\"><div style=\"float: left;\"><div title=\"#ffffffff\" style=\"display: inline-block; width: 1em; height: 1em; margin: 0; vertical-align: middle; border: 1px solid #555; background-color: #ffffffff;\"></div> under</div><div style=\"margin: 0 auto; display: inline-block;\">bad <div title=\"#00000000\" style=\"display: inline-block; width: 1em; height: 1em; margin: 0; vertical-align: middle; border: 1px solid #555; background-color: #00000000;\"></div></div><div style=\"float: right;\">over <div title=\"#d7191cff\" style=\"display: inline-block; width: 1em; height: 1em; margin: 0; vertical-align: middle; border: 1px solid #555; background-color: #d7191cff;\"></div></div>"
      ],
      "text/plain": [
       "<matplotlib.colors.LinearSegmentedColormap at 0x7ff3ccb23ac0>"
      ]
     },
     "execution_count": 14,
     "metadata": {},
     "output_type": "execute_result"
    }
   ],
   "source": [
    "cvals = [0, 0.2]\n",
    "colors = [\"#ffffff\", \"#d7191c\"]\n",
    "norm=plt.Normalize(min(cvals), max(cvals))\n",
    "tuples = list(zip(map(norm, cvals), colors))\n",
    "cmap = matplotlib.colors.LinearSegmentedColormap.from_list(\"\", tuples)\n",
    "cmap"
   ]
  },
  {
   "cell_type": "markdown",
   "id": "371195e7-5154-46db-9688-86e9fd3df5bc",
   "metadata": {},
   "source": [
    "## Generate heatmaps"
   ]
  },
  {
   "cell_type": "code",
   "execution_count": 25,
   "id": "97fd6af3-1df3-42bc-8a69-6c78924bece7",
   "metadata": {
    "execution": {
     "iopub.execute_input": "2024-11-27T16:12:16.779304Z",
     "iopub.status.busy": "2024-11-27T16:12:16.778761Z",
     "iopub.status.idle": "2024-11-27T16:12:16.787948Z",
     "shell.execute_reply": "2024-11-27T16:12:16.787379Z",
     "shell.execute_reply.started": "2024-11-27T16:12:16.779276Z"
    },
    "tags": []
   },
   "outputs": [],
   "source": [
    "def generate_heatmap(d, ms, df_heatmaps, cbar_ticks, cmap, outputfile, test, xlabel=\"Distance (bp)\"):\n",
    "\tfig, axes = plt.subplots(1, len(ms), figsize=(4.5, 8))\n",
    "\tlabelpad = 2\n",
    "\twspace = 0.2\n",
    "\t\n",
    "\tfor m in ms:\n",
    "\t\tcol = ms.index(m)\n",
    "\t\tax = axes[col]\n",
    "\n",
    "\t\tif col == len(ms)-1:\n",
    "\t\t\tcbar = True\n",
    "\t\t\tcbar_ax = fig.add_axes([0.93, 0.77, 0.03, 0.1])\n",
    "\t\telse:\n",
    "\t\t\tcbar = False\n",
    "\t\t\tcbar_ax = None\t\t\t\t\t\t\n",
    "\t\tcbar_kws = {\"ticks\": cbar_ticks}\n",
    "\n",
    "\t\tyticklabels = True if col == 0 else False\n",
    "\t\tutils.generate_feature_heatmap(df_heatmaps[(f\"{m}_{d}\")], cbar_ticks, cmap, cbar, cbar_ax, cbar_kws, ax, None, test, yticklabels)\n",
    "\t\tif col == 0:\n",
    "\t\t\tax.set_yticklabels(ax.get_yticklabels(), rotation=0, fontsize=7)\n",
    "\t\tax.set_ylabel(\"\")\n",
    "\t\t\n",
    "\t\tif col == len(ms)-1:\n",
    "\t\t\tcbar_ax.set_yticklabels(cbar_ticks)\n",
    "\t\t\tcbar_ax.tick_params(axis=\"y\", labelsize=sfontsize, pad=labelpad)\n",
    "\t\t\n",
    "\t\tif \"_\" in m:\n",
    "\t\t\ttitle = f\"{m.split('_')[0]}\\n({m.split('_')[1]})\"\n",
    "\t\t\tpad = labelpad+5\n",
    "\t\telse:\n",
    "\t\t\ttitle = m\n",
    "\t\t\tpad = labelpad+10\n",
    "\t\tax.set_title(title, fontsize=bfontsize, pad=pad, fontweight=\"bold\")\n",
    "\t\t\t\n",
    "\t\txtick_list = [0, 25, 50, 75, 100]\n",
    "\t\txticklabel_list = [\"-50\", \"-25\", \"0\", \"25\", \"50\"]\n",
    "\t\tax.set_xlim([0, 100])\n",
    "\t\tax.set_xticks(xtick_list)\n",
    "\t\tax.set_xticklabels(xticklabel_list)\n",
    "\t\tax.set_xlabel(xlabel, fontsize=bfontsize, fontweight=\"bold\")\n",
    "\t\t\n",
    "\t\tax.tick_params(labelsize=sfontsize, pad=labelpad)\n",
    "\n",
    "\tfig.subplots_adjust(wspace=wspace)\n",
    "\tplt.savefig(outputfile, bbox_inches=\"tight\", dpi=300)"
   ]
  },
  {
   "cell_type": "code",
   "execution_count": 26,
   "id": "49a749c0-8983-4269-ab8d-9cbc5f15f82c",
   "metadata": {
    "execution": {
     "iopub.execute_input": "2024-11-27T16:12:17.422759Z",
     "iopub.status.busy": "2024-11-27T16:12:17.422287Z",
     "iopub.status.idle": "2024-11-27T16:12:17.535294Z",
     "shell.execute_reply": "2024-11-27T16:12:17.479753Z",
     "shell.execute_reply.started": "2024-11-27T16:12:17.422741Z"
    },
    "scrolled": true,
    "tags": []
   },
   "outputs": [],
   "source": [
    "pwpool = ProcessWrapPool(len(ds))\n",
    "\n",
    "# test = True\n",
    "test = False\n",
    "cbar_ticks = [0, 0.1, 0.2]\n",
    "for d in ds:\n",
    "\tfolder = \"figures/\" if d == \"distal\" else \"other_figures/\"\n",
    "\toutputfile = f\"{PROJECT_DIR_o}{folder}Fig2b.pdf\"\n",
    "\tpwpool.run(generate_heatmap, args=[d, ms, df_heatmaps, cbar_ticks, cmap, outputfile, test])"
   ]
  },
  {
   "cell_type": "code",
   "execution_count": 28,
   "id": "6ca11e52-c60d-4fa2-be44-cadabfbb4f3d",
   "metadata": {
    "execution": {
     "iopub.execute_input": "2024-11-27T16:13:13.419024Z",
     "iopub.status.busy": "2024-11-27T16:13:13.418602Z",
     "iopub.status.idle": "2024-11-27T16:13:13.422895Z",
     "shell.execute_reply": "2024-11-27T16:13:13.422363Z",
     "shell.execute_reply.started": "2024-11-27T16:13:13.419002Z"
    },
    "tags": []
   },
   "outputs": [
    {
     "data": {
      "text/plain": [
       "2"
      ]
     },
     "execution_count": 28,
     "metadata": {},
     "output_type": "execute_result"
    }
   ],
   "source": [
    "len(pwpool.finished_tasks)"
   ]
  },
  {
   "cell_type": "code",
   "execution_count": 29,
   "id": "4656bafe-e05a-4746-9cba-9c4ee64ca283",
   "metadata": {
    "execution": {
     "iopub.execute_input": "2024-11-27T16:13:13.909547Z",
     "iopub.status.busy": "2024-11-27T16:13:13.909272Z",
     "iopub.status.idle": "2024-11-27T16:13:13.912132Z",
     "shell.execute_reply": "2024-11-27T16:13:13.911636Z",
     "shell.execute_reply.started": "2024-11-27T16:13:13.909530Z"
    }
   },
   "outputs": [],
   "source": [
    "pwpool.close()"
   ]
  },
  {
   "cell_type": "code",
   "execution_count": null,
   "id": "961c9311-44c0-4556-9d26-99b83eb8be5b",
   "metadata": {},
   "outputs": [],
   "source": []
  }
 ],
 "metadata": {
  "kernelspec": {
   "display_name": "Python 3 (ipykernel)",
   "language": "python",
   "name": "python3"
  },
  "language_info": {
   "codemirror_mode": {
    "name": "ipython",
    "version": 3
   },
   "file_extension": ".py",
   "mimetype": "text/x-python",
   "name": "python",
   "nbconvert_exporter": "python",
   "pygments_lexer": "ipython3",
   "version": "3.10.8"
  }
 },
 "nbformat": 4,
 "nbformat_minor": 5
}

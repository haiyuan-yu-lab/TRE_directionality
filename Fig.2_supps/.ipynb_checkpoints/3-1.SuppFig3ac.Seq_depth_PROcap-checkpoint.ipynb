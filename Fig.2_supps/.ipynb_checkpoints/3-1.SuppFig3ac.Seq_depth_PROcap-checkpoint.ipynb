{
 "cells": [
  {
   "cell_type": "code",
   "execution_count": 1,
   "id": "5a6f59dd-84f0-4a76-a239-da0c6f6f77cc",
   "metadata": {
    "execution": {
     "iopub.execute_input": "2024-11-27T16:28:40.349729Z",
     "iopub.status.busy": "2024-11-27T16:28:40.349397Z",
     "iopub.status.idle": "2024-11-27T16:28:41.900723Z",
     "shell.execute_reply": "2024-11-27T16:28:41.900151Z",
     "shell.execute_reply.started": "2024-11-27T16:28:40.349707Z"
    }
   },
   "outputs": [],
   "source": [
    "from mphelper import ProcessWrapPool\n",
    "import pandas as pd\n",
    "import matplotlib.pyplot as plt\n",
    "import numpy as np\n",
    "import itertools\n",
    "import biodataplot.metaplot as bpm\n",
    "from biodata.bigwig import BigWigIReader\n",
    "from biodata.bed import BEDXReader\n",
    "from genomictools import GenomicCollection\n",
    "import pybedtools\n",
    "from collections import defaultdict"
   ]
  },
  {
   "cell_type": "code",
   "execution_count": 2,
   "id": "fd9d462f-6eb0-41fb-9c0f-e08095452cfb",
   "metadata": {
    "execution": {
     "iopub.execute_input": "2024-11-27T16:28:41.901970Z",
     "iopub.status.busy": "2024-11-27T16:28:41.901603Z",
     "iopub.status.idle": "2024-11-27T16:28:41.906053Z",
     "shell.execute_reply": "2024-11-27T16:28:41.905633Z",
     "shell.execute_reply.started": "2024-11-27T16:28:41.901950Z"
    }
   },
   "outputs": [],
   "source": [
    "import sys\n",
    "from pathlib import Path\n",
    "sys.path.append(str(Path.cwd().parent))\n",
    "import utils"
   ]
  },
  {
   "cell_type": "code",
   "execution_count": 3,
   "id": "c2099784-ae26-4088-9ffc-0690574f6a2f",
   "metadata": {
    "execution": {
     "iopub.execute_input": "2024-11-27T16:28:41.906820Z",
     "iopub.status.busy": "2024-11-27T16:28:41.906569Z",
     "iopub.status.idle": "2024-11-27T16:28:42.910042Z",
     "shell.execute_reply": "2024-11-27T16:28:42.909537Z",
     "shell.execute_reply.started": "2024-11-27T16:28:41.906801Z"
    }
   },
   "outputs": [],
   "source": [
    "import matplotlib\n",
    "font_dir = Path.cwd().parent / \"font\"\n",
    "for font in [\"Arial.ttf\", \"Arial_Bold.ttf\"]:\n",
    "    matplotlib.font_manager.fontManager.addfont(font_dir / font)\n",
    "matplotlib.rcParams[\"font.family\"] = \"Arial\"\n",
    "bfontsize = 12\n",
    "sfontsize = 9"
   ]
  },
  {
   "cell_type": "code",
   "execution_count": 4,
   "id": "3a02941b-44fb-4ae3-aa1f-6a6366d81611",
   "metadata": {
    "execution": {
     "iopub.execute_input": "2024-11-27T16:28:42.911303Z",
     "iopub.status.busy": "2024-11-27T16:28:42.911035Z",
     "iopub.status.idle": "2024-11-27T16:28:44.050676Z",
     "shell.execute_reply": "2024-11-27T16:28:44.050154Z",
     "shell.execute_reply.started": "2024-11-27T16:28:42.911284Z"
    },
    "tags": []
   },
   "outputs": [],
   "source": [
    "PROJECT_DIR_d = \"/fs/cbsuhy02/storage/yc2553/yc2553/projects/TRE_directionality/PROcap/\"\n",
    "PROJECT_DIR_o = \"/fs/cbsuhy02/storage/yc2553/yc2553/projects/TRE_directionality/output/\""
   ]
  },
  {
   "cell_type": "markdown",
   "id": "2ecffe3d-9170-418c-a2ca-22280f8c0bf4",
   "metadata": {},
   "source": [
    "# Generate feature matrix"
   ]
  },
  {
   "cell_type": "markdown",
   "id": "d81ea27d-5a0d-4cba-839e-7da98079f729",
   "metadata": {},
   "source": [
    "## Get individual matrix"
   ]
  },
  {
   "cell_type": "code",
   "execution_count": 5,
   "id": "a83bc799-086e-4f20-ac5a-cb2a4a84e828",
   "metadata": {
    "execution": {
     "iopub.execute_input": "2024-11-27T16:29:05.047386Z",
     "iopub.status.busy": "2024-11-27T16:29:05.046873Z",
     "iopub.status.idle": "2024-11-27T16:29:05.050102Z",
     "shell.execute_reply": "2024-11-27T16:29:05.049657Z",
     "shell.execute_reply.started": "2024-11-27T16:29:05.047365Z"
    }
   },
   "outputs": [],
   "source": [
    "cell = \"C1\"\n",
    "ds = [\"distal\", \"proximal\"]\n",
    "p = \"unidirectional\"\n",
    "ks = [\"+\", \"-\"]\n",
    "ms = [\"downsampled\", \"original\"]"
   ]
  },
  {
   "cell_type": "code",
   "execution_count": 6,
   "id": "11db53bb-183c-4652-a178-2832e0c4e524",
   "metadata": {
    "execution": {
     "iopub.execute_input": "2024-11-27T16:29:05.371353Z",
     "iopub.status.busy": "2024-11-27T16:29:05.371087Z",
     "iopub.status.idle": "2024-11-27T16:29:06.907189Z",
     "shell.execute_reply": "2024-11-27T16:29:06.906662Z",
     "shell.execute_reply.started": "2024-11-27T16:29:05.371335Z"
    }
   },
   "outputs": [],
   "source": [
    "samples = [f\"{cell}_{n}M\" for n in [30, 20, 10, 5, 1]]"
   ]
  },
  {
   "cell_type": "code",
   "execution_count": 7,
   "id": "02340d99-fec8-4413-b6ae-b4fbcd64a2ef",
   "metadata": {
    "execution": {
     "iopub.execute_input": "2024-11-27T16:29:06.908277Z",
     "iopub.status.busy": "2024-11-27T16:29:06.908021Z",
     "iopub.status.idle": "2024-11-27T16:29:08.345358Z",
     "shell.execute_reply": "2024-11-27T16:29:08.344833Z",
     "shell.execute_reply.started": "2024-11-27T16:29:06.908258Z"
    }
   },
   "outputs": [],
   "source": [
    "# Only focus on unidirectional elements at different sequencing depths\n",
    "# Check if they would show transcription on the other side with deeper sequencing depths\n",
    "# \"*R2_coverage_pl.bw\" & \"*R2_coverage_mn.bw\": positive values\n",
    "\n",
    "bws = {}\n",
    "for s in samples:\n",
    "\tbws[s] = {(\"downsampled\", \"PROcap_pl\"): f\"{PROJECT_DIR_d}Analysis/{s}_R2_coverage_pl.bw\",\n",
    "\t\t\t  (\"downsampled\", \"PROcap_mn\"): f\"{PROJECT_DIR_d}Analysis/{s}_R2_coverage_mn.bw\",\n",
    "\t\t\t  (\"original\", \"PROcap_pl\"): f\"{PROJECT_DIR_d}Analysis/{cell}_dedup_chr1-22-X_R2_coverage_pl.bw\",\n",
    "\t\t\t  (\"original\", \"PROcap_mn\"): f\"{PROJECT_DIR_d}Analysis/{cell}_dedup_chr1-22-X_R2_coverage_mn.bw\",\n",
    "\t\t\t }"
   ]
  },
  {
   "cell_type": "code",
   "execution_count": 8,
   "id": "0f58114b-99d2-4657-98a4-70a373967859",
   "metadata": {
    "execution": {
     "iopub.execute_input": "2024-11-27T16:29:08.346185Z",
     "iopub.status.busy": "2024-11-27T16:29:08.345946Z",
     "iopub.status.idle": "2024-11-27T16:30:01.076412Z",
     "shell.execute_reply": "2024-11-27T16:30:01.075469Z",
     "shell.execute_reply.started": "2024-11-27T16:29:08.346167Z"
    },
    "scrolled": true
   },
   "outputs": [],
   "source": [
    "df_features = defaultdict(dict)\n",
    "for s, d in itertools.product(samples, ds):\n",
    "\tbed = f\"{PROJECT_DIR_d}bed_plot/{s}_{p}_{d}.bed\"\n",
    "\tall_regions = BEDXReader.read_all(GenomicCollection, bed, strandfield=\"f7\")\n",
    "\tfor k in ks:\n",
    "\t\tregions = list(filter(lambda a: a.stranded_genomic_pos.strand==k, all_regions))\n",
    "\t\tindex = [f\"{r.chrom}_{r.chromStart}_{r.chromEnd}\" for r in regions]\n",
    "\t\tfor m in bws[s]:\n",
    "\t\t\tif (m[1] == \"PROcap_pl\" and k == \"+\") or (m[1] == \"PROcap_mn\" and k == \"-\"):\n",
    "\t\t\t\tsign = 1\n",
    "\t\t\telse:\n",
    "\t\t\t\tsign = -1\n",
    "\t\t\tdf_features[(s,d)][(m,k)] = sign*pd.DataFrame(bpm.generate_signal_profile(regions, BigWigIReader(bws[s][m]), fixed_size=1001, use_strand=True), index=index)"
   ]
  },
  {
   "cell_type": "markdown",
   "id": "ce292912-64df-4954-b47e-7e864380782e",
   "metadata": {},
   "source": [
    "## Combine dataframes for plotting"
   ]
  },
  {
   "cell_type": "code",
   "execution_count": 9,
   "id": "ac1d0899-30bc-4c1f-b9dc-c91d313acb86",
   "metadata": {
    "execution": {
     "iopub.execute_input": "2024-11-27T16:30:01.078160Z",
     "iopub.status.busy": "2024-11-27T16:30:01.077877Z",
     "iopub.status.idle": "2024-11-27T16:30:01.081037Z",
     "shell.execute_reply": "2024-11-27T16:30:01.080615Z",
     "shell.execute_reply.started": "2024-11-27T16:30:01.078141Z"
    }
   },
   "outputs": [],
   "source": [
    "ms = [\"downsampled\", \"original\"]"
   ]
  },
  {
   "cell_type": "code",
   "execution_count": 10,
   "id": "d9c27253-499d-4b26-a070-e35054460347",
   "metadata": {
    "execution": {
     "iopub.execute_input": "2024-11-27T16:30:01.081756Z",
     "iopub.status.busy": "2024-11-27T16:30:01.081535Z",
     "iopub.status.idle": "2024-11-27T16:30:07.185889Z",
     "shell.execute_reply": "2024-11-27T16:30:07.185335Z",
     "shell.execute_reply.started": "2024-11-27T16:30:01.081740Z"
    },
    "scrolled": true
   },
   "outputs": [],
   "source": [
    "df_heatmaps = defaultdict(dict)\n",
    "for s, d in df_features:\n",
    "\tfor m in ms:\n",
    "\t\tdfs = [df_features[(s,d)][((m, \"PROcap_pl\"), \"+\")] + df_features[(s,d)][((m, \"PROcap_mn\"), \"+\")],\n",
    "\t\t\t   df_features[(s,d)][((m, \"PROcap_pl\"), \"-\")] + df_features[(s,d)][((m, \"PROcap_mn\"), \"-\")]]\n",
    "\t\tdf_heatmaps[d][(s,m)] = pd.concat(dfs)"
   ]
  },
  {
   "cell_type": "markdown",
   "id": "12d4d7dd-bd81-4994-a216-6dd83c47dace",
   "metadata": {},
   "source": [
    "# Generate heatmaps"
   ]
  },
  {
   "cell_type": "markdown",
   "id": "83074674-ee9b-4abe-92b1-8e91311d3cd4",
   "metadata": {},
   "source": [
    "## Settings"
   ]
  },
  {
   "cell_type": "markdown",
   "id": "3a657a74-e660-4891-935b-6bc9858f99f4",
   "metadata": {},
   "source": [
    "### cmap"
   ]
  },
  {
   "cell_type": "code",
   "execution_count": 11,
   "id": "94c7dc5b-4631-44ce-ae35-27c7af19a055",
   "metadata": {
    "execution": {
     "iopub.execute_input": "2024-11-27T16:30:07.186764Z",
     "iopub.status.busy": "2024-11-27T16:30:07.186511Z",
     "iopub.status.idle": "2024-11-27T16:30:07.191459Z",
     "shell.execute_reply": "2024-11-27T16:30:07.191036Z",
     "shell.execute_reply.started": "2024-11-27T16:30:07.186745Z"
    }
   },
   "outputs": [],
   "source": [
    "# Set same data range as Fig.1d & SuppFig.1c\n",
    "\n",
    "cmaps = {} \n",
    "colors = [\"#2c7bb6\", \"#ffffff\", \"#d7191c\"]\n",
    "for d in ds:\n",
    "\tif d == \"distal\":\n",
    "\t\tcvals = [-40, 0, 80]\n",
    "\telse:\n",
    "\t\tcvals = [-250, 0, 500]\n",
    "\tnorm = plt.Normalize(min(cvals), max(cvals))\n",
    "\ttuples = list(zip(map(norm, cvals), colors))\n",
    "\tcmaps[d] = matplotlib.colors.LinearSegmentedColormap.from_list(\"\", tuples)"
   ]
  },
  {
   "cell_type": "markdown",
   "id": "9611cc40-4bf8-4274-8652-6151b392abdc",
   "metadata": {},
   "source": [
    "### Sorting order"
   ]
  },
  {
   "cell_type": "code",
   "execution_count": 12,
   "id": "b781a8af-1130-452a-90be-1e4ed5246889",
   "metadata": {
    "execution": {
     "iopub.execute_input": "2024-11-27T16:30:07.192165Z",
     "iopub.status.busy": "2024-11-27T16:30:07.191954Z",
     "iopub.status.idle": "2024-11-27T16:30:09.078899Z",
     "shell.execute_reply": "2024-11-27T16:30:09.078375Z",
     "shell.execute_reply.started": "2024-11-27T16:30:07.192149Z"
    },
    "scrolled": true
   },
   "outputs": [],
   "source": [
    "for s in samples:\n",
    "\tinputfiles = [f\"{PROJECT_DIR_d}bed_plot/{s}_{p}_{d}.bed\" for d in ds]\n",
    "\toutputfile = f\"{PROJECT_DIR_o}labels/{s}_distance_to_center.json\"\n",
    "\tutils.get_distance_to_center(inputfiles, outputfile)"
   ]
  },
  {
   "cell_type": "markdown",
   "id": "f08bbd6f-67db-4c2f-abfc-2c3726cfb091",
   "metadata": {},
   "source": [
    "## Generate heatmaps"
   ]
  },
  {
   "cell_type": "code",
   "execution_count": 13,
   "id": "97fd6af3-1df3-42bc-8a69-6c78924bece7",
   "metadata": {
    "execution": {
     "iopub.execute_input": "2024-11-27T16:30:09.079747Z",
     "iopub.status.busy": "2024-11-27T16:30:09.079494Z",
     "iopub.status.idle": "2024-11-27T16:30:10.094129Z",
     "shell.execute_reply": "2024-11-27T16:30:10.093617Z",
     "shell.execute_reply.started": "2024-11-27T16:30:09.079729Z"
    },
    "tags": []
   },
   "outputs": [],
   "source": [
    "def generate_heatmap(d, samples, ms, df_heatmaps, cbar_ticks, cmap, outputfile, test=False, xlabel=\"Distance (kb)\"):\n",
    "\tfig, axes = plt.subplots(len(samples), len(ms), figsize=(4.5, 5.5))\n",
    "\tlabelpad = 2\n",
    "\ty_align = -0.1\n",
    "\twspace = 0.25\n",
    "\thspace = 0.2\n",
    "\n",
    "\tfor s in samples:\n",
    "\t\trow = samples.index(s)\n",
    "\t\tfor m in ms:\n",
    "\t\t\tcol = ms.index(m)\n",
    "\t\t\tax = axes[row, col]\n",
    "\n",
    "\t\t\tif row == 0 and col == len(ms)-1:\n",
    "\t\t\t\tcbar = True\n",
    "\t\t\t\tcbar_ax = fig.add_axes([0.95, 0.77, 0.03, 0.1])\n",
    "\t\t\telse:\n",
    "\t\t\t\tcbar = False\n",
    "\t\t\t\tcbar_ax = None\t\t\t\n",
    "\t\t\tcbar_kws = {\"ticks\": cbar_ticks}\n",
    "\n",
    "\t\t\tsort_file = f\"{PROJECT_DIR_o}labels/{s}_distance_to_center.json\"\n",
    "\t\t\tutils.generate_feature_heatmap(df_heatmaps[d][(s,m)], cbar_ticks, cmap, cbar, cbar_ax, cbar_kws, ax, sort_file, test)\n",
    "\t\t\t\n",
    "\t\t\tif row == 0 and col == len(ms)-1:\n",
    "\t\t\t\tcbar_ax.set_yticklabels(cbar_ticks)\n",
    "\t\t\t\tcbar_ax.tick_params(axis=\"y\", labelsize=sfontsize, pad=labelpad)\n",
    "\t\t\t\t\n",
    "\t\t\tif row == 0:\n",
    "\t\t\t\tax.set_title(m.capitalize(), fontsize=bfontsize, pad=labelpad+5, fontweight=\"bold\")\n",
    "\n",
    "\t\t\tif col == 0:\n",
    "\t\t\t\tb = pybedtools.BedTool(f\"{PROJECT_DIR_d}bed_plot/{s}_{p}_{d}.bed\")\n",
    "\t\t\t\tylabel = f\"{s.split('_')[-1]}\\n(n={len(b)})\"\n",
    "\t\t\t\tax.set_ylabel(ylabel, fontsize=bfontsize, fontweight=\"bold\")\n",
    "\t\t\t\tax.get_yaxis().set_label_coords(y_align, 0.5)\n",
    "\t\t\telse:\n",
    "\t\t\t\tax.set_ylabel(\"\")\n",
    "\t\t\t\n",
    "\t\t\txtick_list = [0, 500, 1000]\n",
    "\t\t\txticklabel_list = [\"-0.5\", \"0\", \"0.5\"]\n",
    "\t\t\tax.set_xlim([0, 1000])\n",
    "\t\t\tax.set_xticks(xtick_list)\n",
    "\t\t\tif row == len(samples)-1:\n",
    "\t\t\t\tax.set_xticklabels(xticklabel_list)\n",
    "\t\t\t\tax.set_xlabel(xlabel, fontsize=bfontsize, fontweight=\"bold\")\n",
    "\t\t\t\t\n",
    "\t\t\telse:\n",
    "\t\t\t\tax.set_xticklabels([])\n",
    "\t\t\t\tax.set_xlabel(\"\")\n",
    "\n",
    "\t\t\tax.tick_params(labelsize=sfontsize, pad=labelpad)\n",
    "\n",
    "\tfig.subplots_adjust(wspace=wspace, hspace=hspace)\n",
    "\tplt.savefig(outputfile, bbox_inches=\"tight\", dpi=300)"
   ]
  },
  {
   "cell_type": "code",
   "execution_count": 14,
   "id": "75ec4e1f-a229-4c41-b25e-ad0803287ed6",
   "metadata": {
    "execution": {
     "iopub.execute_input": "2024-11-27T16:30:10.094939Z",
     "iopub.status.busy": "2024-11-27T16:30:10.094692Z",
     "iopub.status.idle": "2024-11-27T16:30:11.387968Z",
     "shell.execute_reply": "2024-11-27T16:30:11.387452Z",
     "shell.execute_reply.started": "2024-11-27T16:30:10.094921Z"
    },
    "scrolled": true
   },
   "outputs": [],
   "source": [
    "pwpool = ProcessWrapPool(len(ds))\n",
    "\n",
    "# test = True\n",
    "test = False\n",
    "for d in ds:\n",
    "\tif d == \"distal\":\n",
    "\t\tcbar_ticks = [-40, 0, 40, 80]\n",
    "\t\toutputfile = f\"{PROJECT_DIR_o}supp_figures/SuppFig3a.png\"\n",
    "\telse:\n",
    "\t\tcbar_ticks = [-250, 0, 250, 500]\n",
    "\t\toutputfile = f\"{PROJECT_DIR_o}supp_figures/SuppFig3c.png\"\n",
    "\tpwpool.run(generate_heatmap, args=[d, samples, ms, df_heatmaps, cbar_ticks, cmaps[d], outputfile, test])"
   ]
  },
  {
   "cell_type": "code",
   "execution_count": 17,
   "id": "6ca11e52-c60d-4fa2-be44-cadabfbb4f3d",
   "metadata": {
    "execution": {
     "iopub.execute_input": "2024-11-27T16:36:08.080536Z",
     "iopub.status.busy": "2024-11-27T16:36:08.078962Z",
     "iopub.status.idle": "2024-11-27T16:36:08.105627Z",
     "shell.execute_reply": "2024-11-27T16:36:08.105083Z",
     "shell.execute_reply.started": "2024-11-27T16:36:08.080508Z"
    },
    "tags": []
   },
   "outputs": [
    {
     "data": {
      "text/plain": [
       "2"
      ]
     },
     "execution_count": 17,
     "metadata": {},
     "output_type": "execute_result"
    }
   ],
   "source": [
    "len(pwpool.finished_tasks)"
   ]
  },
  {
   "cell_type": "code",
   "execution_count": 18,
   "id": "4656bafe-e05a-4746-9cba-9c4ee64ca283",
   "metadata": {
    "execution": {
     "iopub.execute_input": "2024-11-27T16:36:08.764438Z",
     "iopub.status.busy": "2024-11-27T16:36:08.764111Z",
     "iopub.status.idle": "2024-11-27T16:36:09.394979Z",
     "shell.execute_reply": "2024-11-27T16:36:09.394441Z",
     "shell.execute_reply.started": "2024-11-27T16:36:08.764404Z"
    }
   },
   "outputs": [],
   "source": [
    "pwpool.close()"
   ]
  },
  {
   "cell_type": "code",
   "execution_count": null,
   "id": "d47a940d-2a6c-439f-b36a-f8e7e2016628",
   "metadata": {},
   "outputs": [],
   "source": []
  }
 ],
 "metadata": {
  "kernelspec": {
   "display_name": "Python 3 (ipykernel)",
   "language": "python",
   "name": "python3"
  },
  "language_info": {
   "codemirror_mode": {
    "name": "ipython",
    "version": 3
   },
   "file_extension": ".py",
   "mimetype": "text/x-python",
   "name": "python",
   "nbconvert_exporter": "python",
   "pygments_lexer": "ipython3",
   "version": "3.10.8"
  }
 },
 "nbformat": 4,
 "nbformat_minor": 5
}

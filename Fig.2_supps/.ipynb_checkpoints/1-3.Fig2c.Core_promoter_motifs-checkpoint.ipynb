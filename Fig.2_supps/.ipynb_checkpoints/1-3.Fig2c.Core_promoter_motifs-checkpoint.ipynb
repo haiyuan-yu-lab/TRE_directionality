{
 "cells": [
  {
   "cell_type": "code",
   "execution_count": 1,
   "id": "5c1c6e38-5b83-4727-b8c5-975ff9cb51e3",
   "metadata": {
    "execution": {
     "iopub.execute_input": "2024-12-02T05:07:40.535109Z",
     "iopub.status.busy": "2024-12-02T05:07:40.534723Z",
     "iopub.status.idle": "2024-12-02T05:07:44.656460Z",
     "shell.execute_reply": "2024-12-02T05:07:44.655672Z",
     "shell.execute_reply.started": "2024-12-02T05:07:40.535084Z"
    }
   },
   "outputs": [],
   "source": [
    "import pandas as pd\n",
    "import matplotlib.pyplot as plt\n",
    "from mphelper import ProcessWrapPool\n",
    "import itertools\n",
    "import json\n",
    "from collections import defaultdict\n",
    "from matplotlib.patches import Rectangle, Patch\n",
    "from biodata.delimited import DelimitedWriter\n",
    "import subprocess\n",
    "import seaborn as sns"
   ]
  },
  {
   "cell_type": "code",
   "execution_count": 2,
   "id": "1a6348a1-d3c8-49e2-9547-003d7fc406f5",
   "metadata": {
    "execution": {
     "iopub.execute_input": "2024-12-02T05:07:44.657862Z",
     "iopub.status.busy": "2024-12-02T05:07:44.657521Z",
     "iopub.status.idle": "2024-12-02T05:07:44.663759Z",
     "shell.execute_reply": "2024-12-02T05:07:44.663342Z",
     "shell.execute_reply.started": "2024-12-02T05:07:44.657840Z"
    }
   },
   "outputs": [],
   "source": [
    "import matplotlib\n",
    "from pathlib import Path\n",
    "font_dir = Path.cwd().parent / \"font\"\n",
    "for font in [\"Arial.ttf\", \"Arial_Bold.ttf\"]:\n",
    "    matplotlib.font_manager.fontManager.addfont(font_dir / font)\n",
    "matplotlib.rcParams[\"font.family\"] = \"Arial\"\n",
    "bfontsize = 12\n",
    "sfontsize = 9"
   ]
  },
  {
   "cell_type": "code",
   "execution_count": 3,
   "id": "7d16fe82-2c6a-42cc-8c42-4bf1c77de5a4",
   "metadata": {
    "execution": {
     "iopub.execute_input": "2024-12-02T05:07:44.664486Z",
     "iopub.status.busy": "2024-12-02T05:07:44.664262Z",
     "iopub.status.idle": "2024-12-02T05:08:36.484193Z",
     "shell.execute_reply": "2024-12-02T05:08:36.483390Z",
     "shell.execute_reply.started": "2024-12-02T05:07:44.664470Z"
    },
    "tags": []
   },
   "outputs": [],
   "source": [
    "PROJECT_DIR_s = \"/fs/cbsuhy02/storage/yc2553/yc2553/projects/TRE_directionality/softwares/\"\n",
    "PROJECT_DIR_o = \"/fs/cbsuhy02/storage/yc2553/yc2553/projects/TRE_directionality/output/\""
   ]
  },
  {
   "cell_type": "markdown",
   "id": "dea0d7b7-00f9-423c-8f71-91c836a79d89",
   "metadata": {},
   "source": [
    "# Illustration of core promoter motifs"
   ]
  },
  {
   "cell_type": "code",
   "execution_count": 4,
   "id": "774f30e6-4fc4-4467-a08f-d9c39420618f",
   "metadata": {
    "execution": {
     "iopub.execute_input": "2024-11-27T15:59:08.104466Z",
     "iopub.status.busy": "2024-11-27T15:59:08.104098Z",
     "iopub.status.idle": "2024-11-27T15:59:08.485415Z",
     "shell.execute_reply": "2024-11-27T15:59:08.484962Z",
     "shell.execute_reply.started": "2024-11-27T15:59:08.104443Z"
    }
   },
   "outputs": [
    {
     "data": {
      "image/png": "[encoded data removed]",
      "text/plain": [
       "<Figure size 600x300 with 1 Axes>"
      ]
     },
     "metadata": {},
     "output_type": "display_data"
    }
   ],
   "source": [
    "fig, ax = plt.subplots(figsize=(6,3))\n",
    "plt.axis('off')\n",
    "ax.plot([-39,40], [0,0], c=\"#000000\")\n",
    "ax.set_xlim([-41,41])\n",
    "ax.set_ylim([-4,2])\n",
    "ax.plot([-39,-39], [-0.1,0.1], c=\"#000000\")\n",
    "ax.plot([40,40], [-0.1,0.1], c=\"#000000\")\n",
    "ax.plot([1,1], [0,0.5], c=\"#000000\")\n",
    "\n",
    "# +1\n",
    "ax.arrow(1, 0.5, 5, 0, head_width=0.2, head_length=0.9, facecolor=\"k\", width=0.02)\n",
    "ax.text(x=1, y=0.7, s=\"+1\", fontsize=bfontsize, fontweight=\"bold\", ha=\"center\")\n",
    "\n",
    "# Inr\n",
    "ax.add_patch(Rectangle((-2, -0.5), 5, 0.3,\n",
    "\t\t\t edgecolor = \"#000000\",\n",
    "\t\t\t facecolor = \"#fdb462\",\n",
    "\t\t\t fill=True))\n",
    "ax.text(x=1, y=-1.4, s=\"Inr \\n(-3 to +3)\", fontsize=bfontsize, fontweight=\"bold\", ha=\"center\")\n",
    "# TATA\n",
    "ax.add_patch(Rectangle((-31, -0.5), 11, 0.3,\n",
    "\t\t\t edgecolor = \"#000000\",\n",
    "\t\t\t facecolor = \"#ffed6f\",\n",
    "\t\t\t fill=True))\n",
    "ax.text(x=-25, y=-1.4, s=\"TATA \\n(-32 to -21)\", fontsize=bfontsize, fontweight=\"bold\", ha=\"center\")\n",
    "# DPR\n",
    "ax.add_patch(Rectangle((17, -0.5), 18, 0.3,\n",
    "\t\t\t edgecolor = \"#000000\",\n",
    "\t\t\t facecolor = \"#b3de69\",\n",
    "\t\t\t fill=True))\n",
    "ax.text(x=27, y=-1.4, s=\"DPR \\n(+17 to +35)\", fontsize=bfontsize, fontweight=\"bold\", ha=\"center\")\n",
    "outputfile = PROJECT_DIR_o + \"figures/Fig2c.top.pdf\"\n",
    "plt.savefig(outputfile, bbox_inches=\"tight\", dpi=300)"
   ]
  },
  {
   "cell_type": "markdown",
   "id": "7e5ceb76-fb39-4fe8-88f4-834461b73520",
   "metadata": {},
   "source": [
    "# Scan for motifs"
   ]
  },
  {
   "cell_type": "code",
   "execution_count": 4,
   "id": "1d1e6963-14d1-4e65-bd10-f39a994a4672",
   "metadata": {
    "execution": {
     "iopub.execute_input": "2024-12-02T05:08:36.485690Z",
     "iopub.status.busy": "2024-12-02T05:08:36.485386Z",
     "iopub.status.idle": "2024-12-02T05:09:00.941764Z",
     "shell.execute_reply": "2024-12-02T05:09:00.940869Z",
     "shell.execute_reply.started": "2024-12-02T05:08:36.485670Z"
    }
   },
   "outputs": [],
   "source": [
    "s = \"C1\"\n",
    "ds = [\"distal\", \"proximal\"]"
   ]
  },
  {
   "cell_type": "code",
   "execution_count": 6,
   "id": "63120970-1d29-42bd-adef-64131e967fe8",
   "metadata": {
    "execution": {
     "iopub.execute_input": "2024-12-02T05:10:07.721068Z",
     "iopub.status.busy": "2024-12-02T05:10:07.720618Z",
     "iopub.status.idle": "2024-12-02T05:10:07.742506Z",
     "shell.execute_reply": "2024-12-02T05:10:07.741904Z",
     "shell.execute_reply.started": "2024-12-02T05:10:07.721044Z"
    }
   },
   "outputs": [],
   "source": [
    "inputfile = f\"{PROJECT_DIR_o}temp/{s}_TSS_seqs.json\"\n",
    "with open(inputfile, \"r\") as f:\n",
    "\tseqs = json.load(f)"
   ]
  },
  {
   "cell_type": "markdown",
   "id": "6f5a7d73-f88b-402f-a863-817d1296b80e",
   "metadata": {},
   "source": [
    "## Inr"
   ]
  },
  {
   "cell_type": "code",
   "execution_count": 7,
   "id": "2d88b613-0385-4b6d-ba86-8c13d859cb9b",
   "metadata": {
    "execution": {
     "iopub.execute_input": "2024-12-02T05:10:10.310449Z",
     "iopub.status.busy": "2024-12-02T05:10:10.310071Z",
     "iopub.status.idle": "2024-12-02T05:10:10.314254Z",
     "shell.execute_reply": "2024-12-02T05:10:10.313687Z",
     "shell.execute_reply.started": "2024-12-02T05:10:10.310427Z"
    },
    "tags": []
   },
   "outputs": [],
   "source": [
    "# Inr (-3~+3): BBCABW\n",
    "\n",
    "def is_Inr(subseq):\n",
    "\tB = [\"G\", \"T\", \"C\"]\n",
    "\tW = [\"A\", \"T\"]\n",
    "\treturn subseq[0] in B and subseq[1] in B and subseq[2] == \"C\" and subseq[3] == \"A\" and subseq[4] in B and subseq[5] in W"
   ]
  },
  {
   "cell_type": "code",
   "execution_count": 8,
   "id": "5929ec95-8135-4798-9eca-7592f23c0a3b",
   "metadata": {
    "execution": {
     "iopub.execute_input": "2024-12-02T05:10:10.559752Z",
     "iopub.status.busy": "2024-12-02T05:10:10.559491Z",
     "iopub.status.idle": "2024-12-02T05:10:21.836859Z",
     "shell.execute_reply": "2024-12-02T05:10:21.835568Z",
     "shell.execute_reply.started": "2024-12-02T05:10:10.559734Z"
    }
   },
   "outputs": [],
   "source": [
    "n_motifs = {}\n",
    "for k in seqs:\n",
    "\tn_motifs[k] = defaultdict(int)\n",
    "\tfor seq in seqs[k]:\n",
    "\t\tsubseq = seq[50-3:50+3]\n",
    "\t\tif is_Inr(subseq):\n",
    "\t\t\tn_motifs[k][\"Inr\"] += 1"
   ]
  },
  {
   "cell_type": "markdown",
   "id": "8ae89a88-0a2a-42c2-9585-77c768c976fb",
   "metadata": {},
   "source": [
    "## TATA box and DPR"
   ]
  },
  {
   "cell_type": "markdown",
   "id": "620eb3e8-5cc7-46dc-a649-d91e8483d079",
   "metadata": {},
   "source": [
    "### Query sequences"
   ]
  },
  {
   "cell_type": "code",
   "execution_count": 9,
   "id": "b3bebd03-c10a-4cfc-b91a-b9d42224ab6d",
   "metadata": {
    "execution": {
     "iopub.execute_input": "2024-11-27T15:59:13.875956Z",
     "iopub.status.busy": "2024-11-27T15:59:13.875724Z",
     "iopub.status.idle": "2024-11-27T15:59:14.666961Z",
     "shell.execute_reply": "2024-11-27T15:59:14.666532Z",
     "shell.execute_reply.started": "2024-11-27T15:59:13.875939Z"
    }
   },
   "outputs": [],
   "source": [
    "# Query sequence data must be formatted as follows. \n",
    "# The variable names are V1 to V12 for SVRTATA (corresponding to positions −32 to −21) and \n",
    "# V1 to V19 for SVRc and SVRb (corresponding to positions from +17 to +35). \n",
    "\n",
    "def get_input_seqs(seqs, outputfile, motif):\n",
    "\twith DelimitedWriter(outputfile) as dw:\n",
    "\t\tfor seq in seqs[k]:\n",
    "\t\t\tif motif == \"TATA\":\n",
    "\t\t\t\tsubseq = seq[50-32:50-20]\n",
    "\t\t\telse:\n",
    "\t\t\t\tsubseq = seq[50+16:50+35]\n",
    "\t\t\tdw.write([subseq])"
   ]
  },
  {
   "cell_type": "code",
   "execution_count": 11,
   "id": "826089f5-1cb6-40b4-bac1-187bafb9d313",
   "metadata": {
    "execution": {
     "iopub.execute_input": "2024-12-02T05:11:09.555878Z",
     "iopub.status.busy": "2024-12-02T05:11:09.555325Z",
     "iopub.status.idle": "2024-12-02T05:11:09.558664Z",
     "shell.execute_reply": "2024-12-02T05:11:09.558151Z",
     "shell.execute_reply.started": "2024-12-02T05:11:09.555854Z"
    }
   },
   "outputs": [],
   "source": [
    "ms = [\"TATA\", \"DPR\"]"
   ]
  },
  {
   "cell_type": "code",
   "execution_count": 13,
   "id": "c6edc8c7-dbd4-4ceb-a622-873e117c4389",
   "metadata": {
    "execution": {
     "iopub.execute_input": "2024-12-02T05:11:14.960935Z",
     "iopub.status.busy": "2024-12-02T05:11:14.960366Z",
     "iopub.status.idle": "2024-12-02T05:11:33.586302Z",
     "shell.execute_reply": "2024-12-02T05:11:33.585112Z",
     "shell.execute_reply.started": "2024-12-02T05:11:14.960911Z"
    }
   },
   "outputs": [],
   "source": [
    "for m, k in itertools.product(ms, seqs):\n",
    "\toutputfile = f\"{PROJECT_DIR_o}SVR/{m}_{k}_seq.txt\"\n",
    "\tget_input_seqs(seqs, outputfile, m)"
   ]
  },
  {
   "cell_type": "markdown",
   "id": "33a09a9f-da69-407c-b597-73fbbf29f682",
   "metadata": {},
   "source": [
    "### Run prediction models"
   ]
  },
  {
   "cell_type": "code",
   "execution_count": 11,
   "id": "110f436b-1aa4-4ddf-9438-012efada907d",
   "metadata": {
    "execution": {
     "iopub.execute_input": "2024-11-27T15:59:16.266937Z",
     "iopub.status.busy": "2024-11-27T15:59:16.266691Z",
     "iopub.status.idle": "2024-11-27T15:59:17.295527Z",
     "shell.execute_reply": "2024-11-27T15:59:17.295040Z",
     "shell.execute_reply.started": "2024-11-27T15:59:16.266920Z"
    }
   },
   "outputs": [],
   "source": [
    "def predict(motif, inputfile, outputfile):\n",
    "\tscript = f\"{PROJECT_DIR_s}SVR/GSE139635_SVRpredict.R\"\n",
    "\tif motif == \"TATA\":\n",
    "\t\tmodel = f\"{PROJECT_DIR_s}SVR/GSE139635_SVRtata_TATAbox.model\"\n",
    "\telse:\n",
    "\t\tmodel = f\"{PROJECT_DIR_s}SVR/GSE139635_SVRb_DPR.model\"\n",
    "\tcommands = [\"Rscript\", script,\n",
    "\t\t\t   \"-i\", inputfile,\n",
    "\t\t\t   \"-m\", model,\n",
    "\t\t\t   \"-o\", outputfile\n",
    "\t\t\t  ]\n",
    "\tsubprocess.run(\" \".join(commands), shell=True)"
   ]
  },
  {
   "cell_type": "code",
   "execution_count": 12,
   "id": "1aa53a4c-dec2-44c8-97bd-7a32444932f7",
   "metadata": {
    "execution": {
     "iopub.execute_input": "2024-11-27T15:59:17.296287Z",
     "iopub.status.busy": "2024-11-27T15:59:17.296055Z",
     "iopub.status.idle": "2024-11-27T15:59:18.521824Z",
     "shell.execute_reply": "2024-11-27T15:59:18.521040Z",
     "shell.execute_reply.started": "2024-11-27T15:59:17.296270Z"
    },
    "scrolled": true
   },
   "outputs": [],
   "source": [
    "pwpool = ProcessWrapPool(len(ms)*len(seqs))\n",
    "\n",
    "for m, k in itertools.product(ms, seqs):\n",
    "\tinputfile = f\"{PROJECT_DIR_o}SVR/{m}_{k}_seq.txt\"\n",
    "\toutputfile = f\"{PROJECT_DIR_o}SVR/{m}_{k}_seq.predict\"\n",
    "\tpwpool.run(predict, args=[m, inputfile, outputfile])"
   ]
  },
  {
   "cell_type": "code",
   "execution_count": 14,
   "id": "6573513d-d083-4c12-a2bf-f636252cc118",
   "metadata": {
    "execution": {
     "iopub.execute_input": "2024-11-27T16:15:47.530316Z",
     "iopub.status.busy": "2024-11-27T16:15:47.529987Z",
     "iopub.status.idle": "2024-11-27T16:15:47.534274Z",
     "shell.execute_reply": "2024-11-27T16:15:47.533843Z",
     "shell.execute_reply.started": "2024-11-27T16:15:47.530293Z"
    },
    "tags": []
   },
   "outputs": [
    {
     "data": {
      "text/plain": [
       "12"
      ]
     },
     "execution_count": 14,
     "metadata": {},
     "output_type": "execute_result"
    }
   ],
   "source": [
    "len(pwpool.finished_tasks)"
   ]
  },
  {
   "cell_type": "code",
   "execution_count": 15,
   "id": "b79eacc9-b1a9-425c-bbd8-0c253d6b94f5",
   "metadata": {
    "execution": {
     "iopub.execute_input": "2024-11-27T16:15:48.751214Z",
     "iopub.status.busy": "2024-11-27T16:15:48.750962Z",
     "iopub.status.idle": "2024-11-27T16:15:48.753713Z",
     "shell.execute_reply": "2024-11-27T16:15:48.753279Z",
     "shell.execute_reply.started": "2024-11-27T16:15:48.751196Z"
    }
   },
   "outputs": [],
   "source": [
    "pwpool.close()"
   ]
  },
  {
   "cell_type": "code",
   "execution_count": 9,
   "id": "817fe08c-97eb-40ff-86ce-bb6d7128cabc",
   "metadata": {
    "execution": {
     "iopub.execute_input": "2024-12-02T05:10:21.838167Z",
     "iopub.status.busy": "2024-12-02T05:10:21.837810Z",
     "iopub.status.idle": "2024-12-02T05:10:22.743472Z",
     "shell.execute_reply": "2024-12-02T05:10:22.742807Z",
     "shell.execute_reply.started": "2024-12-02T05:10:21.838137Z"
    }
   },
   "outputs": [],
   "source": [
    "# Sequence variants with SVRb score ≥ 2 and SVRTATA score ≥ 1 are typically at least about 6 times more active than an inactive sequence, and are thus designated as “active”. \n",
    "\n",
    "cutoffs = {\"TATA\": 1, \"DPR\": 2}"
   ]
  },
  {
   "cell_type": "code",
   "execution_count": 14,
   "id": "4fd41cd2-06ea-4c40-beba-2c51f2f771cf",
   "metadata": {
    "execution": {
     "iopub.execute_input": "2024-12-02T05:11:33.587830Z",
     "iopub.status.busy": "2024-12-02T05:11:33.587481Z",
     "iopub.status.idle": "2024-12-02T05:11:35.204869Z",
     "shell.execute_reply": "2024-12-02T05:11:35.204377Z",
     "shell.execute_reply.started": "2024-12-02T05:11:33.587808Z"
    }
   },
   "outputs": [],
   "source": [
    "for m, k in itertools.product(ms, seqs):\n",
    "\tinputfile = f\"{PROJECT_DIR_o}SVR/{m}_{k}_seq.predict\"\n",
    "\tdf = pd.read_table(inputfile)\n",
    "\tdf2 = df[df[\"SVR_score\"]>=cutoffs[m]]\n",
    "\tn_motifs[k][m] = len(df2)"
   ]
  },
  {
   "cell_type": "markdown",
   "id": "860ab5b5-b2e1-4232-9f59-86469098490a",
   "metadata": {
    "tags": []
   },
   "source": [
    "## Comparison of fractions"
   ]
  },
  {
   "cell_type": "code",
   "execution_count": 15,
   "id": "ce410374-2cc6-4373-8ef1-cd8c525fdda6",
   "metadata": {
    "execution": {
     "iopub.execute_input": "2024-12-02T05:11:35.205759Z",
     "iopub.status.busy": "2024-12-02T05:11:35.205503Z",
     "iopub.status.idle": "2024-12-02T05:11:37.578946Z",
     "shell.execute_reply": "2024-12-02T05:11:37.578365Z",
     "shell.execute_reply.started": "2024-12-02T05:11:35.205740Z"
    },
    "tags": []
   },
   "outputs": [
    {
     "data": {
      "text/html": [
       "<div>\n",
       "<style scoped>\n",
       "    .dataframe tbody tr th:only-of-type {\n",
       "        vertical-align: middle;\n",
       "    }\n",
       "\n",
       "    .dataframe tbody tr th {\n",
       "        vertical-align: top;\n",
       "    }\n",
       "\n",
       "    .dataframe thead th {\n",
       "        text-align: right;\n",
       "    }\n",
       "</style>\n",
       "<table border=\"1\" class=\"dataframe\">\n",
       "  <thead>\n",
       "    <tr style=\"text-align: right;\">\n",
       "      <th></th>\n",
       "      <th>Motif</th>\n",
       "      <th>Group1</th>\n",
       "      <th>Group2</th>\n",
       "      <th>Proportion</th>\n",
       "    </tr>\n",
       "  </thead>\n",
       "  <tbody>\n",
       "    <tr>\n",
       "      <th>0</th>\n",
       "      <td>TATA</td>\n",
       "      <td>distal</td>\n",
       "      <td>Divergent (maxTSS)</td>\n",
       "      <td>15.755703</td>\n",
       "    </tr>\n",
       "    <tr>\n",
       "      <th>1</th>\n",
       "      <td>Inr</td>\n",
       "      <td>distal</td>\n",
       "      <td>Divergent (maxTSS)</td>\n",
       "      <td>30.026141</td>\n",
       "    </tr>\n",
       "  </tbody>\n",
       "</table>\n",
       "</div>"
      ],
      "text/plain": [
       "  Motif  Group1              Group2  Proportion\n",
       "0  TATA  distal  Divergent (maxTSS)   15.755703\n",
       "1   Inr  distal  Divergent (maxTSS)   30.026141"
      ]
     },
     "execution_count": 15,
     "metadata": {},
     "output_type": "execute_result"
    }
   ],
   "source": [
    "results = []\n",
    "\n",
    "order = [\"TATA\", \"Inr\", \"DPR\"] \n",
    "for k in n_motifs:\n",
    "\tfor m in order:\n",
    "\t\td = k.split(\"_\")[-1]\n",
    "\t\tif len(k.split(\"_\")) == 3:\n",
    "\t\t\tk2 = f\"{k.split('_')[0]} ({k.split('_')[1]})\"\n",
    "\t\telse:\n",
    "\t\t\tk2 = k.split('_')[0]\n",
    "\t\tresults.append([m, d, k2, n_motifs[k][m]/len(seqs[k])*100])\n",
    "df_prop = pd.DataFrame(results, columns=[\"Motif\", \"Group1\", \"Group2\", \"Proportion\"])\n",
    "df_prop.head(2)"
   ]
  },
  {
   "cell_type": "code",
   "execution_count": 16,
   "id": "d25a1025-e2d3-4a84-a04b-de8ff0ac89e9",
   "metadata": {
    "execution": {
     "iopub.execute_input": "2024-12-02T05:11:37.580296Z",
     "iopub.status.busy": "2024-12-02T05:11:37.579998Z",
     "iopub.status.idle": "2024-12-02T05:11:38.835387Z",
     "shell.execute_reply": "2024-12-02T05:11:38.834573Z",
     "shell.execute_reply.started": "2024-12-02T05:11:37.580276Z"
    }
   },
   "outputs": [],
   "source": [
    "def plot_proportions(d, outputfile):\n",
    "\tfig, ax = plt.subplots(figsize=(5.5,3))\n",
    "\tdf_prop2 = df_prop[df_prop[\"Group1\"]==d]\n",
    "\tg = sns.barplot(data=df_prop2, x=\"Motif\", y=\"Proportion\", \n",
    "\t\t\t\t\thue=\"Group2\", \n",
    "\t\t\t\t\tpalette=[\"#6a51a3\", \"#bcbddc\", \"#fccde5\"], ax=ax)\n",
    "\tg.spines[[\"right\", \"top\"]].set_visible(False)\n",
    "\tg.legend(title=\"\", loc=\"upper left\", fontsize=sfontsize, frameon=False, bbox_to_anchor=(0,1))\n",
    "\t\n",
    "\tg.set_ylim([0,50])\n",
    "\tg.set_ylabel(\"TREs with motifs (%)\", fontsize=bfontsize, fontweight=\"bold\")\n",
    "\tg.tick_params(axis=\"y\", labelsize=sfontsize)\n",
    "\t\n",
    "\tg.set_xlabel(\"\")\n",
    "\tg.tick_params(axis=\"x\", labelsize=bfontsize)\n",
    "\tfor label in g.get_xticklabels():\n",
    "\t    label.set_fontweight(\"bold\")\n",
    "\t\n",
    "\tplt.savefig(outputfile, bbox_inches=\"tight\", dpi=300)"
   ]
  },
  {
   "cell_type": "code",
   "execution_count": 17,
   "id": "c0d741d6-087e-47ca-afb5-aef38123bd65",
   "metadata": {
    "execution": {
     "iopub.execute_input": "2024-12-02T05:11:38.836613Z",
     "iopub.status.busy": "2024-12-02T05:11:38.836260Z",
     "iopub.status.idle": "2024-12-02T05:11:49.573583Z",
     "shell.execute_reply": "2024-12-02T05:11:49.573053Z",
     "shell.execute_reply.started": "2024-12-02T05:11:38.836593Z"
    },
    "scrolled": true
   },
   "outputs": [
    {
     "data": {
      "image/png": "[encoded data removed]",
      "text/plain": [
       "<Figure size 550x300 with 1 Axes>"
      ]
     },
     "metadata": {},
     "output_type": "display_data"
    },
    {
     "data": {
      "image/png": "[encoded data removed]",
      "text/plain": [
       "<Figure size 550x300 with 1 Axes>"
      ]
     },
     "metadata": {},
     "output_type": "display_data"
    }
   ],
   "source": [
    "for d in ds:\t\n",
    "\tfolder = \"figures/\" if d == \"distal\" else \"other_figures/\"\n",
    "\toutputfile = f\"{PROJECT_DIR_o}{folder}Fig2c.pdf\"\n",
    "\tplot_proportions(d, outputfile)"
   ]
  },
  {
   "cell_type": "code",
   "execution_count": null,
   "id": "89e61a4a-a656-46bf-9b8f-c16b4ac0fd84",
   "metadata": {},
   "outputs": [],
   "source": []
  }
 ],
 "metadata": {
  "kernelspec": {
   "display_name": "Python 3 (ipykernel)",
   "language": "python",
   "name": "python3"
  },
  "language_info": {
   "codemirror_mode": {
    "name": "ipython",
    "version": 3
   },
   "file_extension": ".py",
   "mimetype": "text/x-python",
   "name": "python",
   "nbconvert_exporter": "python",
   "pygments_lexer": "ipython3",
   "version": "3.10.8"
  }
 },
 "nbformat": 4,
 "nbformat_minor": 5
}

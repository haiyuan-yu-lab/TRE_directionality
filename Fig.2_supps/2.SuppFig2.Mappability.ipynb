{
 "cells": [
  {
   "cell_type": "code",
   "execution_count": 1,
   "id": "5a6f59dd-84f0-4a76-a239-da0c6f6f77cc",
   "metadata": {
    "execution": {
     "iopub.execute_input": "2024-11-27T16:19:51.972123Z",
     "iopub.status.busy": "2024-11-27T16:19:51.971914Z",
     "iopub.status.idle": "2024-11-27T16:19:54.190146Z",
     "shell.execute_reply": "2024-11-27T16:19:54.189611Z",
     "shell.execute_reply.started": "2024-11-27T16:19:51.972103Z"
    }
   },
   "outputs": [],
   "source": [
    "from mphelper import ProcessWrapPool\n",
    "import pandas as pd\n",
    "import matplotlib.pyplot as plt\n",
    "import numpy as np\n",
    "import itertools\n",
    "import biodataplot.metaplot as bpm\n",
    "from biodata.bigwig import BigWigIReader\n",
    "from biodata.bed import BEDXReader\n",
    "from genomictools import GenomicCollection\n",
    "import json\n",
    "import pysam\n",
    "import pybedtools\n",
    "import seaborn as sns"
   ]
  },
  {
   "cell_type": "code",
   "execution_count": 2,
   "id": "fd9d462f-6eb0-41fb-9c0f-e08095452cfb",
   "metadata": {
    "execution": {
     "iopub.execute_input": "2024-11-27T16:19:54.191426Z",
     "iopub.status.busy": "2024-11-27T16:19:54.191098Z",
     "iopub.status.idle": "2024-11-27T16:19:54.199513Z",
     "shell.execute_reply": "2024-11-27T16:19:54.199075Z",
     "shell.execute_reply.started": "2024-11-27T16:19:54.191401Z"
    }
   },
   "outputs": [],
   "source": [
    "import sys\n",
    "from pathlib import Path\n",
    "sys.path.append(str(Path.cwd().parent))\n",
    "import utils"
   ]
  },
  {
   "cell_type": "code",
   "execution_count": 3,
   "id": "2604ea60-529d-4aa8-8e16-4c040208057a",
   "metadata": {
    "execution": {
     "iopub.execute_input": "2024-11-27T16:19:57.414725Z",
     "iopub.status.busy": "2024-11-27T16:19:57.414465Z",
     "iopub.status.idle": "2024-11-27T16:19:57.420576Z",
     "shell.execute_reply": "2024-11-27T16:19:57.420139Z",
     "shell.execute_reply.started": "2024-11-27T16:19:57.414706Z"
    }
   },
   "outputs": [],
   "source": [
    "import matplotlib\n",
    "font_dir = Path.cwd().parent / \"font\"\n",
    "for font in [\"Arial.ttf\", \"Arial_Bold.ttf\"]:\n",
    "    matplotlib.font_manager.fontManager.addfont(font_dir / font)\n",
    "matplotlib.rcParams[\"font.family\"] = \"Arial\"\n",
    "bfontsize = 12\n",
    "sfontsize = 9"
   ]
  },
  {
   "cell_type": "code",
   "execution_count": 4,
   "id": "3a02941b-44fb-4ae3-aa1f-6a6366d81611",
   "metadata": {
    "execution": {
     "iopub.execute_input": "2024-11-27T16:19:57.421304Z",
     "iopub.status.busy": "2024-11-27T16:19:57.421079Z",
     "iopub.status.idle": "2024-11-27T16:19:58.394282Z",
     "shell.execute_reply": "2024-11-27T16:19:58.393864Z",
     "shell.execute_reply.started": "2024-11-27T16:19:57.421287Z"
    },
    "tags": []
   },
   "outputs": [],
   "source": [
    "PROJECT_DIR_d = \"/fs/cbsuhy02/storage/yc2553/yc2553/projects/TRE_directionality/PROcap/\"\n",
    "PROJECT_DIR_r = \"/fs/cbsuhy02/storage/yc2553/yc2553/projects/TRE_directionality/resources/\"\n",
    "PROJECT_DIR_o = \"/fs/cbsuhy02/storage/yc2553/yc2553/projects/TRE_directionality/output/\""
   ]
  },
  {
   "cell_type": "markdown",
   "id": "63f4d925-e3ea-4ed2-a67c-1ce8fe9fe9b4",
   "metadata": {},
   "source": [
    "# Read length distribution"
   ]
  },
  {
   "cell_type": "code",
   "execution_count": 5,
   "id": "96fb9822-c934-444e-bcbb-ff10ecf6fa06",
   "metadata": {
    "execution": {
     "iopub.execute_input": "2024-11-27T16:19:58.394987Z",
     "iopub.status.busy": "2024-11-27T16:19:58.394771Z",
     "iopub.status.idle": "2024-11-27T16:19:59.546483Z",
     "shell.execute_reply": "2024-11-27T16:19:59.546036Z",
     "shell.execute_reply.started": "2024-11-27T16:19:58.394971Z"
    }
   },
   "outputs": [],
   "source": [
    "s = \"C1\"\n",
    "ps = [\"divergent\", \"unidirectional\"]\n",
    "ds = [\"distal\", \"proximal\"]\n",
    "cs = [\"\", \"_control\"]\n",
    "gs = [f\"{p}_{d}{c}\" for p, d, c in itertools.product(ps, ds, cs)]"
   ]
  },
  {
   "cell_type": "markdown",
   "id": "f12cf13f-4422-440f-92be-768cda11d675",
   "metadata": {},
   "source": [
    "## Get read length from bam files"
   ]
  },
  {
   "cell_type": "code",
   "execution_count": 6,
   "id": "9a3e8d44-8708-48c1-8d7b-6d7c42e8bdbc",
   "metadata": {
    "execution": {
     "iopub.execute_input": "2024-11-27T16:20:05.309159Z",
     "iopub.status.busy": "2024-11-27T16:20:05.308821Z",
     "iopub.status.idle": "2024-11-27T16:32:13.453892Z",
     "shell.execute_reply": "2024-11-27T16:32:13.452877Z",
     "shell.execute_reply.started": "2024-11-27T16:20:05.309137Z"
    },
    "scrolled": true
   },
   "outputs": [],
   "source": [
    "# Only focus on R2 (this is what we used to generate 5' end bigwig files)\n",
    "\n",
    "bam_in = f\"{PROJECT_DIR_d}Analysis/{s}_dedup_chr1-22-X_R2.bam\"\n",
    "with pysam.AlignmentFile(bam_in, \"rb\") as samfile:\n",
    "    results = [\n",
    "        [read.reference_name, read.reference_start, read.reference_end, read.query_name, read.query_length]\n",
    "        for read in samfile.fetch()\n",
    "    ]\n",
    "df = pd.DataFrame(results)\n",
    "outputfile = f\"{PROJECT_DIR_d}Analysis/{s}_R2_lengths.bed.gz\"\n",
    "df.to_csv(outputfile, index=False, header=None, sep=\"\\t\", compression=\"gzip\")"
   ]
  },
  {
   "cell_type": "markdown",
   "id": "f00a7631-4b02-4c56-a695-84dbe4608c71",
   "metadata": {},
   "source": [
    "## Get read length distribution"
   ]
  },
  {
   "cell_type": "code",
   "execution_count": 7,
   "id": "33371178-9c0d-461c-a629-987f9912a3d6",
   "metadata": {
    "execution": {
     "iopub.execute_input": "2024-11-27T16:32:13.455453Z",
     "iopub.status.busy": "2024-11-27T16:32:13.455151Z",
     "iopub.status.idle": "2024-11-27T17:10:01.845808Z",
     "shell.execute_reply": "2024-11-27T17:10:01.843466Z",
     "shell.execute_reply.started": "2024-11-27T16:32:13.455433Z"
    },
    "tags": []
   },
   "outputs": [],
   "source": [
    "b1 = pybedtools.BedTool(f\"{PROJECT_DIR_d}Analysis/{s}_R2_lengths.bed.gz\")\n",
    "results = []\n",
    "for p, d in itertools.product(ps, ds):\n",
    "\tb2 = pybedtools.BedTool(f\"{PROJECT_DIR_d}bed_plot/{s}_{p}_{d}.bed\")\n",
    "\toverlap = b1.intersect(b2, wao=True)\n",
    "\trs = set()\n",
    "\tfor i in overlap:\n",
    "\t\tregion = tuple(i.fields[:3])\n",
    "\t\tif int(i.fields[-1]) > 0 and region not in rs:\n",
    "\t\t\tresults.append([p.capitalize(), d.capitalize(), int(i.fields[4])])\n",
    "\t\t\trs.add(region)\n",
    "df_len = pd.DataFrame(results, columns=[\"Group\", \"Subgroup\", \"Length\"])"
   ]
  },
  {
   "cell_type": "code",
   "execution_count": 8,
   "id": "5c7d1deb-29d2-418b-9524-b23d91fdaa69",
   "metadata": {
    "execution": {
     "iopub.execute_input": "2024-11-27T17:10:01.849795Z",
     "iopub.status.busy": "2024-11-27T17:10:01.849486Z",
     "iopub.status.idle": "2024-11-27T17:17:20.676907Z",
     "shell.execute_reply": "2024-11-27T17:17:20.676353Z",
     "shell.execute_reply.started": "2024-11-27T17:10:01.849775Z"
    },
    "tags": []
   },
   "outputs": [
    {
     "data": {
      "image/png": "[encoded data removed]",
      "text/plain": [
       "<Figure size 520x240 with 1 Axes>"
      ]
     },
     "metadata": {},
     "output_type": "display_data"
    }
   ],
   "source": [
    "fig, ax = plt.subplots(figsize=(5.2,2.4))\n",
    "\n",
    "hue_plot_params = {\n",
    "\t\t\t\t\t\"data\": df_len,\n",
    "\t\t\t\t\t\"x\": \"Subgroup\",\n",
    "\t\t\t\t\t\"y\": \"Length\",\n",
    "\t\t\t\t\t\"order\": [\"Distal\", \"Proximal\"],\n",
    "\t\t\t\t\t\"hue\": \"Group\",\n",
    "\t\t\t\t\t\"hue_order\": [\"Divergent\", \"Unidirectional\"],\n",
    "\t\t\t\t\t\"palette\": [\"#9e9ac8\", \"#fccde5\"]\n",
    "\t\t\t\t\t}\n",
    "g = sns.violinplot(**hue_plot_params, ax=ax)\n",
    "\n",
    "g.legend(bbox_to_anchor=(1.02, 1), loc=\"upper left\", fontsize=sfontsize)\n",
    "g.set_ylabel(\"Read length (bp)\", fontsize=bfontsize, fontweight=\"bold\")\n",
    "g.tick_params(axis=\"y\", labelsize=sfontsize)\n",
    "\n",
    "g.set_xlabel(\"\")\n",
    "g.tick_params(axis=\"x\", labelsize=bfontsize)\n",
    "for label in g.get_xticklabels():\n",
    "    label.set_fontweight('bold')\n",
    "\n",
    "for k in [24, 36, 50]:\n",
    "\tg.axhline(y=k, color=\"#808080\", ls=\"--\")\n",
    "\tg.text(1.6, k-4, f\"k = {k} bp\", fontsize=sfontsize, color=\"#575757\")\n",
    "\n",
    "outputfile = f\"{PROJECT_DIR_o}supp_figures/SuppFig2a.pdf\"\n",
    "plt.savefig(outputfile, bbox_inches = \"tight\", dpi=300)"
   ]
  },
  {
   "cell_type": "markdown",
   "id": "d0406638-edd1-4e9c-9b65-b1b3f040adc2",
   "metadata": {},
   "source": [
    "# Generate feature matrix"
   ]
  },
  {
   "cell_type": "markdown",
   "id": "165b6a29-c610-4db9-9b63-73b4bb4e8285",
   "metadata": {},
   "source": [
    "## Get individual matrix"
   ]
  },
  {
   "cell_type": "code",
   "execution_count": 9,
   "id": "a0fd8500-d812-4fda-a894-e2d7bf08d65e",
   "metadata": {
    "execution": {
     "iopub.execute_input": "2024-11-27T17:17:20.678667Z",
     "iopub.status.busy": "2024-11-27T17:17:20.678246Z",
     "iopub.status.idle": "2024-11-27T17:17:20.684706Z",
     "shell.execute_reply": "2024-11-27T17:17:20.684233Z",
     "shell.execute_reply.started": "2024-11-27T17:17:20.678646Z"
    }
   },
   "outputs": [],
   "source": [
    "bws = {}\n",
    "ms = [\"k24\", \"k36\", \"k50\"]\n",
    "for m in ms:\n",
    "\tbws[m] = f\"{PROJECT_DIR_r}other/mappability/{m}.Umap.MultiTrackMappability.bw\""
   ]
  },
  {
   "cell_type": "code",
   "execution_count": 10,
   "id": "0f58114b-99d2-4657-98a4-70a373967859",
   "metadata": {
    "execution": {
     "iopub.execute_input": "2024-11-27T17:17:20.686946Z",
     "iopub.status.busy": "2024-11-27T17:17:20.686733Z",
     "iopub.status.idle": "2024-11-27T17:21:45.358082Z",
     "shell.execute_reply": "2024-11-27T17:21:45.357062Z",
     "shell.execute_reply.started": "2024-11-27T17:17:20.686927Z"
    },
    "scrolled": true
   },
   "outputs": [],
   "source": [
    "df_features = {}\n",
    "for g in gs:\n",
    "\tbed = f\"{PROJECT_DIR_d}bed_plot/{s}_{g}.bed\"\n",
    "\tif \"control\" in bed:\n",
    "\t\tall_regions = BEDXReader.read_all(GenomicCollection, bed)\n",
    "\t\tuse_strand = False\n",
    "\telse:\n",
    "\t\tall_regions = BEDXReader.read_all(GenomicCollection, bed, strandfield=\"f7\")\n",
    "\t\tuse_strand = True\n",
    "\tindex = [f\"{r.chrom}_{r.chromStart}_{r.chromEnd}\" for r in all_regions]\n",
    "\n",
    "\tfor m in bws:\n",
    "\t\tdf_features[(m,g)] = pd.DataFrame(bpm.generate_signal_profile(all_regions, BigWigIReader(bws[m]), fixed_size=1001, use_strand=use_strand), index=index)"
   ]
  },
  {
   "cell_type": "code",
   "execution_count": 11,
   "id": "cf86b9ea-59a4-4fcf-b30a-803d872feb5a",
   "metadata": {
    "execution": {
     "iopub.execute_input": "2024-11-27T17:21:45.359381Z",
     "iopub.status.busy": "2024-11-27T17:21:45.359090Z",
     "iopub.status.idle": "2024-11-27T17:28:16.706150Z",
     "shell.execute_reply": "2024-11-27T17:28:16.704179Z",
     "shell.execute_reply.started": "2024-11-27T17:21:45.359362Z"
    }
   },
   "outputs": [],
   "source": [
    "df_reformat = {}\n",
    "for k in df_features:\n",
    "\tdf = df_features[k].reset_index()\n",
    "\tdf_reformat[k] = pd.melt(df,\n",
    "\t\t\t\t\t\t  id_vars=\"index\",\n",
    "\t\t\t\t\t\t  value_vars=list(df.columns[1:]),\n",
    "\t\t\t\t\t\t  var_name=\"Position\",\n",
    "\t\t\t\t\t\t  value_name=\"Feature\"\n",
    "\t\t\t\t\t\t  )"
   ]
  },
  {
   "cell_type": "markdown",
   "id": "b17af9ff-c5dc-4025-b7dd-5045042d052d",
   "metadata": {},
   "source": [
    "## Combine dataframes for plotting"
   ]
  },
  {
   "cell_type": "code",
   "execution_count": 12,
   "id": "cb05bebf-3b11-44cb-b948-404c9dd5c198",
   "metadata": {
    "execution": {
     "iopub.execute_input": "2024-11-27T17:28:16.708362Z",
     "iopub.status.busy": "2024-11-27T17:28:16.708076Z",
     "iopub.status.idle": "2024-11-27T17:30:48.796565Z",
     "shell.execute_reply": "2024-11-27T17:30:48.795416Z",
     "shell.execute_reply.started": "2024-11-27T17:28:16.708342Z"
    },
    "scrolled": true
   },
   "outputs": [],
   "source": [
    "df_metaplots = {}\n",
    "for m, d in itertools.product(ms, ds):\n",
    "\tdfs = []\n",
    "\tfor p in ps:\n",
    "\t\tdf1 = df_reformat[(m, f\"{p}_{d}\")].copy()\n",
    "\t\tdf1[\"Label\"] = p.capitalize()\n",
    "\t\tdf2 = df_reformat[(m, f\"{p}_{d}_control\")].copy()\n",
    "\t\tdf2[\"Label\"] = \"Ctrl\"\n",
    "\t\tdfs.extend([df1, df2])\n",
    "\tdf_metaplots[(m,d)] = pd.concat(dfs).reset_index(drop=True)\t"
   ]
  },
  {
   "cell_type": "markdown",
   "id": "06685bcf-4133-40b1-80b9-2e2dc6c4859d",
   "metadata": {},
   "source": [
    "# Generate metaplots & heatmaps"
   ]
  },
  {
   "cell_type": "markdown",
   "id": "311a343d-fe66-4b1f-9fd3-afdbcd876b3f",
   "metadata": {},
   "source": [
    "## Settings"
   ]
  },
  {
   "cell_type": "markdown",
   "id": "1221a6ec-5597-47cb-bfaf-61c5d70662c5",
   "metadata": {},
   "source": [
    "### ylims"
   ]
  },
  {
   "cell_type": "code",
   "execution_count": 13,
   "id": "bb4944a1-f2e3-4e5e-9bbb-7ff1d38022e6",
   "metadata": {
    "execution": {
     "iopub.execute_input": "2024-11-27T17:30:48.797893Z",
     "iopub.status.busy": "2024-11-27T17:30:48.797598Z",
     "iopub.status.idle": "2024-11-27T17:31:56.865418Z",
     "shell.execute_reply": "2024-11-27T17:31:56.864551Z",
     "shell.execute_reply.started": "2024-11-27T17:30:48.797874Z"
    },
    "tags": []
   },
   "outputs": [
    {
     "name": "stdout",
     "output_type": "stream",
     "text": [
      "distal k24 0.9183400664637892 0.7738940392791289\n",
      "proximal k24 0.9637759435540546 0.7675459825584353\n",
      "distal k36 0.966693218310445 0.8601807770406014\n",
      "proximal k36 0.9821564861493416 0.8553108529168806\n",
      "distal k50 0.9884340736228477 0.9140850245575504\n",
      "proximal k50 0.9908435582954642 0.9104007743216063\n"
     ]
    }
   ],
   "source": [
    "labels = [\"Ctrl\", \"Divergent\", \"Unidirectional\"]\n",
    "for m, d in itertools.product(ms, ds):\n",
    "\tmaxs = []\n",
    "\tmins = []\n",
    "\tdf = df_metaplots[(m,d)]\n",
    "\tfor label in labels:\n",
    "\t\tmaxs.append(df[df[\"Label\"]==label].groupby(\"Position\")[\"Feature\"].mean().max())\n",
    "\t\tmins.append(df[df[\"Label\"]==label].groupby(\"Position\")[\"Feature\"].mean().min())\n",
    "\tprint(d, m, max(maxs), min(mins))"
   ]
  },
  {
   "cell_type": "markdown",
   "id": "32802e98-12f2-4530-b848-545dd2ff6f24",
   "metadata": {},
   "source": [
    "### Colorbar"
   ]
  },
  {
   "cell_type": "code",
   "execution_count": 14,
   "id": "7d3360f6-ac13-49ea-babd-919a86a49cc7",
   "metadata": {
    "execution": {
     "iopub.execute_input": "2024-11-27T17:31:56.868016Z",
     "iopub.status.busy": "2024-11-27T17:31:56.867733Z",
     "iopub.status.idle": "2024-11-27T17:31:56.880445Z",
     "shell.execute_reply": "2024-11-27T17:31:56.880053Z",
     "shell.execute_reply.started": "2024-11-27T17:31:56.867997Z"
    },
    "tags": []
   },
   "outputs": [
    {
     "data": {
      "image/png": "[encoded data removed]",
      "text/html": [
       "<div style=\"vertical-align: middle;\"><strong></strong> </div><div class=\"cmap\"><img alt=\" colormap\" title=\"\" style=\"border: 1px solid #555;\" src=\"data:image/png;base64,iVBORw0KGgoAAAANSUhEUgAAAgAAAABACAYAAABsv8+/AAAAD3RFWHRUaXRsZQAgY29sb3JtYXCKlOmYAAAAFXRFWHREZXNjcmlwdGlvbgAgY29sb3JtYXAQltASAAAAMHRFWHRBdXRob3IATWF0cGxvdGxpYiB2My44LjMsIGh0dHBzOi8vbWF0cGxvdGxpYi5vcmeqnk4cAAAAMnRFWHRTb2Z0d2FyZQBNYXRwbG90bGliIHYzLjguMywgaHR0cHM6Ly9tYXRwbG90bGliLm9yZ4Q40TsAAAEzSURBVHic7dahEcAwEASx//Tfc0zdQCZgJXL04O7MvHPZ3V/XDz/88MMPP/z4fp8BAHIEAAAECQAACBIAABAkAAAgSAAAQJAAAIAgAQAAQQIAAIIEAAAECQAACBIAABAkAAAgSAAAQJAAAIAgAQAAQQIAAIIEAAAECQAACBIAABAkAAAgSAAAQJAAAIAgAQAAQQIAAIIEAAAECQAACBIAABAkAAAgSAAAQJAAAIAgAQAAQQIAAIIEAAAECQAACBIAABAkAAAgSAAAQJAAAIAgAQAAQQIAAIIEAAAECQAACBIAABAkAAAgSAAAQJAAAIAgAQAAQQIAAIIEAAAECQAACBIAABAkAAAgSAAAQJAAAIAgAQAAQQIAAIIEAAAECQAACBIAABAkAAAgSAAAQJAAAICgAyhuBE+CZazNAAAAAElFTkSuQmCC\"></div><div style=\"vertical-align: middle; max-width: 514px; display: flex; justify-content: space-between;\"><div style=\"float: left;\"><div title=\"#000000ff\" style=\"display: inline-block; width: 1em; height: 1em; margin: 0; vertical-align: middle; border: 1px solid #555; background-color: #000000ff;\"></div> under</div><div style=\"margin: 0 auto; display: inline-block;\">bad <div title=\"#00000000\" style=\"display: inline-block; width: 1em; height: 1em; margin: 0; vertical-align: middle; border: 1px solid #555; background-color: #00000000;\"></div></div><div style=\"float: right;\">over <div title=\"#f0f0f0ff\" style=\"display: inline-block; width: 1em; height: 1em; margin: 0; vertical-align: middle; border: 1px solid #555; background-color: #f0f0f0ff;\"></div></div>"
      ],
      "text/plain": [
       "<matplotlib.colors.LinearSegmentedColormap at 0x7f801a2156f0>"
      ]
     },
     "execution_count": 14,
     "metadata": {},
     "output_type": "execute_result"
    }
   ],
   "source": [
    "cvals = [0, 1]\n",
    "colors = [\"#000000\", \"#f0f0f0\"]\n",
    "norm = plt.Normalize(min(cvals), max(cvals))\n",
    "tuples = list(zip(map(norm, cvals), colors))\n",
    "cmap = matplotlib.colors.LinearSegmentedColormap.from_list(\"\", tuples)\n",
    "cmap"
   ]
  },
  {
   "cell_type": "markdown",
   "id": "dad4d0ad-821e-44ec-a07f-639272657c73",
   "metadata": {},
   "source": [
    "### Sorting order"
   ]
  },
  {
   "cell_type": "code",
   "execution_count": 15,
   "id": "b0374b5b-b3ed-4df8-8605-d9ef1c6ff65f",
   "metadata": {
    "execution": {
     "iopub.execute_input": "2024-11-27T17:31:56.881217Z",
     "iopub.status.busy": "2024-11-27T17:31:56.880992Z",
     "iopub.status.idle": "2024-11-27T17:31:58.482801Z",
     "shell.execute_reply": "2024-11-27T17:31:58.482247Z",
     "shell.execute_reply.started": "2024-11-27T17:31:56.881200Z"
    },
    "scrolled": true
   },
   "outputs": [],
   "source": [
    "m = \"k24\"\n",
    "sort_dict = {}\n",
    "for g in gs:\n",
    "\trow_sums = df_features[(m, g)].sum(axis=1).to_dict()\n",
    "\tsort_dict.update({str(key): value for key, value in row_sums.items()})"
   ]
  },
  {
   "cell_type": "code",
   "execution_count": 16,
   "id": "bc6170b1-45fe-4244-9ad0-67a4becbf163",
   "metadata": {
    "execution": {
     "iopub.execute_input": "2024-11-27T17:31:58.483692Z",
     "iopub.status.busy": "2024-11-27T17:31:58.483439Z",
     "iopub.status.idle": "2024-11-27T17:31:59.476353Z",
     "shell.execute_reply": "2024-11-27T17:31:59.475853Z",
     "shell.execute_reply.started": "2024-11-27T17:31:58.483673Z"
    }
   },
   "outputs": [],
   "source": [
    "outputfile = f\"{PROJECT_DIR_o}labels/{s}_{m}_sum.json\"\n",
    "with open(outputfile, \"w\") as f:\n",
    "\tjson.dump(sort_dict, f)"
   ]
  },
  {
   "cell_type": "markdown",
   "id": "b8edd7da-babc-4d85-a1f5-04bd0245b198",
   "metadata": {},
   "source": [
    "## Metaplots & heatmaps"
   ]
  },
  {
   "cell_type": "code",
   "execution_count": 17,
   "id": "88d1f1c5-1bcf-48ab-9b1f-50a03519cc5d",
   "metadata": {
    "execution": {
     "iopub.execute_input": "2024-11-27T17:31:59.477209Z",
     "iopub.status.busy": "2024-11-27T17:31:59.476967Z",
     "iopub.status.idle": "2024-11-27T17:32:00.684599Z",
     "shell.execute_reply": "2024-11-27T17:32:00.684096Z",
     "shell.execute_reply.started": "2024-11-27T17:31:59.477190Z"
    }
   },
   "outputs": [],
   "source": [
    "def generate_metaplot_and_heatmap(d, ps, ms, df_metaplots, df_heatmaps, sort_file, ylims, yticks, cbar_ticks, cmap, outputfile, test, xlabel=\"Distance (kb)\"):\n",
    "\twidth_ratios = [5]*len(ms)+[1]\n",
    "\theight_ratios = [3,5,5]\n",
    "\tfig, axes = plt.subplots(3, len(width_ratios), figsize=(6, 4), gridspec_kw={'width_ratios': width_ratios, 'height_ratios': height_ratios})\n",
    "\taxes[0,len(ms)].axis(\"off\")\n",
    "\taxes[2,len(ms)].axis(\"off\")\n",
    "\tlabelpad = 2\n",
    "\ty_align = -0.3\n",
    "\twspace = 0.3\n",
    "\thspace = 0.2\n",
    "\n",
    "\thue_order = [\"Ctrl\", \"Divergent\", \"Unidirectional\"]\n",
    "\tpalette = [\"#d9d9d9\", \"#313695\", \"#de77ae\"]\n",
    "\t\t\n",
    "\tfor m in ms:\n",
    "\t\tcol = ms.index(m)\n",
    "\t\tfor row in range(3):\n",
    "\t\t\tax = axes[row, col]\n",
    "\t\t\t# Metaplot\n",
    "\t\t\tif row == 0:\n",
    "\t\t\t\tutils.generate_feature_metaplot(df_metaplots[(m,d)], palette, hue_order, ax, test)\n",
    "\t\t\t\t\n",
    "\t\t\t\tax.set_ylim(ylims)\n",
    "\t\t\t\tax.set_yticks(yticks)\n",
    "\t\t\t\tif col == 0:\n",
    "\t\t\t\t\tax.set_ylabel(\"Mappability\", fontsize=bfontsize, fontweight=\"bold\")\n",
    "\t\t\t\t\tax.get_yaxis().set_label_coords(y_align, 0.5)\n",
    "\t\t\t\telse:\n",
    "\t\t\t\t\tax.set_ylabel(\"\")\n",
    "\t\t\t\t\tax.set_yticklabels([])\n",
    "\n",
    "\t\t\t\tif col == len(ms)-1:\n",
    "\t\t\t\t\tax.legend(loc=\"upper left\", fontsize=sfontsize, bbox_to_anchor=[1.05, 1])\n",
    "\t\t\t\telse:\n",
    "\t\t\t\t\tax.legend([],[], frameon=False)\n",
    "\t\t\t\t\t\n",
    "\t\t\t# Heatmap\n",
    "\t\t\telse:\n",
    "\t\t\t\tif row == 1:\n",
    "\t\t\t\t\tcbar = True\n",
    "\t\t\t\t\tcbar_ax = axes[row, len(ms)]\n",
    "\t\t\t\telse:\n",
    "\t\t\t\t\tcbar = False\n",
    "\t\t\t\t\tcbar_ax = None\n",
    "\t\t\t\tcbar_kws = {\"ticks\": cbar_ticks}\n",
    "\n",
    "\t\t\t\tutils.generate_feature_heatmap(df_heatmaps[(m,f\"{ps[row-1]}_{d}\")], cbar_ticks, cmap, cbar, cbar_ax, cbar_kws, ax, sort_file, test)\n",
    "\n",
    "\t\t\t\tif row == 1:\n",
    "\t\t\t\t\tcbar_ax.set_yticklabels(cbar_ticks)\n",
    "\t\t\t\t\tcbar_ax.tick_params(labelsize=sfontsize, pad=labelpad)\n",
    "\n",
    "\t\t\t\tif col == 0:\n",
    "\t\t\t\t\tax.set_ylabel(ps[row-1].capitalize(), fontsize=bfontsize, fontweight=\"bold\")\n",
    "\t\t\t\t\tax.get_yaxis().set_label_coords(y_align/3, 0.5)\n",
    "\t\t\t\telse:\n",
    "\t\t\t\t\tax.set_ylabel(\"\")\n",
    "\t\t\t\t\n",
    "\t\t\tif row == 0:\n",
    "\t\t\t\tax.set_title(m, fontsize=bfontsize, pad=labelpad+5, fontweight=\"bold\")\n",
    "\t\t\n",
    "\t\t\txtick_list = [0,500,1000]\n",
    "\t\t\txticklabel_list = [\"-0.5\", \"0\", \"0.5\"]\n",
    "\t\t\tax.set_xlim([0, 1000])\n",
    "\t\t\tax.set_xticks(xtick_list)\n",
    "\t\t\tif row == 2:\n",
    "\t\t\t\tax.set_xticklabels(xticklabel_list)\n",
    "\t\t\t\tax.set_xlabel(xlabel, fontsize=bfontsize, fontweight=\"bold\")\n",
    "\t\t\telse:\n",
    "\t\t\t\tax.set_xticklabels([])\n",
    "\t\t\t\tax.set_xlabel(\"\")\n",
    "\n",
    "\t\t\tax.tick_params(labelsize=sfontsize, pad=labelpad)\n",
    "\n",
    "\tfig.subplots_adjust(wspace=wspace, hspace=hspace)\n",
    "\tplt.savefig(outputfile, bbox_inches=\"tight\", dpi=300) "
   ]
  },
  {
   "cell_type": "code",
   "execution_count": 18,
   "id": "090b26cd-636b-4062-baee-b9e931bb7395",
   "metadata": {
    "execution": {
     "iopub.execute_input": "2024-11-27T17:32:00.685436Z",
     "iopub.status.busy": "2024-11-27T17:32:00.685191Z",
     "iopub.status.idle": "2024-11-27T17:32:01.897143Z",
     "shell.execute_reply": "2024-11-27T17:32:01.896681Z",
     "shell.execute_reply.started": "2024-11-27T17:32:00.685411Z"
    },
    "scrolled": true,
    "tags": []
   },
   "outputs": [],
   "source": [
    "pwpool = ProcessWrapPool(len(ds))\n",
    "\n",
    "ylims = [0.75, 1.05]\n",
    "yticks = [0.8, 0.9, 1]\n",
    "cbar_ticks = [0, 0.5, 1.0]\n",
    "# test = True\n",
    "test = False\n",
    "sort_file = f\"{PROJECT_DIR_o}labels/{s}_k24_sum.json\"\n",
    "for d in ds:\n",
    "\tif d == \"distal\":\n",
    "\t\toutputfile = f\"{PROJECT_DIR_o}supp_figures/SuppFig2b.top.png\"\n",
    "\telse:\n",
    "\t\toutputfile = f\"{PROJECT_DIR_o}supp_figures/SuppFig2b.bottom.png\"\n",
    "\tpwpool.run(generate_metaplot_and_heatmap, args=[d, ps, ms, df_metaplots, df_features, sort_file, ylims, yticks, cbar_ticks, cmap, outputfile, test])"
   ]
  },
  {
   "cell_type": "code",
   "execution_count": 21,
   "id": "1c5cd0cd-ca5a-407d-b2cc-3addc63034ca",
   "metadata": {
    "execution": {
     "iopub.execute_input": "2024-11-27T18:33:12.274888Z",
     "iopub.status.busy": "2024-11-27T18:33:12.274506Z",
     "iopub.status.idle": "2024-11-27T18:33:12.280891Z",
     "shell.execute_reply": "2024-11-27T18:33:12.280272Z",
     "shell.execute_reply.started": "2024-11-27T18:33:12.274865Z"
    },
    "tags": []
   },
   "outputs": [
    {
     "data": {
      "text/plain": [
       "2"
      ]
     },
     "execution_count": 21,
     "metadata": {},
     "output_type": "execute_result"
    }
   ],
   "source": [
    "len(pwpool.finished_tasks)"
   ]
  },
  {
   "cell_type": "code",
   "execution_count": 22,
   "id": "1c607d31-8702-4416-9e92-7a45a32149fb",
   "metadata": {
    "execution": {
     "iopub.execute_input": "2024-11-27T18:33:12.973163Z",
     "iopub.status.busy": "2024-11-27T18:33:12.972892Z",
     "iopub.status.idle": "2024-11-27T18:33:14.489506Z",
     "shell.execute_reply": "2024-11-27T18:33:14.488946Z",
     "shell.execute_reply.started": "2024-11-27T18:33:12.973146Z"
    }
   },
   "outputs": [],
   "source": [
    "pwpool.close()"
   ]
  },
  {
   "cell_type": "code",
   "execution_count": null,
   "id": "aed61c9d-aaf0-49ae-8755-dc735d9fcc83",
   "metadata": {},
   "outputs": [],
   "source": []
  }
 ],
 "metadata": {
  "kernelspec": {
   "display_name": "Python 3 (ipykernel)",
   "language": "python",
   "name": "python3"
  },
  "language_info": {
   "codemirror_mode": {
    "name": "ipython",
    "version": 3
   },
   "file_extension": ".py",
   "mimetype": "text/x-python",
   "name": "python",
   "nbconvert_exporter": "python",
   "pygments_lexer": "ipython3",
   "version": "3.10.8"
  }
 },
 "nbformat": 4,
 "nbformat_minor": 5
}

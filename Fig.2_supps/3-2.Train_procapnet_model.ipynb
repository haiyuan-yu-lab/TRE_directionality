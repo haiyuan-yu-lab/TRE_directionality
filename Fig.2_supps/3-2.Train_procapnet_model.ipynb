{
 "cells": [
  {
   "cell_type": "code",
   "execution_count": 1,
   "id": "867dd4ad-0517-41fd-b5ea-f65d086d8a2e",
   "metadata": {
    "execution": {
     "iopub.execute_input": "2024-11-28T01:40:30.286413Z",
     "iopub.status.busy": "2024-11-28T01:40:30.286099Z",
     "iopub.status.idle": "2024-11-28T01:40:32.680845Z",
     "shell.execute_reply": "2024-11-28T01:40:32.680302Z",
     "shell.execute_reply.started": "2024-11-28T01:40:30.286392Z"
    }
   },
   "outputs": [],
   "source": [
    "import glob\n",
    "import pandas as pd\n",
    "import seaborn as sns\n",
    "import numpy as np\n",
    "import matplotlib.pyplot as plt\n",
    "from biodata.delimited import DelimitedReader, DelimitedWriter"
   ]
  },
  {
   "cell_type": "code",
   "execution_count": 2,
   "id": "9f0c1faa-ff68-4161-9535-b43abab49d09",
   "metadata": {
    "execution": {
     "iopub.execute_input": "2024-11-28T01:40:32.682047Z",
     "iopub.status.busy": "2024-11-28T01:40:32.681652Z",
     "iopub.status.idle": "2024-11-28T01:40:32.684648Z",
     "shell.execute_reply": "2024-11-28T01:40:32.684180Z",
     "shell.execute_reply.started": "2024-11-28T01:40:32.682027Z"
    },
    "tags": []
   },
   "outputs": [],
   "source": [
    "PROJECT_DIR_s = \"/fs/cbsuhy02/storage/yc2553/yc2553/projects/TRE_directionality/softwares/procapnet/\"\n",
    "PROJECT_DIR_d = \"/fs/cbsuhy02/storage/yc2553/yc2553/projects/TRE_directionality/PROcap/\"\n",
    "PROJECT_DIR_r = \"/fs/cbsuhy02/storage/yc2553/yc2553/projects/TRE_directionality/resources/\"\n",
    "PROJECT_DIR_o = \"/fs/cbsuhy02/storage/yc2553/yc2553/projects/TRE_directionality/output/procapnet/\""
   ]
  },
  {
   "cell_type": "markdown",
   "id": "635e5bfe-923d-4df1-98a3-f4c41ccc6b23",
   "metadata": {},
   "source": [
    "# Input data"
   ]
  },
  {
   "cell_type": "code",
   "execution_count": null,
   "id": "a283766a-3137-4b1f-b879-9709f5366847",
   "metadata": {},
   "outputs": [],
   "source": [
    "# Download genome files required by ProCapNet\n",
    "\n",
    "# ! bash $PROJECT_DIR_s/genomes/download_genome_hg38.sh"
   ]
  },
  {
   "cell_type": "code",
   "execution_count": 6,
   "id": "89aa881f-178d-4eb2-9069-ca086d254de4",
   "metadata": {
    "execution": {
     "iopub.execute_input": "2024-04-06T00:37:40.552419Z",
     "iopub.status.busy": "2024-04-06T00:37:40.550497Z",
     "iopub.status.idle": "2024-04-06T00:37:41.524783Z",
     "shell.execute_reply": "2024-04-06T00:37:41.523477Z",
     "shell.execute_reply.started": "2024-04-06T00:37:40.552265Z"
    }
   },
   "outputs": [],
   "source": [
    "# Here, we want to evaluate the effects of sequencing depth on binary classification of transcription directionality (divergent vs. unidirectional).\n",
    "# We train the model using the original dataset (excluding elements that overlap with unidirectional elements called at downsampled datasets) and plot the predicted signals for unidirectional elements called at downsampled datasets."
   ]
  },
  {
   "cell_type": "code",
   "execution_count": 3,
   "id": "fa30e67a-e3a3-4b2c-a11a-1fb910c86b17",
   "metadata": {
    "execution": {
     "iopub.execute_input": "2024-11-28T01:40:38.099914Z",
     "iopub.status.busy": "2024-11-28T01:40:38.099597Z",
     "iopub.status.idle": "2024-11-28T01:40:38.102493Z",
     "shell.execute_reply": "2024-11-28T01:40:38.102050Z",
     "shell.execute_reply.started": "2024-11-28T01:40:38.099894Z"
    }
   },
   "outputs": [],
   "source": [
    "s = \"C1\"\n",
    "p = \"unidirectional\"\n",
    "ds = [\"distal\", \"proximal\"]"
   ]
  },
  {
   "cell_type": "code",
   "execution_count": null,
   "id": "1b0e1aac-b336-4b88-b148-b97f7d0e3658",
   "metadata": {
    "execution": {
     "execution_failed": "2024-11-28T01:14:13.237Z"
    },
    "scrolled": true
   },
   "outputs": [],
   "source": [
    "# Merge all unidirectional elements across different seq depths\n",
    "\n",
    "samples = [f\"{s}_{n}M\" for n in [30, 20, 10, 5, 1]]\n",
    "outputfile = f\"{PROJECT_DIR_o}processed/{s}/excluded.bed\"\n",
    "inputfiles = [f\"{PROJECT_DIR_d}bed_plot/{sid}_{p}_{d}.bed\" for sid in samples for d in ds]\n",
    "with DelimitedWriter(outputfile) as dw:\n",
    "\tfor inputfile in inputfiles:\n",
    "\t\twith DelimitedReader(inputfile) as dr:\n",
    "\t\t\tfor cols in dr:\n",
    "\t\t\t\tdw.write(cols[:3])"
   ]
  },
  {
   "cell_type": "code",
   "execution_count": 4,
   "id": "da5ce8f2-9414-4bbd-b544-9c1d6afea0b5",
   "metadata": {
    "execution": {
     "iopub.execute_input": "2024-11-28T01:40:43.680822Z",
     "iopub.status.busy": "2024-11-28T01:40:43.680522Z",
     "iopub.status.idle": "2024-11-28T01:40:43.864464Z",
     "shell.execute_reply": "2024-11-28T01:40:43.863780Z",
     "shell.execute_reply.started": "2024-11-28T01:40:43.680802Z"
    }
   },
   "outputs": [
    {
     "name": "stdout",
     "output_type": "stream",
     "text": [
      "17962 /fs/cbsuhy02/storage/yc2553/yc2553/projects/TRE_directionality/output/procapnet//processed/C1/excluded.bed\n"
     ]
    }
   ],
   "source": [
    "# No. excluded peaks\n",
    "\n",
    "! wc -l $PROJECT_DIR_o/processed/$s/excluded.bed"
   ]
  },
  {
   "cell_type": "code",
   "execution_count": 5,
   "id": "51eecf3e-7f93-4c02-b7a3-1593373dd9f0",
   "metadata": {
    "execution": {
     "iopub.execute_input": "2024-11-28T01:40:48.635670Z",
     "iopub.status.busy": "2024-11-28T01:40:48.635309Z",
     "iopub.status.idle": "2024-11-28T01:40:48.639992Z",
     "shell.execute_reply": "2024-11-28T01:40:48.639529Z",
     "shell.execute_reply.started": "2024-11-28T01:40:48.635648Z"
    }
   },
   "outputs": [
    {
     "name": "stdout",
     "output_type": "stream",
     "text": [
      "sbatch /fs/cbsuhy02/storage/yc2553/yc2553/projects/TRE_directionality/softwares/procapnet/slurm/input.sh /fs/cbsuhy02/storage/yc2553/yc2553/projects/TRE_directionality/PROcap/ brm_C1a_and_C1b_erm /fs/cbsuhy02/storage/yc2553/yc2553/projects/TRE_directionality/output/procapnet/processed/C1 /fs/cbsuhy02/storage/yc2553/yc2553/projects/TRE_directionality/resources/ENCODE/ENCFF185XRG.bed.gz F /fs/cbsuhy02/storage/yc2553/yc2553/projects/TRE_directionality/output/procapnet/processed/C1/excluded.bed\n"
     ]
    }
   ],
   "source": [
    "script = f\"{PROJECT_DIR_s}slurm/input.sh\"\n",
    "prefix = \"brm_C1a_and_C1b_erm\"\n",
    "dnase = f\"{PROJECT_DIR_r}ENCODE/ENCFF185XRG.bed.gz\"\n",
    "sex = \"F\"\n",
    "excluded = f\"{PROJECT_DIR_o}processed/{s}/excluded.bed\"\n",
    "commands = \" \".join([\"sbatch\", script,\n",
    "\t\t\t\t\t PROJECT_DIR_d,\n",
    "\t\t\t\t\t prefix,\n",
    "\t\t\t\t\t f\"{PROJECT_DIR_o}processed/{s}\",\n",
    "\t\t\t\t\t dnase,\n",
    "\t\t\t\t\t sex,\n",
    "\t\t\t\t\t excluded\n",
    "\t\t\t\t\t])\n",
    "print(commands)"
   ]
  },
  {
   "cell_type": "code",
   "execution_count": 6,
   "id": "e28ddba9-6b4b-4534-9981-2243169c1e0f",
   "metadata": {
    "execution": {
     "iopub.execute_input": "2024-11-28T01:40:51.185707Z",
     "iopub.status.busy": "2024-11-28T01:40:51.185381Z",
     "iopub.status.idle": "2024-11-28T01:40:51.346374Z",
     "shell.execute_reply": "2024-11-28T01:40:51.345830Z",
     "shell.execute_reply.started": "2024-11-28T01:40:51.185688Z"
    }
   },
   "outputs": [
    {
     "name": "stdout",
     "output_type": "stream",
     "text": [
      "56184 /fs/cbsuhy02/storage/yc2553/yc2553/projects/TRE_directionality/output/procapnet//processed/C1/temp.peaks.bed\n"
     ]
    }
   ],
   "source": [
    "# No. peaks before filtering\n",
    "\n",
    "! wc -l $PROJECT_DIR_o/processed/$s/temp.peaks.bed"
   ]
  },
  {
   "cell_type": "code",
   "execution_count": 7,
   "id": "634904e9-695e-4b26-8956-24710a1b2ef8",
   "metadata": {
    "execution": {
     "iopub.execute_input": "2024-11-28T01:40:58.819038Z",
     "iopub.status.busy": "2024-11-28T01:40:58.818712Z",
     "iopub.status.idle": "2024-11-28T01:40:58.989148Z",
     "shell.execute_reply": "2024-11-28T01:40:58.988446Z",
     "shell.execute_reply.started": "2024-11-28T01:40:58.819016Z"
    }
   },
   "outputs": [
    {
     "name": "stdout",
     "output_type": "stream",
     "text": [
      "43656\n"
     ]
    }
   ],
   "source": [
    "# No. peaks after filtering\n",
    "\n",
    "! zcat $PROJECT_DIR_o/processed/$s/peaks.bed.gz | wc -l"
   ]
  },
  {
   "cell_type": "markdown",
   "id": "94a86a92-d04b-4ca8-9d4b-34537ffbb068",
   "metadata": {},
   "source": [
    "# Train models"
   ]
  },
  {
   "cell_type": "code",
   "execution_count": null,
   "id": "f71466eb-7825-47fa-a3b2-ef94f94215fe",
   "metadata": {},
   "outputs": [],
   "source": [
    "# Set the parameters in \"hyperparameter.py\"\n",
    "# self.in_window = 1000\n",
    "# self.out_window = 500\n",
    "# source_fracs = [1,0]"
   ]
  },
  {
   "cell_type": "code",
   "execution_count": null,
   "id": "799c9cd0-c582-4ca4-bb0e-bcf6035268ab",
   "metadata": {},
   "outputs": [],
   "source": [
    "# Due to limited GPU resource, train these models in all available servers \n",
    "# check memory availability \"check_cuda.sh\" in cluster OR \"nvidia-smi\" in server 01/02 to set cuda parameter; add GPU name at the end (0 or 1 based on availability)"
   ]
  },
  {
   "cell_type": "code",
   "execution_count": 8,
   "id": "05bac87d-82ea-4f73-92a6-00f9a8460115",
   "metadata": {
    "execution": {
     "iopub.execute_input": "2024-11-28T01:41:02.438747Z",
     "iopub.status.busy": "2024-11-28T01:41:02.438394Z",
     "iopub.status.idle": "2024-11-28T01:41:02.442565Z",
     "shell.execute_reply": "2024-11-28T01:41:02.442079Z",
     "shell.execute_reply.started": "2024-11-28T01:41:02.438723Z"
    }
   },
   "outputs": [
    {
     "name": "stdout",
     "output_type": "stream",
     "text": [
      "sbatch /fs/cbsuhy02/storage/yc2553/yc2553/projects/TRE_directionality/softwares/procapnet/slurm/train.sh C1 strand_merged_umap /fs/cbsuhy02/storage/yc2553/yc2553/projects/TRE_directionality/output/procapnet/ 1\n",
      "sbatch /fs/cbsuhy02/storage/yc2553/yc2553/projects/TRE_directionality/softwares/procapnet/slurm/train.sh C1 strand_merged_umap /fs/cbsuhy02/storage/yc2553/yc2553/projects/TRE_directionality/output/procapnet/ 2\n",
      "sbatch /fs/cbsuhy02/storage/yc2553/yc2553/projects/TRE_directionality/softwares/procapnet/slurm/train.sh C1 strand_merged_umap /fs/cbsuhy02/storage/yc2553/yc2553/projects/TRE_directionality/output/procapnet/ 3\n",
      "sbatch /fs/cbsuhy02/storage/yc2553/yc2553/projects/TRE_directionality/softwares/procapnet/slurm/train.sh C1 strand_merged_umap /fs/cbsuhy02/storage/yc2553/yc2553/projects/TRE_directionality/output/procapnet/ 4\n",
      "sbatch /fs/cbsuhy02/storage/yc2553/yc2553/projects/TRE_directionality/softwares/procapnet/slurm/train.sh C1 strand_merged_umap /fs/cbsuhy02/storage/yc2553/yc2553/projects/TRE_directionality/output/procapnet/ 5\n",
      "sbatch /fs/cbsuhy02/storage/yc2553/yc2553/projects/TRE_directionality/softwares/procapnet/slurm/train.sh C1 strand_merged_umap /fs/cbsuhy02/storage/yc2553/yc2553/projects/TRE_directionality/output/procapnet/ 6\n",
      "sbatch /fs/cbsuhy02/storage/yc2553/yc2553/projects/TRE_directionality/softwares/procapnet/slurm/train.sh C1 strand_merged_umap /fs/cbsuhy02/storage/yc2553/yc2553/projects/TRE_directionality/output/procapnet/ 7\n"
     ]
    }
   ],
   "source": [
    "# add gpu at the end\n",
    "\n",
    "model_type = \"strand_merged_umap\"\n",
    "script = f\"{PROJECT_DIR_s}slurm/train.sh\"\n",
    "for fold in range(1,8):\n",
    "\tcommands = \" \".join([\"sbatch\", script, \n",
    "\t\t\t\t\t\ts,\n",
    "\t\t\t\t\t\tmodel_type,\n",
    "\t\t\t\t\t\tPROJECT_DIR_o,\n",
    "\t\t\t\t\t\tstr(fold)\n",
    "\t\t\t\t\t\t])\n",
    "\tprint(commands)"
   ]
  },
  {
   "cell_type": "markdown",
   "id": "35edd5bc-d6c7-4266-b097-9ae83e71651f",
   "metadata": {},
   "source": [
    "# Evaluate models"
   ]
  },
  {
   "cell_type": "code",
   "execution_count": 9,
   "id": "2dcea784-2e8d-4ef6-b8e6-39013726da9b",
   "metadata": {
    "execution": {
     "iopub.execute_input": "2024-11-28T01:41:05.857204Z",
     "iopub.status.busy": "2024-11-28T01:41:05.856925Z",
     "iopub.status.idle": "2024-11-28T01:41:05.861109Z",
     "shell.execute_reply": "2024-11-28T01:41:05.860671Z",
     "shell.execute_reply.started": "2024-11-28T01:41:05.857185Z"
    }
   },
   "outputs": [],
   "source": [
    "files = glob.glob(f\"{PROJECT_DIR_o}models/{s}/{model_type}/*.model\")\n",
    "timestamps = sorted([f.split(\"/\")[-1].split(\".model\")[0] for f in files])"
   ]
  },
  {
   "cell_type": "code",
   "execution_count": 10,
   "id": "a6d0e02c-00d5-450c-81b4-75e2b9c7f9bd",
   "metadata": {
    "execution": {
     "iopub.execute_input": "2024-11-28T01:41:07.068231Z",
     "iopub.status.busy": "2024-11-28T01:41:07.067955Z",
     "iopub.status.idle": "2024-11-28T01:41:07.205337Z",
     "shell.execute_reply": "2024-11-28T01:41:07.204852Z",
     "shell.execute_reply.started": "2024-11-28T01:41:07.068213Z"
    }
   },
   "outputs": [
    {
     "name": "stdout",
     "output_type": "stream",
     "text": [
      "sbatch /fs/cbsuhy02/storage/yc2553/yc2553/projects/TRE_directionality/softwares/procapnet/slurm/eval.sh C1 strand_merged_umap /fs/cbsuhy02/storage/yc2553/yc2553/projects/TRE_directionality/output/procapnet/ 1 2024-10-22_00-31-24\n",
      "sbatch /fs/cbsuhy02/storage/yc2553/yc2553/projects/TRE_directionality/softwares/procapnet/slurm/eval.sh C1 strand_merged_umap /fs/cbsuhy02/storage/yc2553/yc2553/projects/TRE_directionality/output/procapnet/ 2 2024-10-22_00-33-02\n",
      "sbatch /fs/cbsuhy02/storage/yc2553/yc2553/projects/TRE_directionality/softwares/procapnet/slurm/eval.sh C1 strand_merged_umap /fs/cbsuhy02/storage/yc2553/yc2553/projects/TRE_directionality/output/procapnet/ 3 2024-10-22_00-46-05\n",
      "sbatch /fs/cbsuhy02/storage/yc2553/yc2553/projects/TRE_directionality/softwares/procapnet/slurm/eval.sh C1 strand_merged_umap /fs/cbsuhy02/storage/yc2553/yc2553/projects/TRE_directionality/output/procapnet/ 4 2024-10-22_01-00-38\n",
      "sbatch /fs/cbsuhy02/storage/yc2553/yc2553/projects/TRE_directionality/softwares/procapnet/slurm/eval.sh C1 strand_merged_umap /fs/cbsuhy02/storage/yc2553/yc2553/projects/TRE_directionality/output/procapnet/ 5 2024-10-22_01-26-34\n",
      "sbatch /fs/cbsuhy02/storage/yc2553/yc2553/projects/TRE_directionality/softwares/procapnet/slurm/eval.sh C1 strand_merged_umap /fs/cbsuhy02/storage/yc2553/yc2553/projects/TRE_directionality/output/procapnet/ 6 2024-10-22_01-27-54\n",
      "sbatch /fs/cbsuhy02/storage/yc2553/yc2553/projects/TRE_directionality/softwares/procapnet/slurm/eval.sh C1 strand_merged_umap /fs/cbsuhy02/storage/yc2553/yc2553/projects/TRE_directionality/output/procapnet/ 7 2024-10-22_01-28-12\n"
     ]
    }
   ],
   "source": [
    "# Add GPU name at the end\n",
    "# Only run test sets\n",
    "\n",
    "script = f\"{PROJECT_DIR_s}slurm/eval.sh\"\n",
    "for k in timestamps:\n",
    "\tfold, timestamp = k.split(\".\") \n",
    "\tcommands = \" \".join([\"sbatch\", script, \n",
    "\t\t\t\t\t\ts,\n",
    "\t\t\t\t\t\tmodel_type,\n",
    "\t\t\t\t\t\tPROJECT_DIR_o,\n",
    "\t\t\t\t\t\tfold,\n",
    "\t\t\t\t\t\ttimestamp\n",
    "\t\t\t\t\t\t])\n",
    "\tprint(commands)"
   ]
  },
  {
   "cell_type": "code",
   "execution_count": 11,
   "id": "44d1a2dd-b591-4791-a734-a94e2f8c8581",
   "metadata": {
    "execution": {
     "iopub.execute_input": "2024-11-28T01:41:17.104946Z",
     "iopub.status.busy": "2024-11-28T01:41:17.104645Z",
     "iopub.status.idle": "2024-11-28T01:41:17.221847Z",
     "shell.execute_reply": "2024-11-28T01:41:17.221364Z",
     "shell.execute_reply.started": "2024-11-28T01:41:17.104926Z"
    },
    "scrolled": true
   },
   "outputs": [],
   "source": [
    "# Check correlation\n",
    "\n",
    "results = []\n",
    "for k in timestamps:\n",
    "\tinputfile = f\"{PROJECT_DIR_o}model_out/{s}/{model_type}/{k.split('.')[1]}/test_run_log.txt\"\n",
    "\twith open(inputfile, \"r\") as f:\n",
    "\t\tlines = f.readlines()\n",
    "\t\tprofile = float(lines[-3].strip().split(\": \")[1])\n",
    "\t\tother = float(lines[-2].strip().split(\": \")[1])\n",
    "\t\tresults.append([s, profile, \"Profile\", k.split(\".\")[0]])\n",
    "\t\tresults.append([s, other, \"Counts\", k.split(\".\")[0]])\n",
    "df = pd.DataFrame(results, columns=[\"Model\", \"Corr\", \"Type\", \"Fold\"])"
   ]
  },
  {
   "cell_type": "code",
   "execution_count": 12,
   "id": "0ef29fa4-1da9-4c4e-8ff7-e186d12ba158",
   "metadata": {
    "execution": {
     "iopub.execute_input": "2024-11-28T01:41:17.262117Z",
     "iopub.status.busy": "2024-11-28T01:41:17.261856Z",
     "iopub.status.idle": "2024-11-28T01:41:18.851074Z",
     "shell.execute_reply": "2024-11-28T01:41:18.850509Z",
     "shell.execute_reply.started": "2024-11-28T01:41:17.262098Z"
    }
   },
   "outputs": [
    {
     "name": "stdout",
     "output_type": "stream",
     "text": [
      "Profile 0.52 0.006\n",
      "Counts 0.774 0.017\n"
     ]
    }
   ],
   "source": [
    "for t in [\"Profile\", \"Counts\"]:\n",
    "\tprint(t, \n",
    "\t\t  round(np.mean(df[df[\"Type\"]==t][\"Corr\"]),3), \n",
    "\t\t  round(np.std(df[df[\"Type\"]==t][\"Corr\"]),3)\n",
    "\t\t )"
   ]
  },
  {
   "cell_type": "code",
   "execution_count": 13,
   "id": "37251393-226a-4228-8df8-ab098fa5170e",
   "metadata": {
    "execution": {
     "iopub.execute_input": "2024-11-28T01:41:18.852296Z",
     "iopub.status.busy": "2024-11-28T01:41:18.851998Z",
     "iopub.status.idle": "2024-11-28T01:41:20.195770Z",
     "shell.execute_reply": "2024-11-28T01:41:20.195316Z",
     "shell.execute_reply.started": "2024-11-28T01:41:18.852274Z"
    }
   },
   "outputs": [
    {
     "data": {
      "text/plain": [
       "([0, 1], [Text(0, 0, 'Profile'), Text(1, 0, 'Counts')])"
      ]
     },
     "execution_count": 13,
     "metadata": {},
     "output_type": "execute_result"
    },
    {
     "data": {
      "image/png": "[encoded data removed]",
      "text/plain": [
       "<Figure size 300x200 with 1 Axes>"
      ]
     },
     "metadata": {},
     "output_type": "display_data"
    }
   ],
   "source": [
    "fig, ax = plt.subplots(figsize=(3,2))\n",
    "g = sns.boxplot(data=df, x=\"Type\", y=\"Corr\", ax=ax)\n",
    "g.set_ylabel(\"Correlation\", fontsize=10, fontweight=\"bold\")\n",
    "g.set_xlabel(\"\")\n",
    "g.set_ylim([0,1])\n",
    "plt.xticks(fontsize=8) "
   ]
  },
  {
   "cell_type": "code",
   "execution_count": null,
   "id": "33e3cf7d",
   "metadata": {},
   "outputs": [],
   "source": []
  }
 ],
 "metadata": {
  "kernelspec": {
   "display_name": "Python 3 (ipykernel)",
   "language": "python",
   "name": "python3"
  },
  "language_info": {
   "codemirror_mode": {
    "name": "ipython",
    "version": 3
   },
   "file_extension": ".py",
   "mimetype": "text/x-python",
   "name": "python",
   "nbconvert_exporter": "python",
   "pygments_lexer": "ipython3",
   "version": "3.10.8"
  }
 },
 "nbformat": 4,
 "nbformat_minor": 5
}

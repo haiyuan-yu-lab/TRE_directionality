{
 "cells": [
  {
   "cell_type": "code",
   "execution_count": 1,
   "id": "2433a46a-24e8-4860-b397-5ba46afef6fe",
   "metadata": {
    "execution": {
     "iopub.execute_input": "2024-11-27T18:57:10.297263Z",
     "iopub.status.busy": "2024-11-27T18:57:10.296994Z",
     "iopub.status.idle": "2024-11-27T18:57:31.004725Z",
     "shell.execute_reply": "2024-11-27T18:57:31.004175Z",
     "shell.execute_reply.started": "2024-11-27T18:57:10.297242Z"
    }
   },
   "outputs": [],
   "source": [
    "import subprocess\n",
    "import pandas as pd\n",
    "import pybedtools\n",
    "from biodata.delimited import DelimitedWriter\n",
    "from biodata.gff import GTFReader\n",
    "import matplotlib.pyplot as plt\n",
    "from matplotlib.lines import Line2D\n",
    "from matplotlib.patches import Rectangle"
   ]
  },
  {
   "cell_type": "code",
   "execution_count": 2,
   "id": "c427f17e-9d32-48f3-86c4-71c5f1f39eba",
   "metadata": {
    "execution": {
     "iopub.execute_input": "2024-11-27T18:57:31.005990Z",
     "iopub.status.busy": "2024-11-27T18:57:31.005672Z",
     "iopub.status.idle": "2024-11-27T18:57:31.029111Z",
     "shell.execute_reply": "2024-11-27T18:57:31.028683Z",
     "shell.execute_reply.started": "2024-11-27T18:57:31.005971Z"
    }
   },
   "outputs": [],
   "source": [
    "import matplotlib\n",
    "from pathlib import Path\n",
    "font_dir = Path.cwd().parent / \"font\"\n",
    "for font in [\"Arial.ttf\", \"Arial_Bold.ttf\"]:\n",
    "    matplotlib.font_manager.fontManager.addfont(font_dir / font)\n",
    "matplotlib.rcParams[\"font.family\"] = \"Arial\"\n",
    "bfontsize = 12"
   ]
  },
  {
   "cell_type": "code",
   "execution_count": 3,
   "id": "ee04e729-a662-4d6f-9a2d-10f5b0ed6ecd",
   "metadata": {
    "execution": {
     "iopub.execute_input": "2024-11-27T18:57:32.628288Z",
     "iopub.status.busy": "2024-11-27T18:57:32.628045Z",
     "iopub.status.idle": "2024-11-27T18:57:32.630886Z",
     "shell.execute_reply": "2024-11-27T18:57:32.630440Z",
     "shell.execute_reply.started": "2024-11-27T18:57:32.628268Z"
    },
    "tags": []
   },
   "outputs": [],
   "source": [
    "PROJECT_DIR_d = \"/fs/cbsuhy02/storage/yc2553/yc2553/projects/TRE_directionality/PROcap/\"\n",
    "PROJECT_DIR_r = \"/fs/cbsuhy02/storage/yc2553/yc2553/projects/TRE_directionality/resources/\"\n",
    "PROJECT_DIR_o = \"/fs/cbsuhy02/storage/yc2553/yc2553/projects/TRE_directionality/output/\""
   ]
  },
  {
   "cell_type": "markdown",
   "id": "e2a8bcc9-68c8-400e-83fb-496dcf3ce310",
   "metadata": {},
   "source": [
    "# Make genomic bins"
   ]
  },
  {
   "cell_type": "code",
   "execution_count": 4,
   "id": "0d3e61ea-def7-47e6-8417-95dd3d2600d9",
   "metadata": {
    "execution": {
     "iopub.execute_input": "2024-11-27T18:57:32.631542Z",
     "iopub.status.busy": "2024-11-27T18:57:32.631366Z",
     "iopub.status.idle": "2024-11-27T18:57:34.079461Z",
     "shell.execute_reply": "2024-11-27T18:57:34.078857Z",
     "shell.execute_reply.started": "2024-11-27T18:57:32.631524Z"
    }
   },
   "outputs": [],
   "source": [
    "# Divide genomes into bins \n",
    "\n",
    "def make_windows(chrom_sizes, bin_size, outputfile):\n",
    "\tcommands = [\"bedtools makewindows\",\n",
    "\t\t\t\t \"-g\", chrom_sizes,\n",
    "\t\t\t\t \"-w\", bin_size,\n",
    "\t\t\t\t \">\", outputfile\n",
    "\t\t\t\t]\n",
    "\tsubprocess.run(\" \".join(commands), shell=True)"
   ]
  },
  {
   "cell_type": "code",
   "execution_count": 5,
   "id": "36c46925-ccf3-4735-8b04-fc1561087e0b",
   "metadata": {
    "execution": {
     "iopub.execute_input": "2024-11-27T18:57:34.080215Z",
     "iopub.status.busy": "2024-11-27T18:57:34.079986Z",
     "iopub.status.idle": "2024-11-27T18:57:35.223379Z",
     "shell.execute_reply": "2024-11-27T18:57:35.222893Z",
     "shell.execute_reply.started": "2024-11-27T18:57:34.080198Z"
    },
    "scrolled": true
   },
   "outputs": [],
   "source": [
    "bin_size = \"50000\"\n",
    "chrom_sizes = f\"{PROJECT_DIR_r}genomes/human/hg38.chrom.sizes.filtered.no.chrY\"\n",
    "bin_file = f\"{PROJECT_DIR_o}temp/genome_windows.bed\"\n",
    "make_windows(chrom_sizes, bin_size, bin_file)"
   ]
  },
  {
   "cell_type": "markdown",
   "id": "2f062798-571c-4ef5-8692-20480d0c8e30",
   "metadata": {},
   "source": [
    "# Distribution of elements in bins"
   ]
  },
  {
   "cell_type": "markdown",
   "id": "d3ac37a9-59ed-4cea-ad64-82a90d460f93",
   "metadata": {},
   "source": [
    "## TREs"
   ]
  },
  {
   "cell_type": "code",
   "execution_count": 6,
   "id": "03038e1a-2fbf-4bb0-8c2e-7ccdbd6e4e11",
   "metadata": {
    "execution": {
     "iopub.execute_input": "2024-11-27T18:57:35.225387Z",
     "iopub.status.busy": "2024-11-27T18:57:35.225192Z",
     "iopub.status.idle": "2024-11-27T18:57:36.362036Z",
     "shell.execute_reply": "2024-11-27T18:57:36.361577Z",
     "shell.execute_reply.started": "2024-11-27T18:57:35.225369Z"
    }
   },
   "outputs": [],
   "source": [
    "# Only focus on distal elements\n",
    "\n",
    "s = \"C1\"\n",
    "d = \"distal\"\n",
    "ps = [\"divergent\", \"unidirectional\"]"
   ]
  },
  {
   "cell_type": "code",
   "execution_count": 7,
   "id": "b6c4ea8d-91e7-40fc-bca0-8cb518bdb49e",
   "metadata": {
    "execution": {
     "iopub.execute_input": "2024-11-27T18:57:36.363952Z",
     "iopub.status.busy": "2024-11-27T18:57:36.363692Z",
     "iopub.status.idle": "2024-11-27T18:57:37.571230Z",
     "shell.execute_reply": "2024-11-27T18:57:37.570729Z",
     "shell.execute_reply.started": "2024-11-27T18:57:36.363934Z"
    }
   },
   "outputs": [],
   "source": [
    "overlaps = {}\n",
    "b1 = pybedtools.BedTool(bin_file)\n",
    "for p in ps:\n",
    "\tb2 = pybedtools.BedTool(f\"{PROJECT_DIR_d}bed_plot/{s}_{p}_{d}.bed\")\n",
    "\t# F: Minimum overlap required as a fraction of B.\n",
    "\toverlap = b1.intersect(b2, u=True, F=0.5)\n",
    "\toverlaps[p] = [tuple(i.fields[:3]) for i in overlap]"
   ]
  },
  {
   "cell_type": "markdown",
   "id": "ae79ac55-232b-4aec-b994-33a6937ad192",
   "metadata": {},
   "source": [
    "## Genes"
   ]
  },
  {
   "cell_type": "code",
   "execution_count": 8,
   "id": "f0d1b583-9ae1-45c6-9e99-8fcf92fe8e1f",
   "metadata": {
    "execution": {
     "iopub.execute_input": "2024-11-27T18:57:37.572065Z",
     "iopub.status.busy": "2024-11-27T18:57:37.571820Z",
     "iopub.status.idle": "2024-11-27T18:58:58.940387Z",
     "shell.execute_reply": "2024-11-27T18:58:58.939401Z",
     "shell.execute_reply.started": "2024-11-27T18:57:37.572047Z"
    }
   },
   "outputs": [],
   "source": [
    "inputfile = f\"{PROJECT_DIR_r}genomes/human/gencode.v37.annotation.gtf.gz\"\n",
    "outputfile = f\"{PROJECT_DIR_r}genomes/human/gencode.v37.gene_pos.bed\"\n",
    "with DelimitedWriter(outputfile) as dw:\n",
    "\twith GTFReader(inputfile) as gr:\n",
    "\t\tfor gff in gr:\n",
    "\t\t\tif gff.feature == \"gene\":\n",
    "\t\t\t\tdw.write([gff.genomic_pos.name, gff.genomic_pos.start, gff.genomic_pos.stop])"
   ]
  },
  {
   "cell_type": "code",
   "execution_count": 9,
   "id": "e039bd00-ec91-494e-8367-23fe7b6b6645",
   "metadata": {
    "execution": {
     "iopub.execute_input": "2024-11-27T18:58:58.941373Z",
     "iopub.status.busy": "2024-11-27T18:58:58.941107Z",
     "iopub.status.idle": "2024-11-27T18:58:59.060910Z",
     "shell.execute_reply": "2024-11-27T18:58:59.060493Z",
     "shell.execute_reply.started": "2024-11-27T18:58:58.941354Z"
    }
   },
   "outputs": [
    {
     "data": {
      "text/plain": [
       "CompletedProcess(args='gzip -f /fs/cbsuhy02/storage/yc2553/yc2553/projects/TRE_directionality/resources/genomes/human/gencode.v37.gene_pos.bed', returncode=0)"
      ]
     },
     "execution_count": 9,
     "metadata": {},
     "output_type": "execute_result"
    }
   ],
   "source": [
    "subprocess.run(\"gzip -f \" + outputfile, shell=True)"
   ]
  },
  {
   "cell_type": "code",
   "execution_count": 10,
   "id": "05b58610-9487-40d3-9d38-581298a43b27",
   "metadata": {
    "execution": {
     "iopub.execute_input": "2024-11-27T18:58:59.061708Z",
     "iopub.status.busy": "2024-11-27T18:58:59.061441Z",
     "iopub.status.idle": "2024-11-27T18:59:00.370056Z",
     "shell.execute_reply": "2024-11-27T18:59:00.368975Z",
     "shell.execute_reply.started": "2024-11-27T18:58:59.061689Z"
    }
   },
   "outputs": [],
   "source": [
    "b2 = pybedtools.BedTool(f\"{PROJECT_DIR_r}genomes/human/gencode.v37.gene_pos.bed.gz\")\n",
    "overlap = b1.intersect(b2, u=True, F=0.5)\n",
    "overlaps[\"gene\"] = [tuple(i.fields[:3]) for i in overlap]"
   ]
  },
  {
   "cell_type": "markdown",
   "id": "71fd5b42-5171-4430-93a5-a9f7adb2eab7",
   "metadata": {},
   "source": [
    "# Plot distribution across the genome"
   ]
  },
  {
   "cell_type": "markdown",
   "id": "3a11f5c9-9755-4647-bad2-efcaf3cf9202",
   "metadata": {},
   "source": [
    "## Generate legend"
   ]
  },
  {
   "cell_type": "code",
   "execution_count": 11,
   "id": "7edf0fde-8304-4090-b6b3-36167c93cd53",
   "metadata": {
    "execution": {
     "iopub.execute_input": "2024-11-27T18:59:00.370970Z",
     "iopub.status.busy": "2024-11-27T18:59:00.370709Z",
     "iopub.status.idle": "2024-11-27T18:59:01.922338Z",
     "shell.execute_reply": "2024-11-27T18:59:01.921694Z",
     "shell.execute_reply.started": "2024-11-27T18:59:00.370950Z"
    }
   },
   "outputs": [],
   "source": [
    "colors = {\n",
    "    \"divergent\": \"#08306b\",\n",
    "    \"unidirectional\": \"#ae017e\", \n",
    "    \"gene\": \"#006837\"\n",
    "}"
   ]
  },
  {
   "cell_type": "code",
   "execution_count": 12,
   "id": "3ce312c3-4ac3-4af6-976b-c230c4ea0657",
   "metadata": {
    "execution": {
     "iopub.execute_input": "2024-11-27T18:59:01.923208Z",
     "iopub.status.busy": "2024-11-27T18:59:01.922958Z",
     "iopub.status.idle": "2024-11-27T18:59:03.653259Z",
     "shell.execute_reply": "2024-11-27T18:59:03.652803Z",
     "shell.execute_reply.started": "2024-11-27T18:59:01.923189Z"
    }
   },
   "outputs": [
    {
     "data": {
      "image/png": "[encoded data removed]",
      "text/plain": [
       "<Figure size 200x200 with 1 Axes>"
      ]
     },
     "metadata": {},
     "output_type": "display_data"
    }
   ],
   "source": [
    "fig, ax = plt.subplots(figsize=(2, 2))\n",
    "handles = []\n",
    "for k in colors:\n",
    "\tif k == \"gene\":\n",
    "\t\thandle = Line2D([0], [0], marker=\"o\", color=colors[k], \n",
    "\t\t               markerfacecolor=colors[k][1], markersize=10)\n",
    "\telse:\n",
    "\t\thandle = Rectangle((0, 0), 1, 1, color=colors[k])\n",
    "\thandles.append(handle)\n",
    "\t\n",
    "legend = ax.legend(handles, \n",
    "                   [k.capitalize() for k in colors], \n",
    "                   fontsize=bfontsize)\n",
    "ax.set_axis_off()\n",
    "\n",
    "outputfile = f\"{PROJECT_DIR_o}supp_figures/SuppFig5.legend.pdf\"\n",
    "plt.savefig(outputfile, bbox_inches=\"tight\", dpi=300)"
   ]
  },
  {
   "cell_type": "markdown",
   "id": "e335916a-84c4-49c2-9147-148f50866874",
   "metadata": {},
   "source": [
    "## Prepare input"
   ]
  },
  {
   "cell_type": "code",
   "execution_count": 13,
   "id": "5800b05e-3cd8-4df7-b0cb-2d343afee0bb",
   "metadata": {
    "execution": {
     "iopub.execute_input": "2024-11-27T18:59:03.654178Z",
     "iopub.status.busy": "2024-11-27T18:59:03.653827Z",
     "iopub.status.idle": "2024-11-27T18:59:04.562100Z",
     "shell.execute_reply": "2024-11-27T18:59:04.561637Z",
     "shell.execute_reply.started": "2024-11-27T18:59:03.654158Z"
    }
   },
   "outputs": [],
   "source": [
    "# https://github.com/jordanlab/tagore"
   ]
  },
  {
   "cell_type": "code",
   "execution_count": 14,
   "id": "e0c4f0f2-8a1b-4ce8-a830-28f0f8178fd6",
   "metadata": {
    "execution": {
     "iopub.execute_input": "2024-11-27T18:59:04.562951Z",
     "iopub.status.busy": "2024-11-27T18:59:04.562685Z",
     "iopub.status.idle": "2024-11-27T18:59:06.330982Z",
     "shell.execute_reply": "2024-11-27T18:59:06.330454Z",
     "shell.execute_reply.started": "2024-11-27T18:59:04.562931Z"
    }
   },
   "outputs": [],
   "source": [
    "# feature: The shape of the feature (0: a rectangle; 1: a circle)\n",
    "# size: The horizontal size of the feature (range between 0 and 1)\n",
    "# color: Specify the color of the genomic feature with a hex value\n",
    "# chrCopy: Specify the chromosome copy on which the feature should be drawn (1 or 2). To draw the same feature on both chromosomes, you must specify the feature twice\n",
    "\n",
    "# TREs\n",
    "feature1 = 0\n",
    "size1 = 1\n",
    "# Genes\n",
    "feature2 = 1\n",
    "size2 = 0.02\n",
    "\n",
    "outputfile = f\"{PROJECT_DIR_o}temp/genomic_distribution.bed\"\n",
    "with DelimitedWriter(outputfile) as dw:\n",
    "\tdw.write([\"#chr\", \"start\", \"stop\", \"feature\", \"size\", \"color\", \"chrCopy\"])\n",
    "\t# TREs\n",
    "\tfor p in ps:\n",
    "\t\tif p == \"divergent\":\n",
    "\t\t\tchrCopy = 1\n",
    "\t\telse:\n",
    "\t\t\tchrCopy = 2\n",
    "\t\t# TREs\n",
    "\t\tfor chrom, start, end in overlaps[p]:\n",
    "\t\t\tdw.write([chrom, start, end, feature1, size1, colors[p], chrCopy])\n",
    "\t\t# Genes\n",
    "\t\tfor chrom, start, end in overlaps[\"gene\"]:\n",
    "\t\t\tdw.write([chrom, start, end, feature2, size2, colors[\"gene\"], chrCopy])"
   ]
  },
  {
   "cell_type": "code",
   "execution_count": 15,
   "id": "630bb245-4515-4662-860e-92c95532b465",
   "metadata": {
    "execution": {
     "iopub.execute_input": "2024-11-27T18:59:06.331822Z",
     "iopub.status.busy": "2024-11-27T18:59:06.331571Z",
     "iopub.status.idle": "2024-11-27T18:59:07.553541Z",
     "shell.execute_reply": "2024-11-27T18:59:07.553058Z",
     "shell.execute_reply.started": "2024-11-27T18:59:06.331804Z"
    }
   },
   "outputs": [],
   "source": [
    "# output both png and svg format\n",
    "\n",
    "def plot_genomes(inputfile, output_prefix):\n",
    "\tcommands = [\"tagore\",\n",
    "\t\t\t\t \"-i\", inputfile,\n",
    "\t\t\t\t \"-p\", output_prefix,\n",
    "\t\t\t\t \"-b\", \"hg38\",\n",
    "\t\t\t\t # Overwrite output files if they exist already\n",
    "\t\t\t\t \"-f\"\n",
    "\t\t\t\t]\n",
    "\tsubprocess.run(\" \".join(commands), shell=True)"
   ]
  },
  {
   "cell_type": "code",
   "execution_count": 16,
   "id": "55fef1b3-0678-46f8-9848-95998f43fab8",
   "metadata": {
    "execution": {
     "iopub.execute_input": "2024-11-27T18:59:07.554368Z",
     "iopub.status.busy": "2024-11-27T18:59:07.554099Z",
     "iopub.status.idle": "2024-11-27T18:59:14.908008Z",
     "shell.execute_reply": "2024-11-27T18:59:14.907007Z",
     "shell.execute_reply.started": "2024-11-27T18:59:07.554349Z"
    }
   },
   "outputs": [],
   "source": [
    "inputfile = f\"{PROJECT_DIR_o}temp/genomic_distribution.bed\"\n",
    "output_prefix = f\"{PROJECT_DIR_o}supp_figures/SuppFig5\"\n",
    "plot_genomes(inputfile, output_prefix)"
   ]
  },
  {
   "cell_type": "code",
   "execution_count": null,
   "id": "41668481-567c-4df0-8f8c-45f78dbb217c",
   "metadata": {},
   "outputs": [],
   "source": []
  }
 ],
 "metadata": {
  "kernelspec": {
   "display_name": "Python 3 (ipykernel)",
   "language": "python",
   "name": "python3"
  },
  "language_info": {
   "codemirror_mode": {
    "name": "ipython",
    "version": 3
   },
   "file_extension": ".py",
   "mimetype": "text/x-python",
   "name": "python",
   "nbconvert_exporter": "python",
   "pygments_lexer": "ipython3",
   "version": "3.10.8"
  }
 },
 "nbformat": 4,
 "nbformat_minor": 5
}

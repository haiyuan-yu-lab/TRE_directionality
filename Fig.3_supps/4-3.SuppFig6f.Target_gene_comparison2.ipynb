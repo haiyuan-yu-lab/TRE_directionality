{
 "cells": [
  {
   "cell_type": "code",
   "execution_count": 1,
   "id": "d0785164-21b2-4f11-84de-dbcb0c0db2b3",
   "metadata": {
    "execution": {
     "iopub.execute_input": "2024-11-28T01:21:43.511475Z",
     "iopub.status.busy": "2024-11-28T01:21:43.511204Z",
     "iopub.status.idle": "2024-11-28T01:21:45.817494Z",
     "shell.execute_reply": "2024-11-28T01:21:45.816418Z",
     "shell.execute_reply.started": "2024-11-28T01:21:43.511436Z"
    }
   },
   "outputs": [],
   "source": [
    "import pandas as pd\n",
    "import json\n",
    "import matplotlib.pyplot as plt\n",
    "import numpy as np\n",
    "import biodataplot.metaplot as bpm\n",
    "from biodata.bigwig import BigWigIReader\n",
    "from biodata.bed import BEDXReader\n",
    "from genomictools import GenomicCollection"
   ]
  },
  {
   "cell_type": "code",
   "execution_count": 2,
   "id": "fd9d462f-6eb0-41fb-9c0f-e08095452cfb",
   "metadata": {
    "execution": {
     "iopub.execute_input": "2024-11-28T01:21:45.818655Z",
     "iopub.status.busy": "2024-11-28T01:21:45.818329Z",
     "iopub.status.idle": "2024-11-28T01:21:45.822749Z",
     "shell.execute_reply": "2024-11-28T01:21:45.822312Z",
     "shell.execute_reply.started": "2024-11-28T01:21:45.818631Z"
    }
   },
   "outputs": [],
   "source": [
    "import sys\n",
    "from pathlib import Path\n",
    "sys.path.append(str(Path.cwd().parent))\n",
    "import utils"
   ]
  },
  {
   "cell_type": "code",
   "execution_count": 3,
   "id": "af87ade6-630d-452d-ae2a-18bfaa9cbaf9",
   "metadata": {
    "execution": {
     "iopub.execute_input": "2024-11-28T01:21:45.823476Z",
     "iopub.status.busy": "2024-11-28T01:21:45.823253Z",
     "iopub.status.idle": "2024-11-28T01:21:46.577241Z",
     "shell.execute_reply": "2024-11-28T01:21:46.576476Z",
     "shell.execute_reply.started": "2024-11-28T01:21:45.823457Z"
    }
   },
   "outputs": [],
   "source": [
    "import matplotlib\n",
    "font_dir = Path.cwd().parent / \"font\"\n",
    "for font in [\"Arial.ttf\", \"Arial_Bold.ttf\"]:\n",
    "    matplotlib.font_manager.fontManager.addfont(font_dir / font)\n",
    "matplotlib.rcParams[\"font.family\"] = \"Arial\"\n",
    "bfontsize = 12\n",
    "sfontsize = 9"
   ]
  },
  {
   "cell_type": "code",
   "execution_count": 4,
   "id": "c89db596-fae2-4921-9836-9bf8e0474897",
   "metadata": {
    "execution": {
     "iopub.execute_input": "2024-11-28T01:21:46.578278Z",
     "iopub.status.busy": "2024-11-28T01:21:46.578029Z",
     "iopub.status.idle": "2024-11-28T01:21:47.967260Z",
     "shell.execute_reply": "2024-11-28T01:21:47.966793Z",
     "shell.execute_reply.started": "2024-11-28T01:21:46.578257Z"
    },
    "tags": []
   },
   "outputs": [],
   "source": [
    "PROJECT_DIR_r = \"/fs/cbsuhy02/storage/yc2553/yc2553/projects/TRE_directionality/resources/\"\n",
    "PROJECT_DIR_o = \"/fs/cbsuhy02/storage/yc2553/yc2553/projects/TRE_directionality/output/\""
   ]
  },
  {
   "cell_type": "markdown",
   "id": "1f7f3beb-b7bb-4ad1-8b7f-72e5eba10959",
   "metadata": {},
   "source": [
    "# Generate feature matrix"
   ]
  },
  {
   "cell_type": "markdown",
   "id": "effc6b3c-4bf5-4d73-9367-fd91b9888b73",
   "metadata": {},
   "source": [
    "## Get bed files"
   ]
  },
  {
   "cell_type": "code",
   "execution_count": 5,
   "id": "6a77ffb7-1b6e-425f-a0b5-6482a9a0aa31",
   "metadata": {
    "execution": {
     "iopub.execute_input": "2024-11-28T01:21:49.804023Z",
     "iopub.status.busy": "2024-11-28T01:21:49.803749Z",
     "iopub.status.idle": "2024-11-28T01:21:49.807788Z",
     "shell.execute_reply": "2024-11-28T01:21:49.807312Z",
     "shell.execute_reply.started": "2024-11-28T01:21:49.804001Z"
    }
   },
   "outputs": [],
   "source": [
    "inputfile = f\"{PROJECT_DIR_o}ABC/K562/procap_genes.json\"\n",
    "with open(inputfile, \"r\") as f:\n",
    "\t genes = json.load(f)"
   ]
  },
  {
   "cell_type": "code",
   "execution_count": 6,
   "id": "f516d405-6e26-4322-966a-3bd7929d7e3e",
   "metadata": {
    "execution": {
     "iopub.execute_input": "2024-11-28T01:21:50.169013Z",
     "iopub.status.busy": "2024-11-28T01:21:50.168761Z",
     "iopub.status.idle": "2024-11-28T01:21:50.562899Z",
     "shell.execute_reply": "2024-11-28T01:21:50.562443Z",
     "shell.execute_reply.started": "2024-11-28T01:21:50.168982Z"
    }
   },
   "outputs": [
    {
     "data": {
      "text/html": [
       "<div>\n",
       "<style scoped>\n",
       "    .dataframe tbody tr th:only-of-type {\n",
       "        vertical-align: middle;\n",
       "    }\n",
       "\n",
       "    .dataframe tbody tr th {\n",
       "        vertical-align: top;\n",
       "    }\n",
       "\n",
       "    .dataframe thead th {\n",
       "        text-align: right;\n",
       "    }\n",
       "</style>\n",
       "<table border=\"1\" class=\"dataframe\">\n",
       "  <thead>\n",
       "    <tr style=\"text-align: right;\">\n",
       "      <th></th>\n",
       "      <th>0</th>\n",
       "      <th>1</th>\n",
       "      <th>2</th>\n",
       "      <th>3</th>\n",
       "      <th>4</th>\n",
       "      <th>5</th>\n",
       "    </tr>\n",
       "  </thead>\n",
       "  <tbody>\n",
       "    <tr>\n",
       "      <th>0</th>\n",
       "      <td>chr1</td>\n",
       "      <td>35581</td>\n",
       "      <td>36581</td>\n",
       "      <td>FAM138F</td>\n",
       "      <td>0</td>\n",
       "      <td>-</td>\n",
       "    </tr>\n",
       "    <tr>\n",
       "      <th>1</th>\n",
       "      <td>chr1</td>\n",
       "      <td>35581</td>\n",
       "      <td>36581</td>\n",
       "      <td>FAM138A</td>\n",
       "      <td>0</td>\n",
       "      <td>-</td>\n",
       "    </tr>\n",
       "  </tbody>\n",
       "</table>\n",
       "</div>"
      ],
      "text/plain": [
       "      0      1      2        3  4  5\n",
       "0  chr1  35581  36581  FAM138F  0  -\n",
       "1  chr1  35581  36581  FAM138A  0  -"
      ]
     },
     "execution_count": 6,
     "metadata": {},
     "output_type": "execute_result"
    }
   ],
   "source": [
    "inputfile = f\"{PROJECT_DIR_o}ABC/K562/GeneList.TSS1kb.bed\"\n",
    "df_genes = pd.read_table(inputfile, header=None)\n",
    "df_genes.head(2)"
   ]
  },
  {
   "cell_type": "code",
   "execution_count": 7,
   "id": "6418d393-0287-4d71-a687-d351aa787774",
   "metadata": {
    "execution": {
     "iopub.execute_input": "2024-11-28T01:21:50.582275Z",
     "iopub.status.busy": "2024-11-28T01:21:50.582036Z",
     "iopub.status.idle": "2024-11-28T01:21:51.890569Z",
     "shell.execute_reply": "2024-11-28T01:21:51.890045Z",
     "shell.execute_reply.started": "2024-11-28T01:21:50.582256Z"
    }
   },
   "outputs": [],
   "source": [
    "for k in genes:\n",
    "\toutputfile = f\"{PROJECT_DIR_o}ABC/K562/{k}_genes.bed\"\n",
    "\tdf2 = df_genes[df_genes[3].isin(genes[k])][[0,1,2]].drop_duplicates()\n",
    "\tdf2.to_csv(outputfile, sep=\"\\t\", index=False, header=None)"
   ]
  },
  {
   "cell_type": "markdown",
   "id": "73866b60-bec7-4f6b-95af-f1e839123abb",
   "metadata": {},
   "source": [
    "## Get individual matrix"
   ]
  },
  {
   "cell_type": "code",
   "execution_count": 8,
   "id": "a3cd2cba-53b4-4a38-a110-44a230bbc50a",
   "metadata": {
    "execution": {
     "iopub.execute_input": "2024-11-28T01:21:51.891636Z",
     "iopub.status.busy": "2024-11-28T01:21:51.891380Z",
     "iopub.status.idle": "2024-11-28T01:21:53.275770Z",
     "shell.execute_reply": "2024-11-28T01:21:53.275283Z",
     "shell.execute_reply.started": "2024-11-28T01:21:51.891616Z"
    }
   },
   "outputs": [],
   "source": [
    "bws = {\"DNase\": f\"{PROJECT_DIR_r}ENCODE/ENCFF414OGC.bigWig\",\n",
    "\t   \"H3K27ac\": f\"{PROJECT_DIR_r}ENCODE/ENCFF849TDM.bigWig\"\n",
    "\t   }"
   ]
  },
  {
   "cell_type": "code",
   "execution_count": 9,
   "id": "d4da4dbc-50b6-445d-a941-4c83df3106fa",
   "metadata": {
    "execution": {
     "iopub.execute_input": "2024-11-28T01:21:53.276583Z",
     "iopub.status.busy": "2024-11-28T01:21:53.276328Z",
     "iopub.status.idle": "2024-11-28T01:21:54.317214Z",
     "shell.execute_reply": "2024-11-28T01:21:54.316734Z",
     "shell.execute_reply.started": "2024-11-28T01:21:53.276562Z"
    }
   },
   "outputs": [],
   "source": [
    "ms = list(bws.keys())"
   ]
  },
  {
   "cell_type": "code",
   "execution_count": 10,
   "id": "0f58114b-99d2-4657-98a4-70a373967859",
   "metadata": {
    "execution": {
     "iopub.execute_input": "2024-11-28T01:21:54.318395Z",
     "iopub.status.busy": "2024-11-28T01:21:54.318150Z",
     "iopub.status.idle": "2024-11-28T01:22:06.338501Z",
     "shell.execute_reply": "2024-11-28T01:22:06.337650Z",
     "shell.execute_reply.started": "2024-11-28T01:21:54.318374Z"
    },
    "scrolled": true
   },
   "outputs": [],
   "source": [
    "# No flipping in this plot\n",
    "\n",
    "df_features = {}\n",
    "use_strand = False\n",
    "for k in genes:\n",
    "\tbed = f\"{PROJECT_DIR_o}ABC/K562/{k}_genes.bed\"\n",
    "\tall_regions = BEDXReader.read_all(GenomicCollection, bed)\n",
    "\tfor m in bws:\n",
    "\t\tindex = [(r.chrom, r.chromStart, r.chromEnd) for r in all_regions]\n",
    "\t\tdf_features[(m,k)] = pd.DataFrame(bpm.generate_signal_profile(all_regions, BigWigIReader(bws[m]), fixed_size=1001, use_strand=use_strand), index=index)"
   ]
  },
  {
   "cell_type": "code",
   "execution_count": 11,
   "id": "cf86b9ea-59a4-4fcf-b30a-803d872feb5a",
   "metadata": {
    "execution": {
     "iopub.execute_input": "2024-11-28T01:22:06.339655Z",
     "iopub.status.busy": "2024-11-28T01:22:06.339364Z",
     "iopub.status.idle": "2024-11-28T01:22:21.807098Z",
     "shell.execute_reply": "2024-11-28T01:22:21.806249Z",
     "shell.execute_reply.started": "2024-11-28T01:22:06.339631Z"
    }
   },
   "outputs": [],
   "source": [
    "df_reformat = {}\n",
    "for k in df_features:\n",
    "\tdf = df_features[k].reset_index()\n",
    "\tdf_reformat[k] = pd.melt(df,\n",
    "\t\t\t\t\t\t  id_vars=\"index\",\n",
    "\t\t\t\t\t\t  value_vars=list(df.columns[1:]),\n",
    "\t\t\t\t\t\t  var_name=\"Position\",\n",
    "\t\t\t\t\t\t  value_name=\"Feature\"\n",
    "\t\t\t\t\t\t  )"
   ]
  },
  {
   "cell_type": "markdown",
   "id": "35fbd693-e87f-419a-bb99-e9eaba7efe3f",
   "metadata": {},
   "source": [
    "## Combine dataframes for plotting"
   ]
  },
  {
   "cell_type": "code",
   "execution_count": 12,
   "id": "d16a2cc9-8304-4104-855d-3d09900faa72",
   "metadata": {
    "execution": {
     "iopub.execute_input": "2024-11-28T01:22:21.808193Z",
     "iopub.status.busy": "2024-11-28T01:22:21.807916Z",
     "iopub.status.idle": "2024-11-28T01:22:36.362060Z",
     "shell.execute_reply": "2024-11-28T01:22:36.361458Z",
     "shell.execute_reply.started": "2024-11-28T01:22:21.808170Z"
    },
    "scrolled": true
   },
   "outputs": [],
   "source": [
    "df_metaplots = {}\n",
    "for m in ms:\n",
    "\tdfs = []\n",
    "\tfor k in genes:\n",
    "\t\tdf = df_reformat[(m,k)].copy()\n",
    "\t\tdf[\"Label\"] = k\n",
    "\t\tdfs.append(df)\n",
    "\tdf_metaplots[m] = pd.concat(dfs).reset_index(drop=True)\t"
   ]
  },
  {
   "cell_type": "markdown",
   "id": "da0cad77-222b-439d-9990-10cefa8fb4fa",
   "metadata": {},
   "source": [
    "# Metaplots"
   ]
  },
  {
   "cell_type": "markdown",
   "id": "d99d1be7-29d4-4b5c-857d-928e38802d83",
   "metadata": {},
   "source": [
    "## ylims"
   ]
  },
  {
   "cell_type": "code",
   "execution_count": 13,
   "id": "e362f653-daa2-4d73-8882-e68854c3e49f",
   "metadata": {
    "execution": {
     "iopub.execute_input": "2024-11-28T01:22:36.363444Z",
     "iopub.status.busy": "2024-11-28T01:22:36.363182Z",
     "iopub.status.idle": "2024-11-28T01:23:08.650548Z",
     "shell.execute_reply": "2024-11-28T01:23:08.649866Z",
     "shell.execute_reply.started": "2024-11-28T01:22:36.363424Z"
    }
   },
   "outputs": [
    {
     "name": "stdout",
     "output_type": "stream",
     "text": [
      "DNase 5.109838280411309 0.5991673005818798\n",
      "H3K27ac 15.379929369499946 5.67631069602114\n"
     ]
    }
   ],
   "source": [
    "labels = list(genes.keys())\n",
    "for m in ms:\n",
    "\tmaxs = []\n",
    "\tmins = []\n",
    "\tdf = df_metaplots[m]\n",
    "\tfor label in labels:\n",
    "\t\tmaxs.append(df[df[\"Label\"]==label].groupby(\"Position\")[\"Feature\"].mean().max())\n",
    "\t\tmins.append(df[df[\"Label\"]==label].groupby(\"Position\")[\"Feature\"].mean().min())\n",
    "\tprint(m, max(maxs), min(mins))"
   ]
  },
  {
   "cell_type": "markdown",
   "id": "64a0c1fb-7f79-4c7a-84e0-fed4f251e3ec",
   "metadata": {},
   "source": [
    "## Generate metaplots"
   ]
  },
  {
   "cell_type": "code",
   "execution_count": 14,
   "id": "f7703c14-5b5a-456a-9135-361f30e45675",
   "metadata": {
    "execution": {
     "iopub.execute_input": "2024-11-28T01:26:38.684509Z",
     "iopub.status.busy": "2024-11-28T01:26:38.684094Z",
     "iopub.status.idle": "2024-11-28T01:26:38.691833Z",
     "shell.execute_reply": "2024-11-28T01:26:38.691379Z",
     "shell.execute_reply.started": "2024-11-28T01:26:38.684481Z"
    }
   },
   "outputs": [],
   "source": [
    "def generate_metaplot(ms, ylims, yticks, outputfile, test, xlabel=\"Distance (kb)\"):\n",
    "\tfig, axes = plt.subplots(1, len(ms), figsize=(6,2.5))\n",
    "\tlabelpad = 2\n",
    "\ty_align = -0.15\n",
    "\twspace = 0.35\n",
    "\t\n",
    "\thue_order = [\"Shared\", \"Divergent\", \"Unidirectional\"]\n",
    "\tpalette = [\"#969696\", \"#313695\", \"#de77ae\"]\n",
    "\t\n",
    "\tfor m in ms:\n",
    "\t\tcol = ms.index(m)\n",
    "\t\tax = axes[col]\n",
    "\t\tutils.generate_feature_metaplot(df_metaplots[m], palette, hue_order, ax, test)\n",
    "\t\t\t\t\t\n",
    "\t\tax.set_ylim(ylims[col])\n",
    "\t\tax.set_yticks(yticks[col])\n",
    "\t\tax.set_ylabel(m, fontsize=bfontsize, fontweight=\"bold\")\n",
    "\t\tax.get_yaxis().set_label_coords(y_align, 0.5)\n",
    "\n",
    "\t\tif col == 1:\n",
    "\t\t\tlegend = ax.legend(loc=\"upper center\", bbox_to_anchor=(-0.16, 1.32), \n",
    "\t\t\t\t\t  ncol=len(hue_order), fontsize=sfontsize,\n",
    "\t\t\t\t\t  title=\"Promoters of genes regulated by\", title_fontsize=sfontsize\n",
    "\t\t\t\t\t )\n",
    "\t\t\tplt.setp(legend.get_title(), fontweight='bold')\n",
    "\t\telse:\n",
    "\t\t\tax.legend([],[], frameon=False)\n",
    "\n",
    "\t\txtick_list = [0,500,1000]\n",
    "\t\txticklabel_list = [\"-0.5\", \"0\", \"0.5\"]\n",
    "\t\tax.set_xlim([0, 1000])\n",
    "\t\tax.set_xticks(xtick_list)\n",
    "\t\tax.set_xticklabels(xticklabel_list)\n",
    "\t\tax.set_xlabel(xlabel, fontsize=bfontsize, fontweight=\"bold\")\n",
    "\n",
    "\t\tax.tick_params(labelsize=sfontsize, pad=labelpad)\n",
    "\n",
    "\tfig.subplots_adjust(wspace=wspace)\n",
    "\tplt.savefig(outputfile, bbox_inches=\"tight\", dpi=300) "
   ]
  },
  {
   "cell_type": "code",
   "execution_count": 15,
   "id": "c6ed3155-0992-4cca-bdb2-7770f610f2dc",
   "metadata": {
    "execution": {
     "iopub.execute_input": "2024-11-28T01:26:39.830681Z",
     "iopub.status.busy": "2024-11-28T01:26:39.830433Z",
     "iopub.status.idle": "2024-11-28T01:32:42.204952Z",
     "shell.execute_reply": "2024-11-28T01:32:42.204412Z",
     "shell.execute_reply.started": "2024-11-28T01:26:39.830661Z"
    },
    "tags": []
   },
   "outputs": [
    {
     "data": {
      "image/png": "[encoded data removed]",
      "text/plain": [
       "<Figure size 600x250 with 2 Axes>"
      ]
     },
     "metadata": {},
     "output_type": "display_data"
    }
   ],
   "source": [
    "# test = True\n",
    "test = False\n",
    "ylims = [[-1, 7], [-2, 26]]\n",
    "yticks = [[0, 2, 4, 6], [0, 8, 16, 24]]\n",
    "outputfile = f\"{PROJECT_DIR_o}supp_figures/SuppFig6f.pdf\"\n",
    "generate_metaplot(ms, ylims, yticks, outputfile, test)"
   ]
  },
  {
   "cell_type": "code",
   "execution_count": null,
   "id": "e3907c71-c8df-48cc-b820-4df50502b800",
   "metadata": {},
   "outputs": [],
   "source": []
  }
 ],
 "metadata": {
  "kernelspec": {
   "display_name": "Python 3 (ipykernel)",
   "language": "python",
   "name": "python3"
  },
  "language_info": {
   "codemirror_mode": {
    "name": "ipython",
    "version": 3
   },
   "file_extension": ".py",
   "mimetype": "text/x-python",
   "name": "python",
   "nbconvert_exporter": "python",
   "pygments_lexer": "ipython3",
   "version": "3.10.8"
  }
 },
 "nbformat": 4,
 "nbformat_minor": 5
}

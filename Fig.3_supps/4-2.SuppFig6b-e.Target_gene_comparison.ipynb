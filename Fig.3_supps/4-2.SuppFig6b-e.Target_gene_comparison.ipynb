{
 "cells": [
  {
   "cell_type": "code",
   "execution_count": 1,
   "id": "2433a46a-24e8-4860-b397-5ba46afef6fe",
   "metadata": {
    "execution": {
     "iopub.execute_input": "2024-11-28T01:14:25.681779Z",
     "iopub.status.busy": "2024-11-28T01:14:25.681523Z",
     "iopub.status.idle": "2024-11-28T01:15:25.024523Z",
     "shell.execute_reply": "2024-11-28T01:15:25.023587Z",
     "shell.execute_reply.started": "2024-11-28T01:14:25.681758Z"
    }
   },
   "outputs": [],
   "source": [
    "import pandas as pd\n",
    "import seaborn as sns\n",
    "import numpy as np\n",
    "import matplotlib.pyplot as plt\n",
    "from matplotlib_venn import venn2\n",
    "from statannotations.Annotator import Annotator\n",
    "import json\n",
    "from biodata.delimited import DelimitedReader\n",
    "from statsmodels.stats.proportion import proportions_ztest\n",
    "from statsmodels.stats import multitest"
   ]
  },
  {
   "cell_type": "code",
   "execution_count": 2,
   "id": "9429f5c6-95a7-40f9-9a09-fb64d090dcff",
   "metadata": {
    "execution": {
     "iopub.execute_input": "2024-11-28T01:15:25.026104Z",
     "iopub.status.busy": "2024-11-28T01:15:25.025695Z",
     "iopub.status.idle": "2024-11-28T01:15:25.109972Z",
     "shell.execute_reply": "2024-11-28T01:15:25.109494Z",
     "shell.execute_reply.started": "2024-11-28T01:15:25.026084Z"
    },
    "scrolled": true
   },
   "outputs": [],
   "source": [
    "import matplotlib\n",
    "from pathlib import Path\n",
    "font_dir = Path.cwd().parent / \"font\"\n",
    "for font in [\"Arial.ttf\", \"Arial_Bold.ttf\"]:\n",
    "    matplotlib.font_manager.fontManager.addfont(font_dir / font)\n",
    "matplotlib.rcParams[\"font.family\"] = \"Arial\"\n",
    "bfontsize = 12\n",
    "sfontsize = 9"
   ]
  },
  {
   "cell_type": "code",
   "execution_count": 4,
   "id": "1319ea6f-e038-4da3-9bb0-032af978026e",
   "metadata": {
    "execution": {
     "iopub.execute_input": "2024-11-28T01:19:45.519568Z",
     "iopub.status.busy": "2024-11-28T01:19:45.519202Z",
     "iopub.status.idle": "2024-11-28T01:19:45.522138Z",
     "shell.execute_reply": "2024-11-28T01:19:45.521632Z",
     "shell.execute_reply.started": "2024-11-28T01:19:45.519545Z"
    }
   },
   "outputs": [],
   "source": [
    "PROJECT_DIR_r = \"/fs/cbsuhy02/storage/yc2553/yc2553/projects/TRE_directionality/resources/\"\n",
    "PROJECT_DIR_o = \"/fs/cbsuhy02/storage/yc2553/yc2553/projects/TRE_directionality/output/\""
   ]
  },
  {
   "cell_type": "markdown",
   "id": "9c2df5fd-2fac-42ce-9713-79192f905f33",
   "metadata": {},
   "source": [
    "# Venn diagram"
   ]
  },
  {
   "cell_type": "code",
   "execution_count": 5,
   "id": "fae6db30-1ecb-4aae-a359-b0bcc6123425",
   "metadata": {
    "execution": {
     "iopub.execute_input": "2024-11-28T01:19:46.965527Z",
     "iopub.status.busy": "2024-11-28T01:19:46.965249Z",
     "iopub.status.idle": "2024-11-28T01:19:46.968090Z",
     "shell.execute_reply": "2024-11-28T01:19:46.967623Z",
     "shell.execute_reply.started": "2024-11-28T01:19:46.965508Z"
    }
   },
   "outputs": [],
   "source": [
    "ps = [\"divergent\", \"unidirectional\"]"
   ]
  },
  {
   "cell_type": "code",
   "execution_count": 6,
   "id": "be4f0c6b-074f-432b-9061-20762c01f738",
   "metadata": {
    "execution": {
     "iopub.execute_input": "2024-11-28T01:19:47.472696Z",
     "iopub.status.busy": "2024-11-28T01:19:47.472399Z",
     "iopub.status.idle": "2024-11-28T01:19:47.477013Z",
     "shell.execute_reply": "2024-11-28T01:19:47.476562Z",
     "shell.execute_reply.started": "2024-11-28T01:19:47.472677Z"
    },
    "scrolled": true
   },
   "outputs": [],
   "source": [
    "inputfile = f\"{PROJECT_DIR_o}ABC/K562/procap_genes.json\"\n",
    "with open(inputfile, \"r\") as f:\n",
    "\t genes = json.load(f)"
   ]
  },
  {
   "cell_type": "code",
   "execution_count": 7,
   "id": "6b099a81-d0cb-4c9b-87ea-02e8cae650c0",
   "metadata": {
    "execution": {
     "iopub.execute_input": "2024-11-28T01:19:48.006795Z",
     "iopub.status.busy": "2024-11-28T01:19:48.006567Z",
     "iopub.status.idle": "2024-11-28T01:19:56.688853Z",
     "shell.execute_reply": "2024-11-28T01:19:56.688399Z",
     "shell.execute_reply.started": "2024-11-28T01:19:48.006778Z"
    }
   },
   "outputs": [
    {
     "data": {
      "image/png": "[encoded data removed]",
      "text/plain": [
       "<Figure size 300x300 with 1 Axes>"
      ]
     },
     "metadata": {},
     "output_type": "display_data"
    }
   ],
   "source": [
    "fig, ax = plt.subplots(figsize=(3,3))\n",
    "subsets = [set(genes[k]) | set(genes[\"Shared\"]) for k in genes if k != \"Shared\"]\n",
    "set_labels = tuple([p.capitalize() for p in ps])\n",
    "g = venn2(subsets=subsets, set_labels=set_labels, set_colors=[\"#313695\", \"#de77ae\"], ax=ax)\n",
    "for text in g.set_labels:\n",
    "\ttext.set_fontsize(sfontsize)\n",
    "for text in g.subset_labels:\n",
    "\ttext.set_fontsize(sfontsize)\n",
    "plt.title(\"Target genes\", fontsize=bfontsize, fontweight=\"bold\")\n",
    "outputfile = f\"{PROJECT_DIR_o}supp_figures/SuppFig6b.pdf\"\n",
    "plt.savefig(outputfile, bbox_inches=\"tight\", dpi=300)"
   ]
  },
  {
   "cell_type": "markdown",
   "id": "95e4d538-9796-4fa2-bc60-cdc20cfe45c9",
   "metadata": {},
   "source": [
    "# LOEUF"
   ]
  },
  {
   "cell_type": "code",
   "execution_count": 8,
   "id": "93e24276-c54c-4f4d-bec6-cbe4f7641b6d",
   "metadata": {
    "execution": {
     "iopub.execute_input": "2024-11-28T01:19:56.690003Z",
     "iopub.status.busy": "2024-11-28T01:19:56.689656Z",
     "iopub.status.idle": "2024-11-28T01:20:04.431542Z",
     "shell.execute_reply": "2024-11-28T01:20:04.430927Z",
     "shell.execute_reply.started": "2024-11-28T01:19:56.689984Z"
    }
   },
   "outputs": [
    {
     "data": {
      "text/html": [
       "<div>\n",
       "<style scoped>\n",
       "    .dataframe tbody tr th:only-of-type {\n",
       "        vertical-align: middle;\n",
       "    }\n",
       "\n",
       "    .dataframe tbody tr th {\n",
       "        vertical-align: top;\n",
       "    }\n",
       "\n",
       "    .dataframe thead th {\n",
       "        text-align: right;\n",
       "    }\n",
       "</style>\n",
       "<table border=\"1\" class=\"dataframe\">\n",
       "  <thead>\n",
       "    <tr style=\"text-align: right;\">\n",
       "      <th></th>\n",
       "      <th>gene</th>\n",
       "      <th>gene_id</th>\n",
       "      <th>transcript</th>\n",
       "      <th>canonical</th>\n",
       "      <th>mane_select</th>\n",
       "      <th>lof_hc_lc.obs</th>\n",
       "      <th>lof_hc_lc.exp</th>\n",
       "      <th>lof_hc_lc.possible</th>\n",
       "      <th>lof_hc_lc.oe</th>\n",
       "      <th>lof_hc_lc.mu</th>\n",
       "      <th>...</th>\n",
       "      <th>syn.oe_ci.lower</th>\n",
       "      <th>syn.oe_ci.upper</th>\n",
       "      <th>syn.z_raw</th>\n",
       "      <th>syn.z_score</th>\n",
       "      <th>constraint_flags</th>\n",
       "      <th>level</th>\n",
       "      <th>transcript_type</th>\n",
       "      <th>chromosome</th>\n",
       "      <th>cds_length</th>\n",
       "      <th>num_coding_exons</th>\n",
       "    </tr>\n",
       "  </thead>\n",
       "  <tbody>\n",
       "    <tr>\n",
       "      <th>0</th>\n",
       "      <td>A1BG</td>\n",
       "      <td>1</td>\n",
       "      <td>NM_130786.4</td>\n",
       "      <td>True</td>\n",
       "      <td>True</td>\n",
       "      <td>45.0</td>\n",
       "      <td>43.048</td>\n",
       "      <td>193.0</td>\n",
       "      <td>1.0454</td>\n",
       "      <td>7.063300e-07</td>\n",
       "      <td>...</td>\n",
       "      <td>0.973</td>\n",
       "      <td>1.172</td>\n",
       "      <td>-1.166</td>\n",
       "      <td>-0.63549</td>\n",
       "      <td>[]</td>\n",
       "      <td>NaN</td>\n",
       "      <td>NaN</td>\n",
       "      <td>NaN</td>\n",
       "      <td>NaN</td>\n",
       "      <td>NaN</td>\n",
       "    </tr>\n",
       "    <tr>\n",
       "      <th>1</th>\n",
       "      <td>A1BG</td>\n",
       "      <td>ENSG00000121410</td>\n",
       "      <td>ENST00000263100</td>\n",
       "      <td>True</td>\n",
       "      <td>True</td>\n",
       "      <td>45.0</td>\n",
       "      <td>43.048</td>\n",
       "      <td>193.0</td>\n",
       "      <td>1.0454</td>\n",
       "      <td>7.063300e-07</td>\n",
       "      <td>...</td>\n",
       "      <td>0.973</td>\n",
       "      <td>1.172</td>\n",
       "      <td>-1.166</td>\n",
       "      <td>-0.63549</td>\n",
       "      <td>[]</td>\n",
       "      <td>2.0</td>\n",
       "      <td>protein_coding</td>\n",
       "      <td>chr19</td>\n",
       "      <td>1485.0</td>\n",
       "      <td>8.0</td>\n",
       "    </tr>\n",
       "  </tbody>\n",
       "</table>\n",
       "<p>2 rows × 55 columns</p>\n",
       "</div>"
      ],
      "text/plain": [
       "   gene          gene_id       transcript  canonical  mane_select  \\\n",
       "0  A1BG                1      NM_130786.4       True         True   \n",
       "1  A1BG  ENSG00000121410  ENST00000263100       True         True   \n",
       "\n",
       "   lof_hc_lc.obs  lof_hc_lc.exp  lof_hc_lc.possible  lof_hc_lc.oe  \\\n",
       "0           45.0         43.048               193.0        1.0454   \n",
       "1           45.0         43.048               193.0        1.0454   \n",
       "\n",
       "   lof_hc_lc.mu  ...  syn.oe_ci.lower  syn.oe_ci.upper  syn.z_raw  \\\n",
       "0  7.063300e-07  ...            0.973            1.172     -1.166   \n",
       "1  7.063300e-07  ...            0.973            1.172     -1.166   \n",
       "\n",
       "   syn.z_score  constraint_flags  level  transcript_type  chromosome  \\\n",
       "0     -0.63549                []    NaN              NaN         NaN   \n",
       "1     -0.63549                []    2.0   protein_coding       chr19   \n",
       "\n",
       "   cds_length  num_coding_exons  \n",
       "0         NaN               NaN  \n",
       "1      1485.0               8.0  \n",
       "\n",
       "[2 rows x 55 columns]"
      ]
     },
     "execution_count": 8,
     "metadata": {},
     "output_type": "execute_result"
    }
   ],
   "source": [
    "# LOEUF is a conservative estimate of the observed/expected ratio, based on the upper bound of a Poisson-derived confidence interval around the ratio. Low LOEUF scores indicate strong selection against predicted LoF variation in a given gene, while high LOEUF scores suggest a relatively higher tolerance to inactivation. They suggest using a LOEUF score < 0.6 as a threshold if needed. Ideally LOEUF should be used as a continuous value rather than a cutoff.\n",
    "# One advantage of LOEUF compared to pLI are that they are more direct measures of biological significance, and can be easily used as continuous values.\n",
    "\n",
    "inputfile = f\"{PROJECT_DIR_r}other/gnomad/gnomad.v4.1.constraint_metrics.tsv\"\n",
    "df = pd.read_table(inputfile)\n",
    "df.head(2)"
   ]
  },
  {
   "cell_type": "code",
   "execution_count": 9,
   "id": "f0a3b2b5-8d6b-4402-a018-5ac255afe544",
   "metadata": {
    "execution": {
     "iopub.execute_input": "2024-11-28T01:20:04.432681Z",
     "iopub.status.busy": "2024-11-28T01:20:04.432350Z",
     "iopub.status.idle": "2024-11-28T01:20:11.944909Z",
     "shell.execute_reply": "2024-11-28T01:20:11.944386Z",
     "shell.execute_reply.started": "2024-11-28T01:20:04.432656Z"
    }
   },
   "outputs": [],
   "source": [
    "scores = {}\n",
    "for index, row in df.iterrows():\n",
    "\tif row[\"canonical\"] and row[\"mane_select\"]:\n",
    "\t\tscores[row[\"gene\"]] = row[\"lof.oe_ci.upper\"]"
   ]
  },
  {
   "cell_type": "code",
   "execution_count": 10,
   "id": "1bff6456-5cc1-418e-ab2d-f3e2ffa637aa",
   "metadata": {
    "execution": {
     "iopub.execute_input": "2024-11-28T01:20:11.946373Z",
     "iopub.status.busy": "2024-11-28T01:20:11.946118Z",
     "iopub.status.idle": "2024-11-28T01:20:11.958099Z",
     "shell.execute_reply": "2024-11-28T01:20:11.957675Z",
     "shell.execute_reply.started": "2024-11-28T01:20:11.946355Z"
    }
   },
   "outputs": [],
   "source": [
    "results = []\n",
    "for k in genes:\n",
    "\tfor g in genes[k]:\n",
    "\t\tif g in scores:\n",
    "\t\t\tresults.append([k.capitalize(), scores[g]])\n",
    "df_loeuf = pd.DataFrame(results, columns=[\"group\", \"score\"])"
   ]
  },
  {
   "cell_type": "code",
   "execution_count": 11,
   "id": "7a47c8c2-bca4-4de7-9c15-676f4b05f0ba",
   "metadata": {
    "execution": {
     "iopub.execute_input": "2024-11-28T01:20:11.958836Z",
     "iopub.status.busy": "2024-11-28T01:20:11.958613Z",
     "iopub.status.idle": "2024-11-28T01:20:11.961309Z",
     "shell.execute_reply": "2024-11-28T01:20:11.960903Z",
     "shell.execute_reply.started": "2024-11-28T01:20:11.958819Z"
    }
   },
   "outputs": [],
   "source": [
    "order = [\"Shared\", \"Divergent\", \"Unidirectional\"]\n",
    "palette = [\"#969696\", \"#313695\", \"#de77ae\"]\n",
    "pairs = [[\"Shared\", \"Divergent\"], [\"Divergent\", \"Unidirectional\"]]"
   ]
  },
  {
   "cell_type": "code",
   "execution_count": 12,
   "id": "af0f4a17-f5c0-4ad5-b713-80d08c6499da",
   "metadata": {
    "execution": {
     "iopub.execute_input": "2024-11-28T01:20:11.962021Z",
     "iopub.status.busy": "2024-11-28T01:20:11.961806Z",
     "iopub.status.idle": "2024-11-28T01:20:11.966580Z",
     "shell.execute_reply": "2024-11-28T01:20:11.966160Z",
     "shell.execute_reply.started": "2024-11-28T01:20:11.962005Z"
    }
   },
   "outputs": [],
   "source": [
    "def boxplot(df, ylabel, outputfile, figsize):\n",
    "\tfig, ax = plt.subplots(figsize=figsize)\n",
    "\thue_plot_params = {\n",
    "\t\t\t\t\t\"data\": df,\n",
    "\t\t\t\t\t\"x\": \"group\",\n",
    "\t\t\t\t\t\"y\": \"score\",\n",
    "\t\t\t\t    \"palette\": palette,\n",
    "\t\t\t\t\t\"hue\": \"group\",\n",
    "\t\t\t\t\t\"legend\": False,\n",
    "\t\t\t\t\t\"order\": order,\n",
    "\t\t\t\t\t\"showfliers\": False\n",
    "\t\t\t\t}\n",
    "\tg = sns.boxplot(ax=ax, **hue_plot_params)\n",
    "\tg.spines[[\"right\", \"top\"]].set_visible(False)\n",
    "\n",
    "\tg.set_ylabel(ylabel, fontsize=bfontsize, fontweight=\"bold\")\n",
    "\tg.tick_params(axis='y', labelsize=sfontsize)\n",
    "\t\n",
    "\tg.set_xlabel(\"\")\n",
    "\tg.tick_params(axis='x', rotation=30, labelsize=bfontsize)\n",
    "\tfor label in g.get_xticklabels():\n",
    "\t    label.set_fontweight(\"bold\")\n",
    "\n",
    "\tannotator = Annotator(g, pairs, **hue_plot_params)\n",
    "\tannotator.configure(test=\"Mann-Whitney\", comparisons_correction=\"BH\", text_offset=1, text_format=\"star\", verbose=False, loc=\"outside\")\n",
    "\t_, results = annotator.apply_and_annotate()\n",
    "\tplt.savefig(outputfile, bbox_inches=\"tight\", dpi=300)"
   ]
  },
  {
   "cell_type": "code",
   "execution_count": 13,
   "id": "5ac5ab60-c9f7-4947-a2b5-3a692aed81c0",
   "metadata": {
    "execution": {
     "iopub.execute_input": "2024-11-28T01:20:11.967261Z",
     "iopub.status.busy": "2024-11-28T01:20:11.967062Z",
     "iopub.status.idle": "2024-11-28T01:20:12.258473Z",
     "shell.execute_reply": "2024-11-28T01:20:12.258002Z",
     "shell.execute_reply.started": "2024-11-28T01:20:11.967244Z"
    }
   },
   "outputs": [
    {
     "data": {
      "image/png": "[encoded data removed]",
      "text/plain": [
       "<Figure size 200x220 with 1 Axes>"
      ]
     },
     "metadata": {},
     "output_type": "display_data"
    }
   ],
   "source": [
    "outputfile = f\"{PROJECT_DIR_o}supp_figures/SuppFig6c.pdf\"\n",
    "boxplot(df_loeuf, \"LOEUF\", outputfile, (2,2.2))"
   ]
  },
  {
   "cell_type": "markdown",
   "id": "8cbb8221-a0b1-4778-8156-83896abbfef4",
   "metadata": {},
   "source": [
    "# Gene expression"
   ]
  },
  {
   "cell_type": "code",
   "execution_count": 14,
   "id": "1c7b9f1c-551b-40f3-b779-b2f1d141751a",
   "metadata": {
    "execution": {
     "iopub.execute_input": "2024-11-28T01:20:12.259227Z",
     "iopub.status.busy": "2024-11-28T01:20:12.258999Z",
     "iopub.status.idle": "2024-11-28T01:20:12.290878Z",
     "shell.execute_reply": "2024-11-28T01:20:12.290442Z",
     "shell.execute_reply.started": "2024-11-28T01:20:12.259210Z"
    }
   },
   "outputs": [
    {
     "data": {
      "text/html": [
       "<div>\n",
       "<style scoped>\n",
       "    .dataframe tbody tr th:only-of-type {\n",
       "        vertical-align: middle;\n",
       "    }\n",
       "\n",
       "    .dataframe tbody tr th {\n",
       "        vertical-align: top;\n",
       "    }\n",
       "\n",
       "    .dataframe thead th {\n",
       "        text-align: right;\n",
       "    }\n",
       "</style>\n",
       "<table border=\"1\" class=\"dataframe\">\n",
       "  <thead>\n",
       "    <tr style=\"text-align: right;\">\n",
       "      <th></th>\n",
       "      <th>0</th>\n",
       "      <th>1</th>\n",
       "    </tr>\n",
       "  </thead>\n",
       "  <tbody>\n",
       "    <tr>\n",
       "      <th>0</th>\n",
       "      <td>TSPAN6</td>\n",
       "      <td>0.03</td>\n",
       "    </tr>\n",
       "    <tr>\n",
       "      <th>1</th>\n",
       "      <td>TNMD</td>\n",
       "      <td>0.00</td>\n",
       "    </tr>\n",
       "  </tbody>\n",
       "</table>\n",
       "</div>"
      ],
      "text/plain": [
       "        0     1\n",
       "0  TSPAN6  0.03\n",
       "1    TNMD  0.00"
      ]
     },
     "execution_count": 14,
     "metadata": {},
     "output_type": "execute_result"
    }
   ],
   "source": [
    "inputfile = f\"{PROJECT_DIR_r}ENCODE/K562.ENCFF934YBO.TPM.txt\"\n",
    "df = pd.read_table(inputfile, header=None)\n",
    "df.head(2)"
   ]
  },
  {
   "cell_type": "code",
   "execution_count": 15,
   "id": "a7d4561a-ec52-48f0-b9ce-1c41726ac84e",
   "metadata": {
    "execution": {
     "iopub.execute_input": "2024-11-28T01:20:12.291658Z",
     "iopub.status.busy": "2024-11-28T01:20:12.291406Z",
     "iopub.status.idle": "2024-11-28T01:20:14.489049Z",
     "shell.execute_reply": "2024-11-28T01:20:14.488477Z",
     "shell.execute_reply.started": "2024-11-28T01:20:12.291639Z"
    }
   },
   "outputs": [],
   "source": [
    "exps = {}\n",
    "for index, row in df.iterrows():\n",
    "\texps[row[0]] = row[1]"
   ]
  },
  {
   "cell_type": "code",
   "execution_count": 16,
   "id": "5ba4751d-b517-486e-81ef-ad423e86d53f",
   "metadata": {
    "execution": {
     "iopub.execute_input": "2024-11-28T01:20:14.490863Z",
     "iopub.status.busy": "2024-11-28T01:20:14.490604Z",
     "iopub.status.idle": "2024-11-28T01:20:14.507155Z",
     "shell.execute_reply": "2024-11-28T01:20:14.506698Z",
     "shell.execute_reply.started": "2024-11-28T01:20:14.490845Z"
    }
   },
   "outputs": [],
   "source": [
    "results = []\n",
    "for k in genes:\n",
    "\tfor g in genes[k]:\n",
    "\t\tif g in exps:\n",
    "\t\t\tresults.append([k.capitalize(), np.log2(exps[g]+1)])\n",
    "df_exps = pd.DataFrame(results, columns=[\"group\", \"score\"])"
   ]
  },
  {
   "cell_type": "code",
   "execution_count": 17,
   "id": "87c9622f-285d-48a1-8589-8022fbef274b",
   "metadata": {
    "execution": {
     "iopub.execute_input": "2024-11-28T01:20:14.507930Z",
     "iopub.status.busy": "2024-11-28T01:20:14.507703Z",
     "iopub.status.idle": "2024-11-28T01:20:15.370516Z",
     "shell.execute_reply": "2024-11-28T01:20:15.370048Z",
     "shell.execute_reply.started": "2024-11-28T01:20:14.507912Z"
    }
   },
   "outputs": [
    {
     "data": {
      "image/png": "[encoded data removed]",
      "text/plain": [
       "<Figure size 200x250 with 1 Axes>"
      ]
     },
     "metadata": {},
     "output_type": "display_data"
    }
   ],
   "source": [
    "outputfile = f\"{PROJECT_DIR_o}supp_figures/SuppFig6d.pdf\"\n",
    "boxplot(df_exps, \"RNA-seq (log$_2$TPM)\", outputfile, (2,2.5))"
   ]
  },
  {
   "cell_type": "markdown",
   "id": "6ea1d267-31e2-4175-b985-575e63f7e476",
   "metadata": {},
   "source": [
    "# P1 vs. P2"
   ]
  },
  {
   "cell_type": "code",
   "execution_count": 18,
   "id": "d7f39d47-2c7e-4cd3-b96c-13e8d9ce7000",
   "metadata": {
    "execution": {
     "iopub.execute_input": "2024-11-28T01:20:15.371349Z",
     "iopub.status.busy": "2024-11-28T01:20:15.371100Z",
     "iopub.status.idle": "2024-11-28T01:20:15.407802Z",
     "shell.execute_reply": "2024-11-28T01:20:15.407348Z",
     "shell.execute_reply.started": "2024-11-28T01:20:15.371331Z"
    }
   },
   "outputs": [
    {
     "data": {
      "text/html": [
       "<div>\n",
       "<style scoped>\n",
       "    .dataframe tbody tr th:only-of-type {\n",
       "        vertical-align: middle;\n",
       "    }\n",
       "\n",
       "    .dataframe tbody tr th {\n",
       "        vertical-align: top;\n",
       "    }\n",
       "\n",
       "    .dataframe thead th {\n",
       "        text-align: right;\n",
       "    }\n",
       "</style>\n",
       "<table border=\"1\" class=\"dataframe\">\n",
       "  <thead>\n",
       "    <tr style=\"text-align: right;\">\n",
       "      <th></th>\n",
       "      <th>GeneSymbol</th>\n",
       "      <th>start</th>\n",
       "      <th>end</th>\n",
       "      <th>predictedClass</th>\n",
       "      <th>predictedScore</th>\n",
       "      <th>activity_base.500bp</th>\n",
       "    </tr>\n",
       "  </thead>\n",
       "  <tbody>\n",
       "    <tr>\n",
       "      <th>0</th>\n",
       "      <td>A2ML1</td>\n",
       "      <td>8997356</td>\n",
       "      <td>8997620</td>\n",
       "      <td>2</td>\n",
       "      <td>0.37797089308516196</td>\n",
       "      <td>0.874977</td>\n",
       "    </tr>\n",
       "    <tr>\n",
       "      <th>1</th>\n",
       "      <td>A4GALT</td>\n",
       "      <td>43117286</td>\n",
       "      <td>43117550</td>\n",
       "      <td>2</td>\n",
       "      <td>1.0479697839633664</td>\n",
       "      <td>0.257458</td>\n",
       "    </tr>\n",
       "  </tbody>\n",
       "</table>\n",
       "</div>"
      ],
      "text/plain": [
       "0 GeneSymbol     start       end predictedClass       predictedScore  \\\n",
       "0      A2ML1   8997356   8997620              2  0.37797089308516196   \n",
       "1     A4GALT  43117286  43117550              2   1.0479697839633664   \n",
       "\n",
       "0 activity_base.500bp  \n",
       "0            0.874977  \n",
       "1            0.257458  "
      ]
     },
     "execution_count": 18,
     "metadata": {},
     "output_type": "execute_result"
    }
   ],
   "source": [
    "inputfile = f\"{PROJECT_DIR_r}other/PM35594906/41586_2022_4877_MOESM9_ESM.txt\"\n",
    "results = []\n",
    "with DelimitedReader(inputfile) as dr:\n",
    "\tfor cols in dr:\n",
    "\t\tif \"#\" not in cols[0]:\n",
    "\t\t\tresults.append(cols)\n",
    "df = pd.DataFrame(results)\n",
    "df.columns = df.iloc[0]\n",
    "df = df[1:].reset_index(drop=True)\n",
    "df.head(2)"
   ]
  },
  {
   "cell_type": "code",
   "execution_count": 19,
   "id": "76ed80b5-3009-4f83-b513-2af73581d15d",
   "metadata": {
    "execution": {
     "iopub.execute_input": "2024-11-28T01:20:15.408604Z",
     "iopub.status.busy": "2024-11-28T01:20:15.408348Z",
     "iopub.status.idle": "2024-11-28T01:20:15.417382Z",
     "shell.execute_reply": "2024-11-28T01:20:15.416930Z",
     "shell.execute_reply.started": "2024-11-28T01:20:15.408584Z"
    }
   },
   "outputs": [
    {
     "name": "stdout",
     "output_type": "stream",
     "text": [
      "P1 7872\n",
      "P2 8092\n"
     ]
    }
   ],
   "source": [
    "types = {}\n",
    "for n in range(2):\n",
    "\ttypes[\"P\"+str(n+1)] = list(df[df[\"predictedClass\"]==str(n+1)][\"GeneSymbol\"])\n",
    "\tprint(\"P\"+str(n+1), len(types[\"P\"+str(n+1)]))"
   ]
  },
  {
   "cell_type": "code",
   "execution_count": 20,
   "id": "75546b5f-3dfa-4a9b-b756-dddc20e6ff12",
   "metadata": {
    "execution": {
     "iopub.execute_input": "2024-11-28T01:20:15.418168Z",
     "iopub.status.busy": "2024-11-28T01:20:15.417932Z",
     "iopub.status.idle": "2024-11-28T01:20:17.097364Z",
     "shell.execute_reply": "2024-11-28T01:20:17.096904Z",
     "shell.execute_reply.started": "2024-11-28T01:20:15.418149Z"
    }
   },
   "outputs": [
    {
     "data": {
      "text/html": [
       "<div>\n",
       "<style scoped>\n",
       "    .dataframe tbody tr th:only-of-type {\n",
       "        vertical-align: middle;\n",
       "    }\n",
       "\n",
       "    .dataframe tbody tr th {\n",
       "        vertical-align: top;\n",
       "    }\n",
       "\n",
       "    .dataframe thead th {\n",
       "        text-align: right;\n",
       "    }\n",
       "</style>\n",
       "<table border=\"1\" class=\"dataframe\">\n",
       "  <thead>\n",
       "    <tr style=\"text-align: right;\">\n",
       "      <th></th>\n",
       "      <th>group</th>\n",
       "      <th>total</th>\n",
       "      <th>P2</th>\n",
       "      <th>ratio</th>\n",
       "    </tr>\n",
       "  </thead>\n",
       "  <tbody>\n",
       "    <tr>\n",
       "      <th>0</th>\n",
       "      <td>Shared</td>\n",
       "      <td>746</td>\n",
       "      <td>293</td>\n",
       "      <td>39.3</td>\n",
       "    </tr>\n",
       "    <tr>\n",
       "      <th>1</th>\n",
       "      <td>Divergent</td>\n",
       "      <td>4658</td>\n",
       "      <td>2209</td>\n",
       "      <td>47.4</td>\n",
       "    </tr>\n",
       "    <tr>\n",
       "      <th>2</th>\n",
       "      <td>Unidirectional</td>\n",
       "      <td>823</td>\n",
       "      <td>446</td>\n",
       "      <td>54.2</td>\n",
       "    </tr>\n",
       "  </tbody>\n",
       "</table>\n",
       "</div>"
      ],
      "text/plain": [
       "            group  total    P2  ratio\n",
       "0          Shared    746   293   39.3\n",
       "1       Divergent   4658  2209   47.4\n",
       "2  Unidirectional    823   446   54.2"
      ]
     },
     "execution_count": 20,
     "metadata": {},
     "output_type": "execute_result"
    }
   ],
   "source": [
    "results = []\n",
    "for k in order:\n",
    "\t# with prediction available\n",
    "\ttot = sum([1 for g in genes[k] if g in types[\"P1\"] or g in types[\"P2\"]])\n",
    "\tp2 = sum([1 for g in genes[k] if g in types[\"P2\"]])\n",
    "\tresults.append([k, tot, p2, round(100*p2/tot,1)])\n",
    "df_prop = pd.DataFrame(results, columns=[\"group\", \"total\", \"P2\", \"ratio\"])\n",
    "df_prop"
   ]
  },
  {
   "cell_type": "code",
   "execution_count": 21,
   "id": "9c5aae4a-55a1-4316-9cad-8fca1c190bbd",
   "metadata": {
    "execution": {
     "iopub.execute_input": "2024-11-28T01:20:17.098170Z",
     "iopub.status.busy": "2024-11-28T01:20:17.097935Z",
     "iopub.status.idle": "2024-11-28T01:20:17.314364Z",
     "shell.execute_reply": "2024-11-28T01:20:17.313944Z",
     "shell.execute_reply.started": "2024-11-28T01:20:17.098151Z"
    }
   },
   "outputs": [
    {
     "data": {
      "image/png": "[encoded data removed]",
      "text/plain": [
       "<Figure size 250x250 with 1 Axes>"
      ]
     },
     "metadata": {},
     "output_type": "display_data"
    }
   ],
   "source": [
    "fig, ax = plt.subplots(figsize=(2.5,2.5))\n",
    "hue_plot_params = {\n",
    "\t\t\t\t\"data\": df_prop,\n",
    "\t\t\t\t\"x\": \"group\",\n",
    "\t\t\t\t\"y\": \"ratio\",\n",
    "\t\t\t\t\"palette\": palette,\n",
    "\t\t\t\t\"hue\": \"group\",\n",
    "\t\t\t\t\"legend\": False,\n",
    "\t\t\t\t\"order\": order\n",
    "\t\t\t}\n",
    "g = sns.barplot(ax=ax, **hue_plot_params)\n",
    "g.spines[[\"right\", \"top\"]].set_visible(False)\n",
    "\n",
    "g.set_ylabel(\"P2 promoter (%)\", fontsize=bfontsize, fontweight=\"bold\")\n",
    "g.tick_params(axis='y', labelsize=sfontsize)\n",
    "\n",
    "g.set_xlabel(\"\")\n",
    "g.tick_params(axis='x', rotation=30, labelsize=bfontsize)\n",
    "for label in g.get_xticklabels():\n",
    "\t    label.set_fontweight(\"bold\")\n",
    "\n",
    "texts = []\n",
    "for index, row in df_prop.iterrows():\n",
    "\ttexts.append(str(row[\"P2\"])+\" / \"+str(row[\"total\"]))\n",
    "\n",
    "for bar, text in zip(g.patches, texts):\n",
    "\tg.text(bar.get_x()+0.4, bar.get_height()+1, text, color=\"#000000\", ha=\"center\", fontsize=sfontsize) \n",
    "g.set_ylim([35, 56])\n",
    "\n",
    "pvalues = []\n",
    "successes = df_prop[\"P2\"]\n",
    "nobs = df_prop[\"total\"]\n",
    "for x1, x2 in [[0,1],[0,2]]:\n",
    "\tpvalues.append(proportions_ztest([successes[x1], successes[x2]], [nobs[x1], nobs[x2]])[1])\n",
    "_, qvalues, _, _ = multitest.multipletests(pvalues, alpha=0.05, method='fdr_bh')\n",
    "annotator = Annotator(g, pairs, **hue_plot_params)\n",
    "annotator.configure(text_format=\"star\", verbose=False, text_offset=1, loc=\"outside\")\n",
    "annotator.set_pvalues(qvalues).annotate()\t\t\n",
    "\n",
    "outputfile = f\"{PROJECT_DIR_o}supp_figures/SuppFig6e.pdf\"\n",
    "plt.savefig(outputfile, bbox_inches=\"tight\", dpi=300)"
   ]
  },
  {
   "cell_type": "code",
   "execution_count": null,
   "id": "baca7af2-3235-48ba-88d1-ffc25d9e654c",
   "metadata": {},
   "outputs": [],
   "source": []
  }
 ],
 "metadata": {
  "kernelspec": {
   "display_name": "Python 3 (ipykernel)",
   "language": "python",
   "name": "python3"
  },
  "language_info": {
   "codemirror_mode": {
    "name": "ipython",
    "version": 3
   },
   "file_extension": ".py",
   "mimetype": "text/x-python",
   "name": "python",
   "nbconvert_exporter": "python",
   "pygments_lexer": "ipython3",
   "version": "3.10.8"
  }
 },
 "nbformat": 4,
 "nbformat_minor": 5
}

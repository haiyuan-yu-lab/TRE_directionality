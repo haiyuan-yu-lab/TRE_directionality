{
 "cells": [
  {
   "cell_type": "code",
   "execution_count": 1,
   "id": "d0785164-21b2-4f11-84de-dbcb0c0db2b3",
   "metadata": {
    "execution": {
     "iopub.execute_input": "2024-11-27T17:28:17.014312Z",
     "iopub.status.busy": "2024-11-27T17:28:17.014101Z",
     "iopub.status.idle": "2024-11-27T17:28:23.169194Z",
     "shell.execute_reply": "2024-11-27T17:28:23.168631Z",
     "shell.execute_reply.started": "2024-11-27T17:28:17.014270Z"
    }
   },
   "outputs": [],
   "source": [
    "import glob\n",
    "from mphelper import ProcessWrapPool\n",
    "import subprocess\n",
    "import pandas as pd\n",
    "import json\n",
    "import matplotlib.pyplot as plt\n",
    "import numpy as np\n",
    "from scipy.stats import mannwhitneyu\n",
    "import itertools\n",
    "import biodataplot.metaplot as bpm\n",
    "from biodata.bigwig import BigWigIReader\n",
    "from biodata.bed import BEDXReader\n",
    "from genomictools import GenomicCollection\n",
    "from collections import defaultdict\n",
    "from biodata.delimited import DelimitedReader, DelimitedWriter\n",
    "import tempfile"
   ]
  },
  {
   "cell_type": "code",
   "execution_count": 2,
   "id": "fd9d462f-6eb0-41fb-9c0f-e08095452cfb",
   "metadata": {
    "execution": {
     "iopub.execute_input": "2024-11-27T17:28:23.171668Z",
     "iopub.status.busy": "2024-11-27T17:28:23.171443Z",
     "iopub.status.idle": "2024-11-27T17:28:23.175845Z",
     "shell.execute_reply": "2024-11-27T17:28:23.175423Z",
     "shell.execute_reply.started": "2024-11-27T17:28:23.171650Z"
    }
   },
   "outputs": [],
   "source": [
    "import sys\n",
    "from pathlib import Path\n",
    "sys.path.append(str(Path.cwd().parent))\n",
    "import utils"
   ]
  },
  {
   "cell_type": "code",
   "execution_count": 3,
   "id": "c558c11b-5acf-479e-b09a-9609635345f4",
   "metadata": {
    "execution": {
     "iopub.execute_input": "2024-11-27T17:28:23.177851Z",
     "iopub.status.busy": "2024-11-27T17:28:23.177642Z",
     "iopub.status.idle": "2024-11-27T17:28:24.888824Z",
     "shell.execute_reply": "2024-11-27T17:28:24.884960Z",
     "shell.execute_reply.started": "2024-11-27T17:28:23.177835Z"
    }
   },
   "outputs": [],
   "source": [
    "import matplotlib\n",
    "font_dir = Path.cwd().parent / \"font\"\n",
    "for font in [\"Arial.ttf\", \"Arial_Bold.ttf\"]:\n",
    "    matplotlib.font_manager.fontManager.addfont(font_dir / font)\n",
    "matplotlib.rcParams[\"font.family\"] = \"Arial\"\n",
    "bfontsize = 12\n",
    "sfontsize = 9"
   ]
  },
  {
   "cell_type": "code",
   "execution_count": 4,
   "id": "6f4f5ef6-fd04-4ea7-b533-8c64285d42dc",
   "metadata": {
    "execution": {
     "iopub.execute_input": "2024-11-27T17:28:26.126167Z",
     "iopub.status.busy": "2024-11-27T17:28:26.125967Z",
     "iopub.status.idle": "2024-11-27T17:28:26.128987Z",
     "shell.execute_reply": "2024-11-27T17:28:26.128533Z",
     "shell.execute_reply.started": "2024-11-27T17:28:26.126149Z"
    },
    "tags": []
   },
   "outputs": [],
   "source": [
    "PROJECT_DIR_d = \"/fs/cbsuhy02/storage/yc2553/yc2553/projects/TRE_directionality/PROcap/\"\n",
    "PROJECT_DIR_d2 = \"/fs/cbsuhy02/storage/yc2553/yc2553/databases/\"\n",
    "PROJECT_DIR_r = \"/fs/cbsuhy02/storage/yc2553/yc2553/projects/TRE_directionality/resources/\"\n",
    "PROJECT_DIR_o = \"/fs/cbsuhy02/storage/yc2553/yc2553/projects/TRE_directionality/output/\""
   ]
  },
  {
   "cell_type": "markdown",
   "id": "bd83d5c6-2ce2-4b62-a949-e2247de2d5e7",
   "metadata": {},
   "source": [
    "# Assign sequence age"
   ]
  },
  {
   "cell_type": "markdown",
   "id": "3409e0c0-e01c-438a-8eee-248323554316",
   "metadata": {},
   "source": [
    "Syntenic blocks that overlapped at least 6 bp of an enhancer sequence were considered when assigning the enhancer’s age and architecture. We considered enhancers mapping to one syntenic block or several syntenic blocks of the same age as “simple” enhancer architectures, while enhancers overlapping adjacent syntenic blocks of different ages have “complex” enhancer architectures. Given complex enhancers are composed of multiple sequence ages, we assigned complex enhancer age according to the oldest age. Sequences without an assigned age were excluded from this analysis."
   ]
  },
  {
   "cell_type": "code",
   "execution_count": 5,
   "id": "4199eb10-eb8f-4691-8775-12c61d13d6da",
   "metadata": {
    "execution": {
     "iopub.execute_input": "2024-11-27T17:28:26.129722Z",
     "iopub.status.busy": "2024-11-27T17:28:26.129505Z",
     "iopub.status.idle": "2024-11-27T17:28:27.198732Z",
     "shell.execute_reply": "2024-11-27T17:28:27.198131Z",
     "shell.execute_reply.started": "2024-11-27T17:28:26.129703Z"
    }
   },
   "outputs": [],
   "source": [
    "s = \"C1\"\n",
    "ps = [\"divergent\", \"unidirectional\"]\n",
    "ds = [\"distal\", \"proximal\"]\n",
    "cs = [\"\", \"_control\"]\n",
    "gs = [f\"{p}_{d}{c}\" for p, d, c in itertools.product(ps, ds, cs)]"
   ]
  },
  {
   "cell_type": "code",
   "execution_count": 6,
   "id": "fc3f3065-2919-4acc-b5ce-0a3387a9152e",
   "metadata": {
    "execution": {
     "iopub.execute_input": "2024-11-27T17:28:27.199638Z",
     "iopub.status.busy": "2024-11-27T17:28:27.199350Z",
     "iopub.status.idle": "2024-11-27T17:28:28.362583Z",
     "shell.execute_reply": "2024-11-27T17:28:28.361998Z",
     "shell.execute_reply.started": "2024-11-27T17:28:27.199618Z"
    }
   },
   "outputs": [],
   "source": [
    "def intersect(fa, fb, outputfile, extension=250):\n",
    "\twith tempfile.NamedTemporaryFile(delete=False, suffix='.bed') as temp_file:\n",
    "\t\ttemp = temp_file.name\n",
    "\t\twith DelimitedWriter(temp) as dw, DelimitedReader(fa) as dr:\n",
    "\t\t\tfor cols in dr:\n",
    "\t\t\t\tchrom, start, end = cols[:3]\n",
    "\t\t\t\tdw.write([chrom, int(start) - extension, int(end) + extension]+cols[3:])\n",
    "\tcommands = [\"bedtools intersect\",\n",
    "\t\t\t\t \"-a\", temp,\n",
    "\t\t\t\t \"-b\", fb,\n",
    "\t\t\t\t \"-wao\",\n",
    "\t\t\t\t \">\", outputfile\n",
    "\t\t\t\t]\n",
    "\tsubprocess.run(\" \".join(commands), shell=True)"
   ]
  },
  {
   "cell_type": "code",
   "execution_count": 7,
   "id": "93af1fa8-658c-4189-af21-f688b86ac56a",
   "metadata": {
    "execution": {
     "iopub.execute_input": "2024-11-27T17:28:32.658347Z",
     "iopub.status.busy": "2024-11-27T17:28:32.657804Z",
     "iopub.status.idle": "2024-11-27T17:28:32.668504Z",
     "shell.execute_reply": "2024-11-27T17:28:32.667605Z",
     "shell.execute_reply.started": "2024-11-27T17:28:32.658324Z"
    },
    "scrolled": true,
    "tags": []
   },
   "outputs": [],
   "source": [
    "pwpool = ProcessWrapPool(len(gs))\n",
    "\n",
    "fb = \" \".join(glob.glob(f\"{PROJECT_DIR_d2}UCSC/multiz100way/hg38/chr*.bed\"))\n",
    "for g in gs:\n",
    "\tfa = f\"{PROJECT_DIR_d}bed_plot/{s}_{g}.bed\"\n",
    "\toutputfile = f\"{PROJECT_DIR_o}temp/{s}_{g}_age.bed\"\n",
    "\tpwpool.run(intersect, args=[fa, fb, outputfile])"
   ]
  },
  {
   "cell_type": "code",
   "execution_count": 9,
   "id": "ab640fdb-f7a6-4e8f-98fd-738489aff52e",
   "metadata": {
    "execution": {
     "iopub.execute_input": "2024-11-27T17:38:12.380859Z",
     "iopub.status.busy": "2024-11-27T17:38:12.380515Z",
     "iopub.status.idle": "2024-11-27T17:38:12.385053Z",
     "shell.execute_reply": "2024-11-27T17:38:12.384621Z",
     "shell.execute_reply.started": "2024-11-27T17:38:12.380837Z"
    },
    "tags": []
   },
   "outputs": [
    {
     "data": {
      "text/plain": [
       "8"
      ]
     },
     "execution_count": 9,
     "metadata": {},
     "output_type": "execute_result"
    }
   ],
   "source": [
    "len(pwpool.finished_tasks)"
   ]
  },
  {
   "cell_type": "code",
   "execution_count": 10,
   "id": "21ee36bd-fd83-4892-8907-10e1d40c270b",
   "metadata": {
    "execution": {
     "iopub.execute_input": "2024-11-27T17:38:13.258656Z",
     "iopub.status.busy": "2024-11-27T17:38:13.258349Z",
     "iopub.status.idle": "2024-11-27T17:38:13.261209Z",
     "shell.execute_reply": "2024-11-27T17:38:13.260749Z",
     "shell.execute_reply.started": "2024-11-27T17:38:13.258638Z"
    }
   },
   "outputs": [],
   "source": [
    "pwpool.close()"
   ]
  },
  {
   "cell_type": "code",
   "execution_count": 16,
   "id": "71717af9-5683-4bbe-a93c-e4d1891d4e3b",
   "metadata": {
    "execution": {
     "iopub.execute_input": "2024-11-27T17:39:07.654976Z",
     "iopub.status.busy": "2024-11-27T17:39:07.654611Z",
     "iopub.status.idle": "2024-11-27T17:39:08.422897Z",
     "shell.execute_reply": "2024-11-27T17:39:08.422394Z",
     "shell.execute_reply.started": "2024-11-27T17:39:07.654946Z"
    }
   },
   "outputs": [
    {
     "data": {
      "text/html": [
       "<div>\n",
       "<style scoped>\n",
       "    .dataframe tbody tr th:only-of-type {\n",
       "        vertical-align: middle;\n",
       "    }\n",
       "\n",
       "    .dataframe tbody tr th {\n",
       "        vertical-align: top;\n",
       "    }\n",
       "\n",
       "    .dataframe thead th {\n",
       "        text-align: right;\n",
       "    }\n",
       "</style>\n",
       "<table border=\"1\" class=\"dataframe\">\n",
       "  <thead>\n",
       "    <tr style=\"text-align: right;\">\n",
       "      <th></th>\n",
       "      <th>0</th>\n",
       "      <th>1</th>\n",
       "      <th>2</th>\n",
       "      <th>3</th>\n",
       "      <th>4</th>\n",
       "      <th>5</th>\n",
       "      <th>6</th>\n",
       "      <th>7</th>\n",
       "      <th>8</th>\n",
       "      <th>9</th>\n",
       "      <th>10</th>\n",
       "      <th>11</th>\n",
       "      <th>12</th>\n",
       "      <th>13</th>\n",
       "    </tr>\n",
       "  </thead>\n",
       "  <tbody>\n",
       "    <tr>\n",
       "      <th>0</th>\n",
       "      <td>chr1</td>\n",
       "      <td>1020787</td>\n",
       "      <td>1021788</td>\n",
       "      <td>1021175</td>\n",
       "      <td>1021375</td>\n",
       "      <td>1021237</td>\n",
       "      <td>1021340</td>\n",
       "      <td>-</td>\n",
       "      <td>1</td>\n",
       "      <td>chr1</td>\n",
       "      <td>1020772</td>\n",
       "      <td>1020792</td>\n",
       "      <td>Vertebrate</td>\n",
       "      <td>5</td>\n",
       "    </tr>\n",
       "    <tr>\n",
       "      <th>1</th>\n",
       "      <td>chr1</td>\n",
       "      <td>1020787</td>\n",
       "      <td>1021788</td>\n",
       "      <td>1021175</td>\n",
       "      <td>1021375</td>\n",
       "      <td>1021237</td>\n",
       "      <td>1021340</td>\n",
       "      <td>-</td>\n",
       "      <td>1</td>\n",
       "      <td>chr1</td>\n",
       "      <td>1020792</td>\n",
       "      <td>1020806</td>\n",
       "      <td>Vertebrate</td>\n",
       "      <td>14</td>\n",
       "    </tr>\n",
       "  </tbody>\n",
       "</table>\n",
       "</div>"
      ],
      "text/plain": [
       "     0        1        2        3        4        5        6  7   8     9   \\\n",
       "0  chr1  1020787  1021788  1021175  1021375  1021237  1021340  -   1  chr1   \n",
       "1  chr1  1020787  1021788  1021175  1021375  1021237  1021340  -   1  chr1   \n",
       "\n",
       "        10       11          12  13  \n",
       "0  1020772  1020792  Vertebrate   5  \n",
       "1  1020792  1020806  Vertebrate  14  "
      ]
     },
     "execution_count": 16,
     "metadata": {},
     "output_type": "execute_result"
    }
   ],
   "source": [
    "# Check the output\n",
    "\n",
    "inputfile = f\"{PROJECT_DIR_o}temp/{s}_{ps[0]}_{ds[0]}_age.bed\"\n",
    "df = pd.read_table(inputfile, header=None, low_memory=False)\n",
    "df.head(2)"
   ]
  },
  {
   "cell_type": "code",
   "execution_count": 15,
   "id": "66826d0e-2a4f-4a4c-8b16-823f0650f2fd",
   "metadata": {
    "execution": {
     "iopub.execute_input": "2024-11-27T17:39:06.313243Z",
     "iopub.status.busy": "2024-11-27T17:39:06.312884Z",
     "iopub.status.idle": "2024-11-27T17:39:06.596284Z",
     "shell.execute_reply": "2024-11-27T17:39:06.595795Z",
     "shell.execute_reply.started": "2024-11-27T17:39:06.313222Z"
    }
   },
   "outputs": [
    {
     "data": {
      "text/html": [
       "<div>\n",
       "<style scoped>\n",
       "    .dataframe tbody tr th:only-of-type {\n",
       "        vertical-align: middle;\n",
       "    }\n",
       "\n",
       "    .dataframe tbody tr th {\n",
       "        vertical-align: top;\n",
       "    }\n",
       "\n",
       "    .dataframe thead th {\n",
       "        text-align: right;\n",
       "    }\n",
       "</style>\n",
       "<table border=\"1\" class=\"dataframe\">\n",
       "  <thead>\n",
       "    <tr style=\"text-align: right;\">\n",
       "      <th></th>\n",
       "      <th>0</th>\n",
       "      <th>1</th>\n",
       "      <th>2</th>\n",
       "      <th>3</th>\n",
       "      <th>4</th>\n",
       "      <th>5</th>\n",
       "      <th>6</th>\n",
       "      <th>7</th>\n",
       "      <th>8</th>\n",
       "    </tr>\n",
       "  </thead>\n",
       "  <tbody>\n",
       "    <tr>\n",
       "      <th>0</th>\n",
       "      <td>chr1</td>\n",
       "      <td>1078522</td>\n",
       "      <td>1079523</td>\n",
       "      <td>1</td>\n",
       "      <td>chr1</td>\n",
       "      <td>1078509</td>\n",
       "      <td>1078534</td>\n",
       "      <td>Vertebrate</td>\n",
       "      <td>12</td>\n",
       "    </tr>\n",
       "    <tr>\n",
       "      <th>1</th>\n",
       "      <td>chr1</td>\n",
       "      <td>1078522</td>\n",
       "      <td>1079523</td>\n",
       "      <td>1</td>\n",
       "      <td>chr1</td>\n",
       "      <td>1078534</td>\n",
       "      <td>1078566</td>\n",
       "      <td>Vertebrate</td>\n",
       "      <td>32</td>\n",
       "    </tr>\n",
       "  </tbody>\n",
       "</table>\n",
       "</div>"
      ],
      "text/plain": [
       "      0        1        2  3     4        5        6           7   8\n",
       "0  chr1  1078522  1079523  1  chr1  1078509  1078534  Vertebrate  12\n",
       "1  chr1  1078522  1079523  1  chr1  1078534  1078566  Vertebrate  32"
      ]
     },
     "execution_count": 15,
     "metadata": {},
     "output_type": "execute_result"
    }
   ],
   "source": [
    "# Check the output\n",
    "\n",
    "inputfile = f\"{PROJECT_DIR_o}temp/{s}_{ps[0]}_{ds[0]}_control_age.bed\"\n",
    "df = pd.read_table(inputfile, header=None, low_memory=False)\n",
    "df.head(2)"
   ]
  },
  {
   "cell_type": "markdown",
   "id": "1f7f3beb-b7bb-4ad1-8b7f-72e5eba10959",
   "metadata": {},
   "source": [
    "# Generate feature matrix"
   ]
  },
  {
   "cell_type": "markdown",
   "id": "70d520f4-def7-44f9-b898-fe454e7c48ec",
   "metadata": {},
   "source": [
    "## Age"
   ]
  },
  {
   "cell_type": "code",
   "execution_count": 17,
   "id": "6c500a27-a94c-46ee-af49-ef330a2e50e9",
   "metadata": {
    "execution": {
     "iopub.execute_input": "2024-11-27T17:39:11.567256Z",
     "iopub.status.busy": "2024-11-27T17:39:11.566919Z",
     "iopub.status.idle": "2024-11-27T17:39:11.573273Z",
     "shell.execute_reply": "2024-11-27T17:39:11.572782Z",
     "shell.execute_reply.started": "2024-11-27T17:39:11.567236Z"
    }
   },
   "outputs": [],
   "source": [
    "def age_dissection(inputfile, clades):\t\n",
    "\tage_per_block = defaultdict(dict)\n",
    "\treverse = {}\n",
    "\n",
    "\twith DelimitedReader(inputfile) as dr:\n",
    "\t\tfor cols in dr:\n",
    "\t\t\tchrom, start, end = cols[:3]\n",
    "\t\t\tif \"control\" not in inputfile:\n",
    "\t\t\t\tsign = cols[7]\n",
    "\t\t\t\tif (chrom, start, end) not in reverse:\n",
    "\t\t\t\t\treverse[(chrom, start, end)] = (sign == \"-\")\n",
    "\t\t\tstart2, end2, clade, overlap = cols[-4:]\n",
    "\t\t\t# Only include regions with overlapping length >= 6bp\n",
    "\t\t\tif int(overlap) >= 6:\n",
    "\t\t\t\tblock_start = max(int(start), int(start2))\n",
    "\t\t\t\tblock_end = min(int(end), int(end2))\n",
    "\t\t\t\tage_per_block[(chrom, start, end)][(block_start, block_end)] = clades[clade]\n",
    "\n",
    "\tresults = []\n",
    "\tindex = []\n",
    "\tfor r in age_per_block:\n",
    "\t\tchrom, start, end = r\n",
    "\t\tindex.append(\"_\".join([chrom, start, end]))\n",
    "\t\tbp_features = []\n",
    "\t\tfor i in range(int(start), int(end)):\n",
    "\t\t\tfeature = np.nan\n",
    "\t\t\tfor block in age_per_block[r]:\n",
    "\t\t\t\tb_s, b_e = block\n",
    "\t\t\t\tif b_s <= i <= b_e:\n",
    "\t\t\t\t\tfeature = age_per_block[r][block]\n",
    "\t\t\t\t\tbreak\n",
    "\t\t\tbp_features.append(feature)\n",
    "\n",
    "\t\tif reverse.get(r, False):\n",
    "\t\t\tbp_features.reverse()\n",
    "\t\tresults.append(bp_features)\n",
    "\n",
    "\tdf = pd.DataFrame(results, index=index)\n",
    "\treturn df"
   ]
  },
  {
   "cell_type": "code",
   "execution_count": 18,
   "id": "c5818e8f-1e49-4a70-b501-511ec6c466c0",
   "metadata": {
    "execution": {
     "iopub.execute_input": "2024-11-27T17:39:12.089493Z",
     "iopub.status.busy": "2024-11-27T17:39:12.089041Z",
     "iopub.status.idle": "2024-11-27T17:39:13.234469Z",
     "shell.execute_reply": "2024-11-27T17:39:13.233953Z",
     "shell.execute_reply.started": "2024-11-27T17:39:12.089474Z"
    },
    "tags": []
   },
   "outputs": [],
   "source": [
    "inputfile = f\"{PROJECT_DIR_r}other/age/clades.json\"\n",
    "with open(inputfile, \"r\") as f:\n",
    "\tclades = json.load(f)"
   ]
  },
  {
   "cell_type": "code",
   "execution_count": 19,
   "id": "484f32ab-faa6-40cc-8baf-794f56ee4995",
   "metadata": {
    "execution": {
     "iopub.execute_input": "2024-11-27T17:39:13.235554Z",
     "iopub.status.busy": "2024-11-27T17:39:13.235285Z",
     "iopub.status.idle": "2024-11-27T17:40:08.140084Z",
     "shell.execute_reply": "2024-11-27T17:40:08.138944Z",
     "shell.execute_reply.started": "2024-11-27T17:39:13.235534Z"
    },
    "scrolled": true,
    "tags": []
   },
   "outputs": [],
   "source": [
    "m = \"Age\"\n",
    "df_features = {}\n",
    "for g in gs:\n",
    "\tinputfile = f\"{PROJECT_DIR_o}temp/{s}_{g}_age.bed\"\n",
    "\tdf_features[(m,g)] = age_dissection(inputfile, clades)"
   ]
  },
  {
   "cell_type": "markdown",
   "id": "3a326dfc-4e7a-4dad-8422-404bc2dfca42",
   "metadata": {},
   "source": [
    "## Evo"
   ]
  },
  {
   "cell_type": "code",
   "execution_count": 20,
   "id": "a3cd2cba-53b4-4a38-a110-44a230bbc50a",
   "metadata": {
    "execution": {
     "iopub.execute_input": "2024-11-27T17:40:08.141619Z",
     "iopub.status.busy": "2024-11-27T17:40:08.141317Z",
     "iopub.status.idle": "2024-11-27T17:40:08.144657Z",
     "shell.execute_reply": "2024-11-27T17:40:08.144233Z",
     "shell.execute_reply.started": "2024-11-27T17:40:08.141600Z"
    }
   },
   "outputs": [],
   "source": [
    "bws = {\"phyloP\": f\"{PROJECT_DIR_r}other/phylop/hg38.phyloP100way.bw\",\n",
    "\t   \"CDTS\": f\"{PROJECT_DIR_r}other/CDTS/coord_CDTS_percentile_N7794unrelated.bw\"\n",
    "\t   }"
   ]
  },
  {
   "cell_type": "code",
   "execution_count": 21,
   "id": "0f58114b-99d2-4657-98a4-70a373967859",
   "metadata": {
    "execution": {
     "iopub.execute_input": "2024-11-27T17:40:08.145355Z",
     "iopub.status.busy": "2024-11-27T17:40:08.145160Z",
     "iopub.status.idle": "2024-11-27T17:43:35.502385Z",
     "shell.execute_reply": "2024-11-27T17:43:35.501739Z",
     "shell.execute_reply.started": "2024-11-27T17:40:08.145339Z"
    },
    "scrolled": true
   },
   "outputs": [],
   "source": [
    "for g in gs:\n",
    "\tbed = f\"{PROJECT_DIR_d}bed_plot/{s}_{g}.bed\"\n",
    "\tif \"control\" in bed:\n",
    "\t\tall_regions = BEDXReader.read_all(GenomicCollection, bed)\n",
    "\t\tuse_strand = False\n",
    "\telse:\n",
    "\t\tall_regions = BEDXReader.read_all(GenomicCollection, bed, strandfield=\"f7\")\n",
    "\t\tuse_strand = True\n",
    "\n",
    "\tfor m in bws:\n",
    "\t\tindex = [f\"{r.chrom}_{r.chromStart}_{r.chromEnd}\" for r in all_regions]\n",
    "\t\tdf_features[(m,g)] = pd.DataFrame(bpm.generate_signal_profile(all_regions, BigWigIReader(bws[m]), fixed_size=1001, use_strand=use_strand), index=index)"
   ]
  },
  {
   "cell_type": "markdown",
   "id": "35fbd693-e87f-419a-bb99-e9eaba7efe3f",
   "metadata": {},
   "source": [
    "## Combine dataframes for plotting"
   ]
  },
  {
   "cell_type": "code",
   "execution_count": 22,
   "id": "48aa9114-92e9-4590-b6f2-a211f869ae69",
   "metadata": {
    "execution": {
     "iopub.execute_input": "2024-11-27T17:43:35.503952Z",
     "iopub.status.busy": "2024-11-27T17:43:35.503689Z",
     "iopub.status.idle": "2024-11-27T17:43:35.506614Z",
     "shell.execute_reply": "2024-11-27T17:43:35.506183Z",
     "shell.execute_reply.started": "2024-11-27T17:43:35.503933Z"
    }
   },
   "outputs": [],
   "source": [
    "ms = [\"Age\", \"phyloP\", \"CDTS\"]"
   ]
  },
  {
   "cell_type": "code",
   "execution_count": null,
   "id": "a75036f8-46f3-4312-9d92-dc64f447694a",
   "metadata": {},
   "outputs": [],
   "source": [
    "df_reformat = {}\n",
    "for k in df_features:\n",
    "\tdf = df_features[k].reset_index()\n",
    "\tdf_reformat[k] = pd.melt(df,\n",
    "\t\t\t\t\t\t  id_vars=\"index\",\n",
    "\t\t\t\t\t\t  value_vars=list(df.columns[1:]),\n",
    "\t\t\t\t\t\t  var_name=\"Position\",\n",
    "\t\t\t\t\t\t  value_name=\"Feature\"\n",
    "\t\t\t\t\t\t  )"
   ]
  },
  {
   "cell_type": "code",
   "execution_count": 24,
   "id": "cb05bebf-3b11-44cb-b948-404c9dd5c198",
   "metadata": {
    "execution": {
     "iopub.execute_input": "2024-11-27T17:43:58.913448Z",
     "iopub.status.busy": "2024-11-27T17:43:58.913179Z",
     "iopub.status.idle": "2024-11-27T17:44:26.692703Z",
     "shell.execute_reply": "2024-11-27T17:44:26.692135Z",
     "shell.execute_reply.started": "2024-11-27T17:43:58.913429Z"
    },
    "scrolled": true
   },
   "outputs": [],
   "source": [
    "df_metaplots = {}\n",
    "for m, d in itertools.product(ms, ds):\n",
    "\tdfs = []\n",
    "\tfor p in ps:\n",
    "\t\tdf1 = df_reformat[(m, f\"{p}_{d}\")].copy()\n",
    "\t\tdf1[\"Label\"] = p.capitalize()\n",
    "\t\tdf2 = df_reformat[(m, f\"{p}_{d}_control\")].copy()\n",
    "\t\tdf2[\"Label\"] = \"Ctrl\"\n",
    "\t\tdfs.extend([df1, df2])\n",
    "\tdf_metaplots[(m,d)] = pd.concat(dfs).reset_index(drop=True)\t"
   ]
  },
  {
   "cell_type": "code",
   "execution_count": 25,
   "id": "95b75880-b95a-456c-a94b-b3ce9060cdac",
   "metadata": {
    "execution": {
     "iopub.execute_input": "2024-11-27T17:44:26.693659Z",
     "iopub.status.busy": "2024-11-27T17:44:26.693377Z",
     "iopub.status.idle": "2024-11-27T17:44:26.983947Z",
     "shell.execute_reply": "2024-11-27T17:44:26.983357Z",
     "shell.execute_reply.started": "2024-11-27T17:44:26.693639Z"
    }
   },
   "outputs": [],
   "source": [
    "# Age\n",
    "# Get the maximum score for each element\n",
    "# Get the average values for two groups; U test \n",
    "\n",
    "m = \"Age\"\n",
    "d = \"distal\"\n",
    "values = {}\n",
    "for p in ps:\n",
    "\tvalues[p] = df_features[(m, f\"{p}_{d}\")].max(axis=1).tolist()"
   ]
  },
  {
   "cell_type": "code",
   "execution_count": 26,
   "id": "70a128fb-e893-4464-a9a3-d30e297e4196",
   "metadata": {
    "execution": {
     "iopub.execute_input": "2024-11-27T17:44:26.984962Z",
     "iopub.status.busy": "2024-11-27T17:44:26.984684Z",
     "iopub.status.idle": "2024-11-27T17:44:26.989563Z",
     "shell.execute_reply": "2024-11-27T17:44:26.989113Z",
     "shell.execute_reply.started": "2024-11-27T17:44:26.984941Z"
    }
   },
   "outputs": [
    {
     "data": {
      "text/plain": [
       "(284.84933460076047, 260.19398369412426)"
      ]
     },
     "execution_count": 26,
     "metadata": {},
     "output_type": "execute_result"
    }
   ],
   "source": [
    "np.mean(values[ps[0]]), np.mean(values[ps[1]])"
   ]
  },
  {
   "cell_type": "code",
   "execution_count": 27,
   "id": "f1eb8ea6-1448-4bbf-81ee-f67236879dda",
   "metadata": {
    "execution": {
     "iopub.execute_input": "2024-11-27T17:44:26.990302Z",
     "iopub.status.busy": "2024-11-27T17:44:26.990078Z",
     "iopub.status.idle": "2024-11-27T17:44:27.002850Z",
     "shell.execute_reply": "2024-11-27T17:44:27.002439Z",
     "shell.execute_reply.started": "2024-11-27T17:44:26.990285Z"
    }
   },
   "outputs": [
    {
     "data": {
      "text/plain": [
       "MannwhitneyuResult(statistic=16088218.0, pvalue=2.7167264422552394e-11)"
      ]
     },
     "execution_count": 27,
     "metadata": {},
     "output_type": "execute_result"
    }
   ],
   "source": [
    "mannwhitneyu(values[ps[0]], values[ps[1]])"
   ]
  },
  {
   "cell_type": "code",
   "execution_count": 28,
   "id": "3906b491-d56b-4eee-b374-fea2cb083094",
   "metadata": {
    "execution": {
     "iopub.execute_input": "2024-11-27T17:44:27.004326Z",
     "iopub.status.busy": "2024-11-27T17:44:27.004106Z",
     "iopub.status.idle": "2024-11-27T17:44:27.045903Z",
     "shell.execute_reply": "2024-11-27T17:44:27.045364Z",
     "shell.execute_reply.started": "2024-11-27T17:44:27.004310Z"
    },
    "scrolled": true
   },
   "outputs": [],
   "source": [
    "# CDTS\n",
    "# Get the minimum score for each element\n",
    "# Get the average values for two groups; U test \n",
    "\n",
    "m = \"CDTS\"\n",
    "d = \"distal\"\n",
    "values2 = {}\n",
    "for p in ps:\n",
    "\tvalues2[p] = df_features[(m, f\"{p}_{d}\")].max(axis=1).tolist()"
   ]
  },
  {
   "cell_type": "code",
   "execution_count": 29,
   "id": "e4f1a45f-9f5a-4137-928c-e967a8356742",
   "metadata": {
    "execution": {
     "iopub.execute_input": "2024-11-27T17:44:27.046795Z",
     "iopub.status.busy": "2024-11-27T17:44:27.046551Z",
     "iopub.status.idle": "2024-11-27T17:44:27.050928Z",
     "shell.execute_reply": "2024-11-27T17:44:27.050508Z",
     "shell.execute_reply.started": "2024-11-27T17:44:27.046777Z"
    }
   },
   "outputs": [
    {
     "data": {
      "text/plain": [
       "(2.7830905568421724, 3.1799182012229923)"
      ]
     },
     "execution_count": 29,
     "metadata": {},
     "output_type": "execute_result"
    }
   ],
   "source": [
    "np.mean(values2[ps[0]]), np.mean(values2[ps[1]])"
   ]
  },
  {
   "cell_type": "code",
   "execution_count": 30,
   "id": "29203d76-5e96-40d9-9b30-65bdd229c7b8",
   "metadata": {
    "execution": {
     "iopub.execute_input": "2024-11-27T17:44:27.051670Z",
     "iopub.status.busy": "2024-11-27T17:44:27.051453Z",
     "iopub.status.idle": "2024-11-27T17:44:27.057033Z",
     "shell.execute_reply": "2024-11-27T17:44:27.056640Z",
     "shell.execute_reply.started": "2024-11-27T17:44:27.051654Z"
    }
   },
   "outputs": [
    {
     "data": {
      "text/plain": [
       "MannwhitneyuResult(statistic=14209920.5, pvalue=1.1343029373378863e-05)"
      ]
     },
     "execution_count": 30,
     "metadata": {},
     "output_type": "execute_result"
    }
   ],
   "source": [
    "mannwhitneyu(values2[ps[0]], values2[ps[1]])"
   ]
  },
  {
   "cell_type": "markdown",
   "id": "da0cad77-222b-439d-9990-10cefa8fb4fa",
   "metadata": {},
   "source": [
    "# Metaplots"
   ]
  },
  {
   "cell_type": "markdown",
   "id": "d99d1be7-29d4-4b5c-857d-928e38802d83",
   "metadata": {},
   "source": [
    "## ylims"
   ]
  },
  {
   "cell_type": "code",
   "execution_count": 31,
   "id": "e362f653-daa2-4d73-8882-e68854c3e49f",
   "metadata": {
    "execution": {
     "iopub.execute_input": "2024-11-27T17:44:27.057722Z",
     "iopub.status.busy": "2024-11-27T17:44:27.057514Z",
     "iopub.status.idle": "2024-11-27T17:45:57.923302Z",
     "shell.execute_reply": "2024-11-27T17:45:57.922074Z",
     "shell.execute_reply.started": "2024-11-27T17:44:27.057704Z"
    }
   },
   "outputs": [
    {
     "name": "stdout",
     "output_type": "stream",
     "text": [
      "distal Age 207.2251955034213 140.37741907489368\n",
      "proximal Age 361.9407433380084 142.61951466127402\n",
      "distal phyloP 0.26302839721352844 0.003073939531987875\n",
      "proximal phyloP 0.4253888037693158 0.017202454665443644\n",
      "distal CDTS 0.08612798655072214 -3.1320544262092422\n",
      "proximal CDTS 0.00895907469490209 -8.876712887207963\n"
     ]
    }
   ],
   "source": [
    "labels = [\"Ctrl\", \"Divergent\", \"Unidirectional\"]\n",
    "for m, d in itertools.product(ms, ds):\n",
    "\tmaxs = []\n",
    "\tmins = []\n",
    "\tdf = df_metaplots[(m,d)]\n",
    "\tfor label in labels:\n",
    "\t\tmaxs.append(df[df[\"Label\"]==label].groupby(\"Position\")[\"Feature\"].mean().max())\n",
    "\t\tmins.append(df[df[\"Label\"]==label].groupby(\"Position\")[\"Feature\"].mean().min())\n",
    "\tprint(d, m, max(maxs), min(mins))"
   ]
  },
  {
   "cell_type": "markdown",
   "id": "64a0c1fb-7f79-4c7a-84e0-fed4f251e3ec",
   "metadata": {},
   "source": [
    "## Generate metaplots"
   ]
  },
  {
   "cell_type": "code",
   "execution_count": 32,
   "id": "f7703c14-5b5a-456a-9135-361f30e45675",
   "metadata": {
    "execution": {
     "iopub.execute_input": "2024-11-27T18:33:03.772710Z",
     "iopub.status.busy": "2024-11-27T18:33:03.772307Z",
     "iopub.status.idle": "2024-11-27T18:33:03.781975Z",
     "shell.execute_reply": "2024-11-27T18:33:03.781443Z",
     "shell.execute_reply.started": "2024-11-27T18:33:03.772689Z"
    }
   },
   "outputs": [],
   "source": [
    "def generate_metaplot(d, ms, ylims, yticks, outputfile, test, xlabel=\"Distance (kb)\"):\n",
    "\tfig, axes = plt.subplots(len(ms), 1, figsize=(3, 7.5))\n",
    "\tlabelpad = 2\n",
    "\ty_align = -0.15\n",
    "\thspace = 0.2\n",
    "\t\n",
    "\thue_order = [\"Ctrl\", \"Divergent\", \"Unidirectional\"]\n",
    "\tpalette = [\"#d9d9d9\", \"#313695\", \"#de77ae\"]\n",
    "\t\n",
    "\tfor m in ms:\n",
    "\t\trow = ms.index(m)\n",
    "\t\tax = axes[row]\n",
    "\t\tutils.generate_feature_metaplot(df_metaplots[(m,d)], palette, hue_order, ax, test)\n",
    "\t\t\t\t\t\n",
    "\t\tax.set_ylim(ylims[row])\n",
    "\t\tax.set_yticks(yticks[row])\n",
    "\t\tax.set_ylabel(m, fontsize=bfontsize, fontweight=\"bold\")\n",
    "\t\tax.get_yaxis().set_label_coords(y_align, 0.5)\n",
    "\n",
    "\t\tif row == 0:\n",
    "\t\t\tax.legend(loc=\"lower left\", fontsize=sfontsize, bbox_to_anchor=[0, 1.02])\n",
    "\t\telse:\n",
    "\t\t\tax.legend([],[], frameon=False)\n",
    "\n",
    "\t\txtick_list = [0,500,1000]\n",
    "\t\txticklabel_list = [\"-0.5\", \"0\", \"0.5\"]\n",
    "\t\tax.set_xlim([0, 1000])\n",
    "\t\tax.set_xticks(xtick_list)\n",
    "\t\tif row == len(ms)-1:\n",
    "\t\t\tax.set_xlabel(xlabel, fontsize=bfontsize, fontweight=\"bold\")\n",
    "\t\t\tax.set_xticklabels(xticklabel_list)\n",
    "\t\t\t\n",
    "\t\telse:\n",
    "\t\t\tax.set_xticklabels([])\n",
    "\t\t\tax.set_xlabel(\"\")\n",
    "\n",
    "\t\tax.tick_params(labelsize=sfontsize, pad=labelpad)\n",
    "\n",
    "\tfig.subplots_adjust(hspace=hspace)\n",
    "\tplt.savefig(outputfile, bbox_inches=\"tight\", dpi=300) "
   ]
  },
  {
   "cell_type": "code",
   "execution_count": 33,
   "id": "c6ed3155-0992-4cca-bdb2-7770f610f2dc",
   "metadata": {
    "execution": {
     "iopub.execute_input": "2024-11-27T18:33:04.745657Z",
     "iopub.status.busy": "2024-11-27T18:33:04.745293Z",
     "iopub.status.idle": "2024-11-27T18:33:04.932233Z",
     "shell.execute_reply": "2024-11-27T18:33:04.844272Z",
     "shell.execute_reply.started": "2024-11-27T18:33:04.745638Z"
    },
    "scrolled": true,
    "tags": []
   },
   "outputs": [],
   "source": [
    "pwpool = ProcessWrapPool(len(ds))\n",
    "\n",
    "# test = True\n",
    "test = False\n",
    "for d in ds:\n",
    "\tif d == \"distal\":\n",
    "\t\tylims = [[110, 250], [-0.05, 0.35], [-5, 0.5]]\n",
    "\t\tyticks = [[120, 160, 200, 240], [0, 0.1, 0.2, 0.3], [-4.5, -3, -1.5, 0]]\n",
    "\t\toutputfile = f\"{PROJECT_DIR_o}figures/Fig3a.pdf\"\n",
    "\telse:\n",
    "\t\tylims = [[100, 440], [-0.05, 0.65], [-17, 2]]\n",
    "\t\tyticks = [[120, 220, 320, 420], [0, 0.2, 0.4, 0.6], [-15, -10, -5, 0]]\n",
    "\tfolder = \"figures/\" if d == \"distal\" else \"other_figures/\"\n",
    "\toutputfile = f\"{PROJECT_DIR_o}{folder}Fig3a.pdf\"\n",
    "\tpwpool.run(generate_metaplot, args=[d, ms, ylims, yticks, outputfile, test])"
   ]
  },
  {
   "cell_type": "code",
   "execution_count": 35,
   "id": "403ae32c-a5ac-4088-9f80-6737b8d902fd",
   "metadata": {
    "execution": {
     "iopub.execute_input": "2024-11-27T18:53:04.973853Z",
     "iopub.status.busy": "2024-11-27T18:53:04.973392Z",
     "iopub.status.idle": "2024-11-27T18:53:04.977797Z",
     "shell.execute_reply": "2024-11-27T18:53:04.977295Z",
     "shell.execute_reply.started": "2024-11-27T18:53:04.973831Z"
    }
   },
   "outputs": [
    {
     "data": {
      "text/plain": [
       "2"
      ]
     },
     "execution_count": 35,
     "metadata": {},
     "output_type": "execute_result"
    }
   ],
   "source": [
    "len(pwpool.finished_tasks)"
   ]
  },
  {
   "cell_type": "code",
   "execution_count": 36,
   "id": "e520b435-f483-435f-a347-081928475dc0",
   "metadata": {
    "execution": {
     "iopub.execute_input": "2024-11-27T18:53:05.778680Z",
     "iopub.status.busy": "2024-11-27T18:53:05.778392Z",
     "iopub.status.idle": "2024-11-27T18:53:05.781152Z",
     "shell.execute_reply": "2024-11-27T18:53:05.780730Z",
     "shell.execute_reply.started": "2024-11-27T18:53:05.778661Z"
    }
   },
   "outputs": [],
   "source": [
    "pwpool.close()"
   ]
  },
  {
   "cell_type": "code",
   "execution_count": null,
   "id": "2228689e-1c8b-4e60-baf0-6b06a1176723",
   "metadata": {},
   "outputs": [],
   "source": []
  }
 ],
 "metadata": {
  "kernelspec": {
   "display_name": "Python 3 (ipykernel)",
   "language": "python",
   "name": "python3"
  },
  "language_info": {
   "codemirror_mode": {
    "name": "ipython",
    "version": 3
   },
   "file_extension": ".py",
   "mimetype": "text/x-python",
   "name": "python",
   "nbconvert_exporter": "python",
   "pygments_lexer": "ipython3",
   "version": "3.10.8"
  }
 },
 "nbformat": 4,
 "nbformat_minor": 5
}

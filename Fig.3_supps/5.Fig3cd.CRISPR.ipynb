{
 "cells": [
  {
   "cell_type": "code",
   "execution_count": 1,
   "id": "faffe7b1-6d80-437d-af63-40412b27a9c8",
   "metadata": {
    "execution": {
     "iopub.execute_input": "2024-11-28T01:34:33.405366Z",
     "iopub.status.busy": "2024-11-28T01:34:33.405205Z",
     "iopub.status.idle": "2024-11-28T01:34:40.395809Z",
     "shell.execute_reply": "2024-11-28T01:34:40.395166Z",
     "shell.execute_reply.started": "2024-11-28T01:34:33.405348Z"
    }
   },
   "outputs": [],
   "source": [
    "import pandas as pd\n",
    "from collections import Counter, defaultdict\n",
    "import matplotlib.pyplot as plt\n",
    "import pybedtools\n",
    "import seaborn as sns\n",
    "import numpy as np\n",
    "from matplotlib.patches import Patch, Rectangle, Arc\n",
    "from biodata.delimited import DelimitedWriter\n",
    "import biodataplot.genomeview as gv\n",
    "import biodataplot.utils as bpu"
   ]
  },
  {
   "cell_type": "code",
   "execution_count": 2,
   "id": "298c2b38-04ce-4f59-a8ab-a15f89f1ceca",
   "metadata": {
    "execution": {
     "iopub.execute_input": "2024-11-28T01:34:40.398166Z",
     "iopub.status.busy": "2024-11-28T01:34:40.397962Z",
     "iopub.status.idle": "2024-11-28T01:34:40.404270Z",
     "shell.execute_reply": "2024-11-28T01:34:40.403804Z",
     "shell.execute_reply.started": "2024-11-28T01:34:40.398146Z"
    },
    "scrolled": true
   },
   "outputs": [],
   "source": [
    "import matplotlib\n",
    "from pathlib import Path\n",
    "font_dir = Path.cwd().parent / \"font\"\n",
    "for font in [\"Arial.ttf\", \"Arial_Bold.ttf\"]:\n",
    "    matplotlib.font_manager.fontManager.addfont(font_dir / font)\n",
    "matplotlib.rcParams[\"font.family\"] = \"Arial\"\n",
    "bfontsize = 12\n",
    "sfontsize = 9"
   ]
  },
  {
   "cell_type": "code",
   "execution_count": 3,
   "id": "2ddb865b-ac3c-402a-98b9-ae19f6e76023",
   "metadata": {
    "execution": {
     "iopub.execute_input": "2024-11-28T01:34:40.406362Z",
     "iopub.status.busy": "2024-11-28T01:34:40.406151Z",
     "iopub.status.idle": "2024-11-28T01:34:41.334032Z",
     "shell.execute_reply": "2024-11-28T01:34:41.333491Z",
     "shell.execute_reply.started": "2024-11-28T01:34:40.406342Z"
    },
    "tags": []
   },
   "outputs": [],
   "source": [
    "PROJECT_DIR_d = \"/fs/cbsuhy02/storage/yc2553/yc2553/projects/TRE_directionality/PROcap/\"\n",
    "PROJECT_DIR_r = \"/fs/cbsuhy02/storage/yc2553/yc2553/projects/TRE_directionality/resources/\"\n",
    "PROJECT_DIR_s = \"/fs/cbsuhy02/storage/yc2553/yc2553/projects/TRE_directionality/softwares/CRISPR_comparison/\"\n",
    "PROJECT_DIR_o = \"/fs/cbsuhy02/storage/yc2553/yc2553/projects/TRE_directionality/output/\""
   ]
  },
  {
   "cell_type": "markdown",
   "id": "7882d933-a392-4db4-a4c9-8fd15d99a77d",
   "metadata": {},
   "source": [
    "# CRISPR data"
   ]
  },
  {
   "cell_type": "code",
   "execution_count": 4,
   "id": "5c9dcc19-0ff8-4490-8468-a601b286b88d",
   "metadata": {
    "execution": {
     "iopub.execute_input": "2024-11-28T01:34:42.491790Z",
     "iopub.status.busy": "2024-11-28T01:34:42.491591Z",
     "iopub.status.idle": "2024-11-28T01:34:42.553357Z",
     "shell.execute_reply": "2024-11-28T01:34:42.552941Z",
     "shell.execute_reply.started": "2024-11-28T01:34:42.491771Z"
    }
   },
   "outputs": [
    {
     "data": {
      "text/html": [
       "<div>\n",
       "<style scoped>\n",
       "    .dataframe tbody tr th:only-of-type {\n",
       "        vertical-align: middle;\n",
       "    }\n",
       "\n",
       "    .dataframe tbody tr th {\n",
       "        vertical-align: top;\n",
       "    }\n",
       "\n",
       "    .dataframe thead th {\n",
       "        text-align: right;\n",
       "    }\n",
       "</style>\n",
       "<table border=\"1\" class=\"dataframe\">\n",
       "  <thead>\n",
       "    <tr style=\"text-align: right;\">\n",
       "      <th></th>\n",
       "      <th>chrom</th>\n",
       "      <th>chromStart</th>\n",
       "      <th>chromEnd</th>\n",
       "      <th>name</th>\n",
       "      <th>EffectSize</th>\n",
       "      <th>chrTSS</th>\n",
       "      <th>startTSS</th>\n",
       "      <th>endTSS</th>\n",
       "      <th>measuredGeneSymbol</th>\n",
       "      <th>Significant</th>\n",
       "      <th>...</th>\n",
       "      <th>PowerAtEffectSize10</th>\n",
       "      <th>PowerAtEffectSize15</th>\n",
       "      <th>PowerAtEffectSize20</th>\n",
       "      <th>PowerAtEffectSize25</th>\n",
       "      <th>PowerAtEffectSize50</th>\n",
       "      <th>ValidConnection</th>\n",
       "      <th>CellType</th>\n",
       "      <th>Reference</th>\n",
       "      <th>Regulated</th>\n",
       "      <th>Dataset</th>\n",
       "    </tr>\n",
       "  </thead>\n",
       "  <tbody>\n",
       "    <tr>\n",
       "      <th>0</th>\n",
       "      <td>chr1</td>\n",
       "      <td>3774714</td>\n",
       "      <td>3775214</td>\n",
       "      <td>CEP104|chr1:3691278-3691778:*</td>\n",
       "      <td>-0.293432</td>\n",
       "      <td>chr1</td>\n",
       "      <td>3857213.0</td>\n",
       "      <td>3857214.0</td>\n",
       "      <td>CEP104</td>\n",
       "      <td>True</td>\n",
       "      <td>...</td>\n",
       "      <td>NaN</td>\n",
       "      <td>NaN</td>\n",
       "      <td>NaN</td>\n",
       "      <td>0.825094</td>\n",
       "      <td>NaN</td>\n",
       "      <td>True</td>\n",
       "      <td>K562</td>\n",
       "      <td>Ulirsch2016</td>\n",
       "      <td>True</td>\n",
       "      <td>Nasser2021</td>\n",
       "    </tr>\n",
       "    <tr>\n",
       "      <th>1</th>\n",
       "      <td>chr1</td>\n",
       "      <td>3774714</td>\n",
       "      <td>3775214</td>\n",
       "      <td>LRRC47|chr1:3691278-3691778:*</td>\n",
       "      <td>-0.331178</td>\n",
       "      <td>chr1</td>\n",
       "      <td>3796503.0</td>\n",
       "      <td>3796504.0</td>\n",
       "      <td>LRRC47</td>\n",
       "      <td>True</td>\n",
       "      <td>...</td>\n",
       "      <td>NaN</td>\n",
       "      <td>NaN</td>\n",
       "      <td>NaN</td>\n",
       "      <td>0.608994</td>\n",
       "      <td>NaN</td>\n",
       "      <td>True</td>\n",
       "      <td>K562</td>\n",
       "      <td>Ulirsch2016</td>\n",
       "      <td>True</td>\n",
       "      <td>Nasser2021</td>\n",
       "    </tr>\n",
       "  </tbody>\n",
       "</table>\n",
       "<p>2 rows × 21 columns</p>\n",
       "</div>"
      ],
      "text/plain": [
       "  chrom  chromStart  chromEnd                           name  EffectSize  \\\n",
       "0  chr1     3774714   3775214  CEP104|chr1:3691278-3691778:*   -0.293432   \n",
       "1  chr1     3774714   3775214  LRRC47|chr1:3691278-3691778:*   -0.331178   \n",
       "\n",
       "  chrTSS   startTSS     endTSS measuredGeneSymbol  Significant  ...  \\\n",
       "0   chr1  3857213.0  3857214.0             CEP104         True  ...   \n",
       "1   chr1  3796503.0  3796504.0             LRRC47         True  ...   \n",
       "\n",
       "   PowerAtEffectSize10  PowerAtEffectSize15  PowerAtEffectSize20  \\\n",
       "0                  NaN                  NaN                  NaN   \n",
       "1                  NaN                  NaN                  NaN   \n",
       "\n",
       "   PowerAtEffectSize25  PowerAtEffectSize50  ValidConnection  CellType  \\\n",
       "0             0.825094                  NaN             True      K562   \n",
       "1             0.608994                  NaN             True      K562   \n",
       "\n",
       "     Reference Regulated     Dataset  \n",
       "0  Ulirsch2016      True  Nasser2021  \n",
       "1  Ulirsch2016      True  Nasser2021  \n",
       "\n",
       "[2 rows x 21 columns]"
      ]
     },
     "execution_count": 4,
     "metadata": {},
     "output_type": "execute_result"
    }
   ],
   "source": [
    "inputfile = f\"{PROJECT_DIR_s}resources/crispr_data/EPCrisprBenchmark_ensemble_data_GRCh38.tsv.gz\"\n",
    "df_info = pd.read_table(inputfile)\n",
    "df_info.head(2)"
   ]
  },
  {
   "cell_type": "code",
   "execution_count": 5,
   "id": "62ec8ba3-9f65-4025-b1d1-1adda26c8e3e",
   "metadata": {
    "execution": {
     "iopub.execute_input": "2024-11-28T01:34:42.554164Z",
     "iopub.status.busy": "2024-11-28T01:34:42.553898Z",
     "iopub.status.idle": "2024-11-28T01:34:43.661363Z",
     "shell.execute_reply": "2024-11-28T01:34:43.660948Z",
     "shell.execute_reply.started": "2024-11-28T01:34:42.554141Z"
    }
   },
   "outputs": [
    {
     "data": {
      "text/plain": [
       "Index(['chrom', 'chromStart', 'chromEnd', 'name', 'EffectSize', 'chrTSS',\n",
       "       'startTSS', 'endTSS', 'measuredGeneSymbol', 'Significant',\n",
       "       'pValueAdjusted', 'PowerAtEffectSize10', 'PowerAtEffectSize15',\n",
       "       'PowerAtEffectSize20', 'PowerAtEffectSize25', 'PowerAtEffectSize50',\n",
       "       'ValidConnection', 'CellType', 'Reference', 'Regulated', 'Dataset'],\n",
       "      dtype='object')"
      ]
     },
     "execution_count": 5,
     "metadata": {},
     "output_type": "execute_result"
    }
   ],
   "source": [
    "df_info.columns"
   ]
  },
  {
   "cell_type": "code",
   "execution_count": 6,
   "id": "700ffde2-7b3d-44e3-bfe8-f4946ca54811",
   "metadata": {
    "execution": {
     "iopub.execute_input": "2024-11-28T01:34:43.662201Z",
     "iopub.status.busy": "2024-11-28T01:34:43.661949Z",
     "iopub.status.idle": "2024-11-28T01:34:44.900597Z",
     "shell.execute_reply": "2024-11-28T01:34:44.900148Z",
     "shell.execute_reply.started": "2024-11-28T01:34:43.662181Z"
    }
   },
   "outputs": [
    {
     "data": {
      "text/plain": [
       "{'K562'}"
      ]
     },
     "execution_count": 6,
     "metadata": {},
     "output_type": "execute_result"
    }
   ],
   "source": [
    "set(df_info[\"CellType\"])"
   ]
  },
  {
   "cell_type": "code",
   "execution_count": 7,
   "id": "7386aa0d-33b4-478e-b531-87bc322dc83f",
   "metadata": {
    "execution": {
     "iopub.execute_input": "2024-11-28T01:34:44.901314Z",
     "iopub.status.busy": "2024-11-28T01:34:44.901089Z",
     "iopub.status.idle": "2024-11-28T01:34:46.443047Z",
     "shell.execute_reply": "2024-11-28T01:34:46.442593Z",
     "shell.execute_reply.started": "2024-11-28T01:34:44.901295Z"
    },
    "scrolled": true
   },
   "outputs": [],
   "source": [
    "# Get distance between P (TSS) and E (closer boundary)\n",
    "\n",
    "distances = {}\n",
    "for index, row in df_info.iterrows():\n",
    "\ttss = row[\"startTSS\"]\n",
    "\te_start = row[\"chromStart\"]\n",
    "\te_end = row[\"chromEnd\"]\n",
    "\tif abs(e_start-tss) <= abs(e_end-tss):\n",
    "\t\tdistances[row[\"name\"]] = abs(e_start-tss)\n",
    "\telse:\n",
    "\t\tdistances[row[\"name\"]] = abs(e_end-tss)"
   ]
  },
  {
   "cell_type": "code",
   "execution_count": 8,
   "id": "d0928e38-8a6c-45fb-91cf-39e93ade1c7e",
   "metadata": {
    "execution": {
     "iopub.execute_input": "2024-11-28T01:34:46.443820Z",
     "iopub.status.busy": "2024-11-28T01:34:46.443585Z",
     "iopub.status.idle": "2024-11-28T01:34:47.503478Z",
     "shell.execute_reply": "2024-11-28T01:34:47.502919Z",
     "shell.execute_reply.started": "2024-11-28T01:34:46.443801Z"
    }
   },
   "outputs": [
    {
     "data": {
      "text/plain": [
       "[('Gasperini et al., 2019', 5355),\n",
       " ('Fulco2019', 3501),\n",
       " ('Schraivogel et al., 2020', 1306),\n",
       " ('Klann2017', 122),\n",
       " ('Fulco2016', 103),\n",
       " ('Huang2018', 7),\n",
       " ('Xie2017', 6),\n",
       " ('Ulirsch2016', 5),\n",
       " ('Wakabayashi2016', 3),\n",
       " ('Thakore2015', 2),\n",
       " ('Qi2018', 1),\n",
       " ('Xu2015', 1)]"
      ]
     },
     "execution_count": 8,
     "metadata": {},
     "output_type": "execute_result"
    }
   ],
   "source": [
    "# Data source\n",
    "\n",
    "sorted(Counter(df_info[\"Reference\"]).items(), key=lambda item: item[1], reverse=True)"
   ]
  },
  {
   "cell_type": "code",
   "execution_count": 9,
   "id": "9b42ce8b-c867-4154-970d-41b6052fa670",
   "metadata": {
    "execution": {
     "iopub.execute_input": "2024-11-28T01:34:47.504225Z",
     "iopub.status.busy": "2024-11-28T01:34:47.504001Z",
     "iopub.status.idle": "2024-11-28T01:34:48.508443Z",
     "shell.execute_reply": "2024-11-28T01:34:48.508034Z",
     "shell.execute_reply.started": "2024-11-28T01:34:47.504207Z"
    }
   },
   "outputs": [
    {
     "data": {
      "text/plain": [
       "2146"
      ]
     },
     "execution_count": 9,
     "metadata": {},
     "output_type": "execute_result"
    }
   ],
   "source": [
    "# No. tested genes\n",
    "\n",
    "len(set(df_info[\"measuredGeneSymbol\"]))"
   ]
  },
  {
   "cell_type": "code",
   "execution_count": 10,
   "id": "dedee6a4-4aec-4144-af8c-787dab3155db",
   "metadata": {
    "execution": {
     "iopub.execute_input": "2024-11-28T01:34:48.509145Z",
     "iopub.status.busy": "2024-11-28T01:34:48.508921Z",
     "iopub.status.idle": "2024-11-28T01:34:49.515647Z",
     "shell.execute_reply": "2024-11-28T01:34:49.515235Z",
     "shell.execute_reply.started": "2024-11-28T01:34:48.509126Z"
    }
   },
   "outputs": [
    {
     "data": {
      "text/plain": [
       "3962"
      ]
     },
     "execution_count": 10,
     "metadata": {},
     "output_type": "execute_result"
    }
   ],
   "source": [
    "# No. tested enhancers\n",
    "\n",
    "len(set([name.split(\"|\")[1] for name in df_info[\"name\"]]))"
   ]
  },
  {
   "cell_type": "code",
   "execution_count": 11,
   "id": "d563c861-90eb-4da7-9b1b-c76cce0a77e3",
   "metadata": {
    "execution": {
     "iopub.execute_input": "2024-11-28T01:34:49.516353Z",
     "iopub.status.busy": "2024-11-28T01:34:49.516130Z",
     "iopub.status.idle": "2024-11-28T01:34:50.935994Z",
     "shell.execute_reply": "2024-11-28T01:34:50.935554Z",
     "shell.execute_reply.started": "2024-11-28T01:34:49.516335Z"
    }
   },
   "outputs": [
    {
     "data": {
      "text/plain": [
       "(569, 487, 487)"
      ]
     },
     "execution_count": 11,
     "metadata": {},
     "output_type": "execute_result"
    }
   ],
   "source": [
    "# Confirm \"Regulated\" is a subset of \"Significant\"\n",
    "\n",
    "len(df_info[df_info[\"Significant\"]==True]), len(df_info[df_info[\"Regulated\"]==True]), len(set(df_info[df_info[\"Significant\"]==True][\"name\"]) & set(df_info[df_info[\"Regulated\"]==True][\"name\"]))"
   ]
  },
  {
   "cell_type": "code",
   "execution_count": 12,
   "id": "868483be-556a-4706-acff-140113227b88",
   "metadata": {
    "execution": {
     "iopub.execute_input": "2024-11-28T01:34:50.936855Z",
     "iopub.status.busy": "2024-11-28T01:34:50.936590Z",
     "iopub.status.idle": "2024-11-28T01:34:52.326874Z",
     "shell.execute_reply": "2024-11-28T01:34:52.326357Z",
     "shell.execute_reply.started": "2024-11-28T01:34:50.936832Z"
    }
   },
   "outputs": [
    {
     "data": {
      "text/plain": [
       "(0.0016565925417555, 0.37107615)"
      ]
     },
     "execution_count": 12,
     "metadata": {},
     "output_type": "execute_result"
    }
   ],
   "source": [
    "# Significant but not regulated: gene expression increases after enhancer disruption\n",
    "\n",
    "df_sig = df_info[(df_info[\"Significant\"]==True)&(df_info[\"Regulated\"]==False)]\n",
    "min(df_sig[\"EffectSize\"]), max(df_sig[\"EffectSize\"])"
   ]
  },
  {
   "cell_type": "code",
   "execution_count": 13,
   "id": "f4e548cc-d785-49f8-8c05-686a083776ee",
   "metadata": {
    "execution": {
     "iopub.execute_input": "2024-11-28T01:34:52.329691Z",
     "iopub.status.busy": "2024-11-28T01:34:52.329107Z",
     "iopub.status.idle": "2024-11-28T01:34:54.089104Z",
     "shell.execute_reply": "2024-11-28T01:34:54.087795Z",
     "shell.execute_reply.started": "2024-11-28T01:34:52.329667Z"
    }
   },
   "outputs": [],
   "source": [
    "# Get effect size of regulated P-E pairs\n",
    "\n",
    "effects = {}\n",
    "for index, row in df_info.iterrows():\n",
    "\tif not np.isnan(row[\"EffectSize\"]):\n",
    "\t\teffects[row[\"name\"]] = (row[\"Regulated\"], row[\"EffectSize\"])"
   ]
  },
  {
   "cell_type": "markdown",
   "id": "009fa344-21e3-449c-ba1b-ce3774cf67ca",
   "metadata": {},
   "source": [
    "# CRISPR validation of TREs"
   ]
  },
  {
   "cell_type": "markdown",
   "id": "63789dfb-f2bf-45dc-ba2c-1a776bb5d56d",
   "metadata": {},
   "source": [
    "## CRIPSR regions vs. TREs"
   ]
  },
  {
   "cell_type": "code",
   "execution_count": 14,
   "id": "2cd68bfd-27c7-4af7-a1e2-cf0879668cc9",
   "metadata": {
    "execution": {
     "iopub.execute_input": "2024-11-28T01:34:54.089925Z",
     "iopub.status.busy": "2024-11-28T01:34:54.089679Z",
     "iopub.status.idle": "2024-11-28T01:34:54.730938Z",
     "shell.execute_reply": "2024-11-28T01:34:54.730500Z",
     "shell.execute_reply.started": "2024-11-28T01:34:54.089904Z"
    }
   },
   "outputs": [],
   "source": [
    "s = \"C1\"\n",
    "ps = [\"divergent\", \"unidirectional\"]\n",
    "d = \"distal\""
   ]
  },
  {
   "cell_type": "code",
   "execution_count": 15,
   "id": "af361ac0-c369-458b-9a4d-c6add9e3ed82",
   "metadata": {
    "execution": {
     "iopub.execute_input": "2024-11-28T01:34:54.731690Z",
     "iopub.status.busy": "2024-11-28T01:34:54.731465Z",
     "iopub.status.idle": "2024-11-28T01:34:56.136347Z",
     "shell.execute_reply": "2024-11-28T01:34:56.135873Z",
     "shell.execute_reply.started": "2024-11-28T01:34:54.731671Z"
    }
   },
   "outputs": [],
   "source": [
    "outputfile = f\"{PROJECT_DIR_s}resources/crispr_data/EPCrisprBenchmark_ensemble_data_GRCh38.bed\"\n",
    "df_info.to_csv(outputfile, sep=\"\\t\", index=False, header=None)\n",
    "b1 = pybedtools.BedTool(outputfile)"
   ]
  },
  {
   "cell_type": "code",
   "execution_count": 16,
   "id": "af2b92e3-8474-44ec-8844-377b5d0a966e",
   "metadata": {
    "execution": {
     "iopub.execute_input": "2024-11-28T01:34:56.137162Z",
     "iopub.status.busy": "2024-11-28T01:34:56.136924Z",
     "iopub.status.idle": "2024-11-28T01:34:57.600149Z",
     "shell.execute_reply": "2024-11-28T01:34:57.599656Z",
     "shell.execute_reply.started": "2024-11-28T01:34:56.137143Z"
    },
    "scrolled": true
   },
   "outputs": [],
   "source": [
    "# Assign PROcap element to a CRISPR element (>50% TRE length)\n",
    "\n",
    "mapping_all = {}\n",
    "mapping_rev = defaultdict(set)\n",
    "for p in ps:\n",
    "\tmapping_all[p] = defaultdict(set)\n",
    "\tb2 = pybedtools.BedTool(f\"{PROJECT_DIR_d}bed_plot/{s}_{p}_{d}.bed\")\n",
    "\t# f: Minimum overlap required as a fraction of A\n",
    "\toverlap = b2.intersect(b1, wao=True, f=0.5)\n",
    "\tfor i in overlap:\n",
    "\t\tif int(i.fields[-1]) > 0:\n",
    "\t\t\tprocap_region = (i.fields[0], int(i.fields[1]), int(i.fields[2]))\n",
    "\t\t\tcrispr_region = tuple(i.fields[8:11])\n",
    "\t\t\tpair, gene = i.fields[11], i.fields[16]\n",
    "\t\t\t# one crispr region can have > 1 target genes\n",
    "\t\t\t# different studies may test overlapping crispr regions\n",
    "\t\t\tmapping_all[p][procap_region].add((crispr_region, pair, gene))\n",
    "\t\t\tmapping_rev[crispr_region].add((procap_region, p))"
   ]
  },
  {
   "cell_type": "code",
   "execution_count": 17,
   "id": "912ca696-c0a2-4c42-9ee8-774fbf642389",
   "metadata": {
    "execution": {
     "iopub.execute_input": "2024-11-28T01:34:57.601020Z",
     "iopub.status.busy": "2024-11-28T01:34:57.600766Z",
     "iopub.status.idle": "2024-11-28T01:34:57.940625Z",
     "shell.execute_reply": "2024-11-28T01:34:57.940212Z",
     "shell.execute_reply.started": "2024-11-28T01:34:57.601000Z"
    }
   },
   "outputs": [
    {
     "data": {
      "text/plain": [
       "(1104, 34, 68)"
      ]
     },
     "execution_count": 17,
     "metadata": {},
     "output_type": "execute_result"
    }
   ],
   "source": [
    "len(mapping_rev), len([e for e in mapping_rev if len(mapping_rev[e]) > 1]), sum([len(mapping_rev[e]) for e in mapping_rev if len(mapping_rev[e]) > 1])"
   ]
  },
  {
   "cell_type": "code",
   "execution_count": 18,
   "id": "8ad8aec7-6f1c-4c29-8c98-e69fdd9bf9a5",
   "metadata": {
    "execution": {
     "iopub.execute_input": "2024-11-28T01:34:57.941354Z",
     "iopub.status.busy": "2024-11-28T01:34:57.941134Z",
     "iopub.status.idle": "2024-11-28T01:34:59.209310Z",
     "shell.execute_reply": "2024-11-28T01:34:59.208872Z",
     "shell.execute_reply.started": "2024-11-28T01:34:57.941335Z"
    }
   },
   "outputs": [],
   "source": [
    "# If one CRISPR region overlaps with > 1 TREs, remove this region\n",
    "\n",
    "mapping = {}\n",
    "for p in mapping_all:\n",
    "\tmapping[p] = defaultdict(set)\n",
    "\tfor e in mapping_all[p]:\n",
    "\t\tfor k in mapping_all[p][e]:\n",
    "\t\t\tif len(mapping_rev[k[0]]) == 1:\n",
    "\t\t\t\tmapping[p][e].add(k)"
   ]
  },
  {
   "cell_type": "markdown",
   "id": "44b0d555-3e87-47fb-9e8f-def1ef58dfce",
   "metadata": {},
   "source": [
    "## 2.2 Effect size vs. distance"
   ]
  },
  {
   "cell_type": "code",
   "execution_count": 19,
   "id": "fc65bb7f-bc87-4630-89f5-167143f03297",
   "metadata": {
    "execution": {
     "iopub.execute_input": "2024-11-28T01:34:59.210068Z",
     "iopub.status.busy": "2024-11-28T01:34:59.209835Z",
     "iopub.status.idle": "2024-11-28T01:35:00.674499Z",
     "shell.execute_reply": "2024-11-28T01:35:00.673473Z",
     "shell.execute_reply.started": "2024-11-28T01:34:59.210050Z"
    },
    "scrolled": true
   },
   "outputs": [],
   "source": [
    "# Check the effect size and P-E distance\n",
    "# Only focus on regulated elements\n",
    "# If one element - gene pair is validated in multiple experiments, use the highest effect sizes\n",
    "\n",
    "effects2 = defaultdict(dict)\n",
    "tots = defaultdict(set)\n",
    "for p in ps:\n",
    "\tfor e in mapping[p]:\n",
    "\t\tif len(mapping[p][e]) > 0:\n",
    "\t\t\tfor k in mapping[p][e]:\n",
    "\t\t\t\tcrispr_region, pair, gene = k\n",
    "\t\t\t\tif pair in effects:\n",
    "\t\t\t\t\ttots[p].add((e, gene))\n",
    "\t\t\t\t\tif effects[pair][0]:\n",
    "\t\t\t\t\t\tif (e, gene) not in effects2[p] or abs(effects[pair][1]) > effects2[p][(e, gene)][0]:\n",
    "\t\t\t\t\t\t\teffects2[p][(e, gene)] = (effects[pair][1], pair)"
   ]
  },
  {
   "cell_type": "code",
   "execution_count": 20,
   "id": "f66f1232-fc61-4a95-a92f-2b8e8e4e2df2",
   "metadata": {
    "execution": {
     "iopub.execute_input": "2024-11-28T01:35:00.675233Z",
     "iopub.status.busy": "2024-11-28T01:35:00.675005Z",
     "iopub.status.idle": "2024-11-28T01:35:02.123949Z",
     "shell.execute_reply": "2024-11-28T01:35:02.123405Z",
     "shell.execute_reply.started": "2024-11-28T01:35:00.675215Z"
    }
   },
   "outputs": [
    {
     "name": "stdout",
     "output_type": "stream",
     "text": [
      "divergent 833 202 170 0.20408163265306123\n",
      "unidirectional 202 26 23 0.11386138613861387\n"
     ]
    }
   ],
   "source": [
    "for p in effects2:\n",
    "\tprint(p, \n",
    "\t\t  # No. unique elements mapped to CRISPR regions\n",
    "\t\t  len(set([k[0] for k in tots[p]])), \n",
    "\t\t  # No. regulated pairs\n",
    "\t\t  len(effects2[p]), \n",
    "\t\t  # No. unique elements in regulated pairs\n",
    "\t\t  len(set([k[0] for k in effects2[p]])),\n",
    "\t\t  # Proportion\n",
    "\t\t  len(set([k[0] for k in effects2[p]]))/len(set([k[0] for k in tots[p]]))\n",
    "\t\t )"
   ]
  },
  {
   "cell_type": "code",
   "execution_count": 21,
   "id": "81f55b84-8f12-4792-a6c4-836d18b19a6a",
   "metadata": {
    "execution": {
     "iopub.execute_input": "2024-11-28T01:35:02.124692Z",
     "iopub.status.busy": "2024-11-28T01:35:02.124467Z",
     "iopub.status.idle": "2024-11-28T01:35:03.513202Z",
     "shell.execute_reply": "2024-11-28T01:35:03.512774Z",
     "shell.execute_reply.started": "2024-11-28T01:35:02.124673Z"
    }
   },
   "outputs": [
    {
     "data": {
      "text/html": [
       "<div>\n",
       "<style scoped>\n",
       "    .dataframe tbody tr th:only-of-type {\n",
       "        vertical-align: middle;\n",
       "    }\n",
       "\n",
       "    .dataframe tbody tr th {\n",
       "        vertical-align: top;\n",
       "    }\n",
       "\n",
       "    .dataframe thead th {\n",
       "        text-align: right;\n",
       "    }\n",
       "</style>\n",
       "<table border=\"1\" class=\"dataframe\">\n",
       "  <thead>\n",
       "    <tr style=\"text-align: right;\">\n",
       "      <th></th>\n",
       "      <th>0</th>\n",
       "      <th>1</th>\n",
       "      <th>2</th>\n",
       "      <th>3</th>\n",
       "    </tr>\n",
       "  </thead>\n",
       "  <tbody>\n",
       "    <tr>\n",
       "      <th>0</th>\n",
       "      <td>Divergent</td>\n",
       "      <td>(chr1, 3774703, 3775204)</td>\n",
       "      <td>-29.343187</td>\n",
       "      <td>81.999</td>\n",
       "    </tr>\n",
       "    <tr>\n",
       "      <th>1</th>\n",
       "      <td>Divergent</td>\n",
       "      <td>(chr1, 3774703, 3775204)</td>\n",
       "      <td>-47.201922</td>\n",
       "      <td>1.953</td>\n",
       "    </tr>\n",
       "  </tbody>\n",
       "</table>\n",
       "</div>"
      ],
      "text/plain": [
       "           0                         1          2       3\n",
       "0  Divergent  (chr1, 3774703, 3775204) -29.343187  81.999\n",
       "1  Divergent  (chr1, 3774703, 3775204) -47.201922   1.953"
      ]
     },
     "execution_count": 21,
     "metadata": {},
     "output_type": "execute_result"
    }
   ],
   "source": [
    "results = []\n",
    "for p in ps:\n",
    "\tfor e, gene in effects2[p]:\n",
    "\t\teffect, pair = effects2[p][(e,gene)]\n",
    "\t\tresults.append([p.capitalize(), e, effect*100, distances[pair]/1000])\n",
    "df_effect = pd.DataFrame(results)\n",
    "df_effect.head(2)"
   ]
  },
  {
   "cell_type": "code",
   "execution_count": 22,
   "id": "6ea5a1d3-0173-4314-bfeb-f146e55da7c9",
   "metadata": {
    "execution": {
     "iopub.execute_input": "2024-11-28T01:35:03.514026Z",
     "iopub.status.busy": "2024-11-28T01:35:03.513754Z",
     "iopub.status.idle": "2024-11-28T01:35:04.827859Z",
     "shell.execute_reply": "2024-11-28T01:35:04.827378Z",
     "shell.execute_reply.started": "2024-11-28T01:35:03.514004Z"
    }
   },
   "outputs": [
    {
     "data": {
      "text/plain": [
       "(26, 23)"
      ]
     },
     "execution_count": 22,
     "metadata": {},
     "output_type": "execute_result"
    }
   ],
   "source": [
    "# No. target genes, No. TREs\n",
    "\n",
    "len(df_effect[df_effect[0]==\"Unidirectional\"]), len(set(df_effect[df_effect[0]==\"Unidirectional\"][1]))"
   ]
  },
  {
   "cell_type": "code",
   "execution_count": 23,
   "id": "af50b8cc-a500-493c-9dc5-ddb775f11403",
   "metadata": {
    "execution": {
     "iopub.execute_input": "2024-11-28T01:35:04.829786Z",
     "iopub.status.busy": "2024-11-28T01:35:04.829531Z",
     "iopub.status.idle": "2024-11-28T01:35:06.649348Z",
     "shell.execute_reply": "2024-11-28T01:35:06.648896Z",
     "shell.execute_reply.started": "2024-11-28T01:35:04.829765Z"
    },
    "scrolled": true
   },
   "outputs": [
    {
     "data": {
      "image/png": "[encoded data removed]",
      "text/plain": [
       "<Figure size 300x350 with 1 Axes>"
      ]
     },
     "metadata": {},
     "output_type": "display_data"
    }
   ],
   "source": [
    "fig, ax = plt.subplots(figsize=(3,3.5))\n",
    "g = sns.scatterplot(data=df_effect, x=3, y=2, \n",
    "\t\t\t\t\thue=0, palette=[\"#313695\", \"#de77ae\"], \n",
    "\t\t\t\t\talpha=0.8, s=30, ax=ax)\n",
    "g.spines[[\"right\", \"top\"]].set_visible(False)\n",
    "\n",
    "g.set_ylim([-98, 15])\n",
    "g.set_ylabel(\"Effect on gene expression (%)\", fontsize=bfontsize, fontweight=\"bold\")\n",
    "\n",
    "plt.xscale(\"log\")\n",
    "plt.xticks([1, 10, 100, 1000], [\"1\", \"10\", \"100\", \"1000\"])\n",
    "g.set_xlabel(\"Distance (kb)\", fontsize=bfontsize, fontweight=\"bold\")\n",
    "\n",
    "g.tick_params(labelsize=sfontsize)\n",
    "\n",
    "g.axhline(y=0, ls=\"--\", c=\"grey\")\n",
    "\n",
    "handles, labels = g.get_legend_handles_labels()\n",
    "g.legend(loc=\"upper center\", bbox_to_anchor=(0.5, 1.02), ncol=2, \n",
    "\t\t handletextpad=0.2, fontsize=sfontsize, frameon=False)\n",
    "\n",
    "outputfile = f\"{PROJECT_DIR_o}figures/Fig3c.pdf\"\n",
    "plt.savefig(outputfile, bbox_inches=\"tight\", dpi=300)"
   ]
  },
  {
   "cell_type": "markdown",
   "id": "114234ec-3b93-4def-9482-b8a7a3c9a00b",
   "metadata": {},
   "source": [
    "# Examples"
   ]
  },
  {
   "cell_type": "markdown",
   "id": "c8478a5c-557e-4fe1-896f-c573b703617a",
   "metadata": {},
   "source": [
    "## Pick examples"
   ]
  },
  {
   "cell_type": "code",
   "execution_count": 24,
   "id": "8277ad91-08ed-401a-97c9-6eca5b549c38",
   "metadata": {
    "execution": {
     "iopub.execute_input": "2024-11-28T01:37:20.817621Z",
     "iopub.status.busy": "2024-11-28T01:37:20.816935Z",
     "iopub.status.idle": "2024-11-28T01:37:20.820871Z",
     "shell.execute_reply": "2024-11-28T01:37:20.820426Z",
     "shell.execute_reply.started": "2024-11-28T01:37:20.817595Z"
    },
    "scrolled": true
   },
   "outputs": [],
   "source": [
    "e2g = {}\n",
    "for p in ps:\n",
    "\te2g[p] = defaultdict(set)\n",
    "\tfor e, gene in effects2[p]:\n",
    "\t\te2g[p][e].add(gene)"
   ]
  },
  {
   "cell_type": "code",
   "execution_count": 25,
   "id": "7018e5df-4a0e-46c4-a585-813ecb503045",
   "metadata": {
    "execution": {
     "iopub.execute_input": "2024-11-28T01:37:21.402857Z",
     "iopub.status.busy": "2024-11-28T01:37:21.402610Z",
     "iopub.status.idle": "2024-11-28T01:37:23.057566Z",
     "shell.execute_reply": "2024-11-28T01:37:23.057117Z",
     "shell.execute_reply.started": "2024-11-28T01:37:21.402837Z"
    }
   },
   "outputs": [
    {
     "name": "stdout",
     "output_type": "stream",
     "text": [
      "('chr17', 32894199, 32894700) {'SPACA3', 'MYO1D', 'TMEM98'}\n",
      "('chr5', 53118899, 53119400) {'MOCS2', 'CTD-2366F13.1'}\n"
     ]
    }
   ],
   "source": [
    "# Unidirectional elements with > 1 target genes\n",
    "\n",
    "p = \"unidirectional\"\n",
    "for e in e2g[p]:\n",
    "\tif len(e2g[p][e]) > 1:\n",
    "\t\tprint(e, e2g[p][e])"
   ]
  },
  {
   "cell_type": "markdown",
   "id": "4c1ca69a-a63b-488a-b74f-16f0b30e3705",
   "metadata": {},
   "source": [
    "## Genomic position"
   ]
  },
  {
   "cell_type": "code",
   "execution_count": 26,
   "id": "404fc6d0-7841-4a11-a82b-ab5fac58bba3",
   "metadata": {
    "execution": {
     "iopub.execute_input": "2024-11-28T01:37:24.168367Z",
     "iopub.status.busy": "2024-11-28T01:37:24.168092Z",
     "iopub.status.idle": "2024-11-28T01:37:24.450352Z",
     "shell.execute_reply": "2024-11-28T01:37:24.449447Z",
     "shell.execute_reply.started": "2024-11-28T01:37:24.168349Z"
    }
   },
   "outputs": [],
   "source": [
    "e = ('chr17', 32894199, 32894700)\n",
    "genes = {'MYO1D', 'TMEM98', 'SPACA3'}\n",
    "pairs = [effects2[p][(e, gene)][-1] for gene in genes]"
   ]
  },
  {
   "cell_type": "code",
   "execution_count": 27,
   "id": "5b91483d-1862-45b8-9850-fa16b6e27df0",
   "metadata": {
    "execution": {
     "iopub.execute_input": "2024-11-28T01:37:24.779134Z",
     "iopub.status.busy": "2024-11-28T01:37:24.778896Z",
     "iopub.status.idle": "2024-11-28T01:37:25.603181Z",
     "shell.execute_reply": "2024-11-28T01:37:25.602688Z",
     "shell.execute_reply.started": "2024-11-28T01:37:24.779115Z"
    }
   },
   "outputs": [
    {
     "data": {
      "text/html": [
       "<div>\n",
       "<style scoped>\n",
       "    .dataframe tbody tr th:only-of-type {\n",
       "        vertical-align: middle;\n",
       "    }\n",
       "\n",
       "    .dataframe tbody tr th {\n",
       "        vertical-align: top;\n",
       "    }\n",
       "\n",
       "    .dataframe thead th {\n",
       "        text-align: right;\n",
       "    }\n",
       "</style>\n",
       "<table border=\"1\" class=\"dataframe\">\n",
       "  <thead>\n",
       "    <tr style=\"text-align: right;\">\n",
       "      <th></th>\n",
       "      <th>chrom</th>\n",
       "      <th>chromStart</th>\n",
       "      <th>chromEnd</th>\n",
       "      <th>name</th>\n",
       "      <th>EffectSize</th>\n",
       "      <th>chrTSS</th>\n",
       "      <th>startTSS</th>\n",
       "      <th>endTSS</th>\n",
       "      <th>measuredGeneSymbol</th>\n",
       "      <th>Significant</th>\n",
       "      <th>...</th>\n",
       "      <th>PowerAtEffectSize10</th>\n",
       "      <th>PowerAtEffectSize15</th>\n",
       "      <th>PowerAtEffectSize20</th>\n",
       "      <th>PowerAtEffectSize25</th>\n",
       "      <th>PowerAtEffectSize50</th>\n",
       "      <th>ValidConnection</th>\n",
       "      <th>CellType</th>\n",
       "      <th>Reference</th>\n",
       "      <th>Regulated</th>\n",
       "      <th>Dataset</th>\n",
       "    </tr>\n",
       "  </thead>\n",
       "  <tbody>\n",
       "    <tr>\n",
       "      <th>3380</th>\n",
       "      <td>chr17</td>\n",
       "      <td>32893739</td>\n",
       "      <td>32895015</td>\n",
       "      <td>MYO1D|chr17:31220757-31222033:*</td>\n",
       "      <td>-0.387</td>\n",
       "      <td>chr17</td>\n",
       "      <td>32877176.0</td>\n",
       "      <td>32877177.0</td>\n",
       "      <td>MYO1D</td>\n",
       "      <td>True</td>\n",
       "      <td>...</td>\n",
       "      <td>NaN</td>\n",
       "      <td>NaN</td>\n",
       "      <td>NaN</td>\n",
       "      <td>0.256838</td>\n",
       "      <td>NaN</td>\n",
       "      <td>True</td>\n",
       "      <td>K562</td>\n",
       "      <td>Huang2018</td>\n",
       "      <td>True</td>\n",
       "      <td>Nasser2021</td>\n",
       "    </tr>\n",
       "    <tr>\n",
       "      <th>3383</th>\n",
       "      <td>chr17</td>\n",
       "      <td>32893739</td>\n",
       "      <td>32895015</td>\n",
       "      <td>SPACA3|chr17:31220757-31222033:*</td>\n",
       "      <td>-0.328</td>\n",
       "      <td>chr17</td>\n",
       "      <td>32970376.0</td>\n",
       "      <td>32970377.0</td>\n",
       "      <td>SPACA3</td>\n",
       "      <td>True</td>\n",
       "      <td>...</td>\n",
       "      <td>NaN</td>\n",
       "      <td>NaN</td>\n",
       "      <td>NaN</td>\n",
       "      <td>0.198588</td>\n",
       "      <td>NaN</td>\n",
       "      <td>True</td>\n",
       "      <td>K562</td>\n",
       "      <td>Huang2018</td>\n",
       "      <td>True</td>\n",
       "      <td>Nasser2021</td>\n",
       "    </tr>\n",
       "    <tr>\n",
       "      <th>3385</th>\n",
       "      <td>chr17</td>\n",
       "      <td>32893739</td>\n",
       "      <td>32895015</td>\n",
       "      <td>TMEM98|chr17:31220757-31222033:*</td>\n",
       "      <td>-0.329</td>\n",
       "      <td>chr17</td>\n",
       "      <td>32927910.0</td>\n",
       "      <td>32927911.0</td>\n",
       "      <td>TMEM98</td>\n",
       "      <td>True</td>\n",
       "      <td>...</td>\n",
       "      <td>NaN</td>\n",
       "      <td>NaN</td>\n",
       "      <td>NaN</td>\n",
       "      <td>0.826891</td>\n",
       "      <td>NaN</td>\n",
       "      <td>True</td>\n",
       "      <td>K562</td>\n",
       "      <td>Huang2018</td>\n",
       "      <td>True</td>\n",
       "      <td>Nasser2021</td>\n",
       "    </tr>\n",
       "  </tbody>\n",
       "</table>\n",
       "<p>3 rows × 21 columns</p>\n",
       "</div>"
      ],
      "text/plain": [
       "      chrom  chromStart  chromEnd                              name  \\\n",
       "3380  chr17    32893739  32895015   MYO1D|chr17:31220757-31222033:*   \n",
       "3383  chr17    32893739  32895015  SPACA3|chr17:31220757-31222033:*   \n",
       "3385  chr17    32893739  32895015  TMEM98|chr17:31220757-31222033:*   \n",
       "\n",
       "      EffectSize chrTSS    startTSS      endTSS measuredGeneSymbol  \\\n",
       "3380      -0.387  chr17  32877176.0  32877177.0              MYO1D   \n",
       "3383      -0.328  chr17  32970376.0  32970377.0             SPACA3   \n",
       "3385      -0.329  chr17  32927910.0  32927911.0             TMEM98   \n",
       "\n",
       "      Significant  ...  PowerAtEffectSize10  PowerAtEffectSize15  \\\n",
       "3380         True  ...                  NaN                  NaN   \n",
       "3383         True  ...                  NaN                  NaN   \n",
       "3385         True  ...                  NaN                  NaN   \n",
       "\n",
       "      PowerAtEffectSize20  PowerAtEffectSize25  PowerAtEffectSize50  \\\n",
       "3380                  NaN             0.256838                  NaN   \n",
       "3383                  NaN             0.198588                  NaN   \n",
       "3385                  NaN             0.826891                  NaN   \n",
       "\n",
       "      ValidConnection  CellType  Reference Regulated     Dataset  \n",
       "3380             True      K562  Huang2018      True  Nasser2021  \n",
       "3383             True      K562  Huang2018      True  Nasser2021  \n",
       "3385             True      K562  Huang2018      True  Nasser2021  \n",
       "\n",
       "[3 rows x 21 columns]"
      ]
     },
     "execution_count": 27,
     "metadata": {},
     "output_type": "execute_result"
    }
   ],
   "source": [
    "df_select = df_info[df_info[\"name\"].isin(pairs)]\n",
    "df_select"
   ]
  },
  {
   "cell_type": "code",
   "execution_count": 28,
   "id": "835cf9bd-8fa9-4327-ad3e-6af68e329153",
   "metadata": {
    "execution": {
     "iopub.execute_input": "2024-11-28T01:37:25.604213Z",
     "iopub.status.busy": "2024-11-28T01:37:25.603971Z",
     "iopub.status.idle": "2024-11-28T01:37:26.912455Z",
     "shell.execute_reply": "2024-11-28T01:37:26.912022Z",
     "shell.execute_reply.started": "2024-11-28T01:37:25.604192Z"
    }
   },
   "outputs": [
    {
     "data": {
      "text/plain": [
       "{'Huang2018'}"
      ]
     },
     "execution_count": 28,
     "metadata": {},
     "output_type": "execute_result"
    }
   ],
   "source": [
    "# Same resource\n",
    "\n",
    "set(df_select[\"Reference\"])"
   ]
  },
  {
   "cell_type": "code",
   "execution_count": 29,
   "id": "106c07e1-cecf-47a2-b14a-40a78d533bf0",
   "metadata": {
    "execution": {
     "iopub.execute_input": "2024-11-28T01:37:26.913385Z",
     "iopub.status.busy": "2024-11-28T01:37:26.913155Z",
     "iopub.status.idle": "2024-11-28T01:37:27.930989Z",
     "shell.execute_reply": "2024-11-28T01:37:27.930438Z",
     "shell.execute_reply.started": "2024-11-28T01:37:26.913366Z"
    }
   },
   "outputs": [],
   "source": [
    "# CRISPR region\n",
    "\n",
    "crispr_region = list(df_select[\"chrom\"])[0], list(df_select[\"chromStart\"])[0], list(df_select[\"chromEnd\"])[0]"
   ]
  },
  {
   "cell_type": "code",
   "execution_count": 30,
   "id": "52910e8b-a48c-4b37-b692-af5ff173c9cb",
   "metadata": {
    "execution": {
     "iopub.execute_input": "2024-11-28T01:37:27.931736Z",
     "iopub.status.busy": "2024-11-28T01:37:27.931508Z",
     "iopub.status.idle": "2024-11-28T01:37:29.292116Z",
     "shell.execute_reply": "2024-11-28T01:37:29.291647Z",
     "shell.execute_reply.started": "2024-11-28T01:37:27.931717Z"
    }
   },
   "outputs": [
    {
     "data": {
      "text/plain": [
       "(-0.387, -0.328)"
      ]
     },
     "execution_count": 30,
     "metadata": {},
     "output_type": "execute_result"
    }
   ],
   "source": [
    "# Range of effect size\n",
    "\n",
    "min(df_select[\"EffectSize\"]), max(df_select[\"EffectSize\"])"
   ]
  },
  {
   "cell_type": "code",
   "execution_count": 31,
   "id": "39287fe6-ad76-438a-b394-34c109e00f10",
   "metadata": {
    "execution": {
     "iopub.execute_input": "2024-11-28T01:37:29.293256Z",
     "iopub.status.busy": "2024-11-28T01:37:29.293008Z",
     "iopub.status.idle": "2024-11-28T01:37:30.642432Z",
     "shell.execute_reply": "2024-11-28T01:37:30.641993Z",
     "shell.execute_reply.started": "2024-11-28T01:37:29.293238Z"
    }
   },
   "outputs": [
    {
     "data": {
      "text/html": [
       "<div>\n",
       "<style scoped>\n",
       "    .dataframe tbody tr th:only-of-type {\n",
       "        vertical-align: middle;\n",
       "    }\n",
       "\n",
       "    .dataframe tbody tr th {\n",
       "        vertical-align: top;\n",
       "    }\n",
       "\n",
       "    .dataframe thead th {\n",
       "        text-align: right;\n",
       "    }\n",
       "</style>\n",
       "<table border=\"1\" class=\"dataframe\">\n",
       "  <thead>\n",
       "    <tr style=\"text-align: right;\">\n",
       "      <th></th>\n",
       "      <th>#chr</th>\n",
       "      <th>start</th>\n",
       "      <th>end</th>\n",
       "      <th>name</th>\n",
       "      <th>score</th>\n",
       "      <th>strand</th>\n",
       "      <th>Ensembl_ID</th>\n",
       "      <th>gene_type</th>\n",
       "    </tr>\n",
       "  </thead>\n",
       "  <tbody>\n",
       "    <tr>\n",
       "      <th>15994</th>\n",
       "      <td>chr17</td>\n",
       "      <td>32492521</td>\n",
       "      <td>32877173</td>\n",
       "      <td>MYO1D</td>\n",
       "      <td>0</td>\n",
       "      <td>-</td>\n",
       "      <td>ENSG00000176658</td>\n",
       "      <td>protein_coding</td>\n",
       "    </tr>\n",
       "    <tr>\n",
       "      <th>15995</th>\n",
       "      <td>chr17</td>\n",
       "      <td>32927909</td>\n",
       "      <td>32941649</td>\n",
       "      <td>TMEM98</td>\n",
       "      <td>0</td>\n",
       "      <td>+</td>\n",
       "      <td>ENSG00000006042</td>\n",
       "      <td>protein_coding</td>\n",
       "    </tr>\n",
       "    <tr>\n",
       "      <th>15996</th>\n",
       "      <td>chr17</td>\n",
       "      <td>32991863</td>\n",
       "      <td>32997877</td>\n",
       "      <td>SPACA3</td>\n",
       "      <td>0</td>\n",
       "      <td>+</td>\n",
       "      <td>ENSG00000141316</td>\n",
       "      <td>protein_coding</td>\n",
       "    </tr>\n",
       "  </tbody>\n",
       "</table>\n",
       "</div>"
      ],
      "text/plain": [
       "        #chr     start       end    name  score strand       Ensembl_ID  \\\n",
       "15994  chr17  32492521  32877173   MYO1D      0      -  ENSG00000176658   \n",
       "15995  chr17  32927909  32941649  TMEM98      0      +  ENSG00000006042   \n",
       "15996  chr17  32991863  32997877  SPACA3      0      +  ENSG00000141316   \n",
       "\n",
       "            gene_type  \n",
       "15994  protein_coding  \n",
       "15995  protein_coding  \n",
       "15996  protein_coding  "
      ]
     },
     "execution_count": 31,
     "metadata": {},
     "output_type": "execute_result"
    }
   ],
   "source": [
    "# Get coordinates for genes\n",
    "\n",
    "inputfile = f\"{PROJECT_DIR_s}resources/genome_annotations/CollapsedGeneBounds.hg38.bed\"\n",
    "df_annot = pd.read_table(inputfile)\n",
    "df_annot = df_annot[df_annot[\"name\"].isin(genes)]\n",
    "df_annot.head()"
   ]
  },
  {
   "cell_type": "code",
   "execution_count": 32,
   "id": "d8f56a58-9b6e-44e6-a91b-692aedb79ff0",
   "metadata": {
    "execution": {
     "iopub.execute_input": "2024-11-28T01:37:30.643187Z",
     "iopub.status.busy": "2024-11-28T01:37:30.642951Z",
     "iopub.status.idle": "2024-11-28T01:37:31.864935Z",
     "shell.execute_reply": "2024-11-28T01:37:31.864345Z",
     "shell.execute_reply.started": "2024-11-28T01:37:30.643167Z"
    }
   },
   "outputs": [],
   "source": [
    "coordinates = {}\n",
    "for index, row in df_annot.iterrows():\n",
    "\tchrom, start, end, gene, _, strand = row[:6]\n",
    "\tcoordinates[gene] = (chrom, start, end, strand)"
   ]
  },
  {
   "cell_type": "code",
   "execution_count": 33,
   "id": "86fb85ee-a723-4852-8535-5b976fca37c6",
   "metadata": {
    "execution": {
     "iopub.execute_input": "2024-11-28T01:37:31.866123Z",
     "iopub.status.busy": "2024-11-28T01:37:31.865868Z",
     "iopub.status.idle": "2024-11-28T01:37:33.218162Z",
     "shell.execute_reply": "2024-11-28T01:37:33.217734Z",
     "shell.execute_reply.started": "2024-11-28T01:37:31.866102Z"
    }
   },
   "outputs": [
    {
     "data": {
      "image/png": "[encoded data removed]",
      "text/plain": [
       "<Figure size 750x100 with 1 Axes>"
      ]
     },
     "metadata": {},
     "output_type": "display_data"
    }
   ],
   "source": [
    "fig, ax = plt.subplots(figsize=(7.5,1))\n",
    "ax.axis('off')\n",
    "ax.set_xlim([np.min(df_annot[\"start\"])-1e4,np.max(df_annot[\"end\"])+1e4])\n",
    "ax.set_ylim([0,8])\n",
    "\n",
    "# Add ruler\n",
    "x = 32500000\n",
    "y = 6\n",
    "ax.plot([x,x], [y-0.5,y+0.5], c=\"#000000\")\n",
    "ax.plot([x+1e5,x+1e5], [y-0.5,y+0.5], c=\"#000000\")\n",
    "ax.plot([x,x+1e5], [y,y], c=\"#000000\")\n",
    "ax.text(x+5e4, y+1, \"100kb\", fontsize=sfontsize, weight=\"bold\", ha=\"center\")\n",
    "\n",
    "# Add enhancer\n",
    "chrom, e_start, e_end = e\n",
    "ax.add_patch(Rectangle((e_start, 1), e_end-e_start, 2, color=\"r\"))\n",
    "ax.text((e_end+e_start)//2, -1, \"Uni\", fontsize=sfontsize, weight=\"bold\", ha=\"center\", color=\"r\")\n",
    "\n",
    "for pair in pairs:\n",
    "\teffect = abs(effects[pair][1])\n",
    "\tmid = (e_end+e_start)//2\n",
    "\t\n",
    "\t# Add genes\n",
    "\tg = pair.split(\"|\")[0]\n",
    "\tstart, end, strand = coordinates[g][1:]\n",
    "\tif strand == \"+\":\n",
    "\t\tx = start\n",
    "\t\tdx = end-start\n",
    "\telse:\n",
    "\t\tx = end\n",
    "\t\tdx = start-end\n",
    "\tax.arrow(x, 2, dx, 0, head_width=2, head_length=10000, width=0.2, color=\"#000000\")\n",
    "\tax.text((end+start)//2, -1, g, fontsize=sfontsize, weight=\"bold\", style=\"italic\", ha=\"center\")\n",
    "\n",
    "\t# Add arcs\n",
    "\tif x < mid:\n",
    "\t\tanchor = x+abs(mid-x)/2\n",
    "\telse:\n",
    "\t\tanchor = x-abs(mid-x)/2\n",
    "\tax.add_patch(Arc((anchor, 4), abs(mid-x), y, theta1=0.0, theta2=180, edgecolor='b', lw=8*effect))\n",
    "\n",
    "outputfile = f\"{PROJECT_DIR_o}figures/Fig3d.top.pdf\"\n",
    "plt.savefig(outputfile, bbox_inches=\"tight\", dpi=300)"
   ]
  },
  {
   "cell_type": "markdown",
   "id": "1933febf-266f-4176-a7f0-423958956633",
   "metadata": {},
   "source": [
    "## Browser shot"
   ]
  },
  {
   "cell_type": "code",
   "execution_count": 34,
   "id": "9d8e5d6d-6623-4f4f-8540-30a64a364bad",
   "metadata": {
    "execution": {
     "iopub.execute_input": "2024-11-28T01:37:33.218907Z",
     "iopub.status.busy": "2024-11-28T01:37:33.218672Z",
     "iopub.status.idle": "2024-11-28T01:37:34.673344Z",
     "shell.execute_reply": "2024-11-28T01:37:34.672755Z",
     "shell.execute_reply.started": "2024-11-28T01:37:33.218887Z"
    }
   },
   "outputs": [],
   "source": [
    "crispr_bed = f\"{PROJECT_DIR_o}temp/crispr_example.bed\"\n",
    "with DelimitedWriter(crispr_bed) as dw:\n",
    "\tchrom, start, end = crispr_region\n",
    "\tdw.write([chrom, start, end])"
   ]
  },
  {
   "cell_type": "code",
   "execution_count": 35,
   "id": "13d8c67c-b860-48a3-90b5-771375bce8d4",
   "metadata": {
    "execution": {
     "iopub.execute_input": "2024-11-28T01:37:34.674130Z",
     "iopub.status.busy": "2024-11-28T01:37:34.673878Z",
     "iopub.status.idle": "2024-11-28T01:37:35.884288Z",
     "shell.execute_reply": "2024-11-28T01:37:35.883409Z",
     "shell.execute_reply.started": "2024-11-28T01:37:34.674094Z"
    }
   },
   "outputs": [],
   "source": [
    "def plot_example(region, outputfile):\n",
    "\tdata = {\n",
    "\t\t\t\"PRO-cap (rep1)\": [f\"{PROJECT_DIR_d}Alignments/C1a_5pl.bw\", f\"{PROJECT_DIR_d}Alignments/C1a_5mn.bw\"],\n",
    "\t\t\t\"PRO-cap (rep2)\": [f\"{PROJECT_DIR_d}Alignments/C1b_5pl.bw\", f\"{PROJECT_DIR_d}Alignments/C1b_5mn.bw\"],\n",
    "\t\t\t# \"CRISPR\": f\"{PROJECT_DIR_o}temp/crispr_example.bed\",\n",
    "\t\t\t\"DNase\": f\"{PROJECT_DIR_r}ENCODE/ENCFF414OGC.bigWig\",\n",
    "\t\t\t\"H3K27ac\": f\"{PROJECT_DIR_r}ENCODE/ENCFF849TDM.bigWig\"\n",
    "\t\t\t}\n",
    "\tformatters = {\n",
    "\t\t\t\"PRO-cap (rep1)\": {\"yscale\":\"same_ymin_ymax\", \"plot_kw\":{\"width\":3}},\n",
    "\t\t\t\"PRO-cap (rep2)\": {\"yscale\":\"same_ymin_ymax\", \"plot_kw\":{\"width\":3}},\n",
    "\t\t\t# \"CRISPR\": {\"plot_kw\": {\"fill_kw\":{\"color\":\"#B3DE69\"}}},\n",
    "\t\t\t\"DNase\": {\"plot_kw\": {\"fill_kw\":{\"color\":\"#B3DE69\"}}},\n",
    "\t\t\t\"H3K27ac\": {\"plot_kw\": {\"fill_kw\":{\"color\":\"#FFD700\"}}},\n",
    "\t\t\t}\n",
    "\theight_ratios = {\n",
    "\t\t\t\"PRO-cap (rep1)\": 8,\n",
    "\t\t\t\"PRO-cap (rep2)\": 8,\n",
    "\t\t\t# \"CRISPR\": 2,\n",
    "\t\t\t\"DNase\": 5,\n",
    "\t\t\t\"H3K27ac\": 5\n",
    "\t\t\t}\n",
    "\t\n",
    "\tfig = gv.plot_genome_view(\n",
    "\t\tregion,\n",
    "\t\tdata = data,\n",
    "\t\tformatters = formatters,\n",
    "\t\theight_ratios = height_ratios,\n",
    "\t\tcoordinate_kw = {\"major_coordinate_unit\":150}\n",
    "\t\t)\n",
    "\t\n",
    "\tbpu.plt_change_figure_properties(\n",
    "\t\tfig,\n",
    "\t\t**{\"fig_prop\": {\"size_inches\":[3.8, 2.2]},\n",
    "\t\t\"fig_suptitle_kwargs\": {\"fontsize\":bfontsize, \"fontweight\":\"bold\"},\n",
    "\t\t\"xticklabels_prop\": {\"fontsize\":sfontsize},\n",
    "\t\t\"yticklabels_prop\": {\"fontsize\":sfontsize},\n",
    "\t\t\"ylabel_prop\": {\"fontsize\":bfontsize, \"fontweight\":\"bold\"},\n",
    "\t\t\"xlabel_prop\": {\"fontsize\":bfontsize, \"fontweight\":\"bold\"}\n",
    "\t\t},\n",
    "\t\ttitle_prop = {\"text\": \"\"}\n",
    "\t\t)\n",
    "\n",
    "\tbpu.plt_change_figure_properties(\n",
    "\t\tfig, \n",
    "\t\tax_targets=[-1],\n",
    "\t\txlabel_prop={\"text\":f\"Genomic position ({region.split(':')[0]})\"}\n",
    "\t\t)\n",
    "\n",
    "\tfor i in range(len(data)):\n",
    "\t\tfig.axes[i].yaxis.set_label_coords(-0.15, 0.5)\n",
    "\t\tfig.axes[i].yaxis.set_major_formatter(lambda s, pos: f\"{s:.0f}\")\n",
    "\t\t\n",
    "\tfig.savefig(outputfile, bbox_inches=\"tight\", dpi=300)"
   ]
  },
  {
   "cell_type": "code",
   "execution_count": 36,
   "id": "cbe864ef-30f1-40c3-9df4-ec03922ff4c6",
   "metadata": {
    "execution": {
     "iopub.execute_input": "2024-11-28T01:38:03.030823Z",
     "iopub.status.busy": "2024-11-28T01:38:03.030458Z",
     "iopub.status.idle": "2024-11-28T01:38:03.034394Z",
     "shell.execute_reply": "2024-11-28T01:38:03.033972Z",
     "shell.execute_reply.started": "2024-11-28T01:38:03.030800Z"
    }
   },
   "outputs": [
    {
     "data": {
      "text/plain": [
       "('chr17', 32894199, 32894700)"
      ]
     },
     "execution_count": 36,
     "metadata": {},
     "output_type": "execute_result"
    }
   ],
   "source": [
    "e"
   ]
  },
  {
   "cell_type": "code",
   "execution_count": 37,
   "id": "3ce9dcc3-6afd-4084-9add-6215f946fc04",
   "metadata": {
    "execution": {
     "iopub.execute_input": "2024-11-28T01:38:03.775126Z",
     "iopub.status.busy": "2024-11-28T01:38:03.774868Z",
     "iopub.status.idle": "2024-11-28T01:38:05.214283Z",
     "shell.execute_reply": "2024-11-28T01:38:05.213807Z",
     "shell.execute_reply.started": "2024-11-28T01:38:03.775107Z"
    }
   },
   "outputs": [
    {
     "data": {
      "text/plain": [
       "('chr17', 32893739, 32895015)"
      ]
     },
     "execution_count": 37,
     "metadata": {},
     "output_type": "execute_result"
    }
   ],
   "source": [
    "crispr_region"
   ]
  },
  {
   "cell_type": "code",
   "execution_count": 40,
   "id": "e0448524-658d-4271-8d8e-4e23aacca828",
   "metadata": {
    "execution": {
     "iopub.execute_input": "2024-11-28T01:38:38.589042Z",
     "iopub.status.busy": "2024-11-28T01:38:38.588669Z",
     "iopub.status.idle": "2024-11-28T01:38:39.252866Z",
     "shell.execute_reply": "2024-11-28T01:38:39.252427Z",
     "shell.execute_reply.started": "2024-11-28T01:38:38.589017Z"
    }
   },
   "outputs": [
    {
     "data": {
      "image/png": "[encoded data removed]",
      "text/plain": [
       "<Figure size 380x220 with 5 Axes>"
      ]
     },
     "metadata": {},
     "output_type": "display_data"
    }
   ],
   "source": [
    "chrom, start, end = e\n",
    "# chrom, start, end = crispr_region\n",
    "region = f\"{chrom}:{start}-{end}\"\n",
    "outputfile = f\"{PROJECT_DIR_o}figures/Fig3d.bottom.pdf\"\n",
    "plot_example(region, outputfile)"
   ]
  },
  {
   "cell_type": "code",
   "execution_count": null,
   "id": "71f906e5-3744-4b33-8306-3fe7b72baaf3",
   "metadata": {},
   "outputs": [],
   "source": []
  }
 ],
 "metadata": {
  "kernelspec": {
   "display_name": "Python 3 (ipykernel)",
   "language": "python",
   "name": "python3"
  },
  "language_info": {
   "codemirror_mode": {
    "name": "ipython",
    "version": 3
   },
   "file_extension": ".py",
   "mimetype": "text/x-python",
   "name": "python",
   "nbconvert_exporter": "python",
   "pygments_lexer": "ipython3",
   "version": "3.10.8"
  }
 },
 "nbformat": 4,
 "nbformat_minor": 5
}

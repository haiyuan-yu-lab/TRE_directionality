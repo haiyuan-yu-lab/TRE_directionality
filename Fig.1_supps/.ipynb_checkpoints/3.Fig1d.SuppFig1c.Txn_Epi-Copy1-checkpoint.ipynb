{
 "cells": [
  {
   "cell_type": "code",
   "execution_count": 20,
   "id": "485a6274-f3c7-4127-b199-7abade325537",
   "metadata": {
    "execution": {
     "iopub.execute_input": "2024-10-17T17:01:45.701150Z",
     "iopub.status.busy": "2024-10-17T17:01:45.700816Z",
     "iopub.status.idle": "2024-10-17T17:01:45.704271Z",
     "shell.execute_reply": "2024-10-17T17:01:45.703795Z",
     "shell.execute_reply.started": "2024-10-17T17:01:45.701130Z"
    }
   },
   "outputs": [],
   "source": [
    "import pandas as pd\n",
    "import matplotlib\n",
    "import matplotlib.pyplot as plt\n",
    "from mphelper import ProcessWrapPool\n",
    "import numpy as np\n",
    "from biodata.delimited import DelimitedReader\n",
    "import itertools\n",
    "import biodataplot.metaplot as bpm\n",
    "from biodata.bigwig import BigWigIReader\n",
    "from biodata.bed import BEDXReader\n",
    "from genomictools import GenomicCollection"
   ]
  },
  {
   "cell_type": "code",
   "execution_count": 2,
   "id": "c89db596-fae2-4921-9836-9bf8e0474897",
   "metadata": {
    "execution": {
     "iopub.execute_input": "2024-10-17T04:24:26.936565Z",
     "iopub.status.busy": "2024-10-17T04:24:26.936273Z",
     "iopub.status.idle": "2024-10-17T04:24:26.938815Z",
     "shell.execute_reply": "2024-10-17T04:24:26.938407Z",
     "shell.execute_reply.started": "2024-10-17T04:24:26.936547Z"
    },
    "tags": []
   },
   "outputs": [],
   "source": [
    "PROJECT_DIR_d = \"/fs/cbsuhy02/storage/yc2553/yc2553/projects/TRE_directionality/PROcap/\"\n",
    "PROJECT_DIR_r = \"/fs/cbsuhy02/storage/yc2553/yc2553/projects/TRE_directionality/resources/\"\n",
    "PROJECT_DIR_o = \"/fs/cbsuhy02/storage/yc2553/yc2553/projects/TRE_directionality/output/\""
   ]
  },
  {
   "cell_type": "markdown",
   "id": "834292bf-b342-4640-8c7a-b3f8fd6ff9c2",
   "metadata": {},
   "source": [
    "# 1. Generate feature matrix"
   ]
  },
  {
   "cell_type": "markdown",
   "id": "1deaf5cc-a820-400d-9673-716e57e1285d",
   "metadata": {},
   "source": [
    "## 1.1 Get individual matrix"
   ]
  },
  {
   "cell_type": "code",
   "execution_count": 11,
   "id": "c44eabf3-daef-435d-9e5f-19ea5e69e8a0",
   "metadata": {
    "execution": {
     "iopub.execute_input": "2024-10-17T16:18:53.324467Z",
     "iopub.status.busy": "2024-10-17T16:18:53.324151Z",
     "iopub.status.idle": "2024-10-17T16:18:53.327621Z",
     "shell.execute_reply": "2024-10-17T16:18:53.327184Z",
     "shell.execute_reply.started": "2024-10-17T16:18:53.324447Z"
    }
   },
   "outputs": [],
   "source": [
    "s = \"C1\"\n",
    "ks = [\"pl\", \"mn\"]\n",
    "ps = [\"divergent\", \"unidirectional\"]\n",
    "ds = [\"distal\", \"proximal\"]\n",
    "cs = [\"\", \"_control\"]\n",
    "gs = [f\"{p}_{d}{c}\" for p, d, c in itertools.product(ps, ds, cs)]"
   ]
  },
  {
   "cell_type": "code",
   "execution_count": 7,
   "id": "531ac254-e8b9-4eba-8a6e-e24a719d758d",
   "metadata": {
    "execution": {
     "iopub.execute_input": "2024-10-17T04:29:34.518976Z",
     "iopub.status.busy": "2024-10-17T04:29:34.518654Z",
     "iopub.status.idle": "2024-10-17T04:29:34.566678Z",
     "shell.execute_reply": "2024-10-17T04:29:34.566233Z",
     "shell.execute_reply.started": "2024-10-17T04:29:34.518954Z"
    }
   },
   "outputs": [],
   "source": [
    "bws = {\"PROcap_pl\": f\"{PROJECT_DIR_d}Analysis/{s}_dedup_chr1-22-X_R2_coverage_pl.bw\",\n",
    "\t   \"PROcap_mn\": f\"{PROJECT_DIR_d}Analysis/{s}_dedup_chr1-22-X_R2_coverage_mn.bw\",\n",
    "\t   \"DNase\": f\"{PROJECT_DIR_r}ENCODE/ENCFF414OGC.bigWig\",\n",
    "\t   \"H3K27ac\": f\"{PROJECT_DIR_r}ENCODE/ENCFF849TDM.bigWig\"\n",
    "\t\t}"
   ]
  },
  {
   "cell_type": "code",
   "execution_count": 21,
   "id": "0f58114b-99d2-4657-98a4-70a373967859",
   "metadata": {
    "execution": {
     "iopub.execute_input": "2024-10-17T17:01:49.518270Z",
     "iopub.status.busy": "2024-10-17T17:01:49.517945Z",
     "iopub.status.idle": "2024-10-17T17:01:49.585881Z",
     "shell.execute_reply": "2024-10-17T17:01:49.585306Z",
     "shell.execute_reply.started": "2024-10-17T17:01:49.518249Z"
    },
    "scrolled": true
   },
   "outputs": [
    {
     "ename": "AttributeError",
     "evalue": "'BEDX' object has no attribute 'strand'",
     "output_type": "error",
     "traceback": [
      "\u001b[0;31m---------------------------------------------------------------------------\u001b[0m",
      "\u001b[0;31mAttributeError\u001b[0m                            Traceback (most recent call last)",
      "Cell \u001b[0;32mIn[21], line 6\u001b[0m\n\u001b[1;32m      4\u001b[0m bed \u001b[38;5;241m=\u001b[39m \u001b[38;5;124mf\u001b[39m\u001b[38;5;124m\"\u001b[39m\u001b[38;5;132;01m{\u001b[39;00mPROJECT_DIR_d\u001b[38;5;132;01m}\u001b[39;00m\u001b[38;5;124mbed_plot/\u001b[39m\u001b[38;5;132;01m{\u001b[39;00ms\u001b[38;5;132;01m}\u001b[39;00m\u001b[38;5;124m_\u001b[39m\u001b[38;5;132;01m{\u001b[39;00mg\u001b[38;5;132;01m}\u001b[39;00m\u001b[38;5;124m.bed\u001b[39m\u001b[38;5;124m\"\u001b[39m\n\u001b[1;32m      5\u001b[0m regions \u001b[38;5;241m=\u001b[39m BEDXReader\u001b[38;5;241m.\u001b[39mread_all(GenomicCollection, bed)\n\u001b[0;32m----> 6\u001b[0m non_flip_regions \u001b[38;5;241m=\u001b[39m \u001b[38;5;28;43mlist\u001b[39;49m\u001b[43m(\u001b[49m\u001b[38;5;28;43mfilter\u001b[39;49m\u001b[43m(\u001b[49m\u001b[38;5;28;43;01mlambda\u001b[39;49;00m\u001b[43m \u001b[49m\u001b[43ma\u001b[49m\u001b[43m:\u001b[49m\u001b[43m \u001b[49m\u001b[43ma\u001b[49m\u001b[38;5;241;43m.\u001b[39;49m\u001b[43mstrand\u001b[49m\u001b[43m \u001b[49m\u001b[38;5;241;43m==\u001b[39;49m\u001b[43m \u001b[49m\u001b[38;5;124;43m\"\u001b[39;49m\u001b[38;5;124;43m+\u001b[39;49m\u001b[38;5;124;43m\"\u001b[39;49m\u001b[43m,\u001b[49m\u001b[43m \u001b[49m\u001b[43mregions\u001b[49m\u001b[43m)\u001b[49m\u001b[43m)\u001b[49m\n\u001b[1;32m      7\u001b[0m flip_regions \u001b[38;5;241m=\u001b[39m \u001b[38;5;28mlist\u001b[39m(\u001b[38;5;28mfilter\u001b[39m(\u001b[38;5;28;01mlambda\u001b[39;00m a: a\u001b[38;5;241m.\u001b[39mstranded_genomic_pos\u001b[38;5;241m.\u001b[39mstrand \u001b[38;5;241m==\u001b[39m \u001b[38;5;124m\"\u001b[39m\u001b[38;5;124m-\u001b[39m\u001b[38;5;124m\"\u001b[39m, regions))\n\u001b[1;32m      8\u001b[0m pl_non_flip \u001b[38;5;241m=\u001b[39m bpm\u001b[38;5;241m.\u001b[39mgenerate_signal_profile(non_flip_regions, BigWigIReader(bws[\u001b[38;5;124m\"\u001b[39m\u001b[38;5;124mPROcap_pl\u001b[39m\u001b[38;5;124m\"\u001b[39m]), fixed_size\u001b[38;5;241m=\u001b[39m\u001b[38;5;241m1001\u001b[39m, use_strand\u001b[38;5;241m=\u001b[39m\u001b[38;5;28;01mTrue\u001b[39;00m)\n",
      "Cell \u001b[0;32mIn[21], line 6\u001b[0m, in \u001b[0;36m<lambda>\u001b[0;34m(a)\u001b[0m\n\u001b[1;32m      4\u001b[0m bed \u001b[38;5;241m=\u001b[39m \u001b[38;5;124mf\u001b[39m\u001b[38;5;124m\"\u001b[39m\u001b[38;5;132;01m{\u001b[39;00mPROJECT_DIR_d\u001b[38;5;132;01m}\u001b[39;00m\u001b[38;5;124mbed_plot/\u001b[39m\u001b[38;5;132;01m{\u001b[39;00ms\u001b[38;5;132;01m}\u001b[39;00m\u001b[38;5;124m_\u001b[39m\u001b[38;5;132;01m{\u001b[39;00mg\u001b[38;5;132;01m}\u001b[39;00m\u001b[38;5;124m.bed\u001b[39m\u001b[38;5;124m\"\u001b[39m\n\u001b[1;32m      5\u001b[0m regions \u001b[38;5;241m=\u001b[39m BEDXReader\u001b[38;5;241m.\u001b[39mread_all(GenomicCollection, bed)\n\u001b[0;32m----> 6\u001b[0m non_flip_regions \u001b[38;5;241m=\u001b[39m \u001b[38;5;28mlist\u001b[39m(\u001b[38;5;28mfilter\u001b[39m(\u001b[38;5;28;01mlambda\u001b[39;00m a: \u001b[43ma\u001b[49m\u001b[38;5;241;43m.\u001b[39;49m\u001b[43mstrand\u001b[49m \u001b[38;5;241m==\u001b[39m \u001b[38;5;124m\"\u001b[39m\u001b[38;5;124m+\u001b[39m\u001b[38;5;124m\"\u001b[39m, regions))\n\u001b[1;32m      7\u001b[0m flip_regions \u001b[38;5;241m=\u001b[39m \u001b[38;5;28mlist\u001b[39m(\u001b[38;5;28mfilter\u001b[39m(\u001b[38;5;28;01mlambda\u001b[39;00m a: a\u001b[38;5;241m.\u001b[39mstranded_genomic_pos\u001b[38;5;241m.\u001b[39mstrand \u001b[38;5;241m==\u001b[39m \u001b[38;5;124m\"\u001b[39m\u001b[38;5;124m-\u001b[39m\u001b[38;5;124m\"\u001b[39m, regions))\n\u001b[1;32m      8\u001b[0m pl_non_flip \u001b[38;5;241m=\u001b[39m bpm\u001b[38;5;241m.\u001b[39mgenerate_signal_profile(non_flip_regions, BigWigIReader(bws[\u001b[38;5;124m\"\u001b[39m\u001b[38;5;124mPROcap_pl\u001b[39m\u001b[38;5;124m\"\u001b[39m]), fixed_size\u001b[38;5;241m=\u001b[39m\u001b[38;5;241m1001\u001b[39m, use_strand\u001b[38;5;241m=\u001b[39m\u001b[38;5;28;01mTrue\u001b[39;00m)\n",
      "\u001b[0;31mAttributeError\u001b[0m: 'BEDX' object has no attribute 'strand'"
     ]
    }
   ],
   "source": [
    "# For better visualizaiton and easier interpretation, we flipped the side with more reads to the right side\n",
    "\n",
    "for g in gs:\n",
    "\tbed = f\"{PROJECT_DIR_d}bed_plot/{s}_{g}.bed\"\n",
    "\tregions = BEDXReader.read_all(GenomicCollection, bed)\n",
    "\tnon_flip_regions = list(filter(lambda a: a.stranded_genomic_pos.strand == \"+\", regions))\n",
    "\tflip_regions = list(filter(lambda a: a.stranded_genomic_pos.strand == \"-\", regions))\n",
    "\tpl_non_flip = bpm.generate_signal_profile(non_flip_regions, BigWigIReader(bws[\"PROcap_pl\"]), fixed_size=1001, use_strand=True)\n",
    "\tpl_flip = bpm.generate_signal_profile(flip_regions, BigWigIReader(bws[\"PROcap_pl\"]), fixed_size=1001, use_strand=True)\n",
    "\tmn_non_flip = bpm.generate_signal_profile(non_flip_regions, BigWigIReader(bws[\"PROcap_mn\"]), fixed_size=1001, use_strand=True)\n",
    "\tmn_flip = bpm.generate_signal_profile(flip_regions, BigWigIReader(bws[\"PROcap_mn\"]), fixed_size=1001, use_strand=True)\n",
    "\tbreak"
   ]
  },
  {
   "cell_type": "code",
   "execution_count": 8,
   "id": "f460bbe5-647c-417d-9106-e9c219e6d26d",
   "metadata": {
    "execution": {
     "iopub.execute_input": "2024-10-17T04:29:34.776464Z",
     "iopub.status.busy": "2024-10-17T04:29:34.776235Z",
     "iopub.status.idle": "2024-10-17T04:29:34.778701Z",
     "shell.execute_reply": "2024-10-17T04:29:34.778299Z",
     "shell.execute_reply.started": "2024-10-17T04:29:34.776446Z"
    }
   },
   "outputs": [],
   "source": [
    "ms = [\"PROcap\", \"DNase\", \"H3K27ac\"]"
   ]
  },
  {
   "cell_type": "code",
   "execution_count": 8,
   "id": "874d6741-5203-4e51-9b27-c167e288a50c",
   "metadata": {
    "execution": {
     "iopub.execute_input": "2024-08-20T20:32:09.235633Z",
     "iopub.status.busy": "2024-08-20T20:32:09.234980Z",
     "iopub.status.idle": "2024-08-20T20:32:09.265043Z",
     "shell.execute_reply": "2024-08-20T20:32:09.263678Z",
     "shell.execute_reply.started": "2024-08-20T20:32:09.235576Z"
    },
    "scrolled": true
   },
   "outputs": [],
   "source": [
    "pwpool = ProcessWrapPool(20)\n",
    "\n",
    "for g in gs:\n",
    "\tfor c in cs:\n",
    "\t\tbed_in = PROJECT_DIR_d + \"bed_plot/\" + \"_\".join([s, g+c]) + \".bed\"\n",
    "\t\tfor m in bws:\n",
    "\t\t\toutput1 = PROJECT_DIR_o + \"temp/\" + \"_\".join([s, m, g+c]) + \".txt\"\n",
    "\t\t\toutput2 = PROJECT_DIR_o + \"temp/\" + \"_\".join([s, m, g+c, \"reformat\"]) + \".txt\"\n",
    "\t\t\tif \"PROcap\" in m:\t\t\n",
    "\t\t\t\tstrand_sensitive = True\n",
    "\t\t\t\tstrand = m.split(\"_\")[1]\n",
    "\t\t\telse:\n",
    "\t\t\t\tstrand_sensitive = False\n",
    "\t\t\t\tstrand = None\t\t\n",
    "\t\t\tpwpool.run(utils.get_feature_matrix, args=[bed_in, bws[m], output1, output2, strand_sensitive, strand])"
   ]
  },
  {
   "cell_type": "code",
   "execution_count": 12,
   "id": "2563a8c9-d89b-49e7-bcdc-4d5ddbeda794",
   "metadata": {
    "execution": {
     "iopub.execute_input": "2024-08-21T20:33:56.136624Z",
     "iopub.status.busy": "2024-08-21T20:33:56.136132Z",
     "iopub.status.idle": "2024-08-21T20:33:56.160385Z",
     "shell.execute_reply": "2024-08-21T20:33:56.159825Z",
     "shell.execute_reply.started": "2024-08-21T20:33:56.136578Z"
    },
    "tags": []
   },
   "outputs": [
    {
     "data": {
      "text/plain": [
       "32"
      ]
     },
     "execution_count": 12,
     "metadata": {},
     "output_type": "execute_result"
    }
   ],
   "source": [
    "# 4*2*4\n",
    "\n",
    "len(pwpool.finished_tasks)"
   ]
  },
  {
   "cell_type": "code",
   "execution_count": 13,
   "id": "807c1ae0-d1ab-48d8-95b2-35773fea19e5",
   "metadata": {
    "execution": {
     "iopub.execute_input": "2024-08-21T20:33:56.753894Z",
     "iopub.status.busy": "2024-08-21T20:33:56.753430Z",
     "iopub.status.idle": "2024-08-21T20:33:56.757731Z",
     "shell.execute_reply": "2024-08-21T20:33:56.757157Z",
     "shell.execute_reply.started": "2024-08-21T20:33:56.753861Z"
    }
   },
   "outputs": [],
   "source": [
    "pwpool.close()"
   ]
  },
  {
   "cell_type": "code",
   "execution_count": 14,
   "id": "98e3b995-3222-4dac-a6be-284d4203a3ed",
   "metadata": {
    "execution": {
     "iopub.execute_input": "2024-08-21T20:33:58.242603Z",
     "iopub.status.busy": "2024-08-21T20:33:58.242142Z",
     "iopub.status.idle": "2024-08-21T20:33:59.623163Z",
     "shell.execute_reply": "2024-08-21T20:33:59.622618Z",
     "shell.execute_reply.started": "2024-08-21T20:33:58.242571Z"
    }
   },
   "outputs": [
    {
     "data": {
      "text/html": [
       "<div>\n",
       "<style scoped>\n",
       "    .dataframe tbody tr th:only-of-type {\n",
       "        vertical-align: middle;\n",
       "    }\n",
       "\n",
       "    .dataframe tbody tr th {\n",
       "        vertical-align: top;\n",
       "    }\n",
       "\n",
       "    .dataframe thead th {\n",
       "        text-align: right;\n",
       "    }\n",
       "</style>\n",
       "<table border=\"1\" class=\"dataframe\">\n",
       "  <thead>\n",
       "    <tr style=\"text-align: right;\">\n",
       "      <th></th>\n",
       "      <th>Element</th>\n",
       "      <th>0</th>\n",
       "      <th>1</th>\n",
       "      <th>2</th>\n",
       "      <th>3</th>\n",
       "      <th>4</th>\n",
       "      <th>5</th>\n",
       "      <th>6</th>\n",
       "      <th>7</th>\n",
       "      <th>8</th>\n",
       "      <th>...</th>\n",
       "      <th>991</th>\n",
       "      <th>992</th>\n",
       "      <th>993</th>\n",
       "      <th>994</th>\n",
       "      <th>995</th>\n",
       "      <th>996</th>\n",
       "      <th>997</th>\n",
       "      <th>998</th>\n",
       "      <th>999</th>\n",
       "      <th>1000</th>\n",
       "    </tr>\n",
       "  </thead>\n",
       "  <tbody>\n",
       "    <tr>\n",
       "      <th>0</th>\n",
       "      <td>('chr1', '2967063', '2967563')</td>\n",
       "      <td>1.01906</td>\n",
       "      <td>1.01906</td>\n",
       "      <td>1.01906</td>\n",
       "      <td>1.01906</td>\n",
       "      <td>1.01906</td>\n",
       "      <td>1.01906</td>\n",
       "      <td>1.01906</td>\n",
       "      <td>1.01906</td>\n",
       "      <td>1.01906</td>\n",
       "      <td>...</td>\n",
       "      <td>1.01906</td>\n",
       "      <td>1.01906</td>\n",
       "      <td>1.01906</td>\n",
       "      <td>1.01906</td>\n",
       "      <td>1.01906</td>\n",
       "      <td>1.01906</td>\n",
       "      <td>1.01906</td>\n",
       "      <td>1.01906</td>\n",
       "      <td>1.01906</td>\n",
       "      <td>1.01906</td>\n",
       "    </tr>\n",
       "    <tr>\n",
       "      <th>1</th>\n",
       "      <td>('chr1', '4538064', '4538564')</td>\n",
       "      <td>0.80969</td>\n",
       "      <td>0.80969</td>\n",
       "      <td>0.80969</td>\n",
       "      <td>0.80969</td>\n",
       "      <td>0.80969</td>\n",
       "      <td>0.80969</td>\n",
       "      <td>0.80969</td>\n",
       "      <td>0.80969</td>\n",
       "      <td>0.80969</td>\n",
       "      <td>...</td>\n",
       "      <td>0.00000</td>\n",
       "      <td>0.00000</td>\n",
       "      <td>0.00000</td>\n",
       "      <td>0.00000</td>\n",
       "      <td>0.00000</td>\n",
       "      <td>0.00000</td>\n",
       "      <td>0.00000</td>\n",
       "      <td>0.00000</td>\n",
       "      <td>0.00000</td>\n",
       "      <td>0.00000</td>\n",
       "    </tr>\n",
       "  </tbody>\n",
       "</table>\n",
       "<p>2 rows × 1002 columns</p>\n",
       "</div>"
      ],
      "text/plain": [
       "                          Element        0        1        2        3  \\\n",
       "0  ('chr1', '2967063', '2967563')  1.01906  1.01906  1.01906  1.01906   \n",
       "1  ('chr1', '4538064', '4538564')  0.80969  0.80969  0.80969  0.80969   \n",
       "\n",
       "         4        5        6        7        8  ...      991      992  \\\n",
       "0  1.01906  1.01906  1.01906  1.01906  1.01906  ...  1.01906  1.01906   \n",
       "1  0.80969  0.80969  0.80969  0.80969  0.80969  ...  0.00000  0.00000   \n",
       "\n",
       "       993      994      995      996      997      998      999     1000  \n",
       "0  1.01906  1.01906  1.01906  1.01906  1.01906  1.01906  1.01906  1.01906  \n",
       "1  0.00000  0.00000  0.00000  0.00000  0.00000  0.00000  0.00000  0.00000  \n",
       "\n",
       "[2 rows x 1002 columns]"
      ]
     },
     "execution_count": 14,
     "metadata": {},
     "output_type": "execute_result"
    }
   ],
   "source": [
    "# Check the output1\n",
    "\n",
    "inputfile = PROJECT_DIR_o + \"temp/\" + \"_\".join([s, m, g+c]) + \".txt\"\n",
    "df = pd.read_table(inputfile)\n",
    "df.head(2)"
   ]
  },
  {
   "cell_type": "code",
   "execution_count": 15,
   "id": "80f3abd4-35a2-407a-a0a7-c56562c6d627",
   "metadata": {
    "execution": {
     "iopub.execute_input": "2024-08-21T20:33:59.624462Z",
     "iopub.status.busy": "2024-08-21T20:33:59.624177Z",
     "iopub.status.idle": "2024-08-21T20:34:00.439156Z",
     "shell.execute_reply": "2024-08-21T20:34:00.438623Z",
     "shell.execute_reply.started": "2024-08-21T20:33:59.624439Z"
    }
   },
   "outputs": [
    {
     "data": {
      "text/html": [
       "<div>\n",
       "<style scoped>\n",
       "    .dataframe tbody tr th:only-of-type {\n",
       "        vertical-align: middle;\n",
       "    }\n",
       "\n",
       "    .dataframe tbody tr th {\n",
       "        vertical-align: top;\n",
       "    }\n",
       "\n",
       "    .dataframe thead th {\n",
       "        text-align: right;\n",
       "    }\n",
       "</style>\n",
       "<table border=\"1\" class=\"dataframe\">\n",
       "  <thead>\n",
       "    <tr style=\"text-align: right;\">\n",
       "      <th></th>\n",
       "      <th>Element</th>\n",
       "      <th>Position</th>\n",
       "      <th>Feature</th>\n",
       "    </tr>\n",
       "  </thead>\n",
       "  <tbody>\n",
       "    <tr>\n",
       "      <th>0</th>\n",
       "      <td>('chr1', '2967063', '2967563')</td>\n",
       "      <td>0</td>\n",
       "      <td>1.01906</td>\n",
       "    </tr>\n",
       "    <tr>\n",
       "      <th>1</th>\n",
       "      <td>('chr1', '4538064', '4538564')</td>\n",
       "      <td>0</td>\n",
       "      <td>0.80969</td>\n",
       "    </tr>\n",
       "  </tbody>\n",
       "</table>\n",
       "</div>"
      ],
      "text/plain": [
       "                          Element  Position  Feature\n",
       "0  ('chr1', '2967063', '2967563')         0  1.01906\n",
       "1  ('chr1', '4538064', '4538564')         0  0.80969"
      ]
     },
     "execution_count": 15,
     "metadata": {},
     "output_type": "execute_result"
    }
   ],
   "source": [
    "# Check the output2\n",
    "\n",
    "inputfile = PROJECT_DIR_o + \"temp/\" + \"_\".join([s, m, g+c, \"reformat\"]) + \".txt\"\n",
    "df = pd.read_table(inputfile)\n",
    "df.head(2)"
   ]
  },
  {
   "cell_type": "markdown",
   "id": "ad531df0-424d-49a2-bbc5-8ee604ed7882",
   "metadata": {},
   "source": [
    "## 1.2 Combine dataframes for plotting"
   ]
  },
  {
   "cell_type": "code",
   "execution_count": 16,
   "id": "d9c27253-499d-4b26-a070-e35054460347",
   "metadata": {
    "execution": {
     "iopub.execute_input": "2024-08-21T20:34:01.751418Z",
     "iopub.status.busy": "2024-08-21T20:34:01.751005Z",
     "iopub.status.idle": "2024-08-21T20:34:15.351910Z",
     "shell.execute_reply": "2024-08-21T20:34:15.350956Z",
     "shell.execute_reply.started": "2024-08-21T20:34:01.751394Z"
    },
    "scrolled": true
   },
   "outputs": [],
   "source": [
    "dfs_heatmap = {}\n",
    "for m in ms:\n",
    "\tdfs = []\n",
    "\tfor g in gs:\n",
    "\t\tif m == \"PROcap\":\n",
    "\t\t\tinputfiles = [PROJECT_DIR_o + \"temp/\" + \"_\".join([s, m, k, g]) + \".txt\" for k in ks]\n",
    "\t\t\tdf1, df2 = [pd.read_table(inputfile) for inputfile in inputfiles]\n",
    "\t\t\telements = df1[\"Element\"]\n",
    "\t\t\tdf = pd.concat([df1.drop(\"Element\", axis=1), df2.drop(\"Element\", axis=1)], axis=1)\n",
    "\t\t\tdf[\"Element\"] = elements\n",
    "\t\telse:\n",
    "\t\t\tinputfile = PROJECT_DIR_o + \"temp/\" + \"_\".join([s, m, g]) + \".txt\"\n",
    "\t\t\tdf = pd.read_table(inputfile)\n",
    "\t\tdf[\"Group\"] = g\n",
    "\t\tdfs.append(df)\n",
    "\tdfs_heatmap[m] = pd.concat(dfs, ignore_index=True)\t"
   ]
  },
  {
   "cell_type": "code",
   "execution_count": 17,
   "id": "fae7726c-3874-4f7c-bea5-7f4670b07af9",
   "metadata": {
    "execution": {
     "iopub.execute_input": "2024-08-21T20:34:15.353572Z",
     "iopub.status.busy": "2024-08-21T20:34:15.353272Z",
     "iopub.status.idle": "2024-08-21T20:34:15.424972Z",
     "shell.execute_reply": "2024-08-21T20:34:15.424460Z",
     "shell.execute_reply.started": "2024-08-21T20:34:15.353549Z"
    },
    "scrolled": true
   },
   "outputs": [],
   "source": [
    "# Get the sign for each element\n",
    "\n",
    "signs = {}\n",
    "for g in gs:\n",
    "\tinputfile = PROJECT_DIR_d + \"bed_plot/\" + \"_\".join([s, g]) + \".bed\"\n",
    "\twith DelimitedReader(inputfile) as dr:\n",
    "\t\tfor cols in dr:\n",
    "\t\t\tchrom, _, _, start, end, _, _, sign = cols\n",
    "\t\t\tsigns[str((chrom, start, end))] = sign"
   ]
  },
  {
   "cell_type": "code",
   "execution_count": 18,
   "id": "e63714e9-4fae-4a50-ae98-bb7eb9f3b925",
   "metadata": {
    "execution": {
     "iopub.execute_input": "2024-08-21T20:34:15.425963Z",
     "iopub.status.busy": "2024-08-21T20:34:15.425705Z",
     "iopub.status.idle": "2024-08-21T20:34:15.431437Z",
     "shell.execute_reply": "2024-08-21T20:34:15.431003Z",
     "shell.execute_reply.started": "2024-08-21T20:34:15.425943Z"
    }
   },
   "outputs": [],
   "source": [
    "def PROcap_label(row, k, signs):\n",
    "    if signs[row[\"Element\"]] == \"+\":\n",
    "        return \"maxTSS\" if k == \"pl\" else \"minTSS\"\n",
    "    else:\n",
    "        return \"minTSS\" if k == \"pl\" else \"maxTSS\""
   ]
  },
  {
   "cell_type": "code",
   "execution_count": 19,
   "id": "cb05bebf-3b11-44cb-b948-404c9dd5c198",
   "metadata": {
    "execution": {
     "iopub.execute_input": "2024-08-21T20:34:15.432763Z",
     "iopub.status.busy": "2024-08-21T20:34:15.432543Z",
     "iopub.status.idle": "2024-08-21T20:41:13.325354Z",
     "shell.execute_reply": "2024-08-21T20:41:13.321209Z",
     "shell.execute_reply.started": "2024-08-21T20:34:15.432744Z"
    },
    "scrolled": true
   },
   "outputs": [],
   "source": [
    "dfs_metaplot = {}\n",
    "for m in ms:\n",
    "\tdfs = []\n",
    "\tfor g in gs:\n",
    "\t\tif m == \"PROcap\":\n",
    "\t\t\t# show maximum and minimum TSS separately, otherwise the signals can be cancelled out\n",
    "\t\t\tfor k in ks:\n",
    "\t\t\t\tinputfile = PROJECT_DIR_o + \"temp/\" + \"_\".join([s, m, k, g, \"reformat\"]) + \".txt\"\n",
    "\t\t\t\tdf = pd.read_table(inputfile)\n",
    "\t\t\t\tdf[\"Group\"] = g\n",
    "\t\t\t\tdf[\"Label\"] = df.apply(lambda row: PROcap_label(row, k, signs), axis=1)\n",
    "\t\t\t\tdfs.append(df)\n",
    "\t\telse:\n",
    "\t\t\tfor c in cs:\n",
    "\t\t\t\tinputfile = PROJECT_DIR_o + \"temp/\" + \"_\".join([s, m, g+c, \"reformat\"]) + \".txt\"\n",
    "\t\t\t\tdf = pd.read_table(inputfile)\n",
    "\t\t\t\tdf[\"Group\"] = g\n",
    "\t\t\t\tif c:\n",
    "\t\t\t\t\tdf[\"Label\"] = \"Control\"\n",
    "\t\t\t\telse:\n",
    "\t\t\t\t\tdf[\"Label\"] = \"TRE\"\n",
    "\t\t\t\tdfs.append(df)\n",
    "\tdfs_metaplot[m] = pd.concat(dfs, ignore_index=True)\t"
   ]
  },
  {
   "cell_type": "markdown",
   "id": "398aa4b0-c51d-4b76-ab02-e1a334ccf458",
   "metadata": {},
   "source": [
    "# 2. Metaplots & heatmaps"
   ]
  },
  {
   "cell_type": "markdown",
   "id": "282e93eb-d255-4408-a97a-ea2564ddee72",
   "metadata": {},
   "source": [
    "## 2.1 Settings"
   ]
  },
  {
   "cell_type": "markdown",
   "id": "412fadf6-d3be-4218-ba1e-1d6b4b45cb52",
   "metadata": {},
   "source": [
    "### 2.1.1 ylims"
   ]
  },
  {
   "cell_type": "code",
   "execution_count": 20,
   "id": "1d065c7d-384a-4f9e-802b-5b586b096ff1",
   "metadata": {
    "execution": {
     "iopub.execute_input": "2024-08-21T20:41:13.363657Z",
     "iopub.status.busy": "2024-08-21T20:41:13.362220Z",
     "iopub.status.idle": "2024-08-21T20:41:13.388145Z",
     "shell.execute_reply": "2024-08-21T20:41:13.387655Z",
     "shell.execute_reply.started": "2024-08-21T20:41:13.363628Z"
    },
    "tags": []
   },
   "outputs": [],
   "source": [
    "# Decide on the ylims\n",
    "# Divergent & unidirectional\n",
    "# TREs & controls\n",
    "# Set same value ranges for metaplots and heatmaps\n",
    "\n",
    "def get_ylims(ms):\n",
    "\tfor d in ds:\n",
    "\t\tfor m in ms:\n",
    "\t\t\tmaxs = []\n",
    "\t\t\tmins = []\n",
    "\t\t\tif m == \"PROcap\":\n",
    "\t\t\t\tlabels = [\"maxTSS\", \"minTSS\"]\n",
    "\t\t\telse:\n",
    "\t\t\t\tlabels = [\"TRE\", \"Control\"]\n",
    "\t\t\tfor p in ps:\n",
    "\t\t\t\tdf = dfs_metaplot[m][dfs_metaplot[m][\"Group\"]==p+\"_\"+d]\n",
    "\t\t\t\tfor label in labels:\n",
    "\t\t\t\t\tmaxs.append(df[df[\"Label\"]==label].groupby(\"Position\")[\"Feature\"].mean().max())\n",
    "\t\t\t\t\tmins.append(df[df[\"Label\"]==label].groupby(\"Position\")[\"Feature\"].mean().min())\n",
    "\t\t\tprint(d, m, max(maxs), min(mins))"
   ]
  },
  {
   "cell_type": "code",
   "execution_count": 21,
   "id": "1e5d304e-32dd-4a9e-b539-7e87b0156cf0",
   "metadata": {
    "execution": {
     "iopub.execute_input": "2024-08-21T20:41:13.390200Z",
     "iopub.status.busy": "2024-08-21T20:41:13.389904Z",
     "iopub.status.idle": "2024-08-21T20:50:17.180237Z",
     "shell.execute_reply": "2024-08-21T20:50:17.177561Z",
     "shell.execute_reply.started": "2024-08-21T20:41:13.390180Z"
    }
   },
   "outputs": [
    {
     "name": "stdout",
     "output_type": "stream",
     "text": [
      "distal PROcap 63.31777441508555 -15.302875101850773\n",
      "distal DNase 3.313858404529022 0.042020992283974934\n",
      "distal H3K27ac 16.178052635240952 0.6100446112028132\n",
      "proximal PROcap 481.4731309664271 -108.06896921591762\n",
      "proximal DNase 5.482331557567373 0.04443297767064024\n",
      "proximal H3K27ac 21.700563841246552 0.6094325536293212\n"
     ]
    }
   ],
   "source": [
    "get_ylims(ms)"
   ]
  },
  {
   "cell_type": "markdown",
   "id": "1b694434-2a69-4ad4-b60f-e15c62e3bb4b",
   "metadata": {},
   "source": [
    "### 2.1.2 cmap"
   ]
  },
  {
   "cell_type": "code",
   "execution_count": 22,
   "id": "a000f1a7-fab4-4760-91e5-bb23c0630502",
   "metadata": {
    "execution": {
     "iopub.execute_input": "2024-08-21T20:50:17.183515Z",
     "iopub.status.busy": "2024-08-21T20:50:17.182680Z",
     "iopub.status.idle": "2024-08-21T20:50:17.212466Z",
     "shell.execute_reply": "2024-08-21T20:50:17.212020Z",
     "shell.execute_reply.started": "2024-08-21T20:50:17.183490Z"
    },
    "tags": []
   },
   "outputs": [],
   "source": [
    "# PRO-cap\n",
    "\n",
    "customized_cmaps = {} \n",
    "for d in ds:\n",
    "\tif d == \"proximal\":\n",
    "\t\tcvals = [-250, 0, 500]\n",
    "\telse:\n",
    "\t\tcvals = [-40, 0, 80]\n",
    "\tcolors = [\"#2c7bb6\", \"#ffffff\", \"#d7191c\"]\n",
    "\tnorm = plt.Normalize(min(cvals), max(cvals))\n",
    "\ttuples = list(zip(map(norm, cvals), colors))\n",
    "\tcmap = matplotlib.colors.LinearSegmentedColormap.from_list(\"\", tuples)\n",
    "\tcustomized_cmaps[d] = cmap"
   ]
  },
  {
   "cell_type": "code",
   "execution_count": 23,
   "id": "a78e92ae-a4f2-4797-a4f8-65bc03660647",
   "metadata": {
    "execution": {
     "iopub.execute_input": "2024-08-21T20:50:17.213392Z",
     "iopub.status.busy": "2024-08-21T20:50:17.213142Z",
     "iopub.status.idle": "2024-08-21T20:50:17.216105Z",
     "shell.execute_reply": "2024-08-21T20:50:17.215658Z",
     "shell.execute_reply.started": "2024-08-21T20:50:17.213372Z"
    }
   },
   "outputs": [],
   "source": [
    "cmaps = {}\n",
    "for d in ds:\n",
    "\tcmaps[d] = [customized_cmaps[d]] + [\"viridis\"]*(len(ms)-1)"
   ]
  },
  {
   "cell_type": "markdown",
   "id": "9e40f4e6-de12-4510-ac0a-a0e67dcb7318",
   "metadata": {},
   "source": [
    "### 2.1.3 Sorting"
   ]
  },
  {
   "cell_type": "code",
   "execution_count": 24,
   "id": "b781a8af-1130-452a-90be-1e4ed5246889",
   "metadata": {
    "execution": {
     "iopub.execute_input": "2024-08-21T20:50:17.216986Z",
     "iopub.status.busy": "2024-08-21T20:50:17.216768Z",
     "iopub.status.idle": "2024-08-21T20:50:17.343592Z",
     "shell.execute_reply": "2024-08-21T20:50:17.343046Z",
     "shell.execute_reply.started": "2024-08-21T20:50:17.216966Z"
    }
   },
   "outputs": [],
   "source": [
    "# Get distance to center for each element as we'll display elements in heatmap in the following order \n",
    "# Divergent: sort by the distance between two prominent TSSs\n",
    "# Unidirectional: sort by the distance between the prominent TSS and the center of overlapping DNase peaks\n",
    "\n",
    "inputfiles = [PROJECT_DIR_d + \"bed_plot/\" + \"_\".join([s, p, d]) + \".bed\" for p in ps for d in ds]\n",
    "outputfile = PROJECT_DIR_o + \"labels/\" + \"_\".join([s, \"distance\"]) + \".txt\"\n",
    "utils.get_element_distance(inputfiles, outputfile)"
   ]
  },
  {
   "cell_type": "code",
   "execution_count": 25,
   "id": "63937504-979b-4176-a512-da2c8c222ace",
   "metadata": {
    "execution": {
     "iopub.execute_input": "2024-08-21T20:50:17.347482Z",
     "iopub.status.busy": "2024-08-21T20:50:17.347217Z",
     "iopub.status.idle": "2024-08-21T20:50:17.382155Z",
     "shell.execute_reply": "2024-08-21T20:50:17.381642Z",
     "shell.execute_reply.started": "2024-08-21T20:50:17.347462Z"
    }
   },
   "outputs": [
    {
     "data": {
      "text/html": [
       "<div>\n",
       "<style scoped>\n",
       "    .dataframe tbody tr th:only-of-type {\n",
       "        vertical-align: middle;\n",
       "    }\n",
       "\n",
       "    .dataframe tbody tr th {\n",
       "        vertical-align: top;\n",
       "    }\n",
       "\n",
       "    .dataframe thead th {\n",
       "        text-align: right;\n",
       "    }\n",
       "</style>\n",
       "<table border=\"1\" class=\"dataframe\">\n",
       "  <thead>\n",
       "    <tr style=\"text-align: right;\">\n",
       "      <th></th>\n",
       "      <th>Element</th>\n",
       "      <th>Value</th>\n",
       "    </tr>\n",
       "  </thead>\n",
       "  <tbody>\n",
       "    <tr>\n",
       "      <th>0</th>\n",
       "      <td>('chr1', '1021175', '1021375')</td>\n",
       "      <td>51</td>\n",
       "    </tr>\n",
       "    <tr>\n",
       "      <th>1</th>\n",
       "      <td>('chr1', '1058364', '1058581')</td>\n",
       "      <td>82</td>\n",
       "    </tr>\n",
       "  </tbody>\n",
       "</table>\n",
       "</div>"
      ],
      "text/plain": [
       "                          Element  Value\n",
       "0  ('chr1', '1021175', '1021375')     51\n",
       "1  ('chr1', '1058364', '1058581')     82"
      ]
     },
     "execution_count": 25,
     "metadata": {},
     "output_type": "execute_result"
    }
   ],
   "source": [
    "# Check the output\n",
    "\n",
    "inputfile = PROJECT_DIR_o + \"labels/\" + \"_\".join([s, \"distance\"]) + \".txt\"\n",
    "df = pd.read_table(inputfile)\n",
    "df.head(2)"
   ]
  },
  {
   "cell_type": "markdown",
   "id": "b86b58f7-99fe-4b23-8273-173559525fbe",
   "metadata": {},
   "source": [
    "## 2.2 Generate metaplots & heatmaps"
   ]
  },
  {
   "cell_type": "code",
   "execution_count": 31,
   "id": "4e4b8d14-fb04-4e47-847d-dedc4f3a0209",
   "metadata": {
    "execution": {
     "iopub.execute_input": "2024-08-21T22:29:27.815302Z",
     "iopub.status.busy": "2024-08-21T22:29:27.814935Z",
     "iopub.status.idle": "2024-08-21T22:29:27.828495Z",
     "shell.execute_reply": "2024-08-21T22:29:27.828018Z",
     "shell.execute_reply.started": "2024-08-21T22:29:27.815280Z"
    }
   },
   "outputs": [],
   "source": [
    "def generate_metaplot_and_heatmap(d, ms, sort_file, ylims, yticks, cmaps, test, outputfile, xlabel=\"Distance to center (kb)\", fontsize=25, labelpad=7.5, labelsize=20, y_align= -0.2, wspace=0.25, hspace=0.2):\n",
    "\t\"\"\"\n",
    "\tGenerate metaplots and heatmaps for a list of features.  \n",
    "\t\"\"\"\n",
    "\t\n",
    "\twidth_ratios = [12]*len(ps) + [1]\n",
    "\theight_ratios = [10,10]*len(ms)\n",
    "\tfig, axes = plt.subplots(len(ms)*2,len(ps)+1, figsize=(7*len(ps), 7*len(ms)), gridspec_kw={'width_ratios': width_ratios, 'height_ratios': height_ratios})\n",
    "\n",
    "\tfor m in ms:\n",
    "\t\tfor p in ps:\n",
    "\t\t\tcol = ps.index(p)\n",
    "\t\t\tfor n in range(2):\n",
    "\t\t\t\trow = ms.index(m) * 2 + n\n",
    "\t\t\t\tax = axes[row, col]\n",
    "\t\t\t\t# Metaplot\n",
    "\t\t\t\tif n == 0:\n",
    "\t\t\t\t\tif m == \"PROcap\":\n",
    "\t\t\t\t\t\thue_order = [\"maxTSS\", \"minTSS\"]\n",
    "\t\t\t\t\t\tpalette = [\"#d7191c\", \"#2c7bb6\"]\n",
    "\t\t\t\t\telse:\n",
    "\t\t\t\t\t\thue_order = [\"Control\", \"TRE\"]\n",
    "\t\t\t\t\t\t# Divergent\n",
    "\t\t\t\t\t\tif col == 0:\n",
    "\t\t\t\t\t\t\tpalette = [\"#969696\", \"#313695\"]\n",
    "\t\t\t\t\t\t# Unidirectional\n",
    "\t\t\t\t\t\telse:\n",
    "\t\t\t\t\t\t\tpalette = [\"#969696\", \"#de77ae\"]\n",
    "\t\t\t\t\t\t\t\n",
    "\t\t\t\t\tdf = dfs_metaplot[m][dfs_metaplot[m][\"Group\"]==p+\"_\"+d]\n",
    "\t\t\t\t\tutils.generate_feature_metaplot(df, palette, hue_order, ax, test)\n",
    "\t\t\t\t\t\t\n",
    "\t\t\t\t\t# Y axis\n",
    "\t\t\t\t\tax.set_ylim(ylims[ms.index(m)])\n",
    "\t\t\t\t\tax.set_yticks(yticks[ms.index(m)])\n",
    "\t\t\t\t\tif col == 0:\n",
    "\t\t\t\t\t\tax.set_ylabel(m, fontsize=fontsize, fontweight=\"bold\")\n",
    "\t\t\t\t\t\tax.tick_params(labelsize=labelsize, pad=labelpad)\n",
    "\t\t\t\t\t\tax.get_yaxis().set_label_coords(y_align, 0.5)\n",
    "\t\t\t\t\telse:\n",
    "\t\t\t\t\t\tax.set_ylabel(\"\")\n",
    "\t\t\t\t\t\tax.set_yticklabels([])\n",
    "\n",
    "\t\t\t\t\tif row == 0:\n",
    "\t\t\t\t\t\tax.set_title(p.capitalize(), fontsize=40, fontweight=\"bold\", pad=20)\n",
    "\t\t\t\t\t\t\n",
    "\t\t\t\t\t# Legend\n",
    "\t\t\t\t\tif (row == 0 and col == 1) or row == 2:\n",
    "\t\t\t\t\t\tax.legend(loc=\"upper right\", fontsize=16)\n",
    "\t\t\t\t\telse:\n",
    "\t\t\t\t\t\tax.legend([],[], frameon=False)\n",
    "\t\t\t\t\t\t\n",
    "\t\t\t\t# Heatmap\n",
    "\t\t\t\telse:\n",
    "\t\t\t\t\tif col == len(ps)-1:\n",
    "\t\t\t\t\t\tcbar = True\n",
    "\t\t\t\t\t\tcbar_ax = axes[row, len(ps)]\n",
    "\t\t\t\t\telse:\n",
    "\t\t\t\t\t\tcbar = False\n",
    "\t\t\t\t\t\tcbar_ax = None\t\t\t\t\n",
    "\t\t\t\t\tcbar_kws = {\"ticks\": yticks[ms.index(m)]}\n",
    "\t\t\t\t\t\n",
    "\t\t\t\t\tdf = dfs_heatmap[m][dfs_heatmap[m][\"Group\"]==p+\"_\"+d]\n",
    "\t\t\t\t\tutils.generate_feature_heatmap(df, sort_file, yticks[ms.index(m)], cmaps[ms.index(m)], cbar, cbar_ax, cbar_kws, ax, test)\n",
    "\n",
    "\t\t\t\t\tif col == len(ps)-1:\n",
    "\t\t\t\t\t\tcbar_ax.set_yticklabels(yticks[ms.index(m)])\n",
    "\t\t\t\t\t\tcbar_ax.tick_params(axis=\"y\", labelsize=labelsize, pad=labelpad)\n",
    "\t\t\t\n",
    "\t\t\t\t# X axis\n",
    "\t\t\t\txtick_list = [0,500,1000]\n",
    "\t\t\t\txticklabel_list = [\"-0.5\", \"0\", \"0.5\"]\n",
    "\t\t\t\tax.set_xlim([0, 1000])\n",
    "\t\t\t\tax.set_xticks(xtick_list)\n",
    "\t\t\t\tif row == len(ms)*2-1:\n",
    "\t\t\t\t\tax.set_xticklabels(xticklabel_list)\n",
    "\t\t\t\t\tax.set_xlabel(xlabel, fontsize=fontsize, fontweight=\"bold\")\n",
    "\t\t\t\t\tax.tick_params(labelsize=labelsize, pad=labelpad)\n",
    "\t\t\t\telse:\n",
    "\t\t\t\t\tax.set_xticklabels([])\n",
    "\t\t\t\t\tax.set_xlabel(\"\")\n",
    "\n",
    "\t\t\t\t# Leave the last subplot in each even row empty\n",
    "\t\t\t\tif row % 2 == 0:\n",
    "\t\t\t\t\taxes[row, len(ks)].set_visible(False)\n",
    "\n",
    "\tfig.subplots_adjust(wspace=wspace, hspace=hspace)\n",
    "\tplt.savefig(outputfile, bbox_inches = 'tight', dpi=300) "
   ]
  },
  {
   "cell_type": "code",
   "execution_count": 32,
   "id": "96ae504c-f05e-4b4a-aaef-04798714c391",
   "metadata": {
    "execution": {
     "iopub.execute_input": "2024-08-21T22:29:30.352877Z",
     "iopub.status.busy": "2024-08-21T22:29:30.352533Z",
     "iopub.status.idle": "2024-08-21T22:29:30.616512Z",
     "shell.execute_reply": "2024-08-21T22:29:30.506720Z",
     "shell.execute_reply.started": "2024-08-21T22:29:30.352853Z"
    },
    "scrolled": true,
    "tags": []
   },
   "outputs": [],
   "source": [
    "pwpool = ProcessWrapPool(2)\n",
    "\n",
    "# test = True\n",
    "test = False\n",
    "sort_file = PROJECT_DIR_o + \"labels/\" + \"_\".join([s, \"distance\"]) + \".txt\"\n",
    "for d in ds:\n",
    "\tif d == \"distal\":\n",
    "\t\tylims = [[-50, 90], [-0.5, 5], [-2, 20]]\n",
    "\t\tyticks = [[-40, 0, 40, 80], [0, 1.5, 3, 4.5], [0, 6, 12, 18]]\n",
    "\t\toutputfile = PROJECT_DIR_o + \"figures/Fig1d.png\"\n",
    "\telse:\n",
    "\t\tylims = [[-300, 550], [-0.5, 6.5], [-2, 26]]\n",
    "\t\tyticks = [[-250, 0, 250, 500], [0, 2, 4, 6], [0, 8, 16, 24]]\n",
    "\t\toutputfile = PROJECT_DIR_o + \"supp_figures/SuppFig1c.png\"\n",
    "\tpwpool.run(generate_metaplot_and_heatmap, args=[d, ms, sort_file, ylims, yticks, cmaps[d], test, outputfile])"
   ]
  },
  {
   "cell_type": "code",
   "execution_count": 35,
   "id": "c72e7d14-bbe3-462e-9dd6-a0fcc5e5a94c",
   "metadata": {
    "execution": {
     "iopub.execute_input": "2024-08-21T23:31:06.397497Z",
     "iopub.status.busy": "2024-08-21T23:31:06.396827Z",
     "iopub.status.idle": "2024-08-21T23:31:06.401765Z",
     "shell.execute_reply": "2024-08-21T23:31:06.401206Z",
     "shell.execute_reply.started": "2024-08-21T23:31:06.397463Z"
    }
   },
   "outputs": [
    {
     "data": {
      "text/plain": [
       "2"
      ]
     },
     "execution_count": 35,
     "metadata": {},
     "output_type": "execute_result"
    }
   ],
   "source": [
    "len(pwpool.finished_tasks)"
   ]
  },
  {
   "cell_type": "code",
   "execution_count": 36,
   "id": "d4726251-e5c9-44ab-8637-d79a8b05fc38",
   "metadata": {
    "execution": {
     "iopub.execute_input": "2024-08-21T23:31:07.518636Z",
     "iopub.status.busy": "2024-08-21T23:31:07.518173Z",
     "iopub.status.idle": "2024-08-21T23:31:07.521767Z",
     "shell.execute_reply": "2024-08-21T23:31:07.521221Z",
     "shell.execute_reply.started": "2024-08-21T23:31:07.518604Z"
    }
   },
   "outputs": [],
   "source": [
    "pwpool.close()"
   ]
  },
  {
   "cell_type": "code",
   "execution_count": null,
   "id": "017eb802-a87f-4882-b77f-4c10562f0fd1",
   "metadata": {},
   "outputs": [],
   "source": []
  }
 ],
 "metadata": {
  "kernelspec": {
   "display_name": "Python 3 (ipykernel)",
   "language": "python",
   "name": "python3"
  },
  "language_info": {
   "codemirror_mode": {
    "name": "ipython",
    "version": 3
   },
   "file_extension": ".py",
   "mimetype": "text/x-python",
   "name": "python",
   "nbconvert_exporter": "python",
   "pygments_lexer": "ipython3",
   "version": "3.10.8"
  }
 },
 "nbformat": 4,
 "nbformat_minor": 5
}

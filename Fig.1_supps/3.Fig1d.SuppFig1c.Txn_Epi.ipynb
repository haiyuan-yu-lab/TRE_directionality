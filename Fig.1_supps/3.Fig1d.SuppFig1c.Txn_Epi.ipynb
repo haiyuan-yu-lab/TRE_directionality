{
 "cells": [
  {
   "cell_type": "code",
   "execution_count": 1,
   "id": "485a6274-f3c7-4127-b199-7abade325537",
   "metadata": {
    "execution": {
     "iopub.execute_input": "2024-11-27T15:04:45.191249Z",
     "iopub.status.busy": "2024-11-27T15:04:45.190938Z",
     "iopub.status.idle": "2024-11-27T15:04:46.727289Z",
     "shell.execute_reply": "2024-11-27T15:04:46.726778Z",
     "shell.execute_reply.started": "2024-11-27T15:04:45.191228Z"
    }
   },
   "outputs": [],
   "source": [
    "import pandas as pd\n",
    "import matplotlib.pyplot as plt\n",
    "from mphelper import ProcessWrapPool\n",
    "import numpy as np\n",
    "import itertools\n",
    "import biodataplot.metaplot as bpm\n",
    "from biodata.bigwig import BigWigIReader\n",
    "from biodata.bed import BEDXReader\n",
    "from genomictools import GenomicCollection\n",
    "import json"
   ]
  },
  {
   "cell_type": "code",
   "execution_count": 2,
   "id": "fd9d462f-6eb0-41fb-9c0f-e08095452cfb",
   "metadata": {
    "execution": {
     "iopub.execute_input": "2024-11-27T15:04:46.728400Z",
     "iopub.status.busy": "2024-11-27T15:04:46.728096Z",
     "iopub.status.idle": "2024-11-27T15:04:46.732469Z",
     "shell.execute_reply": "2024-11-27T15:04:46.732043Z",
     "shell.execute_reply.started": "2024-11-27T15:04:46.728382Z"
    }
   },
   "outputs": [],
   "source": [
    "import sys\n",
    "from pathlib import Path\n",
    "sys.path.append(str(Path.cwd().parent))\n",
    "import utils"
   ]
  },
  {
   "cell_type": "code",
   "execution_count": 3,
   "id": "af87ade6-630d-452d-ae2a-18bfaa9cbaf9",
   "metadata": {
    "execution": {
     "iopub.execute_input": "2024-11-27T15:05:01.425265Z",
     "iopub.status.busy": "2024-11-27T15:05:01.424939Z",
     "iopub.status.idle": "2024-11-27T15:05:01.431312Z",
     "shell.execute_reply": "2024-11-27T15:05:01.430857Z",
     "shell.execute_reply.started": "2024-11-27T15:05:01.425246Z"
    }
   },
   "outputs": [],
   "source": [
    "import matplotlib\n",
    "font_dir = Path.cwd().parent / \"font\"\n",
    "for font in [\"Arial.ttf\", \"Arial_Bold.ttf\"]:\n",
    "    matplotlib.font_manager.fontManager.addfont(font_dir / font)\n",
    "matplotlib.rcParams[\"font.family\"] = \"Arial\"\n",
    "bfontsize = 12\n",
    "sfontsize = 9"
   ]
  },
  {
   "cell_type": "code",
   "execution_count": 4,
   "id": "c89db596-fae2-4921-9836-9bf8e0474897",
   "metadata": {
    "execution": {
     "iopub.execute_input": "2024-11-27T15:05:02.013062Z",
     "iopub.status.busy": "2024-11-27T15:05:02.012752Z",
     "iopub.status.idle": "2024-11-27T15:05:02.788662Z",
     "shell.execute_reply": "2024-11-27T15:05:02.788187Z",
     "shell.execute_reply.started": "2024-11-27T15:05:02.013043Z"
    },
    "tags": []
   },
   "outputs": [],
   "source": [
    "PROJECT_DIR_d = \"/fs/cbsuhy02/storage/yc2553/yc2553/projects/TRE_directionality/PROcap/\"\n",
    "PROJECT_DIR_r = \"/fs/cbsuhy02/storage/yc2553/yc2553/projects/TRE_directionality/resources/\"\n",
    "PROJECT_DIR_o = \"/fs/cbsuhy02/storage/yc2553/yc2553/projects/TRE_directionality/output/\""
   ]
  },
  {
   "cell_type": "markdown",
   "id": "834292bf-b342-4640-8c7a-b3f8fd6ff9c2",
   "metadata": {},
   "source": [
    "# Generate feature matrix"
   ]
  },
  {
   "cell_type": "markdown",
   "id": "1deaf5cc-a820-400d-9673-716e57e1285d",
   "metadata": {},
   "source": [
    "## Get individual matrix"
   ]
  },
  {
   "cell_type": "code",
   "execution_count": 5,
   "id": "c44eabf3-daef-435d-9e5f-19ea5e69e8a0",
   "metadata": {
    "execution": {
     "iopub.execute_input": "2024-11-27T15:05:21.471841Z",
     "iopub.status.busy": "2024-11-27T15:05:21.471512Z",
     "iopub.status.idle": "2024-11-27T15:05:21.475318Z",
     "shell.execute_reply": "2024-11-27T15:05:21.474864Z",
     "shell.execute_reply.started": "2024-11-27T15:05:21.471822Z"
    }
   },
   "outputs": [],
   "source": [
    "s = \"C1\"\n",
    "ks = [\"+\", \"-\"]\n",
    "ps = [\"divergent\", \"unidirectional\"]\n",
    "ds = [\"distal\", \"proximal\"]\n",
    "cs = [\"\", \"_control\"]\n",
    "gs = [f\"{p}_{d}{c}\" for p, d, c in itertools.product(ps, ds, cs)]\n",
    "gs2 = [f\"{p}_{d}\" for p, d in itertools.product(ps, ds)]"
   ]
  },
  {
   "cell_type": "code",
   "execution_count": 6,
   "id": "531ac254-e8b9-4eba-8a6e-e24a719d758d",
   "metadata": {
    "execution": {
     "iopub.execute_input": "2024-11-27T15:05:22.900597Z",
     "iopub.status.busy": "2024-11-27T15:05:22.900319Z",
     "iopub.status.idle": "2024-11-27T15:05:22.971455Z",
     "shell.execute_reply": "2024-11-27T15:05:22.971010Z",
     "shell.execute_reply.started": "2024-11-27T15:05:22.900579Z"
    }
   },
   "outputs": [],
   "source": [
    "# PRO-cap: for visualization, use full length R2 reads, not just 5' end of reads\n",
    "# \"*R2_coverage_pl.bw\" & \"*R2_coverage_mn.bw\": positive values\n",
    "\n",
    "bws = {\"PROcap_pl\": f\"{PROJECT_DIR_d}Analysis/{s}_dedup_chr1-22-X_R2_coverage_pl.bw\",\n",
    "\t   \"PROcap_mn\": f\"{PROJECT_DIR_d}Analysis/{s}_dedup_chr1-22-X_R2_coverage_mn.bw\",\n",
    "\t   \"DNase\": f\"{PROJECT_DIR_r}ENCODE/ENCFF414OGC.bigWig\",\n",
    "\t   \"H3K27ac\": f\"{PROJECT_DIR_r}ENCODE/ENCFF849TDM.bigWig\"\n",
    "\t\t}"
   ]
  },
  {
   "cell_type": "code",
   "execution_count": 7,
   "id": "0f58114b-99d2-4657-98a4-70a373967859",
   "metadata": {
    "execution": {
     "iopub.execute_input": "2024-11-27T15:05:31.641811Z",
     "iopub.status.busy": "2024-11-27T15:05:31.641468Z",
     "iopub.status.idle": "2024-11-27T15:07:55.749505Z",
     "shell.execute_reply": "2024-11-27T15:07:55.748901Z",
     "shell.execute_reply.started": "2024-11-27T15:05:31.641791Z"
    },
    "scrolled": true
   },
   "outputs": [],
   "source": [
    "# For better visualizaiton and easier interpretation, we flipped the side with more reads to the right\n",
    "\n",
    "df_features = {}\n",
    "for g in gs:\n",
    "\tbed = f\"{PROJECT_DIR_d}bed_plot/{s}_{g}.bed\"\n",
    "\tif \"control\" in bed:\n",
    "\t\tall_regions = BEDXReader.read_all(GenomicCollection, bed)\n",
    "\t\tuse_strand = False\n",
    "\telse:\n",
    "\t\tall_regions = BEDXReader.read_all(GenomicCollection, bed, strandfield=\"f7\")\n",
    "\t\tuse_strand = True\n",
    "\n",
    "\tfor m in bws:\n",
    "\t\tif \"PROcap\" in m and \"control\" not in bed:\n",
    "\t\t\tfor k in ks:\n",
    "\t\t\t\tregions = list(filter(lambda a: a.stranded_genomic_pos.strand==k, all_regions))\n",
    "\t\t\t\tindex = [f\"{r.chrom}_{r.chromStart}_{r.chromEnd}\" for r in regions]\n",
    "\t\t\t\t# Change the sign: maxTSS - positive values; minTSS - negative values\n",
    "\t\t\t\t# Note \"*R2_coverage_mn.bw\" contains positive values\n",
    "\t\t\t\tif (m == \"PROcap_pl\" and k == \"+\") or (m == \"PROcap_mn\" and k == \"-\"):\n",
    "\t\t\t\t\tsign = 1\n",
    "\t\t\t\telse:\n",
    "\t\t\t\t\tsign = -1\n",
    "\t\t\t\tdf_features[(m,g,k)] = sign*pd.DataFrame(bpm.generate_signal_profile(regions, BigWigIReader(bws[m]), fixed_size=1001, use_strand=use_strand), index=index)\n",
    "\t\telse:\n",
    "\t\t\tindex = [f\"{r.chrom}_{r.chromStart}_{r.chromEnd}\" for r in all_regions]\n",
    "\t\t\tdf_features[(m,g)] = pd.DataFrame(bpm.generate_signal_profile(all_regions, BigWigIReader(bws[m]), fixed_size=1001, use_strand=use_strand), index=index)"
   ]
  },
  {
   "cell_type": "code",
   "execution_count": 8,
   "id": "cf86b9ea-59a4-4fcf-b30a-803d872feb5a",
   "metadata": {
    "execution": {
     "iopub.execute_input": "2024-11-27T15:07:55.750755Z",
     "iopub.status.busy": "2024-11-27T15:07:55.750474Z",
     "iopub.status.idle": "2024-11-27T15:09:12.681102Z",
     "shell.execute_reply": "2024-11-27T15:09:12.680550Z",
     "shell.execute_reply.started": "2024-11-27T15:07:55.750736Z"
    }
   },
   "outputs": [],
   "source": [
    "df_reformat = {}\n",
    "for k in df_features:\n",
    "\tdf = df_features[k].reset_index()\n",
    "\tdf_reformat[k] = pd.melt(df,\n",
    "\t\t\t\t\t\t  id_vars=\"index\",\n",
    "\t\t\t\t\t\t  value_vars=list(df.columns[1:]),\n",
    "\t\t\t\t\t\t  var_name=\"Position\",\n",
    "\t\t\t\t\t\t  value_name=\"Feature\"\n",
    "\t\t\t\t\t\t  )"
   ]
  },
  {
   "cell_type": "markdown",
   "id": "ad531df0-424d-49a2-bbc5-8ee604ed7882",
   "metadata": {},
   "source": [
    "## Combine dataframes for plotting"
   ]
  },
  {
   "cell_type": "code",
   "execution_count": 9,
   "id": "f460bbe5-647c-417d-9106-e9c219e6d26d",
   "metadata": {
    "execution": {
     "iopub.execute_input": "2024-11-27T15:09:12.681913Z",
     "iopub.status.busy": "2024-11-27T15:09:12.681711Z",
     "iopub.status.idle": "2024-11-27T15:09:12.684493Z",
     "shell.execute_reply": "2024-11-27T15:09:12.684034Z",
     "shell.execute_reply.started": "2024-11-27T15:09:12.681895Z"
    }
   },
   "outputs": [],
   "source": [
    "ms = [\"PRO-cap\", \"DNase\", \"H3K27ac\"]"
   ]
  },
  {
   "cell_type": "code",
   "execution_count": 10,
   "id": "d9c27253-499d-4b26-a070-e35054460347",
   "metadata": {
    "execution": {
     "iopub.execute_input": "2024-11-27T15:09:12.685771Z",
     "iopub.status.busy": "2024-11-27T15:09:12.685553Z",
     "iopub.status.idle": "2024-11-27T15:09:17.799997Z",
     "shell.execute_reply": "2024-11-27T15:09:17.799452Z",
     "shell.execute_reply.started": "2024-11-27T15:09:12.685753Z"
    },
    "scrolled": true
   },
   "outputs": [],
   "source": [
    "df_heatmaps = {}\n",
    "for m, g in itertools.product(ms, gs2):\n",
    "\tif m == \"PRO-cap\":\n",
    "\t\tdfs = [df_features[(\"PROcap_pl\", g, \"+\")] + df_features[(\"PROcap_mn\", g, \"+\")],\n",
    "\t\t\t   df_features[(\"PROcap_pl\", g, \"-\")] + df_features[(\"PROcap_mn\", g, \"-\")]]\n",
    "\t\tdf_heatmaps[(m,g)] = pd.concat(dfs)\n",
    "\telse:\n",
    "\t\tdf_heatmaps[(m,g)] = df_features[(m,g)]"
   ]
  },
  {
   "cell_type": "code",
   "execution_count": 11,
   "id": "cb05bebf-3b11-44cb-b948-404c9dd5c198",
   "metadata": {
    "execution": {
     "iopub.execute_input": "2024-11-27T15:09:17.800902Z",
     "iopub.status.busy": "2024-11-27T15:09:17.800639Z",
     "iopub.status.idle": "2024-11-27T15:11:22.434966Z",
     "shell.execute_reply": "2024-11-27T15:11:22.434000Z",
     "shell.execute_reply.started": "2024-11-27T15:09:17.800882Z"
    },
    "scrolled": true
   },
   "outputs": [],
   "source": [
    "df_metaplots = {}\n",
    "for m, g in itertools.product(ms, gs2):\n",
    "\tif m == \"PRO-cap\":\n",
    "\t\t# show maximum and minimum TSS separately\n",
    "\t\tdf1 = pd.concat([df_reformat[(\"PROcap_pl\", g, \"+\")], \n",
    "\t\t\t\t\t\t df_reformat[(\"PROcap_mn\", g, \"-\")]])\n",
    "\t\tdf1[\"Label\"] = \"maxTSS\"\n",
    "\t\tdf2 = pd.concat([df_reformat[(\"PROcap_pl\", g, \"-\")], \n",
    "\t\t\t\t\t\t df_reformat[(\"PROcap_mn\", g, \"+\")]])\n",
    "\t\tdf2[\"Label\"] = \"minTSS\"\n",
    "\t\tdf_metaplots[(m,g)] = pd.concat([df1, df2]).reset_index(drop=True)\t\n",
    "\telse:\n",
    "\t\tdf1 = df_reformat[(m,g)].copy()\n",
    "\t\tdf1[\"Label\"] = \"TRE\"\n",
    "\t\tdf2 = df_reformat[(m,f\"{g}_control\")].copy()\n",
    "\t\tdf2[\"Label\"] = \"Ctrl\"\n",
    "\t\tdf_metaplots[(m,g)] = pd.concat([df1, df2]).reset_index(drop=True)\t"
   ]
  },
  {
   "cell_type": "markdown",
   "id": "398aa4b0-c51d-4b76-ab02-e1a334ccf458",
   "metadata": {},
   "source": [
    "# Metaplots & heatmaps"
   ]
  },
  {
   "cell_type": "markdown",
   "id": "282e93eb-d255-4408-a97a-ea2564ddee72",
   "metadata": {},
   "source": [
    "## Settings"
   ]
  },
  {
   "cell_type": "markdown",
   "id": "412fadf6-d3be-4218-ba1e-1d6b4b45cb52",
   "metadata": {},
   "source": [
    "### ylims"
   ]
  },
  {
   "cell_type": "code",
   "execution_count": 12,
   "id": "1e5d304e-32dd-4a9e-b539-7e87b0156cf0",
   "metadata": {
    "execution": {
     "iopub.execute_input": "2024-11-27T15:11:22.436147Z",
     "iopub.status.busy": "2024-11-27T15:11:22.435875Z",
     "iopub.status.idle": "2024-11-27T15:14:36.532164Z",
     "shell.execute_reply": "2024-11-27T15:14:36.531304Z",
     "shell.execute_reply.started": "2024-11-27T15:11:22.436127Z"
    }
   },
   "outputs": [
    {
     "name": "stdout",
     "output_type": "stream",
     "text": [
      "distal PRO-cap 65.80727186311788 -15.354919201520913\n",
      "distal DNase 3.3319399758897625 0.04579757371671772\n",
      "distal H3K27ac 16.20998938280395 0.6118987135700138\n",
      "proximal PRO-cap 473.4977841790383 -107.22368712608021\n",
      "proximal DNase 5.4795589627846235 0.04331937279020853\n",
      "proximal H3K27ac 21.494214860070723 0.5600905455763172\n"
     ]
    }
   ],
   "source": [
    "for d, m in itertools.product(ds, ms):\n",
    "\tmaxs = []\n",
    "\tmins = []\n",
    "\tif m == \"PRO-cap\":\n",
    "\t\tlabels = [\"maxTSS\", \"minTSS\"]\n",
    "\telse:\n",
    "\t\tlabels = [\"TRE\", \"Ctrl\"]\n",
    "\tfor p in ps:\n",
    "\t\tdf = df_metaplots[(m,f\"{p}_{d}\")]\n",
    "\t\tfor label in labels:\n",
    "\t\t\tmaxs.append(df[df[\"Label\"]==label].groupby(\"Position\")[\"Feature\"].mean().max())\n",
    "\t\t\tmins.append(df[df[\"Label\"]==label].groupby(\"Position\")[\"Feature\"].mean().min())\n",
    "\tprint(d, m, max(maxs), min(mins))"
   ]
  },
  {
   "cell_type": "markdown",
   "id": "1b694434-2a69-4ad4-b60f-e15c62e3bb4b",
   "metadata": {},
   "source": [
    "### cmap"
   ]
  },
  {
   "cell_type": "code",
   "execution_count": 13,
   "id": "a000f1a7-fab4-4760-91e5-bb23c0630502",
   "metadata": {
    "execution": {
     "iopub.execute_input": "2024-11-27T15:14:36.533331Z",
     "iopub.status.busy": "2024-11-27T15:14:36.533032Z",
     "iopub.status.idle": "2024-11-27T15:14:36.538823Z",
     "shell.execute_reply": "2024-11-27T15:14:36.538387Z",
     "shell.execute_reply.started": "2024-11-27T15:14:36.533311Z"
    },
    "tags": []
   },
   "outputs": [],
   "source": [
    "# PRO-cap\n",
    "\n",
    "customized_cmaps = {} \n",
    "colors = [\"#2c7bb6\", \"#ffffff\", \"#d7191c\"]\n",
    "for d in ds:\n",
    "\tif d == \"distal\":\n",
    "\t\tcvals = [-40, 0, 80]\n",
    "\telse:\n",
    "\t\tcvals = [-250, 0, 500]\n",
    "\tnorm = plt.Normalize(min(cvals), max(cvals))\n",
    "\ttuples = list(zip(map(norm, cvals), colors))\n",
    "\tcustomized_cmaps[d] = matplotlib.colors.LinearSegmentedColormap.from_list(\"\", tuples)"
   ]
  },
  {
   "cell_type": "code",
   "execution_count": 14,
   "id": "a78e92ae-a4f2-4797-a4f8-65bc03660647",
   "metadata": {
    "execution": {
     "iopub.execute_input": "2024-11-27T15:14:36.539571Z",
     "iopub.status.busy": "2024-11-27T15:14:36.539335Z",
     "iopub.status.idle": "2024-11-27T15:14:37.863811Z",
     "shell.execute_reply": "2024-11-27T15:14:37.863365Z",
     "shell.execute_reply.started": "2024-11-27T15:14:36.539554Z"
    }
   },
   "outputs": [],
   "source": [
    "cmaps = {}\n",
    "for d in ds:\n",
    "\tcmaps[d] = [customized_cmaps[d]] + [\"viridis\"]*(len(ms)-1)"
   ]
  },
  {
   "cell_type": "markdown",
   "id": "9e40f4e6-de12-4510-ac0a-a0e67dcb7318",
   "metadata": {},
   "source": [
    "### Sorting order"
   ]
  },
  {
   "cell_type": "code",
   "execution_count": 15,
   "id": "b781a8af-1130-452a-90be-1e4ed5246889",
   "metadata": {
    "execution": {
     "iopub.execute_input": "2024-11-27T15:14:37.864522Z",
     "iopub.status.busy": "2024-11-27T15:14:37.864337Z",
     "iopub.status.idle": "2024-11-27T15:14:39.278049Z",
     "shell.execute_reply": "2024-11-27T15:14:39.277599Z",
     "shell.execute_reply.started": "2024-11-27T15:14:37.864506Z"
    },
    "scrolled": true
   },
   "outputs": [],
   "source": [
    "# Get distance from prominent TSS to center for each element\n",
    "# Elements in heatmap will be sorted by the distance\n",
    "\n",
    "inputfiles = [f\"{PROJECT_DIR_d}bed_plot/{s}_{g}.bed\" for g in gs2]\n",
    "outputfile = f\"{PROJECT_DIR_o}labels/{s}_distance_to_center.json\"\n",
    "utils.get_distance_to_center(inputfiles, outputfile)"
   ]
  },
  {
   "cell_type": "markdown",
   "id": "b86b58f7-99fe-4b23-8273-173559525fbe",
   "metadata": {},
   "source": [
    "## Generate metaplots & heatmaps"
   ]
  },
  {
   "cell_type": "code",
   "execution_count": 16,
   "id": "4e4b8d14-fb04-4e47-847d-dedc4f3a0209",
   "metadata": {
    "execution": {
     "iopub.execute_input": "2024-11-27T15:14:39.279666Z",
     "iopub.status.busy": "2024-11-27T15:14:39.279435Z",
     "iopub.status.idle": "2024-11-27T15:14:40.596304Z",
     "shell.execute_reply": "2024-11-27T15:14:40.595856Z",
     "shell.execute_reply.started": "2024-11-27T15:14:39.279648Z"
    }
   },
   "outputs": [],
   "source": [
    "def generate_metaplot_and_heatmap(d, ps, ms, df_metaplots, df_heatmaps, sort_file, ylims, yticks, cmaps, outputfile, test, figsize, xlabel=\"Distance (kb)\"):\n",
    "\twidth_ratios = [12]*len(ps)+[1]\n",
    "\theight_ratios = [10,7]*len(ms)\n",
    "\tfig, axes = plt.subplots(len(ms)*2, len(ps)+1, figsize=figsize, gridspec_kw={'width_ratios': width_ratios, 'height_ratios': height_ratios})\n",
    "\tlabelpad = 2\n",
    "\twspace = 0.25\n",
    "\thspace = 0.2\n",
    "\n",
    "\tfor m in ms:\n",
    "\t\tfor p in ps:\n",
    "\t\t\tcol = ps.index(p)\n",
    "\t\t\tfor n in range(2):\n",
    "\t\t\t\trow = ms.index(m) * 2 + n\n",
    "\t\t\t\tax = axes[row, col]\n",
    "\t\t\t\t\n",
    "\t\t\t\t# Metaplot\n",
    "\t\t\t\tif n == 0:\n",
    "\t\t\t\t\tif m == \"PRO-cap\":\n",
    "\t\t\t\t\t\thue_order = [\"minTSS\", \"maxTSS\"]\n",
    "\t\t\t\t\t\tpalette = [\"#2c7bb6\", \"#d7191c\"]\n",
    "\t\t\t\t\telse:\n",
    "\t\t\t\t\t\thue_order = [\"Ctrl\", \"TRE\"]\n",
    "\t\t\t\t\t\t# Divergent\n",
    "\t\t\t\t\t\tif col == 0:\n",
    "\t\t\t\t\t\t\tpalette = [\"#969696\", \"#313695\"]\n",
    "\t\t\t\t\t\t# Unidirectional\n",
    "\t\t\t\t\t\telse:\n",
    "\t\t\t\t\t\t\tpalette = [\"#969696\", \"#de77ae\"]\n",
    "\n",
    "\t\t\t\t\tif row == 0:\n",
    "\t\t\t\t\t\tax.set_title(p.capitalize(), fontsize=bfontsize, fontweight=\"bold\", pad=10)\n",
    "\t\t\t\t\t\tax.axhline(y=0, ls=\"--\", c=\"#969696\")\n",
    "\t\t\t\t\t\t\n",
    "\t\t\t\t\tutils.generate_feature_metaplot(df_metaplots[(m,f\"{p}_{d}\")], palette, hue_order, ax, test)\t\t\n",
    "\t\t\t\t\t\n",
    "\t\t\t\t\tax.set_ylim(ylims[ms.index(m)])\n",
    "\t\t\t\t\tax.set_yticks(yticks[ms.index(m)])\n",
    "\t\t\t\t\tif col == 0:\n",
    "\t\t\t\t\t\tax.set_ylabel(m, fontsize=bfontsize, fontweight=\"bold\")\n",
    "\t\t\t\t\t\tif d == \"proximal\":\n",
    "\t\t\t\t\t\t\tif m == \"PRO-cap\":\n",
    "\t\t\t\t\t\t\t\ty_align = -0.3\n",
    "\t\t\t\t\t\t\telse:\n",
    "\t\t\t\t\t\t\t\ty_align = -0.2\t\n",
    "\t\t\t\t\t\telse:\n",
    "\t\t\t\t\t\t\ty_align = -0.25\n",
    "\t\t\t\t\t\tax.get_yaxis().set_label_coords(y_align, 0.5)\n",
    "\t\t\t\t\telse:\n",
    "\t\t\t\t\t\tax.set_ylabel(\"\")\n",
    "\t\t\t\t\t\tax.set_yticklabels([])\n",
    "\t\t\t\t\t\t\n",
    "\t\t\t\t\tif (row == 0 and col == 1) or row == 2: \n",
    "\t\t\t\t\t\tax.legend(loc=\"upper right\", bbox_to_anchor=(1.02,1.02), frameon=False,\n",
    "\t\t\t\t\t\t\t\t  fontsize=sfontsize, handlelength=1.0, handletextpad=0.5, labelspacing=0.2)\n",
    "\t\t\t\t\telse:\n",
    "\t\t\t\t\t\tax.legend([],[], frameon=False)\n",
    "\t\t\t\t\t\t\n",
    "\t\t\t\t# Heatmap\n",
    "\t\t\t\telse:\n",
    "\t\t\t\t\tif col == 1:\n",
    "\t\t\t\t\t\tcbar = True\n",
    "\t\t\t\t\t\tcbar_ax = axes[row, 2]\n",
    "\t\t\t\t\telse:\n",
    "\t\t\t\t\t\tcbar = False\n",
    "\t\t\t\t\t\tcbar_ax = None\t\t\t\t\n",
    "\t\t\t\t\tcbar_kws = {\"ticks\": yticks[ms.index(m)]}\n",
    "\t\t\t\t\tutils.generate_feature_heatmap(df_heatmaps[(m,f\"{p}_{d}\")], yticks[ms.index(m)], cmaps[ms.index(m)], cbar, cbar_ax, cbar_kws, ax, sort_file, test)\n",
    "\n",
    "\t\t\t\t\tif col == 1:\n",
    "\t\t\t\t\t\tcbar_ax.set_yticklabels(yticks[ms.index(m)])\n",
    "\t\t\t\t\t\tcbar_ax.tick_params(axis=\"y\", labelsize=sfontsize, pad=labelpad)\n",
    "\t\t\t\n",
    "\t\t\t\txtick_list = [0,500,1000]\n",
    "\t\t\t\txticklabel_list = [\"-0.5\", \"0\", \"0.5\"]\n",
    "\t\t\t\tax.set_xlim([0, 1000])\n",
    "\t\t\t\tax.set_xticks(xtick_list)\n",
    "\t\t\t\tif row == len(ms)*2-1:\n",
    "\t\t\t\t\tax.set_xticklabels(xticklabel_list)\n",
    "\t\t\t\t\tax.set_xlabel(xlabel, fontsize=bfontsize, fontweight=\"bold\")\n",
    "\t\t\t\telse:\n",
    "\t\t\t\t\tax.set_xticklabels([])\n",
    "\t\t\t\t\tax.set_xlabel(\"\")\n",
    "\n",
    "\t\t\t\tax.tick_params(labelsize=sfontsize, pad=labelpad)\n",
    "\n",
    "\t\t\t\t# Leave the last subplot in each even row empty\n",
    "\t\t\t\tif row % 2 == 0:\n",
    "\t\t\t\t\taxes[row, len(ks)].set_visible(False)\n",
    "\n",
    "\tfig.subplots_adjust(wspace=wspace, hspace=hspace)\n",
    "\tplt.savefig(outputfile, bbox_inches=\"tight\", dpi=300) "
   ]
  },
  {
   "cell_type": "code",
   "execution_count": 17,
   "id": "96ae504c-f05e-4b4a-aaef-04798714c391",
   "metadata": {
    "execution": {
     "iopub.execute_input": "2024-11-27T15:14:40.597066Z",
     "iopub.status.busy": "2024-11-27T15:14:40.596827Z",
     "iopub.status.idle": "2024-11-27T15:14:41.895173Z",
     "shell.execute_reply": "2024-11-27T15:14:41.894707Z",
     "shell.execute_reply.started": "2024-11-27T15:14:40.597049Z"
    },
    "scrolled": true,
    "tags": []
   },
   "outputs": [],
   "source": [
    "pwpool = ProcessWrapPool(2)\n",
    "\n",
    "# test = True\n",
    "test = False\n",
    "sort_file = f\"{PROJECT_DIR_o}labels/{s}_distance_to_center.json\"\n",
    "for d in ds:\n",
    "\tif d == \"distal\":\n",
    "\t\tylims = [[-50, 90], [-0.5, 5], [-2, 20]]\n",
    "\t\tyticks = [[-40, 0, 40, 80], [0, 1.5, 3, 4.5], [0, 6, 12, 18]]\n",
    "\t\toutputfile = f\"{PROJECT_DIR_o}figures/Fig1d.png\"\n",
    "\t\tfigsize = (4,8)\n",
    "\telse:\n",
    "\t\tylims = [[-300, 550], [-0.5, 6.5], [-2, 26]]\n",
    "\t\tyticks = [[-250, 0, 250, 500], [0, 2, 4, 6], [0, 8, 16, 24]]\n",
    "\t\toutputfile = f\"{PROJECT_DIR_o}supp_figures/SuppFig1c.png\"\n",
    "\t\tfigsize = (4.5,9)\n",
    "\tpwpool.run(generate_metaplot_and_heatmap, args=[d, ps, ms, df_metaplots, df_heatmaps, sort_file, ylims, yticks, cmaps[d], outputfile, test, figsize])"
   ]
  },
  {
   "cell_type": "code",
   "execution_count": 19,
   "id": "c72e7d14-bbe3-462e-9dd6-a0fcc5e5a94c",
   "metadata": {
    "execution": {
     "iopub.execute_input": "2024-11-27T15:42:29.581662Z",
     "iopub.status.busy": "2024-11-27T15:42:29.581313Z",
     "iopub.status.idle": "2024-11-27T15:42:29.585401Z",
     "shell.execute_reply": "2024-11-27T15:42:29.584978Z",
     "shell.execute_reply.started": "2024-11-27T15:42:29.581639Z"
    }
   },
   "outputs": [
    {
     "data": {
      "text/plain": [
       "2"
      ]
     },
     "execution_count": 19,
     "metadata": {},
     "output_type": "execute_result"
    }
   ],
   "source": [
    "len(pwpool.finished_tasks)"
   ]
  },
  {
   "cell_type": "code",
   "execution_count": 20,
   "id": "d4726251-e5c9-44ab-8637-d79a8b05fc38",
   "metadata": {
    "execution": {
     "iopub.execute_input": "2024-11-27T15:42:30.175213Z",
     "iopub.status.busy": "2024-11-27T15:42:30.174971Z",
     "iopub.status.idle": "2024-11-27T15:42:30.876735Z",
     "shell.execute_reply": "2024-11-27T15:42:30.876288Z",
     "shell.execute_reply.started": "2024-11-27T15:42:30.175195Z"
    }
   },
   "outputs": [],
   "source": [
    "pwpool.close()"
   ]
  },
  {
   "cell_type": "code",
   "execution_count": null,
   "id": "3ae42d2b-1edc-4800-a881-2b2f64128043",
   "metadata": {},
   "outputs": [],
   "source": []
  }
 ],
 "metadata": {
  "kernelspec": {
   "display_name": "Python 3 (ipykernel)",
   "language": "python",
   "name": "python3"
  },
  "language_info": {
   "codemirror_mode": {
    "name": "ipython",
    "version": 3
   },
   "file_extension": ".py",
   "mimetype": "text/x-python",
   "name": "python",
   "nbconvert_exporter": "python",
   "pygments_lexer": "ipython3",
   "version": "3.10.8"
  }
 },
 "nbformat": 4,
 "nbformat_minor": 5
}

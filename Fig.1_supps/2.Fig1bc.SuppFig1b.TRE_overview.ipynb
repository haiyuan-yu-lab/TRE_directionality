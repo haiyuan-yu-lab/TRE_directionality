{
 "cells": [
  {
   "cell_type": "code",
   "execution_count": 1,
   "id": "485a6274-f3c7-4127-b199-7abade325537",
   "metadata": {
    "execution": {
     "iopub.execute_input": "2024-11-27T15:01:08.342172Z",
     "iopub.status.busy": "2024-11-27T15:01:08.341950Z",
     "iopub.status.idle": "2024-11-27T15:01:57.461934Z",
     "shell.execute_reply": "2024-11-27T15:01:57.461375Z",
     "shell.execute_reply.started": "2024-11-27T15:01:08.342153Z"
    }
   },
   "outputs": [],
   "source": [
    "import pandas as pd\n",
    "import matplotlib.pyplot as plt\n",
    "import seaborn as sns\n",
    "from commandtemplate.conda import run_template_bash\n",
    "import itertools"
   ]
  },
  {
   "cell_type": "code",
   "execution_count": 2,
   "id": "af87ade6-630d-452d-ae2a-18bfaa9cbaf9",
   "metadata": {
    "execution": {
     "iopub.execute_input": "2024-11-27T15:01:57.463179Z",
     "iopub.status.busy": "2024-11-27T15:01:57.462839Z",
     "iopub.status.idle": "2024-11-27T15:01:57.469532Z",
     "shell.execute_reply": "2024-11-27T15:01:57.469088Z",
     "shell.execute_reply.started": "2024-11-27T15:01:57.463158Z"
    }
   },
   "outputs": [],
   "source": [
    "import matplotlib\n",
    "from pathlib import Path\n",
    "font_dir = Path.cwd().parent / \"font\"\n",
    "for font in [\"Arial.ttf\", \"Arial_Bold.ttf\"]:\n",
    "    matplotlib.font_manager.fontManager.addfont(font_dir / font)\n",
    "matplotlib.rcParams[\"font.family\"] = \"Arial\"\n",
    "bfontsize = 12\n",
    "sfontsize = 9"
   ]
  },
  {
   "cell_type": "code",
   "execution_count": 3,
   "id": "8b7f5274-04be-4918-9f76-34b3b9c89dbd",
   "metadata": {
    "execution": {
     "iopub.execute_input": "2024-11-27T15:01:57.470288Z",
     "iopub.status.busy": "2024-11-27T15:01:57.470045Z",
     "iopub.status.idle": "2024-11-27T15:01:58.344660Z",
     "shell.execute_reply": "2024-11-27T15:01:58.344219Z",
     "shell.execute_reply.started": "2024-11-27T15:01:57.470270Z"
    },
    "tags": []
   },
   "outputs": [],
   "source": [
    "PROJECT_DIR_d = \"/fs/cbsuhy02/storage/yc2553/yc2553/projects/TRE_directionality/PROcap/\"\n",
    "PROJECT_DIR_o = \"/fs/cbsuhy02/storage/yc2553/yc2553/projects/TRE_directionality/output/\"\n",
    "conda_env = \"DI_test\""
   ]
  },
  {
   "cell_type": "markdown",
   "id": "1a44fe8b-a069-42f0-bc55-c7aee6c541cf",
   "metadata": {},
   "source": [
    "# Element counts"
   ]
  },
  {
   "cell_type": "code",
   "execution_count": 4,
   "id": "59f2273b-e5cb-45ef-bf49-7688d67c1bfc",
   "metadata": {
    "execution": {
     "iopub.execute_input": "2024-11-27T15:01:58.345719Z",
     "iopub.status.busy": "2024-11-27T15:01:58.345494Z",
     "iopub.status.idle": "2024-11-27T15:01:59.504010Z",
     "shell.execute_reply": "2024-11-27T15:01:59.503572Z",
     "shell.execute_reply.started": "2024-11-27T15:01:58.345702Z"
    },
    "tags": []
   },
   "outputs": [],
   "source": [
    "s = \"C1\"\n",
    "ps = [\"divergent\", \"unidirectional\"]\n",
    "ds = [\"distal_intergenic\", \"distal_intragenic\", \"proximal\"]\n",
    "gs = [f\"{p}_{d}\" for p, d in itertools.product(ps, ds)]\n",
    "clsname = \" \".join(gs)"
   ]
  },
  {
   "cell_type": "markdown",
   "id": "e68cf078-116a-4329-80d6-4b623996d120",
   "metadata": {},
   "source": [
    "## Before filtering"
   ]
  },
  {
   "cell_type": "code",
   "execution_count": 5,
   "id": "d479ee57-912f-4177-b194-bbb3f9c97b27",
   "metadata": {
    "execution": {
     "iopub.execute_input": "2024-11-27T15:02:03.531406Z",
     "iopub.status.busy": "2024-11-27T15:02:03.531082Z",
     "iopub.status.idle": "2024-11-27T15:02:18.736696Z",
     "shell.execute_reply": "2024-11-27T15:02:18.736145Z",
     "shell.execute_reply.started": "2024-11-27T15:02:03.531385Z"
    },
    "tags": []
   },
   "outputs": [
    {
     "name": "stdout",
     "output_type": "stream",
     "text": [
      "conda run -n DI_test /bin/bash -c \"biodatatools annotate_bed_classes -i /fs/cbsuhy02/storage/yc2553/yc2553/projects/TRE_directionality/PROcap/bed_pd/C1_divergent_distal_intergenic.bed /fs/cbsuhy02/storage/yc2553/yc2553/projects/TRE_directionality/PROcap/bed_pd/C1_divergent_distal_intragenic.bed /fs/cbsuhy02/storage/yc2553/yc2553/projects/TRE_directionality/PROcap/bed_pd/C1_divergent_proximal.bed /fs/cbsuhy02/storage/yc2553/yc2553/projects/TRE_directionality/PROcap/bed_pd/C1_unidirectional_distal_intergenic.bed /fs/cbsuhy02/storage/yc2553/yc2553/projects/TRE_directionality/PROcap/bed_pd/C1_unidirectional_distal_intragenic.bed /fs/cbsuhy02/storage/yc2553/yc2553/projects/TRE_directionality/PROcap/bed_pd/C1_unidirectional_proximal.bed -clsname divergent_distal_intergenic divergent_distal_intragenic divergent_proximal unidirectional_distal_intergenic unidirectional_distal_intragenic unidirectional_proximal -column 3 -o - | cut -f 1-4 | biodatatools summarize_bed_annotation_counts -i - -name No.elements -o /fs/cbsuhy02/storage/yc2553/yc2553/projects/TRE_directionality/PROcap/bed_plot/C1_counts_raw.bed -func 'lambda d: d[-1]'\"\n"
     ]
    }
   ],
   "source": [
    "files = [f\"{PROJECT_DIR_d}bed_pd/{s}_{g}.bed\" for g in gs]\n",
    "filestr = \" \".join([\"{i\" + str(idx) + \"}\" for idx in range(len(files))])\n",
    "run_template_bash(\n",
    "\t\"biodatatools annotate_bed_classes -i \" + filestr + \" -clsname {clsname} -column 3 -o - | cut -f 1-4 | biodatatools summarize_bed_annotation_counts -i - -name {name} -o {o} -func 'lambda d: d[-1]'\",\n",
    "\tconda_env=conda_env,\n",
    "\t**{f\"i{idx}\": file for idx, file in enumerate(files)},\n",
    "\tclsname=clsname,\n",
    "\tname=\"No.elements\",\n",
    "\to=f\"{PROJECT_DIR_d}bed_plot/{s}_counts_raw.bed\"\n",
    ")"
   ]
  },
  {
   "cell_type": "code",
   "execution_count": 6,
   "id": "34b52057-8254-49a2-9c02-7d6925bcc501",
   "metadata": {
    "execution": {
     "iopub.execute_input": "2024-11-27T15:03:12.615446Z",
     "iopub.status.busy": "2024-11-27T15:03:12.615138Z",
     "iopub.status.idle": "2024-11-27T15:03:12.622887Z",
     "shell.execute_reply": "2024-11-27T15:03:12.622442Z",
     "shell.execute_reply.started": "2024-11-27T15:03:12.615426Z"
    },
    "scrolled": true
   },
   "outputs": [],
   "source": [
    "def plot_counts(df_count, outputfile, xlims, figy):\n",
    "\tfig, ax = plt.subplots(1, 1, figsize=(2.6,figy))\n",
    "\torder = [g for g in gs if \"distal\" in g] + [g for g in gs if \"proximal\" in g]\n",
    "\tticklabels = [g.split(\"_\")[0].capitalize() + \" (\" + g.split(\"_\")[-1] + \")\" if \"distal\" in g else g.split(\"_\")[0].capitalize() for g in order]\n",
    "\t\t\t\n",
    "\tg = sns.barplot(data=df_count, y=\"Group\", x=\"No.elements\",\n",
    "\t\t\t\t\torder=order, orient=\"h\",\n",
    "\t\t\t\t\thue=\"Group\",\n",
    "\t\t\t\t\tpalette=[\"#fb8072\", \"#fdb462\", \"#80b1d3\"]*2, \n",
    "\t\t\t\t\tax=ax)\n",
    "\n",
    "\tn = 0\n",
    "\tfor i in g.containers:\n",
    "\t\tg.bar_label(i, padding=5, fontsize=sfontsize)\n",
    "\t\tfor bar in i:\n",
    "\t\t\tif n >= 3:\n",
    "\t\t\t\tbar.set_alpha(0.5)\n",
    "\t\t\tn += 1\n",
    "\t\n",
    "\tg.set_xlabel(\"No. elements\", fontsize=bfontsize, fontweight=\"bold\", labelpad=5)\n",
    "\tg.set_ylabel(\"\")\n",
    "\tg.set_xticks([])\n",
    "\tg.tick_params(axis=\"y\", labelsize=sfontsize, pad=5)\n",
    "\tg.set_yticks(g.get_yticks())\n",
    "\tg.set_yticklabels(ticklabels)\n",
    "\tg.spines.right.set_visible(False)\n",
    "\tg.spines.top.set_visible(False)\n",
    "\ttrans = g.get_yaxis_transform()\n",
    "\tx1 = -0.92\n",
    "\tx2 = -0.85\n",
    "\tg.annotate(\"Distal\", xy=(x1, 0.75), xycoords=trans, ha=\"center\", va=\"top\", fontsize=bfontsize, fontweight=\"bold\", rotation=90)\n",
    "\tg.annotate(\"Proximal\", xy=(x1, 3.55), xycoords=trans, ha=\"center\", va=\"top\", fontsize=bfontsize, fontweight=\"bold\", rotation=90)\n",
    "\tg.plot([x2,x2],[-0.3,3.4], color=\"k\", transform=trans, clip_on=False, linewidth=1)\n",
    "\tg.plot([x2,x2],[3.7,5.5], color=\"k\", transform=trans, clip_on=False, linewidth=1)\n",
    "\tg.set_xlim(xlims)\n",
    "\n",
    "\tplt.savefig(outputfile, bbox_inches=\"tight\", dpi=300)"
   ]
  },
  {
   "cell_type": "code",
   "execution_count": 7,
   "id": "f7ad6c70-3be7-427a-b7ab-3b2dd11e892a",
   "metadata": {
    "execution": {
     "iopub.execute_input": "2024-11-27T15:03:13.668152Z",
     "iopub.status.busy": "2024-11-27T15:03:13.667901Z",
     "iopub.status.idle": "2024-11-27T15:03:15.328971Z",
     "shell.execute_reply": "2024-11-27T15:03:15.328502Z",
     "shell.execute_reply.started": "2024-11-27T15:03:13.668133Z"
    }
   },
   "outputs": [
    {
     "data": {
      "image/png": "[encoded data removed]",
      "text/plain": [
       "<Figure size 260x300 with 1 Axes>"
      ]
     },
     "metadata": {},
     "output_type": "display_data"
    }
   ],
   "source": [
    "df_raw = pd.read_table(f\"{PROJECT_DIR_d}bed_plot/{s}_counts_raw.bed\")\n",
    "outputfile = f\"{PROJECT_DIR_o}figures/Fig1b.pdf\"\n",
    "plot_counts(df_raw, outputfile, [0,30000], 3)"
   ]
  },
  {
   "cell_type": "markdown",
   "id": "77292d53-0c87-4fb7-93d0-dfb7e4b86e7d",
   "metadata": {},
   "source": [
    "## After filtering"
   ]
  },
  {
   "cell_type": "code",
   "execution_count": 8,
   "id": "48a45600-207f-479f-9302-a5d692439b43",
   "metadata": {
    "execution": {
     "iopub.execute_input": "2024-11-27T15:03:15.511832Z",
     "iopub.status.busy": "2024-11-27T15:03:15.511473Z",
     "iopub.status.idle": "2024-11-27T15:03:17.328170Z",
     "shell.execute_reply": "2024-11-27T15:03:17.327589Z",
     "shell.execute_reply.started": "2024-11-27T15:03:15.511811Z"
    },
    "tags": []
   },
   "outputs": [
    {
     "name": "stdout",
     "output_type": "stream",
     "text": [
      "conda run -n DI_test /bin/bash -c \"biodatatools annotate_bed_classes -i /fs/cbsuhy02/storage/yc2553/yc2553/projects/TRE_directionality/PROcap/bed_plot/C1_divergent_distal_intergenic.bed /fs/cbsuhy02/storage/yc2553/yc2553/projects/TRE_directionality/PROcap/bed_plot/C1_divergent_distal_intragenic.bed /fs/cbsuhy02/storage/yc2553/yc2553/projects/TRE_directionality/PROcap/bed_plot/C1_divergent_proximal.bed /fs/cbsuhy02/storage/yc2553/yc2553/projects/TRE_directionality/PROcap/bed_plot/C1_unidirectional_distal_intergenic.bed /fs/cbsuhy02/storage/yc2553/yc2553/projects/TRE_directionality/PROcap/bed_plot/C1_unidirectional_distal_intragenic.bed /fs/cbsuhy02/storage/yc2553/yc2553/projects/TRE_directionality/PROcap/bed_plot/C1_unidirectional_proximal.bed -clsname divergent_distal_intergenic divergent_distal_intragenic divergent_proximal unidirectional_distal_intergenic unidirectional_distal_intragenic unidirectional_proximal -column 3 -o - | cut -f 1-4 | biodatatools summarize_bed_annotation_counts -i - -name No.elements -o /fs/cbsuhy02/storage/yc2553/yc2553/projects/TRE_directionality/PROcap/bed_plot/C1_counts_filtered.bed -func 'lambda d: d[-1]'\"\n"
     ]
    }
   ],
   "source": [
    "files = [f\"{PROJECT_DIR_d}bed_plot/{s}_{g}.bed\" for g in gs]\n",
    "filestr = \" \".join([\"{i\" + str(idx) + \"}\" for idx in range(len(files))])\n",
    "run_template_bash(\n",
    "\t\"biodatatools annotate_bed_classes -i \" + filestr + \" -clsname {clsname} -column 3 -o - | cut -f 1-4 | biodatatools summarize_bed_annotation_counts -i - -name {name} -o {o} -func 'lambda d: d[-1]'\",\n",
    "\tconda_env=conda_env,\n",
    "\t**{f\"i{idx}\": file for idx, file in enumerate(files)},\n",
    "\tclsname=clsname,\n",
    "\tname=\"No.elements\",\n",
    "\to=f\"{PROJECT_DIR_d}bed_plot/{s}_counts_filtered.bed\"\n",
    ")"
   ]
  },
  {
   "cell_type": "code",
   "execution_count": 9,
   "id": "d128a3f0-c46e-4e10-8972-2a5f656fb710",
   "metadata": {
    "execution": {
     "iopub.execute_input": "2024-11-27T15:03:17.329298Z",
     "iopub.status.busy": "2024-11-27T15:03:17.329025Z",
     "iopub.status.idle": "2024-11-27T15:03:17.879175Z",
     "shell.execute_reply": "2024-11-27T15:03:17.878707Z",
     "shell.execute_reply.started": "2024-11-27T15:03:17.329279Z"
    }
   },
   "outputs": [
    {
     "data": {
      "image/png": "[encoded data removed]",
      "text/plain": [
       "<Figure size 260x280 with 1 Axes>"
      ]
     },
     "metadata": {},
     "output_type": "display_data"
    }
   ],
   "source": [
    "df_filtered = pd.read_table(f\"{PROJECT_DIR_d}bed_plot/{s}_counts_filtered.bed\")\n",
    "outputfile = f\"{PROJECT_DIR_o}supp_figures/SuppFig1b.pdf\"\n",
    "plot_counts(df_filtered, outputfile, [0,10000], 2.8)"
   ]
  },
  {
   "cell_type": "markdown",
   "id": "8c2071e7-2b7f-445f-829f-9e4a203d5969",
   "metadata": {},
   "source": [
    "# DI distribution"
   ]
  },
  {
   "cell_type": "markdown",
   "id": "6ca5977c-2646-4f08-bb65-edb9120e3d68",
   "metadata": {},
   "source": [
    "## Calculate DI"
   ]
  },
  {
   "cell_type": "code",
   "execution_count": 10,
   "id": "1047ac80-b272-4ccd-98c5-bbef46e6f1be",
   "metadata": {
    "execution": {
     "iopub.execute_input": "2024-11-27T15:03:40.346260Z",
     "iopub.status.busy": "2024-11-27T15:03:40.345879Z",
     "iopub.status.idle": "2024-11-27T15:03:44.407380Z",
     "shell.execute_reply": "2024-11-27T15:03:44.406796Z",
     "shell.execute_reply.started": "2024-11-27T15:03:40.346238Z"
    },
    "tags": []
   },
   "outputs": [
    {
     "name": "stdout",
     "output_type": "stream",
     "text": [
      "conda run -n DI_test /bin/bash -c \"biodatatools annotate_bed_classes -i /fs/cbsuhy02/storage/yc2553/yc2553/projects/TRE_directionality/PROcap/bed_plot/C1_divergent_distal_intergenic.bed /fs/cbsuhy02/storage/yc2553/yc2553/projects/TRE_directionality/PROcap/bed_plot/C1_divergent_distal_intragenic.bed /fs/cbsuhy02/storage/yc2553/yc2553/projects/TRE_directionality/PROcap/bed_plot/C1_divergent_proximal.bed -clsname divergent_distal_intergenic divergent_distal_intragenic divergent_proximal -column 3 -o - | cut -f 1-4 | biodatatools annotate_bed_directionality_index -i - -ipl /fs/cbsuhy02/storage/yc2553/yc2553/projects/TRE_directionality/PROcap/Alignments/brm_C1a_and_C1b_erm_5pl.bw -imn /fs/cbsuhy02/storage/yc2553/yc2553/projects/TRE_directionality/PROcap/Alignments/brm_C1a_and_C1b_erm_5mn.bw -o /fs/cbsuhy02/storage/yc2553/yc2553/projects/TRE_directionality/PROcap/bed_plot/C1_DI.bed\"\n"
     ]
    }
   ],
   "source": [
    "p = \"divergent\"\n",
    "files = [f\"{PROJECT_DIR_d}bed_plot/{s}_{p}_{d}.bed\" for d in ds]\n",
    "clsname2 = \" \".join([f\"{p}_{d}\" for d in ds])\n",
    "filestr = \" \".join([\"{i\" + str(idx) + \"}\" for idx in range(len(files))])\n",
    "run_template_bash(\n",
    "\t\"biodatatools annotate_bed_classes -i \" + filestr + \" -clsname {clsname} -column 3 -o - | cut -f 1-4 | biodatatools annotate_bed_directionality_index -i - -ipl {ipl} -imn {imn} -o {o}\",\n",
    "\tconda_env=conda_env,\n",
    "\t**{f\"i{idx}\": file for idx, file in enumerate(files)},\n",
    "\tipl=f\"{PROJECT_DIR_d}Alignments/brm_C1a_and_C1b_erm_5pl.bw\",\n",
    "\timn=f\"{PROJECT_DIR_d}Alignments/brm_C1a_and_C1b_erm_5mn.bw\",\n",
    "\tclsname=clsname2,\n",
    "\to=f\"{PROJECT_DIR_d}bed_plot/{s}_DI.bed\"\n",
    ")"
   ]
  },
  {
   "cell_type": "code",
   "execution_count": 11,
   "id": "ea284774-2d84-4ce3-b675-d5349e34cf7e",
   "metadata": {
    "execution": {
     "iopub.execute_input": "2024-11-27T15:03:44.408556Z",
     "iopub.status.busy": "2024-11-27T15:03:44.408274Z",
     "iopub.status.idle": "2024-11-27T15:03:44.554497Z",
     "shell.execute_reply": "2024-11-27T15:03:44.554002Z",
     "shell.execute_reply.started": "2024-11-27T15:03:44.408537Z"
    },
    "tags": []
   },
   "outputs": [
    {
     "data": {
      "text/html": [
       "<div>\n",
       "<style scoped>\n",
       "    .dataframe tbody tr th:only-of-type {\n",
       "        vertical-align: middle;\n",
       "    }\n",
       "\n",
       "    .dataframe tbody tr th {\n",
       "        vertical-align: top;\n",
       "    }\n",
       "\n",
       "    .dataframe thead th {\n",
       "        text-align: right;\n",
       "    }\n",
       "</style>\n",
       "<table border=\"1\" class=\"dataframe\">\n",
       "  <thead>\n",
       "    <tr style=\"text-align: right;\">\n",
       "      <th></th>\n",
       "      <th>chrom</th>\n",
       "      <th>start</th>\n",
       "      <th>end</th>\n",
       "      <th>group</th>\n",
       "      <th>DI</th>\n",
       "    </tr>\n",
       "  </thead>\n",
       "  <tbody>\n",
       "    <tr>\n",
       "      <th>0</th>\n",
       "      <td>chr1</td>\n",
       "      <td>1058196</td>\n",
       "      <td>1058697</td>\n",
       "      <td>divergent_distal_intergenic</td>\n",
       "      <td>0.949458</td>\n",
       "    </tr>\n",
       "    <tr>\n",
       "      <th>1</th>\n",
       "      <td>chr1</td>\n",
       "      <td>1207961</td>\n",
       "      <td>1208462</td>\n",
       "      <td>divergent_distal_intergenic</td>\n",
       "      <td>0.653846</td>\n",
       "    </tr>\n",
       "  </tbody>\n",
       "</table>\n",
       "</div>"
      ],
      "text/plain": [
       "  chrom    start      end                        group        DI\n",
       "0  chr1  1058196  1058697  divergent_distal_intergenic  0.949458\n",
       "1  chr1  1207961  1208462  divergent_distal_intergenic  0.653846"
      ]
     },
     "execution_count": 11,
     "metadata": {},
     "output_type": "execute_result"
    }
   ],
   "source": [
    "df_DI = pd.read_table(f\"{PROJECT_DIR_d}bed_plot/{s}_DI.bed\", header=None)\n",
    "df_DI.columns = [\"chrom\", \"start\", \"end\", \"group\", \"DI\"]\n",
    "df_DI.head(2)"
   ]
  },
  {
   "cell_type": "markdown",
   "id": "479a854f-0a3c-4d96-b881-606803bbc9db",
   "metadata": {},
   "source": [
    "## Plot distribution"
   ]
  },
  {
   "cell_type": "code",
   "execution_count": 12,
   "id": "f373155a-375a-4411-b248-d975965742d4",
   "metadata": {
    "execution": {
     "iopub.execute_input": "2024-11-27T15:03:44.555349Z",
     "iopub.status.busy": "2024-11-27T15:03:44.555094Z",
     "iopub.status.idle": "2024-11-27T15:03:45.975282Z",
     "shell.execute_reply": "2024-11-27T15:03:45.974760Z",
     "shell.execute_reply.started": "2024-11-27T15:03:44.555329Z"
    }
   },
   "outputs": [
    {
     "data": {
      "image/png": "[encoded data removed]",
      "text/plain": [
       "<Figure size 450x310 with 1 Axes>"
      ]
     },
     "metadata": {},
     "output_type": "display_data"
    }
   ],
   "source": [
    "fig, ax = plt.subplots(1, 1, figsize=(4.5,3.1))\n",
    "g = sns.histplot(data=df_DI, x=\"DI\", hue=\"group\", palette=[\"#fb8072\", \"#fdb462\", \"#80b1d3\"], ax=ax)\n",
    "sns.move_legend(g, \"upper center\", bbox_to_anchor=(0.5, 1), frameon=False)\n",
    "g.legend_.set_title(\"Divergent\", prop={\"weight\":\"bold\", \"size\":sfontsize})\n",
    "g.legend_.get_title().set_position((0, 7))\n",
    "for text in g.legend_.get_texts():\n",
    "\tcurrent_text = text.get_text()\n",
    "\tif \"distal\" in current_text:\n",
    "\t    text.set_text(f\"{current_text.split('_')[1].capitalize()} ({current_text.split('_')[2]})\")\n",
    "\telse:\n",
    "\t    text.set_text(f\"{current_text.split('_')[1].capitalize()}\")\n",
    "\ttext.set_fontsize(sfontsize)\n",
    "line = plt.Line2D([-0.45, 0.45], [535, 535], color=\"k\", lw=1)\n",
    "g.add_line(line)\n",
    "g.set_ylabel(\"No. elements\", fontsize=bfontsize, fontweight=\"bold\")\n",
    "g.set_xlabel(\"Directionality index\", fontsize=bfontsize, fontweight=\"bold\")\n",
    "g.set_xticks([-1,-0.5,0,0.5,1])\n",
    "g.tick_params(labelsize=sfontsize, pad=2)\n",
    "g.spines.right.set_visible(False)\n",
    "g.spines.top.set_visible(False)\n",
    "g.set_ylim([0,590])\n",
    "outputfile = f\"{PROJECT_DIR_o}figures/Fig1c.pdf\"\n",
    "plt.savefig(outputfile, bbox_inches=\"tight\", dpi=300)"
   ]
  },
  {
   "cell_type": "code",
   "execution_count": null,
   "id": "7dde2696-3103-42ce-9ede-2135e89c974a",
   "metadata": {},
   "outputs": [],
   "source": []
  }
 ],
 "metadata": {
  "kernelspec": {
   "display_name": "Python 3 (ipykernel)",
   "language": "python",
   "name": "python3"
  },
  "language_info": {
   "codemirror_mode": {
    "name": "ipython",
    "version": 3
   },
   "file_extension": ".py",
   "mimetype": "text/x-python",
   "name": "python",
   "nbconvert_exporter": "python",
   "pygments_lexer": "ipython3",
   "version": "3.10.8"
  }
 },
 "nbformat": 4,
 "nbformat_minor": 5
}

{
 "cells": [
  {
   "cell_type": "code",
   "execution_count": 1,
   "id": "5a6f59dd-84f0-4a76-a239-da0c6f6f77cc",
   "metadata": {
    "execution": {
     "iopub.execute_input": "2024-11-27T15:24:01.094972Z",
     "iopub.status.busy": "2024-11-27T15:24:01.094584Z",
     "iopub.status.idle": "2024-11-27T15:24:02.319711Z",
     "shell.execute_reply": "2024-11-27T15:24:02.319200Z",
     "shell.execute_reply.started": "2024-11-27T15:24:01.094952Z"
    }
   },
   "outputs": [],
   "source": [
    "from mphelper import ProcessWrapPool\n",
    "import pandas as pd\n",
    "import matplotlib.pyplot as plt\n",
    "import itertools\n",
    "import biodataplot.metaplot as bpm\n",
    "from biodata.bigwig import BigWigIReader\n",
    "from biodata.bed import BEDXReader\n",
    "from genomictools import GenomicCollection\n",
    "import json"
   ]
  },
  {
   "cell_type": "code",
   "execution_count": 2,
   "id": "fd9d462f-6eb0-41fb-9c0f-e08095452cfb",
   "metadata": {
    "execution": {
     "iopub.execute_input": "2024-11-27T15:24:02.336058Z",
     "iopub.status.busy": "2024-11-27T15:24:02.335842Z",
     "iopub.status.idle": "2024-11-27T15:24:02.339981Z",
     "shell.execute_reply": "2024-11-27T15:24:02.339559Z",
     "shell.execute_reply.started": "2024-11-27T15:24:02.336040Z"
    }
   },
   "outputs": [],
   "source": [
    "import sys\n",
    "from pathlib import Path\n",
    "sys.path.append(str(Path.cwd().parent))\n",
    "import utils"
   ]
  },
  {
   "cell_type": "code",
   "execution_count": 3,
   "id": "97f5e891-362a-40be-b625-fccf6eb0e1ee",
   "metadata": {
    "execution": {
     "iopub.execute_input": "2024-11-27T15:24:02.340725Z",
     "iopub.status.busy": "2024-11-27T15:24:02.340494Z",
     "iopub.status.idle": "2024-11-27T15:24:03.614907Z",
     "shell.execute_reply": "2024-11-27T15:24:03.614445Z",
     "shell.execute_reply.started": "2024-11-27T15:24:02.340707Z"
    }
   },
   "outputs": [],
   "source": [
    "import matplotlib\n",
    "font_dir = Path.cwd().parent / \"font\"\n",
    "for font in [\"Arial.ttf\", \"Arial_Bold.ttf\"]:\n",
    "    matplotlib.font_manager.fontManager.addfont(font_dir / font)\n",
    "matplotlib.rcParams[\"font.family\"] = \"Arial\"\n",
    "bfontsize = 12\n",
    "sfontsize = 9"
   ]
  },
  {
   "cell_type": "code",
   "execution_count": 4,
   "id": "3a02941b-44fb-4ae3-aa1f-6a6366d81611",
   "metadata": {
    "execution": {
     "iopub.execute_input": "2024-11-27T15:24:03.615686Z",
     "iopub.status.busy": "2024-11-27T15:24:03.615414Z",
     "iopub.status.idle": "2024-11-27T15:24:04.988582Z",
     "shell.execute_reply": "2024-11-27T15:24:04.988107Z",
     "shell.execute_reply.started": "2024-11-27T15:24:03.615668Z"
    },
    "tags": []
   },
   "outputs": [],
   "source": [
    "PROJECT_DIR_d = \"/fs/cbsuhy02/storage/yc2553/yc2553/projects/TRE_directionality/PROcap/\"\n",
    "PROJECT_DIR_r = \"/fs/cbsuhy02/storage/yc2553/yc2553/projects/TRE_directionality/resources/\"\n",
    "PROJECT_DIR_o = \"/fs/cbsuhy02/storage/yc2553/yc2553/projects/TRE_directionality/output/\""
   ]
  },
  {
   "cell_type": "markdown",
   "id": "d0406638-edd1-4e9c-9b65-b1b3f040adc2",
   "metadata": {},
   "source": [
    "# Generate feature matrix"
   ]
  },
  {
   "cell_type": "markdown",
   "id": "ba8194fb-a4df-4ae8-808d-4e74c5045cbe",
   "metadata": {},
   "source": [
    "## Get individual matrix"
   ]
  },
  {
   "cell_type": "code",
   "execution_count": 5,
   "id": "c44eabf3-daef-435d-9e5f-19ea5e69e8a0",
   "metadata": {
    "execution": {
     "iopub.execute_input": "2024-11-27T15:24:04.990634Z",
     "iopub.status.busy": "2024-11-27T15:24:04.990441Z",
     "iopub.status.idle": "2024-11-27T15:24:06.378302Z",
     "shell.execute_reply": "2024-11-27T15:24:06.377839Z",
     "shell.execute_reply.started": "2024-11-27T15:24:04.990616Z"
    }
   },
   "outputs": [],
   "source": [
    "s = \"C1\"\n",
    "ps = [\"divergent\", \"unidirectional\"]\n",
    "ds = [\"proximal\", \"distal\"]\n",
    "cs = [\"\", \"_control\"]\n",
    "gs = [f\"{p}_{d}{c}\" for p, d, c in itertools.product(ps, ds, cs)]"
   ]
  },
  {
   "cell_type": "code",
   "execution_count": 6,
   "id": "531ac254-e8b9-4eba-8a6e-e24a719d758d",
   "metadata": {
    "execution": {
     "iopub.execute_input": "2024-11-27T15:24:06.379102Z",
     "iopub.status.busy": "2024-11-27T15:24:06.378843Z",
     "iopub.status.idle": "2024-11-27T15:24:08.087658Z",
     "shell.execute_reply": "2024-11-27T15:24:08.087173Z",
     "shell.execute_reply.started": "2024-11-27T15:24:06.379083Z"
    }
   },
   "outputs": [],
   "source": [
    "bws = {\"PHF8\": f\"{PROJECT_DIR_r}ENCODE/ENCFF092HFK.bigWig\",\n",
    "\t   \"SMAD5\": f\"{PROJECT_DIR_r}ENCODE/ENCFF094FAV.bigWig\"\n",
    "\t\t}\n",
    "ms = list(bws.keys())"
   ]
  },
  {
   "cell_type": "code",
   "execution_count": 7,
   "id": "0f58114b-99d2-4657-98a4-70a373967859",
   "metadata": {
    "execution": {
     "iopub.execute_input": "2024-11-27T15:24:08.089241Z",
     "iopub.status.busy": "2024-11-27T15:24:08.088988Z",
     "iopub.status.idle": "2024-11-27T15:25:40.758217Z",
     "shell.execute_reply": "2024-11-27T15:25:40.757239Z",
     "shell.execute_reply.started": "2024-11-27T15:24:08.089224Z"
    },
    "scrolled": true
   },
   "outputs": [],
   "source": [
    "df_features = {}\n",
    "for g in gs:\n",
    "\tbed = f\"{PROJECT_DIR_d}bed_plot/{s}_{g}.bed\"\n",
    "\tif \"control\" in bed:\n",
    "\t\tall_regions = BEDXReader.read_all(GenomicCollection, bed)\n",
    "\t\tuse_strand = False\n",
    "\telse:\n",
    "\t\tall_regions = BEDXReader.read_all(GenomicCollection, bed, strandfield=\"f7\")\n",
    "\t\tuse_strand = True\n",
    "\tindex = [f\"{r.chrom}_{r.chromStart}_{r.chromEnd}\" for r in all_regions]\n",
    "\n",
    "\tfor m in bws:\n",
    "\t\tdf_features[(m,g)] = pd.DataFrame(bpm.generate_signal_profile(all_regions, BigWigIReader(bws[m]), fixed_size=1001, use_strand=use_strand), index=index)"
   ]
  },
  {
   "cell_type": "code",
   "execution_count": 8,
   "id": "cf86b9ea-59a4-4fcf-b30a-803d872feb5a",
   "metadata": {
    "execution": {
     "iopub.execute_input": "2024-11-27T15:25:40.759415Z",
     "iopub.status.busy": "2024-11-27T15:25:40.759102Z",
     "iopub.status.idle": "2024-11-27T15:26:28.356292Z",
     "shell.execute_reply": "2024-11-27T15:26:28.355713Z",
     "shell.execute_reply.started": "2024-11-27T15:25:40.759393Z"
    }
   },
   "outputs": [],
   "source": [
    "df_reformat = {}\n",
    "for k in df_features:\n",
    "\tdf = df_features[k].reset_index()\n",
    "\tdf_reformat[k] = pd.melt(df,\n",
    "\t\t\t\t\t\t  id_vars=\"index\",\n",
    "\t\t\t\t\t\t  value_vars=list(df.columns[1:]),\n",
    "\t\t\t\t\t\t  var_name=\"Position\",\n",
    "\t\t\t\t\t\t  value_name=\"Feature\"\n",
    "\t\t\t\t\t\t  )"
   ]
  },
  {
   "cell_type": "markdown",
   "id": "2a224f04-1cb1-4f76-98dc-bd2bcbbeecbb",
   "metadata": {},
   "source": [
    "## Combine dataframes for plotting"
   ]
  },
  {
   "cell_type": "code",
   "execution_count": 9,
   "id": "cb05bebf-3b11-44cb-b948-404c9dd5c198",
   "metadata": {
    "execution": {
     "iopub.execute_input": "2024-11-27T15:26:28.357247Z",
     "iopub.status.busy": "2024-11-27T15:26:28.356983Z",
     "iopub.status.idle": "2024-11-27T15:27:18.426352Z",
     "shell.execute_reply": "2024-11-27T15:27:18.425784Z",
     "shell.execute_reply.started": "2024-11-27T15:26:28.357228Z"
    },
    "scrolled": true
   },
   "outputs": [],
   "source": [
    "df_metaplots = {}\n",
    "for m, d in itertools.product(ms, ds):\n",
    "\tdfs = []\n",
    "\tfor p in ps:\n",
    "\t\tdf1 = df_reformat[(m, f\"{p}_{d}\")].copy()\n",
    "\t\tdf1[\"Label\"] = p.capitalize()\n",
    "\t\tdf2 = df_reformat[(m, f\"{p}_{d}_control\")].copy()\n",
    "\t\tdf2[\"Label\"] = \"Ctrl\"\n",
    "\t\tdfs.extend([df1, df2])\n",
    "\tdf_metaplots[(m,d)] = pd.concat(dfs).reset_index(drop=True)\t"
   ]
  },
  {
   "cell_type": "markdown",
   "id": "06685bcf-4133-40b1-80b9-2e2dc6c4859d",
   "metadata": {},
   "source": [
    "# Divergent vs. unidirectional"
   ]
  },
  {
   "cell_type": "markdown",
   "id": "311a343d-fe66-4b1f-9fd3-afdbcd876b3f",
   "metadata": {},
   "source": [
    "## Settings"
   ]
  },
  {
   "cell_type": "code",
   "execution_count": 10,
   "id": "cf77a87d-9272-4bba-8216-053c60c0d493",
   "metadata": {
    "execution": {
     "iopub.execute_input": "2024-11-27T15:27:18.427722Z",
     "iopub.status.busy": "2024-11-27T15:27:18.427457Z",
     "iopub.status.idle": "2024-11-27T15:29:41.630003Z",
     "shell.execute_reply": "2024-11-27T15:29:41.629279Z",
     "shell.execute_reply.started": "2024-11-27T15:27:18.427704Z"
    }
   },
   "outputs": [
    {
     "name": "stdout",
     "output_type": "stream",
     "text": [
      "proximal PHF8 22.722070183348237 0.6881722265708423\n",
      "distal PHF8 5.15912518238369 0.692488691482435\n",
      "proximal SMAD5 5.425667955796219 0.5927417862067668\n",
      "distal SMAD5 2.4410166774164646 0.5811491189730662\n"
     ]
    }
   ],
   "source": [
    "labels = [\"Ctrl\", \"Divergent\", \"Unidirectional\"]\n",
    "for m, d in itertools.product(ms, ds):\n",
    "\tmaxs = []\n",
    "\tmins = []\n",
    "\tdf = df_metaplots[(m,d)]\n",
    "\tfor label in labels:\n",
    "\t\tmaxs.append(df[df[\"Label\"]==label].groupby(\"Position\")[\"Feature\"].mean().max())\n",
    "\t\tmins.append(df[df[\"Label\"]==label].groupby(\"Position\")[\"Feature\"].mean().min())\n",
    "\tprint(d, m, max(maxs), min(mins))"
   ]
  },
  {
   "cell_type": "markdown",
   "id": "b8edd7da-babc-4d85-a1f5-04bd0245b198",
   "metadata": {},
   "source": [
    "## Generate metaplots & heatmaps"
   ]
  },
  {
   "cell_type": "code",
   "execution_count": 11,
   "id": "88d1f1c5-1bcf-48ab-9b1f-50a03519cc5d",
   "metadata": {
    "execution": {
     "iopub.execute_input": "2024-11-27T15:29:41.631273Z",
     "iopub.status.busy": "2024-11-27T15:29:41.630963Z",
     "iopub.status.idle": "2024-11-27T15:29:41.642440Z",
     "shell.execute_reply": "2024-11-27T15:29:41.641995Z",
     "shell.execute_reply.started": "2024-11-27T15:29:41.631253Z"
    }
   },
   "outputs": [],
   "source": [
    "def generate_metaplot_and_heatmap(d, ps, ms, df_metaplots, df_heatmaps, sort_file, ylims, yticks, cmap, outputfile, test, xlabel=\"Distance (kb)\"):\n",
    "\theight_ratios = [5,5,5,0.8,0.5]\n",
    "\tfig, axes = plt.subplots(len(height_ratios), len(ms), figsize=(4, 5.2), gridspec_kw={'height_ratios': height_ratios})\n",
    "\tfor col in range(len(ms)):\n",
    "\t\taxes[3,col].axis(\"off\")\n",
    "\tlabelpad = 2\n",
    "\ty_align = -0.2\n",
    "\twspace = 0.3\n",
    "\thspace = 0.2\n",
    "\n",
    "\thue_order = [\"Ctrl\", \"Divergent\", \"Unidirectional\"]\n",
    "\tpalette = [\"#d9d9d9\", \"#313695\", \"#de77ae\"]\n",
    "\t\n",
    "\tfor m in ms:\n",
    "\t\tcol = ms.index(m)\n",
    "\t\tfor row in range(3):\n",
    "\t\t\tif len(ms) == 1:\n",
    "\t\t\t\tax = axes[row]\n",
    "\t\t\telse:\n",
    "\t\t\t\tax = axes[row, col]\n",
    "\t\t\t\t\n",
    "\t\t\t# Metaplot\n",
    "\t\t\tif row == 0:\n",
    "\t\t\t\tutils.generate_feature_metaplot(df_metaplots[(m,d)], palette, hue_order, ax, test)\n",
    "\t\t\t\t\n",
    "\t\t\t\tax.set_ylim(ylims[ms.index(m)])\n",
    "\t\t\t\tax.set_yticks(yticks[ms.index(m)])\n",
    "\t\t\t\tax.tick_params(axis=\"y\", labelsize=sfontsize, pad=labelpad)\n",
    "\t\t\t\tif col == 0:\n",
    "\t\t\t\t\tax.set_ylabel(\"ChIP-seq\", fontsize=bfontsize, fontweight=\"bold\")\n",
    "\t\t\t\t\tax.get_yaxis().set_label_coords(y_align, 0.5)\n",
    "\t\t\t\telse:\n",
    "\t\t\t\t\tax.set_ylabel(\"\")\n",
    "\t\t\t\t\t\n",
    "\t\t\t\tax.set_title(m, fontsize=bfontsize, pad=labelpad+5, fontweight=\"bold\")\n",
    "\t\t\t\tax.legend([],[], frameon=False)\n",
    "\t\t\t\t\t\n",
    "\t\t\t# Heatmap\n",
    "\t\t\telse:\n",
    "\t\t\t\tif row == 2:\n",
    "\t\t\t\t\tcbar = True\n",
    "\t\t\t\t\tif len(ms) == 1:\n",
    "\t\t\t\t\t\tcbar_ax = axes[4]\n",
    "\t\t\t\t\telse:\n",
    "\t\t\t\t\t\tcbar_ax = axes[4, col]\n",
    "\t\t\t\telse:\n",
    "\t\t\t\t\tcbar = False\n",
    "\t\t\t\t\tcbar_ax = None\t\t\n",
    "\t\t\t\tcbar_kws = {\"ticks\": yticks[ms.index(m)], \"orientation\": \"horizontal\"}\n",
    "\t\t\t\t\n",
    "\t\t\t\tutils.generate_feature_heatmap(df_heatmaps[(m,f\"{ps[row-1]}_{d}\")], yticks[ms.index(m)], cmap, cbar, cbar_ax, cbar_kws, ax, sort_file, test)\n",
    "\n",
    "\t\t\t\tif row == 2:\n",
    "\t\t\t\t\tcbar_ax.set_xticklabels(yticks[ms.index(m)])\n",
    "\t\t\t\t\tcbar_ax.tick_params(axis=\"x\", labelsize=sfontsize, pad=labelpad)\n",
    "\n",
    "\t\t\t\tif col == 0:\n",
    "\t\t\t\t\tax.set_ylabel(ps[row-1].capitalize(), fontsize=bfontsize, fontweight=\"bold\")\n",
    "\t\t\t\t\tax.get_yaxis().set_label_coords(y_align/2, 0.5)\n",
    "\t\t\t\telse:\n",
    "\t\t\t\t\tax.set_ylabel(\"\")\n",
    "\t\t\n",
    "\t\t\txtick_list = [0,500,1000]\n",
    "\t\t\txticklabel_list = [\"-0.5\", \"0\", \"0.5\"]\n",
    "\t\t\tax.set_xlim([0, 1000])\n",
    "\t\t\tax.set_xticks(xtick_list)\n",
    "\t\t\tif row == 2:\n",
    "\t\t\t\tax.set_xticklabels(xticklabel_list)\n",
    "\t\t\t\tax.set_xlabel(xlabel, fontsize=bfontsize, fontweight=\"bold\")\n",
    "\t\t\t\tax.tick_params(axis=\"x\", labelsize=sfontsize, pad=labelpad)\n",
    "\t\t\telse:\n",
    "\t\t\t\tax.set_xticklabels([])\n",
    "\t\t\t\tax.set_xlabel(\"\")\n",
    "\n",
    "\tfig.subplots_adjust(wspace=wspace, hspace=hspace)\n",
    "\tplt.savefig(outputfile, bbox_inches=\"tight\", dpi=300) "
   ]
  },
  {
   "cell_type": "code",
   "execution_count": 12,
   "id": "090b26cd-636b-4062-baee-b9e931bb7395",
   "metadata": {
    "execution": {
     "iopub.execute_input": "2024-11-27T15:30:41.444377Z",
     "iopub.status.busy": "2024-11-27T15:30:41.444018Z",
     "iopub.status.idle": "2024-11-27T15:30:41.450176Z",
     "shell.execute_reply": "2024-11-27T15:30:41.449616Z",
     "shell.execute_reply.started": "2024-11-27T15:30:41.444354Z"
    },
    "scrolled": true,
    "tags": []
   },
   "outputs": [],
   "source": [
    "pwpool = ProcessWrapPool(len(ds))\n",
    "\n",
    "# test = True\n",
    "test = False\n",
    "cmap = \"viridis\"\n",
    "sort_file = f\"{PROJECT_DIR_o}labels/{s}_distance_to_center.json\"\n",
    "for d in ds:\n",
    "\tif d == \"distal\":\n",
    "\t\tylims = [[-1, 7], [-0.5, 3.5]]\n",
    "\t\tyticks = [[0, 2, 4, 6], [0, 1, 2, 3]]\n",
    "\telse:\n",
    "\t\tylims = [[-2, 26], [-1, 7]]\n",
    "\t\tyticks = [[0, 8, 16, 24], [0, 2, 4, 6]]\n",
    "\tfolder = \"supp_figures/\" if d == \"proximal\" else \"other_figures/\"\n",
    "\toutputfile = f\"{PROJECT_DIR_o}{folder}SuppFig1e.png\"\n",
    "\tpwpool.run(generate_metaplot_and_heatmap, args=[d, ps, ms, df_metaplots, df_features, sort_file, ylims, yticks, cmap, outputfile, test])"
   ]
  },
  {
   "cell_type": "code",
   "execution_count": 15,
   "id": "2823fa9a-d020-4ba6-a16b-f73cc70da204",
   "metadata": {
    "execution": {
     "iopub.execute_input": "2024-11-27T15:49:10.093874Z",
     "iopub.status.busy": "2024-11-27T15:49:10.093505Z",
     "iopub.status.idle": "2024-11-27T15:49:10.097611Z",
     "shell.execute_reply": "2024-11-27T15:49:10.097172Z",
     "shell.execute_reply.started": "2024-11-27T15:49:10.093853Z"
    },
    "tags": []
   },
   "outputs": [
    {
     "data": {
      "text/plain": [
       "2"
      ]
     },
     "execution_count": 15,
     "metadata": {},
     "output_type": "execute_result"
    }
   ],
   "source": [
    "len(pwpool.finished_tasks)"
   ]
  },
  {
   "cell_type": "code",
   "execution_count": 16,
   "id": "1c607d31-8702-4416-9e92-7a45a32149fb",
   "metadata": {
    "execution": {
     "iopub.execute_input": "2024-11-27T15:49:10.780195Z",
     "iopub.status.busy": "2024-11-27T15:49:10.779942Z",
     "iopub.status.idle": "2024-11-27T15:49:11.016006Z",
     "shell.execute_reply": "2024-11-27T15:49:11.015437Z",
     "shell.execute_reply.started": "2024-11-27T15:49:10.780176Z"
    }
   },
   "outputs": [],
   "source": [
    "pwpool.close()"
   ]
  },
  {
   "cell_type": "code",
   "execution_count": null,
   "id": "0f9ff097-e373-4e88-8d2c-5c7068bf015a",
   "metadata": {},
   "outputs": [],
   "source": []
  }
 ],
 "metadata": {
  "kernelspec": {
   "display_name": "Python 3 (ipykernel)",
   "language": "python",
   "name": "python3"
  },
  "language_info": {
   "codemirror_mode": {
    "name": "ipython",
    "version": 3
   },
   "file_extension": ".py",
   "mimetype": "text/x-python",
   "name": "python",
   "nbconvert_exporter": "python",
   "pygments_lexer": "ipython3",
   "version": "3.10.8"
  }
 },
 "nbformat": 4,
 "nbformat_minor": 5
}

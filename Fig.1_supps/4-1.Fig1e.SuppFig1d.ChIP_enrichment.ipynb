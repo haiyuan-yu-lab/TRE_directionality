{
 "cells": [
  {
   "cell_type": "code",
   "execution_count": 1,
   "id": "485a6274-f3c7-4127-b199-7abade325537",
   "metadata": {
    "execution": {
     "iopub.execute_input": "2024-11-27T15:18:33.409851Z",
     "iopub.status.busy": "2024-11-27T15:18:33.409610Z",
     "iopub.status.idle": "2024-11-27T15:18:39.885885Z",
     "shell.execute_reply": "2024-11-27T15:18:39.885351Z",
     "shell.execute_reply.started": "2024-11-27T15:18:33.409832Z"
    }
   },
   "outputs": [],
   "source": [
    "import json\n",
    "import pandas as pd\n",
    "from collections import defaultdict\n",
    "import subprocess\n",
    "from scipy import stats\n",
    "from statsmodels.stats import multitest\n",
    "import numpy as np\n",
    "import pybedtools\n",
    "import matplotlib.pyplot as plt\n",
    "import seaborn as sns\n",
    "import itertools"
   ]
  },
  {
   "cell_type": "code",
   "execution_count": 2,
   "id": "602d0578-69c7-41c7-9bdf-cc08d27a570a",
   "metadata": {
    "execution": {
     "iopub.execute_input": "2024-11-27T15:18:39.887275Z",
     "iopub.status.busy": "2024-11-27T15:18:39.886926Z",
     "iopub.status.idle": "2024-11-27T15:18:39.893191Z",
     "shell.execute_reply": "2024-11-27T15:18:39.892753Z",
     "shell.execute_reply.started": "2024-11-27T15:18:39.887254Z"
    }
   },
   "outputs": [],
   "source": [
    "import matplotlib\n",
    "from pathlib import Path\n",
    "font_dir = Path.cwd().parent / \"font\"\n",
    "for font in [\"Arial.ttf\", \"Arial_Bold.ttf\"]:\n",
    "    matplotlib.font_manager.fontManager.addfont(font_dir / font)\n",
    "matplotlib.rcParams[\"font.family\"] = \"Arial\"\n",
    "bfontsize = 12\n",
    "sfontsize = 9"
   ]
  },
  {
   "cell_type": "code",
   "execution_count": 3,
   "id": "3a02941b-44fb-4ae3-aa1f-6a6366d81611",
   "metadata": {
    "execution": {
     "iopub.execute_input": "2024-11-27T15:18:41.336583Z",
     "iopub.status.busy": "2024-11-27T15:18:41.336321Z",
     "iopub.status.idle": "2024-11-27T15:18:41.342876Z",
     "shell.execute_reply": "2024-11-27T15:18:41.342439Z",
     "shell.execute_reply.started": "2024-11-27T15:18:41.336563Z"
    },
    "tags": []
   },
   "outputs": [],
   "source": [
    "PROJECT_DIR_d = \"/fs/cbsuhy02/storage/yc2553/yc2553/projects/TRE_directionality/PROcap/\"\n",
    "PROJECT_DIR_r = \"/fs/cbsuhy02/storage/yc2553/yc2553/projects/TRE_directionality/resources/\"\n",
    "PROJECT_DIR_o = \"/fs/cbsuhy02/storage/yc2553/yc2553/projects/TRE_directionality/output/\""
   ]
  },
  {
   "cell_type": "markdown",
   "id": "73917be9-6fca-4787-9e5b-5fe81fe85fd2",
   "metadata": {},
   "source": [
    "# Get ChIP-seq signals at peak regions"
   ]
  },
  {
   "cell_type": "code",
   "execution_count": 4,
   "id": "c44eabf3-daef-435d-9e5f-19ea5e69e8a0",
   "metadata": {
    "execution": {
     "iopub.execute_input": "2024-11-27T15:18:41.344789Z",
     "iopub.status.busy": "2024-11-27T15:18:41.344564Z",
     "iopub.status.idle": "2024-11-27T15:18:42.970562Z",
     "shell.execute_reply": "2024-11-27T15:18:42.970082Z",
     "shell.execute_reply.started": "2024-11-27T15:18:41.344771Z"
    }
   },
   "outputs": [],
   "source": [
    "s = \"C1\"\n",
    "ps = [\"divergent\", \"unidirectional\"]\n",
    "ds = [\"distal\", \"proximal\"]\n",
    "gs = [f\"{p}_{d}\" for p, d in itertools.product(ps, ds)]"
   ]
  },
  {
   "cell_type": "code",
   "execution_count": 5,
   "id": "6a8a2c33-d15f-4bf8-95ce-788173e5e2c5",
   "metadata": {
    "execution": {
     "iopub.execute_input": "2024-11-27T15:18:42.971329Z",
     "iopub.status.busy": "2024-11-27T15:18:42.971091Z",
     "iopub.status.idle": "2024-11-27T15:18:44.078342Z",
     "shell.execute_reply": "2024-11-27T15:18:44.077877Z",
     "shell.execute_reply.started": "2024-11-27T15:18:42.971311Z"
    },
    "scrolled": true
   },
   "outputs": [],
   "source": [
    "inputfile = f\"{PROJECT_DIR_r}ENCODE/acc_target.json\"\n",
    "with open(inputfile, \"r\") as f:\n",
    "\tacc_target = json.load(f)"
   ]
  },
  {
   "cell_type": "code",
   "execution_count": 6,
   "id": "2e8dcc54-aa7f-4271-a877-5b461a8e90b4",
   "metadata": {
    "execution": {
     "iopub.execute_input": "2024-11-27T15:19:23.306773Z",
     "iopub.status.busy": "2024-11-27T15:19:23.306386Z",
     "iopub.status.idle": "2024-11-27T15:20:24.762358Z",
     "shell.execute_reply": "2024-11-27T15:20:24.761786Z",
     "shell.execute_reply.started": "2024-11-27T15:19:23.306751Z"
    }
   },
   "outputs": [],
   "source": [
    "fb = \" \".join([f\"{PROJECT_DIR_r}ENCODE/{acc}.bed.gz\" for acc in acc_target])\n",
    "for g in gs:\n",
    "\tfa = f\"{PROJECT_DIR_d}bed_plot/{s}_{g}.bed\"\n",
    "\toutputfile = f\"{PROJECT_DIR_o}temp/{s}_{g}_ChIP.bed\"\n",
    "\tcommands = \" \".join([\"bedtools intersect\",\n",
    "\t\t\t\t\t\t \"-a\", fa,\n",
    "\t\t\t\t\t\t \"-b\", fb,\n",
    "\t\t\t\t\t\t \"-wao\",\n",
    "\t\t\t\t\t\t \">\", outputfile\n",
    "\t\t\t\t\t\t])\n",
    "\tsubprocess.run(commands, shell=True)"
   ]
  },
  {
   "cell_type": "code",
   "execution_count": 7,
   "id": "fa720315-cde1-4bab-b052-6a26383a6fcd",
   "metadata": {
    "execution": {
     "iopub.execute_input": "2024-11-27T15:20:24.763678Z",
     "iopub.status.busy": "2024-11-27T15:20:24.763394Z",
     "iopub.status.idle": "2024-11-27T15:20:25.160016Z",
     "shell.execute_reply": "2024-11-27T15:20:25.159531Z",
     "shell.execute_reply.started": "2024-11-27T15:20:24.763657Z"
    }
   },
   "outputs": [
    {
     "data": {
      "text/html": [
       "<div>\n",
       "<style scoped>\n",
       "    .dataframe tbody tr th:only-of-type {\n",
       "        vertical-align: middle;\n",
       "    }\n",
       "\n",
       "    .dataframe tbody tr th {\n",
       "        vertical-align: top;\n",
       "    }\n",
       "\n",
       "    .dataframe thead th {\n",
       "        text-align: right;\n",
       "    }\n",
       "</style>\n",
       "<table border=\"1\" class=\"dataframe\">\n",
       "  <thead>\n",
       "    <tr style=\"text-align: right;\">\n",
       "      <th></th>\n",
       "      <th>0</th>\n",
       "      <th>1</th>\n",
       "      <th>2</th>\n",
       "      <th>3</th>\n",
       "      <th>4</th>\n",
       "      <th>5</th>\n",
       "      <th>6</th>\n",
       "      <th>7</th>\n",
       "      <th>8</th>\n",
       "      <th>9</th>\n",
       "      <th>10</th>\n",
       "      <th>11</th>\n",
       "      <th>12</th>\n",
       "      <th>13</th>\n",
       "      <th>14</th>\n",
       "      <th>15</th>\n",
       "      <th>16</th>\n",
       "      <th>17</th>\n",
       "      <th>18</th>\n",
       "      <th>19</th>\n",
       "    </tr>\n",
       "  </thead>\n",
       "  <tbody>\n",
       "    <tr>\n",
       "      <th>0</th>\n",
       "      <td>chr1</td>\n",
       "      <td>975962</td>\n",
       "      <td>976463</td>\n",
       "      <td>976227</td>\n",
       "      <td>976241</td>\n",
       "      <td>976240</td>\n",
       "      <td>.</td>\n",
       "      <td>+</td>\n",
       "      <td>12</td>\n",
       "      <td>chr1</td>\n",
       "      <td>976084</td>\n",
       "      <td>976384</td>\n",
       "      <td>.</td>\n",
       "      <td>661</td>\n",
       "      <td>.</td>\n",
       "      <td>28.16687</td>\n",
       "      <td>-1.00000</td>\n",
       "      <td>4.31149</td>\n",
       "      <td>150</td>\n",
       "      <td>300</td>\n",
       "    </tr>\n",
       "    <tr>\n",
       "      <th>1</th>\n",
       "      <td>chr1</td>\n",
       "      <td>975962</td>\n",
       "      <td>976463</td>\n",
       "      <td>976227</td>\n",
       "      <td>976241</td>\n",
       "      <td>976240</td>\n",
       "      <td>.</td>\n",
       "      <td>+</td>\n",
       "      <td>22</td>\n",
       "      <td>chr1</td>\n",
       "      <td>976105</td>\n",
       "      <td>976297</td>\n",
       "      <td>.</td>\n",
       "      <td>1000</td>\n",
       "      <td>.</td>\n",
       "      <td>191.81867</td>\n",
       "      <td>-1.00000</td>\n",
       "      <td>3.96220</td>\n",
       "      <td>94</td>\n",
       "      <td>192</td>\n",
       "    </tr>\n",
       "  </tbody>\n",
       "</table>\n",
       "</div>"
      ],
      "text/plain": [
       "     0       1       2       3       4       5  6  7   8     9       10  \\\n",
       "0  chr1  975962  976463  976227  976241  976240  .  +  12  chr1  976084   \n",
       "1  chr1  975962  976463  976227  976241  976240  .  +  22  chr1  976105   \n",
       "\n",
       "       11 12    13 14         15        16       17   18   19  \n",
       "0  976384  .   661  .   28.16687  -1.00000  4.31149  150  300  \n",
       "1  976297  .  1000  .  191.81867  -1.00000  3.96220   94  192  "
      ]
     },
     "execution_count": 7,
     "metadata": {},
     "output_type": "execute_result"
    }
   ],
   "source": [
    "# Column 0-7: PRO-cap peak files\n",
    "# Column 8: ChIP-seq file number from which the overlap came; the number (1-based) corresponds to the order in which the files were given on the command line\n",
    "# Column 9-18: ChIP-seq files (ENCODE narrowPeak file format: https://genome.ucsc.edu/FAQ/FAQformat.html#format12)\n",
    "# Column 19: the overlap length\n",
    "\n",
    "inputfile = f\"{PROJECT_DIR_o}temp/{s}_{g}_ChIP.bed\"\n",
    "df = pd.read_table(inputfile, header=None, low_memory=False)\n",
    "df.head(2)"
   ]
  },
  {
   "cell_type": "code",
   "execution_count": 8,
   "id": "b2a3cd57-fc67-48b1-954d-a918fee12dc6",
   "metadata": {
    "execution": {
     "iopub.execute_input": "2024-11-27T15:20:25.160889Z",
     "iopub.status.busy": "2024-11-27T15:20:25.160621Z",
     "iopub.status.idle": "2024-11-27T15:23:10.308171Z",
     "shell.execute_reply": "2024-11-27T15:23:10.307539Z",
     "shell.execute_reply.started": "2024-11-27T15:20:25.160869Z"
    }
   },
   "outputs": [],
   "source": [
    "# Get signals at each element for each ChIP-seq file\n",
    "\n",
    "values = {g: defaultdict(dict) for g in gs}\n",
    "for g in gs:\n",
    "    inputfile = f\"{PROJECT_DIR_o}temp/{s}_{g}_ChIP.bed\"\n",
    "    df = pd.read_table(inputfile, header=None, low_memory=False)\n",
    "    for _, row in df.iterrows():\n",
    "        if int(row[19]) > 0:\n",
    "            chrom, start, end = row[:3]\n",
    "            acc = list(acc_target.keys())[int(row[8]) - 1]\n",
    "            signalValue = float(row[15])\n",
    "            values[g][(chrom, start, end)].setdefault(acc, []).append(signalValue)"
   ]
  },
  {
   "cell_type": "markdown",
   "id": "ab788f96-6970-45cb-b7cd-f077d710c2e3",
   "metadata": {},
   "source": [
    "# ChIP-seq signal enrichment"
   ]
  },
  {
   "cell_type": "markdown",
   "id": "ca046681-c9a0-4ee2-9d89-33a6044c8dd8",
   "metadata": {},
   "source": [
    "## Calculate enrichment"
   ]
  },
  {
   "cell_type": "code",
   "execution_count": 9,
   "id": "bcede66b-83da-4680-814d-185a52ec4ad6",
   "metadata": {
    "execution": {
     "iopub.execute_input": "2024-11-27T15:23:10.309692Z",
     "iopub.status.busy": "2024-11-27T15:23:10.309414Z",
     "iopub.status.idle": "2024-11-27T15:23:10.494657Z",
     "shell.execute_reply": "2024-11-27T15:23:10.494104Z",
     "shell.execute_reply.started": "2024-11-27T15:23:10.309673Z"
    }
   },
   "outputs": [],
   "source": [
    "es = {}\n",
    "for g in gs:\n",
    "\tb = pybedtools.BedTool(f\"{PROJECT_DIR_d}bed_plot/{s}_{g}.bed\")\n",
    "\tes[g] = [(i.fields[0], int(i.fields[1]), int(i.fields[2])) for i in b]"
   ]
  },
  {
   "cell_type": "code",
   "execution_count": 10,
   "id": "22cd3fba-a69b-4d83-bb8b-ddec82bc3140",
   "metadata": {
    "execution": {
     "iopub.execute_input": "2024-11-27T15:23:10.495526Z",
     "iopub.status.busy": "2024-11-27T15:23:10.495261Z",
     "iopub.status.idle": "2024-11-27T15:23:16.702861Z",
     "shell.execute_reply": "2024-11-27T15:23:16.702311Z",
     "shell.execute_reply.started": "2024-11-27T15:23:10.495507Z"
    }
   },
   "outputs": [],
   "source": [
    "# For a given experiment:\n",
    "# Overlapping peaks of a given target protein: keep the maximum value\n",
    "# No overlaps: 0\n",
    "\n",
    "values2 = {acc: defaultdict(list) for acc in acc_target}\n",
    "for g in gs:\n",
    "    for e in es[g]:\n",
    "        for acc in acc_target:\n",
    "            values2[acc][g].append(max(values[g][e][acc]) if e in values[g] and acc in values[g][e] else 0)"
   ]
  },
  {
   "cell_type": "code",
   "execution_count": 11,
   "id": "381beba6-ec85-49eb-83da-cfd4f93cec7d",
   "metadata": {
    "execution": {
     "iopub.execute_input": "2024-11-27T15:23:16.703764Z",
     "iopub.status.busy": "2024-11-27T15:23:16.703501Z",
     "iopub.status.idle": "2024-11-27T15:23:16.719836Z",
     "shell.execute_reply": "2024-11-27T15:23:16.719356Z",
     "shell.execute_reply.started": "2024-11-27T15:23:16.703745Z"
    }
   },
   "outputs": [],
   "source": [
    "def calculate_enrichment(d, values, acc_target, cutoff):\t\n",
    "\tresults = []\n",
    "\tcolumns = [\"feature\", \"acc\", \"group1.n\", \"group2.n\", \n",
    "\t\t\t   \"group1.nonzero\", \"group2.nonzero\", \n",
    "\t\t\t   \"group1.mean\", \"group2.mean\", \n",
    "\t\t\t   \"log2fc.1vs2\", \"ttest.pval\"]\n",
    "\tfor acc in acc_target:\n",
    "\t\tc1 = values[acc][f\"{ps[0]}_{d}\"]\n",
    "\t\tc2 = values[acc][f\"{ps[1]}_{d}\"]\n",
    "\t\tnonzero1, nonzero2 = len([c for c in c1 if c > 0]), len([c for c in c2 if c > 0])\n",
    "\t\n",
    "\t\tif np.mean(c1) > 0 and np.mean(c2) > 0 and max(nonzero1, nonzero2) >= 30:\n",
    "\t\t\tlog2fc = np.log2(np.mean(c1)/np.mean(c2))\n",
    "\t\t\tpval = stats.ttest_ind(c1, c2, equal_var=False).pvalue\n",
    "\t\t\tresults.append([acc_target[acc], acc, \n",
    "\t\t\t\t\t\t\tlen(c1), len(c2), \n",
    "\t\t\t\t\t\t\tnonzero1, nonzero2, \n",
    "\t\t\t\t\t\t\tnp.mean(c1), np.mean(c2), \n",
    "\t\t\t\t\t\t\tlog2fc, pval])\n",
    "\tdf = pd.DataFrame(results, columns=columns)\n",
    "\t\n",
    "\t# BH correction and log transformation\n",
    "\t_, adj_ps = multitest.fdrcorrection(df[\"ttest.pval\"], alpha=0.05)\n",
    "\tdf[\"ttest.pval.adj\"] = adj_ps\n",
    "\tdf[\"log10.ttest.pval.adj\"] = [-np.log10(p) for p in adj_ps]\n",
    "\t\n",
    "\t# Enrichment classification\n",
    "\tdf[\"Enrichment\"] = df.apply(lambda row: (\n",
    "\t\t\"Enriched in divergent\" if row[\"log2fc.1vs2\"] > cutoff and row[\"ttest.pval.adj\"] < 0.05 \n",
    "\t\telse \"Enriched in unidirectional\" if row[\"log2fc.1vs2\"] < -cutoff and row[\"ttest.pval.adj\"] < 0.05 \n",
    "\t\telse \"No enrichment\"), axis=1)\n",
    "\t\n",
    "\treturn df"
   ]
  },
  {
   "cell_type": "code",
   "execution_count": 12,
   "id": "b179c6c7-ddbf-4466-9a25-fc7054c11057",
   "metadata": {
    "execution": {
     "iopub.execute_input": "2024-11-27T15:23:16.720620Z",
     "iopub.status.busy": "2024-11-27T15:23:16.720389Z",
     "iopub.status.idle": "2024-11-27T15:23:22.809935Z",
     "shell.execute_reply": "2024-11-27T15:23:22.809384Z",
     "shell.execute_reply.started": "2024-11-27T15:23:16.720602Z"
    }
   },
   "outputs": [
    {
     "name": "stdout",
     "output_type": "stream",
     "text": [
      "distal 433\n",
      "proximal 434\n"
     ]
    }
   ],
   "source": [
    "df_enr = {}\n",
    "cutoff = 1.5\n",
    "for d in ds:\n",
    "\tdf_enr[d] = calculate_enrichment(d, values2, acc_target, np.log2(cutoff))\n",
    "\tprint(d, len(df_enr[d]))"
   ]
  },
  {
   "cell_type": "markdown",
   "id": "f59859b5-868f-42e0-b0e9-74af9cd2861d",
   "metadata": {},
   "source": [
    "## Plot enrichment"
   ]
  },
  {
   "cell_type": "markdown",
   "id": "0f4b9ae8-a834-4d28-a725-422617d0b279",
   "metadata": {},
   "source": [
    "### Distal"
   ]
  },
  {
   "cell_type": "code",
   "execution_count": 13,
   "id": "08968b09-1133-43a5-8425-805ff912e270",
   "metadata": {
    "execution": {
     "iopub.execute_input": "2024-11-27T15:23:22.810864Z",
     "iopub.status.busy": "2024-11-27T15:23:22.810593Z",
     "iopub.status.idle": "2024-11-27T15:23:22.824041Z",
     "shell.execute_reply": "2024-11-27T15:23:22.823611Z",
     "shell.execute_reply.started": "2024-11-27T15:23:22.810843Z"
    },
    "scrolled": true
   },
   "outputs": [
    {
     "data": {
      "text/html": [
       "<div>\n",
       "<style scoped>\n",
       "    .dataframe tbody tr th:only-of-type {\n",
       "        vertical-align: middle;\n",
       "    }\n",
       "\n",
       "    .dataframe tbody tr th {\n",
       "        vertical-align: top;\n",
       "    }\n",
       "\n",
       "    .dataframe thead th {\n",
       "        text-align: right;\n",
       "    }\n",
       "</style>\n",
       "<table border=\"1\" class=\"dataframe\">\n",
       "  <thead>\n",
       "    <tr style=\"text-align: right;\">\n",
       "      <th></th>\n",
       "      <th>feature</th>\n",
       "      <th>acc</th>\n",
       "      <th>group1.n</th>\n",
       "      <th>group2.n</th>\n",
       "      <th>group1.nonzero</th>\n",
       "      <th>group2.nonzero</th>\n",
       "      <th>group1.mean</th>\n",
       "      <th>group2.mean</th>\n",
       "      <th>log2fc.1vs2</th>\n",
       "      <th>ttest.pval</th>\n",
       "      <th>ttest.pval.adj</th>\n",
       "      <th>log10.ttest.pval.adj</th>\n",
       "      <th>Enrichment</th>\n",
       "    </tr>\n",
       "  </thead>\n",
       "  <tbody>\n",
       "    <tr>\n",
       "      <th>49</th>\n",
       "      <td>POLR2A</td>\n",
       "      <td>ENCFF634JRD</td>\n",
       "      <td>8416</td>\n",
       "      <td>3557</td>\n",
       "      <td>3452</td>\n",
       "      <td>574</td>\n",
       "      <td>41.809838</td>\n",
       "      <td>12.995715</td>\n",
       "      <td>1.685806</td>\n",
       "      <td>5.891985e-185</td>\n",
       "      <td>2.551229e-182</td>\n",
       "      <td>181.593250</td>\n",
       "      <td>Enriched in divergent</td>\n",
       "    </tr>\n",
       "    <tr>\n",
       "      <th>332</th>\n",
       "      <td>POLR2A</td>\n",
       "      <td>ENCFF410CPY</td>\n",
       "      <td>8416</td>\n",
       "      <td>3557</td>\n",
       "      <td>2791</td>\n",
       "      <td>405</td>\n",
       "      <td>15.630555</td>\n",
       "      <td>4.299257</td>\n",
       "      <td>1.862210</td>\n",
       "      <td>2.173454e-163</td>\n",
       "      <td>4.705529e-161</td>\n",
       "      <td>160.327392</td>\n",
       "      <td>Enriched in divergent</td>\n",
       "    </tr>\n",
       "    <tr>\n",
       "      <th>160</th>\n",
       "      <td>TAF1</td>\n",
       "      <td>ENCFF784BTI</td>\n",
       "      <td>8416</td>\n",
       "      <td>3557</td>\n",
       "      <td>2389</td>\n",
       "      <td>287</td>\n",
       "      <td>7.459092</td>\n",
       "      <td>1.713734</td>\n",
       "      <td>2.121856</td>\n",
       "      <td>1.608275e-156</td>\n",
       "      <td>2.321276e-154</td>\n",
       "      <td>153.634273</td>\n",
       "      <td>Enriched in divergent</td>\n",
       "    </tr>\n",
       "    <tr>\n",
       "      <th>21</th>\n",
       "      <td>RNF2</td>\n",
       "      <td>ENCFF060JVZ</td>\n",
       "      <td>8416</td>\n",
       "      <td>3557</td>\n",
       "      <td>2824</td>\n",
       "      <td>491</td>\n",
       "      <td>19.273821</td>\n",
       "      <td>6.402693</td>\n",
       "      <td>1.589892</td>\n",
       "      <td>2.172675e-142</td>\n",
       "      <td>2.351920e-140</td>\n",
       "      <td>139.628577</td>\n",
       "      <td>Enriched in divergent</td>\n",
       "    </tr>\n",
       "    <tr>\n",
       "      <th>299</th>\n",
       "      <td>NFRKB</td>\n",
       "      <td>ENCFF057NNR</td>\n",
       "      <td>8416</td>\n",
       "      <td>3557</td>\n",
       "      <td>3143</td>\n",
       "      <td>598</td>\n",
       "      <td>23.258246</td>\n",
       "      <td>8.735035</td>\n",
       "      <td>1.412857</td>\n",
       "      <td>3.730871e-124</td>\n",
       "      <td>3.230934e-122</td>\n",
       "      <td>121.490672</td>\n",
       "      <td>Enriched in divergent</td>\n",
       "    </tr>\n",
       "    <tr>\n",
       "      <th>275</th>\n",
       "      <td>MTA3</td>\n",
       "      <td>ENCFF280AIK</td>\n",
       "      <td>8416</td>\n",
       "      <td>3557</td>\n",
       "      <td>3483</td>\n",
       "      <td>806</td>\n",
       "      <td>35.288080</td>\n",
       "      <td>16.036593</td>\n",
       "      <td>1.137813</td>\n",
       "      <td>8.803727e-120</td>\n",
       "      <td>6.353356e-118</td>\n",
       "      <td>117.196997</td>\n",
       "      <td>Enriched in divergent</td>\n",
       "    </tr>\n",
       "    <tr>\n",
       "      <th>42</th>\n",
       "      <td>POLR2A</td>\n",
       "      <td>ENCFF107SJD</td>\n",
       "      <td>8416</td>\n",
       "      <td>3557</td>\n",
       "      <td>2556</td>\n",
       "      <td>329</td>\n",
       "      <td>11.754777</td>\n",
       "      <td>3.003229</td>\n",
       "      <td>1.968661</td>\n",
       "      <td>2.052551e-117</td>\n",
       "      <td>1.269649e-115</td>\n",
       "      <td>114.896316</td>\n",
       "      <td>Enriched in divergent</td>\n",
       "    </tr>\n",
       "    <tr>\n",
       "      <th>254</th>\n",
       "      <td>UBTF</td>\n",
       "      <td>ENCFF326CIT</td>\n",
       "      <td>8416</td>\n",
       "      <td>3557</td>\n",
       "      <td>2207</td>\n",
       "      <td>399</td>\n",
       "      <td>8.333508</td>\n",
       "      <td>2.861330</td>\n",
       "      <td>1.542238</td>\n",
       "      <td>2.307319e-105</td>\n",
       "      <td>1.248837e-103</td>\n",
       "      <td>102.903494</td>\n",
       "      <td>Enriched in divergent</td>\n",
       "    </tr>\n",
       "    <tr>\n",
       "      <th>250</th>\n",
       "      <td>RBFOX2</td>\n",
       "      <td>ENCFF232ASB</td>\n",
       "      <td>8416</td>\n",
       "      <td>3557</td>\n",
       "      <td>4404</td>\n",
       "      <td>912</td>\n",
       "      <td>87.703340</td>\n",
       "      <td>34.610436</td>\n",
       "      <td>1.341425</td>\n",
       "      <td>2.924436e-103</td>\n",
       "      <td>1.406979e-101</td>\n",
       "      <td>100.851713</td>\n",
       "      <td>Enriched in divergent</td>\n",
       "    </tr>\n",
       "    <tr>\n",
       "      <th>251</th>\n",
       "      <td>RBFOX2</td>\n",
       "      <td>ENCFF538ACI</td>\n",
       "      <td>8416</td>\n",
       "      <td>3557</td>\n",
       "      <td>4459</td>\n",
       "      <td>922</td>\n",
       "      <td>90.032653</td>\n",
       "      <td>36.336568</td>\n",
       "      <td>1.309026</td>\n",
       "      <td>1.223304e-101</td>\n",
       "      <td>5.296906e-100</td>\n",
       "      <td>99.275978</td>\n",
       "      <td>Enriched in divergent</td>\n",
       "    </tr>\n",
       "  </tbody>\n",
       "</table>\n",
       "</div>"
      ],
      "text/plain": [
       "    feature          acc  group1.n  group2.n  group1.nonzero  group2.nonzero  \\\n",
       "49   POLR2A  ENCFF634JRD      8416      3557            3452             574   \n",
       "332  POLR2A  ENCFF410CPY      8416      3557            2791             405   \n",
       "160    TAF1  ENCFF784BTI      8416      3557            2389             287   \n",
       "21     RNF2  ENCFF060JVZ      8416      3557            2824             491   \n",
       "299   NFRKB  ENCFF057NNR      8416      3557            3143             598   \n",
       "275    MTA3  ENCFF280AIK      8416      3557            3483             806   \n",
       "42   POLR2A  ENCFF107SJD      8416      3557            2556             329   \n",
       "254    UBTF  ENCFF326CIT      8416      3557            2207             399   \n",
       "250  RBFOX2  ENCFF232ASB      8416      3557            4404             912   \n",
       "251  RBFOX2  ENCFF538ACI      8416      3557            4459             922   \n",
       "\n",
       "     group1.mean  group2.mean  log2fc.1vs2     ttest.pval  ttest.pval.adj  \\\n",
       "49     41.809838    12.995715     1.685806  5.891985e-185   2.551229e-182   \n",
       "332    15.630555     4.299257     1.862210  2.173454e-163   4.705529e-161   \n",
       "160     7.459092     1.713734     2.121856  1.608275e-156   2.321276e-154   \n",
       "21     19.273821     6.402693     1.589892  2.172675e-142   2.351920e-140   \n",
       "299    23.258246     8.735035     1.412857  3.730871e-124   3.230934e-122   \n",
       "275    35.288080    16.036593     1.137813  8.803727e-120   6.353356e-118   \n",
       "42     11.754777     3.003229     1.968661  2.052551e-117   1.269649e-115   \n",
       "254     8.333508     2.861330     1.542238  2.307319e-105   1.248837e-103   \n",
       "250    87.703340    34.610436     1.341425  2.924436e-103   1.406979e-101   \n",
       "251    90.032653    36.336568     1.309026  1.223304e-101   5.296906e-100   \n",
       "\n",
       "     log10.ttest.pval.adj             Enrichment  \n",
       "49             181.593250  Enriched in divergent  \n",
       "332            160.327392  Enriched in divergent  \n",
       "160            153.634273  Enriched in divergent  \n",
       "21             139.628577  Enriched in divergent  \n",
       "299            121.490672  Enriched in divergent  \n",
       "275            117.196997  Enriched in divergent  \n",
       "42             114.896316  Enriched in divergent  \n",
       "254            102.903494  Enriched in divergent  \n",
       "250            100.851713  Enriched in divergent  \n",
       "251             99.275978  Enriched in divergent  "
      ]
     },
     "execution_count": 13,
     "metadata": {},
     "output_type": "execute_result"
    }
   ],
   "source": [
    "d = \"distal\"\n",
    "df_enr[d].sort_values(by=[\"log10.ttest.pval.adj\", \"log2fc.1vs2\"], ascending=False).head(10)"
   ]
  },
  {
   "cell_type": "code",
   "execution_count": 14,
   "id": "26a716fd-3bcc-4070-88f6-cff880cdccc7",
   "metadata": {
    "execution": {
     "iopub.execute_input": "2024-11-27T15:23:22.824849Z",
     "iopub.status.busy": "2024-11-27T15:23:22.824605Z",
     "iopub.status.idle": "2024-11-27T15:23:23.847379Z",
     "shell.execute_reply": "2024-11-27T15:23:23.846925Z",
     "shell.execute_reply.started": "2024-11-27T15:23:22.824830Z"
    },
    "scrolled": true
   },
   "outputs": [
    {
     "data": {
      "text/html": [
       "<div>\n",
       "<style scoped>\n",
       "    .dataframe tbody tr th:only-of-type {\n",
       "        vertical-align: middle;\n",
       "    }\n",
       "\n",
       "    .dataframe tbody tr th {\n",
       "        vertical-align: top;\n",
       "    }\n",
       "\n",
       "    .dataframe thead th {\n",
       "        text-align: right;\n",
       "    }\n",
       "</style>\n",
       "<table border=\"1\" class=\"dataframe\">\n",
       "  <thead>\n",
       "    <tr style=\"text-align: right;\">\n",
       "      <th></th>\n",
       "      <th>feature</th>\n",
       "      <th>acc</th>\n",
       "      <th>group1.n</th>\n",
       "      <th>group2.n</th>\n",
       "      <th>group1.nonzero</th>\n",
       "      <th>group2.nonzero</th>\n",
       "      <th>group1.mean</th>\n",
       "      <th>group2.mean</th>\n",
       "      <th>log2fc.1vs2</th>\n",
       "      <th>ttest.pval</th>\n",
       "      <th>ttest.pval.adj</th>\n",
       "      <th>log10.ttest.pval.adj</th>\n",
       "      <th>Enrichment</th>\n",
       "    </tr>\n",
       "  </thead>\n",
       "  <tbody>\n",
       "    <tr>\n",
       "      <th>114</th>\n",
       "      <td>RAD21</td>\n",
       "      <td>ENCFF258VXX</td>\n",
       "      <td>8416</td>\n",
       "      <td>3557</td>\n",
       "      <td>339</td>\n",
       "      <td>302</td>\n",
       "      <td>1.455042</td>\n",
       "      <td>3.752073</td>\n",
       "      <td>-1.366627</td>\n",
       "      <td>1.040438e-17</td>\n",
       "      <td>2.383648e-17</td>\n",
       "      <td>16.622758</td>\n",
       "      <td>Enriched in unidirectional</td>\n",
       "    </tr>\n",
       "    <tr>\n",
       "      <th>25</th>\n",
       "      <td>SMC3</td>\n",
       "      <td>ENCFF289LLT</td>\n",
       "      <td>8416</td>\n",
       "      <td>3557</td>\n",
       "      <td>917</td>\n",
       "      <td>446</td>\n",
       "      <td>4.111256</td>\n",
       "      <td>7.105153</td>\n",
       "      <td>-0.789286</td>\n",
       "      <td>6.197501e-12</td>\n",
       "      <td>1.064888e-11</td>\n",
       "      <td>10.972696</td>\n",
       "      <td>Enriched in unidirectional</td>\n",
       "    </tr>\n",
       "    <tr>\n",
       "      <th>26</th>\n",
       "      <td>CTCF</td>\n",
       "      <td>ENCFF221SKA</td>\n",
       "      <td>8416</td>\n",
       "      <td>3557</td>\n",
       "      <td>1275</td>\n",
       "      <td>663</td>\n",
       "      <td>17.328877</td>\n",
       "      <td>28.744638</td>\n",
       "      <td>-0.730115</td>\n",
       "      <td>3.577396e-16</td>\n",
       "      <td>7.593198e-16</td>\n",
       "      <td>15.119575</td>\n",
       "      <td>Enriched in unidirectional</td>\n",
       "    </tr>\n",
       "    <tr>\n",
       "      <th>144</th>\n",
       "      <td>CTCF</td>\n",
       "      <td>ENCFF736NYC</td>\n",
       "      <td>8416</td>\n",
       "      <td>3557</td>\n",
       "      <td>1107</td>\n",
       "      <td>579</td>\n",
       "      <td>11.549145</td>\n",
       "      <td>18.602470</td>\n",
       "      <td>-0.687708</td>\n",
       "      <td>8.966778e-13</td>\n",
       "      <td>1.617756e-12</td>\n",
       "      <td>11.791087</td>\n",
       "      <td>Enriched in unidirectional</td>\n",
       "    </tr>\n",
       "    <tr>\n",
       "      <th>279</th>\n",
       "      <td>CTCF</td>\n",
       "      <td>ENCFF769AUF</td>\n",
       "      <td>8416</td>\n",
       "      <td>3557</td>\n",
       "      <td>1202</td>\n",
       "      <td>634</td>\n",
       "      <td>16.151794</td>\n",
       "      <td>25.250180</td>\n",
       "      <td>-0.644599</td>\n",
       "      <td>2.197435e-12</td>\n",
       "      <td>3.883631e-12</td>\n",
       "      <td>11.410762</td>\n",
       "      <td>Enriched in unidirectional</td>\n",
       "    </tr>\n",
       "    <tr>\n",
       "      <th>267</th>\n",
       "      <td>SIX5</td>\n",
       "      <td>ENCFF742ZHT</td>\n",
       "      <td>8416</td>\n",
       "      <td>3557</td>\n",
       "      <td>84</td>\n",
       "      <td>42</td>\n",
       "      <td>0.534936</td>\n",
       "      <td>0.833740</td>\n",
       "      <td>-0.640231</td>\n",
       "      <td>9.731323e-02</td>\n",
       "      <td>1.035298e-01</td>\n",
       "      <td>0.984935</td>\n",
       "      <td>No enrichment</td>\n",
       "    </tr>\n",
       "    <tr>\n",
       "      <th>24</th>\n",
       "      <td>CTCF</td>\n",
       "      <td>ENCFF660GHM</td>\n",
       "      <td>8416</td>\n",
       "      <td>3557</td>\n",
       "      <td>1581</td>\n",
       "      <td>732</td>\n",
       "      <td>21.211699</td>\n",
       "      <td>32.221137</td>\n",
       "      <td>-0.603147</td>\n",
       "      <td>1.337117e-12</td>\n",
       "      <td>2.382600e-12</td>\n",
       "      <td>11.622949</td>\n",
       "      <td>Enriched in unidirectional</td>\n",
       "    </tr>\n",
       "    <tr>\n",
       "      <th>263</th>\n",
       "      <td>RAD21</td>\n",
       "      <td>ENCFF930WPG</td>\n",
       "      <td>8416</td>\n",
       "      <td>3557</td>\n",
       "      <td>1420</td>\n",
       "      <td>580</td>\n",
       "      <td>10.429210</td>\n",
       "      <td>15.760981</td>\n",
       "      <td>-0.595727</td>\n",
       "      <td>2.680745e-10</td>\n",
       "      <td>4.288872e-10</td>\n",
       "      <td>9.367657</td>\n",
       "      <td>Enriched in unidirectional</td>\n",
       "    </tr>\n",
       "    <tr>\n",
       "      <th>265</th>\n",
       "      <td>CTCF</td>\n",
       "      <td>ENCFF582SNT</td>\n",
       "      <td>8416</td>\n",
       "      <td>3557</td>\n",
       "      <td>1249</td>\n",
       "      <td>621</td>\n",
       "      <td>15.757066</td>\n",
       "      <td>23.811914</td>\n",
       "      <td>-0.595685</td>\n",
       "      <td>9.156041e-10</td>\n",
       "      <td>1.426103e-09</td>\n",
       "      <td>8.845849</td>\n",
       "      <td>Enriched in unidirectional</td>\n",
       "    </tr>\n",
       "    <tr>\n",
       "      <th>14</th>\n",
       "      <td>SUZ12</td>\n",
       "      <td>ENCFF889QYR</td>\n",
       "      <td>8416</td>\n",
       "      <td>3557</td>\n",
       "      <td>109</td>\n",
       "      <td>56</td>\n",
       "      <td>0.638758</td>\n",
       "      <td>0.929625</td>\n",
       "      <td>-0.541380</td>\n",
       "      <td>1.478097e-01</td>\n",
       "      <td>1.549675e-01</td>\n",
       "      <td>0.809759</td>\n",
       "      <td>No enrichment</td>\n",
       "    </tr>\n",
       "  </tbody>\n",
       "</table>\n",
       "</div>"
      ],
      "text/plain": [
       "    feature          acc  group1.n  group2.n  group1.nonzero  group2.nonzero  \\\n",
       "114   RAD21  ENCFF258VXX      8416      3557             339             302   \n",
       "25     SMC3  ENCFF289LLT      8416      3557             917             446   \n",
       "26     CTCF  ENCFF221SKA      8416      3557            1275             663   \n",
       "144    CTCF  ENCFF736NYC      8416      3557            1107             579   \n",
       "279    CTCF  ENCFF769AUF      8416      3557            1202             634   \n",
       "267    SIX5  ENCFF742ZHT      8416      3557              84              42   \n",
       "24     CTCF  ENCFF660GHM      8416      3557            1581             732   \n",
       "263   RAD21  ENCFF930WPG      8416      3557            1420             580   \n",
       "265    CTCF  ENCFF582SNT      8416      3557            1249             621   \n",
       "14    SUZ12  ENCFF889QYR      8416      3557             109              56   \n",
       "\n",
       "     group1.mean  group2.mean  log2fc.1vs2    ttest.pval  ttest.pval.adj  \\\n",
       "114     1.455042     3.752073    -1.366627  1.040438e-17    2.383648e-17   \n",
       "25      4.111256     7.105153    -0.789286  6.197501e-12    1.064888e-11   \n",
       "26     17.328877    28.744638    -0.730115  3.577396e-16    7.593198e-16   \n",
       "144    11.549145    18.602470    -0.687708  8.966778e-13    1.617756e-12   \n",
       "279    16.151794    25.250180    -0.644599  2.197435e-12    3.883631e-12   \n",
       "267     0.534936     0.833740    -0.640231  9.731323e-02    1.035298e-01   \n",
       "24     21.211699    32.221137    -0.603147  1.337117e-12    2.382600e-12   \n",
       "263    10.429210    15.760981    -0.595727  2.680745e-10    4.288872e-10   \n",
       "265    15.757066    23.811914    -0.595685  9.156041e-10    1.426103e-09   \n",
       "14      0.638758     0.929625    -0.541380  1.478097e-01    1.549675e-01   \n",
       "\n",
       "     log10.ttest.pval.adj                  Enrichment  \n",
       "114             16.622758  Enriched in unidirectional  \n",
       "25              10.972696  Enriched in unidirectional  \n",
       "26              15.119575  Enriched in unidirectional  \n",
       "144             11.791087  Enriched in unidirectional  \n",
       "279             11.410762  Enriched in unidirectional  \n",
       "267              0.984935               No enrichment  \n",
       "24              11.622949  Enriched in unidirectional  \n",
       "263              9.367657  Enriched in unidirectional  \n",
       "265              8.845849  Enriched in unidirectional  \n",
       "14               0.809759               No enrichment  "
      ]
     },
     "execution_count": 14,
     "metadata": {},
     "output_type": "execute_result"
    }
   ],
   "source": [
    "df_enr[d].sort_values(by=[\"log2fc.1vs2\"]).head(10)"
   ]
  },
  {
   "cell_type": "code",
   "execution_count": 15,
   "id": "5eb99f77-112c-4b5f-8996-3bcfc9c4df97",
   "metadata": {
    "execution": {
     "iopub.execute_input": "2024-11-27T15:23:23.849142Z",
     "iopub.status.busy": "2024-11-27T15:23:23.848892Z",
     "iopub.status.idle": "2024-11-27T15:23:25.105102Z",
     "shell.execute_reply": "2024-11-27T15:23:25.104667Z",
     "shell.execute_reply.started": "2024-11-27T15:23:23.849124Z"
    }
   },
   "outputs": [],
   "source": [
    "def plot_enrichment(df, ax, xlims):\n",
    "\tg = sns.scatterplot(data=df, x=\"log2fc.1vs2\", y=\"log10.ttest.pval.adj\", \n",
    "\t\t\t\t\t\thue=\"Enrichment\", palette=[\"#313695\",\"#969696\",\"#ae017e\"], \n",
    "\t\t\t\t\t\thue_order=[\"Enriched in divergent\", \"No enrichment\", \"Enriched in unidirectional\"],\n",
    "\t\t\t\t\t\talpha=0.8, s=30, ax=ax)\n",
    "\tg.spines[[\"right\", \"top\"]].set_visible(False)\n",
    "\tsns.move_legend(g, \"upper left\", bbox_to_anchor=(-0.02,1), fontsize=sfontsize, handletextpad=0.1, frameon=False, title=\"\")\n",
    "\tg.set_ylabel(r\"-log$_{10}$(q-value)\", fontsize=bfontsize, fontweight=\"bold\")\n",
    "\tg.set_xlabel(r\"log$_2$(Divergent/Unidirectional)\", fontsize=bfontsize, fontweight=\"bold\")\n",
    "\tg.set_xlim(xlims)\n",
    "\tg.tick_params(labelsize=sfontsize)"
   ]
  },
  {
   "cell_type": "code",
   "execution_count": 16,
   "id": "0a2e2c79-1c53-445d-b008-29b66bd41294",
   "metadata": {
    "execution": {
     "iopub.execute_input": "2024-11-27T15:23:25.105855Z",
     "iopub.status.busy": "2024-11-27T15:23:25.105625Z",
     "iopub.status.idle": "2024-11-27T15:23:26.291787Z",
     "shell.execute_reply": "2024-11-27T15:23:26.291304Z",
     "shell.execute_reply.started": "2024-11-27T15:23:25.105838Z"
    }
   },
   "outputs": [],
   "source": [
    "candidates = [\"POLR2A\", \"TAF1\", \"RAD21\", \"SMC3\", \"CTCF\"]\n",
    "ns = {}\n",
    "for c in candidates:\n",
    "\tif c == \"POLR2A\":\n",
    "\t\t# -log10qvalues values vary across experiments; just show the top 3 for better visualization\n",
    "\t\tns[c] = 3\n",
    "\telse:\n",
    "\t\tns[c] = len(df_enr[d][df_enr[d][\"feature\"]==c])"
   ]
  },
  {
   "cell_type": "code",
   "execution_count": 17,
   "id": "fc8f251d-0ba9-4ee8-96ad-95faaf7d4dcc",
   "metadata": {
    "execution": {
     "iopub.execute_input": "2024-11-27T15:23:26.292636Z",
     "iopub.status.busy": "2024-11-27T15:23:26.292366Z",
     "iopub.status.idle": "2024-11-27T15:23:29.283138Z",
     "shell.execute_reply": "2024-11-27T15:23:29.282652Z",
     "shell.execute_reply.started": "2024-11-27T15:23:26.292617Z"
    }
   },
   "outputs": [
    {
     "data": {
      "text/plain": [
       "(3.4706024842204166, -1.3666268371009416)"
      ]
     },
     "execution_count": 17,
     "metadata": {},
     "output_type": "execute_result"
    }
   ],
   "source": [
    "np.max(df_enr[d][\"log2fc.1vs2\"]), np.min(df_enr[d][\"log2fc.1vs2\"])"
   ]
  },
  {
   "cell_type": "code",
   "execution_count": 18,
   "id": "18dfa068-aa79-4453-93d1-fa3db7e958e1",
   "metadata": {
    "execution": {
     "iopub.execute_input": "2024-11-27T15:23:29.284012Z",
     "iopub.status.busy": "2024-11-27T15:23:29.283748Z",
     "iopub.status.idle": "2024-11-27T15:23:32.371839Z",
     "shell.execute_reply": "2024-11-27T15:23:32.371337Z",
     "shell.execute_reply.started": "2024-11-27T15:23:29.283993Z"
    }
   },
   "outputs": [
    {
     "data": {
      "image/png": "[encoded data removed]",
      "text/plain": [
       "<Figure size 420x350 with 1 Axes>"
      ]
     },
     "metadata": {},
     "output_type": "display_data"
    }
   ],
   "source": [
    "fig, ax = plt.subplots(figsize=(4.2,3.5))\n",
    "plot_enrichment(df_enr[d], ax, [-1.9, 3.8])\n",
    "\n",
    "# Add labels to highlight some proteins\n",
    "for k in ns:\n",
    "\tif k in [\"POLR2A\", \"TAF1\"]:\n",
    "\t\tdf_txt = df_enr[d][df_enr[d][\"feature\"]==k].sort_values(by=[\"log10.ttest.pval.adj\", \"log2fc.1vs2\"], ascending=False)\n",
    "\telse:\n",
    "\t\tdf_txt = df_enr[d][df_enr[d][\"feature\"]==k].sort_values(by=[\"log2fc.1vs2\"])\n",
    "\txs = df_txt[\"log2fc.1vs2\"].head(ns[k])\n",
    "\tys = df_txt[\"log10.ttest.pval.adj\"].head(ns[k])\n",
    "\t\n",
    "\tfor i, (x, y) in enumerate(zip(xs, ys)):\n",
    "\t\txytext = {\n",
    "\t\t\t\"POLR2A\": (2.5, 160),\n",
    "\t\t\t\"CTCF\": (-0.7, 26),\n",
    "\t\t\t\"RAD21\": (-1.5, 30),\n",
    "\t\t\t\"SMC3\": (x-0.9, y-10),\n",
    "\t\t}.get(k, (x-0.4, y-20))\n",
    "\t\tcolor = \"#FFFFFF\" if k in [\"POLR2A\", \"CTCF\", \"RAD21\"] and i != ns[k]-1 else \"#000000\"\n",
    "\t\tax.annotate(k, (x, y), xytext=xytext, arrowprops=dict(arrowstyle=\"-\"), c=color, size=sfontsize)\n",
    "\n",
    "plt.savefig(f\"{PROJECT_DIR_o}figures/Fig1e.pdf\", bbox_inches=\"tight\", dpi=300) "
   ]
  },
  {
   "cell_type": "markdown",
   "id": "88639369-a652-4768-9769-a53a40d35707",
   "metadata": {},
   "source": [
    "### Proximal"
   ]
  },
  {
   "cell_type": "code",
   "execution_count": 19,
   "id": "e2ae54b6-bafe-4e37-a82e-aca9dc125885",
   "metadata": {
    "execution": {
     "iopub.execute_input": "2024-11-27T15:25:51.505607Z",
     "iopub.status.busy": "2024-11-27T15:25:51.505042Z",
     "iopub.status.idle": "2024-11-27T15:25:51.510023Z",
     "shell.execute_reply": "2024-11-27T15:25:51.509566Z",
     "shell.execute_reply.started": "2024-11-27T15:25:51.505583Z"
    }
   },
   "outputs": [
    {
     "data": {
      "text/plain": [
       "(4.660847819956131, -1.7255140251353918)"
      ]
     },
     "execution_count": 19,
     "metadata": {},
     "output_type": "execute_result"
    }
   ],
   "source": [
    "d = \"proximal\"\n",
    "np.max(df_enr[d][\"log2fc.1vs2\"]), np.min(df_enr[d][\"log2fc.1vs2\"])"
   ]
  },
  {
   "cell_type": "code",
   "execution_count": 20,
   "id": "3142013c-35a5-4c73-89b2-e360dfb339e5",
   "metadata": {
    "execution": {
     "iopub.execute_input": "2024-11-27T15:25:51.933541Z",
     "iopub.status.busy": "2024-11-27T15:25:51.933270Z",
     "iopub.status.idle": "2024-11-27T15:25:52.798591Z",
     "shell.execute_reply": "2024-11-27T15:25:52.798121Z",
     "shell.execute_reply.started": "2024-11-27T15:25:51.933522Z"
    }
   },
   "outputs": [],
   "source": [
    "candidates = [\"POLR2A\", \"TAF1\", \"RAD21\", \"SMC3\", \"CTCF\", \"SMAD5\", \"PHF8\"]\n",
    "ns2 = {}\n",
    "for c in candidates:\n",
    "\tif c == \"POLR2A\":\n",
    "\t\tns2[c] = 3\n",
    "\telse:\n",
    "\t\tns2[c] = len(df_enr[d][df_enr[d][\"feature\"]==c])"
   ]
  },
  {
   "cell_type": "code",
   "execution_count": 21,
   "id": "94d63bb8-7ebd-40bf-a708-32568488360f",
   "metadata": {
    "execution": {
     "iopub.execute_input": "2024-11-27T15:25:52.987332Z",
     "iopub.status.busy": "2024-11-27T15:25:52.987036Z",
     "iopub.status.idle": "2024-11-27T15:25:54.549755Z",
     "shell.execute_reply": "2024-11-27T15:25:54.549307Z",
     "shell.execute_reply.started": "2024-11-27T15:25:52.987313Z"
    }
   },
   "outputs": [
    {
     "data": {
      "image/png": "[encoded data removed]",
      "text/plain": [
       "<Figure size 400x300 with 1 Axes>"
      ]
     },
     "metadata": {},
     "output_type": "display_data"
    }
   ],
   "source": [
    "fig, ax = plt.subplots(figsize=(4,3))\n",
    "plot_enrichment(df_enr[d], ax, [-2.2, 4.8])\n",
    "\n",
    "# Add labels to highlight some proteins\n",
    "for k in ns2:\n",
    "\tif k in [\"POLR2A\", \"TAF1\", \"SMAD5\", \"PHF8\"]:\n",
    "\t\tdf_txt = df_enr[d][df_enr[d][\"feature\"]==k].sort_values(by=[\"log10.ttest.pval.adj\", \"log2fc.1vs2\"], ascending=False)\n",
    "\telse:\n",
    "\t\tdf_txt = df_enr[d][df_enr[d][\"feature\"]==k].sort_values(by=[\"log2fc.1vs2\"])\n",
    "\txs = df_txt[\"log2fc.1vs2\"].head(ns2[k])\n",
    "\tys = df_txt[\"log10.ttest.pval.adj\"].head(ns2[k])\n",
    "\n",
    "\tfor i, (x, y) in enumerate(zip(xs, ys)):\n",
    "\t\txytext = {\n",
    "\t\t\t\"POLR2A\": (1.9, 185),\n",
    "\t\t\t\"TAF1\": (x+0.5, y),\n",
    "\t\t\t\"PHF8\": (x-0.8, y-15),\n",
    "\t\t\t\"CTCF\": (-0.5, 20),\n",
    "\t\t\t\"RAD21\": (-1.8, 30),\n",
    "\t\t\t\"SMC3\": (x-1.2, y-12),\n",
    "\t\t}.get(k, (x+0.2, y-15))\n",
    "\t\t\n",
    "\t\tif k in [\"POLR2A\", \"CTCF\", \"RAD21\"]:\n",
    "\t\t\tcolor = \"#000000\" if i == ns[k]-1 else \"#FFFFFF\"\n",
    "\t\telse:\n",
    "\t\t\tcolor = \"#e34a33\" if k in [\"SMAD5\", \"PHF8\"] else \"#000000\"\n",
    "\t\tax.annotate(k, (x, y), xytext=xytext, arrowprops=dict(arrowstyle=\"-\"), c=color, size=sfontsize)\n",
    "\n",
    "plt.savefig(f\"{PROJECT_DIR_o}supp_figures/SuppFig1d.pdf\", bbox_inches=\"tight\", dpi=300) "
   ]
  },
  {
   "cell_type": "code",
   "execution_count": null,
   "id": "4de3f81c-1631-45db-9db3-f981706de5f9",
   "metadata": {},
   "outputs": [],
   "source": []
  }
 ],
 "metadata": {
  "kernelspec": {
   "display_name": "Python 3 (ipykernel)",
   "language": "python",
   "name": "python3"
  },
  "language_info": {
   "codemirror_mode": {
    "name": "ipython",
    "version": 3
   },
   "file_extension": ".py",
   "mimetype": "text/x-python",
   "name": "python",
   "nbconvert_exporter": "python",
   "pygments_lexer": "ipython3",
   "version": "3.10.8"
  }
 },
 "nbformat": 4,
 "nbformat_minor": 5
}

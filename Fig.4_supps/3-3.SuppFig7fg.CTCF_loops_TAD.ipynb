{
 "cells": [
  {
   "cell_type": "code",
   "execution_count": 1,
   "id": "5a6f59dd-84f0-4a76-a239-da0c6f6f77cc",
   "metadata": {
    "execution": {
     "iopub.execute_input": "2024-12-01T22:01:04.903077Z",
     "iopub.status.busy": "2024-12-01T22:01:04.902878Z",
     "iopub.status.idle": "2024-12-01T22:01:18.759378Z",
     "shell.execute_reply": "2024-12-01T22:01:18.756634Z",
     "shell.execute_reply.started": "2024-12-01T22:01:04.903055Z"
    }
   },
   "outputs": [],
   "source": [
    "import pandas as pd\n",
    "import matplotlib.pyplot as plt\n",
    "from biodata.delimited import DelimitedReader, DelimitedWriter\n",
    "import numpy as np\n",
    "import seaborn as sns\n",
    "import pybedtools\n",
    "from statannotations.Annotator import Annotator\n",
    "from statsmodels.stats.proportion import proportions_ztest\n",
    "import hicstraw\n",
    "import os\n",
    "import itertools\n",
    "from scipy.stats import mannwhitneyu\n",
    "import json\n",
    "import cooler\n",
    "from cooltools import insulation\n",
    "from collections import defaultdict"
   ]
  },
  {
   "cell_type": "code",
   "execution_count": 2,
   "id": "9dfb410c-22a7-461d-bfdb-ff7649a0d490",
   "metadata": {
    "execution": {
     "iopub.execute_input": "2024-12-01T22:01:18.764235Z",
     "iopub.status.busy": "2024-12-01T22:01:18.763963Z",
     "iopub.status.idle": "2024-12-01T22:01:18.774629Z",
     "shell.execute_reply": "2024-12-01T22:01:18.774056Z",
     "shell.execute_reply.started": "2024-12-01T22:01:18.764213Z"
    }
   },
   "outputs": [],
   "source": [
    "import sys\n",
    "from pathlib import Path\n",
    "sys.path.append(str(Path.cwd().parent))\n",
    "import utils"
   ]
  },
  {
   "cell_type": "code",
   "execution_count": 3,
   "id": "146545c8-7965-49e2-8eae-7de4b02a6c4d",
   "metadata": {
    "execution": {
     "iopub.execute_input": "2024-12-01T22:01:18.777197Z",
     "iopub.status.busy": "2024-12-01T22:01:18.776943Z",
     "iopub.status.idle": "2024-12-01T22:01:20.437601Z",
     "shell.execute_reply": "2024-12-01T22:01:20.437020Z",
     "shell.execute_reply.started": "2024-12-01T22:01:18.777176Z"
    },
    "scrolled": true
   },
   "outputs": [],
   "source": [
    "import matplotlib\n",
    "font_dir = Path.cwd().parent / \"font\"\n",
    "for font in [\"Arial.ttf\", \"Arial_Bold.ttf\"]:\n",
    "    matplotlib.font_manager.fontManager.addfont(font_dir / font)\n",
    "matplotlib.rcParams[\"font.family\"] = \"Arial\"\n",
    "bfontsize = 12\n",
    "sfontsize = 9"
   ]
  },
  {
   "cell_type": "code",
   "execution_count": 4,
   "id": "09c2de02-30fa-473c-91a3-43eb04bbb0ed",
   "metadata": {
    "execution": {
     "iopub.execute_input": "2024-12-01T22:01:20.439966Z",
     "iopub.status.busy": "2024-12-01T22:01:20.439732Z",
     "iopub.status.idle": "2024-12-01T22:01:21.884555Z",
     "shell.execute_reply": "2024-12-01T22:01:21.883984Z",
     "shell.execute_reply.started": "2024-12-01T22:01:20.439946Z"
    },
    "tags": []
   },
   "outputs": [],
   "source": [
    "PROJECT_DIR_d = \"/fs/cbsuhy02/storage/yc2553/yc2553/projects/TRE_directionality/PROcap/\"\n",
    "PROJECT_DIR_r = \"/fs/cbsuhy02/storage/yc2553/yc2553/projects/TRE_directionality/resources/\"\n",
    "PROJECT_DIR_o = \"/fs/cbsuhy02/storage/yc2553/yc2553/projects/TRE_directionality/output/\""
   ]
  },
  {
   "cell_type": "markdown",
   "id": "43365d1b-219e-49e6-b582-e9bbb28586fa",
   "metadata": {},
   "source": [
    "# Loop frequency"
   ]
  },
  {
   "cell_type": "markdown",
   "id": "f4cacbaf-4d71-495c-b42d-32eee4955c60",
   "metadata": {},
   "source": [
    "## Get loop anchors"
   ]
  },
  {
   "cell_type": "code",
   "execution_count": 5,
   "id": "a49a82a3-3a87-4186-a95b-fea2788f4d36",
   "metadata": {
    "execution": {
     "iopub.execute_input": "2024-12-01T22:01:23.403541Z",
     "iopub.status.busy": "2024-12-01T22:01:23.403295Z",
     "iopub.status.idle": "2024-12-01T22:01:23.406570Z",
     "shell.execute_reply": "2024-12-01T22:01:23.406113Z",
     "shell.execute_reply.started": "2024-12-01T22:01:23.403521Z"
    }
   },
   "outputs": [],
   "source": [
    "s = \"HCT116\"\n",
    "ps = [\"divergent\", \"unidirectional\"]\n",
    "ds = [\"distal\", \"proximal\"]\n",
    "t = \"minTSS\"\n",
    "labels = [\"Up\", \"Unchanged\"]\n",
    "palette = [\"#fec44f\", \"#d9d9d9\"]"
   ]
  },
  {
   "cell_type": "code",
   "execution_count": 6,
   "id": "fb47b7da-c6f8-4192-81db-571b566b3d0f",
   "metadata": {
    "execution": {
     "iopub.execute_input": "2024-12-01T22:01:23.407335Z",
     "iopub.status.busy": "2024-12-01T22:01:23.407113Z",
     "iopub.status.idle": "2024-12-01T22:01:27.338994Z",
     "shell.execute_reply": "2024-12-01T22:01:27.338402Z",
     "shell.execute_reply.started": "2024-12-01T22:01:23.407317Z"
    }
   },
   "outputs": [
    {
     "data": {
      "text/html": [
       "<div>\n",
       "<style scoped>\n",
       "    .dataframe tbody tr th:only-of-type {\n",
       "        vertical-align: middle;\n",
       "    }\n",
       "\n",
       "    .dataframe tbody tr th {\n",
       "        vertical-align: top;\n",
       "    }\n",
       "\n",
       "    .dataframe thead th {\n",
       "        text-align: right;\n",
       "    }\n",
       "</style>\n",
       "<table border=\"1\" class=\"dataframe\">\n",
       "  <thead>\n",
       "    <tr style=\"text-align: right;\">\n",
       "      <th></th>\n",
       "      <th>0</th>\n",
       "      <th>1</th>\n",
       "      <th>2</th>\n",
       "      <th>3</th>\n",
       "      <th>4</th>\n",
       "      <th>5</th>\n",
       "      <th>6</th>\n",
       "    </tr>\n",
       "  </thead>\n",
       "  <tbody>\n",
       "    <tr>\n",
       "      <th>0</th>\n",
       "      <td>chr10</td>\n",
       "      <td>66135</td>\n",
       "      <td>66716</td>\n",
       "      <td>chr10</td>\n",
       "      <td>76204</td>\n",
       "      <td>77233</td>\n",
       "      <td>3</td>\n",
       "    </tr>\n",
       "    <tr>\n",
       "      <th>1</th>\n",
       "      <td>chr10</td>\n",
       "      <td>76316</td>\n",
       "      <td>77462</td>\n",
       "      <td>chr10</td>\n",
       "      <td>86211</td>\n",
       "      <td>87169</td>\n",
       "      <td>4</td>\n",
       "    </tr>\n",
       "  </tbody>\n",
       "</table>\n",
       "</div>"
      ],
      "text/plain": [
       "       0      1      2      3      4      5  6\n",
       "0  chr10  66135  66716  chr10  76204  77233  3\n",
       "1  chr10  76316  77462  chr10  86211  87169  4"
      ]
     },
     "execution_count": 6,
     "metadata": {},
     "output_type": "execute_result"
    }
   ],
   "source": [
    "# chrom1, start, end, chrom2, start2, end2, PET count\n",
    "\n",
    "inputfile = f\"{PROJECT_DIR_r}ENCODE/ENCFF431BUN.bedpe.gz\"\n",
    "df_loop = pd.read_table(inputfile, header=None)\n",
    "df_loop.head(2)"
   ]
  },
  {
   "cell_type": "code",
   "execution_count": 7,
   "id": "e6a20b36-536d-4adc-9a4a-963644058a65",
   "metadata": {
    "execution": {
     "iopub.execute_input": "2024-12-01T22:01:27.339895Z",
     "iopub.status.busy": "2024-12-01T22:01:27.339661Z",
     "iopub.status.idle": "2024-12-01T22:01:27.345537Z",
     "shell.execute_reply": "2024-12-01T22:01:27.345005Z",
     "shell.execute_reply.started": "2024-12-01T22:01:27.339878Z"
    }
   },
   "outputs": [
    {
     "data": {
      "text/plain": [
       "3"
      ]
     },
     "execution_count": 7,
     "metadata": {},
     "output_type": "execute_result"
    }
   ],
   "source": [
    "# They submitted ChIA-PET loop file with PET count ≥ 3 to ENCODE\n",
    "\n",
    "np.min(df_loop[6])"
   ]
  },
  {
   "cell_type": "code",
   "execution_count": 8,
   "id": "b1a22176-c44c-407c-8a1f-51e904246d71",
   "metadata": {
    "execution": {
     "iopub.execute_input": "2024-12-01T22:01:27.346370Z",
     "iopub.status.busy": "2024-12-01T22:01:27.346125Z",
     "iopub.status.idle": "2024-12-01T22:01:46.740646Z",
     "shell.execute_reply": "2024-12-01T22:01:46.739754Z",
     "shell.execute_reply.started": "2024-12-01T22:01:27.346349Z"
    }
   },
   "outputs": [],
   "source": [
    "# It's okay to overlap with either anchor\n",
    "\n",
    "outputfile = f\"{PROJECT_DIR_o}temp/CTCF_loops.bed\"\n",
    "with DelimitedWriter(outputfile) as dw:\n",
    "\tfor index, row in df_loop.iterrows():\n",
    "\t\tchrom, start, end, chrom2, start2, end2 = row[:-1]\n",
    "\t\tdw.write([chrom, start, end])\n",
    "\t\tdw.write([chrom2, start2, end2])"
   ]
  },
  {
   "cell_type": "code",
   "execution_count": 9,
   "id": "bc24595b-9f95-4fbe-8327-442267d65d5e",
   "metadata": {
    "execution": {
     "iopub.execute_input": "2024-12-01T22:01:46.741827Z",
     "iopub.status.busy": "2024-12-01T22:01:46.741541Z",
     "iopub.status.idle": "2024-12-01T22:01:47.141983Z",
     "shell.execute_reply": "2024-12-01T22:01:47.141453Z",
     "shell.execute_reply.started": "2024-12-01T22:01:46.741808Z"
    }
   },
   "outputs": [],
   "source": [
    "b1 = pybedtools.BedTool(f\"{PROJECT_DIR_o}FIMO/{s}_CTCF_pos.bed\")\n",
    "b2 = pybedtools.BedTool(f\"{PROJECT_DIR_o}temp/CTCF_loops.bed\")\n",
    "overlaps = b1.intersect(b2, u=True, f=1)\n",
    "anchors = [\"_\".join(i.fields[:3]) for i in overlaps]"
   ]
  },
  {
   "cell_type": "code",
   "execution_count": 10,
   "id": "2449accd-4935-4d44-bb46-a829994eac46",
   "metadata": {
    "execution": {
     "iopub.execute_input": "2024-12-01T22:01:47.142828Z",
     "iopub.status.busy": "2024-12-01T22:01:47.142582Z",
     "iopub.status.idle": "2024-12-01T22:01:47.930913Z",
     "shell.execute_reply": "2024-12-01T22:01:47.930328Z",
     "shell.execute_reply.started": "2024-12-01T22:01:47.142811Z"
    }
   },
   "outputs": [
    {
     "data": {
      "text/plain": [
       "(3518, 2913)"
      ]
     },
     "execution_count": 10,
     "metadata": {},
     "output_type": "execute_result"
    }
   ],
   "source": [
    "len(b1), len(anchors)"
   ]
  },
  {
   "cell_type": "markdown",
   "id": "3b73e790-10d4-43be-869f-58b0262bf6b5",
   "metadata": {},
   "source": [
    "## Get proportions"
   ]
  },
  {
   "cell_type": "code",
   "execution_count": 11,
   "id": "72c5fb67-dfe6-45dd-b93d-c24e7f4ea46a",
   "metadata": {
    "execution": {
     "iopub.execute_input": "2024-12-01T22:01:47.933350Z",
     "iopub.status.busy": "2024-12-01T22:01:47.933157Z",
     "iopub.status.idle": "2024-12-01T22:01:49.181113Z",
     "shell.execute_reply": "2024-12-01T22:01:49.180561Z",
     "shell.execute_reply.started": "2024-12-01T22:01:47.933333Z"
    }
   },
   "outputs": [],
   "source": [
    "inputfile = f\"{PROJECT_DIR_o}FIMO/{s}_CTCF_pos.json\"\n",
    "with open(inputfile, \"r\") as f:\n",
    "\tmotifs = json.load(f)"
   ]
  },
  {
   "cell_type": "code",
   "execution_count": 12,
   "id": "3b7aaec5-fd82-424d-bf17-dafda9704e2b",
   "metadata": {
    "execution": {
     "iopub.execute_input": "2024-12-01T22:01:49.181931Z",
     "iopub.status.busy": "2024-12-01T22:01:49.181683Z",
     "iopub.status.idle": "2024-12-01T22:01:50.947699Z",
     "shell.execute_reply": "2024-12-01T22:01:50.947164Z",
     "shell.execute_reply.started": "2024-12-01T22:01:49.181912Z"
    }
   },
   "outputs": [],
   "source": [
    "inputfile = f\"{PROJECT_DIR_o}labels/{s}_CTCF_DE.json\"\n",
    "with open(inputfile, \"r\") as f:\n",
    "\tDE_labels = json.load(f)"
   ]
  },
  {
   "cell_type": "code",
   "execution_count": 13,
   "id": "3c459d64-7448-4322-abd2-136f53be5880",
   "metadata": {
    "execution": {
     "iopub.execute_input": "2024-12-01T22:01:50.948567Z",
     "iopub.status.busy": "2024-12-01T22:01:50.948307Z",
     "iopub.status.idle": "2024-12-01T22:01:52.306052Z",
     "shell.execute_reply": "2024-12-01T22:01:52.305444Z",
     "shell.execute_reply.started": "2024-12-01T22:01:50.948548Z"
    }
   },
   "outputs": [
    {
     "data": {
      "text/html": [
       "<div>\n",
       "<style scoped>\n",
       "    .dataframe tbody tr th:only-of-type {\n",
       "        vertical-align: middle;\n",
       "    }\n",
       "\n",
       "    .dataframe tbody tr th {\n",
       "        vertical-align: top;\n",
       "    }\n",
       "\n",
       "    .dataframe thead th {\n",
       "        text-align: right;\n",
       "    }\n",
       "</style>\n",
       "<table border=\"1\" class=\"dataframe\">\n",
       "  <thead>\n",
       "    <tr style=\"text-align: right;\">\n",
       "      <th></th>\n",
       "      <th>Group</th>\n",
       "      <th>Anchor</th>\n",
       "      <th>Label</th>\n",
       "    </tr>\n",
       "  </thead>\n",
       "  <tbody>\n",
       "    <tr>\n",
       "      <th>0</th>\n",
       "      <td>distal</td>\n",
       "      <td>True</td>\n",
       "      <td>Unchanged</td>\n",
       "    </tr>\n",
       "    <tr>\n",
       "      <th>1</th>\n",
       "      <td>distal</td>\n",
       "      <td>True</td>\n",
       "      <td>Unchanged</td>\n",
       "    </tr>\n",
       "  </tbody>\n",
       "</table>\n",
       "</div>"
      ],
      "text/plain": [
       "    Group  Anchor      Label\n",
       "0  distal    True  Unchanged\n",
       "1  distal    True  Unchanged"
      ]
     },
     "execution_count": 13,
     "metadata": {},
     "output_type": "execute_result"
    }
   ],
   "source": [
    "results = []\n",
    "es = defaultdict(list)\n",
    "for p, d in itertools.product(ps, ds):\n",
    "\tinputfile = f\"{PROJECT_DIR_d}bed_plot/{s}_{p}_{d}.bed\"\n",
    "\twith DelimitedReader(inputfile) as dr:\n",
    "\t\tfor cols in dr:\n",
    "\t\t\te = \"_\".join(cols[:3])\n",
    "\t\t\tif e in motifs and e in DE_labels[t]:\n",
    "\t\t\t\tes[d].append(e)\n",
    "\t\t\t\te2 = f\"{cols[0]}_{motifs[e][1]}_{motifs[e][2]}\"\n",
    "\t\t\t\tif e2 in anchors:\n",
    "\t\t\t\t\tanchor = True\n",
    "\t\t\t\telse:\n",
    "\t\t\t\t\tanchor = False\n",
    "\t\t\t\tresults.append([d, anchor, DE_labels[t][e]])\n",
    "df_anchors = pd.DataFrame(results, columns=[\"Group\", \"Anchor\", \"Label\"])\n",
    "df_anchors.head(2)"
   ]
  },
  {
   "cell_type": "code",
   "execution_count": 14,
   "id": "037cb118-0656-4f19-9e2e-19a443c56161",
   "metadata": {
    "execution": {
     "iopub.execute_input": "2024-12-01T22:01:52.306979Z",
     "iopub.status.busy": "2024-12-01T22:01:52.306710Z",
     "iopub.status.idle": "2024-12-01T22:01:53.520050Z",
     "shell.execute_reply": "2024-12-01T22:01:53.519453Z",
     "shell.execute_reply.started": "2024-12-01T22:01:52.306959Z"
    }
   },
   "outputs": [
    {
     "data": {
      "text/html": [
       "<div>\n",
       "<style scoped>\n",
       "    .dataframe tbody tr th:only-of-type {\n",
       "        vertical-align: middle;\n",
       "    }\n",
       "\n",
       "    .dataframe tbody tr th {\n",
       "        vertical-align: top;\n",
       "    }\n",
       "\n",
       "    .dataframe thead th {\n",
       "        text-align: right;\n",
       "    }\n",
       "</style>\n",
       "<table border=\"1\" class=\"dataframe\">\n",
       "  <thead>\n",
       "    <tr style=\"text-align: right;\">\n",
       "      <th></th>\n",
       "      <th>Group</th>\n",
       "      <th>Label</th>\n",
       "      <th>No. anchors</th>\n",
       "      <th>Total</th>\n",
       "      <th>Proportion</th>\n",
       "    </tr>\n",
       "  </thead>\n",
       "  <tbody>\n",
       "    <tr>\n",
       "      <th>0</th>\n",
       "      <td>distal</td>\n",
       "      <td>Up</td>\n",
       "      <td>197</td>\n",
       "      <td>208</td>\n",
       "      <td>94.711538</td>\n",
       "    </tr>\n",
       "    <tr>\n",
       "      <th>1</th>\n",
       "      <td>distal</td>\n",
       "      <td>Unchanged</td>\n",
       "      <td>993</td>\n",
       "      <td>1171</td>\n",
       "      <td>84.799317</td>\n",
       "    </tr>\n",
       "  </tbody>\n",
       "</table>\n",
       "</div>"
      ],
      "text/plain": [
       "    Group      Label  No. anchors  Total  Proportion\n",
       "0  distal         Up          197    208   94.711538\n",
       "1  distal  Unchanged          993   1171   84.799317"
      ]
     },
     "execution_count": 14,
     "metadata": {},
     "output_type": "execute_result"
    }
   ],
   "source": [
    "# Proportion of elements with CTCF located at the loop with PET count ≥ 3\n",
    "\n",
    "results = []\n",
    "for d, label in itertools.product(ds, labels):\n",
    "\tdf = df_anchors[(df_anchors[\"Group\"]==d) & (df_anchors[\"Label\"]==label)]\n",
    "\tresults.append([d, label, len(df[df[\"Anchor\"]==True]), len(df), len(df[df[\"Anchor\"]==True])/len(df)*100])\n",
    "df_prop = pd.DataFrame(results, columns=[\"Group\", \"Label\", \"No. anchors\", \"Total\", \"Proportion\"])\n",
    "df_prop.head(2)"
   ]
  },
  {
   "cell_type": "code",
   "execution_count": 15,
   "id": "9d142b05-980f-473a-88ca-c7aad3db8eba",
   "metadata": {
    "execution": {
     "iopub.execute_input": "2024-12-01T22:01:53.521005Z",
     "iopub.status.busy": "2024-12-01T22:01:53.520725Z",
     "iopub.status.idle": "2024-12-01T22:01:55.331526Z",
     "shell.execute_reply": "2024-12-01T22:01:55.330955Z",
     "shell.execute_reply.started": "2024-12-01T22:01:53.520983Z"
    }
   },
   "outputs": [],
   "source": [
    "def plot_props(df, outputfile):\n",
    "\tfig, ax = plt.subplots(figsize=(1.8,2.2))\n",
    "\thue_plot_params = {\n",
    "\t\t\t\t\t\t\"data\": df,\n",
    "\t\t\t\t\t\t\"x\": \"Label\",\n",
    "\t\t\t\t\t\t\"y\": \"Proportion\",\n",
    "\t\t\t\t\t\t\"palette\": palette,\n",
    "\t\t\t\t\t\t\"hue\": \"Label\",\n",
    "\t\t\t\t\t\t\"legend\": False,\n",
    "\t\t\t\t\t\t\"alpha\": 0.8\n",
    "\t\t\t\t\t\t}\n",
    "\tg = sns.barplot(ax=ax, **hue_plot_params)\n",
    "\tg.spines[[\"right\", \"top\"]].set_visible(False)\n",
    "\t\n",
    "\ttexts = []\n",
    "\tfor label in labels:\n",
    "\t\tfor index, row in df[df[\"Label\"]==label].iterrows():\n",
    "\t\t\ttexts.append(f\"{row['No. anchors']}/{row['Total']}\")\n",
    "\tfor bar, text in zip(g.patches, texts):\n",
    "\t\tg.text(bar.get_x(), bar.get_height()+1, text, color=\"#000000\", fontsize=sfontsize) \n",
    "\n",
    "\tg.set_ylim([70,102])\n",
    "\tg.set_yticks([70,80,90,100])\n",
    "\tg.set_ylabel(\"TREs at loop anchors (%)\", fontsize=bfontsize, fontweight=\"bold\")\n",
    "\tg.tick_params(axis=\"y\", labelsize=sfontsize)\n",
    "\n",
    "\tg.set_xlabel(\"\")\n",
    "\tg.tick_params(axis=\"x\", labelsize=bfontsize)\n",
    "\tfor label in g.get_xticklabels():\n",
    "\t    label.set_fontweight('bold')\n",
    "\t\n",
    "\tpvalues = []\n",
    "\tsuccesses = list(df[\"No. anchors\"])\n",
    "\tnobs = list(df[\"Total\"])\n",
    "\tx1, x2 = [0,1]\n",
    "\tpvalues.append(proportions_ztest([successes[x1], successes[x2]], [nobs[x1], nobs[x2]])[1])\n",
    "\tannotator = Annotator(g, [labels], **hue_plot_params)\n",
    "\tannotator.configure(text_format=\"star\", verbose=False, text_offset=1, loc=\"outside\", fontsize=sfontsize)\n",
    "\tannotator.set_pvalues(pvalues).annotate()\n",
    "\n",
    "\tplt.savefig(outputfile, bbox_inches=\"tight\", dpi=300)"
   ]
  },
  {
   "cell_type": "code",
   "execution_count": 16,
   "id": "1565e628-213c-4648-adcf-9c928da6a8b1",
   "metadata": {
    "execution": {
     "iopub.execute_input": "2024-12-01T22:01:55.332451Z",
     "iopub.status.busy": "2024-12-01T22:01:55.332165Z",
     "iopub.status.idle": "2024-12-01T22:01:57.720645Z",
     "shell.execute_reply": "2024-12-01T22:01:57.719997Z",
     "shell.execute_reply.started": "2024-12-01T22:01:55.332429Z"
    },
    "scrolled": true
   },
   "outputs": [
    {
     "data": {
      "image/png": "[encoded data removed]",
      "text/plain": [
       "<Figure size 180x220 with 1 Axes>"
      ]
     },
     "metadata": {},
     "output_type": "display_data"
    },
    {
     "data": {
      "image/png": "[encoded data removed]",
      "text/plain": [
       "<Figure size 180x220 with 1 Axes>"
      ]
     },
     "metadata": {},
     "output_type": "display_data"
    }
   ],
   "source": [
    "for d in ds:\n",
    "\tfolder = \"supp_figures/\" if d == \"distal\" else \"other_figures/\"\n",
    "\toutputfile = f\"{PROJECT_DIR_o}{folder}SuppFig7f.pdf\"\n",
    "\tplot_props(df_prop[df_prop[\"Group\"]==d], outputfile)"
   ]
  },
  {
   "cell_type": "markdown",
   "id": "c87c2c1a-bbbc-43c9-a3d2-34830c7a9c85",
   "metadata": {},
   "source": [
    "# Insulation score"
   ]
  },
  {
   "cell_type": "markdown",
   "id": "a827aeab-b8d8-420b-aa78-5789d643e760",
   "metadata": {},
   "source": [
    "## Convert .hic to .cool"
   ]
  },
  {
   "cell_type": "code",
   "execution_count": 17,
   "id": "5590d184-bed9-473a-bb80-59e9257dd150",
   "metadata": {
    "execution": {
     "iopub.execute_input": "2024-12-01T22:01:57.721814Z",
     "iopub.status.busy": "2024-12-01T22:01:57.721340Z",
     "iopub.status.idle": "2024-12-01T22:01:58.538695Z",
     "shell.execute_reply": "2024-12-01T22:01:58.538148Z",
     "shell.execute_reply.started": "2024-12-01T22:01:57.721789Z"
    }
   },
   "outputs": [],
   "source": [
    "# https://github.com/deeptools/HiCExplorer/issues/821\n",
    "# https://github.com/open2c/cooler-binder/blob/master/cooler_cli.ipynb\n",
    "\n",
    "def hic2cool(hic_file, cool_file, data_type, normalization, resolution):\n",
    "\thic = hicstraw.HiCFile(hic_file)\n",
    "\tchrom_sizes = pd.Series({chrom.name: chrom.length for chrom in hic.getChromosomes() if chrom.name != \"All\"})\n",
    "\t\n",
    "\twith open(hic.getGenomeID() + '.size', 'w') as fsize:\n",
    "\t    for chrom in hic.getChromosomes():\n",
    "\t        if chrom.name != \"All\":\n",
    "\t            fsize.write(f\"{chrom.name}\\t{chrom.length}\\n\")\n",
    "\n",
    "\twith open(cool_file.replace('.cool', \".txt\"), 'w') as fo:\n",
    "\t    for i in range(len(chrom_sizes)):\n",
    "\t        for j in range(i, len(chrom_sizes)):\n",
    "\t            chrom1 = chrom_sizes.index[i]\n",
    "\t            chrom2 = chrom_sizes.index[j]\n",
    "\t\t\t\t# Fetch a list of all the raw contacts on between chrom1 and chrom2 at XXX resolution\n",
    "\t            result = hicstraw.straw(data_type, normalization, hic_file, chrom1, chrom2, 'BP', resolution)\n",
    "\t            for k in range(len(result)):\n",
    "\t                start1 = result[k].binX\n",
    "\t                start2 = result[k].binY\n",
    "\t                value = result[k].counts\n",
    "\t                fo.write(f\"{chrom1}\\t{start1}\\t{start1}\\t{chrom2}\\t{start2}\\t{start2}\\t{value}\\n\")\n",
    "\t\n",
    "\t# Create a cooler from a pre-binned matrix.\n",
    "\tos.system(f\"cooler load -f bg2 {hic.getGenomeID()}.size:{resolution} {cool_file.replace('.cool', '.txt')} {cool_file}\")\n",
    "\t# Matrix balancing \n",
    "\tos.system(f\"cooler balance -p 10 {cool_file}\")"
   ]
  },
  {
   "cell_type": "code",
   "execution_count": 18,
   "id": "e94a7bde-7f9d-4033-a0d6-d0105140f308",
   "metadata": {
    "execution": {
     "iopub.execute_input": "2024-12-01T22:01:58.539576Z",
     "iopub.status.busy": "2024-12-01T22:01:58.539311Z",
     "iopub.status.idle": "2024-12-01T22:01:59.994121Z",
     "shell.execute_reply": "2024-12-01T22:01:59.993562Z",
     "shell.execute_reply.started": "2024-12-01T22:01:58.539556Z"
    }
   },
   "outputs": [],
   "source": [
    "hic_file = f\"{PROJECT_DIR_r}ENCODE/ENCFF573OPJ.hic\"\n",
    "cool_file = f\"{PROJECT_DIR_r}ENCODE/ENCFF573OPJ.cool\"\n",
    "data_type = \"observed\"\n",
    "normalization = \"NONE\"\n",
    "resolution = 10000"
   ]
  },
  {
   "cell_type": "code",
   "execution_count": null,
   "id": "692a77f0-2701-4a6a-8bc5-3c0e73e4f5ad",
   "metadata": {
    "execution": {
     "iopub.execute_input": "2024-10-30T20:52:45.103193Z",
     "iopub.status.busy": "2024-10-30T20:52:45.098772Z"
    },
    "scrolled": true
   },
   "outputs": [
    {
     "name": "stderr",
     "output_type": "stream",
     "text": [
      "INFO:cooler.cli.load:fields: {'chrom1': 0, 'start1': 1, 'end1': 2, 'chrom2': 3, 'start2': 4, 'end2': 5, 'count': 6}\n",
      "INFO:cooler.cli.load:dtypes: {'chrom1': <class 'str'>, 'start1': <class 'int'>, 'end1': <class 'int'>, 'chrom2': <class 'str'>, 'start2': <class 'int'>, 'end2': <class 'int'>, 'count': <class 'numpy.int32'>}\n",
      "INFO:cooler.cli.load:symmetric-upper: True\n",
      "INFO:cooler.create:Writing chunk 0: /fs/cbsuhy02/storage/yc2553/yc2553/projects/TRE_directionality/resources/ENCODE/tmp4vj7x_47.multi.cool::0\n",
      "INFO:cooler.create:Creating cooler at \"/fs/cbsuhy02/storage/yc2553/yc2553/projects/TRE_directionality/resources/ENCODE/tmp4vj7x_47.multi.cool::/0\"\n",
      "INFO:cooler.create:Writing chroms\n",
      "INFO:cooler.create:Writing bins\n",
      "INFO:cooler.create:Writing pixels\n",
      "INFO:cooler.create:Writing indexes\n",
      "INFO:cooler.create:Writing info\n",
      "INFO:cooler.create:Writing chunk 1: /fs/cbsuhy02/storage/yc2553/yc2553/projects/TRE_directionality/resources/ENCODE/tmp4vj7x_47.multi.cool::1\n",
      "INFO:cooler.create:Creating cooler at \"/fs/cbsuhy02/storage/yc2553/yc2553/projects/TRE_directionality/resources/ENCODE/tmp4vj7x_47.multi.cool::/1\"\n",
      "INFO:cooler.create:Writing chroms\n",
      "INFO:cooler.create:Writing bins\n",
      "INFO:cooler.create:Writing pixels\n"
     ]
    }
   ],
   "source": [
    "# This takes quite long time to run...\n",
    "\n",
    "hic2cool(hic_file, cool_file, data_type, normalization, resolution)"
   ]
  },
  {
   "cell_type": "code",
   "execution_count": 20,
   "id": "3b807deb-8a18-47e2-b114-6d1a2382ce2b",
   "metadata": {
    "execution": {
     "iopub.execute_input": "2024-12-01T22:05:08.726996Z",
     "iopub.status.busy": "2024-12-01T22:05:08.725898Z",
     "iopub.status.idle": "2024-12-01T22:05:31.337623Z",
     "shell.execute_reply": "2024-12-01T22:05:31.336325Z",
     "shell.execute_reply.started": "2024-12-01T22:05:08.726966Z"
    }
   },
   "outputs": [
    {
     "name": "stdout",
     "output_type": "stream",
     "text": [
      "bin1_id\tbin2_id\tcount\tbalanced\n",
      "87\t87\t587\t0.481977\n",
      "87\t88\t264\t0.161714\n"
     ]
    }
   ],
   "source": [
    "# Check the output\n",
    "\n",
    "! cooler dump --header --balanced $PROJECT_DIR_r/ENCODE/ENCFF573OPJ.cool | awk 'NR==1 || $4 != \"\"' | head -n 3"
   ]
  },
  {
   "cell_type": "markdown",
   "id": "c885d0dc-144c-4314-baa9-f6616d8f4f49",
   "metadata": {},
   "source": [
    "## Get insulation scores"
   ]
  },
  {
   "cell_type": "code",
   "execution_count": 21,
   "id": "13629492-0cae-4ff7-a25c-e3f7b09c29d9",
   "metadata": {
    "execution": {
     "iopub.execute_input": "2024-12-01T22:05:31.340346Z",
     "iopub.status.busy": "2024-12-01T22:05:31.339595Z",
     "iopub.status.idle": "2024-12-01T22:26:30.520866Z",
     "shell.execute_reply": "2024-12-01T22:26:30.514929Z",
     "shell.execute_reply.started": "2024-12-01T22:05:31.340311Z"
    },
    "scrolled": true
   },
   "outputs": [
    {
     "name": "stderr",
     "output_type": "stream",
     "text": [
      "INFO:root:fallback to serial implementation.\n",
      "INFO:root:Processing region chr1\n",
      "INFO:root:Processing region chr2\n",
      "INFO:root:Processing region chr3\n",
      "INFO:root:Processing region chr4\n",
      "INFO:root:Processing region chr5\n",
      "INFO:root:Processing region chr6\n",
      "INFO:root:Processing region chr7\n",
      "INFO:root:Processing region chr8\n",
      "INFO:root:Processing region chr9\n",
      "INFO:root:Processing region chr10\n",
      "INFO:root:Processing region chr11\n",
      "INFO:root:Processing region chr12\n",
      "INFO:root:Processing region chr13\n",
      "INFO:root:Processing region chr14\n",
      "INFO:root:Processing region chr15\n",
      "INFO:root:Processing region chr16\n",
      "INFO:root:Processing region chr17\n",
      "INFO:root:Processing region chr18\n",
      "INFO:root:Processing region chr19\n",
      "INFO:root:Processing region chr20\n",
      "INFO:root:Processing region chr21\n",
      "INFO:root:Processing region chr22\n",
      "INFO:root:Processing region chrX\n",
      "INFO:root:Processing region chrY\n",
      "INFO:root:Processing region chrM\n"
     ]
    }
   ],
   "source": [
    "# https://journals.plos.org/ploscompbiol/article?id=10.1371/journal.pcbi.1012067\n",
    "# https://cooltools.readthedocs.io/en/latest/notebooks/insulation_and_boundaries.html\n",
    "\n",
    "clr = cooler.Cooler(f\"{PROJECT_DIR_r}ENCODE/ENCFF573OPJ.cool\")\n",
    "windows = [3*resolution]\n",
    "df_ins = insulation(clr, windows, verbose=True)\n",
    "outputfile = f\"{PROJECT_DIR_o}temp/ENCFF573OPJ.insulation_score.txt\"\n",
    "df_ins.to_csv(outputfile, sep=\"\\t\", index=False)"
   ]
  },
  {
   "cell_type": "code",
   "execution_count": 31,
   "id": "58e6ec49-049a-4996-8851-b43092ea6255",
   "metadata": {
    "execution": {
     "iopub.execute_input": "2024-12-01T22:27:35.532279Z",
     "iopub.status.busy": "2024-12-01T22:27:35.531208Z",
     "iopub.status.idle": "2024-12-01T22:27:35.637069Z",
     "shell.execute_reply": "2024-12-01T22:27:35.636564Z",
     "shell.execute_reply.started": "2024-12-01T22:27:35.532251Z"
    }
   },
   "outputs": [
    {
     "data": {
      "text/html": [
       "<div>\n",
       "<style scoped>\n",
       "    .dataframe tbody tr th:only-of-type {\n",
       "        vertical-align: middle;\n",
       "    }\n",
       "\n",
       "    .dataframe tbody tr th {\n",
       "        vertical-align: top;\n",
       "    }\n",
       "\n",
       "    .dataframe thead th {\n",
       "        text-align: right;\n",
       "    }\n",
       "</style>\n",
       "<table border=\"1\" class=\"dataframe\">\n",
       "  <thead>\n",
       "    <tr style=\"text-align: right;\">\n",
       "      <th></th>\n",
       "      <th>chrom</th>\n",
       "      <th>start</th>\n",
       "      <th>end</th>\n",
       "      <th>region</th>\n",
       "      <th>is_bad_bin</th>\n",
       "      <th>log2_insulation_score_30000</th>\n",
       "      <th>n_valid_pixels_30000</th>\n",
       "      <th>boundary_strength_30000</th>\n",
       "      <th>is_boundary_30000</th>\n",
       "    </tr>\n",
       "  </thead>\n",
       "  <tbody>\n",
       "    <tr>\n",
       "      <th>0</th>\n",
       "      <td>chr1</td>\n",
       "      <td>0</td>\n",
       "      <td>10000</td>\n",
       "      <td>chr1</td>\n",
       "      <td>True</td>\n",
       "      <td>NaN</td>\n",
       "      <td>0.0</td>\n",
       "      <td>NaN</td>\n",
       "      <td>False</td>\n",
       "    </tr>\n",
       "    <tr>\n",
       "      <th>1</th>\n",
       "      <td>chr1</td>\n",
       "      <td>10000</td>\n",
       "      <td>20000</td>\n",
       "      <td>chr1</td>\n",
       "      <td>True</td>\n",
       "      <td>NaN</td>\n",
       "      <td>0.0</td>\n",
       "      <td>NaN</td>\n",
       "      <td>False</td>\n",
       "    </tr>\n",
       "  </tbody>\n",
       "</table>\n",
       "</div>"
      ],
      "text/plain": [
       "  chrom  start    end region  is_bad_bin  log2_insulation_score_30000  \\\n",
       "0  chr1      0  10000   chr1        True                          NaN   \n",
       "1  chr1  10000  20000   chr1        True                          NaN   \n",
       "\n",
       "   n_valid_pixels_30000  boundary_strength_30000  is_boundary_30000  \n",
       "0                   0.0                      NaN              False  \n",
       "1                   0.0                      NaN              False  "
      ]
     },
     "execution_count": 31,
     "metadata": {},
     "output_type": "execute_result"
    }
   ],
   "source": [
    "df_ins.head(2)"
   ]
  },
  {
   "cell_type": "code",
   "execution_count": 32,
   "id": "fcb9394a-18c2-4ea0-93ec-0ac2f5d0b94a",
   "metadata": {
    "execution": {
     "iopub.execute_input": "2024-12-01T22:28:26.031480Z",
     "iopub.status.busy": "2024-12-01T22:28:26.031114Z",
     "iopub.status.idle": "2024-12-01T22:28:30.892023Z",
     "shell.execute_reply": "2024-12-01T22:28:30.891114Z",
     "shell.execute_reply.started": "2024-12-01T22:28:26.031458Z"
    },
    "scrolled": true
   },
   "outputs": [],
   "source": [
    "# Anchor on the bin containing a given CTCF motif; 10 bins on both sides for plotting\n",
    "\n",
    "n_bins = 20\n",
    "df_features = {}\n",
    "for d in ds:\n",
    "\tresults = []\n",
    "\tindex = []\n",
    "\tfor e in es[d]:\n",
    "\t\tchrom = e.split(\"_\")[0]\n",
    "\t\tmut_start = motifs[e][1]\n",
    "\t\tind = mut_start//resolution\n",
    "\t\tdf = df_ins[df_ins[\"chrom\"]==chrom].reset_index(drop=True)\n",
    "\t\tif not np.isnan(df.loc[ind][f\"log2_insulation_score_{windows[0]}\"]) and not df.loc[ind][\"is_bad_bin\"]:\n",
    "\t\t\tvalues = df.loc[ind-n_bins//2:ind+n_bins//2+1, f\"log2_insulation_score_{windows[0]}\"].tolist()\n",
    "\t\t\tindex.append(e)\n",
    "\t\t\tresults.append(values)\n",
    "\tdf_features[d] = pd.DataFrame(results, index=index)"
   ]
  },
  {
   "cell_type": "code",
   "execution_count": 33,
   "id": "2e5bc5e8-7538-490d-a49d-e1078b6ed685",
   "metadata": {
    "execution": {
     "iopub.execute_input": "2024-12-01T22:28:30.893553Z",
     "iopub.status.busy": "2024-12-01T22:28:30.893245Z",
     "iopub.status.idle": "2024-12-01T22:28:30.897737Z",
     "shell.execute_reply": "2024-12-01T22:28:30.897249Z",
     "shell.execute_reply.started": "2024-12-01T22:28:30.893530Z"
    }
   },
   "outputs": [
    {
     "name": "stdout",
     "output_type": "stream",
     "text": [
      "distal 1394 1384\n",
      "proximal 1421 1403\n"
     ]
    }
   ],
   "source": [
    "for d in ds:\n",
    "\tprint(d, len(es[d]), len(df_features[d]))"
   ]
  },
  {
   "cell_type": "code",
   "execution_count": 34,
   "id": "5b53d1a9-7050-4aeb-b2cd-42dca8849bc4",
   "metadata": {
    "execution": {
     "iopub.execute_input": "2024-12-01T22:28:30.898546Z",
     "iopub.status.busy": "2024-12-01T22:28:30.898292Z",
     "iopub.status.idle": "2024-12-01T22:28:30.943752Z",
     "shell.execute_reply": "2024-12-01T22:28:30.943219Z",
     "shell.execute_reply.started": "2024-12-01T22:28:30.898527Z"
    }
   },
   "outputs": [],
   "source": [
    "df_reformat = {}\n",
    "for d in df_features:\n",
    "\tdf = df_features[d].reset_index()\n",
    "\tdf_reformat[d] = pd.melt(df,\n",
    "\t\t\t\t\t\t  id_vars=\"index\",\n",
    "\t\t\t\t\t\t  value_vars=list(df.columns[1:]),\n",
    "\t\t\t\t\t\t  var_name=\"Position\",\n",
    "\t\t\t\t\t\t  value_name=\"Feature\"\n",
    "\t\t\t\t\t\t  )\n",
    "\tdf_reformat[d][\"Label\"] = df_reformat[d][\"index\"].map(DE_labels[t])"
   ]
  },
  {
   "cell_type": "code",
   "execution_count": 35,
   "id": "24d1433e-eca3-4cdd-94b9-fd82252fcce0",
   "metadata": {
    "execution": {
     "iopub.execute_input": "2024-12-01T22:28:30.945122Z",
     "iopub.status.busy": "2024-12-01T22:28:30.944859Z",
     "iopub.status.idle": "2024-12-01T22:28:30.959198Z",
     "shell.execute_reply": "2024-12-01T22:28:30.958697Z",
     "shell.execute_reply.started": "2024-12-01T22:28:30.945103Z"
    },
    "scrolled": true
   },
   "outputs": [],
   "source": [
    "# Get the score of the middle bin for each element\n",
    "# Get the average values for two groups; U test \n",
    "\n",
    "values = {}\n",
    "d = \"distal\"\n",
    "for label in labels:\n",
    "\tdf = df_reformat[d][(df_reformat[d][\"Label\"]==label) & (df_reformat[d][\"Position\"]==10)]\n",
    "\tvalues[label] = df[\"Feature\"].tolist()"
   ]
  },
  {
   "cell_type": "code",
   "execution_count": 36,
   "id": "44da2b53-1f8d-47d1-a69f-82c80789418d",
   "metadata": {
    "execution": {
     "iopub.execute_input": "2024-12-01T22:28:30.960102Z",
     "iopub.status.busy": "2024-12-01T22:28:30.959838Z",
     "iopub.status.idle": "2024-12-01T22:28:30.965703Z",
     "shell.execute_reply": "2024-12-01T22:28:30.965273Z",
     "shell.execute_reply.started": "2024-12-01T22:28:30.960082Z"
    }
   },
   "outputs": [
    {
     "data": {
      "text/plain": [
       "(-0.26476178914408693, -0.07412761501053704)"
      ]
     },
     "execution_count": 36,
     "metadata": {},
     "output_type": "execute_result"
    }
   ],
   "source": [
    "np.mean(values[labels[0]]), np.mean(values[labels[1]])"
   ]
  },
  {
   "cell_type": "code",
   "execution_count": 37,
   "id": "e682b631-b6c2-49d4-83e5-b0d8f6826d98",
   "metadata": {
    "execution": {
     "iopub.execute_input": "2024-12-01T22:28:30.966458Z",
     "iopub.status.busy": "2024-12-01T22:28:30.966220Z",
     "iopub.status.idle": "2024-12-01T22:28:30.981892Z",
     "shell.execute_reply": "2024-12-01T22:28:30.981442Z",
     "shell.execute_reply.started": "2024-12-01T22:28:30.966439Z"
    }
   },
   "outputs": [
    {
     "data": {
      "text/plain": [
       "MannwhitneyuResult(statistic=93113.0, pvalue=2.199335314072725e-07)"
      ]
     },
     "execution_count": 37,
     "metadata": {},
     "output_type": "execute_result"
    }
   ],
   "source": [
    "mannwhitneyu(values[labels[0]], values[labels[1]])"
   ]
  },
  {
   "cell_type": "code",
   "execution_count": 38,
   "id": "ca8583f3-9dd7-4001-88bc-543d287a5f91",
   "metadata": {
    "execution": {
     "iopub.execute_input": "2024-12-01T22:28:30.982733Z",
     "iopub.status.busy": "2024-12-01T22:28:30.982476Z",
     "iopub.status.idle": "2024-12-01T22:28:30.989327Z",
     "shell.execute_reply": "2024-12-01T22:28:30.988842Z",
     "shell.execute_reply.started": "2024-12-01T22:28:30.982713Z"
    }
   },
   "outputs": [],
   "source": [
    "def plot_scores(df, outputfile):\n",
    "\tfig, ax = plt.subplots(figsize=(2.5,2.5))\n",
    "\tg = sns.lineplot(data=df, x=\"Position\", y=\"Feature\", hue=\"Label\", \n",
    "\t\t\t\t\t hue_order=labels, palette=palette, ax=ax)\n",
    "\tg.spines[[\"right\", \"top\"]].set_visible(False)\n",
    "\tg.legend(title=\"\", loc=\"lower left\", fontsize=sfontsize, frameon=False)\n",
    "\n",
    "\tg.set_ylabel(\"log$_2$(Insulation score)\", fontsize=bfontsize, fontweight=\"bold\")\n",
    "\tg.set_ylim([-0.5,0.3])\n",
    "\t\n",
    "\tg.set_xlabel(\"Distance (kb)\", fontsize=bfontsize, fontweight=\"bold\")\n",
    "\txtick_list = [5*n for n in range(5)]\n",
    "\txticklabel_list = [-10*resolution//1000, -5*resolution//1000, 0, 5*resolution//1000, 10*resolution//1000]\n",
    "\tg.set_xticks(xtick_list)\n",
    "\tg.set_xticklabels(xticklabel_list)\n",
    "\t\n",
    "\tg.tick_params(labelsize=sfontsize)\n",
    "\t\n",
    "\tplt.savefig(outputfile, bbox_inches=\"tight\", dpi=300)"
   ]
  },
  {
   "cell_type": "code",
   "execution_count": 39,
   "id": "0aa01550-697f-4ab9-90c8-b001173ca2e9",
   "metadata": {
    "execution": {
     "iopub.execute_input": "2024-12-01T22:28:30.990210Z",
     "iopub.status.busy": "2024-12-01T22:28:30.989945Z",
     "iopub.status.idle": "2024-12-01T22:28:33.754066Z",
     "shell.execute_reply": "2024-12-01T22:28:33.753566Z",
     "shell.execute_reply.started": "2024-12-01T22:28:30.990189Z"
    },
    "scrolled": true
   },
   "outputs": [
    {
     "data": {
      "image/png": "[encoded data removed]",
      "text/plain": [
       "<Figure size 250x250 with 1 Axes>"
      ]
     },
     "metadata": {},
     "output_type": "display_data"
    },
    {
     "data": {
      "image/png": "[encoded data removed]",
      "text/plain": [
       "<Figure size 250x250 with 1 Axes>"
      ]
     },
     "metadata": {},
     "output_type": "display_data"
    }
   ],
   "source": [
    "for d in ds:\n",
    "\tfolder = \"supp_figures/\" if d == \"distal\" else \"other_figures/\"\n",
    "\toutputfile = f\"{PROJECT_DIR_o}{folder}SuppFig7g.pdf\"\n",
    "\tplot_scores(df_reformat[d], outputfile)"
   ]
  },
  {
   "cell_type": "code",
   "execution_count": null,
   "id": "c689e58e-26e3-484f-ab29-24f1443617e1",
   "metadata": {},
   "outputs": [],
   "source": []
  }
 ],
 "metadata": {
  "kernelspec": {
   "display_name": "Python 3 (ipykernel)",
   "language": "python",
   "name": "python3"
  },
  "language_info": {
   "codemirror_mode": {
    "name": "ipython",
    "version": 3
   },
   "file_extension": ".py",
   "mimetype": "text/x-python",
   "name": "python",
   "nbconvert_exporter": "python",
   "pygments_lexer": "ipython3",
   "version": "3.10.8"
  }
 },
 "nbformat": 4,
 "nbformat_minor": 5
}

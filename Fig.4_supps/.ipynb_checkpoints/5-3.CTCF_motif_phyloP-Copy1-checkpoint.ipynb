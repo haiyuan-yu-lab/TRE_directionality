{
 "cells": [
  {
   "cell_type": "code",
   "execution_count": 1,
   "id": "6cf5108a-7a38-487f-85bd-4ef29d384bec",
   "metadata": {
    "execution": {
     "iopub.execute_input": "2024-01-08T18:56:05.238686Z",
     "iopub.status.busy": "2024-01-08T18:56:05.238448Z",
     "iopub.status.idle": "2024-01-08T18:56:05.245864Z",
     "shell.execute_reply": "2024-01-08T18:56:05.245126Z",
     "shell.execute_reply.started": "2024-01-08T18:56:05.238665Z"
    }
   },
   "outputs": [],
   "source": [
    "### Goals\n",
    "# 1. Show metaplots can be upregulated after CTCF degradation.\n",
    "\n",
    "### Input\n",
    "# 1. PROcap bw files in HCT116 before and after CTCF degradation\n",
    "\n",
    "### Output\n",
    "# 1. Metaplots of elements with upregulated and unchanged signals on the side with less reads"
   ]
  },
  {
   "cell_type": "code",
   "execution_count": 1,
   "id": "3a02941b-44fb-4ae3-aa1f-6a6366d81611",
   "metadata": {
    "execution": {
     "iopub.execute_input": "2024-05-29T17:16:54.354343Z",
     "iopub.status.busy": "2024-05-29T17:16:54.353740Z",
     "iopub.status.idle": "2024-05-29T17:16:54.364523Z",
     "shell.execute_reply": "2024-05-29T17:16:54.363998Z",
     "shell.execute_reply.started": "2024-05-29T17:16:54.354321Z"
    },
    "tags": []
   },
   "outputs": [],
   "source": [
    "PROJECT_DIR_s = \"/home/yc2553/projects/TRE_directionality/codes/\"\n",
    "PROJECT_DIR_r = \"/home/yc2553/projects/TRE_directionality/Resources/\"\n",
    "PROJECT_DIR_d = \"/home/yc2553/projects/TRE_directionality/PROcap/\"\n",
    "PROJECT_DIR_o = \"/home/yc2553/projects/TRE_directionality/output/\""
   ]
  },
  {
   "cell_type": "code",
   "execution_count": 2,
   "id": "5a6f59dd-84f0-4a76-a239-da0c6f6f77cc",
   "metadata": {
    "execution": {
     "iopub.execute_input": "2024-05-29T17:16:54.730476Z",
     "iopub.status.busy": "2024-05-29T17:16:54.730168Z",
     "iopub.status.idle": "2024-05-29T17:18:37.299788Z",
     "shell.execute_reply": "2024-05-29T17:18:37.297298Z",
     "shell.execute_reply.started": "2024-05-29T17:16:54.730456Z"
    }
   },
   "outputs": [],
   "source": [
    "from mphelper import ProcessWrapPool\n",
    "import pandas as pd\n",
    "import matplotlib.pyplot as plt\n",
    "import numpy as np\n",
    "from collections import Counter, defaultdict\n",
    "import seaborn as sns\n",
    "from biodata.delimited import DelimitedReader, DelimitedWriter\n",
    "from Bio import SeqIO\n",
    "import pybedtools"
   ]
  },
  {
   "cell_type": "code",
   "execution_count": 3,
   "id": "1af3048d-e6d5-4a5e-8f4b-b399748a2be9",
   "metadata": {
    "execution": {
     "iopub.execute_input": "2024-05-29T17:18:37.302398Z",
     "iopub.status.busy": "2024-05-29T17:18:37.301413Z",
     "iopub.status.idle": "2024-05-29T17:18:37.308633Z",
     "shell.execute_reply": "2024-05-29T17:18:37.308042Z",
     "shell.execute_reply.started": "2024-05-29T17:18:37.302373Z"
    }
   },
   "outputs": [],
   "source": [
    "import sys\n",
    "sys.path.append(PROJECT_DIR_s)"
   ]
  },
  {
   "cell_type": "code",
   "execution_count": 4,
   "id": "49518350-5c5c-49cf-9248-a11d1d0c83cf",
   "metadata": {
    "execution": {
     "iopub.execute_input": "2024-05-29T17:18:37.309709Z",
     "iopub.status.busy": "2024-05-29T17:18:37.309448Z",
     "iopub.status.idle": "2024-05-29T17:18:39.992819Z",
     "shell.execute_reply": "2024-05-29T17:18:39.992187Z",
     "shell.execute_reply.started": "2024-05-29T17:18:37.309692Z"
    }
   },
   "outputs": [
    {
     "data": {
      "text/plain": [
       "<module 'utils' from '/home/yc2553/projects/TRE_directionality/codes/utils.py'>"
      ]
     },
     "execution_count": 4,
     "metadata": {},
     "output_type": "execute_result"
    }
   ],
   "source": [
    "import importlib\n",
    "import utils\n",
    "importlib.reload(utils)"
   ]
  },
  {
   "cell_type": "markdown",
   "id": "f5f99300-3911-449c-9f98-8f3d26287c59",
   "metadata": {},
   "source": [
    "# 1. Generate feature matrix"
   ]
  },
  {
   "cell_type": "code",
   "execution_count": 5,
   "id": "c44eabf3-daef-435d-9e5f-19ea5e69e8a0",
   "metadata": {
    "execution": {
     "iopub.execute_input": "2024-05-29T17:18:39.994437Z",
     "iopub.status.busy": "2024-05-29T17:18:39.994112Z",
     "iopub.status.idle": "2024-05-29T17:18:42.304176Z",
     "shell.execute_reply": "2024-05-29T17:18:42.303454Z",
     "shell.execute_reply.started": "2024-05-29T17:18:39.994412Z"
    }
   },
   "outputs": [],
   "source": [
    "s = \"HCT116\"\n",
    "ks = [\"pl\", \"mn\"]\n",
    "ps = [\"divergent\", \"unidirectional\"]\n",
    "ds = [\"proximal\", \"distal\"]\n",
    "ts = [\"maximum\", \"minimum\"]\n",
    "gs = [p+\"_\"+d for p in ps for d in ds]"
   ]
  },
  {
   "cell_type": "markdown",
   "id": "9de57b60-4346-4495-a236-43381eecda67",
   "metadata": {},
   "source": [
    "## 1.1 Generate feature matrix for heatmap"
   ]
  },
  {
   "cell_type": "code",
   "execution_count": 7,
   "id": "30acb5d6-d925-4d1f-a223-c54e2cfa81b2",
   "metadata": {
    "execution": {
     "iopub.execute_input": "2024-05-29T17:19:19.667477Z",
     "iopub.status.busy": "2024-05-29T17:19:19.667052Z",
     "iopub.status.idle": "2024-05-29T17:19:19.670544Z",
     "shell.execute_reply": "2024-05-29T17:19:19.669961Z",
     "shell.execute_reply.started": "2024-05-29T17:19:19.667458Z"
    }
   },
   "outputs": [],
   "source": [
    "bws = {\"phyloP\": PROJECT_DIR_r + \"UCSC/phyloP/hg38.phyloP100way.bw\"\n",
    "\t   }"
   ]
  },
  {
   "cell_type": "code",
   "execution_count": 8,
   "id": "bfe5478c-69b7-4b2a-9e00-536f031ea11c",
   "metadata": {
    "execution": {
     "iopub.execute_input": "2024-05-29T17:19:32.705156Z",
     "iopub.status.busy": "2024-05-29T17:19:32.704727Z",
     "iopub.status.idle": "2024-05-29T17:19:32.713036Z",
     "shell.execute_reply": "2024-05-29T17:19:32.712380Z",
     "shell.execute_reply.started": "2024-05-29T17:19:32.705135Z"
    },
    "scrolled": true
   },
   "outputs": [],
   "source": [
    "# May flip the elements based on CTCF motif orientation\n",
    "\n",
    "pwpool = ProcessWrapPool(len(gs)*len(bws))\n",
    "\n",
    "strand_sensitive = False\n",
    "strand = None\t\n",
    "for g in gs:\n",
    "\tbed_in = PROJECT_DIR_d + \"bed_plot/\" + \"_\".join([s, g, \"CTCF_centered\"]) + \".bed\"\n",
    "\tfor m in bws:\n",
    "\t\toutputfile = PROJECT_DIR_o + \"feature_matrix/\" + \"_\".join([s, g, m, \"CTCF_centered\"]) + \".txt\"\n",
    "\t\tpwpool.run(utils.get_feature_matrix_for_heatmap, args=[bed_in, bws[m], outputfile, strand_sensitive, strand])"
   ]
  },
  {
   "cell_type": "code",
   "execution_count": 9,
   "id": "85821f34-6ad2-4826-844c-fb51a145a5a8",
   "metadata": {
    "execution": {
     "iopub.execute_input": "2024-05-29T17:20:11.119098Z",
     "iopub.status.busy": "2024-05-29T17:20:11.117932Z",
     "iopub.status.idle": "2024-05-29T17:20:11.126754Z",
     "shell.execute_reply": "2024-05-29T17:20:11.126176Z",
     "shell.execute_reply.started": "2024-05-29T17:20:11.119065Z"
    },
    "tags": []
   },
   "outputs": [
    {
     "data": {
      "text/plain": [
       "4"
      ]
     },
     "execution_count": 9,
     "metadata": {},
     "output_type": "execute_result"
    }
   ],
   "source": [
    "# 4*1\n",
    "\n",
    "len(pwpool.finished_tasks)"
   ]
  },
  {
   "cell_type": "code",
   "execution_count": 10,
   "id": "b68a06cb-e69e-4711-bcdd-46484fb60a07",
   "metadata": {
    "execution": {
     "iopub.execute_input": "2024-05-29T17:20:33.014805Z",
     "iopub.status.busy": "2024-05-29T17:20:33.013485Z",
     "iopub.status.idle": "2024-05-29T17:20:33.041615Z",
     "shell.execute_reply": "2024-05-29T17:20:33.040414Z",
     "shell.execute_reply.started": "2024-05-29T17:20:33.014777Z"
    }
   },
   "outputs": [],
   "source": [
    "pwpool.close()"
   ]
  },
  {
   "cell_type": "code",
   "execution_count": 26,
   "id": "76d3ff00-474c-48dc-aa37-6c327b888170",
   "metadata": {
    "execution": {
     "iopub.execute_input": "2024-05-29T17:58:32.949043Z",
     "iopub.status.busy": "2024-05-29T17:58:32.948601Z",
     "iopub.status.idle": "2024-05-29T17:58:33.525703Z",
     "shell.execute_reply": "2024-05-29T17:58:33.524948Z",
     "shell.execute_reply.started": "2024-05-29T17:58:32.949015Z"
    }
   },
   "outputs": [
    {
     "data": {
      "text/html": [
       "<div>\n",
       "<style scoped>\n",
       "    .dataframe tbody tr th:only-of-type {\n",
       "        vertical-align: middle;\n",
       "    }\n",
       "\n",
       "    .dataframe tbody tr th {\n",
       "        vertical-align: top;\n",
       "    }\n",
       "\n",
       "    .dataframe thead th {\n",
       "        text-align: right;\n",
       "    }\n",
       "</style>\n",
       "<table border=\"1\" class=\"dataframe\">\n",
       "  <thead>\n",
       "    <tr style=\"text-align: right;\">\n",
       "      <th></th>\n",
       "      <th>Element</th>\n",
       "      <th>0</th>\n",
       "      <th>1</th>\n",
       "      <th>2</th>\n",
       "      <th>3</th>\n",
       "      <th>4</th>\n",
       "      <th>5</th>\n",
       "      <th>6</th>\n",
       "      <th>7</th>\n",
       "      <th>8</th>\n",
       "      <th>...</th>\n",
       "      <th>991</th>\n",
       "      <th>992</th>\n",
       "      <th>993</th>\n",
       "      <th>994</th>\n",
       "      <th>995</th>\n",
       "      <th>996</th>\n",
       "      <th>997</th>\n",
       "      <th>998</th>\n",
       "      <th>999</th>\n",
       "      <th>1000</th>\n",
       "    </tr>\n",
       "  </thead>\n",
       "  <tbody>\n",
       "    <tr>\n",
       "      <th>0</th>\n",
       "      <td>('chr1', '3910971', '3911060')</td>\n",
       "      <td>-0.065</td>\n",
       "      <td>-0.818</td>\n",
       "      <td>-0.333</td>\n",
       "      <td>-1.545</td>\n",
       "      <td>-0.659</td>\n",
       "      <td>0.416</td>\n",
       "      <td>-0.222</td>\n",
       "      <td>-0.127</td>\n",
       "      <td>-0.298</td>\n",
       "      <td>...</td>\n",
       "      <td>-1.133</td>\n",
       "      <td>-0.661</td>\n",
       "      <td>-0.791</td>\n",
       "      <td>0.188</td>\n",
       "      <td>-2.413</td>\n",
       "      <td>-1.958</td>\n",
       "      <td>0.035</td>\n",
       "      <td>-1.354</td>\n",
       "      <td>0.205</td>\n",
       "      <td>-0.187</td>\n",
       "    </tr>\n",
       "    <tr>\n",
       "      <th>1</th>\n",
       "      <td>('chr1', '9005221', '9005289')</td>\n",
       "      <td>-0.962</td>\n",
       "      <td>0.530</td>\n",
       "      <td>-0.965</td>\n",
       "      <td>0.530</td>\n",
       "      <td>0.530</td>\n",
       "      <td>0.530</td>\n",
       "      <td>0.530</td>\n",
       "      <td>0.530</td>\n",
       "      <td>0.530</td>\n",
       "      <td>...</td>\n",
       "      <td>-2.549</td>\n",
       "      <td>0.382</td>\n",
       "      <td>4.032</td>\n",
       "      <td>-2.438</td>\n",
       "      <td>1.668</td>\n",
       "      <td>6.100</td>\n",
       "      <td>0.677</td>\n",
       "      <td>6.553</td>\n",
       "      <td>4.078</td>\n",
       "      <td>1.401</td>\n",
       "    </tr>\n",
       "    <tr>\n",
       "      <th>2</th>\n",
       "      <td>('chr1', '13829033', '13829145')</td>\n",
       "      <td>0.026</td>\n",
       "      <td>0.341</td>\n",
       "      <td>-0.637</td>\n",
       "      <td>-0.454</td>\n",
       "      <td>-1.357</td>\n",
       "      <td>-0.085</td>\n",
       "      <td>0.230</td>\n",
       "      <td>-1.256</td>\n",
       "      <td>1.982</td>\n",
       "      <td>...</td>\n",
       "      <td>0.140</td>\n",
       "      <td>-0.545</td>\n",
       "      <td>-0.786</td>\n",
       "      <td>-1.807</td>\n",
       "      <td>-0.135</td>\n",
       "      <td>0.485</td>\n",
       "      <td>0.248</td>\n",
       "      <td>-0.251</td>\n",
       "      <td>-1.263</td>\n",
       "      <td>-0.176</td>\n",
       "    </tr>\n",
       "    <tr>\n",
       "      <th>3</th>\n",
       "      <td>('chr1', '23637489', '23637559')</td>\n",
       "      <td>-0.093</td>\n",
       "      <td>1.227</td>\n",
       "      <td>-1.814</td>\n",
       "      <td>-1.209</td>\n",
       "      <td>1.483</td>\n",
       "      <td>-0.643</td>\n",
       "      <td>-0.827</td>\n",
       "      <td>1.483</td>\n",
       "      <td>-0.393</td>\n",
       "      <td>...</td>\n",
       "      <td>0.076</td>\n",
       "      <td>0.076</td>\n",
       "      <td>0.077</td>\n",
       "      <td>0.076</td>\n",
       "      <td>0.077</td>\n",
       "      <td>0.085</td>\n",
       "      <td>0.089</td>\n",
       "      <td>0.077</td>\n",
       "      <td>0.077</td>\n",
       "      <td>0.076</td>\n",
       "    </tr>\n",
       "    <tr>\n",
       "      <th>4</th>\n",
       "      <td>('chr1', '24202073', '24202115')</td>\n",
       "      <td>0.392</td>\n",
       "      <td>-0.569</td>\n",
       "      <td>-0.657</td>\n",
       "      <td>-1.591</td>\n",
       "      <td>0.469</td>\n",
       "      <td>0.396</td>\n",
       "      <td>0.469</td>\n",
       "      <td>0.469</td>\n",
       "      <td>0.392</td>\n",
       "      <td>...</td>\n",
       "      <td>-0.257</td>\n",
       "      <td>-1.795</td>\n",
       "      <td>-0.936</td>\n",
       "      <td>-0.294</td>\n",
       "      <td>0.609</td>\n",
       "      <td>0.070</td>\n",
       "      <td>-0.316</td>\n",
       "      <td>-1.247</td>\n",
       "      <td>0.126</td>\n",
       "      <td>0.454</td>\n",
       "    </tr>\n",
       "  </tbody>\n",
       "</table>\n",
       "<p>5 rows × 1002 columns</p>\n",
       "</div>"
      ],
      "text/plain": [
       "                            Element      0      1      2      3      4      5  \\\n",
       "0    ('chr1', '3910971', '3911060') -0.065 -0.818 -0.333 -1.545 -0.659  0.416   \n",
       "1    ('chr1', '9005221', '9005289') -0.962  0.530 -0.965  0.530  0.530  0.530   \n",
       "2  ('chr1', '13829033', '13829145')  0.026  0.341 -0.637 -0.454 -1.357 -0.085   \n",
       "3  ('chr1', '23637489', '23637559') -0.093  1.227 -1.814 -1.209  1.483 -0.643   \n",
       "4  ('chr1', '24202073', '24202115')  0.392 -0.569 -0.657 -1.591  0.469  0.396   \n",
       "\n",
       "       6      7      8  ...    991    992    993    994    995    996    997  \\\n",
       "0 -0.222 -0.127 -0.298  ... -1.133 -0.661 -0.791  0.188 -2.413 -1.958  0.035   \n",
       "1  0.530  0.530  0.530  ... -2.549  0.382  4.032 -2.438  1.668  6.100  0.677   \n",
       "2  0.230 -1.256  1.982  ...  0.140 -0.545 -0.786 -1.807 -0.135  0.485  0.248   \n",
       "3 -0.827  1.483 -0.393  ...  0.076  0.076  0.077  0.076  0.077  0.085  0.089   \n",
       "4  0.469  0.469  0.392  ... -0.257 -1.795 -0.936 -0.294  0.609  0.070 -0.316   \n",
       "\n",
       "     998    999   1000  \n",
       "0 -1.354  0.205 -0.187  \n",
       "1  6.553  4.078  1.401  \n",
       "2 -0.251 -1.263 -0.176  \n",
       "3  0.077  0.077  0.076  \n",
       "4 -1.247  0.126  0.454  \n",
       "\n",
       "[5 rows x 1002 columns]"
      ]
     },
     "execution_count": 26,
     "metadata": {},
     "output_type": "execute_result"
    }
   ],
   "source": [
    "inputfile = PROJECT_DIR_o + \"feature_matrix/\" + \"_\".join([s, g, m, \"CTCF_centered\"]) + \".txt\"\n",
    "df = pd.read_table(inputfile)\n",
    "df.head()"
   ]
  },
  {
   "cell_type": "markdown",
   "id": "c6ee4b23-43a6-4efb-a9e3-48881ea4e73a",
   "metadata": {},
   "source": [
    "## 1.2 Reformat feature matrix for metaplot"
   ]
  },
  {
   "cell_type": "code",
   "execution_count": null,
   "id": "f5a3f7ee-8b64-4664-8e15-78efc69681ac",
   "metadata": {},
   "outputs": [],
   "source": [
    "# Get labels for degron results\n",
    "# Combine both maximum and minimum results\n",
    "# Up: Up+Unchanged or Up+Up\n",
    "# Down: Down+Unchanged or Down+Down\n",
    "# Unchanged: Unchanged+Unchanged"
   ]
  },
  {
   "cell_type": "code",
   "execution_count": 20,
   "id": "47a9b9b5-6125-4f45-b9b5-f39fd4c18f8b",
   "metadata": {
    "execution": {
     "iopub.execute_input": "2024-05-29T17:56:55.573714Z",
     "iopub.status.busy": "2024-05-29T17:56:55.573346Z",
     "iopub.status.idle": "2024-05-29T17:57:03.963909Z",
     "shell.execute_reply": "2024-05-29T17:57:03.962656Z",
     "shell.execute_reply.started": "2024-05-29T17:56:55.573694Z"
    }
   },
   "outputs": [],
   "source": [
    "labels = defaultdict(set)\n",
    "\n",
    "for t in ts:\n",
    "\tinputfile = PROJECT_DIR_o + \"labels/\" + \"_\".join([s, \"CTCF_degron\", t]) + \".txt\"\n",
    "\tdf = pd.read_table(inputfile)\n",
    "\tfor index, row in df.iterrows():\n",
    "\t\tchrom, start, end = row[\"Element\"][1:-1].split(\", \")\n",
    "\t\te = (chrom[1:-1], str(start[1:-1]), str(end[1:-1]))\n",
    "\t\tlabels[e].add(row[\"Value\"])"
   ]
  },
  {
   "cell_type": "code",
   "execution_count": 31,
   "id": "91e76ade-1ce7-4ac4-abc6-cf393278a7a4",
   "metadata": {
    "execution": {
     "iopub.execute_input": "2024-05-29T18:00:44.476729Z",
     "iopub.status.busy": "2024-05-29T18:00:44.476329Z",
     "iopub.status.idle": "2024-05-29T18:00:44.506428Z",
     "shell.execute_reply": "2024-05-29T18:00:44.505818Z",
     "shell.execute_reply.started": "2024-05-29T18:00:44.476705Z"
    }
   },
   "outputs": [],
   "source": [
    "labels2 = {}\n",
    "for e in labels:\n",
    "\tchrom, start, end = e\n",
    "\te2 = str((chrom, start, end))\n",
    "\tif len(labels[e]) == 1:\n",
    "\t\tlabels2[e2] = list(labels[e])[0]\n",
    "\telif \"Unchanged\" in labels[e]:\n",
    "\t\tlabels2[e2] = [l for l in list(labels[e]) if l != \"Unchanged\"][0]\n",
    "\telse:\n",
    "\t\tlabels2[e2] = \"ambiguous\""
   ]
  },
  {
   "cell_type": "code",
   "execution_count": 39,
   "id": "0b577420-18bd-48b7-a49e-d71da6765850",
   "metadata": {
    "execution": {
     "iopub.execute_input": "2024-05-29T18:04:05.504210Z",
     "iopub.status.busy": "2024-05-29T18:04:05.503844Z",
     "iopub.status.idle": "2024-05-29T18:04:05.509176Z",
     "shell.execute_reply": "2024-05-29T18:04:05.508606Z",
     "shell.execute_reply.started": "2024-05-29T18:04:05.504190Z"
    }
   },
   "outputs": [],
   "source": [
    "def reformat_feature_matrix_for_metaplot(inputfiles, outputfile):\n",
    "\t\"\"\"\n",
    "\tGet a matrix of a given feature for metaplot\n",
    "\tEach row: one 10-bp bin\n",
    "\tColumns: position, feature value, label\n",
    "\t\"\"\"\n",
    "\t\n",
    "\tframes = []\n",
    "\tfor inputfile in inputfiles:\n",
    "\t\tdf = pd.read_table(inputfile)\n",
    "\t\t# change the format\n",
    "\t\tdf_reformat = pd.melt(df,\n",
    "\t\t\t\t\t\t  id_vars=\"Element\",\n",
    "\t\t\t\t\t\t  value_vars=list(df.columns[1:]),\n",
    "\t\t\t\t\t\t  var_name=\"Position\",\n",
    "\t\t\t\t\t\t  value_name=\"Feature\"\n",
    "\t\t\t\t\t\t  )\n",
    "\n",
    "\t\tlbs = []\n",
    "\t\tfor index, row in df_reformat.iterrows():\n",
    "\t\t\tlbs.append(labels2[row[\"Element\"]])\n",
    "\t\tdf_reformat[\"Label\"] = lbs\t\t\n",
    "\t\tframes.append(df_reformat)\n",
    "\n",
    "\tdf = pd.concat(frames)\n",
    "\tdf.to_csv(outputfile, sep=\"\\t\", index=False)"
   ]
  },
  {
   "cell_type": "code",
   "execution_count": 40,
   "id": "da3c3e70-64a3-49bd-a5df-6cc9c100ec64",
   "metadata": {
    "execution": {
     "iopub.execute_input": "2024-05-29T18:04:05.510437Z",
     "iopub.status.busy": "2024-05-29T18:04:05.510175Z",
     "iopub.status.idle": "2024-05-29T18:04:14.701601Z",
     "shell.execute_reply": "2024-05-29T18:04:14.692436Z",
     "shell.execute_reply.started": "2024-05-29T18:04:05.510416Z"
    },
    "scrolled": true
   },
   "outputs": [],
   "source": [
    "# Combine divergent and unidirectional elements\n",
    "\n",
    "pwpool = ProcessWrapPool(len(ds))\n",
    "\n",
    "for d in ds:\n",
    "\tinputfiles = [PROJECT_DIR_o + \"feature_matrix/\" + \"_\".join([s, p, d, m, \"CTCF_centered\"]) + \".txt\" for p in ps for m in bws]\n",
    "\toutputfile = PROJECT_DIR_o + \"feature_matrix/\" + \"_\".join([s, d, m, \"reformat\", \"CTCF_centered\"]) + \".txt\"\n",
    "\tpwpool.run(reformat_feature_matrix_for_metaplot, args=[inputfiles, outputfile])"
   ]
  },
  {
   "cell_type": "code",
   "execution_count": 43,
   "id": "6573513d-d083-4c12-a2bf-f636252cc118",
   "metadata": {
    "execution": {
     "iopub.execute_input": "2024-05-29T18:05:20.564147Z",
     "iopub.status.busy": "2024-05-29T18:05:20.562348Z",
     "iopub.status.idle": "2024-05-29T18:05:20.584914Z",
     "shell.execute_reply": "2024-05-29T18:05:20.583964Z",
     "shell.execute_reply.started": "2024-05-29T18:05:20.564114Z"
    },
    "tags": []
   },
   "outputs": [
    {
     "data": {
      "text/plain": [
       "2"
      ]
     },
     "execution_count": 43,
     "metadata": {},
     "output_type": "execute_result"
    }
   ],
   "source": [
    "len(pwpool.finished_tasks)"
   ]
  },
  {
   "cell_type": "code",
   "execution_count": 44,
   "id": "b79eacc9-b1a9-425c-bbd8-0c253d6b94f5",
   "metadata": {
    "execution": {
     "iopub.execute_input": "2024-05-29T18:05:21.729992Z",
     "iopub.status.busy": "2024-05-29T18:05:21.729524Z",
     "iopub.status.idle": "2024-05-29T18:05:27.651583Z",
     "shell.execute_reply": "2024-05-29T18:05:27.650684Z",
     "shell.execute_reply.started": "2024-05-29T18:05:21.729971Z"
    }
   },
   "outputs": [],
   "source": [
    "pwpool.close()"
   ]
  },
  {
   "cell_type": "code",
   "execution_count": 45,
   "id": "ce64c073-86f6-46dd-8001-3674f6db395e",
   "metadata": {
    "execution": {
     "iopub.execute_input": "2024-05-29T18:05:27.653132Z",
     "iopub.status.busy": "2024-05-29T18:05:27.652856Z",
     "iopub.status.idle": "2024-05-29T18:05:35.912954Z",
     "shell.execute_reply": "2024-05-29T18:05:35.912247Z",
     "shell.execute_reply.started": "2024-05-29T18:05:27.653114Z"
    }
   },
   "outputs": [
    {
     "data": {
      "text/plain": [
       "Counter({'Unchanged': 1162161,\n",
       "         'Down': 307307,\n",
       "         'Up': 208208,\n",
       "         'ambiguous': 16016})"
      ]
     },
     "execution_count": 45,
     "metadata": {},
     "output_type": "execute_result"
    }
   ],
   "source": [
    "# Check the output\n",
    "\n",
    "inputfile = PROJECT_DIR_o + \"feature_matrix/\" + \"_\".join([s, d, m, \"reformat\", \"CTCF_centered\"]) + \".txt\"\n",
    "df = pd.read_table(inputfile)\n",
    "Counter(df[\"Label\"])"
   ]
  },
  {
   "cell_type": "code",
   "execution_count": 104,
   "id": "4a3fcc3c-d339-4a49-b356-984a96420238",
   "metadata": {
    "execution": {
     "iopub.execute_input": "2024-05-31T02:37:33.130226Z",
     "iopub.status.busy": "2024-05-31T02:37:33.129884Z",
     "iopub.status.idle": "2024-05-31T02:37:33.133840Z",
     "shell.execute_reply": "2024-05-31T02:37:33.133387Z",
     "shell.execute_reply.started": "2024-05-31T02:37:33.130207Z"
    }
   },
   "outputs": [
    {
     "data": {
      "text/plain": [
       "208.0"
      ]
     },
     "execution_count": 104,
     "metadata": {},
     "output_type": "execute_result"
    }
   ],
   "source": [
    "208208/1001"
   ]
  },
  {
   "cell_type": "markdown",
   "id": "0aaf2009-0933-4b94-839a-4370500fe497",
   "metadata": {},
   "source": [
    "# 3. Generate metaplots"
   ]
  },
  {
   "cell_type": "markdown",
   "id": "e0193dd2-a960-4776-9cb5-bdd8d2442b3c",
   "metadata": {},
   "source": [
    "## 3.1 Settings"
   ]
  },
  {
   "cell_type": "code",
   "execution_count": 55,
   "id": "c53e0f5e-f2ee-401a-a4a7-8748d7927610",
   "metadata": {
    "execution": {
     "iopub.execute_input": "2024-05-29T18:10:06.658971Z",
     "iopub.status.busy": "2024-05-29T18:10:06.658579Z",
     "iopub.status.idle": "2024-05-29T18:10:06.663598Z",
     "shell.execute_reply": "2024-05-29T18:10:06.662878Z",
     "shell.execute_reply.started": "2024-05-29T18:10:06.658950Z"
    }
   },
   "outputs": [],
   "source": [
    "def get_ylims(f_feature):\n",
    "\tdf = pd.read_table(f_feature)\n",
    "\tmaxs = []\n",
    "\tmins = []\n",
    "\tfor k in groups:\n",
    "\t\tdf2 = df[df[\"Label\"]==k]\n",
    "\t\tmeans = df2.groupby(\"Position\")[\"Feature\"].mean()\n",
    "\t\tmaxs.append(max(means))\n",
    "\t\tmins.append(min(means))\n",
    "\treturn max(maxs), min(mins)"
   ]
  },
  {
   "cell_type": "code",
   "execution_count": 42,
   "id": "0b4f9556-8808-4b21-8e04-d625fed80865",
   "metadata": {
    "execution": {
     "iopub.execute_input": "2024-05-29T18:04:54.741135Z",
     "iopub.status.busy": "2024-05-29T18:04:54.740823Z",
     "iopub.status.idle": "2024-05-29T18:04:54.744835Z",
     "shell.execute_reply": "2024-05-29T18:04:54.744163Z",
     "shell.execute_reply.started": "2024-05-29T18:04:54.741115Z"
    }
   },
   "outputs": [],
   "source": [
    "groups = [\"Up\", \"Unchanged\", \"Down\"]"
   ]
  },
  {
   "cell_type": "code",
   "execution_count": 84,
   "id": "7b709087-98bd-41b8-ac4d-8ee060771f46",
   "metadata": {
    "execution": {
     "iopub.execute_input": "2024-05-31T02:13:30.186968Z",
     "iopub.status.busy": "2024-05-31T02:13:30.186577Z",
     "iopub.status.idle": "2024-05-31T02:13:33.958835Z",
     "shell.execute_reply": "2024-05-31T02:13:33.958280Z",
     "shell.execute_reply.started": "2024-05-31T02:13:30.186942Z"
    }
   },
   "outputs": [
    {
     "name": "stdout",
     "output_type": "stream",
     "text": [
      "proximal (1.2618243278797112, -0.33733870910251545)\n",
      "distal (1.4451057701248478, -0.4178365387807179)\n"
     ]
    }
   ],
   "source": [
    "for d in ds:\n",
    "\tf_feature = PROJECT_DIR_o + \"feature_matrix/\" + \"_\".join([s, d, m, \"reformat\", \"CTCF_centered\"]) + \".txt\"\n",
    "\tprint(d, get_ylims(f_feature))"
   ]
  },
  {
   "cell_type": "code",
   "execution_count": 85,
   "id": "4c737e1a-c1ea-41f1-84d6-492d783af3d8",
   "metadata": {
    "execution": {
     "iopub.execute_input": "2024-05-31T02:14:06.313339Z",
     "iopub.status.busy": "2024-05-31T02:14:06.312993Z",
     "iopub.status.idle": "2024-05-31T02:14:07.559160Z",
     "shell.execute_reply": "2024-05-31T02:14:07.558674Z",
     "shell.execute_reply.started": "2024-05-31T02:14:06.313320Z"
    }
   },
   "outputs": [
    {
     "data": {
      "text/html": [
       "<div>\n",
       "<style scoped>\n",
       "    .dataframe tbody tr th:only-of-type {\n",
       "        vertical-align: middle;\n",
       "    }\n",
       "\n",
       "    .dataframe tbody tr th {\n",
       "        vertical-align: top;\n",
       "    }\n",
       "\n",
       "    .dataframe thead th {\n",
       "        text-align: right;\n",
       "    }\n",
       "</style>\n",
       "<table border=\"1\" class=\"dataframe\">\n",
       "  <thead>\n",
       "    <tr style=\"text-align: right;\">\n",
       "      <th></th>\n",
       "      <th>Element</th>\n",
       "      <th>Position</th>\n",
       "      <th>Feature</th>\n",
       "      <th>Label</th>\n",
       "    </tr>\n",
       "  </thead>\n",
       "  <tbody>\n",
       "    <tr>\n",
       "      <th>0</th>\n",
       "      <td>('chr1', '1122245', '1122353')</td>\n",
       "      <td>0</td>\n",
       "      <td>-0.027</td>\n",
       "      <td>Unchanged</td>\n",
       "    </tr>\n",
       "    <tr>\n",
       "      <th>1</th>\n",
       "      <td>('chr1', '1344856', '1345140')</td>\n",
       "      <td>0</td>\n",
       "      <td>-1.035</td>\n",
       "      <td>Unchanged</td>\n",
       "    </tr>\n",
       "    <tr>\n",
       "      <th>2</th>\n",
       "      <td>('chr1', '1944140', '1944236')</td>\n",
       "      <td>0</td>\n",
       "      <td>-0.135</td>\n",
       "      <td>Unchanged</td>\n",
       "    </tr>\n",
       "    <tr>\n",
       "      <th>3</th>\n",
       "      <td>('chr1', '2044891', '2045039')</td>\n",
       "      <td>0</td>\n",
       "      <td>0.305</td>\n",
       "      <td>Up</td>\n",
       "    </tr>\n",
       "    <tr>\n",
       "      <th>4</th>\n",
       "      <td>('chr1', '2140105', '2140406')</td>\n",
       "      <td>0</td>\n",
       "      <td>-0.455</td>\n",
       "      <td>Unchanged</td>\n",
       "    </tr>\n",
       "  </tbody>\n",
       "</table>\n",
       "</div>"
      ],
      "text/plain": [
       "                          Element  Position  Feature      Label\n",
       "0  ('chr1', '1122245', '1122353')         0   -0.027  Unchanged\n",
       "1  ('chr1', '1344856', '1345140')         0   -1.035  Unchanged\n",
       "2  ('chr1', '1944140', '1944236')         0   -0.135  Unchanged\n",
       "3  ('chr1', '2044891', '2045039')         0    0.305         Up\n",
       "4  ('chr1', '2140105', '2140406')         0   -0.455  Unchanged"
      ]
     },
     "execution_count": 85,
     "metadata": {},
     "output_type": "execute_result"
    }
   ],
   "source": [
    "df = pd.read_table(f_feature)\n",
    "df.head()"
   ]
  },
  {
   "cell_type": "markdown",
   "id": "3263b054-f0ce-4d46-9a3f-c236f8d3908a",
   "metadata": {},
   "source": [
    "## 3.2 Generate metaplots"
   ]
  },
  {
   "cell_type": "code",
   "execution_count": 107,
   "id": "1a6be21b-ce4c-416f-a025-523c5770f957",
   "metadata": {
    "execution": {
     "iopub.execute_input": "2024-05-31T02:40:55.922474Z",
     "iopub.status.busy": "2024-05-31T02:40:55.922123Z",
     "iopub.status.idle": "2024-05-31T02:40:55.930006Z",
     "shell.execute_reply": "2024-05-31T02:40:55.929551Z",
     "shell.execute_reply.started": "2024-05-31T02:40:55.922456Z"
    }
   },
   "outputs": [],
   "source": [
    "def generate_metaplot(f_feature, outputfile, ylims, yticks, test, xlabel=\"Distance to CTCF motif (bp)\", fontsize=20, labelpad=7.5, labelsize=20, y_align= -0.2, wspace=0.25):\n",
    "\tfig, ax = plt.subplots(1,3,figsize=(15,4))\n",
    "\n",
    "\tdf = pd.read_table(f_feature)\n",
    "\tif test:\n",
    "\t\tframes = []\n",
    "\t\tfor n in range(len(hue_order)):\n",
    "\t\t\tframes.append(df[df[\"Label\"]==hue_order[n]].head(10))\n",
    "\t\tdf = pd.concat(frames)\n",
    "\n",
    "\tfor label in groups:\n",
    "\t\tcol = groups.index(label)\n",
    "\t\tdf2 = df[df[\"Label\"]==label]\n",
    "\t\tg = sns.lineplot(data=df2, x=\"Position\", y=\"Feature\", color=\"#80b1d3\", ax=ax[col])\n",
    "\n",
    "\t\tg.set_title(label + \" (n=\" + str(int(len(df2)/1001)) + \")\", fontsize=fontsize, fontweight=\"bold\")\n",
    "\t\tg.spines.right.set_visible(False)\n",
    "\t\tg.spines.top.set_visible(False)\n",
    "\t\n",
    "\t\t# Y axis\n",
    "\t\tg.set_ylim(ylims)\n",
    "\t\tg.set_yticks(yticks)\n",
    "\t\tif col == 0:\n",
    "\t\t\tg.set_ylabel(\"phyloP\", fontsize=fontsize, fontweight=\"bold\")\n",
    "\t\t\tg.tick_params(labelsize=labelsize, pad=labelpad)\n",
    "\t\telse:\n",
    "\t\t\tg.set_ylabel(\"\")\n",
    "\n",
    "\t\t# X axis\n",
    "\t\txticklabel_list = [\"-50\", \"0\", \"50\"]\n",
    "\t\txtick_list = [450, 500, 550]\n",
    "\t\tg.set_xlim([450, 550])\n",
    "\t\tg.set_xticks(xtick_list)\n",
    "\t\tg.set_xticklabels(xticklabel_list)\n",
    "\t\tg.set_xlabel(xlabel, fontsize=16, fontweight=\"bold\")\n",
    "\t\tg.tick_params(labelsize=labelsize, pad=labelpad)\n",
    "\n",
    "\tplt.subplots_adjust(wspace=0.5)\n",
    "\tplt.savefig(outputfile, bbox_inches = 'tight', dpi=300) "
   ]
  },
  {
   "cell_type": "code",
   "execution_count": 109,
   "id": "cb00967f-2699-4485-b204-31aa4a728a68",
   "metadata": {
    "execution": {
     "iopub.execute_input": "2024-05-31T02:42:58.266307Z",
     "iopub.status.busy": "2024-05-31T02:42:58.263794Z",
     "iopub.status.idle": "2024-05-31T02:42:58.348188Z",
     "shell.execute_reply": "2024-05-31T02:42:58.330546Z",
     "shell.execute_reply.started": "2024-05-31T02:42:58.266277Z"
    },
    "scrolled": true
   },
   "outputs": [],
   "source": [
    "pwpool = ProcessWrapPool(len(ds))\n",
    "\n",
    "# test = True\n",
    "test = False\n",
    "\n",
    "for d in ds:\n",
    "\tf_feature = PROJECT_DIR_o + \"feature_matrix/\" + \"_\".join([s, d, m, \"reformat\", \"CTCF_centered\"]) + \".txt\"\n",
    "\toutputfile = PROJECT_DIR_o + \"other_figures/\" + \"_\".join([s, d, m, \"CTCF_centered\"]) + \".png\"\n",
    "\tylims = [-1.5, 2.5]\n",
    "\tyticks = [-1, 0, 1, 2]\n",
    "\tpwpool.run(generate_metaplot, args=[f_feature, outputfile, ylims, yticks, test])"
   ]
  },
  {
   "cell_type": "code",
   "execution_count": 111,
   "id": "2a9b5e5d-fc6d-41e1-a87b-47c638fe32f6",
   "metadata": {
    "execution": {
     "iopub.execute_input": "2024-05-31T02:44:40.068721Z",
     "iopub.status.busy": "2024-05-31T02:44:40.068140Z",
     "iopub.status.idle": "2024-05-31T02:44:40.072412Z",
     "shell.execute_reply": "2024-05-31T02:44:40.071950Z",
     "shell.execute_reply.started": "2024-05-31T02:44:40.068702Z"
    },
    "tags": []
   },
   "outputs": [
    {
     "data": {
      "text/plain": [
       "2"
      ]
     },
     "execution_count": 111,
     "metadata": {},
     "output_type": "execute_result"
    }
   ],
   "source": [
    "len(pwpool.finished_tasks)"
   ]
  },
  {
   "cell_type": "code",
   "execution_count": 112,
   "id": "9c17d1a5-902d-44cb-ac56-322d64c7b4a1",
   "metadata": {
    "execution": {
     "iopub.execute_input": "2024-05-31T02:44:40.910144Z",
     "iopub.status.busy": "2024-05-31T02:44:40.909814Z",
     "iopub.status.idle": "2024-05-31T02:44:41.473068Z",
     "shell.execute_reply": "2024-05-31T02:44:41.472563Z",
     "shell.execute_reply.started": "2024-05-31T02:44:40.910125Z"
    }
   },
   "outputs": [],
   "source": [
    "pwpool.close()"
   ]
  },
  {
   "cell_type": "code",
   "execution_count": null,
   "id": "7ac373b9-d150-43ba-b06a-cbeede252133",
   "metadata": {},
   "outputs": [],
   "source": []
  }
 ],
 "metadata": {
  "kernelspec": {
   "display_name": "Python 3 (ipykernel)",
   "language": "python",
   "name": "python3"
  },
  "language_info": {
   "codemirror_mode": {
    "name": "ipython",
    "version": 3
   },
   "file_extension": ".py",
   "mimetype": "text/x-python",
   "name": "python",
   "nbconvert_exporter": "python",
   "pygments_lexer": "ipython3",
   "version": "3.9.16"
  }
 },
 "nbformat": 4,
 "nbformat_minor": 5
}

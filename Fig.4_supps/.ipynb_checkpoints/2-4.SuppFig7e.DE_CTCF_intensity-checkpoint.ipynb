{
 "cells": [
  {
   "cell_type": "code",
   "execution_count": 1,
   "id": "5a6f59dd-84f0-4a76-a239-da0c6f6f77cc",
   "metadata": {
    "execution": {
     "iopub.execute_input": "2024-12-01T21:34:33.513457Z",
     "iopub.status.busy": "2024-12-01T21:34:33.507165Z",
     "iopub.status.idle": "2024-12-01T21:34:36.854344Z",
     "shell.execute_reply": "2024-12-01T21:34:36.853624Z",
     "shell.execute_reply.started": "2024-12-01T21:34:33.513399Z"
    }
   },
   "outputs": [],
   "source": [
    "from mphelper import ProcessWrapPool\n",
    "import pandas as pd\n",
    "import matplotlib.pyplot as plt\n",
    "import numpy as np\n",
    "import itertools\n",
    "import biodataplot.metaplot as bpm\n",
    "from biodata.bigwig import BigWigIReader\n",
    "from biodata.bed import BEDXReader\n",
    "from genomictools import GenomicCollection\n",
    "import json"
   ]
  },
  {
   "cell_type": "code",
   "execution_count": 2,
   "id": "fd9d462f-6eb0-41fb-9c0f-e08095452cfb",
   "metadata": {
    "execution": {
     "iopub.execute_input": "2024-12-01T21:36:15.672549Z",
     "iopub.status.busy": "2024-12-01T21:36:15.667521Z",
     "iopub.status.idle": "2024-12-01T21:36:15.704237Z",
     "shell.execute_reply": "2024-12-01T21:36:15.703621Z",
     "shell.execute_reply.started": "2024-12-01T21:36:15.672510Z"
    }
   },
   "outputs": [],
   "source": [
    "import sys\n",
    "from pathlib import Path\n",
    "sys.path.append(str(Path.cwd().parent))\n",
    "import utils"
   ]
  },
  {
   "cell_type": "code",
   "execution_count": 3,
   "id": "58ec3928-b042-4b4c-8d82-67158132cb98",
   "metadata": {
    "execution": {
     "iopub.execute_input": "2024-12-01T21:36:15.888796Z",
     "iopub.status.busy": "2024-12-01T21:36:15.888349Z",
     "iopub.status.idle": "2024-12-01T21:36:17.016495Z",
     "shell.execute_reply": "2024-12-01T21:36:17.015800Z",
     "shell.execute_reply.started": "2024-12-01T21:36:15.888769Z"
    },
    "scrolled": true
   },
   "outputs": [],
   "source": [
    "import matplotlib\n",
    "font_dir = Path.cwd().parent / \"font\"\n",
    "for font in [\"Arial.ttf\", \"Arial_Bold.ttf\"]:\n",
    "    matplotlib.font_manager.fontManager.addfont(font_dir / font)\n",
    "matplotlib.rcParams[\"font.family\"] = \"Arial\"\n",
    "bfontsize = 12\n",
    "sfontsize = 9"
   ]
  },
  {
   "cell_type": "code",
   "execution_count": 4,
   "id": "3a02941b-44fb-4ae3-aa1f-6a6366d81611",
   "metadata": {
    "execution": {
     "iopub.execute_input": "2024-12-01T21:36:17.017827Z",
     "iopub.status.busy": "2024-12-01T21:36:17.017521Z",
     "iopub.status.idle": "2024-12-01T21:36:18.499708Z",
     "shell.execute_reply": "2024-12-01T21:36:18.498957Z",
     "shell.execute_reply.started": "2024-12-01T21:36:17.017803Z"
    },
    "tags": []
   },
   "outputs": [],
   "source": [
    "PROJECT_DIR_d = \"/fs/cbsuhy02/storage/yc2553/yc2553/projects/TRE_directionality/PROcap/\"\n",
    "PROJECT_DIR_r = \"/fs/cbsuhy02/storage/yc2553/yc2553/projects/TRE_directionality/resources/\"\n",
    "PROJECT_DIR_o = \"/fs/cbsuhy02/storage/yc2553/yc2553/projects/TRE_directionality/output/\""
   ]
  },
  {
   "cell_type": "markdown",
   "id": "d0406638-edd1-4e9c-9b65-b1b3f040adc2",
   "metadata": {},
   "source": [
    "# Generate feature matrix"
   ]
  },
  {
   "cell_type": "markdown",
   "id": "b0bc6b6c-b595-4b81-b072-e213058a04d6",
   "metadata": {},
   "source": [
    "## Get individual matrix"
   ]
  },
  {
   "cell_type": "code",
   "execution_count": 5,
   "id": "fd2c3b8c-85e1-4d6b-bf11-dc3b25c8f35c",
   "metadata": {
    "execution": {
     "iopub.execute_input": "2024-12-01T21:36:18.501016Z",
     "iopub.status.busy": "2024-12-01T21:36:18.500722Z",
     "iopub.status.idle": "2024-12-01T21:36:19.787908Z",
     "shell.execute_reply": "2024-12-01T21:36:19.785884Z",
     "shell.execute_reply.started": "2024-12-01T21:36:18.500995Z"
    }
   },
   "outputs": [],
   "source": [
    "s = \"HCT116\"\n",
    "ps = [\"divergent\", \"unidirectional\"]\n",
    "ds = [\"distal\", \"proximal\"]\n",
    "gs = [f\"{p}_{d}\" for p, d in itertools.product(ps, ds)]\n",
    "t = \"minTSS\"\n",
    "labels = [\"Up\", \"Unchanged\"]"
   ]
  },
  {
   "cell_type": "code",
   "execution_count": 6,
   "id": "72c549ba-2f8e-4d41-88e7-1006f2c9ac18",
   "metadata": {
    "execution": {
     "iopub.execute_input": "2024-12-01T21:36:19.788868Z",
     "iopub.status.busy": "2024-12-01T21:36:19.788642Z",
     "iopub.status.idle": "2024-12-01T21:36:21.031761Z",
     "shell.execute_reply": "2024-12-01T21:36:21.031119Z",
     "shell.execute_reply.started": "2024-12-01T21:36:19.788846Z"
    }
   },
   "outputs": [],
   "source": [
    "bws = {\"CTCF\": f\"{PROJECT_DIR_r}ENCODE/ENCFF388PVO.bigWig\",\n",
    "\t   \"RAD21\": f\"{PROJECT_DIR_r}ENCODE/ENCFF776IXR.bigWig\"\n",
    "\t\t}\n",
    "ms = list(bws.keys())"
   ]
  },
  {
   "cell_type": "code",
   "execution_count": 7,
   "id": "89e65c1a-8e9f-434a-91ac-6dd777bd63c8",
   "metadata": {
    "execution": {
     "iopub.execute_input": "2024-12-01T21:36:21.033370Z",
     "iopub.status.busy": "2024-12-01T21:36:21.033043Z",
     "iopub.status.idle": "2024-12-01T21:36:47.796005Z",
     "shell.execute_reply": "2024-12-01T21:36:47.791128Z",
     "shell.execute_reply.started": "2024-12-01T21:36:21.033350Z"
    },
    "scrolled": true
   },
   "outputs": [],
   "source": [
    "df_features = {}\n",
    "use_strand = True\n",
    "for g in gs:\n",
    "\tbed = f\"{PROJECT_DIR_d}bed_plot/{s}_{g}.bed\"\n",
    "\tall_regions = BEDXReader.read_all(GenomicCollection, bed, strandfield=\"f7\")\n",
    "\tindex = [f\"{r.chrom}_{r.chromStart}_{r.chromEnd}\" for r in all_regions]\n",
    "\tfor m in bws:\n",
    "\t\tdf_features[(m,g)] = pd.DataFrame(bpm.generate_signal_profile(all_regions, BigWigIReader(bws[m]), fixed_size=1001, use_strand=use_strand), index=index)"
   ]
  },
  {
   "cell_type": "code",
   "execution_count": 8,
   "id": "cf86b9ea-59a4-4fcf-b30a-803d872feb5a",
   "metadata": {
    "execution": {
     "iopub.execute_input": "2024-12-01T21:36:47.798850Z",
     "iopub.status.busy": "2024-12-01T21:36:47.798305Z",
     "iopub.status.idle": "2024-12-01T21:36:50.090263Z",
     "shell.execute_reply": "2024-12-01T21:36:50.088234Z",
     "shell.execute_reply.started": "2024-12-01T21:36:47.798827Z"
    }
   },
   "outputs": [],
   "source": [
    "df_reformat = {}\n",
    "for k in df_features:\n",
    "\tdf = df_features[k].reset_index()\n",
    "\tdf_reformat[k] = pd.melt(df,\n",
    "\t\t\t\t\t\t  id_vars=\"index\",\n",
    "\t\t\t\t\t\t  value_vars=list(df.columns[1:]),\n",
    "\t\t\t\t\t\t  var_name=\"Position\",\n",
    "\t\t\t\t\t\t  value_name=\"Feature\"\n",
    "\t\t\t\t\t\t  )"
   ]
  },
  {
   "cell_type": "markdown",
   "id": "b3bc299c-c620-4bc3-a5b3-a18ad84f85ac",
   "metadata": {},
   "source": [
    "## Combine dataframes for plotting"
   ]
  },
  {
   "cell_type": "code",
   "execution_count": 9,
   "id": "3ffc7899-21ab-4e84-95ea-1aded6fe076d",
   "metadata": {
    "execution": {
     "iopub.execute_input": "2024-12-01T21:38:10.219275Z",
     "iopub.status.busy": "2024-12-01T21:38:10.218348Z",
     "iopub.status.idle": "2024-12-01T21:38:10.241993Z",
     "shell.execute_reply": "2024-12-01T21:38:10.241036Z",
     "shell.execute_reply.started": "2024-12-01T21:38:10.219250Z"
    }
   },
   "outputs": [],
   "source": [
    "inputfile = f\"{PROJECT_DIR_o}labels/{s}_CTCF_ChIP.json\"\n",
    "with open(inputfile, \"r\") as f:\n",
    "\tbinding_labels = json.load(f)"
   ]
  },
  {
   "cell_type": "code",
   "execution_count": 10,
   "id": "aa83aac8-e1cf-4527-a8bf-d104a86886ff",
   "metadata": {
    "execution": {
     "iopub.execute_input": "2024-12-01T21:38:10.548766Z",
     "iopub.status.busy": "2024-12-01T21:38:10.548447Z",
     "iopub.status.idle": "2024-12-01T21:38:11.611019Z",
     "shell.execute_reply": "2024-12-01T21:38:11.608145Z",
     "shell.execute_reply.started": "2024-12-01T21:38:10.548746Z"
    }
   },
   "outputs": [],
   "source": [
    "inputfile = f\"{PROJECT_DIR_o}labels/{s}_CTCF_DE.json\"\n",
    "with open(inputfile, \"r\") as f:\n",
    "\tDE_labels = json.load(f)"
   ]
  },
  {
   "cell_type": "code",
   "execution_count": 11,
   "id": "02c15d76-678e-4980-816b-62fc45d81141",
   "metadata": {
    "execution": {
     "iopub.execute_input": "2024-12-01T21:38:11.615635Z",
     "iopub.status.busy": "2024-12-01T21:38:11.614890Z",
     "iopub.status.idle": "2024-12-01T21:38:13.085196Z",
     "shell.execute_reply": "2024-12-01T21:38:13.083243Z",
     "shell.execute_reply.started": "2024-12-01T21:38:11.615600Z"
    },
    "scrolled": true
   },
   "outputs": [],
   "source": [
    "df_heatmaps = {}\n",
    "for m, d in itertools.product(ms, ds):\n",
    "\tfor label in labels:\n",
    "\t\tdfs = []\n",
    "\t\tfor p in ps:\n",
    "\t\t\tdf = df_features[(m,f\"{p}_{d}\")]\n",
    "\t\t\tfiltered_df = df[df.index.isin([k for k, v in binding_labels.items() if v == \"CTCF binding\"]) &\n",
    "\t\t\t\t\t\t     df.index.isin([k for k, v in DE_labels[t].items() if v == label])\n",
    "\t\t\t\t\t\t\t]\n",
    "\t\t\tdfs.append(filtered_df)\n",
    "\t\tdf_heatmaps[(m,d,label)] = pd.concat(dfs)"
   ]
  },
  {
   "cell_type": "code",
   "execution_count": 12,
   "id": "59bc5645-8216-471f-a762-f01ba7828eb1",
   "metadata": {
    "execution": {
     "iopub.execute_input": "2024-12-01T21:38:13.087313Z",
     "iopub.status.busy": "2024-12-01T21:38:13.087042Z",
     "iopub.status.idle": "2024-12-01T21:38:21.256444Z",
     "shell.execute_reply": "2024-12-01T21:38:21.254876Z",
     "shell.execute_reply.started": "2024-12-01T21:38:13.087292Z"
    }
   },
   "outputs": [],
   "source": [
    "df_metaplots = {}\n",
    "for m, d in itertools.product(ms, ds):\n",
    "\tdfs = []\n",
    "\tfor label in labels:\n",
    "\t\tfor p in ps:\n",
    "\t\t\tdf = df_reformat[(m,f\"{p}_{d}\")]\n",
    "\t\t\tfiltered_df = df[df[\"index\"].isin([k for k, v in binding_labels.items() if v == \"CTCF binding\"]) &\n",
    "\t\t\t\t\t\t     df[\"index\"].isin([k for k, v in DE_labels[t].items() if v == label])\n",
    "\t\t\t\t\t\t\t].copy()\n",
    "\t\t\tfiltered_df[\"Label\"] = label\n",
    "\t\t\tdfs.append(filtered_df)\n",
    "\tdf_metaplots[(m,d)] = pd.concat(dfs).reset_index(drop=True)"
   ]
  },
  {
   "cell_type": "markdown",
   "id": "06685bcf-4133-40b1-80b9-2e2dc6c4859d",
   "metadata": {},
   "source": [
    "# Up vs. unchanged"
   ]
  },
  {
   "cell_type": "markdown",
   "id": "311a343d-fe66-4b1f-9fd3-afdbcd876b3f",
   "metadata": {},
   "source": [
    "## Settings"
   ]
  },
  {
   "cell_type": "code",
   "execution_count": 13,
   "id": "cf77a87d-9272-4bba-8216-053c60c0d493",
   "metadata": {
    "execution": {
     "iopub.execute_input": "2024-12-01T21:38:21.257885Z",
     "iopub.status.busy": "2024-12-01T21:38:21.257617Z",
     "iopub.status.idle": "2024-12-01T21:38:23.130977Z",
     "shell.execute_reply": "2024-12-01T21:38:23.130382Z",
     "shell.execute_reply.started": "2024-12-01T21:38:21.257866Z"
    }
   },
   "outputs": [
    {
     "name": "stdout",
     "output_type": "stream",
     "text": [
      "distal CTCF 73.97304311394691 1.5713288303779598\n",
      "proximal CTCF 63.64774284579537 1.919783892011956\n",
      "distal RAD21 6.401952110947325 0.5282060103490949\n",
      "proximal RAD21 3.8493831370477425 0.5395014392437808\n"
     ]
    }
   ],
   "source": [
    "for m, d in itertools.product(ms, ds):\n",
    "\tmaxs = []\n",
    "\tmins = []\n",
    "\tdf = df_metaplots[(m,d)]\n",
    "\tfor label in labels:\n",
    "\t\tmaxs.append(df[df[\"Label\"]==label].groupby(\"Position\")[\"Feature\"].mean().max())\n",
    "\t\tmins.append(df[df[\"Label\"]==label].groupby(\"Position\")[\"Feature\"].mean().min())\n",
    "\tprint(d, m, max(maxs), min(mins))"
   ]
  },
  {
   "cell_type": "markdown",
   "id": "b8edd7da-babc-4d85-a1f5-04bd0245b198",
   "metadata": {},
   "source": [
    "## Metaplots & heatmaps"
   ]
  },
  {
   "cell_type": "code",
   "execution_count": 14,
   "id": "075d9294-f9e5-4dca-a6b6-532424189865",
   "metadata": {
    "execution": {
     "iopub.execute_input": "2024-12-01T21:38:23.132078Z",
     "iopub.status.busy": "2024-12-01T21:38:23.131761Z",
     "iopub.status.idle": "2024-12-01T21:38:23.143647Z",
     "shell.execute_reply": "2024-12-01T21:38:23.143014Z",
     "shell.execute_reply.started": "2024-12-01T21:38:23.132054Z"
    }
   },
   "outputs": [],
   "source": [
    "def generate_metaplot_and_heatmap(d, ps, ms, df_metaplots, df_heatmaps, sort_file, ylims, yticks, cmap, outputfile, test, xlabel=\"Distance (kb)\"):\n",
    "\theight_ratios = [5,5,5,0.8,1]\n",
    "\tfig, axes = plt.subplots(len(height_ratios), len(ms), figsize=(3.5, 5), gridspec_kw={'height_ratios': height_ratios})\n",
    "\tfor col in range(len(ms)):\n",
    "\t\taxes[3,col].axis(\"off\")\n",
    "\tlabelpad = 2\n",
    "\ty_align = -0.25\n",
    "\twspace = 0.3\n",
    "\thspace = 0.3\n",
    "\n",
    "\thue_order = [\"Up\", \"Unchanged\"]\n",
    "\tpalette = [\"#feb24c\", \"#d9d9d9\"]\n",
    "\t\n",
    "\tfor m in ms:\n",
    "\t\tcol = ms.index(m)\n",
    "\t\tfor row in range(3):\n",
    "\t\t\tax = axes[row, col]\n",
    "\t\t\t# Metaplot\n",
    "\t\t\tif row == 0:\n",
    "\t\t\t\tutils.generate_feature_metaplot(df_metaplots[(m,d)], palette, hue_order, ax, test)\n",
    "\t\t\t\t\n",
    "\t\t\t\tax.set_ylim(ylims[ms.index(m)])\n",
    "\t\t\t\tax.set_yticks(yticks[ms.index(m)])\n",
    "\t\t\t\tif col == 0:\n",
    "\t\t\t\t\tax.set_ylabel(\"ChIP-seq\", fontsize=bfontsize, fontweight=\"bold\")\n",
    "\t\t\t\t\tax.get_yaxis().set_label_coords(y_align, 0.5)\n",
    "\t\t\t\telse:\n",
    "\t\t\t\t\tax.set_ylabel(\"\")\n",
    "\n",
    "\t\t\t\tif col == 0:\n",
    "\t\t\t\t\tax.legend(loc=\"upper center\", bbox_to_anchor=(1.1, 1.6), ncol=len(hue_order), fontsize=sfontsize)\n",
    "\t\t\t\telse:\n",
    "\t\t\t\t\tax.legend([],[], frameon=False)\n",
    "\t\t\t\t\t\n",
    "\t\t\t# Heatmap\n",
    "\t\t\telse:\n",
    "\t\t\t\tif row == 2:\n",
    "\t\t\t\t\tcbar = True\n",
    "\t\t\t\t\tcbar_ax = axes[4, col]\n",
    "\t\t\t\telse:\n",
    "\t\t\t\t\tcbar = False\n",
    "\t\t\t\t\tcbar_ax = None\t\t\n",
    "\t\t\t\tcbar_kws = {\"ticks\": yticks[ms.index(m)], \"orientation\": \"horizontal\"}\n",
    "\n",
    "\t\t\t\tutils.generate_feature_heatmap(df_heatmaps[(m,d,labels[row-1])], yticks[ms.index(m)], cmap, cbar, cbar_ax, cbar_kws, ax, sort_file, test)\n",
    "\t\t\t\t\n",
    "\t\t\t\tif row == 2:\n",
    "\t\t\t\t\tcbar_ax.set_xticklabels(yticks[ms.index(m)])\n",
    "\t\t\t\t\tcbar_ax.tick_params(axis=\"x\", labelsize=sfontsize, pad=labelpad)\n",
    "\n",
    "\t\t\t\tif col == 0:\n",
    "\t\t\t\t\tylabel = f\"{hue_order[row-1]}\\n(n={len(df_heatmaps[(m,d,labels[row-1])])})\"\n",
    "\t\t\t\t\tax.set_ylabel(ylabel, fontsize=bfontsize, fontweight=\"bold\")\n",
    "\t\t\t\t\tax.get_yaxis().set_label_coords(y_align/3, 0.5)\n",
    "\t\t\t\telse:\n",
    "\t\t\t\t\tax.set_ylabel(\"\")\n",
    "\t\t\t\t\n",
    "\t\t\tif row == 0:\n",
    "\t\t\t\tax.set_title(m, fontsize=bfontsize, pad=5, fontweight=\"bold\")\n",
    "\t\t\n",
    "\t\t\txtick_list = [0,500,1000]\n",
    "\t\t\txticklabel_list = [\"-0.5\", \"0\", \"0.5\"]\n",
    "\t\t\tax.set_xlim([0, 1000])\n",
    "\t\t\tax.set_xticks(xtick_list)\n",
    "\t\t\tif row == 2:\n",
    "\t\t\t\tax.set_xticklabels(xticklabel_list)\n",
    "\t\t\t\tax.set_xlabel(xlabel, fontsize=bfontsize, fontweight=\"bold\")\n",
    "\t\t\telse:\n",
    "\t\t\t\tax.set_xticklabels([])\n",
    "\t\t\t\tax.set_xlabel(\"\")\n",
    "\n",
    "\t\t\tax.tick_params(labelsize=sfontsize, pad=labelpad)\n",
    "\n",
    "\tfig.subplots_adjust(wspace=wspace, hspace=hspace)\n",
    "\tplt.savefig(outputfile, bbox_inches=\"tight\", dpi=300) "
   ]
  },
  {
   "cell_type": "code",
   "execution_count": 15,
   "id": "1a0bb4a3-b40d-4f23-9d03-6a2cb940f112",
   "metadata": {
    "execution": {
     "iopub.execute_input": "2024-12-01T21:38:23.144462Z",
     "iopub.status.busy": "2024-12-01T21:38:23.144226Z",
     "iopub.status.idle": "2024-12-01T21:38:24.525217Z",
     "shell.execute_reply": "2024-12-01T21:38:24.524633Z",
     "shell.execute_reply.started": "2024-12-01T21:38:23.144444Z"
    },
    "scrolled": true,
    "tags": []
   },
   "outputs": [],
   "source": [
    "pwpool = ProcessWrapPool(len(ds))\n",
    "\n",
    "# test = True\n",
    "test = False\n",
    "cmap = \"viridis\"\n",
    "sort_file = f\"{PROJECT_DIR_o}labels/{s}_CTCF_sum.json\"\n",
    "for d in ds:\n",
    "\tif d == \"distal\":\n",
    "\t\tylims = [[-10, 100], [-1, 10], [-1, 10]]\n",
    "\t\tyticks = [[0, 30, 60, 90], [0, 3, 6, 9], [0, 3, 6, 9]]\n",
    "\telse:\n",
    "\t\tylims = [[-10, 100], [-1, 7], [-2, 14]]\n",
    "\t\tyticks = [[0, 30, 60, 90], [0, 2, 4, 6], [0, 4, 8, 12]]\n",
    "\tfolder = \"supp_figures/\" if d == \"distal\" else \"other_figures/\"\n",
    "\toutputfile = f\"{PROJECT_DIR_o}{folder}SuppFig7e.png\"\n",
    "\tpwpool.run(generate_metaplot_and_heatmap, args=[d, ps, ms, df_metaplots, df_heatmaps, sort_file, ylims, yticks, cmap, outputfile, test])"
   ]
  },
  {
   "cell_type": "code",
   "execution_count": 18,
   "id": "09232c2b-3de9-4133-bf18-af2cadc21694",
   "metadata": {
    "execution": {
     "iopub.execute_input": "2024-12-01T21:42:20.522855Z",
     "iopub.status.busy": "2024-12-01T21:42:20.520704Z",
     "iopub.status.idle": "2024-12-01T21:42:20.558809Z",
     "shell.execute_reply": "2024-12-01T21:42:20.558306Z",
     "shell.execute_reply.started": "2024-12-01T21:42:20.522826Z"
    },
    "tags": []
   },
   "outputs": [
    {
     "data": {
      "text/plain": [
       "2"
      ]
     },
     "execution_count": 18,
     "metadata": {},
     "output_type": "execute_result"
    }
   ],
   "source": [
    "len(pwpool.finished_tasks)"
   ]
  },
  {
   "cell_type": "code",
   "execution_count": 19,
   "id": "f6e22ac9-b874-42f5-88d0-13dbeaa94b92",
   "metadata": {
    "execution": {
     "iopub.execute_input": "2024-12-01T21:42:21.115126Z",
     "iopub.status.busy": "2024-12-01T21:42:21.114782Z",
     "iopub.status.idle": "2024-12-01T21:42:21.686648Z",
     "shell.execute_reply": "2024-12-01T21:42:21.686080Z",
     "shell.execute_reply.started": "2024-12-01T21:42:21.115105Z"
    }
   },
   "outputs": [],
   "source": [
    "pwpool.close()"
   ]
  },
  {
   "cell_type": "code",
   "execution_count": null,
   "id": "aed61c9d-aaf0-49ae-8755-dc735d9fcc83",
   "metadata": {},
   "outputs": [],
   "source": []
  }
 ],
 "metadata": {
  "kernelspec": {
   "display_name": "Python 3 (ipykernel)",
   "language": "python",
   "name": "python3"
  },
  "language_info": {
   "codemirror_mode": {
    "name": "ipython",
    "version": 3
   },
   "file_extension": ".py",
   "mimetype": "text/x-python",
   "name": "python",
   "nbconvert_exporter": "python",
   "pygments_lexer": "ipython3",
   "version": "3.10.8"
  }
 },
 "nbformat": 4,
 "nbformat_minor": 5
}

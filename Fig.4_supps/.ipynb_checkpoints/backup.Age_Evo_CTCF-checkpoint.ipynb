{
 "cells": [
  {
   "cell_type": "code",
   "execution_count": 32,
   "id": "d0785164-21b2-4f11-84de-dbcb0c0db2b3",
   "metadata": {
    "execution": {
     "iopub.execute_input": "2024-08-29T03:01:43.842680Z",
     "iopub.status.busy": "2024-08-29T03:01:43.842168Z",
     "iopub.status.idle": "2024-08-29T03:01:50.824650Z",
     "shell.execute_reply": "2024-08-29T03:01:50.823463Z",
     "shell.execute_reply.started": "2024-08-29T03:01:43.842656Z"
    }
   },
   "outputs": [],
   "source": [
    "import glob\n",
    "from mphelper import ProcessWrapPool\n",
    "import subprocess\n",
    "import pandas as pd\n",
    "from biodata.delimited import DelimitedReader, DelimitedWriter\n",
    "import json\n",
    "import matplotlib.pyplot as plt\n",
    "import numpy as np\n",
    "from scipy.stats import mannwhitneyu\n",
    "from collections import defaultdict\n",
    "import pybedtools"
   ]
  },
  {
   "cell_type": "code",
   "execution_count": 2,
   "id": "6f4f5ef6-fd04-4ea7-b533-8c64285d42dc",
   "metadata": {
    "execution": {
     "iopub.execute_input": "2024-08-29T01:55:54.734506Z",
     "iopub.status.busy": "2024-08-29T01:55:54.733855Z",
     "iopub.status.idle": "2024-08-29T01:55:54.738577Z",
     "shell.execute_reply": "2024-08-29T01:55:54.737861Z",
     "shell.execute_reply.started": "2024-08-29T01:55:54.734480Z"
    },
    "tags": []
   },
   "outputs": [],
   "source": [
    "PROJECT_DIR_s = \"/home/yc2553/projects/TRE_directionality/codes/\"\n",
    "PROJECT_DIR_r = \"/home/yc2553/projects/TRE_directionality/Resources/\"\n",
    "PROJECT_DIR_d = \"/home/yc2553/projects/TRE_directionality/PROcap/\"\n",
    "PROJECT_DIR_d2 = \"/fs/cbsuhy02/storage/yc2553/yc2553/databases/\"\n",
    "PROJECT_DIR_o = \"/home/yc2553/projects/TRE_directionality/output/\""
   ]
  },
  {
   "cell_type": "code",
   "execution_count": 3,
   "id": "f1c3ecb7-756d-4fb6-a73d-f260af385537",
   "metadata": {
    "execution": {
     "iopub.execute_input": "2024-08-29T01:55:54.739795Z",
     "iopub.status.busy": "2024-08-29T01:55:54.739478Z",
     "iopub.status.idle": "2024-08-29T01:55:56.017554Z",
     "shell.execute_reply": "2024-08-29T01:55:56.015858Z",
     "shell.execute_reply.started": "2024-08-29T01:55:54.739775Z"
    }
   },
   "outputs": [],
   "source": [
    "import sys\n",
    "sys.path.append(PROJECT_DIR_s)"
   ]
  },
  {
   "cell_type": "code",
   "execution_count": 4,
   "id": "4992f562-8fd9-4a5a-9990-9c7408dad3ef",
   "metadata": {
    "execution": {
     "iopub.execute_input": "2024-08-29T01:55:56.020466Z",
     "iopub.status.busy": "2024-08-29T01:55:56.019712Z",
     "iopub.status.idle": "2024-08-29T01:55:57.172952Z",
     "shell.execute_reply": "2024-08-29T01:55:57.172095Z",
     "shell.execute_reply.started": "2024-08-29T01:55:56.020405Z"
    }
   },
   "outputs": [
    {
     "data": {
      "text/plain": [
       "<module 'utils' from '/home/yc2553/projects/TRE_directionality/codes/utils.py'>"
      ]
     },
     "execution_count": 4,
     "metadata": {},
     "output_type": "execute_result"
    }
   ],
   "source": [
    "import importlib\n",
    "import utils\n",
    "importlib.reload(utils)"
   ]
  },
  {
   "cell_type": "markdown",
   "id": "bd83d5c6-2ce2-4b62-a949-e2247de2d5e7",
   "metadata": {},
   "source": [
    "# 1. Assign sequence age"
   ]
  },
  {
   "cell_type": "code",
   "execution_count": 7,
   "id": "4199eb10-eb8f-4691-8775-12c61d13d6da",
   "metadata": {
    "execution": {
     "iopub.execute_input": "2024-08-29T02:47:38.007242Z",
     "iopub.status.busy": "2024-08-29T02:47:38.006960Z",
     "iopub.status.idle": "2024-08-29T02:47:38.011377Z",
     "shell.execute_reply": "2024-08-29T02:47:38.010698Z",
     "shell.execute_reply.started": "2024-08-29T02:47:38.007220Z"
    }
   },
   "outputs": [],
   "source": [
    "s = \"HCT116\"\n",
    "ds = [\"distal\", \"proximal\"]"
   ]
  },
  {
   "cell_type": "code",
   "execution_count": 8,
   "id": "3b5af962-38bf-4e52-8675-638231597d19",
   "metadata": {
    "execution": {
     "iopub.execute_input": "2024-08-29T02:47:38.690889Z",
     "iopub.status.busy": "2024-08-29T02:47:38.690479Z",
     "iopub.status.idle": "2024-08-29T02:47:39.066749Z",
     "shell.execute_reply": "2024-08-29T02:47:39.066072Z",
     "shell.execute_reply.started": "2024-08-29T02:47:38.690868Z"
    }
   },
   "outputs": [
    {
     "data": {
      "text/html": [
       "<div>\n",
       "<style scoped>\n",
       "    .dataframe tbody tr th:only-of-type {\n",
       "        vertical-align: middle;\n",
       "    }\n",
       "\n",
       "    .dataframe tbody tr th {\n",
       "        vertical-align: top;\n",
       "    }\n",
       "\n",
       "    .dataframe thead th {\n",
       "        text-align: right;\n",
       "    }\n",
       "</style>\n",
       "<table border=\"1\" class=\"dataframe\">\n",
       "  <thead>\n",
       "    <tr style=\"text-align: right;\">\n",
       "      <th></th>\n",
       "      <th>Element</th>\n",
       "      <th>Label</th>\n",
       "    </tr>\n",
       "  </thead>\n",
       "  <tbody>\n",
       "    <tr>\n",
       "      <th>0</th>\n",
       "      <td>('chr1', '998929', '999173')</td>\n",
       "      <td>No CTCF binding</td>\n",
       "    </tr>\n",
       "    <tr>\n",
       "      <th>1</th>\n",
       "      <td>('chr1', '1006383', '1006639')</td>\n",
       "      <td>No CTCF binding</td>\n",
       "    </tr>\n",
       "  </tbody>\n",
       "</table>\n",
       "</div>"
      ],
      "text/plain": [
       "                          Element            Label\n",
       "0    ('chr1', '998929', '999173')  No CTCF binding\n",
       "1  ('chr1', '1006383', '1006639')  No CTCF binding"
      ]
     },
     "execution_count": 8,
     "metadata": {},
     "output_type": "execute_result"
    }
   ],
   "source": [
    "inputfile = PROJECT_DIR_o + \"labels/\" + \"_\".join([s, \"CTCF_binary\"]) + \".txt\"\n",
    "df_binding = pd.read_table(inputfile)\n",
    "df_binding.head(2)"
   ]
  },
  {
   "cell_type": "code",
   "execution_count": 9,
   "id": "8063df87-cbc6-44f3-b72a-ec44c65780c0",
   "metadata": {
    "execution": {
     "iopub.execute_input": "2024-08-29T02:47:39.249433Z",
     "iopub.status.busy": "2024-08-29T02:47:39.248803Z",
     "iopub.status.idle": "2024-08-29T02:47:40.448770Z",
     "shell.execute_reply": "2024-08-29T02:47:40.448152Z",
     "shell.execute_reply.started": "2024-08-29T02:47:39.249375Z"
    }
   },
   "outputs": [
    {
     "data": {
      "text/html": [
       "<div>\n",
       "<style scoped>\n",
       "    .dataframe tbody tr th:only-of-type {\n",
       "        vertical-align: middle;\n",
       "    }\n",
       "\n",
       "    .dataframe tbody tr th {\n",
       "        vertical-align: top;\n",
       "    }\n",
       "\n",
       "    .dataframe thead th {\n",
       "        text-align: right;\n",
       "    }\n",
       "</style>\n",
       "<table border=\"1\" class=\"dataframe\">\n",
       "  <thead>\n",
       "    <tr style=\"text-align: right;\">\n",
       "      <th></th>\n",
       "      <th>Element</th>\n",
       "      <th>Label</th>\n",
       "      <th>Side</th>\n",
       "      <th>Group</th>\n",
       "    </tr>\n",
       "  </thead>\n",
       "  <tbody>\n",
       "    <tr>\n",
       "      <th>0</th>\n",
       "      <td>('chr1', '998929', '999173')</td>\n",
       "      <td>Unchanged</td>\n",
       "      <td>maximum</td>\n",
       "      <td>divergent_distal</td>\n",
       "    </tr>\n",
       "    <tr>\n",
       "      <th>1</th>\n",
       "      <td>('chr1', '1006383', '1006639')</td>\n",
       "      <td>Unchanged</td>\n",
       "      <td>maximum</td>\n",
       "      <td>divergent_distal</td>\n",
       "    </tr>\n",
       "  </tbody>\n",
       "</table>\n",
       "</div>"
      ],
      "text/plain": [
       "                          Element      Label     Side             Group\n",
       "0    ('chr1', '998929', '999173')  Unchanged  maximum  divergent_distal\n",
       "1  ('chr1', '1006383', '1006639')  Unchanged  maximum  divergent_distal"
      ]
     },
     "execution_count": 9,
     "metadata": {},
     "output_type": "execute_result"
    }
   ],
   "source": [
    "inputfile = PROJECT_DIR_o + \"labels/\" + \"_\".join([s, \"CTCF_degron\"]) + \".txt\"\n",
    "df_degron = pd.read_table(inputfile)\n",
    "df_degron.head(2)"
   ]
  },
  {
   "cell_type": "code",
   "execution_count": 10,
   "id": "15facfc9-6315-484a-83e9-d362d8788a78",
   "metadata": {
    "execution": {
     "iopub.execute_input": "2024-08-29T02:48:13.352953Z",
     "iopub.status.busy": "2024-08-29T02:48:13.352163Z",
     "iopub.status.idle": "2024-08-29T02:48:13.384907Z",
     "shell.execute_reply": "2024-08-29T02:48:13.384257Z",
     "shell.execute_reply.started": "2024-08-29T02:48:13.352889Z"
    }
   },
   "outputs": [
    {
     "data": {
      "text/html": [
       "<div>\n",
       "<style scoped>\n",
       "    .dataframe tbody tr th:only-of-type {\n",
       "        vertical-align: middle;\n",
       "    }\n",
       "\n",
       "    .dataframe tbody tr th {\n",
       "        vertical-align: top;\n",
       "    }\n",
       "\n",
       "    .dataframe thead th {\n",
       "        text-align: right;\n",
       "    }\n",
       "</style>\n",
       "<table border=\"1\" class=\"dataframe\">\n",
       "  <thead>\n",
       "    <tr style=\"text-align: right;\">\n",
       "      <th></th>\n",
       "      <th>Element</th>\n",
       "      <th>Label_x</th>\n",
       "      <th>Label_y</th>\n",
       "      <th>Side</th>\n",
       "      <th>Group</th>\n",
       "    </tr>\n",
       "  </thead>\n",
       "  <tbody>\n",
       "    <tr>\n",
       "      <th>0</th>\n",
       "      <td>('chr1', '998929', '999173')</td>\n",
       "      <td>No CTCF binding</td>\n",
       "      <td>Unchanged</td>\n",
       "      <td>maximum</td>\n",
       "      <td>divergent_distal</td>\n",
       "    </tr>\n",
       "    <tr>\n",
       "      <th>1</th>\n",
       "      <td>('chr1', '998929', '999173')</td>\n",
       "      <td>No CTCF binding</td>\n",
       "      <td>Unchanged</td>\n",
       "      <td>minimum</td>\n",
       "      <td>divergent_distal</td>\n",
       "    </tr>\n",
       "  </tbody>\n",
       "</table>\n",
       "</div>"
      ],
      "text/plain": [
       "                        Element          Label_x    Label_y     Side  \\\n",
       "0  ('chr1', '998929', '999173')  No CTCF binding  Unchanged  maximum   \n",
       "1  ('chr1', '998929', '999173')  No CTCF binding  Unchanged  minimum   \n",
       "\n",
       "              Group  \n",
       "0  divergent_distal  \n",
       "1  divergent_distal  "
      ]
     },
     "execution_count": 10,
     "metadata": {},
     "output_type": "execute_result"
    }
   ],
   "source": [
    "# Separate unidirectional elements into those show upregulation after CTCF loss vs. unchanged group\n",
    "\n",
    "df_label = df_binding.merge(df_degron, on=\"Element\")\n",
    "df_label.head(2)"
   ]
  },
  {
   "cell_type": "code",
   "execution_count": 27,
   "id": "6d1d8b0f-77bc-4d8f-ad43-d4168ab8aa76",
   "metadata": {
    "execution": {
     "iopub.execute_input": "2024-08-29T02:59:50.698305Z",
     "iopub.status.busy": "2024-08-29T02:59:50.697566Z",
     "iopub.status.idle": "2024-08-29T02:59:50.727560Z",
     "shell.execute_reply": "2024-08-29T02:59:50.726092Z",
     "shell.execute_reply.started": "2024-08-29T02:59:50.698245Z"
    }
   },
   "outputs": [],
   "source": [
    "t = \"minimum\"\n",
    "ls = [\"Up\", \"Unchanged\"]\n",
    "es_included = defaultdict(set)\n",
    "for l in ls:\n",
    "\tes = list(df_label[(df_label[\"Label_y\"]==l)  & (df_label[\"Side\"]==t)][\"Element\"])\n",
    "\tfor e in es:\n",
    "\t\tchrom, start, end = e[2:-1].split(\", \")\n",
    "\t\tchrom = chrom[:-1]\n",
    "\t\tstart = start[1:-1]\n",
    "\t\tend = end[1:-1]\n",
    "\t\tes_included[l].add((chrom, start, end))"
   ]
  },
  {
   "cell_type": "code",
   "execution_count": 40,
   "id": "4b4e4402-ff74-4b03-bebc-ddf1ae88cf37",
   "metadata": {
    "execution": {
     "iopub.execute_input": "2024-08-29T03:05:48.014480Z",
     "iopub.status.busy": "2024-08-29T03:05:48.014013Z",
     "iopub.status.idle": "2024-08-29T03:05:48.126527Z",
     "shell.execute_reply": "2024-08-29T03:05:48.125802Z",
     "shell.execute_reply.started": "2024-08-29T03:05:48.014457Z"
    }
   },
   "outputs": [
    {
     "name": "stdout",
     "output_type": "stream",
     "text": [
      "distal Up 43\n",
      "distal Unchanged 125\n",
      "proximal Up 16\n",
      "proximal Unchanged 48\n"
     ]
    }
   ],
   "source": [
    "p = \"unidirectional\"\n",
    "for d in ds:\n",
    "\tinputfile = PROJECT_DIR_d + \"bed_plot/\" + \"_\".join([s, p, d]) + \".bed\"\n",
    "\tfor l in ls:\n",
    "\t\toutputfile = PROJECT_DIR_d + \"bed_plot/\" + \"_\".join([s, p, l, d]) + \".bed\"\n",
    "\t\twith DelimitedWriter(outputfile) as dw:\n",
    "\t\t\twith DelimitedReader(inputfile) as dr:\n",
    "\t\t\t\tfor cols in dr:\n",
    "\t\t\t\t\tif (cols[0], cols[3], cols[4]) in es_included[l]:\n",
    "\t\t\t\t\t\tdw.write(cols)\n",
    "\t\tb = pybedtools.BedTool(outputfile)\n",
    "\t\tprint(d, l, len(b))"
   ]
  },
  {
   "cell_type": "code",
   "execution_count": 34,
   "id": "74d0905e-2ddf-4961-810b-5ae0be368ac3",
   "metadata": {
    "execution": {
     "iopub.execute_input": "2024-08-29T03:04:45.200906Z",
     "iopub.status.busy": "2024-08-29T03:04:45.200544Z",
     "iopub.status.idle": "2024-08-29T03:04:45.205326Z",
     "shell.execute_reply": "2024-08-29T03:04:45.204550Z",
     "shell.execute_reply.started": "2024-08-29T03:04:45.200882Z"
    }
   },
   "outputs": [],
   "source": [
    "ps = [\"divergent\", \"unidirectional_Up\", \"unidirectional_Unchanged\"]"
   ]
  },
  {
   "cell_type": "code",
   "execution_count": 41,
   "id": "474ccc77-a658-465a-a1c5-02478a1b3b85",
   "metadata": {
    "execution": {
     "iopub.execute_input": "2024-08-29T03:05:55.293132Z",
     "iopub.status.busy": "2024-08-29T03:05:55.292476Z",
     "iopub.status.idle": "2024-08-29T03:05:55.299381Z",
     "shell.execute_reply": "2024-08-29T03:05:55.298704Z",
     "shell.execute_reply.started": "2024-08-29T03:05:55.293103Z"
    },
    "tags": []
   },
   "outputs": [
    {
     "data": {
      "text/plain": [
       "6"
      ]
     },
     "execution_count": 41,
     "metadata": {},
     "output_type": "execute_result"
    }
   ],
   "source": [
    "#1 TRE/control files \n",
    "\n",
    "files1 = []\n",
    "for p in ps:\n",
    "\tfor d in ds:\n",
    "\t\tfiles1.append(PROJECT_DIR_d + \"bed_plot/\" + \"_\".join([s, p, d]) + \".bed\")\n",
    "len(files1)"
   ]
  },
  {
   "cell_type": "code",
   "execution_count": 36,
   "id": "4481a9ed-5bcb-4457-bbd8-ecec26943f8a",
   "metadata": {
    "execution": {
     "iopub.execute_input": "2024-08-29T03:05:04.987469Z",
     "iopub.status.busy": "2024-08-29T03:05:04.987126Z",
     "iopub.status.idle": "2024-08-29T03:05:06.169761Z",
     "shell.execute_reply": "2024-08-29T03:05:06.169196Z",
     "shell.execute_reply.started": "2024-08-29T03:05:04.987449Z"
    },
    "tags": []
   },
   "outputs": [
    {
     "data": {
      "text/plain": [
       "24"
      ]
     },
     "execution_count": 36,
     "metadata": {},
     "output_type": "execute_result"
    }
   ],
   "source": [
    "#2 Syntenic blocks\n",
    "\n",
    "files2 = glob.glob(PROJECT_DIR_d2 + \"UCSC/multiz100way/hg38/chr*.bed\")\n",
    "len(files2)"
   ]
  },
  {
   "cell_type": "code",
   "execution_count": 37,
   "id": "c6f9506d-bc77-491f-b343-983b7b5879af",
   "metadata": {
    "execution": {
     "iopub.execute_input": "2024-08-29T03:05:08.780035Z",
     "iopub.status.busy": "2024-08-29T03:05:08.779446Z",
     "iopub.status.idle": "2024-08-29T03:05:08.785522Z",
     "shell.execute_reply": "2024-08-29T03:05:08.784783Z",
     "shell.execute_reply.started": "2024-08-29T03:05:08.780005Z"
    },
    "tags": []
   },
   "outputs": [],
   "source": [
    "def intersect(fa, fb):\n",
    "\ttemp = PROJECT_DIR_o + \"temp/\" + fa.split(\"/\")[-1]\n",
    "\twith DelimitedWriter(temp) as dw:\n",
    "\t\twith DelimitedReader(fa) as dr:\n",
    "\t\t\tfor cols in dr:\n",
    "\t\t\t\tchrom, start, end = cols[:3]\n",
    "\t\t\t\tdw.write([chrom, int(start)-250, int(end)+250]+cols[3:])\n",
    "\toutputfile = temp.split(\".bed\")[0] + \".txt\"\n",
    "\tsubprocess.run(\"bedtools intersect -a \" + temp + \" -b \" + fb + \" -sorted -wao > \" + outputfile, shell=True)"
   ]
  },
  {
   "cell_type": "code",
   "execution_count": 70,
   "id": "93af1fa8-658c-4189-af21-f688b86ac56a",
   "metadata": {
    "execution": {
     "iopub.execute_input": "2024-08-29T03:14:43.247355Z",
     "iopub.status.busy": "2024-08-29T03:14:43.247061Z",
     "iopub.status.idle": "2024-08-29T03:14:43.296546Z",
     "shell.execute_reply": "2024-08-29T03:14:43.277866Z",
     "shell.execute_reply.started": "2024-08-29T03:14:43.247333Z"
    },
    "scrolled": true,
    "tags": []
   },
   "outputs": [],
   "source": [
    "pwpool = ProcessWrapPool(len(files1))\n",
    "\n",
    "fb = \" \".join(files2)\n",
    "for fa in files1:\n",
    "\tpwpool.run(intersect, args=[fa, fb])"
   ]
  },
  {
   "cell_type": "code",
   "execution_count": 72,
   "id": "d15b3252-3985-4beb-b4cf-21ca736bdb1d",
   "metadata": {
    "execution": {
     "iopub.execute_input": "2024-08-29T03:15:12.149340Z",
     "iopub.status.busy": "2024-08-29T03:15:12.148978Z",
     "iopub.status.idle": "2024-08-29T03:15:12.155891Z",
     "shell.execute_reply": "2024-08-29T03:15:12.154406Z",
     "shell.execute_reply.started": "2024-08-29T03:15:12.149317Z"
    },
    "tags": []
   },
   "outputs": [
    {
     "data": {
      "text/plain": [
       "6"
      ]
     },
     "execution_count": 72,
     "metadata": {},
     "output_type": "execute_result"
    }
   ],
   "source": [
    "len(pwpool.finished_tasks)"
   ]
  },
  {
   "cell_type": "code",
   "execution_count": 73,
   "id": "30f69082-e905-49ba-9409-5fbd819f7f7b",
   "metadata": {
    "execution": {
     "iopub.execute_input": "2024-08-29T03:15:12.979939Z",
     "iopub.status.busy": "2024-08-29T03:15:12.979559Z",
     "iopub.status.idle": "2024-08-29T03:15:18.089087Z",
     "shell.execute_reply": "2024-08-29T03:15:18.088291Z",
     "shell.execute_reply.started": "2024-08-29T03:15:12.979918Z"
    },
    "tags": []
   },
   "outputs": [],
   "source": [
    "pwpool.close()"
   ]
  },
  {
   "cell_type": "code",
   "execution_count": 74,
   "id": "66826d0e-2a4f-4a4c-8b16-823f0650f2fd",
   "metadata": {
    "execution": {
     "iopub.execute_input": "2024-08-29T03:15:18.091240Z",
     "iopub.status.busy": "2024-08-29T03:15:18.090901Z",
     "iopub.status.idle": "2024-08-29T03:15:25.832476Z",
     "shell.execute_reply": "2024-08-29T03:15:25.831604Z",
     "shell.execute_reply.started": "2024-08-29T03:15:18.091220Z"
    }
   },
   "outputs": [
    {
     "data": {
      "text/html": [
       "<div>\n",
       "<style scoped>\n",
       "    .dataframe tbody tr th:only-of-type {\n",
       "        vertical-align: middle;\n",
       "    }\n",
       "\n",
       "    .dataframe tbody tr th {\n",
       "        vertical-align: top;\n",
       "    }\n",
       "\n",
       "    .dataframe thead th {\n",
       "        text-align: right;\n",
       "    }\n",
       "</style>\n",
       "<table border=\"1\" class=\"dataframe\">\n",
       "  <thead>\n",
       "    <tr style=\"text-align: right;\">\n",
       "      <th></th>\n",
       "      <th>0</th>\n",
       "      <th>1</th>\n",
       "      <th>2</th>\n",
       "      <th>3</th>\n",
       "      <th>4</th>\n",
       "      <th>5</th>\n",
       "      <th>6</th>\n",
       "      <th>7</th>\n",
       "      <th>8</th>\n",
       "      <th>9</th>\n",
       "      <th>10</th>\n",
       "      <th>11</th>\n",
       "      <th>12</th>\n",
       "      <th>13</th>\n",
       "    </tr>\n",
       "  </thead>\n",
       "  <tbody>\n",
       "    <tr>\n",
       "      <th>0</th>\n",
       "      <td>chr1</td>\n",
       "      <td>998532</td>\n",
       "      <td>999532</td>\n",
       "      <td>998929</td>\n",
       "      <td>999173</td>\n",
       "      <td>998930</td>\n",
       "      <td>999134</td>\n",
       "      <td>+</td>\n",
       "      <td>1</td>\n",
       "      <td>chr1</td>\n",
       "      <td>998518</td>\n",
       "      <td>998545</td>\n",
       "      <td>Vertebrate</td>\n",
       "      <td>13</td>\n",
       "    </tr>\n",
       "    <tr>\n",
       "      <th>1</th>\n",
       "      <td>chr1</td>\n",
       "      <td>998532</td>\n",
       "      <td>999532</td>\n",
       "      <td>998929</td>\n",
       "      <td>999173</td>\n",
       "      <td>998930</td>\n",
       "      <td>999134</td>\n",
       "      <td>+</td>\n",
       "      <td>1</td>\n",
       "      <td>chr1</td>\n",
       "      <td>998545</td>\n",
       "      <td>998562</td>\n",
       "      <td>Vertebrate</td>\n",
       "      <td>17</td>\n",
       "    </tr>\n",
       "  </tbody>\n",
       "</table>\n",
       "</div>"
      ],
      "text/plain": [
       "     0       1       2       3       4       5       6  7   8     9       10  \\\n",
       "0  chr1  998532  999532  998929  999173  998930  999134  +   1  chr1  998518   \n",
       "1  chr1  998532  999532  998929  999173  998930  999134  +   1  chr1  998545   \n",
       "\n",
       "       11          12  13  \n",
       "0  998545  Vertebrate  13  \n",
       "1  998562  Vertebrate  17  "
      ]
     },
     "execution_count": 74,
     "metadata": {},
     "output_type": "execute_result"
    }
   ],
   "source": [
    "# Check the output\n",
    "\n",
    "inputfile = PROJECT_DIR_o + \"temp/\" + \"_\".join([s, p, d]) + \".txt\"\n",
    "df = pd.read_table(inputfile, header=None)\n",
    "df.head(2)"
   ]
  },
  {
   "cell_type": "markdown",
   "id": "1f7f3beb-b7bb-4ad1-8b7f-72e5eba10959",
   "metadata": {},
   "source": [
    "# 2. Generate feature matrix"
   ]
  },
  {
   "cell_type": "markdown",
   "id": "70d520f4-def7-44f9-b898-fe454e7c48ec",
   "metadata": {},
   "source": [
    "## 2.1 Age"
   ]
  },
  {
   "cell_type": "code",
   "execution_count": 47,
   "id": "c5818e8f-1e49-4a70-b501-511ec6c466c0",
   "metadata": {
    "execution": {
     "iopub.execute_input": "2024-08-29T03:08:40.990679Z",
     "iopub.status.busy": "2024-08-29T03:08:40.990166Z",
     "iopub.status.idle": "2024-08-29T03:08:41.104066Z",
     "shell.execute_reply": "2024-08-29T03:08:41.103436Z",
     "shell.execute_reply.started": "2024-08-29T03:08:40.990655Z"
    },
    "tags": []
   },
   "outputs": [],
   "source": [
    "inputfile = PROJECT_DIR_r + \"UCSC/seq_age/clades.json\"\n",
    "with open(inputfile, \"r\") as f:\n",
    "\tclades = json.load(f)"
   ]
  },
  {
   "cell_type": "code",
   "execution_count": 80,
   "id": "484f32ab-faa6-40cc-8baf-794f56ee4995",
   "metadata": {
    "execution": {
     "iopub.execute_input": "2024-08-29T03:16:56.551342Z",
     "iopub.status.busy": "2024-08-29T03:16:56.549849Z",
     "iopub.status.idle": "2024-08-29T03:16:56.592825Z",
     "shell.execute_reply": "2024-08-29T03:16:56.574644Z",
     "shell.execute_reply.started": "2024-08-29T03:16:56.551307Z"
    },
    "scrolled": true,
    "tags": []
   },
   "outputs": [],
   "source": [
    "pwpool = ProcessWrapPool(len(ps)*len(ds))\n",
    "\n",
    "m = \"Age\"\n",
    "for p in ps:\n",
    "\tfor d in ds:\n",
    "\t\tinputfile = PROJECT_DIR_o + \"temp/\" + \"_\".join([s, p, d]) + \".txt\"\n",
    "\t\toutputfile = PROJECT_DIR_o + \"temp/\" + \"_\".join([s, m, p, d]) + \".txt\"\n",
    "\t\tpwpool.run(utils.age_dissection, args=[inputfile, outputfile, clades])"
   ]
  },
  {
   "cell_type": "code",
   "execution_count": 84,
   "id": "2779a125-e921-4a2f-a592-6ce5747a2d24",
   "metadata": {
    "execution": {
     "iopub.execute_input": "2024-08-29T03:18:17.688348Z",
     "iopub.status.busy": "2024-08-29T03:18:17.687946Z",
     "iopub.status.idle": "2024-08-29T03:18:17.694280Z",
     "shell.execute_reply": "2024-08-29T03:18:17.693515Z",
     "shell.execute_reply.started": "2024-08-29T03:18:17.688323Z"
    },
    "tags": []
   },
   "outputs": [
    {
     "data": {
      "text/plain": [
       "6"
      ]
     },
     "execution_count": 84,
     "metadata": {},
     "output_type": "execute_result"
    }
   ],
   "source": [
    "len(pwpool.finished_tasks)"
   ]
  },
  {
   "cell_type": "code",
   "execution_count": 85,
   "id": "b177eedc-4bd9-4338-9588-1d5ad2a0e1c5",
   "metadata": {
    "execution": {
     "iopub.execute_input": "2024-08-29T03:18:18.397941Z",
     "iopub.status.busy": "2024-08-29T03:18:18.397480Z",
     "iopub.status.idle": "2024-08-29T03:18:18.637438Z",
     "shell.execute_reply": "2024-08-29T03:18:18.636706Z",
     "shell.execute_reply.started": "2024-08-29T03:18:18.397919Z"
    }
   },
   "outputs": [],
   "source": [
    "pwpool.close()"
   ]
  },
  {
   "cell_type": "code",
   "execution_count": 86,
   "id": "6e82163a-4c7c-43f5-9fc2-e3c29f86444b",
   "metadata": {
    "execution": {
     "iopub.execute_input": "2024-08-29T03:18:19.829071Z",
     "iopub.status.busy": "2024-08-29T03:18:19.828412Z",
     "iopub.status.idle": "2024-08-29T03:18:19.863533Z",
     "shell.execute_reply": "2024-08-29T03:18:19.838926Z",
     "shell.execute_reply.started": "2024-08-29T03:18:19.828990Z"
    },
    "scrolled": true
   },
   "outputs": [],
   "source": [
    "# Reformat matrix\n",
    "\n",
    "pwpool = ProcessWrapPool(len(ps)*len(ds))\n",
    "\n",
    "for p in ps:\n",
    "\tfor d in ds:\n",
    "\t\tinputfile = PROJECT_DIR_o + \"temp/\" + \"_\".join([s, m, p, d]) + \".txt\"\n",
    "\t\toutputfile = PROJECT_DIR_o + \"temp/\" + \"_\".join([s, m, p, d, \"reformat\"]) + \".txt\"\n",
    "\t\tpwpool.run(utils.reformat_feature_matrix_for_metaplot, args=[inputfile, outputfile])"
   ]
  },
  {
   "cell_type": "code",
   "execution_count": 88,
   "id": "1a28a03e-6ee4-4bc4-b16f-ea23d8e62258",
   "metadata": {
    "execution": {
     "iopub.execute_input": "2024-08-29T03:19:00.246027Z",
     "iopub.status.busy": "2024-08-29T03:19:00.244840Z",
     "iopub.status.idle": "2024-08-29T03:19:00.251251Z",
     "shell.execute_reply": "2024-08-29T03:19:00.250484Z",
     "shell.execute_reply.started": "2024-08-29T03:19:00.245993Z"
    },
    "tags": []
   },
   "outputs": [
    {
     "data": {
      "text/plain": [
       "6"
      ]
     },
     "execution_count": 88,
     "metadata": {},
     "output_type": "execute_result"
    }
   ],
   "source": [
    "len(pwpool.finished_tasks)"
   ]
  },
  {
   "cell_type": "code",
   "execution_count": 89,
   "id": "e031db69-eca5-4dd6-a52e-741ca4c65c6c",
   "metadata": {
    "execution": {
     "iopub.execute_input": "2024-08-29T03:19:01.076474Z",
     "iopub.status.busy": "2024-08-29T03:19:01.075803Z",
     "iopub.status.idle": "2024-08-29T03:19:07.729664Z",
     "shell.execute_reply": "2024-08-29T03:19:07.728445Z",
     "shell.execute_reply.started": "2024-08-29T03:19:01.076414Z"
    }
   },
   "outputs": [],
   "source": [
    "pwpool.close()"
   ]
  },
  {
   "cell_type": "markdown",
   "id": "3a326dfc-4e7a-4dad-8422-404bc2dfca42",
   "metadata": {},
   "source": [
    "## 2.2 Evo"
   ]
  },
  {
   "cell_type": "code",
   "execution_count": 90,
   "id": "a3cd2cba-53b4-4a38-a110-44a230bbc50a",
   "metadata": {
    "execution": {
     "iopub.execute_input": "2024-08-29T03:19:15.122866Z",
     "iopub.status.busy": "2024-08-29T03:19:15.122552Z",
     "iopub.status.idle": "2024-08-29T03:19:15.127054Z",
     "shell.execute_reply": "2024-08-29T03:19:15.126344Z",
     "shell.execute_reply.started": "2024-08-29T03:19:15.122841Z"
    }
   },
   "outputs": [],
   "source": [
    "bws = {\"phyloP\": PROJECT_DIR_r + \"UCSC/phyloP/hg38.phyloP100way.bw\",\n",
    "\t   \"CDTS\": PROJECT_DIR_r + \"Other/CDTS/coord_CDTS_percentile_N7794unrelated.bw\"\n",
    "\t   }"
   ]
  },
  {
   "cell_type": "code",
   "execution_count": 104,
   "id": "89e65c1a-8e9f-434a-91ac-6dd777bd63c8",
   "metadata": {
    "execution": {
     "iopub.execute_input": "2024-08-29T03:29:12.248607Z",
     "iopub.status.busy": "2024-08-29T03:29:12.248226Z",
     "iopub.status.idle": "2024-08-29T03:29:12.303057Z",
     "shell.execute_reply": "2024-08-29T03:29:12.298005Z",
     "shell.execute_reply.started": "2024-08-29T03:29:12.248583Z"
    },
    "scrolled": true
   },
   "outputs": [],
   "source": [
    "pwpool = ProcessWrapPool(20)\n",
    "\n",
    "for p in ps:\n",
    "\tfor d in ds:\n",
    "\t\tbed_in = PROJECT_DIR_d + \"bed_plot/\" + \"_\".join([s, p, d]) + \".bed\"\n",
    "\t\tfor m in bws:\n",
    "\t\t\toutput1 = PROJECT_DIR_o + \"temp/\" + \"_\".join([s, m, p, d]) + \".txt\"\n",
    "\t\t\toutput2 = PROJECT_DIR_o + \"temp/\" + \"_\".join([s, m, p, d, \"reformat\"]) + \".txt\"\n",
    "\t\t\tpwpool.run(utils.get_feature_matrix, args=[bed_in, bws[m], output1, output2, False, None, np.nan])"
   ]
  },
  {
   "cell_type": "code",
   "execution_count": 106,
   "id": "d8db75f4-f899-42df-96dc-9234baccf384",
   "metadata": {
    "execution": {
     "iopub.execute_input": "2024-08-29T03:31:32.572249Z",
     "iopub.status.busy": "2024-08-29T03:31:32.571257Z",
     "iopub.status.idle": "2024-08-29T03:31:32.578185Z",
     "shell.execute_reply": "2024-08-29T03:31:32.577488Z",
     "shell.execute_reply.started": "2024-08-29T03:31:32.572173Z"
    },
    "tags": []
   },
   "outputs": [
    {
     "data": {
      "text/plain": [
       "12"
      ]
     },
     "execution_count": 106,
     "metadata": {},
     "output_type": "execute_result"
    }
   ],
   "source": [
    "len(pwpool.finished_tasks)"
   ]
  },
  {
   "cell_type": "code",
   "execution_count": 107,
   "id": "7e4d9245-bc1a-4007-889d-69b7399801b4",
   "metadata": {
    "execution": {
     "iopub.execute_input": "2024-08-29T03:31:33.394650Z",
     "iopub.status.busy": "2024-08-29T03:31:33.394214Z",
     "iopub.status.idle": "2024-08-29T03:31:33.840209Z",
     "shell.execute_reply": "2024-08-29T03:31:33.839632Z",
     "shell.execute_reply.started": "2024-08-29T03:31:33.394628Z"
    }
   },
   "outputs": [],
   "source": [
    "pwpool.close()"
   ]
  },
  {
   "cell_type": "markdown",
   "id": "35fbd693-e87f-419a-bb99-e9eaba7efe3f",
   "metadata": {},
   "source": [
    "## 2.3 Combine dataframes for plotting"
   ]
  },
  {
   "cell_type": "code",
   "execution_count": 96,
   "id": "48aa9114-92e9-4590-b6f2-a211f869ae69",
   "metadata": {
    "execution": {
     "iopub.execute_input": "2024-08-29T03:21:59.598116Z",
     "iopub.status.busy": "2024-08-29T03:21:59.597056Z",
     "iopub.status.idle": "2024-08-29T03:21:59.601769Z",
     "shell.execute_reply": "2024-08-29T03:21:59.601062Z",
     "shell.execute_reply.started": "2024-08-29T03:21:59.598027Z"
    }
   },
   "outputs": [],
   "source": [
    "ms = [\"Age\", \"phyloP\", \"CDTS\"]"
   ]
  },
  {
   "cell_type": "code",
   "execution_count": 97,
   "id": "7ec45a02-21aa-4180-95ca-920b68933dad",
   "metadata": {
    "execution": {
     "iopub.execute_input": "2024-08-29T03:22:18.650154Z",
     "iopub.status.busy": "2024-08-29T03:22:18.648995Z",
     "iopub.status.idle": "2024-08-29T03:23:57.397194Z",
     "shell.execute_reply": "2024-08-29T03:23:57.395619Z",
     "shell.execute_reply.started": "2024-08-29T03:22:18.650089Z"
    }
   },
   "outputs": [],
   "source": [
    "dfs_heatmap = {}\n",
    "for m in ms:\n",
    "\tdfs = []\n",
    "\tfor p in ps:\n",
    "\t\tfor d in ds:\n",
    "\t\t\tinputfile = PROJECT_DIR_o + \"temp/\" + \"_\".join([s, m, p, d]) + \".txt\"\n",
    "\t\t\tdf = pd.read_table(inputfile)\n",
    "\t\t\tdf[\"Group\"] = p+\"_\"+d\n",
    "\t\t\tdfs.append(df)\n",
    "\tdfs_heatmap[m] = pd.concat(dfs, ignore_index=True)\t"
   ]
  },
  {
   "cell_type": "code",
   "execution_count": 98,
   "id": "8e8c32d3-6947-46e9-9909-1288658468d1",
   "metadata": {
    "execution": {
     "iopub.execute_input": "2024-08-29T03:23:57.399430Z",
     "iopub.status.busy": "2024-08-29T03:23:57.399187Z",
     "iopub.status.idle": "2024-08-29T03:23:57.408318Z",
     "shell.execute_reply": "2024-08-29T03:23:57.407639Z",
     "shell.execute_reply.started": "2024-08-29T03:23:57.399408Z"
    }
   },
   "outputs": [
    {
     "data": {
      "text/html": [
       "<div>\n",
       "<style scoped>\n",
       "    .dataframe tbody tr th:only-of-type {\n",
       "        vertical-align: middle;\n",
       "    }\n",
       "\n",
       "    .dataframe tbody tr th {\n",
       "        vertical-align: top;\n",
       "    }\n",
       "\n",
       "    .dataframe thead th {\n",
       "        text-align: right;\n",
       "    }\n",
       "</style>\n",
       "<table border=\"1\" class=\"dataframe\">\n",
       "  <thead>\n",
       "    <tr style=\"text-align: right;\">\n",
       "      <th></th>\n",
       "      <th>Element</th>\n",
       "      <th>Position</th>\n",
       "      <th>Feature</th>\n",
       "      <th>Group</th>\n",
       "    </tr>\n",
       "  </thead>\n",
       "  <tbody>\n",
       "    <tr>\n",
       "      <th>0</th>\n",
       "      <td>('chr1', '998929', '999173')</td>\n",
       "      <td>0</td>\n",
       "      <td>NaN</td>\n",
       "      <td>divergent_distal</td>\n",
       "    </tr>\n",
       "    <tr>\n",
       "      <th>1</th>\n",
       "      <td>('chr1', '1006383', '1006639')</td>\n",
       "      <td>0</td>\n",
       "      <td>2.11782</td>\n",
       "      <td>divergent_distal</td>\n",
       "    </tr>\n",
       "  </tbody>\n",
       "</table>\n",
       "</div>"
      ],
      "text/plain": [
       "                          Element  Position  Feature             Group\n",
       "0    ('chr1', '998929', '999173')         0      NaN  divergent_distal\n",
       "1  ('chr1', '1006383', '1006639')         0  2.11782  divergent_distal"
      ]
     },
     "execution_count": 98,
     "metadata": {},
     "output_type": "execute_result"
    }
   ],
   "source": [
    "dfs_heatmap[m].head(2)"
   ]
  },
  {
   "cell_type": "code",
   "execution_count": 134,
   "id": "72cb9a70-6d51-48e9-99ba-a4e349584998",
   "metadata": {
    "execution": {
     "iopub.execute_input": "2024-08-29T04:42:08.197342Z",
     "iopub.status.busy": "2024-08-29T04:42:08.197025Z",
     "iopub.status.idle": "2024-08-29T04:42:09.037854Z",
     "shell.execute_reply": "2024-08-29T04:42:09.037460Z",
     "shell.execute_reply.started": "2024-08-29T04:42:08.197319Z"
    }
   },
   "outputs": [
    {
     "data": {
      "text/plain": [
       "{'divergent_distal',\n",
       " 'divergent_proximal',\n",
       " 'unidirectional_Unchanged_distal',\n",
       " 'unidirectional_Unchanged_proximal',\n",
       " 'unidirectional_Up_distal',\n",
       " 'unidirectional_Up_proximal'}"
      ]
     },
     "execution_count": 134,
     "metadata": {},
     "output_type": "execute_result"
    }
   ],
   "source": [
    "set(dfs_heatmap[m][\"Group\"])"
   ]
  },
  {
   "cell_type": "code",
   "execution_count": 99,
   "id": "95b75880-b95a-456c-a94b-b3ce9060cdac",
   "metadata": {
    "execution": {
     "iopub.execute_input": "2024-08-29T03:24:02.136606Z",
     "iopub.status.busy": "2024-08-29T03:24:02.136129Z",
     "iopub.status.idle": "2024-08-29T03:24:12.806516Z",
     "shell.execute_reply": "2024-08-29T03:24:12.805829Z",
     "shell.execute_reply.started": "2024-08-29T03:24:02.136583Z"
    }
   },
   "outputs": [],
   "source": [
    "# Age\n",
    "# Get the maximum score for each element\n",
    "# Get the average values for two groups; U test \n",
    "\n",
    "m = \"Age\"\n",
    "d = \"distal\"\n",
    "values = {}\n",
    "for p in ps:\n",
    "\tdf = dfs_heatmap[m][dfs_heatmap[m][\"Group\"]==p+\"_\"+d]\n",
    "\tdf = df.drop(columns=[\"Element\", \"Group\"])\n",
    "\tvalues[p] = df.max(axis=1).tolist()"
   ]
  },
  {
   "cell_type": "code",
   "execution_count": 100,
   "id": "70a128fb-e893-4464-a9a3-d30e297e4196",
   "metadata": {
    "execution": {
     "iopub.execute_input": "2024-08-29T03:24:12.808004Z",
     "iopub.status.busy": "2024-08-29T03:24:12.807680Z",
     "iopub.status.idle": "2024-08-29T03:24:12.812014Z",
     "shell.execute_reply": "2024-08-29T03:24:12.811460Z",
     "shell.execute_reply.started": "2024-08-29T03:24:12.807983Z"
    }
   },
   "outputs": [
    {
     "name": "stdout",
     "output_type": "stream",
     "text": [
      "divergent 278.7722688054442\n",
      "unidirectional_Up 277.90697674418607\n",
      "unidirectional_Unchanged 277.744\n"
     ]
    }
   ],
   "source": [
    "for p in values:\n",
    "\tprint(p, np.mean(values[p]))"
   ]
  },
  {
   "cell_type": "code",
   "execution_count": 101,
   "id": "3906b491-d56b-4eee-b374-fea2cb083094",
   "metadata": {
    "execution": {
     "iopub.execute_input": "2024-08-29T03:25:22.560008Z",
     "iopub.status.busy": "2024-08-29T03:25:22.559633Z",
     "iopub.status.idle": "2024-08-29T03:26:20.537218Z",
     "shell.execute_reply": "2024-08-29T03:26:20.535859Z",
     "shell.execute_reply.started": "2024-08-29T03:25:22.559983Z"
    },
    "scrolled": true
   },
   "outputs": [],
   "source": [
    "# CDTS\n",
    "# Get the minimum score for each element\n",
    "# Get the average values for two groups; U test \n",
    "\n",
    "m = \"CDTS\"\n",
    "d = \"distal\"\n",
    "values2 = {}\n",
    "for p in ps:\n",
    "\tdf = dfs_heatmap[m][dfs_heatmap[m][\"Group\"]==p+\"_\"+d]\n",
    "\tdf = df.drop(columns=[\"Element\", \"Group\"])\n",
    "\tdf = df.dropna(how='all')\n",
    "\tvalues2[p] = df.min(axis=1, skipna=True).tolist()"
   ]
  },
  {
   "cell_type": "code",
   "execution_count": 102,
   "id": "e4f1a45f-9f5a-4137-928c-e967a8356742",
   "metadata": {
    "execution": {
     "iopub.execute_input": "2024-08-29T03:26:20.539261Z",
     "iopub.status.busy": "2024-08-29T03:26:20.539004Z",
     "iopub.status.idle": "2024-08-29T03:26:24.172308Z",
     "shell.execute_reply": "2024-08-29T03:26:24.171233Z",
     "shell.execute_reply.started": "2024-08-29T03:26:20.539238Z"
    }
   },
   "outputs": [
    {
     "name": "stdout",
     "output_type": "stream",
     "text": [
      "divergent 50.373779041305276\n",
      "unidirectional_Up 84.71460209898538\n",
      "unidirectional_Unchanged 48.538641946130646\n"
     ]
    }
   ],
   "source": [
    "for p in values2:\n",
    "\tprint(p, np.mean(values2[p]))"
   ]
  },
  {
   "cell_type": "code",
   "execution_count": 126,
   "id": "59bc5645-8216-471f-a762-f01ba7828eb1",
   "metadata": {
    "execution": {
     "iopub.execute_input": "2024-08-29T04:30:42.776131Z",
     "iopub.status.busy": "2024-08-29T04:30:42.775795Z",
     "iopub.status.idle": "2024-08-29T04:32:57.813115Z",
     "shell.execute_reply": "2024-08-29T04:32:57.812067Z",
     "shell.execute_reply.started": "2024-08-29T04:30:42.776109Z"
    },
    "scrolled": true
   },
   "outputs": [],
   "source": [
    "dfs_metaplot = {}\n",
    "for m in ms:\n",
    "\tdfs = []\n",
    "\tfor p in ps:\n",
    "\t\tfor d in ds:\n",
    "\t\t\tinputfile = PROJECT_DIR_o + \"temp/\" + \"_\".join([s, m, p, d, \"reformat\"]) + \".txt\"\n",
    "\t\t\tdf = pd.read_table(inputfile)\n",
    "\t\t\tdf[\"Group\"] = d\n",
    "\t\t\tdf[\"Label\"] = p.capitalize()\n",
    "\t\t\tdfs.append(df)\n",
    "\tdfs_metaplot[m] = pd.concat(dfs, ignore_index=True)\t"
   ]
  },
  {
   "cell_type": "code",
   "execution_count": 127,
   "id": "d73d621a-b34f-44c1-87ed-485e1c487f80",
   "metadata": {
    "execution": {
     "iopub.execute_input": "2024-08-29T04:32:57.815039Z",
     "iopub.status.busy": "2024-08-29T04:32:57.814704Z",
     "iopub.status.idle": "2024-08-29T04:32:57.844821Z",
     "shell.execute_reply": "2024-08-29T04:32:57.844413Z",
     "shell.execute_reply.started": "2024-08-29T04:32:57.815010Z"
    }
   },
   "outputs": [
    {
     "data": {
      "text/html": [
       "<div>\n",
       "<style scoped>\n",
       "    .dataframe tbody tr th:only-of-type {\n",
       "        vertical-align: middle;\n",
       "    }\n",
       "\n",
       "    .dataframe tbody tr th {\n",
       "        vertical-align: top;\n",
       "    }\n",
       "\n",
       "    .dataframe thead th {\n",
       "        text-align: right;\n",
       "    }\n",
       "</style>\n",
       "<table border=\"1\" class=\"dataframe\">\n",
       "  <thead>\n",
       "    <tr style=\"text-align: right;\">\n",
       "      <th></th>\n",
       "      <th>Element</th>\n",
       "      <th>Position</th>\n",
       "      <th>Feature</th>\n",
       "      <th>Group</th>\n",
       "      <th>Label</th>\n",
       "    </tr>\n",
       "  </thead>\n",
       "  <tbody>\n",
       "    <tr>\n",
       "      <th>0</th>\n",
       "      <td>('chr1', '998929', '999173')</td>\n",
       "      <td>0</td>\n",
       "      <td>NaN</td>\n",
       "      <td>distal</td>\n",
       "      <td>Divergent</td>\n",
       "    </tr>\n",
       "    <tr>\n",
       "      <th>1</th>\n",
       "      <td>('chr1', '1006383', '1006639')</td>\n",
       "      <td>0</td>\n",
       "      <td>2.11782</td>\n",
       "      <td>distal</td>\n",
       "      <td>Divergent</td>\n",
       "    </tr>\n",
       "  </tbody>\n",
       "</table>\n",
       "</div>"
      ],
      "text/plain": [
       "                          Element  Position  Feature   Group      Label\n",
       "0    ('chr1', '998929', '999173')         0      NaN  distal  Divergent\n",
       "1  ('chr1', '1006383', '1006639')         0  2.11782  distal  Divergent"
      ]
     },
     "execution_count": 127,
     "metadata": {},
     "output_type": "execute_result"
    }
   ],
   "source": [
    "dfs_metaplot[m].head(2)"
   ]
  },
  {
   "cell_type": "markdown",
   "id": "da0cad77-222b-439d-9990-10cefa8fb4fa",
   "metadata": {},
   "source": [
    "# 3. Metaplots"
   ]
  },
  {
   "cell_type": "markdown",
   "id": "d99d1be7-29d4-4b5c-857d-928e38802d83",
   "metadata": {},
   "source": [
    "## 3.1 ylims"
   ]
  },
  {
   "cell_type": "code",
   "execution_count": 132,
   "id": "e362f653-daa2-4d73-8882-e68854c3e49f",
   "metadata": {
    "execution": {
     "iopub.execute_input": "2024-08-29T04:36:52.750857Z",
     "iopub.status.busy": "2024-08-29T04:36:52.750254Z",
     "iopub.status.idle": "2024-08-29T04:36:52.755629Z",
     "shell.execute_reply": "2024-08-29T04:36:52.755075Z",
     "shell.execute_reply.started": "2024-08-29T04:36:52.750832Z"
    }
   },
   "outputs": [],
   "source": [
    "# Decide on the ylims\n",
    "# Set same value ranges for metaplots and heatmaps\n",
    "\n",
    "def get_ylims(dfs_metaplot):\n",
    "\tlabels = [\"Divergent\", \"Unidirectional_up\", \"Unidirectional_unchanged\"]\n",
    "\tfor d in ds:\n",
    "\t\tfor m in ms:\n",
    "\t\t\tmaxs = []\n",
    "\t\t\tmins = []\n",
    "\t\t\tdf = dfs_metaplot[m][dfs_metaplot[m][\"Group\"]==d]\n",
    "\t\t\tfor label in labels:\n",
    "\t\t\t\tmaxs.append(df[df[\"Label\"]==label].groupby(\"Position\")[\"Feature\"].mean().max())\n",
    "\t\t\t\tmins.append(df[df[\"Label\"]==label].groupby(\"Position\")[\"Feature\"].mean().min())\n",
    "\t\t\tprint(d, m, max(maxs), min(mins))"
   ]
  },
  {
   "cell_type": "code",
   "execution_count": 133,
   "id": "870c4fa9-ed5f-4f8c-9c37-26d122715a69",
   "metadata": {
    "execution": {
     "iopub.execute_input": "2024-08-29T04:36:53.612139Z",
     "iopub.status.busy": "2024-08-29T04:36:53.611844Z",
     "iopub.status.idle": "2024-08-29T04:42:08.195600Z",
     "shell.execute_reply": "2024-08-29T04:42:08.194787Z",
     "shell.execute_reply.started": "2024-08-29T04:36:53.612119Z"
    },
    "tags": []
   },
   "outputs": [
    {
     "name": "stdout",
     "output_type": "stream",
     "text": [
      "distal Age 224.27619047619046 129.11111111111111\n",
      "distal phyloP 0.9841395325438921 -0.581116265942191\n",
      "distal CDTS -1.8544393801087633 -6.84142786519868\n",
      "proximal Age 369.30434782608694 138.28571428571428\n",
      "proximal phyloP 1.4006874836049974 -0.8381874999031425\n",
      "proximal CDTS -3.0864387219254343 -13.68115492661794\n"
     ]
    }
   ],
   "source": [
    "get_ylims(dfs_metaplot)"
   ]
  },
  {
   "cell_type": "markdown",
   "id": "64a0c1fb-7f79-4c7a-84e0-fed4f251e3ec",
   "metadata": {},
   "source": [
    "## 3.2 Generate metaplots"
   ]
  },
  {
   "cell_type": "code",
   "execution_count": 135,
   "id": "f7703c14-5b5a-456a-9135-361f30e45675",
   "metadata": {
    "execution": {
     "iopub.execute_input": "2024-08-29T04:42:09.038758Z",
     "iopub.status.busy": "2024-08-29T04:42:09.038528Z",
     "iopub.status.idle": "2024-08-29T04:42:10.014611Z",
     "shell.execute_reply": "2024-08-29T04:42:10.014050Z",
     "shell.execute_reply.started": "2024-08-29T04:42:09.038741Z"
    }
   },
   "outputs": [],
   "source": [
    "def generate_metaplot(s, d, ms, ylims, yticks, test, outputfile, xlabel=\"Distance to center (kb)\", fontsize=20, legend_fontsize=12, labelpad=7.5, labelsize=20, y_align= -0.2, hspace=0.2):\n",
    "\t\"\"\"\n",
    "\tGenerate metaplots and heatmaps for a list of features.  \n",
    "\t\"\"\"\n",
    "\t\n",
    "\tfig, axes = plt.subplots(len(ms), 1, figsize=(6, 5*len(ms)))\n",
    "\thue_order = [\"Divergent\", \"Unidirectional_up\", \"Unidirectional_unchanged\"]\n",
    "\tpalette = [\"#313695\", \"#de77ae\", \"#969696\"]\n",
    "\t\n",
    "\tfor m in ms:\n",
    "\t\trow = ms.index(m)\n",
    "\t\tax = axes[row]\n",
    "\t\tdf = dfs_metaplot[m][dfs_metaplot[m][\"Group\"].str.contains(d)]\n",
    "\t\tutils.generate_feature_metaplot(df, palette, hue_order, ax, test)\n",
    "\t\t\t\t\t\n",
    "\t\t# Y axis\n",
    "\t\tax.set_ylim(ylims[row])\n",
    "\t\tax.set_yticks(yticks[row])\n",
    "\t\tax.set_ylabel(m, fontsize=fontsize, fontweight=\"bold\")\n",
    "\t\tax.tick_params(labelsize=labelsize, pad=labelpad)\n",
    "\t\tax.get_yaxis().set_label_coords(y_align, 0.5)\n",
    "\n",
    "\t\t# Legend\n",
    "\t\tif row == 0:\n",
    "\t\t\tax.legend(loc=\"lower left\", fontsize=fontsize, bbox_to_anchor=[0, 1.02])\n",
    "\t\telse:\n",
    "\t\t\tax.legend([],[], frameon=False)\n",
    "\n",
    "\t\t# X axis\n",
    "\t\txtick_list = [0,500,1000]\n",
    "\t\txticklabel_list = [\"-0.5\", \"0\", \"0.5\"]\n",
    "\t\tax.set_xlim([0, 1000])\n",
    "\t\tax.set_xticks(xtick_list)\n",
    "\t\tif row == len(ms)-1:\n",
    "\t\t\tax.set_xticklabels(xticklabel_list)\n",
    "\t\t\tax.set_xlabel(xlabel, fontsize=fontsize, fontweight=\"bold\")\n",
    "\t\t\tax.tick_params(labelsize=labelsize, pad=labelpad)\n",
    "\t\telse:\n",
    "\t\t\tax.set_xticklabels([])\n",
    "\t\t\tax.set_xlabel(\"\")\n",
    "\n",
    "\tfig.subplots_adjust(hspace=hspace)\n",
    "\tplt.savefig(outputfile, bbox_inches = 'tight', dpi=300) "
   ]
  },
  {
   "cell_type": "code",
   "execution_count": null,
   "id": "88f79d16-86ff-4631-b467-625ba4a69e30",
   "metadata": {},
   "outputs": [],
   "source": [
    "distal Age 224.27619047619046 129.11111111111111\n",
    "distal phyloP 0.9841395325438921 -0.581116265942191\n",
    "distal CDTS -1.8544393801087633 -6.84142786519868\n",
    "proximal Age 369.30434782608694 138.28571428571428\n",
    "proximal phyloP 1.4006874836049974 -0.8381874999031425\n",
    "proximal CDTS -3.0864387219254343 -13.68115492661794"
   ]
  },
  {
   "cell_type": "code",
   "execution_count": 136,
   "id": "c6ed3155-0992-4cca-bdb2-7770f610f2dc",
   "metadata": {
    "execution": {
     "iopub.execute_input": "2024-08-29T04:42:10.015848Z",
     "iopub.status.busy": "2024-08-29T04:42:10.015599Z",
     "iopub.status.idle": "2024-08-29T04:42:29.508897Z",
     "shell.execute_reply": "2024-08-29T04:42:29.505426Z",
     "shell.execute_reply.started": "2024-08-29T04:42:10.015830Z"
    },
    "scrolled": true,
    "tags": []
   },
   "outputs": [],
   "source": [
    "pwpool = ProcessWrapPool(len(ds))\n",
    "\n",
    "# test = True\n",
    "test = False\n",
    "for d in ds:\n",
    "\toutputfile = PROJECT_DIR_o + \"other_figures/Fig4A_CTCF_\" + d + \".png\"\n",
    "\tif d == \"proximal\":\n",
    "\t\tylims = [[100, 440], [-0.15, 1.05], [-17, 2]]\n",
    "\t\tyticks = [[120, 220, 320, 420], [0, 0.3, 0.6, 0.9], [-15, -10, -5, 0]]\n",
    "\telse:\n",
    "\t\tylims = [[110, 250], [-0.05, 0.35], [-10, 1]]\n",
    "\t\tyticks = [[120, 160, 200, 240], [0, 0.1, 0.2, 0.3], [-9, -6, -3, 0]]\n",
    "\tpwpool.run(generate_metaplot, args=[s, d, ms, ylims, yticks, test, outputfile])"
   ]
  },
  {
   "cell_type": "code",
   "execution_count": 139,
   "id": "403ae32c-a5ac-4088-9f80-6737b8d902fd",
   "metadata": {
    "execution": {
     "iopub.execute_input": "2024-08-29T04:48:25.498066Z",
     "iopub.status.busy": "2024-08-29T04:48:25.496569Z",
     "iopub.status.idle": "2024-08-29T04:48:25.504014Z",
     "shell.execute_reply": "2024-08-29T04:48:25.503520Z",
     "shell.execute_reply.started": "2024-08-29T04:48:25.498021Z"
    }
   },
   "outputs": [
    {
     "data": {
      "text/plain": [
       "2"
      ]
     },
     "execution_count": 139,
     "metadata": {},
     "output_type": "execute_result"
    }
   ],
   "source": [
    "len(pwpool.finished_tasks)"
   ]
  },
  {
   "cell_type": "code",
   "execution_count": 140,
   "id": "e520b435-f483-435f-a347-081928475dc0",
   "metadata": {
    "execution": {
     "iopub.execute_input": "2024-08-29T04:48:26.498420Z",
     "iopub.status.busy": "2024-08-29T04:48:26.497912Z",
     "iopub.status.idle": "2024-08-29T04:48:26.501527Z",
     "shell.execute_reply": "2024-08-29T04:48:26.501009Z",
     "shell.execute_reply.started": "2024-08-29T04:48:26.498399Z"
    }
   },
   "outputs": [],
   "source": [
    "pwpool.close()"
   ]
  },
  {
   "cell_type": "code",
   "execution_count": null,
   "id": "2228689e-1c8b-4e60-baf0-6b06a1176723",
   "metadata": {},
   "outputs": [],
   "source": []
  }
 ],
 "metadata": {
  "kernelspec": {
   "display_name": "Python 3 (ipykernel)",
   "language": "python",
   "name": "python3"
  },
  "language_info": {
   "codemirror_mode": {
    "name": "ipython",
    "version": 3
   },
   "file_extension": ".py",
   "mimetype": "text/x-python",
   "name": "python",
   "nbconvert_exporter": "python",
   "pygments_lexer": "ipython3",
   "version": "3.9.16"
  }
 },
 "nbformat": 4,
 "nbformat_minor": 5
}

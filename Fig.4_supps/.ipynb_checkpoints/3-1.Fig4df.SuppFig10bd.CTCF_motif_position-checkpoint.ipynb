{
 "cells": [
  {
   "cell_type": "code",
   "execution_count": 1,
   "id": "5a6f59dd-84f0-4a76-a239-da0c6f6f77cc",
   "metadata": {
    "execution": {
     "iopub.execute_input": "2024-12-01T21:44:58.920768Z",
     "iopub.status.busy": "2024-12-01T21:44:58.920539Z",
     "iopub.status.idle": "2024-12-01T21:45:06.938674Z",
     "shell.execute_reply": "2024-12-01T21:45:06.937756Z",
     "shell.execute_reply.started": "2024-12-01T21:44:58.920748Z"
    }
   },
   "outputs": [],
   "source": [
    "from mphelper import ProcessWrapPool\n",
    "import pandas as pd\n",
    "import matplotlib.pyplot as plt\n",
    "import numpy as np\n",
    "from collections import Counter, defaultdict\n",
    "import seaborn as sns\n",
    "from biodata.delimited import DelimitedReader, DelimitedWriter\n",
    "import pybedtools\n",
    "import itertools\n",
    "import json\n",
    "import biodataplot.metaplot as bpm\n",
    "from biodata.bigwig import BigWigIReader\n",
    "from biodata.bed import BEDXReader\n",
    "from genomictools import GenomicCollection"
   ]
  },
  {
   "cell_type": "code",
   "execution_count": 2,
   "id": "fd9d462f-6eb0-41fb-9c0f-e08095452cfb",
   "metadata": {
    "execution": {
     "iopub.execute_input": "2024-12-01T21:45:06.942222Z",
     "iopub.status.busy": "2024-12-01T21:45:06.941980Z",
     "iopub.status.idle": "2024-12-01T21:45:06.955999Z",
     "shell.execute_reply": "2024-12-01T21:45:06.955451Z",
     "shell.execute_reply.started": "2024-12-01T21:45:06.942203Z"
    }
   },
   "outputs": [],
   "source": [
    "import sys\n",
    "from pathlib import Path\n",
    "sys.path.append(str(Path.cwd().parent))\n",
    "import utils"
   ]
  },
  {
   "cell_type": "code",
   "execution_count": 3,
   "id": "58ec3928-b042-4b4c-8d82-67158132cb98",
   "metadata": {
    "execution": {
     "iopub.execute_input": "2024-12-01T21:45:06.958465Z",
     "iopub.status.busy": "2024-12-01T21:45:06.958206Z",
     "iopub.status.idle": "2024-12-01T21:45:08.073249Z",
     "shell.execute_reply": "2024-12-01T21:45:08.072717Z",
     "shell.execute_reply.started": "2024-12-01T21:45:06.958446Z"
    },
    "scrolled": true
   },
   "outputs": [],
   "source": [
    "import matplotlib\n",
    "font_dir = Path.cwd().parent / \"font\"\n",
    "for font in [\"Arial.ttf\", \"Arial_Bold.ttf\"]:\n",
    "    matplotlib.font_manager.fontManager.addfont(font_dir / font)\n",
    "matplotlib.rcParams[\"font.family\"] = \"Arial\"\n",
    "bfontsize = 12\n",
    "sfontsize = 9"
   ]
  },
  {
   "cell_type": "code",
   "execution_count": 4,
   "id": "3a02941b-44fb-4ae3-aa1f-6a6366d81611",
   "metadata": {
    "execution": {
     "iopub.execute_input": "2024-12-01T21:45:08.075495Z",
     "iopub.status.busy": "2024-12-01T21:45:08.075270Z",
     "iopub.status.idle": "2024-12-01T21:45:09.217239Z",
     "shell.execute_reply": "2024-12-01T21:45:09.214788Z",
     "shell.execute_reply.started": "2024-12-01T21:45:08.075476Z"
    },
    "tags": []
   },
   "outputs": [],
   "source": [
    "PROJECT_DIR_d = \"/fs/cbsuhy02/storage/yc2553/yc2553/projects/TRE_directionality/PROcap/\"\n",
    "PROJECT_DIR_r = \"/fs/cbsuhy02/storage/yc2553/yc2553/projects/TRE_directionality/resources/\"\n",
    "PROJECT_DIR_o = \"/fs/cbsuhy02/storage/yc2553/yc2553/projects/TRE_directionality/output/\""
   ]
  },
  {
   "cell_type": "markdown",
   "id": "76a38d3c-8e37-4a5a-bbc6-6c784121e35f",
   "metadata": {},
   "source": [
    "# Get elements centered on CTCF motifs"
   ]
  },
  {
   "cell_type": "code",
   "execution_count": 5,
   "id": "c44eabf3-daef-435d-9e5f-19ea5e69e8a0",
   "metadata": {
    "execution": {
     "iopub.execute_input": "2024-12-01T21:45:09.222651Z",
     "iopub.status.busy": "2024-12-01T21:45:09.222334Z",
     "iopub.status.idle": "2024-12-01T21:45:10.537157Z",
     "shell.execute_reply": "2024-12-01T21:45:10.536531Z",
     "shell.execute_reply.started": "2024-12-01T21:45:09.222628Z"
    }
   },
   "outputs": [],
   "source": [
    "s = \"HCT116\"\n",
    "ks = [\"+\", \"-\"]\n",
    "ps = [\"divergent\", \"unidirectional\"]\n",
    "ds = [\"distal\", \"proximal\"]\n",
    "gs = [f\"{p}_{d}\" for p, d in itertools.product(ps, ds)]\n",
    "ts = [\"maxTSS\", \"minTSS\"]\n",
    "labels = [\"Up\", \"Down\"]\n",
    "motif = \"CTCF\""
   ]
  },
  {
   "cell_type": "code",
   "execution_count": 6,
   "id": "6fe2ccd8-0bf5-48b8-9a83-51db6af38981",
   "metadata": {
    "execution": {
     "iopub.execute_input": "2024-12-01T21:45:10.539674Z",
     "iopub.status.busy": "2024-12-01T21:45:10.539428Z",
     "iopub.status.idle": "2024-12-01T21:45:12.144386Z",
     "shell.execute_reply": "2024-12-01T21:45:12.133485Z",
     "shell.execute_reply.started": "2024-12-01T21:45:10.539655Z"
    },
    "scrolled": true
   },
   "outputs": [],
   "source": [
    "inputfile = f\"{PROJECT_DIR_o}FIMO/{s}_CTCF_pos.json\"\n",
    "with open(inputfile, \"r\") as f:\n",
    "\tmotifs = json.load(f)"
   ]
  },
  {
   "cell_type": "code",
   "execution_count": 7,
   "id": "f959a463-6b64-41b9-8764-f820a8e0a6d6",
   "metadata": {
    "execution": {
     "iopub.execute_input": "2024-12-01T21:45:12.151288Z",
     "iopub.status.busy": "2024-12-01T21:45:12.150117Z",
     "iopub.status.idle": "2024-12-01T21:45:13.498531Z",
     "shell.execute_reply": "2024-12-01T21:45:13.497998Z",
     "shell.execute_reply.started": "2024-12-01T21:45:12.151260Z"
    }
   },
   "outputs": [],
   "source": [
    "mapping = {}\n",
    "for g in gs:\n",
    "\tinputfile = f\"{PROJECT_DIR_d}bed_plot/{s}_{g}.bed\"\n",
    "\toutputfile = f\"{PROJECT_DIR_d}bed_plot/{s}_{g}_CTCF.bed\"\n",
    "\twith DelimitedWriter(outputfile) as dw:\n",
    "\t\twith DelimitedReader(inputfile) as dr:\n",
    "\t\t\tfor cols in dr:\n",
    "\t\t\t\tchrom, start, end = cols[:3]\n",
    "\t\t\t\te = \"_\".join([chrom, start, end])\n",
    "\t\t\t\tif e in motifs:\n",
    "\t\t\t\t\tdw.write([chrom, motifs[e][0]-250, motifs[e][0]+250] + cols[3:])\n",
    "\t\t\t\t\tmapping[(chrom, motifs[e][0]-250, motifs[e][0]+250)] = e"
   ]
  },
  {
   "cell_type": "markdown",
   "id": "f5f99300-3911-449c-9f98-8f3d26287c59",
   "metadata": {},
   "source": [
    "# Generate feature matrix"
   ]
  },
  {
   "cell_type": "markdown",
   "id": "64c0b12a-1874-423d-89e4-77d0776ba7d6",
   "metadata": {},
   "source": [
    "## Get individual matrix"
   ]
  },
  {
   "cell_type": "code",
   "execution_count": 8,
   "id": "42fb4c1f-e9e1-48d4-8022-f9b8c4929819",
   "metadata": {
    "execution": {
     "iopub.execute_input": "2024-12-01T21:45:13.499418Z",
     "iopub.status.busy": "2024-12-01T21:45:13.499167Z",
     "iopub.status.idle": "2024-12-01T21:45:15.358826Z",
     "shell.execute_reply": "2024-12-01T21:45:15.358285Z",
     "shell.execute_reply.started": "2024-12-01T21:45:13.499401Z"
    }
   },
   "outputs": [],
   "source": [
    "# \"*5pl_rpm.bw\": positive values\n",
    "# \"*5mn_rpm.bw\": negative values\n",
    "\n",
    "bws = {\"CTCF_U_pl\": f\"{PROJECT_DIR_d}Alignments/CTCF_U_5pl_rpm.bw\",\n",
    "\t   \"CTCF_U_mn\": f\"{PROJECT_DIR_d}Alignments/CTCF_U_5mn_rpm.bw\",\n",
    "\t   \"CTCF_T_pl\": f\"{PROJECT_DIR_d}Alignments/CTCF_T_5pl_rpm.bw\",\n",
    "\t   \"CTCF_T_mn\": f\"{PROJECT_DIR_d}Alignments/CTCF_T_5mn_rpm.bw\",\n",
    "\t  }"
   ]
  },
  {
   "cell_type": "code",
   "execution_count": 9,
   "id": "0f58114b-99d2-4657-98a4-70a373967859",
   "metadata": {
    "execution": {
     "iopub.execute_input": "2024-12-01T21:45:15.361212Z",
     "iopub.status.busy": "2024-12-01T21:45:15.360951Z",
     "iopub.status.idle": "2024-12-01T21:45:21.290341Z",
     "shell.execute_reply": "2024-12-01T21:45:21.287452Z",
     "shell.execute_reply.started": "2024-12-01T21:45:15.361193Z"
    },
    "scrolled": true
   },
   "outputs": [],
   "source": [
    "df_features = {}\n",
    "use_strand = True\n",
    "for g in gs:\n",
    "\tbed = f\"{PROJECT_DIR_d}bed_plot/{s}_{g}_CTCF.bed\"\n",
    "\tall_regions = BEDXReader.read_all(GenomicCollection, bed, strandfield=\"f7\")\n",
    "\tfor k in ks:\n",
    "\t\tregions = list(filter(lambda a: a.stranded_genomic_pos.strand==k, all_regions))\n",
    "\t\tindex = [mapping[(r.chrom, r.chromStart, r.chromEnd)] for r in regions]\n",
    "\t\tfor m in bws:\n",
    "\t\t\t# Change the sign: maxTSS - positive values; minTSS - negative values\n",
    "\t\t\tif k == \"+\":\n",
    "\t\t\t\tsign = 1\n",
    "\t\t\telse:\n",
    "\t\t\t\tsign = -1\n",
    "\t\t\tdf_features[(m,g,k)] = sign*pd.DataFrame(bpm.generate_signal_profile(regions, BigWigIReader(bws[m]), fixed_size=501, use_strand=use_strand), index=index)"
   ]
  },
  {
   "cell_type": "code",
   "execution_count": 10,
   "id": "ead918e1-6962-451c-acd2-cc23e6075671",
   "metadata": {
    "execution": {
     "iopub.execute_input": "2024-12-01T21:45:21.291532Z",
     "iopub.status.busy": "2024-12-01T21:45:21.291235Z",
     "iopub.status.idle": "2024-12-01T21:45:48.237536Z",
     "shell.execute_reply": "2024-12-01T21:45:48.235749Z",
     "shell.execute_reply.started": "2024-12-01T21:45:21.291513Z"
    },
    "scrolled": true
   },
   "outputs": [],
   "source": [
    "# 10-bp bins\n",
    "\n",
    "df_bins = {}\n",
    "for k in df_features:\n",
    "\tdf_bins[k] = utils.bin_values(df_features[k])"
   ]
  },
  {
   "cell_type": "code",
   "execution_count": 11,
   "id": "6c630960-9a4f-4c52-88f3-a586ba7e7c3d",
   "metadata": {
    "execution": {
     "iopub.execute_input": "2024-12-01T21:45:48.240856Z",
     "iopub.status.busy": "2024-12-01T21:45:48.240269Z",
     "iopub.status.idle": "2024-12-01T21:45:48.489646Z",
     "shell.execute_reply": "2024-12-01T21:45:48.489078Z",
     "shell.execute_reply.started": "2024-12-01T21:45:48.240833Z"
    }
   },
   "outputs": [],
   "source": [
    "df_reformat = {}\n",
    "for k in df_bins:\n",
    "\tdf = df_bins[k].reset_index()\n",
    "\tdf_reformat[k] = pd.melt(df,\n",
    "\t\t\t\t\t\t  id_vars=\"index\",\n",
    "\t\t\t\t\t\t  value_vars=list(df.columns[1:]),\n",
    "\t\t\t\t\t\t  var_name=\"Position\",\n",
    "\t\t\t\t\t\t  value_name=\"Feature\"\n",
    "\t\t\t\t\t\t  )"
   ]
  },
  {
   "cell_type": "markdown",
   "id": "ceade190-82d8-4b2e-888f-79efc7ee87d1",
   "metadata": {},
   "source": [
    "## Combine dataframes for plotting"
   ]
  },
  {
   "cell_type": "code",
   "execution_count": 12,
   "id": "3b7aaec5-fd82-424d-bf17-dafda9704e2b",
   "metadata": {
    "execution": {
     "iopub.execute_input": "2024-12-01T21:45:48.490600Z",
     "iopub.status.busy": "2024-12-01T21:45:48.490308Z",
     "iopub.status.idle": "2024-12-01T21:45:49.492279Z",
     "shell.execute_reply": "2024-12-01T21:45:49.491558Z",
     "shell.execute_reply.started": "2024-12-01T21:45:48.490580Z"
    }
   },
   "outputs": [],
   "source": [
    "inputfile = f\"{PROJECT_DIR_o}labels/{s}_CTCF_DE.json\"\n",
    "with open(inputfile, \"r\") as f:\n",
    "\tDE_labels = json.load(f)"
   ]
  },
  {
   "cell_type": "code",
   "execution_count": 13,
   "id": "cb05bebf-3b11-44cb-b948-404c9dd5c198",
   "metadata": {
    "execution": {
     "iopub.execute_input": "2024-12-01T21:45:49.493337Z",
     "iopub.status.busy": "2024-12-01T21:45:49.493040Z",
     "iopub.status.idle": "2024-12-01T21:45:51.253705Z",
     "shell.execute_reply": "2024-12-01T21:45:51.253122Z",
     "shell.execute_reply.started": "2024-12-01T21:45:49.493317Z"
    },
    "scrolled": true
   },
   "outputs": [],
   "source": [
    "df_metaplots = {}\n",
    "for d, t, label in itertools.product(ds, ts, labels):\n",
    "\tdfs = []\n",
    "\tfor p in ps:\n",
    "\t\tif t == \"minTSS\":\n",
    "\t\t\tdf1 = pd.concat([df_reformat[(\"CTCF_U_pl\", f\"{p}_{d}\", \"-\")], \n",
    "\t\t\t\t\t\t\tdf_reformat[(\"CTCF_U_mn\", f\"{p}_{d}\", \"+\")]])\n",
    "\t\t\tdf2 = pd.concat([df_reformat[(\"CTCF_T_pl\", f\"{p}_{d}\", \"-\")], \n",
    "\t\t\t\t\t\t\tdf_reformat[(\"CTCF_T_mn\", f\"{p}_{d}\", \"+\")]])\n",
    "\t\telse:\n",
    "\t\t\tdf1 = pd.concat([df_reformat[(\"CTCF_U_pl\", f\"{p}_{d}\", \"+\")], \n",
    "\t\t\t\t\t\t\tdf_reformat[(\"CTCF_U_mn\", f\"{p}_{d}\", \"-\")]])\n",
    "\t\t\tdf2 = pd.concat([df_reformat[(\"CTCF_T_pl\", f\"{p}_{d}\", \"+\")], \n",
    "\t\t\t\t\t\t\tdf_reformat[(\"CTCF_T_mn\", f\"{p}_{d}\", \"-\")]])\n",
    "\n",
    "\t\tfiltered_df1 = df1[df1[\"index\"].isin([k for k, v in DE_labels[t].items() if v == label])].copy()\n",
    "\t\tfiltered_df1[\"Label\"] = f\"{t} (0h)\"\n",
    "\t\tfiltered_df2 = df2[df2[\"index\"].isin([k for k, v in DE_labels[t].items() if v == label])].copy()\n",
    "\t\tfiltered_df2[\"Label\"] = f\"{t} (6h)\"\n",
    "\t\tdfs.extend([filtered_df1, filtered_df2])\n",
    "\tdf_metaplots[(d,t,label)] = pd.concat(dfs).reset_index(drop=True)\t"
   ]
  },
  {
   "cell_type": "markdown",
   "id": "0aaf2009-0933-4b94-839a-4370500fe497",
   "metadata": {},
   "source": [
    "# Generate metaplots"
   ]
  },
  {
   "cell_type": "markdown",
   "id": "e0193dd2-a960-4776-9cb5-bdd8d2442b3c",
   "metadata": {},
   "source": [
    "## Settings"
   ]
  },
  {
   "cell_type": "code",
   "execution_count": 14,
   "id": "1d065c7d-384a-4f9e-802b-5b586b096ff1",
   "metadata": {
    "execution": {
     "iopub.execute_input": "2024-12-01T21:45:51.255849Z",
     "iopub.status.busy": "2024-12-01T21:45:51.255549Z",
     "iopub.status.idle": "2024-12-01T21:45:52.493178Z",
     "shell.execute_reply": "2024-12-01T21:45:52.492570Z",
     "shell.execute_reply.started": "2024-12-01T21:45:51.255827Z"
    },
    "tags": []
   },
   "outputs": [
    {
     "name": "stdout",
     "output_type": "stream",
     "text": [
      "distal maxTSS 1.151615365731473 0.0002401128122350846\n",
      "distal minTSS 0.0 -0.7152549104335216\n",
      "proximal maxTSS 3.335671051068509 0.0029787190796173725\n",
      "proximal minTSS 0.0 -1.2136396134667324\n"
     ]
    }
   ],
   "source": [
    "for d, t in itertools.product(ds, ts):\n",
    "\tmaxs = []\n",
    "\tmins = []\n",
    "\tlabels2 = [f\"{t} (0h)\", f\"{t} (6h)\"]\n",
    "\tfor l1, l2 in itertools.product(labels, labels2):\n",
    "\t\tdf = df_metaplots[(d,t,l1)]\n",
    "\t\tmaxs.append(df[df[\"Label\"]==l2].groupby(\"Position\")[\"Feature\"].mean().max())\n",
    "\t\tmins.append(df[df[\"Label\"]==l2].groupby(\"Position\")[\"Feature\"].mean().min())\n",
    "\tprint(d, t, max(maxs), min(mins))"
   ]
  },
  {
   "cell_type": "markdown",
   "id": "3263b054-f0ce-4d46-9a3f-c236f8d3908a",
   "metadata": {},
   "source": [
    "## Generate metaplots"
   ]
  },
  {
   "cell_type": "code",
   "execution_count": 15,
   "id": "1a6be21b-ce4c-416f-a025-523c5770f957",
   "metadata": {
    "execution": {
     "iopub.execute_input": "2024-12-01T21:45:52.494247Z",
     "iopub.status.busy": "2024-12-01T21:45:52.493965Z",
     "iopub.status.idle": "2024-12-01T21:45:53.659883Z",
     "shell.execute_reply": "2024-12-01T21:45:53.658435Z",
     "shell.execute_reply.started": "2024-12-01T21:45:52.494226Z"
    }
   },
   "outputs": [],
   "source": [
    "def generate_metaplot(d, t, labels, df_metaplots, ylims, yticks, outputfile, xlabel=\"Distance (bp)\"):\n",
    "\tfig, axes = plt.subplots(1,len(labels),figsize=(5.5,1.7))\n",
    "\tlabelpad = 2\n",
    "\ty_align = -0.2\n",
    "\twspace = 0.3\n",
    "\t\n",
    "\thue_order = [f\"{t} (0h)\", f\"{t} (6h)\"]\n",
    "\tpalette = [\"#a6cee3\", \"#08519c\"] if t == \"minTSS\" else [\"#fb9a99\", \"#a50f15\"]\n",
    "\t\n",
    "\tfor label in labels:\n",
    "\t\tcol = labels.index(label)\n",
    "\t\tax = axes[col]\n",
    "\t\tdf = df_metaplots[(d,t,label)]\n",
    "\t\tsns.lineplot(data=df, x=\"Position\", y=\"Feature\", hue=\"Label\", hue_order=hue_order, palette=palette, ax=ax, errorbar=\"se\")\n",
    "\t\t\n",
    "\t\tax.spines[[\"right\", \"top\"]].set_visible(False)\n",
    "\t\tax.spines['left'].set_position(('outward', 10))\n",
    "\t\tax.spines['bottom'].set_position(('outward', 10))\n",
    "\n",
    "\t\ttot = len(set(df[\"index\"]))\n",
    "\t\tax.set_title(f\"{label} (n={tot})\", fontsize=bfontsize, pad=labelpad+5, fontweight=\"bold\")\n",
    "\t\tif col == 1:\n",
    "\t\t\tif t == \"minTSS\":\n",
    "\t\t\t\tloc = \"lower right\"\n",
    "\t\t\telse:\n",
    "\t\t\t\tloc = \"upper right\"\n",
    "\t\t\tax.legend(loc=loc, fontsize=sfontsize)\n",
    "\t\telse:\n",
    "\t\t\tax.legend([],[], frameon=False)\n",
    "\t\n",
    "\t\tax.set_ylim(ylims)\n",
    "\t\tax.set_yticks(yticks)\n",
    "\t\tax.set_yticklabels([str(y) for y in yticks])\n",
    "\t\tif col == 0:\n",
    "\t\t\tax.set_ylabel(\"PRO-cap\", fontsize=bfontsize, fontweight=\"bold\")\n",
    "\t\t\tax.yaxis.set_label_coords(y_align, 0.5)\n",
    "\t\telse:\n",
    "\t\t\tax.set_ylabel(\"\")\n",
    "\t\t\tax.set_yticklabels([])\n",
    "\t\t\n",
    "\t\txticklabel_list = [\"-250\", \"\", \"\", \"\", \"\", \"0\", \"\", \"\", \"\", \"\", \"250\"]\n",
    "\t\txtick_list = [n*5 for n in range(11)]\n",
    "\t\tax.set_xlim([0, 50])\n",
    "\t\tax.set_xticks(xtick_list)\n",
    "\t\tax.set_xticklabels(xticklabel_list)\n",
    "\t\tax.set_xlabel(xlabel, fontsize=bfontsize, fontweight=\"bold\")\n",
    "\t\t\n",
    "\t\tax.tick_params(labelsize=sfontsize, pad=labelpad)\n",
    "\n",
    "\t\tax.axhline(y=0, color=\"#bdbdbd\", ls=\"--\", lw=\"1\")\n",
    "\t\tax.axvline(x=25, ymin=-1, ymax=1, color=\"#bdbdbd\", ls=\"--\", lw=\"1\", clip_on=False, zorder=1)\n",
    "\t\t\n",
    "\tfig.subplots_adjust(wspace=wspace)\n",
    "\tplt.savefig(outputfile, bbox_inches=\"tight\", dpi=300) "
   ]
  },
  {
   "cell_type": "code",
   "execution_count": 16,
   "id": "8e7ad17f-8af8-4f5c-8eee-8c49fa68d473",
   "metadata": {
    "execution": {
     "iopub.execute_input": "2024-12-01T21:45:53.661994Z",
     "iopub.status.busy": "2024-12-01T21:45:53.661548Z",
     "iopub.status.idle": "2024-12-01T21:45:55.081659Z",
     "shell.execute_reply": "2024-12-01T21:45:55.081036Z",
     "shell.execute_reply.started": "2024-12-01T21:45:53.661974Z"
    }
   },
   "outputs": [],
   "source": [
    "# The matplotlib version for other analysis is v3.9.2\n",
    "# Need to change matplotlib to v3.8.3 or lower here\n",
    "# Otherwise, \"ax.axvline(...)\" won't display as expected"
   ]
  },
  {
   "cell_type": "code",
   "execution_count": 17,
   "id": "cb00967f-2699-4485-b204-31aa4a728a68",
   "metadata": {
    "execution": {
     "iopub.execute_input": "2024-12-01T21:45:55.082638Z",
     "iopub.status.busy": "2024-12-01T21:45:55.082374Z",
     "iopub.status.idle": "2024-12-01T21:45:56.532944Z",
     "shell.execute_reply": "2024-12-01T21:45:56.532301Z",
     "shell.execute_reply.started": "2024-12-01T21:45:55.082620Z"
    },
    "scrolled": true
   },
   "outputs": [],
   "source": [
    "pwpool = ProcessWrapPool(len(ds)*len(ts))\n",
    "\n",
    "for d, t in itertools.product(ds, ts):\n",
    "\tfolder = \"figures/\" if d == \"distal\" else \"supp_figures/\"\n",
    "\tif d == \"distal\":\n",
    "\t\tif t == \"minTSS\":\n",
    "\t\t\tylims = [-1, 0.1]\n",
    "\t\t\tyticks = [-1, 0]\n",
    "\t\t\toutputfile = f\"{PROJECT_DIR_o}{folder}Fig4d.pdf\"\n",
    "\t\telse:\n",
    "\t\t\tylims = [0, 1.6]\n",
    "\t\t\tyticks = [0, 1.5]\n",
    "\t\t\toutputfile = f\"{PROJECT_DIR_o}{folder}Fig4f.pdf\"\n",
    "\telse:\n",
    "\t\tif t == \"minTSS\":\n",
    "\t\t\tylims = [-1.5, 0.1]\n",
    "\t\t\tyticks = [-1.5, 0]\n",
    "\t\t\toutputfile = f\"{PROJECT_DIR_o}{folder}SuppFig10b.pdf\"\n",
    "\t\telse:\n",
    "\t\t\tylims = [0, 4]\n",
    "\t\t\tyticks = [0, 3.5]\n",
    "\t\t\toutputfile = f\"{PROJECT_DIR_o}{folder}SuppFig10d.pdf\"\n",
    "\tpwpool.run(generate_metaplot, args=[d, t, labels, df_metaplots, ylims, yticks, outputfile])"
   ]
  },
  {
   "cell_type": "code",
   "execution_count": 19,
   "id": "2a9b5e5d-fc6d-41e1-a87b-47c638fe32f6",
   "metadata": {
    "execution": {
     "iopub.execute_input": "2024-12-01T21:46:49.174575Z",
     "iopub.status.busy": "2024-12-01T21:46:49.172450Z",
     "iopub.status.idle": "2024-12-01T21:46:49.199594Z",
     "shell.execute_reply": "2024-12-01T21:46:49.199086Z",
     "shell.execute_reply.started": "2024-12-01T21:46:49.174542Z"
    },
    "tags": []
   },
   "outputs": [
    {
     "data": {
      "text/plain": [
       "4"
      ]
     },
     "execution_count": 19,
     "metadata": {},
     "output_type": "execute_result"
    }
   ],
   "source": [
    "len(pwpool.finished_tasks)"
   ]
  },
  {
   "cell_type": "code",
   "execution_count": 20,
   "id": "9c17d1a5-902d-44cb-ac56-322d64c7b4a1",
   "metadata": {
    "execution": {
     "iopub.execute_input": "2024-12-01T21:46:49.661579Z",
     "iopub.status.busy": "2024-12-01T21:46:49.661212Z",
     "iopub.status.idle": "2024-12-01T21:46:50.225270Z",
     "shell.execute_reply": "2024-12-01T21:46:50.224717Z",
     "shell.execute_reply.started": "2024-12-01T21:46:49.661556Z"
    }
   },
   "outputs": [],
   "source": [
    "pwpool.close()"
   ]
  },
  {
   "cell_type": "code",
   "execution_count": null,
   "id": "20c8c1c4-41bd-49bd-a4e0-a41cab949c45",
   "metadata": {},
   "outputs": [],
   "source": []
  }
 ],
 "metadata": {
  "kernelspec": {
   "display_name": "Python 3 (ipykernel)",
   "language": "python",
   "name": "python3"
  },
  "language_info": {
   "codemirror_mode": {
    "name": "ipython",
    "version": 3
   },
   "file_extension": ".py",
   "mimetype": "text/x-python",
   "name": "python",
   "nbconvert_exporter": "python",
   "pygments_lexer": "ipython3",
   "version": "3.10.8"
  }
 },
 "nbformat": 4,
 "nbformat_minor": 5
}

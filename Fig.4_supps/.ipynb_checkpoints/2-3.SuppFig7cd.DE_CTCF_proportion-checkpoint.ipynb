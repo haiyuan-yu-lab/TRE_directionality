{
 "cells": [
  {
   "cell_type": "code",
   "execution_count": 1,
   "id": "5a6f59dd-84f0-4a76-a239-da0c6f6f77cc",
   "metadata": {
    "execution": {
     "iopub.execute_input": "2024-12-01T21:27:35.432037Z",
     "iopub.status.busy": "2024-12-01T21:27:35.431807Z",
     "iopub.status.idle": "2024-12-01T21:27:45.368019Z",
     "shell.execute_reply": "2024-12-01T21:27:45.366328Z",
     "shell.execute_reply.started": "2024-12-01T21:27:35.432015Z"
    }
   },
   "outputs": [],
   "source": [
    "import pandas as pd\n",
    "import matplotlib.pyplot as plt\n",
    "import seaborn as sns\n",
    "import pybedtools\n",
    "import json\n",
    "import itertools\n",
    "from Bio import SeqIO\n",
    "from biodata.delimited import DelimitedReader, DelimitedWriter\n",
    "import subprocess\n",
    "from collections import Counter"
   ]
  },
  {
   "cell_type": "code",
   "execution_count": 2,
   "id": "58ec3928-b042-4b4c-8d82-67158132cb98",
   "metadata": {
    "execution": {
     "iopub.execute_input": "2024-12-01T21:27:45.373508Z",
     "iopub.status.busy": "2024-12-01T21:27:45.373272Z",
     "iopub.status.idle": "2024-12-01T21:27:45.388828Z",
     "shell.execute_reply": "2024-12-01T21:27:45.388222Z",
     "shell.execute_reply.started": "2024-12-01T21:27:45.373485Z"
    },
    "scrolled": true
   },
   "outputs": [],
   "source": [
    "import matplotlib\n",
    "from pathlib import Path\n",
    "font_dir = Path.cwd().parent / \"font\"\n",
    "for font in [\"Arial.ttf\", \"Arial_Bold.ttf\"]:\n",
    "    matplotlib.font_manager.fontManager.addfont(font_dir / font)\n",
    "matplotlib.rcParams[\"font.family\"] = \"Arial\"\n",
    "bfontsize = 12\n",
    "sfontsize = 9"
   ]
  },
  {
   "cell_type": "code",
   "execution_count": 3,
   "id": "d9290eb1-47e5-457d-a866-601a898765b4",
   "metadata": {
    "execution": {
     "iopub.execute_input": "2024-12-01T21:27:45.391111Z",
     "iopub.status.busy": "2024-12-01T21:27:45.390911Z",
     "iopub.status.idle": "2024-12-01T21:27:46.424889Z",
     "shell.execute_reply": "2024-12-01T21:27:46.424279Z",
     "shell.execute_reply.started": "2024-12-01T21:27:45.391093Z"
    },
    "tags": []
   },
   "outputs": [],
   "source": [
    "PROJECT_DIR_d = \"/fs/cbsuhy02/storage/yc2553/yc2553/projects/TRE_directionality/PROcap/\"\n",
    "PROJECT_DIR_r = \"/fs/cbsuhy02/storage/yc2553/yc2553/projects/TRE_directionality/resources/\"\n",
    "PROJECT_DIR_s = \"/fs/cbsuhy02/storage/yc2553/yc2553/projects/TRE_directionality/softwares/\"\n",
    "PROJECT_DIR_o = \"/fs/cbsuhy02/storage/yc2553/yc2553/projects/TRE_directionality/output/\""
   ]
  },
  {
   "cell_type": "markdown",
   "id": "0b1e6fca-254c-4b4e-8c94-8caeb77a9281",
   "metadata": {},
   "source": [
    "# CTCF binding"
   ]
  },
  {
   "cell_type": "code",
   "execution_count": 4,
   "id": "c44eabf3-daef-435d-9e5f-19ea5e69e8a0",
   "metadata": {
    "execution": {
     "iopub.execute_input": "2024-12-01T21:27:46.427455Z",
     "iopub.status.busy": "2024-12-01T21:27:46.427223Z",
     "iopub.status.idle": "2024-12-01T21:27:47.722181Z",
     "shell.execute_reply": "2024-12-01T21:27:47.721597Z",
     "shell.execute_reply.started": "2024-12-01T21:27:46.427433Z"
    }
   },
   "outputs": [],
   "source": [
    "s = \"HCT116\"\n",
    "ps = [\"divergent\", \"unidirectional\"]\n",
    "ds = [\"distal\", \"proximal\"]\n",
    "gs = [f\"{p}_{d}\" for p, d in itertools.product(ps, ds)]\n",
    "t = \"minTSS\"\n",
    "labels = [\"Up\", \"Unchanged\"]"
   ]
  },
  {
   "cell_type": "code",
   "execution_count": 5,
   "id": "7f88c1f8-74ff-4774-8bef-9c0f80528c23",
   "metadata": {
    "execution": {
     "iopub.execute_input": "2024-12-01T21:27:47.724776Z",
     "iopub.status.busy": "2024-12-01T21:27:47.724536Z",
     "iopub.status.idle": "2024-12-01T21:27:49.101923Z",
     "shell.execute_reply": "2024-12-01T21:27:49.082235Z",
     "shell.execute_reply.started": "2024-12-01T21:27:47.724754Z"
    }
   },
   "outputs": [],
   "source": [
    "# Criteria\n",
    "# 1. CTCF motif (FIMO)\n",
    "# 2. CTCF ChIP-seq (1-bp overlap)"
   ]
  },
  {
   "cell_type": "markdown",
   "id": "59111224-91af-4b1a-b9b1-62a9977af763",
   "metadata": {},
   "source": [
    "## CTCF motif"
   ]
  },
  {
   "cell_type": "code",
   "execution_count": 6,
   "id": "04d6c207-1aab-443e-b72b-7fdfcf50637e",
   "metadata": {
    "execution": {
     "iopub.execute_input": "2024-12-01T21:27:49.114357Z",
     "iopub.status.busy": "2024-12-01T21:27:49.113142Z",
     "iopub.status.idle": "2024-12-01T21:28:11.074564Z",
     "shell.execute_reply": "2024-12-01T21:28:11.072771Z",
     "shell.execute_reply.started": "2024-12-01T21:27:49.114324Z"
    },
    "scrolled": true
   },
   "outputs": [],
   "source": [
    "inputfile = f\"{PROJECT_DIR_r}genomes/human/GRCh38_no_alt_analysis_set_GCA_000001405.15.fasta\"\n",
    "with open(inputfile, \"r\") as f:\n",
    "\tfdict = SeqIO.to_dict(SeqIO.parse(f, \"fasta\"))"
   ]
  },
  {
   "cell_type": "code",
   "execution_count": 7,
   "id": "f49daea7-e666-4f40-a3e3-3e81202a9ffa",
   "metadata": {
    "execution": {
     "iopub.execute_input": "2024-12-01T21:28:11.078217Z",
     "iopub.status.busy": "2024-12-01T21:28:11.077077Z",
     "iopub.status.idle": "2024-12-01T21:28:11.106906Z",
     "shell.execute_reply": "2024-12-01T21:28:11.106195Z",
     "shell.execute_reply.started": "2024-12-01T21:28:11.078193Z"
    }
   },
   "outputs": [],
   "source": [
    "def get_sequence_for_prediction(inputfiles, fdict, outputfile):\n",
    "\twith DelimitedWriter(outputfile) as dw:\n",
    "\t\tfor inputfile in inputfiles:\n",
    "\t\t\twith DelimitedReader(inputfile) as dr:\n",
    "\t\t\t\tfor cols in dr:\n",
    "\t\t\t\t\tchrom, start, end = cols[:3]\n",
    "\t\t\t\t\tdw.write([\">\" + \"_\".join([chrom, start, end])])\n",
    "\t\t\t\t\tseq = fdict[chrom][int(start):int(end)].seq.upper()\n",
    "\t\t\t\t\tdw.write([seq])"
   ]
  },
  {
   "cell_type": "code",
   "execution_count": 8,
   "id": "485f7692-9d7f-4465-a9b0-e201fd9a88f8",
   "metadata": {
    "execution": {
     "iopub.execute_input": "2024-12-01T21:28:11.107851Z",
     "iopub.status.busy": "2024-12-01T21:28:11.107574Z",
     "iopub.status.idle": "2024-12-01T21:28:12.648512Z",
     "shell.execute_reply": "2024-12-01T21:28:12.647935Z",
     "shell.execute_reply.started": "2024-12-01T21:28:11.107830Z"
    },
    "scrolled": true
   },
   "outputs": [],
   "source": [
    "inputfiles = [f\"{PROJECT_DIR_d}bed_plot/{s}_{g}.bed\" for g in gs]\n",
    "outputfile = f\"{PROJECT_DIR_o}FIMO/{s}_seqs.fa\"\n",
    "get_sequence_for_prediction(inputfiles, fdict, outputfile)"
   ]
  },
  {
   "cell_type": "code",
   "execution_count": 9,
   "id": "5eb91ab2-e237-443d-b9c7-dff2e20215d5",
   "metadata": {
    "execution": {
     "iopub.execute_input": "2024-12-01T21:28:12.650285Z",
     "iopub.status.busy": "2024-12-01T21:28:12.650015Z",
     "iopub.status.idle": "2024-12-01T21:28:13.653292Z",
     "shell.execute_reply": "2024-12-01T21:28:13.651195Z",
     "shell.execute_reply.started": "2024-12-01T21:28:12.650265Z"
    }
   },
   "outputs": [],
   "source": [
    "def get_motifs(motif_file, seq_file, outputfile):\n",
    "\tcommands = [f\"{PROJECT_DIR_s}meme-5.5.7/src/fimo\", \n",
    "\t\t\t\t \"--skip-matched-sequence\",\n",
    "\t\t\t\t \"--verbosity 1\",\n",
    "\t\t\t\t motif_file, \n",
    "\t\t\t\t seq_file,\n",
    "\t\t\t\t \">\", outputfile\n",
    "\t\t\t\t ]\n",
    "\tsubprocess.run(\" \".join(commands), shell=True)"
   ]
  },
  {
   "cell_type": "code",
   "execution_count": 10,
   "id": "86341864-bd41-4a2e-b23b-afcaef6de853",
   "metadata": {
    "execution": {
     "iopub.execute_input": "2024-12-01T21:28:13.654518Z",
     "iopub.status.busy": "2024-12-01T21:28:13.654243Z",
     "iopub.status.idle": "2024-12-01T21:28:23.179756Z",
     "shell.execute_reply": "2024-12-01T21:28:23.179167Z",
     "shell.execute_reply.started": "2024-12-01T21:28:13.654498Z"
    }
   },
   "outputs": [
    {
     "name": "stderr",
     "output_type": "stream",
     "text": [
      "Warning: text mode turns off computation of q-values\n"
     ]
    }
   ],
   "source": [
    "# By default the program reports all motif occurrences with a p-value less than 1e-4. \n",
    "\n",
    "motif_file = f\"{PROJECT_DIR_r}other/JASPAR/JASPAR2024_CORE_vertebrates_CTCF.txt\"\n",
    "seq_file = f\"{PROJECT_DIR_o}FIMO/{s}_seqs.fa\"\n",
    "outputfile = f\"{PROJECT_DIR_o}FIMO/{s}_predictions.txt\"\n",
    "get_motifs(motif_file, seq_file, outputfile)"
   ]
  },
  {
   "cell_type": "code",
   "execution_count": 11,
   "id": "9803f436-49a3-41b4-b8a1-06cf6f7f68e8",
   "metadata": {
    "execution": {
     "iopub.execute_input": "2024-12-01T21:28:23.180664Z",
     "iopub.status.busy": "2024-12-01T21:28:23.180400Z",
     "iopub.status.idle": "2024-12-01T21:28:23.397032Z",
     "shell.execute_reply": "2024-12-01T21:28:23.396547Z",
     "shell.execute_reply.started": "2024-12-01T21:28:23.180645Z"
    }
   },
   "outputs": [
    {
     "data": {
      "text/html": [
       "<div>\n",
       "<style scoped>\n",
       "    .dataframe tbody tr th:only-of-type {\n",
       "        vertical-align: middle;\n",
       "    }\n",
       "\n",
       "    .dataframe tbody tr th {\n",
       "        vertical-align: top;\n",
       "    }\n",
       "\n",
       "    .dataframe thead th {\n",
       "        text-align: right;\n",
       "    }\n",
       "</style>\n",
       "<table border=\"1\" class=\"dataframe\">\n",
       "  <thead>\n",
       "    <tr style=\"text-align: right;\">\n",
       "      <th></th>\n",
       "      <th>motif_id</th>\n",
       "      <th>motif_alt_id</th>\n",
       "      <th>sequence_name</th>\n",
       "      <th>start</th>\n",
       "      <th>stop</th>\n",
       "      <th>strand</th>\n",
       "      <th>score</th>\n",
       "      <th>p-value</th>\n",
       "      <th>q-value</th>\n",
       "      <th>matched_sequence</th>\n",
       "    </tr>\n",
       "  </thead>\n",
       "  <tbody>\n",
       "    <tr>\n",
       "      <th>0</th>\n",
       "      <td>MA0139.2</td>\n",
       "      <td>CTCF</td>\n",
       "      <td>chr1_998781_999282</td>\n",
       "      <td>63</td>\n",
       "      <td>77</td>\n",
       "      <td>-</td>\n",
       "      <td>9.18033</td>\n",
       "      <td>0.000068</td>\n",
       "      <td>NaN</td>\n",
       "      <td>NaN</td>\n",
       "    </tr>\n",
       "    <tr>\n",
       "      <th>1</th>\n",
       "      <td>MA0139.2</td>\n",
       "      <td>CTCF</td>\n",
       "      <td>chr1_998781_999282</td>\n",
       "      <td>405</td>\n",
       "      <td>419</td>\n",
       "      <td>+</td>\n",
       "      <td>10.21310</td>\n",
       "      <td>0.000043</td>\n",
       "      <td>NaN</td>\n",
       "      <td>NaN</td>\n",
       "    </tr>\n",
       "  </tbody>\n",
       "</table>\n",
       "</div>"
      ],
      "text/plain": [
       "   motif_id motif_alt_id       sequence_name  start  stop strand     score  \\\n",
       "0  MA0139.2         CTCF  chr1_998781_999282     63    77      -   9.18033   \n",
       "1  MA0139.2         CTCF  chr1_998781_999282    405   419      +  10.21310   \n",
       "\n",
       "    p-value  q-value  matched_sequence  \n",
       "0  0.000068      NaN               NaN  \n",
       "1  0.000043      NaN               NaN  "
      ]
     },
     "execution_count": 11,
     "metadata": {},
     "output_type": "execute_result"
    }
   ],
   "source": [
    "# https://meme-suite.org/meme/doc/fimo-output-format.html#tsv_results\n",
    "# start: 1-based, included\n",
    "# stop: 1-based, included\n",
    "\n",
    "inputfile = f\"{PROJECT_DIR_o}FIMO/{s}_predictions.txt\"\n",
    "df_fimo = pd.read_table(inputfile)\n",
    "df_fimo.head(2)"
   ]
  },
  {
   "cell_type": "code",
   "execution_count": 12,
   "id": "f8cb6033-57ab-44f2-844f-1adffe25c77c",
   "metadata": {
    "execution": {
     "iopub.execute_input": "2024-12-01T21:28:23.399163Z",
     "iopub.status.busy": "2024-12-01T21:28:23.398957Z",
     "iopub.status.idle": "2024-12-01T21:28:27.878498Z",
     "shell.execute_reply": "2024-12-01T21:28:27.877929Z",
     "shell.execute_reply.started": "2024-12-01T21:28:23.399144Z"
    }
   },
   "outputs": [],
   "source": [
    "# For each element, keep the motif with the smallest p-value\n",
    "\n",
    "motifs = {}\n",
    "for e, group in df_fimo.groupby(\"sequence_name\"):\n",
    "\ttop_row = group.sort_values(by=\"p-value\").iloc[0]\n",
    "\tstart = int(e.split(\"_\")[1])\n",
    "\tmstart, mend = int(top_row[\"start\"]), int(top_row[\"stop\"])\n",
    "\t# motif center (0-based), start (0-based, included), end (0-based, not included)\n",
    "\tmotifs[e] = [start + (mstart + mend) // 2 - 1, start + mstart - 1, start + mend, top_row[\"strand\"]]"
   ]
  },
  {
   "cell_type": "markdown",
   "id": "e00c44a5-ecf5-43ce-b990-29abfaed1533",
   "metadata": {},
   "source": [
    "## CTCF ChIP-seq"
   ]
  },
  {
   "cell_type": "code",
   "execution_count": 13,
   "id": "6a24ae18-1939-4d1d-b513-1f3867fe781a",
   "metadata": {
    "execution": {
     "iopub.execute_input": "2024-12-01T21:28:27.879372Z",
     "iopub.status.busy": "2024-12-01T21:28:27.879120Z",
     "iopub.status.idle": "2024-12-01T21:28:40.638126Z",
     "shell.execute_reply": "2024-12-01T21:28:40.634624Z",
     "shell.execute_reply.started": "2024-12-01T21:28:27.879353Z"
    }
   },
   "outputs": [],
   "source": [
    "# Criterion 2: CTCF ChIP-seq (1-bp overlap)\n",
    "\n",
    "binding_labels = {}\n",
    "b1 = pybedtools.BedTool(f\"{PROJECT_DIR_r}ENCODE/ENCFF832INR.bed.gz\")\n",
    "for g in gs:\n",
    "\tb2 = pybedtools.BedTool(f\"{PROJECT_DIR_d}bed_plot/{s}_{g}.bed\")\n",
    "\toverlaps = set([\"_\".join(i.fields[:3]) for i in b2.intersect(b1, u=True)])\n",
    "\tfor i in b2:\n",
    "\t\te = \"_\".join(i.fields[:3])\n",
    "\t\t# Motif + ChIP-seq\n",
    "\t\tbinding_labels[e] = \"CTCF binding\" if e in overlaps & set(motifs.keys()) else \"No CTCF binding\""
   ]
  },
  {
   "cell_type": "code",
   "execution_count": 14,
   "id": "08b4f1c5-ab45-4072-aa1f-fbdc26b435de",
   "metadata": {
    "execution": {
     "iopub.execute_input": "2024-12-01T21:28:40.642339Z",
     "iopub.status.busy": "2024-12-01T21:28:40.641755Z",
     "iopub.status.idle": "2024-12-01T21:28:40.680168Z",
     "shell.execute_reply": "2024-12-01T21:28:40.679591Z",
     "shell.execute_reply.started": "2024-12-01T21:28:40.642314Z"
    }
   },
   "outputs": [],
   "source": [
    "outputfile = f\"{PROJECT_DIR_o}labels/{s}_CTCF_ChIP.json\"\n",
    "with open(outputfile, \"w\") as f:\n",
    "\tjson.dump(binding_labels, f)"
   ]
  },
  {
   "cell_type": "code",
   "execution_count": 15,
   "id": "a7d6bb6f-eed3-4558-b2cf-3eb6953a9da1",
   "metadata": {
    "execution": {
     "iopub.execute_input": "2024-12-01T21:28:40.681073Z",
     "iopub.status.busy": "2024-12-01T21:28:40.680802Z",
     "iopub.status.idle": "2024-12-01T21:28:41.912152Z",
     "shell.execute_reply": "2024-12-01T21:28:41.910350Z",
     "shell.execute_reply.started": "2024-12-01T21:28:40.681052Z"
    }
   },
   "outputs": [
    {
     "data": {
      "text/plain": [
       "3518"
      ]
     },
     "execution_count": 15,
     "metadata": {},
     "output_type": "execute_result"
    }
   ],
   "source": [
    "motifs2 = {}\n",
    "for e in motifs:\n",
    "\tif binding_labels[e] == \"CTCF binding\":\n",
    "\t\tmotifs2[e] = motifs[e]\n",
    "len(motifs2)"
   ]
  },
  {
   "cell_type": "code",
   "execution_count": 16,
   "id": "a1fa2374-248c-4951-ac14-433f58aec317",
   "metadata": {
    "execution": {
     "iopub.execute_input": "2024-12-01T21:28:41.918319Z",
     "iopub.status.busy": "2024-12-01T21:28:41.917754Z",
     "iopub.status.idle": "2024-12-01T21:28:43.170179Z",
     "shell.execute_reply": "2024-12-01T21:28:43.160694Z",
     "shell.execute_reply.started": "2024-12-01T21:28:41.918294Z"
    },
    "scrolled": true
   },
   "outputs": [],
   "source": [
    "outputfile = f\"{PROJECT_DIR_o}FIMO/{s}_CTCF_pos.json\"\n",
    "with open(outputfile, \"w\") as f:\n",
    "\tjson.dump(motifs2, f)"
   ]
  },
  {
   "cell_type": "markdown",
   "id": "bedabaed-caa6-4bca-9406-83cb7ca2c5bc",
   "metadata": {},
   "source": [
    "# %CTCF binding vs. DE"
   ]
  },
  {
   "cell_type": "code",
   "execution_count": 17,
   "id": "aa83aac8-e1cf-4527-a8bf-d104a86886ff",
   "metadata": {
    "execution": {
     "iopub.execute_input": "2024-12-01T21:28:43.178113Z",
     "iopub.status.busy": "2024-12-01T21:28:43.177511Z",
     "iopub.status.idle": "2024-12-01T21:28:44.466042Z",
     "shell.execute_reply": "2024-12-01T21:28:44.463361Z",
     "shell.execute_reply.started": "2024-12-01T21:28:43.178090Z"
    }
   },
   "outputs": [],
   "source": [
    "inputfile = f\"{PROJECT_DIR_o}labels/{s}_CTCF_DE.json\"\n",
    "with open(inputfile, \"r\") as f:\n",
    "\tDE_labels = json.load(f)"
   ]
  },
  {
   "cell_type": "code",
   "execution_count": 18,
   "id": "077274bb-23ee-4e6c-bd58-ab7fcdf45751",
   "metadata": {
    "execution": {
     "iopub.execute_input": "2024-12-01T21:28:44.467885Z",
     "iopub.status.busy": "2024-12-01T21:28:44.467601Z",
     "iopub.status.idle": "2024-12-01T21:28:45.901261Z",
     "shell.execute_reply": "2024-12-01T21:28:45.899254Z",
     "shell.execute_reply.started": "2024-12-01T21:28:44.467864Z"
    }
   },
   "outputs": [],
   "source": [
    "es = {}\n",
    "for g in gs:\n",
    "\tb = pybedtools.BedTool(f\"{PROJECT_DIR_d}bed_plot/{s}_{g}.bed\")\n",
    "\tes[g] = [\"_\".join(i.fields[:3]) for i in b]"
   ]
  },
  {
   "cell_type": "code",
   "execution_count": 19,
   "id": "4c4ffd16-9e95-4540-b4ce-e69d8dee6b61",
   "metadata": {
    "execution": {
     "iopub.execute_input": "2024-12-01T21:28:45.903715Z",
     "iopub.status.busy": "2024-12-01T21:28:45.903399Z",
     "iopub.status.idle": "2024-12-01T21:28:46.853253Z",
     "shell.execute_reply": "2024-12-01T21:28:46.842528Z",
     "shell.execute_reply.started": "2024-12-01T21:28:45.903693Z"
    }
   },
   "outputs": [],
   "source": [
    "results = []\n",
    "for g in gs:\n",
    "\tfor e in es[g]:\n",
    "\t\tif e in DE_labels[t]:\n",
    "\t\t\tresults.append([t, g, DE_labels[t][e], binding_labels[e]])\n",
    "df_labels = pd.DataFrame(results, columns=[\"TSS\", \"Group\", \"DE_label\", \"CTCF_label\"])"
   ]
  },
  {
   "cell_type": "code",
   "execution_count": 20,
   "id": "b86ec8ee-fe23-4dc6-a999-26d43f665e27",
   "metadata": {
    "execution": {
     "iopub.execute_input": "2024-12-01T21:28:46.860623Z",
     "iopub.status.busy": "2024-12-01T21:28:46.860010Z",
     "iopub.status.idle": "2024-12-01T21:28:48.150982Z",
     "shell.execute_reply": "2024-12-01T21:28:48.150386Z",
     "shell.execute_reply.started": "2024-12-01T21:28:46.860594Z"
    }
   },
   "outputs": [],
   "source": [
    "results = []\n",
    "for g, label in itertools.product(gs, labels):\n",
    "\ttot = df_labels[(df_labels[\"TSS\"]==t) & (df_labels[\"Group\"]==g) & (df_labels[\"DE_label\"]==label)]\n",
    "\tsub = tot[tot[\"CTCF_label\"]==\"CTCF binding\"]\n",
    "\tprop = len(sub)/len(tot)*100\n",
    "\tp, d = g.split(\"_\")\n",
    "\tresults.append([d, p.capitalize(), t, label, len(tot), len(sub), prop])\n",
    "df_ctcf_prop = pd.DataFrame(results, columns=[\"Group1\", \"Group2\", \"Side\", \"Label\", \"No. elements\", \"No. CTCF binding\", \"Proportion\"])"
   ]
  },
  {
   "cell_type": "code",
   "execution_count": 21,
   "id": "9d142b05-980f-473a-88ca-c7aad3db8eba",
   "metadata": {
    "execution": {
     "iopub.execute_input": "2024-12-01T21:28:48.151909Z",
     "iopub.status.busy": "2024-12-01T21:28:48.151639Z",
     "iopub.status.idle": "2024-12-01T21:28:49.299941Z",
     "shell.execute_reply": "2024-12-01T21:28:49.299369Z",
     "shell.execute_reply.started": "2024-12-01T21:28:48.151888Z"
    }
   },
   "outputs": [],
   "source": [
    "def plot_props(df, outputfile):\n",
    "\tfig, ax = plt.subplots(figsize=(3,2.5))\n",
    "\tg = sns.barplot(data=df, x=\"Label\", y=\"Proportion\", hue=\"Group2\", palette=[\"#807dba\", \"#fccde5\"])\n",
    "\tg.spines[[\"right\", \"top\"]].set_visible(False)\n",
    "\tg.legend(loc=\"upper left\", bbox_to_anchor=(0.5,1), fontsize=sfontsize, frameon=False)\n",
    "\t\n",
    "\ttexts = []\n",
    "\tfor p in ps:\n",
    "\t\tfor index, row in df[df[\"Group2\"]==p.capitalize()].iterrows():\n",
    "\t\t\ttexts.append(f\"{row['No. CTCF binding']}/{row['No. elements']}\")\n",
    "\tfor bar, text in zip(g.patches, texts):\n",
    "\t\tg.text(bar.get_x()+0.15, 20, text, color=\"#000000\", rotation=90, fontsize=sfontsize) \n",
    "\n",
    "\tg.set_ylim([0,105])\n",
    "\tg.set_ylabel(\"CTCF-bound TREs (%)\", fontsize=bfontsize, fontweight=\"bold\")\n",
    "\tg.tick_params(axis=\"y\", labelsize=sfontsize)\n",
    "\n",
    "\tg.set_xlabel(\"\")\n",
    "\tg.tick_params(axis=\"x\", labelsize=bfontsize)\n",
    "\tfor label in g.get_xticklabels():\n",
    "\t    label.set_fontweight(\"bold\")\n",
    "\n",
    "\tplt.savefig(outputfile, bbox_inches=\"tight\", dpi=300)"
   ]
  },
  {
   "cell_type": "code",
   "execution_count": 22,
   "id": "e74f8404-f0d1-43d3-904a-e2a267e51b61",
   "metadata": {
    "execution": {
     "iopub.execute_input": "2024-12-01T21:28:49.300842Z",
     "iopub.status.busy": "2024-12-01T21:28:49.300560Z",
     "iopub.status.idle": "2024-12-01T21:28:51.916000Z",
     "shell.execute_reply": "2024-12-01T21:28:51.915450Z",
     "shell.execute_reply.started": "2024-12-01T21:28:49.300820Z"
    },
    "scrolled": true
   },
   "outputs": [
    {
     "data": {
      "image/png": "[encoded data removed]",
      "text/plain": [
       "<Figure size 300x250 with 1 Axes>"
      ]
     },
     "metadata": {},
     "output_type": "display_data"
    },
    {
     "data": {
      "image/png": "[encoded data removed]",
      "text/plain": [
       "<Figure size 300x250 with 1 Axes>"
      ]
     },
     "metadata": {},
     "output_type": "display_data"
    }
   ],
   "source": [
    "for d in ds:\t\n",
    "\tfolder = \"supp_figures/\" if d == \"distal\" else \"other_figures/\"\n",
    "\toutputfile = f\"{PROJECT_DIR_o}{folder}SuppFig7c.pdf\"\n",
    "\tplot_props(df_ctcf_prop[(df_ctcf_prop[\"Group1\"]==d)], outputfile)"
   ]
  },
  {
   "cell_type": "markdown",
   "id": "f5f99300-3911-449c-9f98-8f3d26287c59",
   "metadata": {},
   "source": [
    "# %Up vs. directionality"
   ]
  },
  {
   "cell_type": "code",
   "execution_count": 23,
   "id": "9231974b-0d7c-4be3-84d6-3ffd3127b06f",
   "metadata": {
    "execution": {
     "iopub.execute_input": "2024-12-01T21:28:51.917056Z",
     "iopub.status.busy": "2024-12-01T21:28:51.916701Z",
     "iopub.status.idle": "2024-12-01T21:28:51.928229Z",
     "shell.execute_reply": "2024-12-01T21:28:51.927734Z",
     "shell.execute_reply.started": "2024-12-01T21:28:51.917018Z"
    }
   },
   "outputs": [],
   "source": [
    "inputfile = f\"{PROJECT_DIR_o}labels/{s}_DI.json\"\n",
    "with open(inputfile, \"r\") as f:\n",
    "\tquantiles = json.load(f)"
   ]
  },
  {
   "cell_type": "code",
   "execution_count": 24,
   "id": "2209ce82-dee2-4789-9369-bc9062fb7e3d",
   "metadata": {
    "execution": {
     "iopub.execute_input": "2024-12-01T21:28:51.929086Z",
     "iopub.status.busy": "2024-12-01T21:28:51.928842Z",
     "iopub.status.idle": "2024-12-01T21:28:53.316826Z",
     "shell.execute_reply": "2024-12-01T21:28:53.316251Z",
     "shell.execute_reply.started": "2024-12-01T21:28:51.929066Z"
    }
   },
   "outputs": [],
   "source": [
    "results = []\n",
    "for g in gs:\n",
    "\tfor e in es[g]:\n",
    "\t\tif e in DE_labels[t]:\n",
    "\t\t\tl = \"Uni\" if \"unidirectional\" in g else quantiles[e]\n",
    "\t\t\tresults.append([t, g.split(\"_\")[1], DE_labels[t][e], l])\n",
    "df_labels2 = pd.DataFrame(results, columns=[\"TSS\", \"Group\", \"DE_label\", \"DI_label\"])"
   ]
  },
  {
   "cell_type": "code",
   "execution_count": 25,
   "id": "533fd987-0b34-4cdc-87fb-a4b92983f826",
   "metadata": {
    "execution": {
     "iopub.execute_input": "2024-12-01T21:28:53.317631Z",
     "iopub.status.busy": "2024-12-01T21:28:53.317418Z",
     "iopub.status.idle": "2024-12-01T21:28:55.343365Z",
     "shell.execute_reply": "2024-12-01T21:28:55.342838Z",
     "shell.execute_reply.started": "2024-12-01T21:28:53.317611Z"
    }
   },
   "outputs": [
    {
     "data": {
      "text/html": [
       "<div>\n",
       "<style scoped>\n",
       "    .dataframe tbody tr th:only-of-type {\n",
       "        vertical-align: middle;\n",
       "    }\n",
       "\n",
       "    .dataframe tbody tr th {\n",
       "        vertical-align: top;\n",
       "    }\n",
       "\n",
       "    .dataframe thead th {\n",
       "        text-align: right;\n",
       "    }\n",
       "</style>\n",
       "<table border=\"1\" class=\"dataframe\">\n",
       "  <thead>\n",
       "    <tr style=\"text-align: right;\">\n",
       "      <th></th>\n",
       "      <th>Group1</th>\n",
       "      <th>Group2</th>\n",
       "      <th>Side</th>\n",
       "      <th>No. elements</th>\n",
       "      <th>No. Ups</th>\n",
       "      <th>Proportion</th>\n",
       "    </tr>\n",
       "  </thead>\n",
       "  <tbody>\n",
       "    <tr>\n",
       "      <th>0</th>\n",
       "      <td>distal</td>\n",
       "      <td>Q1</td>\n",
       "      <td>minTSS</td>\n",
       "      <td>2080</td>\n",
       "      <td>12</td>\n",
       "      <td>0.576923</td>\n",
       "    </tr>\n",
       "    <tr>\n",
       "      <th>1</th>\n",
       "      <td>distal</td>\n",
       "      <td>Q2</td>\n",
       "      <td>minTSS</td>\n",
       "      <td>2035</td>\n",
       "      <td>29</td>\n",
       "      <td>1.425061</td>\n",
       "    </tr>\n",
       "  </tbody>\n",
       "</table>\n",
       "</div>"
      ],
      "text/plain": [
       "   Group1 Group2    Side  No. elements  No. Ups  Proportion\n",
       "0  distal     Q1  minTSS          2080       12    0.576923\n",
       "1  distal     Q2  minTSS          2035       29    1.425061"
      ]
     },
     "execution_count": 25,
     "metadata": {},
     "output_type": "execute_result"
    }
   ],
   "source": [
    "qs = [\"Q1\", \"Q2\", \"Q3\", \"Q4\", \"Uni\"]\n",
    "results = []\n",
    "for d, q in itertools.product(ds, qs):\n",
    "\ttot = df_labels[(df_labels2[\"TSS\"]==t) & (df_labels2[\"Group\"]==d) & (df_labels2[\"DI_label\"]==q)]\n",
    "\tsub = tot[tot[\"DE_label\"]==\"Up\"]\n",
    "\tprop = len(sub)/len(tot)*100\n",
    "\tresults.append([d, q, t, len(tot), len(sub), prop])\n",
    "df_up_prop = pd.DataFrame(results, columns=[\"Group1\", \"Group2\", \"Side\", \"No. elements\", \"No. Ups\", \"Proportion\"])\n",
    "df_up_prop.head(2)"
   ]
  },
  {
   "cell_type": "code",
   "execution_count": 26,
   "id": "2d0b1eb6-7978-4ae8-a7db-21f4c336d11d",
   "metadata": {
    "execution": {
     "iopub.execute_input": "2024-12-01T21:28:55.344950Z",
     "iopub.status.busy": "2024-12-01T21:28:55.344658Z",
     "iopub.status.idle": "2024-12-01T21:28:56.598295Z",
     "shell.execute_reply": "2024-12-01T21:28:56.596623Z",
     "shell.execute_reply.started": "2024-12-01T21:28:55.344930Z"
    }
   },
   "outputs": [],
   "source": [
    "def plot_props2(d, df, outputfile):\n",
    "\tfig, ax = plt.subplots(figsize=(3,2.2))\n",
    "\tg = sns.barplot(data=df, x=\"Group2\", y=\"Proportion\", hue=\"Group2\", legend=False,\n",
    "\t\t\t\t\tpalette=[\"#efedf5\", \"#bcbddc\", \"#807dba\", \"#3f007d\", \"#fccde5\"])\n",
    "\tg.spines[[\"right\", \"top\"]].set_visible(False)\n",
    "\t\n",
    "\ttexts = []\n",
    "\tfor q in qs:\n",
    "\t\trow = df[df[\"Group2\"] == q].iloc[0]\n",
    "\t\ttexts.append(f\"{row['No. Ups']}/{row['No. elements']}\")\n",
    "\n",
    "\tfor bar, text in zip(g.patches, texts):\n",
    "\t\tif texts.index(text) == 4:\n",
    "\t\t\ty = bar.get_height()-10\n",
    "\t\telse:\n",
    "\t\t\ty = bar.get_height()+2\n",
    "\t\tg.text(bar.get_x()+0.3, y, text, color=\"#000000\", rotation=90, fontsize=sfontsize) \n",
    "\t\t\n",
    "\tg.set_ylim([0,17])\n",
    "\tg.set_ylabel(\"Up (%)\", fontsize=bfontsize, fontweight=\"bold\")\n",
    "\tg.yaxis.set_label_coords(-0.15, 0.5)\n",
    "\tg.tick_params(axis=\"y\", labelsize=sfontsize)\n",
    "\n",
    "\tg.set_xlabel(\"\")\n",
    "\tg.tick_params(axis=\"x\", labelsize=bfontsize)\n",
    "\tfor label in g.get_xticklabels():\n",
    "\t    label.set_fontweight('bold')\n",
    "\n",
    "\tplt.savefig(outputfile, bbox_inches=\"tight\", dpi=300)"
   ]
  },
  {
   "cell_type": "code",
   "execution_count": 27,
   "id": "811e1a6a-0f1a-43cd-8ffd-4d1ce76bf8a7",
   "metadata": {
    "execution": {
     "iopub.execute_input": "2024-12-01T21:28:56.600779Z",
     "iopub.status.busy": "2024-12-01T21:28:56.600495Z",
     "iopub.status.idle": "2024-12-01T21:28:58.216563Z",
     "shell.execute_reply": "2024-12-01T21:28:58.216015Z",
     "shell.execute_reply.started": "2024-12-01T21:28:56.600758Z"
    },
    "scrolled": true
   },
   "outputs": [
    {
     "data": {
      "image/png": "[encoded data removed]",
      "text/plain": [
       "<Figure size 300x220 with 1 Axes>"
      ]
     },
     "metadata": {},
     "output_type": "display_data"
    },
    {
     "data": {
      "image/png": "[encoded data removed]",
      "text/plain": [
       "<Figure size 300x220 with 1 Axes>"
      ]
     },
     "metadata": {},
     "output_type": "display_data"
    }
   ],
   "source": [
    "for d in ds:\n",
    "\tfolder = \"supp_figures/\" if d == \"distal\" else \"other_figures/\"\n",
    "\toutputfile = f\"{PROJECT_DIR_o}{folder}SuppFig7d.pdf\"\n",
    "\tplot_props2(d, df_up_prop[(df_up_prop[\"Group1\"]==d)], outputfile)"
   ]
  },
  {
   "cell_type": "code",
   "execution_count": null,
   "id": "50064603-8834-4afd-b2d3-fb34f1557f14",
   "metadata": {},
   "outputs": [],
   "source": []
  }
 ],
 "metadata": {
  "kernelspec": {
   "display_name": "Python 3 (ipykernel)",
   "language": "python",
   "name": "python3"
  },
  "language_info": {
   "codemirror_mode": {
    "name": "ipython",
    "version": 3
   },
   "file_extension": ".py",
   "mimetype": "text/x-python",
   "name": "python",
   "nbconvert_exporter": "python",
   "pygments_lexer": "ipython3",
   "version": "3.10.8"
  }
 },
 "nbformat": 4,
 "nbformat_minor": 5
}

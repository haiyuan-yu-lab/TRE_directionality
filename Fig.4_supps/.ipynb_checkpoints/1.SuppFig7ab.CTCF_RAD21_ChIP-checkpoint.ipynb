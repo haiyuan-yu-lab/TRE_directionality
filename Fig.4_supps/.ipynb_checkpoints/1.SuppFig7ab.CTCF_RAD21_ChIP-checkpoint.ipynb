{
 "cells": [
  {
   "cell_type": "code",
   "execution_count": 1,
   "id": "5a6f59dd-84f0-4a76-a239-da0c6f6f77cc",
   "metadata": {
    "execution": {
     "iopub.execute_input": "2024-11-28T01:55:25.036821Z",
     "iopub.status.busy": "2024-11-28T01:55:25.036619Z",
     "iopub.status.idle": "2024-11-28T01:55:27.558785Z",
     "shell.execute_reply": "2024-11-28T01:55:27.558243Z",
     "shell.execute_reply.started": "2024-11-28T01:55:25.036799Z"
    }
   },
   "outputs": [],
   "source": [
    "from mphelper import ProcessWrapPool\n",
    "import pandas as pd\n",
    "import matplotlib.pyplot as plt\n",
    "import itertools\n",
    "import biodataplot.metaplot as bpm\n",
    "from biodata.bigwig import BigWigIReader\n",
    "from biodata.bed import BEDXReader\n",
    "from genomictools import GenomicCollection\n",
    "import json\n",
    "from commandtemplate.conda import run_template_bash\n",
    "import seaborn as sns"
   ]
  },
  {
   "cell_type": "code",
   "execution_count": 2,
   "id": "fd9d462f-6eb0-41fb-9c0f-e08095452cfb",
   "metadata": {
    "execution": {
     "iopub.execute_input": "2024-11-28T01:55:27.559700Z",
     "iopub.status.busy": "2024-11-28T01:55:27.559377Z",
     "iopub.status.idle": "2024-11-28T01:55:27.563761Z",
     "shell.execute_reply": "2024-11-28T01:55:27.563331Z",
     "shell.execute_reply.started": "2024-11-28T01:55:27.559680Z"
    }
   },
   "outputs": [],
   "source": [
    "import sys\n",
    "from pathlib import Path\n",
    "sys.path.append(str(Path.cwd().parent))\n",
    "import utils"
   ]
  },
  {
   "cell_type": "code",
   "execution_count": 3,
   "id": "58ec3928-b042-4b4c-8d82-67158132cb98",
   "metadata": {
    "execution": {
     "iopub.execute_input": "2024-11-28T01:55:27.564535Z",
     "iopub.status.busy": "2024-11-28T01:55:27.564295Z",
     "iopub.status.idle": "2024-11-28T01:55:29.082334Z",
     "shell.execute_reply": "2024-11-28T01:55:29.081867Z",
     "shell.execute_reply.started": "2024-11-28T01:55:27.564517Z"
    },
    "scrolled": true
   },
   "outputs": [],
   "source": [
    "import matplotlib\n",
    "font_dir = Path.cwd().parent / \"font\"\n",
    "for font in [\"Arial.ttf\", \"Arial_Bold.ttf\"]:\n",
    "    matplotlib.font_manager.fontManager.addfont(font_dir / font)\n",
    "matplotlib.rcParams[\"font.family\"] = \"Arial\"\n",
    "bfontsize = 12\n",
    "sfontsize = 9"
   ]
  },
  {
   "cell_type": "code",
   "execution_count": 4,
   "id": "3a02941b-44fb-4ae3-aa1f-6a6366d81611",
   "metadata": {
    "execution": {
     "iopub.execute_input": "2024-11-28T01:55:29.083164Z",
     "iopub.status.busy": "2024-11-28T01:55:29.082897Z",
     "iopub.status.idle": "2024-11-28T01:55:30.978621Z",
     "shell.execute_reply": "2024-11-28T01:55:30.977971Z",
     "shell.execute_reply.started": "2024-11-28T01:55:29.083146Z"
    },
    "tags": []
   },
   "outputs": [],
   "source": [
    "PROJECT_DIR_d = \"/fs/cbsuhy02/storage/yc2553/yc2553/projects/TRE_directionality/PROcap/\"\n",
    "PROJECT_DIR_r = \"/fs/cbsuhy02/storage/yc2553/yc2553/projects/TRE_directionality/resources/\"\n",
    "PROJECT_DIR_o = \"/fs/cbsuhy02/storage/yc2553/yc2553/projects/TRE_directionality/output/\""
   ]
  },
  {
   "cell_type": "markdown",
   "id": "d0406638-edd1-4e9c-9b65-b1b3f040adc2",
   "metadata": {},
   "source": [
    "# Generate feature matrix"
   ]
  },
  {
   "cell_type": "markdown",
   "id": "ba8194fb-a4df-4ae8-808d-4e74c5045cbe",
   "metadata": {},
   "source": [
    "## Get individual matrix"
   ]
  },
  {
   "cell_type": "code",
   "execution_count": 29,
   "id": "c44eabf3-daef-435d-9e5f-19ea5e69e8a0",
   "metadata": {
    "execution": {
     "iopub.execute_input": "2024-11-28T02:16:13.499517Z",
     "iopub.status.busy": "2024-11-28T02:16:13.499138Z",
     "iopub.status.idle": "2024-11-28T02:16:13.503661Z",
     "shell.execute_reply": "2024-11-28T02:16:13.503147Z",
     "shell.execute_reply.started": "2024-11-28T02:16:13.499492Z"
    }
   },
   "outputs": [],
   "source": [
    "s = \"HCT116\"\n",
    "ps = [\"divergent\", \"unidirectional\"]\n",
    "ds = [\"distal\", \"proximal\"]\n",
    "cs = [\"\", \"_control\"]\n",
    "gs = [f\"{p}_{d}{c}\" for p, d, c in itertools.product(ps, ds, cs)]"
   ]
  },
  {
   "cell_type": "code",
   "execution_count": 6,
   "id": "531ac254-e8b9-4eba-8a6e-e24a719d758d",
   "metadata": {
    "execution": {
     "iopub.execute_input": "2024-11-28T01:55:32.544995Z",
     "iopub.status.busy": "2024-11-28T01:55:32.544745Z",
     "iopub.status.idle": "2024-11-28T01:55:34.677472Z",
     "shell.execute_reply": "2024-11-28T01:55:34.676899Z",
     "shell.execute_reply.started": "2024-11-28T01:55:32.544977Z"
    }
   },
   "outputs": [],
   "source": [
    "bws = {\"CTCF\": f\"{PROJECT_DIR_r}ENCODE/ENCFF388PVO.bigWig\",\n",
    "\t   \"RAD21\": f\"{PROJECT_DIR_r}ENCODE/ENCFF776IXR.bigWig\"\n",
    "\t\t}\n",
    "ms = list(bws.keys())"
   ]
  },
  {
   "cell_type": "code",
   "execution_count": 7,
   "id": "89e65c1a-8e9f-434a-91ac-6dd777bd63c8",
   "metadata": {
    "execution": {
     "iopub.execute_input": "2024-11-28T01:55:34.678223Z",
     "iopub.status.busy": "2024-11-28T01:55:34.677996Z",
     "iopub.status.idle": "2024-11-28T01:56:41.969413Z",
     "shell.execute_reply": "2024-11-28T01:56:41.968817Z",
     "shell.execute_reply.started": "2024-11-28T01:55:34.678206Z"
    },
    "scrolled": true
   },
   "outputs": [],
   "source": [
    "df_features = {}\n",
    "for g in gs:\n",
    "\tbed = f\"{PROJECT_DIR_d}bed_plot/{s}_{g}.bed\"\n",
    "\tif \"control\" in bed:\n",
    "\t\tall_regions = BEDXReader.read_all(GenomicCollection, bed)\n",
    "\t\tuse_strand = False\n",
    "\telse:\n",
    "\t\tall_regions = BEDXReader.read_all(GenomicCollection, bed, strandfield=\"f7\")\n",
    "\t\tuse_strand = True\n",
    "\tindex = [f\"{r.chrom}_{r.chromStart}_{r.chromEnd}\" for r in all_regions]\n",
    "\n",
    "\tfor m in bws:\n",
    "\t\tdf_features[(m,g)] = pd.DataFrame(bpm.generate_signal_profile(all_regions, BigWigIReader(bws[m]), fixed_size=1001, use_strand=use_strand), index=index)"
   ]
  },
  {
   "cell_type": "code",
   "execution_count": 8,
   "id": "cf86b9ea-59a4-4fcf-b30a-803d872feb5a",
   "metadata": {
    "execution": {
     "iopub.execute_input": "2024-11-28T01:56:41.970327Z",
     "iopub.status.busy": "2024-11-28T01:56:41.970068Z",
     "iopub.status.idle": "2024-11-28T01:57:56.548160Z",
     "shell.execute_reply": "2024-11-28T01:57:56.547036Z",
     "shell.execute_reply.started": "2024-11-28T01:56:41.970307Z"
    }
   },
   "outputs": [],
   "source": [
    "df_reformat = {}\n",
    "for k in df_features:\n",
    "\tdf = df_features[k].reset_index()\n",
    "\tdf_reformat[k] = pd.melt(df,\n",
    "\t\t\t\t\t\t  id_vars=\"index\",\n",
    "\t\t\t\t\t\t  value_vars=list(df.columns[1:]),\n",
    "\t\t\t\t\t\t  var_name=\"Position\",\n",
    "\t\t\t\t\t\t  value_name=\"Feature\"\n",
    "\t\t\t\t\t\t  )"
   ]
  },
  {
   "cell_type": "markdown",
   "id": "f4a314bd-ff95-420c-9e36-bb7cca022828",
   "metadata": {},
   "source": [
    "## Combine dataframes for plotting"
   ]
  },
  {
   "cell_type": "code",
   "execution_count": 9,
   "id": "cb05bebf-3b11-44cb-b948-404c9dd5c198",
   "metadata": {
    "execution": {
     "iopub.execute_input": "2024-11-28T01:57:56.549802Z",
     "iopub.status.busy": "2024-11-28T01:57:56.549541Z",
     "iopub.status.idle": "2024-11-28T01:59:14.532370Z",
     "shell.execute_reply": "2024-11-28T01:59:14.531397Z",
     "shell.execute_reply.started": "2024-11-28T01:57:56.549782Z"
    },
    "scrolled": true
   },
   "outputs": [],
   "source": [
    "df_metaplots = {}\n",
    "for m, d in itertools.product(ms, ds):\n",
    "\tdfs = []\n",
    "\tfor p in ps:\n",
    "\t\tdf1 = df_reformat[(m, f\"{p}_{d}\")].copy()\n",
    "\t\tdf2 = df_reformat[(m, f\"{p}_{d}_control\")].copy()\n",
    "\t\tdf1[\"Label\"] = p.capitalize()\n",
    "\t\tdf2[\"Label\"] = \"Ctrl\"\n",
    "\t\tdfs.extend([df1, df2])\n",
    "\tdf_metaplots[(m,d)] = pd.concat(dfs).reset_index(drop=True)\t\t"
   ]
  },
  {
   "cell_type": "markdown",
   "id": "06685bcf-4133-40b1-80b9-2e2dc6c4859d",
   "metadata": {},
   "source": [
    "# Divergent vs. unidirectional"
   ]
  },
  {
   "cell_type": "markdown",
   "id": "311a343d-fe66-4b1f-9fd3-afdbcd876b3f",
   "metadata": {},
   "source": [
    "## Settings"
   ]
  },
  {
   "cell_type": "markdown",
   "id": "11d8da11-1899-42eb-ba4a-0f672253d328",
   "metadata": {},
   "source": [
    "### ylims"
   ]
  },
  {
   "cell_type": "code",
   "execution_count": 10,
   "id": "53c1d682-6231-474a-a6f9-0b7a710514fd",
   "metadata": {
    "execution": {
     "iopub.execute_input": "2024-11-28T01:59:14.533579Z",
     "iopub.status.busy": "2024-11-28T01:59:14.533284Z",
     "iopub.status.idle": "2024-11-28T01:59:14.538079Z",
     "shell.execute_reply": "2024-11-28T01:59:14.537611Z",
     "shell.execute_reply.started": "2024-11-28T01:59:14.533560Z"
    }
   },
   "outputs": [],
   "source": [
    "def get_ylims(labels, df_metaplots):\n",
    "\tfor m, d in itertools.product(ms, ds):\n",
    "\t\tmaxs = []\n",
    "\t\tmins = []\n",
    "\t\tdf = df_metaplots[(m,d)]\n",
    "\t\tfor label in labels:\n",
    "\t\t\tmaxs.append(df[df[\"Label\"]==label].groupby(\"Position\")[\"Feature\"].mean().max())\n",
    "\t\t\tmins.append(df[df[\"Label\"]==label].groupby(\"Position\")[\"Feature\"].mean().min())\n",
    "\t\tprint(d, m, max(maxs), min(mins))"
   ]
  },
  {
   "cell_type": "code",
   "execution_count": 11,
   "id": "fe4ec647-0707-4bc4-a777-09dda5dab000",
   "metadata": {
    "execution": {
     "iopub.execute_input": "2024-11-28T01:59:14.538887Z",
     "iopub.status.busy": "2024-11-28T01:59:14.538653Z",
     "iopub.status.idle": "2024-11-28T02:02:31.043021Z",
     "shell.execute_reply": "2024-11-28T02:02:31.042184Z",
     "shell.execute_reply.started": "2024-11-28T01:59:14.538869Z"
    }
   },
   "outputs": [
    {
     "name": "stdout",
     "output_type": "stream",
     "text": [
      "proximal CTCF 25.881199419618614 0.6986522180567037\n",
      "distal CTCF 30.217921956404272 0.6891254908994491\n",
      "proximal RAD21 2.735267164125558 0.4469265057755414\n",
      "distal RAD21 4.189623356226407 0.4956126477579581\n"
     ]
    }
   ],
   "source": [
    "labels = [\"Ctrl\", \"Divergent\", \"Unidirectional\"]\n",
    "get_ylims(labels, df_metaplots)"
   ]
  },
  {
   "cell_type": "markdown",
   "id": "365ba695-bcf7-4ece-ad50-f57116f250be",
   "metadata": {},
   "source": [
    "### Sorting order"
   ]
  },
  {
   "cell_type": "code",
   "execution_count": 12,
   "id": "d6a00a2c-5169-428d-a6cd-63ca5edcbae3",
   "metadata": {
    "execution": {
     "iopub.execute_input": "2024-11-28T02:02:31.044140Z",
     "iopub.status.busy": "2024-11-28T02:02:31.043860Z",
     "iopub.status.idle": "2024-11-28T02:02:31.189935Z",
     "shell.execute_reply": "2024-11-28T02:02:31.189408Z",
     "shell.execute_reply.started": "2024-11-28T02:02:31.044121Z"
    },
    "scrolled": true
   },
   "outputs": [],
   "source": [
    "m = \"CTCF\"\n",
    "sort_dict = {}\n",
    "for g in gs:\n",
    "\trow_sums = df_features[(m, g)].sum(axis=1).to_dict()\n",
    "\tsort_dict.update({str(key): value for key, value in row_sums.items()})"
   ]
  },
  {
   "cell_type": "code",
   "execution_count": 13,
   "id": "bfb6ac21-b787-4191-94d7-214dfdc9886d",
   "metadata": {
    "execution": {
     "iopub.execute_input": "2024-11-28T02:02:31.190812Z",
     "iopub.status.busy": "2024-11-28T02:02:31.190572Z",
     "iopub.status.idle": "2024-11-28T02:02:32.640920Z",
     "shell.execute_reply": "2024-11-28T02:02:32.640457Z",
     "shell.execute_reply.started": "2024-11-28T02:02:31.190793Z"
    }
   },
   "outputs": [],
   "source": [
    "outputfile = f\"{PROJECT_DIR_o}labels/{s}_{m}_sum.json\"\n",
    "with open(outputfile, \"w\") as f:\n",
    "\tjson.dump(sort_dict, f)"
   ]
  },
  {
   "cell_type": "markdown",
   "id": "b8edd7da-babc-4d85-a1f5-04bd0245b198",
   "metadata": {},
   "source": [
    "## Generate metaplots & heatmaps"
   ]
  },
  {
   "cell_type": "code",
   "execution_count": 14,
   "id": "88d1f1c5-1bcf-48ab-9b1f-50a03519cc5d",
   "metadata": {
    "execution": {
     "iopub.execute_input": "2024-11-28T02:02:32.641781Z",
     "iopub.status.busy": "2024-11-28T02:02:32.641541Z",
     "iopub.status.idle": "2024-11-28T02:02:34.095085Z",
     "shell.execute_reply": "2024-11-28T02:02:34.094511Z",
     "shell.execute_reply.started": "2024-11-28T02:02:32.641762Z"
    }
   },
   "outputs": [],
   "source": [
    "def generate_metaplot_and_heatmap(d, ps, ms, df_metaplots, df_heatmaps, sort_file, ylims, yticks, cmap, outputfile, test, xlabel=\"Distance (kb)\"):\n",
    "\theight_ratios = [5,5,5,0.8,1]\n",
    "\tfig, axes = plt.subplots(len(height_ratios), len(ms), figsize=(3.5, 5), gridspec_kw={'height_ratios': height_ratios})\n",
    "\tfor col in range(len(ms)):\n",
    "\t\taxes[3,col].axis(\"off\")\n",
    "\tlabelpad = 2\n",
    "\ty_align = -0.25\n",
    "\twspace = 0.3\n",
    "\thspace = 0.3\n",
    "\n",
    "\thue_order = [\"Ctrl\", \"Divergent\", \"Unidirectional\"]\n",
    "\tpalette = [\"#d9d9d9\", \"#313695\", \"#de77ae\"]\n",
    "\t\n",
    "\tfor m in ms:\n",
    "\t\tcol = ms.index(m)\n",
    "\t\tfor row in range(3):\n",
    "\t\t\tax = axes[row, col]\n",
    "\t\t\t# Metaplot\n",
    "\t\t\tif row == 0:\n",
    "\t\t\t\tutils.generate_feature_metaplot(df_metaplots[(m,d)], palette, hue_order, ax, test)\n",
    "\t\t\t\t\n",
    "\t\t\t\tax.set_ylim(ylims[ms.index(m)])\n",
    "\t\t\t\tax.set_yticks(yticks[ms.index(m)])\n",
    "\t\t\t\tif col == 0:\n",
    "\t\t\t\t\tax.set_ylabel(\"ChIP-seq\", fontsize=bfontsize, fontweight=\"bold\")\n",
    "\t\t\t\t\tax.get_yaxis().set_label_coords(y_align, 0.5)\n",
    "\t\t\t\telse:\n",
    "\t\t\t\t\tax.set_ylabel(\"\")\n",
    "\n",
    "\t\t\t\tif col == 0:\n",
    "\t\t\t\t\tax.legend(loc=\"upper center\", bbox_to_anchor=(1.1, 1.6), ncol=len(hue_order), fontsize=sfontsize)\n",
    "\t\t\t\telse:\n",
    "\t\t\t\t\tax.legend([],[], frameon=False)\n",
    "\t\t\t\t\t\n",
    "\t\t\t# Heatmap\n",
    "\t\t\telse:\n",
    "\t\t\t\tif row == 2:\n",
    "\t\t\t\t\tcbar = True\n",
    "\t\t\t\t\tcbar_ax = axes[4, col]\n",
    "\t\t\t\telse:\n",
    "\t\t\t\t\tcbar = False\n",
    "\t\t\t\t\tcbar_ax = None\t\t\n",
    "\t\t\t\tcbar_kws = {\"ticks\": yticks[ms.index(m)], \"orientation\": \"horizontal\"}\n",
    "\n",
    "\t\t\t\tutils.generate_feature_heatmap(df_heatmaps[(m,f\"{ps[row-1]}_{d}\")], yticks[ms.index(m)], cmap, cbar, cbar_ax, cbar_kws, ax, sort_file, test)\n",
    "\t\t\t\t\n",
    "\t\t\t\tif row == 2:\n",
    "\t\t\t\t\tcbar_ax.set_xticklabels(yticks[ms.index(m)])\n",
    "\t\t\t\t\tcbar_ax.tick_params(axis=\"x\", labelsize=sfontsize, pad=labelpad)\n",
    "\n",
    "\t\t\t\tif col == 0:\n",
    "\t\t\t\t\ttot = len(df_heatmaps[(m,f\"{ps[row-1]}_{d}\")])\n",
    "\t\t\t\t\tylabel = f\"{hue_order[row]}\\n(n={tot})\"\n",
    "\t\t\t\t\tax.set_ylabel(ylabel, fontsize=bfontsize, fontweight=\"bold\")\n",
    "\t\t\t\t\tax.get_yaxis().set_label_coords(y_align/3, 0.5)\n",
    "\t\t\t\telse:\n",
    "\t\t\t\t\tax.set_ylabel(\"\")\n",
    "\t\t\t\t\n",
    "\t\t\tif row == 0:\n",
    "\t\t\t\tax.set_title(m, fontsize=bfontsize, pad=5, fontweight=\"bold\")\n",
    "\t\t\n",
    "\t\t\txtick_list = [0,500,1000]\n",
    "\t\t\txticklabel_list = [\"-0.5\", \"0\", \"0.5\"]\n",
    "\t\t\tax.set_xlim([0, 1000])\n",
    "\t\t\tax.set_xticks(xtick_list)\n",
    "\t\t\tif row == 2:\n",
    "\t\t\t\tax.set_xticklabels(xticklabel_list)\n",
    "\t\t\t\tax.set_xlabel(xlabel, fontsize=bfontsize, fontweight=\"bold\")\n",
    "\t\t\telse:\n",
    "\t\t\t\tax.set_xticklabels([])\n",
    "\t\t\t\tax.set_xlabel(\"\")\n",
    "\n",
    "\t\t\tax.tick_params(labelsize=sfontsize, pad=labelpad)\n",
    "\n",
    "\tfig.subplots_adjust(wspace=wspace, hspace=hspace)\n",
    "\tplt.savefig(outputfile, bbox_inches=\"tight\", dpi=300) "
   ]
  },
  {
   "cell_type": "code",
   "execution_count": 15,
   "id": "090b26cd-636b-4062-baee-b9e931bb7395",
   "metadata": {
    "execution": {
     "iopub.execute_input": "2024-11-28T02:02:34.095858Z",
     "iopub.status.busy": "2024-11-28T02:02:34.095645Z",
     "iopub.status.idle": "2024-11-28T02:02:34.948926Z",
     "shell.execute_reply": "2024-11-28T02:02:34.947471Z",
     "shell.execute_reply.started": "2024-11-28T02:02:34.095840Z"
    },
    "scrolled": true,
    "tags": []
   },
   "outputs": [],
   "source": [
    "pwpool = ProcessWrapPool(len(ds))\n",
    "\n",
    "# test = True\n",
    "test = False\n",
    "cmap = \"viridis\"\n",
    "sort_file = f\"{PROJECT_DIR_o}labels/{s}_CTCF_sum.json\"\n",
    "for d in ds:\n",
    "\tif d == \"distal\":\n",
    "\t\tylims = [[-5, 35], [-0.5, 5.0]]\n",
    "\t\tyticks = [[0, 10, 20, 30], [0, 1.5, 3.0, 4.5]]\n",
    "\telse:\n",
    "\t\tylims = [[-3, 33], [-0.5, 3.5]]\n",
    "\t\tyticks = [[0, 10, 20, 30], [0, 1, 2, 3]]\n",
    "\tfolder = \"supp_figures/\" if d == \"distal\" else \"other_figures/\"\n",
    "\toutputfile = f\"{PROJECT_DIR_o}{folder}SuppFig7a.png\"\n",
    "\tpwpool.run(generate_metaplot_and_heatmap, args=[d, ps, ms, df_metaplots, df_features, sort_file, ylims, yticks, cmap, outputfile, test])"
   ]
  },
  {
   "cell_type": "code",
   "execution_count": 17,
   "id": "2823fa9a-d020-4ba6-a16b-f73cc70da204",
   "metadata": {
    "execution": {
     "iopub.execute_input": "2024-11-28T02:10:37.169938Z",
     "iopub.status.busy": "2024-11-28T02:10:37.169542Z",
     "iopub.status.idle": "2024-11-28T02:10:37.174028Z",
     "shell.execute_reply": "2024-11-28T02:10:37.173551Z",
     "shell.execute_reply.started": "2024-11-28T02:10:37.169910Z"
    },
    "tags": []
   },
   "outputs": [
    {
     "data": {
      "text/plain": [
       "2"
      ]
     },
     "execution_count": 17,
     "metadata": {},
     "output_type": "execute_result"
    }
   ],
   "source": [
    "len(pwpool.finished_tasks)"
   ]
  },
  {
   "cell_type": "code",
   "execution_count": 18,
   "id": "1c607d31-8702-4416-9e92-7a45a32149fb",
   "metadata": {
    "execution": {
     "iopub.execute_input": "2024-11-28T02:10:37.910878Z",
     "iopub.status.busy": "2024-11-28T02:10:37.910607Z",
     "iopub.status.idle": "2024-11-28T02:10:38.244549Z",
     "shell.execute_reply": "2024-11-28T02:10:38.244089Z",
     "shell.execute_reply.started": "2024-11-28T02:10:37.910858Z"
    }
   },
   "outputs": [],
   "source": [
    "pwpool.close()"
   ]
  },
  {
   "cell_type": "markdown",
   "id": "338c2cad-b1bd-4a84-ae8b-80755ca472eb",
   "metadata": {},
   "source": [
    "# Divergent DIs"
   ]
  },
  {
   "cell_type": "code",
   "execution_count": 19,
   "id": "435fee99-ef24-484e-9923-ff2205caf571",
   "metadata": {
    "execution": {
     "iopub.execute_input": "2024-11-28T02:12:37.931531Z",
     "iopub.status.busy": "2024-11-28T02:12:37.931153Z",
     "iopub.status.idle": "2024-11-28T02:12:37.934241Z",
     "shell.execute_reply": "2024-11-28T02:12:37.933786Z",
     "shell.execute_reply.started": "2024-11-28T02:12:37.931510Z"
    }
   },
   "outputs": [],
   "source": [
    "p = \"divergent\""
   ]
  },
  {
   "cell_type": "markdown",
   "id": "06652d4d-42b5-4f14-8c91-cf13f687f914",
   "metadata": {},
   "source": [
    "## Get DI quantiles"
   ]
  },
  {
   "cell_type": "code",
   "execution_count": 20,
   "id": "1047ac80-b272-4ccd-98c5-bbef46e6f1be",
   "metadata": {
    "execution": {
     "iopub.execute_input": "2024-11-28T02:12:40.082845Z",
     "iopub.status.busy": "2024-11-28T02:12:40.082589Z",
     "iopub.status.idle": "2024-11-28T02:12:48.237260Z",
     "shell.execute_reply": "2024-11-28T02:12:48.236431Z",
     "shell.execute_reply.started": "2024-11-28T02:12:40.082825Z"
    },
    "tags": []
   },
   "outputs": [
    {
     "name": "stdout",
     "output_type": "stream",
     "text": [
      "conda run -n DI_test /bin/bash -c \"biodatatools annotate_bed_classes -i /fs/cbsuhy02/storage/yc2553/yc2553/projects/TRE_directionality/PROcap/bed_plot/HCT116_divergent_proximal.bed /fs/cbsuhy02/storage/yc2553/yc2553/projects/TRE_directionality/PROcap/bed_plot/HCT116_divergent_distal.bed -clsname divergent_proximal divergent_distal -column 3 -o - | cut -f 1-4 | biodatatools annotate_bed_directionality_index -i - -ipl /fs/cbsuhy02/storage/yc2553/yc2553/projects/TRE_directionality/PROcap/Alignments/brm_CTCF_U1_and_CTCF_U2_erm_5pl.bw -imn /fs/cbsuhy02/storage/yc2553/yc2553/projects/TRE_directionality/PROcap/Alignments/brm_CTCF_U1_and_CTCF_U2_erm_5mn.bw -o /fs/cbsuhy02/storage/yc2553/yc2553/projects/TRE_directionality/PROcap/bed_plot/HCT116_DI.bed\"\n"
     ]
    }
   ],
   "source": [
    "files = [f\"{PROJECT_DIR_d}bed_plot/{s}_{p}_{d}.bed\" for d in ds]\n",
    "clsname = \" \".join([f\"{p}_{d}\" for d in ds])\n",
    "filestr = \" \".join([\"{i\" + str(idx) + \"}\" for idx in range(len(files))])\n",
    "run_template_bash(\n",
    "\t\"biodatatools annotate_bed_classes -i \" + filestr + \" -clsname {clsname} -column 3 -o - | cut -f 1-4 | biodatatools annotate_bed_directionality_index -i - -ipl {ipl} -imn {imn} -o {o}\",\n",
    "\tconda_env=\"DI_test\",\n",
    "\t**{f\"i{idx}\": file for idx, file in enumerate(files)},\n",
    "\tipl=f\"{PROJECT_DIR_d}Alignments/brm_CTCF_U1_and_CTCF_U2_erm_5pl.bw\",\n",
    "\timn=f\"{PROJECT_DIR_d}Alignments/brm_CTCF_U1_and_CTCF_U2_erm_5mn.bw\",\n",
    "\tclsname=clsname,\n",
    "\to=f\"{PROJECT_DIR_d}bed_plot/{s}_DI.bed\"\n",
    ")"
   ]
  },
  {
   "cell_type": "code",
   "execution_count": 21,
   "id": "947364f0-4f2e-4837-b24a-64bf9f01b417",
   "metadata": {
    "execution": {
     "iopub.execute_input": "2024-11-28T02:12:48.238427Z",
     "iopub.status.busy": "2024-11-28T02:12:48.238169Z",
     "iopub.status.idle": "2024-11-28T02:12:48.269912Z",
     "shell.execute_reply": "2024-11-28T02:12:48.269448Z",
     "shell.execute_reply.started": "2024-11-28T02:12:48.238403Z"
    }
   },
   "outputs": [
    {
     "data": {
      "text/html": [
       "<div>\n",
       "<style scoped>\n",
       "    .dataframe tbody tr th:only-of-type {\n",
       "        vertical-align: middle;\n",
       "    }\n",
       "\n",
       "    .dataframe tbody tr th {\n",
       "        vertical-align: top;\n",
       "    }\n",
       "\n",
       "    .dataframe thead th {\n",
       "        text-align: right;\n",
       "    }\n",
       "</style>\n",
       "<table border=\"1\" class=\"dataframe\">\n",
       "  <thead>\n",
       "    <tr style=\"text-align: right;\">\n",
       "      <th></th>\n",
       "      <th>chrom</th>\n",
       "      <th>start</th>\n",
       "      <th>end</th>\n",
       "      <th>group</th>\n",
       "      <th>DI</th>\n",
       "    </tr>\n",
       "  </thead>\n",
       "  <tbody>\n",
       "    <tr>\n",
       "      <th>0</th>\n",
       "      <td>chr1</td>\n",
       "      <td>904521</td>\n",
       "      <td>905022</td>\n",
       "      <td>divergent_proximal</td>\n",
       "      <td>-0.101147</td>\n",
       "    </tr>\n",
       "    <tr>\n",
       "      <th>1</th>\n",
       "      <td>chr1</td>\n",
       "      <td>924751</td>\n",
       "      <td>925252</td>\n",
       "      <td>divergent_proximal</td>\n",
       "      <td>-0.150160</td>\n",
       "    </tr>\n",
       "  </tbody>\n",
       "</table>\n",
       "</div>"
      ],
      "text/plain": [
       "  chrom   start     end               group        DI\n",
       "0  chr1  904521  905022  divergent_proximal -0.101147\n",
       "1  chr1  924751  925252  divergent_proximal -0.150160"
      ]
     },
     "execution_count": 21,
     "metadata": {},
     "output_type": "execute_result"
    }
   ],
   "source": [
    "inputfile = f\"{PROJECT_DIR_d}bed_plot/{s}_DI.bed\"\n",
    "df_DI = pd.read_table(inputfile, header=None)\n",
    "df_DI.columns = [\"chrom\", \"start\", \"end\", \"group\", \"DI\"]\n",
    "df_DI.head(2)"
   ]
  },
  {
   "cell_type": "code",
   "execution_count": 22,
   "id": "68bd9abc-546b-41be-a113-450da9b029a6",
   "metadata": {
    "execution": {
     "iopub.execute_input": "2024-11-28T02:12:48.270728Z",
     "iopub.status.busy": "2024-11-28T02:12:48.270477Z",
     "iopub.status.idle": "2024-11-28T02:12:49.720403Z",
     "shell.execute_reply": "2024-11-28T02:12:49.719927Z",
     "shell.execute_reply.started": "2024-11-28T02:12:48.270709Z"
    }
   },
   "outputs": [],
   "source": [
    "qs = [\"Q1\", \"Q2\", \"Q3\", \"Q4\"]\n",
    "palette = [\"#efedf5\", \"#bcbddc\", \"#807dba\", \"#3f007d\"]"
   ]
  },
  {
   "cell_type": "code",
   "execution_count": 23,
   "id": "91f02e44-21a5-4bd5-8c0b-0dfa49358449",
   "metadata": {
    "execution": {
     "iopub.execute_input": "2024-11-28T02:12:49.721823Z",
     "iopub.status.busy": "2024-11-28T02:12:49.721553Z",
     "iopub.status.idle": "2024-11-28T02:12:50.776181Z",
     "shell.execute_reply": "2024-11-28T02:12:50.775692Z",
     "shell.execute_reply.started": "2024-11-28T02:12:49.721803Z"
    },
    "scrolled": true
   },
   "outputs": [],
   "source": [
    "# Get quantiles based on absolute DIs for distal and proximal separately\n",
    "\n",
    "df_quantiles = {}\n",
    "for d in ds:\n",
    "\tdf2 = df_DI[df_DI[\"group\"].str.contains(d)].copy()\n",
    "\tdf2[\"|DI|\"] = df_DI[\"DI\"].abs()\n",
    "\tdf2[\"quantile\"] = pd.qcut(df2[\"|DI|\"], q=4, labels=qs)\n",
    "\tdf_quantiles[d] = df2"
   ]
  },
  {
   "cell_type": "code",
   "execution_count": 30,
   "id": "b82d1a9b-a825-4120-ac39-dfcc506382b6",
   "metadata": {
    "execution": {
     "iopub.execute_input": "2024-11-28T02:16:21.016673Z",
     "iopub.status.busy": "2024-11-28T02:16:21.016325Z",
     "iopub.status.idle": "2024-11-28T02:16:21.411116Z",
     "shell.execute_reply": "2024-11-28T02:16:21.410653Z",
     "shell.execute_reply.started": "2024-11-28T02:16:21.016652Z"
    },
    "scrolled": true
   },
   "outputs": [
    {
     "data": {
      "image/png": "[encoded data removed]",
      "text/plain": [
       "<Figure size 150x250 with 1 Axes>"
      ]
     },
     "metadata": {},
     "output_type": "display_data"
    },
    {
     "data": {
      "image/png": "[encoded data removed]",
      "text/plain": [
       "<Figure size 150x250 with 1 Axes>"
      ]
     },
     "metadata": {},
     "output_type": "display_data"
    }
   ],
   "source": [
    "for d in ds:\n",
    "\tfig, ax = plt.subplots(figsize=(1.5,2.5))\n",
    "\tg = sns.boxplot(data=df_quantiles[d], x=\"quantile\", y=\"|DI|\", \n",
    "\t\t\t\t\torder=qs, hue=\"quantile\", palette=palette, legend=False, ax=ax\n",
    "\t\t\t\t   )\n",
    "\tg.spines[[\"right\", \"top\"]].set_visible(False)\n",
    "\n",
    "\tg.set_ylabel(\"|Directionality index|\", fontsize=bfontsize, fontweight=\"bold\")\n",
    "\tg.tick_params(axis=\"y\", labelsize=sfontsize)\n",
    "\t\n",
    "\tg.set_xlabel(\"\")\n",
    "\tg.tick_params(axis=\"x\", labelsize=bfontsize)\n",
    "\tfor label in g.get_xticklabels():\n",
    "\t    label.set_fontweight('bold')\n",
    "\n",
    "\tfolder = \"supp_figures/\" if d == \"distal\" else \"other_figures/\"\n",
    "\toutputfile = f\"{PROJECT_DIR_o}{folder}SuppFig7b.left.pdf\"\n",
    "\tplt.savefig(outputfile, bbox_inches=\"tight\", dpi=300)"
   ]
  },
  {
   "cell_type": "code",
   "execution_count": 25,
   "id": "00dd8067-2c03-40b3-a6ac-1775aef46f08",
   "metadata": {
    "execution": {
     "iopub.execute_input": "2024-11-28T02:12:52.627787Z",
     "iopub.status.busy": "2024-11-28T02:12:52.627436Z",
     "iopub.status.idle": "2024-11-28T02:12:53.301617Z",
     "shell.execute_reply": "2024-11-28T02:12:53.301146Z",
     "shell.execute_reply.started": "2024-11-28T02:12:52.627766Z"
    },
    "scrolled": true
   },
   "outputs": [],
   "source": [
    "quantile_dict = {}\n",
    "for d in ds:\n",
    "\tfor index, row in df_quantiles[d].iterrows():\n",
    "\t\tquantile_dict[f\"{row['chrom']}_{row['start']}_{row['end']}\"] = row[\"quantile\"]"
   ]
  },
  {
   "cell_type": "code",
   "execution_count": 26,
   "id": "1cff8ce3-5351-4048-81f3-18b199cee1bf",
   "metadata": {
    "execution": {
     "iopub.execute_input": "2024-11-28T02:12:53.302438Z",
     "iopub.status.busy": "2024-11-28T02:12:53.302175Z",
     "iopub.status.idle": "2024-11-28T02:12:53.940031Z",
     "shell.execute_reply": "2024-11-28T02:12:53.939590Z",
     "shell.execute_reply.started": "2024-11-28T02:12:53.302414Z"
    }
   },
   "outputs": [],
   "source": [
    "outputfile = f\"{PROJECT_DIR_o}labels/{s}_DI.json\"\n",
    "with open(outputfile, \"w\") as f:\n",
    "\tjson.dump(quantile_dict, f)"
   ]
  },
  {
   "cell_type": "code",
   "execution_count": 27,
   "id": "c508a8c1-a9ae-415d-816d-8c605900282e",
   "metadata": {
    "execution": {
     "iopub.execute_input": "2024-11-28T02:12:53.940804Z",
     "iopub.status.busy": "2024-11-28T02:12:53.940559Z",
     "iopub.status.idle": "2024-11-28T02:13:12.065623Z",
     "shell.execute_reply": "2024-11-28T02:13:12.064986Z",
     "shell.execute_reply.started": "2024-11-28T02:12:53.940784Z"
    },
    "scrolled": true
   },
   "outputs": [],
   "source": [
    "df_metaplots2 = {}\n",
    "for m, d in itertools.product(ms, ds):\n",
    "\tdf = df_reformat[(m, f\"{p}_{d}\")].copy()\n",
    "\tdf[\"Label\"] = df[\"index\"].map(quantile_dict)\n",
    "\tdf_metaplots2[(m,d)] = df"
   ]
  },
  {
   "cell_type": "markdown",
   "id": "c4c4d17e-f889-4b61-a598-78092944d197",
   "metadata": {},
   "source": [
    "## Generate metaplots"
   ]
  },
  {
   "cell_type": "markdown",
   "id": "d94ddd43-79b4-4e35-965a-5d9adc5b03dc",
   "metadata": {},
   "source": [
    "### ylims"
   ]
  },
  {
   "cell_type": "code",
   "execution_count": 28,
   "id": "3afc8b59-266a-4e77-a7a0-d8575250e5df",
   "metadata": {
    "execution": {
     "iopub.execute_input": "2024-11-28T02:13:12.067058Z",
     "iopub.status.busy": "2024-11-28T02:13:12.066798Z",
     "iopub.status.idle": "2024-11-28T02:14:31.533228Z",
     "shell.execute_reply": "2024-11-28T02:14:31.532387Z",
     "shell.execute_reply.started": "2024-11-28T02:13:12.067039Z"
    }
   },
   "outputs": [
    {
     "name": "stdout",
     "output_type": "stream",
     "text": [
      "proximal CTCF 10.259398956439618 1.647304787153571\n",
      "distal CTCF 12.883546151974748 1.161658167003305\n",
      "proximal RAD21 1.1166520705185146 0.531660910043054\n",
      "distal RAD21 1.9849783308021636 0.5938014709437377\n"
     ]
    }
   ],
   "source": [
    "get_ylims(qs, df_metaplots2)"
   ]
  },
  {
   "cell_type": "markdown",
   "id": "c9912858-b0c4-4b51-80a4-1161fb147dc2",
   "metadata": {},
   "source": [
    "### Metaplot"
   ]
  },
  {
   "cell_type": "code",
   "execution_count": 31,
   "id": "22707631-8dde-4903-9f3d-704df8332fbd",
   "metadata": {
    "execution": {
     "iopub.execute_input": "2024-11-28T02:17:22.298649Z",
     "iopub.status.busy": "2024-11-28T02:17:22.298276Z",
     "iopub.status.idle": "2024-11-28T02:17:22.305321Z",
     "shell.execute_reply": "2024-11-28T02:17:22.304833Z",
     "shell.execute_reply.started": "2024-11-28T02:17:22.298627Z"
    }
   },
   "outputs": [],
   "source": [
    "def generate_metaplot(d, ms, df_metaplots, ylims, yticks, outputfile, test, xlabel=\"Distance (kb)\"):\n",
    "\tfig, axes = plt.subplots(1,len(ms),figsize=(4,2))\n",
    "\tlabelpad = 6\n",
    "\ty_align = -0.2\n",
    "\twspace = 0.3\n",
    "\n",
    "\tfor m in ms:\n",
    "\t\tcol = ms.index(m)\n",
    "\t\tax = axes[col]\n",
    "\t\tutils.generate_feature_metaplot(df_metaplots[(m,d)], palette, qs, ax, test)\n",
    "\t\t\n",
    "\t\tax.set_title(m, fontsize=bfontsize, pad=labelpad, fontweight=\"bold\")\n",
    "\t\tif col == len(ms)-1:\n",
    "\t\t\tax.legend(loc=\"upper left\", bbox_to_anchor=(0.58,1.03), fontsize=sfontsize, frameon=False,\n",
    "\t\t\t\t\t handlelength=1.0, handletextpad=0.5, labelspacing=0.2)\n",
    "\t\telse:\n",
    "\t\t\tax.legend([],[], frameon=False)\n",
    "\t\t\n",
    "\t\tax.set_ylim(ylims[col])\n",
    "\t\tax.set_yticks(yticks[col])\n",
    "\t\tif col == 0:\n",
    "\t\t\tax.set_ylabel(\"ChIP-seq\", fontsize=bfontsize, fontweight=\"bold\")\n",
    "\t\t\tax.get_yaxis().set_label_coords(y_align, 0.5)\n",
    "\t\telse:\n",
    "\t\t\tax.set_ylabel(\"\")\n",
    "\t\t\n",
    "\t\txtick_list = [0,500,1000]\n",
    "\t\txticklabel_list = [\"-0.5\", \"0\", \"0.5\"]\n",
    "\t\tax.set_xlim([0, 1000])\n",
    "\t\tax.set_xticks(xtick_list)\n",
    "\t\tax.set_xticklabels(xticklabel_list)\n",
    "\t\tax.set_xlabel(xlabel, fontsize=bfontsize, fontweight=\"bold\")\n",
    "\t\t\n",
    "\t\tax.tick_params(labelsize=sfontsize, pad=labelpad)\n",
    "\n",
    "\tfig.subplots_adjust(wspace=wspace)\n",
    "\tplt.savefig(outputfile, bbox_inches=\"tight\", dpi=300) "
   ]
  },
  {
   "cell_type": "code",
   "execution_count": 32,
   "id": "50ce6ef7-595f-4ec5-8d19-fa20829e0536",
   "metadata": {
    "execution": {
     "iopub.execute_input": "2024-11-28T02:17:23.932669Z",
     "iopub.status.busy": "2024-11-28T02:17:23.932389Z",
     "iopub.status.idle": "2024-11-28T02:17:24.005106Z",
     "shell.execute_reply": "2024-11-28T02:17:23.937778Z",
     "shell.execute_reply.started": "2024-11-28T02:17:23.932649Z"
    },
    "scrolled": true
   },
   "outputs": [],
   "source": [
    "pwpool = ProcessWrapPool(len(ds))\n",
    "\n",
    "# test = True\n",
    "test = False\n",
    "for d in ds:\n",
    "\tif d == \"distal\":\n",
    "\t\tylims = [[-2,17], [-0.5,3.5]]\n",
    "\t\tyticks = [[0,5,10,15], [0,1,2,3]]\n",
    "\t\toutputfile = f\"{PROJECT_DIR_o}supp_figures/SuppFig7b.right.pdf\"\n",
    "\telse:\n",
    "\t\tylims = [[-1,13], [-0.2,1.4]]\n",
    "\t\tyticks = [[0,4,8,12], [0,0.4,0.8,1.2]]\n",
    "\tfolder = \"supp_figures/\" if d == \"distal\" else \"other_figures/\"\n",
    "\toutputfile = f\"{PROJECT_DIR_o}{folder}SuppFig7b.right.pdf\"\n",
    "\tpwpool.run(generate_metaplot, args=[d, ms, df_metaplots2, ylims, yticks, outputfile, test])"
   ]
  },
  {
   "cell_type": "code",
   "execution_count": 34,
   "id": "3568d609-b66f-4911-9202-23169552b5c8",
   "metadata": {
    "execution": {
     "iopub.execute_input": "2024-11-28T02:24:50.288041Z",
     "iopub.status.busy": "2024-11-28T02:24:50.287741Z",
     "iopub.status.idle": "2024-11-28T02:24:50.291906Z",
     "shell.execute_reply": "2024-11-28T02:24:50.291411Z",
     "shell.execute_reply.started": "2024-11-28T02:24:50.288018Z"
    },
    "tags": []
   },
   "outputs": [
    {
     "data": {
      "text/plain": [
       "2"
      ]
     },
     "execution_count": 34,
     "metadata": {},
     "output_type": "execute_result"
    }
   ],
   "source": [
    "len(pwpool.finished_tasks)"
   ]
  },
  {
   "cell_type": "code",
   "execution_count": 35,
   "id": "607a5a85-0eb7-496e-bb96-ea9c1e6ab290",
   "metadata": {
    "execution": {
     "iopub.execute_input": "2024-11-28T02:24:51.095565Z",
     "iopub.status.busy": "2024-11-28T02:24:51.095306Z",
     "iopub.status.idle": "2024-11-28T02:24:51.687324Z",
     "shell.execute_reply": "2024-11-28T02:24:51.686332Z",
     "shell.execute_reply.started": "2024-11-28T02:24:51.095546Z"
    }
   },
   "outputs": [],
   "source": [
    "pwpool.close()"
   ]
  },
  {
   "cell_type": "code",
   "execution_count": null,
   "id": "aed61c9d-aaf0-49ae-8755-dc735d9fcc83",
   "metadata": {},
   "outputs": [],
   "source": []
  }
 ],
 "metadata": {
  "kernelspec": {
   "display_name": "Python 3 (ipykernel)",
   "language": "python",
   "name": "python3"
  },
  "language_info": {
   "codemirror_mode": {
    "name": "ipython",
    "version": 3
   },
   "file_extension": ".py",
   "mimetype": "text/x-python",
   "name": "python",
   "nbconvert_exporter": "python",
   "pygments_lexer": "ipython3",
   "version": "3.10.8"
  }
 },
 "nbformat": 4,
 "nbformat_minor": 5
}

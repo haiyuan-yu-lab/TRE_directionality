{
 "cells": [
  {
   "cell_type": "code",
   "execution_count": 1,
   "id": "6cf5108a-7a38-487f-85bd-4ef29d384bec",
   "metadata": {
    "execution": {
     "iopub.execute_input": "2024-01-08T18:56:05.238686Z",
     "iopub.status.busy": "2024-01-08T18:56:05.238448Z",
     "iopub.status.idle": "2024-01-08T18:56:05.245864Z",
     "shell.execute_reply": "2024-01-08T18:56:05.245126Z",
     "shell.execute_reply.started": "2024-01-08T18:56:05.238665Z"
    }
   },
   "outputs": [],
   "source": [
    "### Goals\n",
    "# 1. Show ChIP-seq of CTCF & cohesin (RAD21) between divergent and unidirectional elements (HCT116, distal, no auxin)\n",
    "\n",
    "### Input\n",
    "# 1. ChIP-seq bw files in HCT116\n",
    "\n",
    "### Output\n",
    "# 1. Fig.2A\n",
    "# Metaplots and heatmaps of CTCF & cohesin (RAD21) between divergent and unidirectional elements\n",
    "# 2. SuppFig.3A\n",
    "# Metaplots of of CTCF & cohesin (RAD21) among divergent elements with varying DIs"
   ]
  },
  {
   "cell_type": "code",
   "execution_count": 1,
   "id": "3a02941b-44fb-4ae3-aa1f-6a6366d81611",
   "metadata": {
    "execution": {
     "iopub.execute_input": "2024-05-27T19:34:45.382050Z",
     "iopub.status.busy": "2024-05-27T19:34:45.381771Z",
     "iopub.status.idle": "2024-05-27T19:34:45.394311Z",
     "shell.execute_reply": "2024-05-27T19:34:45.392989Z",
     "shell.execute_reply.started": "2024-05-27T19:34:45.382030Z"
    },
    "tags": []
   },
   "outputs": [],
   "source": [
    "PROJECT_DIR_s = \"/home/yc2553/projects/TRE_directionality/codes/\"\n",
    "PROJECT_DIR_r = \"/home/yc2553/projects/TRE_directionality/Resources/\"\n",
    "PROJECT_DIR_d = \"/home/yc2553/projects/TRE_directionality/PROcap/\"\n",
    "PROJECT_DIR_o = \"/home/yc2553/projects/TRE_directionality/output/\""
   ]
  },
  {
   "cell_type": "code",
   "execution_count": 2,
   "id": "5a6f59dd-84f0-4a76-a239-da0c6f6f77cc",
   "metadata": {
    "execution": {
     "iopub.execute_input": "2024-05-27T19:34:45.399552Z",
     "iopub.status.busy": "2024-05-27T19:34:45.399295Z",
     "iopub.status.idle": "2024-05-27T19:35:30.937930Z",
     "shell.execute_reply": "2024-05-27T19:35:30.937094Z",
     "shell.execute_reply.started": "2024-05-27T19:34:45.399533Z"
    }
   },
   "outputs": [],
   "source": [
    "from mphelper import ProcessWrapPool\n",
    "import pandas as pd\n",
    "import matplotlib.pyplot as plt\n",
    "from biodata.delimited import DelimitedReader\n",
    "import numpy as np\n",
    "import pyBigWig\n",
    "import seaborn as sns\n",
    "import subprocess"
   ]
  },
  {
   "cell_type": "code",
   "execution_count": 3,
   "id": "1af3048d-e6d5-4a5e-8f4b-b399748a2be9",
   "metadata": {
    "execution": {
     "iopub.execute_input": "2024-05-27T19:35:30.964742Z",
     "iopub.status.busy": "2024-05-27T19:35:30.964477Z",
     "iopub.status.idle": "2024-05-27T19:35:30.968059Z",
     "shell.execute_reply": "2024-05-27T19:35:30.967412Z",
     "shell.execute_reply.started": "2024-05-27T19:35:30.964723Z"
    }
   },
   "outputs": [],
   "source": [
    "import sys\n",
    "sys.path.append(PROJECT_DIR_s)"
   ]
  },
  {
   "cell_type": "code",
   "execution_count": 4,
   "id": "49518350-5c5c-49cf-9248-a11d1d0c83cf",
   "metadata": {
    "execution": {
     "iopub.execute_input": "2024-05-27T19:35:30.970998Z",
     "iopub.status.busy": "2024-05-27T19:35:30.970739Z",
     "iopub.status.idle": "2024-05-27T19:35:32.564786Z",
     "shell.execute_reply": "2024-05-27T19:35:32.564231Z",
     "shell.execute_reply.started": "2024-05-27T19:35:30.970978Z"
    }
   },
   "outputs": [
    {
     "data": {
      "text/plain": [
       "<module 'utils' from '/home/yc2553/projects/TRE_directionality/codes/utils.py'>"
      ]
     },
     "execution_count": 4,
     "metadata": {},
     "output_type": "execute_result"
    }
   ],
   "source": [
    "import importlib\n",
    "import utils\n",
    "importlib.reload(utils)"
   ]
  },
  {
   "cell_type": "markdown",
   "id": "d0406638-edd1-4e9c-9b65-b1b3f040adc2",
   "metadata": {},
   "source": [
    "# 1. Generate feature matrix"
   ]
  },
  {
   "cell_type": "markdown",
   "id": "6ebd48e2-2a75-4ece-8a48-bdeb3778d65a",
   "metadata": {},
   "source": [
    "## 1.1 Generate feature matrix for heatmap"
   ]
  },
  {
   "cell_type": "code",
   "execution_count": 5,
   "id": "c44eabf3-daef-435d-9e5f-19ea5e69e8a0",
   "metadata": {
    "execution": {
     "iopub.execute_input": "2024-05-27T19:35:32.567696Z",
     "iopub.status.busy": "2024-05-27T19:35:32.567432Z",
     "iopub.status.idle": "2024-05-27T19:35:33.916477Z",
     "shell.execute_reply": "2024-05-27T19:35:33.915832Z",
     "shell.execute_reply.started": "2024-05-27T19:35:32.567677Z"
    }
   },
   "outputs": [],
   "source": [
    "s = \"HCT116\"\n",
    "ks = [\"pl\", \"mn\"]\n",
    "ps = [\"divergent\", \"unidirectional\"]\n",
    "ds = [\"proximal\", \"distal\"]\n",
    "gs = [p+\"_\"+d for p in ps for d in ds]\n",
    "cs = [\"\", \"_control\"]"
   ]
  },
  {
   "cell_type": "code",
   "execution_count": 51,
   "id": "531ac254-e8b9-4eba-8a6e-e24a719d758d",
   "metadata": {
    "execution": {
     "iopub.execute_input": "2024-05-27T20:13:37.353792Z",
     "iopub.status.busy": "2024-05-27T20:13:37.353082Z",
     "iopub.status.idle": "2024-05-27T20:13:37.357925Z",
     "shell.execute_reply": "2024-05-27T20:13:37.357338Z",
     "shell.execute_reply.started": "2024-05-27T20:13:37.353761Z"
    }
   },
   "outputs": [],
   "source": [
    "# CTCF: https://www.encodeproject.org/files/ENCFF388PVO/@@download/ENCFF388PVO.bigWig\n",
    "# RAD21: https://www.encodeproject.org/files/ENCFF776IXR/@@download/ENCFF776IXR.bigWig\n",
    "\n",
    "bws = {\"CTCF\": PROJECT_DIR_r + \"ENCODE/ENCFF388PVO.bigWig\",\n",
    "\t\t\"RAD21\": PROJECT_DIR_r + \"ENCODE/ENCFF776IXR.bigWig\"\n",
    "\t\t}"
   ]
  },
  {
   "cell_type": "code",
   "execution_count": 7,
   "id": "bfe5478c-69b7-4b2a-9e00-536f031ea11c",
   "metadata": {
    "execution": {
     "iopub.execute_input": "2024-05-27T19:35:35.087238Z",
     "iopub.status.busy": "2024-05-27T19:35:35.086865Z",
     "iopub.status.idle": "2024-05-27T19:35:36.068392Z",
     "shell.execute_reply": "2024-05-27T19:35:36.066894Z",
     "shell.execute_reply.started": "2024-05-27T19:35:35.087208Z"
    },
    "scrolled": true
   },
   "outputs": [],
   "source": [
    "pwpool = ProcessWrapPool(20)\n",
    "\n",
    "strand_sensitive = False\n",
    "strand = None\n",
    "for g in gs:\n",
    "\tfor c in cs:\n",
    "\t\tbed_in = PROJECT_DIR_d + \"bed_plot/\" + \"_\".join([s, g+c]) + \".bed\"\n",
    "\t\tfor m in bws:\n",
    "\t\t\toutputfile = PROJECT_DIR_o + \"feature_matrix/\" + \"_\".join([s, g, m+c]) + \".txt\"\t\t\t\n",
    "\t\t\tpwpool.run(utils.get_feature_matrix_for_heatmap, args=[bed_in, bws[m], outputfile, strand_sensitive, strand])"
   ]
  },
  {
   "cell_type": "code",
   "execution_count": 10,
   "id": "85821f34-6ad2-4826-844c-fb51a145a5a8",
   "metadata": {
    "execution": {
     "iopub.execute_input": "2024-05-27T19:37:13.898308Z",
     "iopub.status.busy": "2024-05-27T19:37:13.896395Z",
     "iopub.status.idle": "2024-05-27T19:37:13.913250Z",
     "shell.execute_reply": "2024-05-27T19:37:13.912545Z",
     "shell.execute_reply.started": "2024-05-27T19:37:13.898268Z"
    },
    "tags": []
   },
   "outputs": [
    {
     "data": {
      "text/plain": [
       "16"
      ]
     },
     "execution_count": 10,
     "metadata": {},
     "output_type": "execute_result"
    }
   ],
   "source": [
    "# 4*2*2\n",
    "\n",
    "len(pwpool.finished_tasks)"
   ]
  },
  {
   "cell_type": "code",
   "execution_count": 11,
   "id": "b68a06cb-e69e-4711-bcdd-46484fb60a07",
   "metadata": {
    "execution": {
     "iopub.execute_input": "2024-05-27T19:37:14.887251Z",
     "iopub.status.busy": "2024-05-27T19:37:14.886770Z",
     "iopub.status.idle": "2024-05-27T19:37:14.926537Z",
     "shell.execute_reply": "2024-05-27T19:37:14.925619Z",
     "shell.execute_reply.started": "2024-05-27T19:37:14.887219Z"
    }
   },
   "outputs": [],
   "source": [
    "pwpool.close()"
   ]
  },
  {
   "cell_type": "markdown",
   "id": "d5f2e223-6a7c-45ec-8131-7efe9c58be85",
   "metadata": {},
   "source": [
    "## 1.2 Reformat feature matrix for metaplot"
   ]
  },
  {
   "cell_type": "code",
   "execution_count": 9,
   "id": "8bf3b475-5b2f-49a5-b037-45a0f665aff8",
   "metadata": {
    "execution": {
     "iopub.execute_input": "2024-05-27T19:35:37.803047Z",
     "iopub.status.busy": "2024-05-27T19:35:37.802569Z",
     "iopub.status.idle": "2024-05-27T19:35:39.375602Z",
     "shell.execute_reply": "2024-05-27T19:35:39.366732Z",
     "shell.execute_reply.started": "2024-05-27T19:35:37.803006Z"
    }
   },
   "outputs": [],
   "source": [
    "labels = {}\n",
    "for g in gs:\n",
    "\tfor c in cs:\n",
    "\t\tfor m in bws:\n",
    "\t\t\tinputfile = PROJECT_DIR_o + \"feature_matrix/\" + \"_\".join([s, g, m+c]) + \".txt\"\n",
    "\t\t\tif \"control\" in inputfile:\n",
    "\t\t\t\tlabel = \"Control\"\n",
    "\t\t\telse:\n",
    "\t\t\t\tlabel = g.split(\"_\")[0].capitalize()\n",
    "\t\t\tlabels[inputfile] = label"
   ]
  },
  {
   "cell_type": "code",
   "execution_count": 12,
   "id": "da3c3e70-64a3-49bd-a5df-6cc9c100ec64",
   "metadata": {
    "execution": {
     "iopub.execute_input": "2024-05-27T19:37:17.066520Z",
     "iopub.status.busy": "2024-05-27T19:37:17.066027Z",
     "iopub.status.idle": "2024-05-27T19:37:17.118649Z",
     "shell.execute_reply": "2024-05-27T19:37:17.095185Z",
     "shell.execute_reply.started": "2024-05-27T19:37:17.066486Z"
    },
    "scrolled": true
   },
   "outputs": [],
   "source": [
    "# Combine divergent and unidirectional elements\n",
    "\n",
    "pwpool = ProcessWrapPool(20)\n",
    "\n",
    "for d in ds:\n",
    "\tfor m in bws:\n",
    "\t\tinputfiles = [PROJECT_DIR_o + \"feature_matrix/\" + \"_\".join([s, p, d, m+c]) + \".txt\" for p in ps for c in cs]\n",
    "\t\toutputfile = PROJECT_DIR_o + \"feature_matrix/\" + \"_\".join([s, d, m, \"reformat\"]) + \".txt\"\n",
    "\t\tpwpool.run(utils.reformat_feature_matrix_for_metaplot, args=[inputfiles, outputfile, labels])"
   ]
  },
  {
   "cell_type": "code",
   "execution_count": 19,
   "id": "6573513d-d083-4c12-a2bf-f636252cc118",
   "metadata": {
    "execution": {
     "iopub.execute_input": "2024-05-27T19:38:41.298453Z",
     "iopub.status.busy": "2024-05-27T19:38:41.297977Z",
     "iopub.status.idle": "2024-05-27T19:38:41.303033Z",
     "shell.execute_reply": "2024-05-27T19:38:41.302399Z",
     "shell.execute_reply.started": "2024-05-27T19:38:41.298427Z"
    },
    "tags": []
   },
   "outputs": [
    {
     "data": {
      "text/plain": [
       "4"
      ]
     },
     "execution_count": 19,
     "metadata": {},
     "output_type": "execute_result"
    }
   ],
   "source": [
    "# 2*2\n",
    "\n",
    "len(pwpool.finished_tasks)"
   ]
  },
  {
   "cell_type": "code",
   "execution_count": 20,
   "id": "b79eacc9-b1a9-425c-bbd8-0c253d6b94f5",
   "metadata": {
    "execution": {
     "iopub.execute_input": "2024-05-27T19:38:41.988243Z",
     "iopub.status.busy": "2024-05-27T19:38:41.987824Z",
     "iopub.status.idle": "2024-05-27T19:38:42.526477Z",
     "shell.execute_reply": "2024-05-27T19:38:42.525801Z",
     "shell.execute_reply.started": "2024-05-27T19:38:41.988221Z"
    }
   },
   "outputs": [],
   "source": [
    "pwpool.close()"
   ]
  },
  {
   "cell_type": "markdown",
   "id": "06685bcf-4133-40b1-80b9-2e2dc6c4859d",
   "metadata": {},
   "source": [
    "# 2. Divergent vs. unidirectional"
   ]
  },
  {
   "cell_type": "markdown",
   "id": "311a343d-fe66-4b1f-9fd3-afdbcd876b3f",
   "metadata": {},
   "source": [
    "## 2.1 Settings"
   ]
  },
  {
   "cell_type": "markdown",
   "id": "11d8da11-1899-42eb-ba4a-0f672253d328",
   "metadata": {},
   "source": [
    "### 2.1.1 ylims"
   ]
  },
  {
   "cell_type": "code",
   "execution_count": 49,
   "id": "5335ab5d-0a4d-4a1f-be11-8eab074a9136",
   "metadata": {
    "execution": {
     "iopub.execute_input": "2024-05-27T20:13:13.399256Z",
     "iopub.status.busy": "2024-05-27T20:13:13.398678Z",
     "iopub.status.idle": "2024-05-27T20:13:13.408307Z",
     "shell.execute_reply": "2024-05-27T20:13:13.407457Z",
     "shell.execute_reply.started": "2024-05-27T20:13:13.399224Z"
    },
    "tags": []
   },
   "outputs": [],
   "source": [
    "# Set same value ranges for metaplots and heatmaps\n",
    "# Divergent & unidirectional & controls\n",
    "\n",
    "def get_ylims(d, m):\n",
    "\tmaxs = []\n",
    "\tmins = []\n",
    "\tinputfiles = [PROJECT_DIR_o + \"feature_matrix/\" + \"_\".join([s, p, d, m+c]) + \".txt\" for p in ps for c in cs]\n",
    "\tfor inputfile in inputfiles:\n",
    "\t\tdf = pd.read_table(inputfile)\n",
    "\t\tdf2 = df.drop([\"Element\"], axis=1)\n",
    "\t\tmaxs.append(max(df2.mean()))\n",
    "\t\tmins.append(min(df2.mean()))\n",
    "\tprint(d, m, max(maxs), min(mins))"
   ]
  },
  {
   "cell_type": "code",
   "execution_count": 52,
   "id": "b012eeca-5625-4f87-9c51-8dbf5d5ca537",
   "metadata": {
    "execution": {
     "iopub.execute_input": "2024-05-27T20:13:40.381343Z",
     "iopub.status.busy": "2024-05-27T20:13:40.379948Z",
     "iopub.status.idle": "2024-05-27T20:13:42.437361Z",
     "shell.execute_reply": "2024-05-27T20:13:42.436468Z",
     "shell.execute_reply.started": "2024-05-27T20:13:40.381290Z"
    },
    "tags": []
   },
   "outputs": [],
   "source": [
    "ms = list(bws.keys())"
   ]
  },
  {
   "cell_type": "code",
   "execution_count": 53,
   "id": "675c64ec-e813-4563-bf05-88d849dd3344",
   "metadata": {
    "execution": {
     "iopub.execute_input": "2024-05-27T20:13:44.096711Z",
     "iopub.status.busy": "2024-05-27T20:13:44.096233Z",
     "iopub.status.idle": "2024-05-27T20:14:07.270732Z",
     "shell.execute_reply": "2024-05-27T20:14:07.268466Z",
     "shell.execute_reply.started": "2024-05-27T20:13:44.096682Z"
    }
   },
   "outputs": [
    {
     "name": "stdout",
     "output_type": "stream",
     "text": [
      "proximal CTCF 25.902577852076245 0.5514182884236124\n",
      "proximal RAD21 2.753199483200548 0.43967587678585873\n",
      "distal CTCF 29.72227435389055 0.6293929613368858\n",
      "distal RAD21 4.16346475071798 0.47953974074663075\n"
     ]
    }
   ],
   "source": [
    "for d in ds:\n",
    "\tfor m in ms:\n",
    "\t\tget_ylims(d, m)"
   ]
  },
  {
   "cell_type": "markdown",
   "id": "365ba695-bcf7-4ece-ad50-f57116f250be",
   "metadata": {},
   "source": [
    "### 2.1.2  Sorting order"
   ]
  },
  {
   "cell_type": "code",
   "execution_count": 17,
   "id": "bb562a2c-db65-4c81-a2cb-d1bd1bcf0e45",
   "metadata": {
    "execution": {
     "iopub.execute_input": "2024-05-27T19:37:50.198368Z",
     "iopub.status.busy": "2024-05-27T19:37:50.195470Z",
     "iopub.status.idle": "2024-05-27T19:37:59.688400Z",
     "shell.execute_reply": "2024-05-27T19:37:59.680023Z",
     "shell.execute_reply.started": "2024-05-27T19:37:50.198322Z"
    },
    "scrolled": true
   },
   "outputs": [],
   "source": [
    "# Calculate the sum of CTCF ChIP-seq signals\n",
    "\n",
    "dfs = []\n",
    "for g in gs:\n",
    "\tinputfile = PROJECT_DIR_o + \"feature_matrix/\" + \"_\".join([s, g, \"CTCF\"]) + \".txt\"\n",
    "\tdf = pd.read_table(inputfile)\n",
    "\tdf2 = df.drop([\"Element\"], axis=1)\n",
    "\t# Sum each row \n",
    "\tdf2[\"Value\"] = df2.sum(axis=1)\n",
    "\t# Add back element\n",
    "\tdf2[\"Element\"] = df[\"Element\"]\n",
    "\tdf2[\"Label\"] = g\n",
    "\tdf2 = df2[[\"Element\", \"Value\", \"Label\"]]\n",
    "\tdfs.append(df2)"
   ]
  },
  {
   "cell_type": "code",
   "execution_count": 18,
   "id": "a67ab1c5-9b0a-41a4-b272-d15548789af5",
   "metadata": {
    "execution": {
     "iopub.execute_input": "2024-05-27T19:37:59.694237Z",
     "iopub.status.busy": "2024-05-27T19:37:59.693804Z",
     "iopub.status.idle": "2024-05-27T19:37:59.858170Z",
     "shell.execute_reply": "2024-05-27T19:37:59.857462Z",
     "shell.execute_reply.started": "2024-05-27T19:37:59.694213Z"
    }
   },
   "outputs": [],
   "source": [
    "sum_df = pd.concat(dfs, ignore_index=True)\n",
    "outputfile = PROJECT_DIR_o + \"labels/\" + \"_\".join([s, \"CTCF_sum\"]) + \".txt\"\n",
    "sum_df.to_csv(outputfile, sep=\"\\t\", index=False)"
   ]
  },
  {
   "cell_type": "markdown",
   "id": "b8edd7da-babc-4d85-a1f5-04bd0245b198",
   "metadata": {},
   "source": [
    "## 2.2 Metaplots & heatmaps"
   ]
  },
  {
   "cell_type": "code",
   "execution_count": 55,
   "id": "88d1f1c5-1bcf-48ab-9b1f-50a03519cc5d",
   "metadata": {
    "execution": {
     "iopub.execute_input": "2024-05-27T20:17:02.463784Z",
     "iopub.status.busy": "2024-05-27T20:17:02.463292Z",
     "iopub.status.idle": "2024-05-27T20:17:02.478791Z",
     "shell.execute_reply": "2024-05-27T20:17:02.478077Z",
     "shell.execute_reply.started": "2024-05-27T20:17:02.463757Z"
    }
   },
   "outputs": [],
   "source": [
    "def generate_metaplot_and_heatmap(s, d, ms, f_sort, ylims, yticks, cbarticks, cmaps, test, outputfile, xlabel=\"Distance to center (kb)\", fontsize=20, legend_fontsize=12, labelpad=7.5, labelsize=20, y_align= -0.2, wspace=0.3, hspace=0.3):\n",
    "\t\"\"\"\n",
    "\tGenerate metaplots and heatmaps for a list of features.  \n",
    "\t\"\"\"\n",
    "\t\n",
    "\theight_ratios = [5,5,5,0.5,1]\n",
    "\tfig, axes = plt.subplots(len(height_ratios), len(ms), figsize=(5*len(ms), 12), gridspec_kw={'height_ratios': height_ratios})\n",
    "\t# Don't show the plot on row 3\n",
    "\tfor col in range(len(ms)):\n",
    "\t\tif len(ms) == 1:\n",
    "\t\t\taxes[3].axis(\"off\")\n",
    "\t\telse:\n",
    "\t\t\taxes[3,col].axis(\"off\")\n",
    "\t\t\n",
    "\tfor m in ms:\n",
    "\t\tcol = ms.index(m)\n",
    "\t\tfor row in range(3):\n",
    "\t\t\tif len(ms) == 1:\n",
    "\t\t\t\tax = axes[row]\n",
    "\t\t\telse:\n",
    "\t\t\t\tax = axes[row, col]\n",
    "\t\t\t# Metaplot\n",
    "\t\t\tif row == 0:\n",
    "\t\t\t\tinputfile = PROJECT_DIR_o + \"feature_matrix/\" + \"_\".join([s, d, m, \"reformat\"]) + \".txt\"\n",
    "\t\t\t\thue_order = [\"Control\", \"Divergent\", \"Unidirectional\"]\n",
    "\t\t\t\tpalette = [\"#d9d9d9\", \"#313695\", \"#fccde5\"]\n",
    "\t\t\t\tutils.generate_feature_metaplot(inputfile, palette, hue_order, ax, test)\n",
    "\t\t\t\t\n",
    "\t\t\t\t# Y axis\n",
    "\t\t\t\tax.set_ylim(ylims[ms.index(m)])\n",
    "\t\t\t\tax.set_yticks(yticks[ms.index(m)])\n",
    "\t\t\t\tax.tick_params(labelsize=labelsize, pad=labelpad)\n",
    "\t\t\t\tif col == 0:\n",
    "\t\t\t\t\tax.set_ylabel(\"ChIP-seq\", fontsize=fontsize, fontweight=\"bold\")\n",
    "\t\t\t\t\tax.get_yaxis().set_label_coords(y_align, 0.5)\n",
    "\t\t\t\telse:\n",
    "\t\t\t\t\tax.set_ylabel(\"\")\n",
    "\n",
    "\t\t\t\t# Legend\n",
    "\t\t\t\tif col == 0:\n",
    "\t\t\t\t\tax.legend(loc='upper center', bbox_to_anchor=(1.1, 1.6), ncol=len(hue_order), fontsize=fontsize)\n",
    "\t\t\t\telse:\n",
    "\t\t\t\t\tax.legend([],[], frameon=False)\n",
    "\t\t\t\t\t\n",
    "\t\t\t# Heatmap\n",
    "\t\t\telse:\n",
    "\t\t\t\tif row == 2:\n",
    "\t\t\t\t\tcbar = True\n",
    "\t\t\t\t\tif len(ms) == 1:\n",
    "\t\t\t\t\t\tcbar_ax = axes[4]\n",
    "\t\t\t\t\telse:\n",
    "\t\t\t\t\t\tcbar_ax = axes[4, col]\n",
    "\t\t\t\telse:\n",
    "\t\t\t\t\tcbar = False\n",
    "\t\t\t\t\tcbar_ax = None\t\t\t\t\n",
    "\n",
    "\t\t\t\tfeature_files = [PROJECT_DIR_o + \"feature_matrix/\" + \"_\".join([s, ps[row-1], d, m]) + \".txt\"]\n",
    "\t\t\t\tcbar_kws = {\"ticks\": cbarticks[ms.index(m)], \"orientation\": \"horizontal\"}\n",
    "\t\t\t\t# Sort by the sum of CTCF\n",
    "\t\t\t\tutils.generate_feature_heatmap(feature_files, f_sort, cbarticks[ms.index(m)], cmaps[ms.index(m)], cbar, cbar_ax, cbar_kws, ax, test)\n",
    "\n",
    "\t\t\t\tif row == 2:\n",
    "\t\t\t\t\tcbar_ax.set_xticklabels(cbarticks[ms.index(m)])\n",
    "\t\t\t\t\tcbar_ax.tick_params(axis=\"x\", labelsize=labelsize, pad=labelpad)\n",
    "\n",
    "\t\t\t\tif col == 0:\n",
    "\t\t\t\t\tax.set_ylabel(ps[row-1].capitalize(), fontsize=fontsize, fontweight=\"bold\")\n",
    "\t\t\t\t\tax.get_yaxis().set_label_coords(y_align, 0.5)\n",
    "\t\t\t\telse:\n",
    "\t\t\t\t\tax.set_ylabel(\"\")\n",
    "\t\t\t\t\n",
    "\t\t\t# Title\n",
    "\t\t\tif row == 0:\n",
    "\t\t\t\tax.set_title(m, fontsize=25, pad=labelpad+5, fontweight=\"bold\")\n",
    "\t\t\n",
    "\t\t\t# X axis\n",
    "\t\t\txtick_list = [0,500,1000]\n",
    "\t\t\txticklabel_list = [\"-0.5\", \"0\", \"0.5\"]\n",
    "\t\t\tax.set_xlim([0, 1000])\n",
    "\t\t\tax.set_xticks(xtick_list)\n",
    "\t\t\tif row == 2:\n",
    "\t\t\t\tax.set_xticklabels(xticklabel_list)\n",
    "\t\t\t\tax.set_xlabel(xlabel, fontsize=fontsize, fontweight=\"bold\")\n",
    "\t\t\t\tax.tick_params(labelsize=labelsize, pad=labelpad)\n",
    "\t\t\telse:\n",
    "\t\t\t\tax.set_xticklabels([])\n",
    "\t\t\t\tax.set_xlabel(\"\")\n",
    "\n",
    "\tfig.subplots_adjust(wspace=wspace, hspace=hspace)\n",
    "\tplt.savefig(outputfile, bbox_inches = 'tight', dpi=300) "
   ]
  },
  {
   "cell_type": "code",
   "execution_count": 36,
   "id": "090b26cd-636b-4062-baee-b9e931bb7395",
   "metadata": {
    "execution": {
     "iopub.execute_input": "2024-05-27T19:51:20.109582Z",
     "iopub.status.busy": "2024-05-27T19:51:20.109022Z",
     "iopub.status.idle": "2024-05-27T19:51:20.142199Z",
     "shell.execute_reply": "2024-05-27T19:51:20.137764Z",
     "shell.execute_reply.started": "2024-05-27T19:51:20.109548Z"
    },
    "scrolled": true,
    "tags": []
   },
   "outputs": [],
   "source": [
    "pwpool = ProcessWrapPool(len(ds))\n",
    "\n",
    "# test = True\n",
    "test = False\n",
    "cmaps = [\"viridis\"]*2\n",
    "f_sort = PROJECT_DIR_o + \"labels/\" + \"_\".join([s, \"CTCF_sum\"]) + \".txt\"\n",
    "for d in ds:\n",
    "\tif d == \"distal\":\n",
    "\t\tylims = [[-3, 33], [-0.5, 5.0]]\n",
    "\t\tyticks = [[0, 10, 20, 30], [0, 1.5, 3.0, 4.5]]\n",
    "\telse:\n",
    "\t\tylims = [[-3, 33], [-0.5, 3.5]]\n",
    "\t\tyticks = [[0, 10, 20, 30], [0, 1, 2, 3]]\n",
    "\toutputfile = PROJECT_DIR_o + \"other_figures/\" + \"_\".join([s, \"CTCF_RAD21\", d]) + \".png\"\n",
    "\tpwpool.run(generate_metaplot_and_heatmap, args=[s, d, ms, f_sort, ylims, yticks, yticks, cmaps, test, outputfile])"
   ]
  },
  {
   "cell_type": "code",
   "execution_count": 41,
   "id": "2823fa9a-d020-4ba6-a16b-f73cc70da204",
   "metadata": {
    "execution": {
     "iopub.execute_input": "2024-05-27T20:02:43.270311Z",
     "iopub.status.busy": "2024-05-27T20:02:43.269764Z",
     "iopub.status.idle": "2024-05-27T20:02:43.275734Z",
     "shell.execute_reply": "2024-05-27T20:02:43.274938Z",
     "shell.execute_reply.started": "2024-05-27T20:02:43.270275Z"
    },
    "tags": []
   },
   "outputs": [
    {
     "data": {
      "text/plain": [
       "2"
      ]
     },
     "execution_count": 41,
     "metadata": {},
     "output_type": "execute_result"
    }
   ],
   "source": [
    "len(pwpool.finished_tasks)"
   ]
  },
  {
   "cell_type": "code",
   "execution_count": 42,
   "id": "1c607d31-8702-4416-9e92-7a45a32149fb",
   "metadata": {
    "execution": {
     "iopub.execute_input": "2024-05-27T20:02:48.057178Z",
     "iopub.status.busy": "2024-05-27T20:02:48.056821Z",
     "iopub.status.idle": "2024-05-27T20:02:48.060024Z",
     "shell.execute_reply": "2024-05-27T20:02:48.059529Z",
     "shell.execute_reply.started": "2024-05-27T20:02:48.057157Z"
    }
   },
   "outputs": [],
   "source": [
    "pwpool.close()"
   ]
  },
  {
   "cell_type": "markdown",
   "id": "338c2cad-b1bd-4a84-ae8b-80755ca472eb",
   "metadata": {},
   "source": [
    "# 3. DI vs. ChIP-seq"
   ]
  },
  {
   "cell_type": "code",
   "execution_count": 29,
   "id": "ae243db1-52d4-479d-a283-f1223967864e",
   "metadata": {
    "execution": {
     "iopub.execute_input": "2024-05-27T19:40:47.088199Z",
     "iopub.status.busy": "2024-05-27T19:40:47.086072Z",
     "iopub.status.idle": "2024-05-27T19:40:47.101340Z",
     "shell.execute_reply": "2024-05-27T19:40:47.100594Z",
     "shell.execute_reply.started": "2024-05-27T19:40:47.088168Z"
    }
   },
   "outputs": [],
   "source": [
    "# Divide divergent elements into different DI categories, check how skewedness correlates with CTCF/cohesin signals\n",
    "\n",
    "p = \"divergent\""
   ]
  },
  {
   "cell_type": "markdown",
   "id": "4aef47b3-59b0-4907-b740-27671b939312",
   "metadata": {},
   "source": [
    "## 3.1 Settings"
   ]
  },
  {
   "cell_type": "markdown",
   "id": "06652d4d-42b5-4f14-8c91-cf13f687f914",
   "metadata": {},
   "source": [
    "### 3.1.1 Get DI quantiles"
   ]
  },
  {
   "cell_type": "code",
   "execution_count": 26,
   "id": "613ecdea-4831-48c1-badb-6003084a96d4",
   "metadata": {
    "execution": {
     "iopub.execute_input": "2024-05-27T19:40:40.475890Z",
     "iopub.status.busy": "2024-05-27T19:40:40.471079Z",
     "iopub.status.idle": "2024-05-27T19:40:40.504133Z",
     "shell.execute_reply": "2024-05-27T19:40:40.503298Z",
     "shell.execute_reply.started": "2024-05-27T19:40:40.475850Z"
    },
    "tags": []
   },
   "outputs": [],
   "source": [
    "def get_DI_matrix(peak_files, bws, outputfile):\n",
    "\n",
    "\tbw1 = pyBigWig.open(bws[0])\n",
    "\tbw2 = pyBigWig.open(bws[1])\n",
    "\t\n",
    "\tresults = []\n",
    "\tfor peak in peak_files:\n",
    "\t\twith DelimitedReader(peak) as dr:\n",
    "\t\t\tfor cols in dr:\n",
    "\t\t\t\tchrom, start, end, pstart, pend = cols[:5]\n",
    "\t\t\t\tstart = int(start)\n",
    "\t\t\t\tend = int(end)\n",
    "\t\t\t\treads1 = 0\n",
    "\t\t\t\treads2 = 0\n",
    "\t\t\t\t# pyBigWig: 0-based start, 0-based end; the end is not included\n",
    "\t\t\t\tif bw1.intervals(chrom, start, end+1) != None:\n",
    "\t\t\t\t\tfor start2, end2, score in bw1.intervals(chrom, start, end+1):\n",
    "\t\t\t\t\t\tl = min(end+1, end2) - max(start, start2)\n",
    "\t\t\t\t\t\treads1 += abs(score) * l\n",
    "\t\t\t\tif bw2.intervals(chrom, start, end+1) != None:\n",
    "\t\t\t\t\tfor start2, end2, score in bw2.intervals(chrom, start, end+1):\n",
    "\t\t\t\t\t\tl = min(end+1, end2) - max(start, start2)\n",
    "\t\t\t\t\t\treads2 += abs(score) * l\n",
    "\t\t\t\tDI = (reads1-reads2)/(reads1+reads2)\n",
    "\t\t\t\tresults.append([(chrom, pstart, pend), DI])\n",
    "\tdf = pd.DataFrame(results, columns=[\"Element\", \"DI\"])\n",
    "\tdf.to_csv(outputfile, sep=\"\\t\", index=False)"
   ]
  },
  {
   "cell_type": "code",
   "execution_count": 30,
   "id": "73c449e4-e303-4d42-bfd0-acdfe215769a",
   "metadata": {
    "execution": {
     "iopub.execute_input": "2024-05-27T19:40:49.586037Z",
     "iopub.status.busy": "2024-05-27T19:40:49.585545Z",
     "iopub.status.idle": "2024-05-27T19:41:00.877650Z",
     "shell.execute_reply": "2024-05-27T19:41:00.868041Z",
     "shell.execute_reply.started": "2024-05-27T19:40:49.586013Z"
    }
   },
   "outputs": [],
   "source": [
    "for d in ds:\n",
    "\tpeak_files = [PROJECT_DIR_d + \"bed_plot/\" + \"_\".join([s, p, d]) + \".bed\"]\n",
    "\tbws2 = [PROJECT_DIR_d + \"Alignments/\" + \"_\".join([\"brm_CTCF_U1_and_CTCF_U2_erm\", \"5\"+k]) + \".bw\" for k in ks]\n",
    "\toutputfile = PROJECT_DIR_o + \"labels/\" + \"_\".join([s, d, \"DI\", \"temp\"]) + \".txt\"\n",
    "\tget_DI_matrix(peak_files, bws2, outputfile)"
   ]
  },
  {
   "cell_type": "code",
   "execution_count": 31,
   "id": "adb6cc3d-8907-4ee0-868a-d1ba6ba5fe95",
   "metadata": {
    "execution": {
     "iopub.execute_input": "2024-05-27T19:41:00.884635Z",
     "iopub.status.busy": "2024-05-27T19:41:00.883832Z",
     "iopub.status.idle": "2024-05-27T19:41:01.068594Z",
     "shell.execute_reply": "2024-05-27T19:41:01.067805Z",
     "shell.execute_reply.started": "2024-05-27T19:41:00.884611Z"
    }
   },
   "outputs": [],
   "source": [
    "# Divide divergent elements into four categories based on absolute DIs\n",
    "\n",
    "for d in ds:\n",
    "\tinputfile = PROJECT_DIR_o + \"labels/\" + \"_\".join([s, d, \"DI\", \"temp\"]) + \".txt\"\n",
    "\tdf = pd.read_table(inputfile)\n",
    "\tdf[\"DI\"] = df[\"DI\"].abs()\n",
    "\tquartile_values = df[\"DI\"].quantile([0, 0.25, 0.5, 0.75, 1])\n",
    "\tdf[\"Quantile\"] = pd.cut(df[\"DI\"], bins=quartile_values, labels=[\"Q1\", \"Q2\", \"Q3\", \"Q4\"], right=False)\n",
    "\toutputfile = PROJECT_DIR_o + \"labels/\" + \"_\".join([s, d, \"DI\"]) + \".txt\"\n",
    "\tdf.to_csv(outputfile, sep=\"\\t\", index=False)\n",
    "\tsubprocess.run(\"rm \" + inputfile, shell=True)"
   ]
  },
  {
   "cell_type": "code",
   "execution_count": 56,
   "id": "2d0d93e1-7cb3-40ed-8dba-1e433c82a84a",
   "metadata": {
    "execution": {
     "iopub.execute_input": "2024-05-27T20:18:17.574753Z",
     "iopub.status.busy": "2024-05-27T20:18:17.574137Z",
     "iopub.status.idle": "2024-05-27T20:18:17.579104Z",
     "shell.execute_reply": "2024-05-27T20:18:17.578281Z",
     "shell.execute_reply.started": "2024-05-27T20:18:17.574709Z"
    }
   },
   "outputs": [],
   "source": [
    "DI_order = [\"Q1\", \"Q2\", \"Q3\", \"Q4\"]"
   ]
  },
  {
   "cell_type": "code",
   "execution_count": 39,
   "id": "ff0ebf30-6067-4446-a83b-e2d5f910041f",
   "metadata": {
    "execution": {
     "iopub.execute_input": "2024-05-27T19:57:41.626385Z",
     "iopub.status.busy": "2024-05-27T19:57:41.624142Z",
     "iopub.status.idle": "2024-05-27T19:57:42.194191Z",
     "shell.execute_reply": "2024-05-27T19:57:42.193331Z",
     "shell.execute_reply.started": "2024-05-27T19:57:41.626348Z"
    },
    "scrolled": true
   },
   "outputs": [],
   "source": [
    "for d in ds:\n",
    "\tfig, ax = plt.subplots(1,1,figsize=(3,4))\n",
    "\tinputfile = PROJECT_DIR_o + \"labels/\" + \"_\".join([s, d, \"DI\"]) + \".txt\"\n",
    "\tdf = pd.read_table(inputfile)\n",
    "\tg = sns.boxplot(data=df, x=\"Quantile\", y=\"DI\", \n",
    "\t\t\t\t\torder=DI_order, \n",
    "\t\t\t\t\tpalette=[\"#efedf5\", \"#bcbddc\", \"#807dba\", \"#3f007d\"])\n",
    "\tg.set_xlabel(\"\")\n",
    "\tg.set_ylabel(\"|Directionality index|\", fontsize=16, fontweight=\"bold\")\n",
    "\tg.spines.right.set_visible(False)\n",
    "\tg.spines.top.set_visible(False)\n",
    "\toutputfile = PROJECT_DIR_o + \"other_figures/\" + \"_\".join([s, \"DI\", d]) + \".png\"\n",
    "\tplt.savefig(outputfile, bbox_inches = 'tight', dpi=300) \n",
    "\tplt.close()"
   ]
  },
  {
   "cell_type": "markdown",
   "id": "d94ddd43-79b4-4e35-965a-5d9adc5b03dc",
   "metadata": {},
   "source": [
    "### 3.1.2 ylims"
   ]
  },
  {
   "cell_type": "code",
   "execution_count": 47,
   "id": "c53e0f5e-f2ee-401a-a4a7-8748d7927610",
   "metadata": {
    "execution": {
     "iopub.execute_input": "2024-05-27T20:11:17.031778Z",
     "iopub.status.busy": "2024-05-27T20:11:17.031250Z",
     "iopub.status.idle": "2024-05-27T20:11:17.039306Z",
     "shell.execute_reply": "2024-05-27T20:11:17.038692Z",
     "shell.execute_reply.started": "2024-05-27T20:11:17.031745Z"
    }
   },
   "outputs": [],
   "source": [
    "def get_ylims2(d, m):\n",
    "\tf_feature = PROJECT_DIR_o + \"feature_matrix/\" + \"_\".join([s, p, d, m]) + \".txt\"\n",
    "\tdf = pd.read_table(f_feature)\n",
    "\tf_label = PROJECT_DIR_o + \"labels/\" + \"_\".join([s, d, \"DI\"]) + \".txt\"\n",
    "\tdf_label = pd.read_table(f_label)\n",
    "\tdf = df.merge(df_label, on=\"Element\")\n",
    "\tmaxs = []\t\n",
    "\tmins = []\n",
    "\tfor g in DI_order:\n",
    "\t\tdf2 = df[df[\"Quantile\"]==g]\n",
    "\t\tdf2 = df2.drop([\"Element\", \"Quantile\"], axis=1)\n",
    "\t\tmaxs.append(max(df2.mean()))\n",
    "\t\tmins.append(min(df2.mean()))\n",
    "\tprint(d, m, max(maxs), min(mins))"
   ]
  },
  {
   "cell_type": "code",
   "execution_count": 48,
   "id": "7b709087-98bd-41b8-ac4d-8ee060771f46",
   "metadata": {
    "execution": {
     "iopub.execute_input": "2024-05-27T20:11:18.504711Z",
     "iopub.status.busy": "2024-05-27T20:11:18.504264Z",
     "iopub.status.idle": "2024-05-27T20:11:39.819471Z",
     "shell.execute_reply": "2024-05-27T20:11:39.818471Z",
     "shell.execute_reply.started": "2024-05-27T20:11:18.504688Z"
    }
   },
   "outputs": [
    {
     "name": "stdout",
     "output_type": "stream",
     "text": [
      "proximal CTCF 10.494617428719524 0.13475068784496097\n",
      "proximal RAD21 1.1147574565316543 0.13475068784496097\n",
      "distal CTCF 13.439372778819004 0.10384823847648618\n",
      "distal RAD21 2.026319542766617 0.10384823847648618\n"
     ]
    }
   ],
   "source": [
    "for d in ds:\n",
    "\tfor m in ms:\n",
    "\t\tget_ylims2(d, m)"
   ]
  },
  {
   "cell_type": "markdown",
   "id": "c9912858-b0c4-4b51-80a4-1161fb147dc2",
   "metadata": {},
   "source": [
    "## 3.2 Metaplot"
   ]
  },
  {
   "cell_type": "code",
   "execution_count": 57,
   "id": "22707631-8dde-4903-9f3d-704df8332fbd",
   "metadata": {
    "execution": {
     "iopub.execute_input": "2024-05-27T20:19:24.498976Z",
     "iopub.status.busy": "2024-05-27T20:19:24.498368Z",
     "iopub.status.idle": "2024-05-27T20:19:24.514834Z",
     "shell.execute_reply": "2024-05-27T20:19:24.513899Z",
     "shell.execute_reply.started": "2024-05-27T20:19:24.498929Z"
    }
   },
   "outputs": [],
   "source": [
    "def generate_metaplot(s, d, ms, f_label, outputfile, ylims, yticks, test, xlabel=\"Distance to center (kb)\", fontsize=20, legend_fontsize=12, labelpad=7.5, labelsize=20, y_align= -0.2, wspace=0.2):\n",
    "\tfig, axes = plt.subplots(1,len(ms),figsize=(len(ms)*5,4))\n",
    "\n",
    "\tpalette = [\"#efedf5\", \"#bcbddc\", \"#807dba\", \"#3f007d\"]\n",
    "\tdf_label = pd.read_table(f_label)\n",
    "\n",
    "\tfor m in ms:\n",
    "\t\tcol = ms.index(m)\n",
    "\t\tax = axes[col]\n",
    "\t\tf_feature = PROJECT_DIR_o + \"feature_matrix/\" + \"_\".join([s, d, m, \"reformat\"]) + \".txt\"\n",
    "\t\tdf = pd.read_table(f_feature)\n",
    "\t\tdf = df.merge(df_label, on=\"Element\")\n",
    "\t\tif test:\n",
    "\t\t\tframes = []\n",
    "\t\t\tfor n in range(len(DI_order)):\n",
    "\t\t\t\tframes.append(df[df[\"Quantile\"]==DI_order[n]].head(10))\n",
    "\t\t\tdf = pd.concat(frames)\n",
    "\t\t\n",
    "\t\tsns.lineplot(data=df, x=\"Position\", y=\"Feature\", hue=\"Quantile\", hue_order=DI_order, palette=palette, ax=ax)\n",
    "\t\t\n",
    "\t\tax.set_title(m, fontsize=25, pad=labelpad+5, fontweight=\"bold\")\n",
    "\t\tif col == len(ms)-1:\n",
    "\t\t\tax.legend(loc=\"upper right\", fontsize=12)\n",
    "\t\telse:\n",
    "\t\t\tax.legend([],[], frameon=False)\n",
    "\t\t\n",
    "\t\t# Y axis\n",
    "\t\tax.set_ylim(ylims[col])\n",
    "\t\tax.set_yticks(yticks[col])\n",
    "\t\tax.tick_params(labelsize=labelsize, pad=labelpad)\n",
    "\t\tif col == 0:\n",
    "\t\t\tax.set_ylabel(\"ChIP-seq\", fontsize=fontsize, fontweight=\"bold\")\n",
    "\t\t\tax.get_yaxis().set_label_coords(y_align, 0.5)\n",
    "\t\telse:\n",
    "\t\t\tax.set_ylabel(\"\")\n",
    "\t\t\n",
    "\t\t# X axis\n",
    "\t\txtick_list = [0,500,1000]\n",
    "\t\txticklabel_list = [\"-0.5\", \"0\", \"0.5\"]\n",
    "\t\tax.set_xlim([0, 1000])\n",
    "\t\tax.set_xticks(xtick_list)\n",
    "\t\tax.set_xticklabels(xticklabel_list)\n",
    "\t\tax.set_xlabel(xlabel, fontsize=fontsize, fontweight=\"bold\")\n",
    "\t\tax.tick_params(labelsize=labelsize, pad=labelpad)\n",
    "\n",
    "\tfig.subplots_adjust(wspace=wspace)\n",
    "\tplt.savefig(outputfile, bbox_inches = 'tight', dpi=300) "
   ]
  },
  {
   "cell_type": "code",
   "execution_count": 58,
   "id": "50ce6ef7-595f-4ec5-8d19-fa20829e0536",
   "metadata": {
    "execution": {
     "iopub.execute_input": "2024-05-27T20:19:27.500216Z",
     "iopub.status.busy": "2024-05-27T20:19:27.499828Z",
     "iopub.status.idle": "2024-05-27T20:19:27.559369Z",
     "shell.execute_reply": "2024-05-27T20:19:27.546681Z",
     "shell.execute_reply.started": "2024-05-27T20:19:27.500195Z"
    },
    "scrolled": true
   },
   "outputs": [],
   "source": [
    "pwpool = ProcessWrapPool(len(ds))\n",
    "\n",
    "# test = True\n",
    "test = False\n",
    "\n",
    "for d in ds:\n",
    "\toutputfile = PROJECT_DIR_o + \"other_figures/\" + \"_\".join([s, \"CTCF_DI\", d]) + \".png\"\n",
    "\tf_label = PROJECT_DIR_o + \"labels/\" + \"_\".join([s, d, \"DI\"]) + \".txt\"\n",
    "\tif d == \"distal\":\n",
    "\t\tylims = [[-2,17], [-0.5,3.5]]\n",
    "\t\tyticks = [[0,5,10,15], [0,1,2,3]]\n",
    "\telse:\n",
    "\t\tylims = [[-1,13], [-0.2,1.4]]\n",
    "\t\tyticks = [[0,4,8,12], [0,0.4,0.8,1.2]]\n",
    "\tpwpool.run(generate_metaplot, args=[s, d, ms, f_label, outputfile, ylims, yticks, test])"
   ]
  },
  {
   "cell_type": "code",
   "execution_count": 62,
   "id": "3568d609-b66f-4911-9202-23169552b5c8",
   "metadata": {
    "execution": {
     "iopub.execute_input": "2024-05-27T21:12:50.338222Z",
     "iopub.status.busy": "2024-05-27T21:12:50.337639Z",
     "iopub.status.idle": "2024-05-27T21:12:50.342678Z",
     "shell.execute_reply": "2024-05-27T21:12:50.342189Z",
     "shell.execute_reply.started": "2024-05-27T21:12:50.338199Z"
    },
    "tags": []
   },
   "outputs": [
    {
     "data": {
      "text/plain": [
       "2"
      ]
     },
     "execution_count": 62,
     "metadata": {},
     "output_type": "execute_result"
    }
   ],
   "source": [
    "len(pwpool.finished_tasks)"
   ]
  },
  {
   "cell_type": "code",
   "execution_count": 63,
   "id": "607a5a85-0eb7-496e-bb96-ea9c1e6ab290",
   "metadata": {
    "execution": {
     "iopub.execute_input": "2024-05-27T21:12:51.458416Z",
     "iopub.status.busy": "2024-05-27T21:12:51.458053Z",
     "iopub.status.idle": "2024-05-27T21:12:51.614066Z",
     "shell.execute_reply": "2024-05-27T21:12:51.613530Z",
     "shell.execute_reply.started": "2024-05-27T21:12:51.458397Z"
    }
   },
   "outputs": [],
   "source": [
    "pwpool.close()"
   ]
  },
  {
   "cell_type": "code",
   "execution_count": null,
   "id": "aed61c9d-aaf0-49ae-8755-dc735d9fcc83",
   "metadata": {},
   "outputs": [],
   "source": []
  }
 ],
 "metadata": {
  "kernelspec": {
   "display_name": "Python 3 (ipykernel)",
   "language": "python",
   "name": "python3"
  },
  "language_info": {
   "codemirror_mode": {
    "name": "ipython",
    "version": 3
   },
   "file_extension": ".py",
   "mimetype": "text/x-python",
   "name": "python",
   "nbconvert_exporter": "python",
   "pygments_lexer": "ipython3",
   "version": "3.9.16"
  }
 },
 "nbformat": 4,
 "nbformat_minor": 5
}

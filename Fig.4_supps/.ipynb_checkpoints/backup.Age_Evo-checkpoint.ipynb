{
 "cells": [
  {
   "cell_type": "code",
   "execution_count": 1,
   "id": "d0785164-21b2-4f11-84de-dbcb0c0db2b3",
   "metadata": {
    "execution": {
     "iopub.execute_input": "2024-08-29T13:45:11.722894Z",
     "iopub.status.busy": "2024-08-29T13:45:11.722717Z",
     "iopub.status.idle": "2024-08-29T13:46:34.422378Z",
     "shell.execute_reply": "2024-08-29T13:46:34.420666Z",
     "shell.execute_reply.started": "2024-08-29T13:45:11.722874Z"
    }
   },
   "outputs": [],
   "source": [
    "import glob\n",
    "from mphelper import ProcessWrapPool\n",
    "import subprocess\n",
    "import pandas as pd\n",
    "from biodata.delimited import DelimitedReader, DelimitedWriter\n",
    "import json\n",
    "import matplotlib.pyplot as plt\n",
    "import numpy as np\n",
    "from scipy.stats import mannwhitneyu"
   ]
  },
  {
   "cell_type": "code",
   "execution_count": 2,
   "id": "6f4f5ef6-fd04-4ea7-b533-8c64285d42dc",
   "metadata": {
    "execution": {
     "iopub.execute_input": "2024-08-29T13:46:34.426956Z",
     "iopub.status.busy": "2024-08-29T13:46:34.426446Z",
     "iopub.status.idle": "2024-08-29T13:46:34.430533Z",
     "shell.execute_reply": "2024-08-29T13:46:34.429928Z",
     "shell.execute_reply.started": "2024-08-29T13:46:34.426932Z"
    },
    "tags": []
   },
   "outputs": [],
   "source": [
    "PROJECT_DIR_s = \"/home/yc2553/projects/TRE_directionality/codes/\"\n",
    "PROJECT_DIR_r = \"/home/yc2553/projects/TRE_directionality/Resources/\"\n",
    "PROJECT_DIR_d = \"/home/yc2553/projects/TRE_directionality/PROcap/\"\n",
    "PROJECT_DIR_d2 = \"/fs/cbsuhy02/storage/yc2553/yc2553/databases/\"\n",
    "PROJECT_DIR_o = \"/home/yc2553/projects/TRE_directionality/output/\""
   ]
  },
  {
   "cell_type": "code",
   "execution_count": 3,
   "id": "f1c3ecb7-756d-4fb6-a73d-f260af385537",
   "metadata": {
    "execution": {
     "iopub.execute_input": "2024-08-29T13:46:34.434039Z",
     "iopub.status.busy": "2024-08-29T13:46:34.433544Z",
     "iopub.status.idle": "2024-08-29T13:47:00.335683Z",
     "shell.execute_reply": "2024-08-29T13:47:00.334451Z",
     "shell.execute_reply.started": "2024-08-29T13:46:34.434009Z"
    }
   },
   "outputs": [],
   "source": [
    "import sys\n",
    "sys.path.append(PROJECT_DIR_s)"
   ]
  },
  {
   "cell_type": "code",
   "execution_count": 4,
   "id": "4992f562-8fd9-4a5a-9990-9c7408dad3ef",
   "metadata": {
    "execution": {
     "iopub.execute_input": "2024-08-29T13:47:00.339466Z",
     "iopub.status.busy": "2024-08-29T13:47:00.338981Z",
     "iopub.status.idle": "2024-08-29T13:47:01.708786Z",
     "shell.execute_reply": "2024-08-29T13:47:01.708229Z",
     "shell.execute_reply.started": "2024-08-29T13:47:00.339443Z"
    }
   },
   "outputs": [
    {
     "data": {
      "text/plain": [
       "<module 'utils' from '/home/yc2553/projects/TRE_directionality/codes/utils.py'>"
      ]
     },
     "execution_count": 4,
     "metadata": {},
     "output_type": "execute_result"
    }
   ],
   "source": [
    "import importlib\n",
    "import utils\n",
    "importlib.reload(utils)"
   ]
  },
  {
   "cell_type": "markdown",
   "id": "bd83d5c6-2ce2-4b62-a949-e2247de2d5e7",
   "metadata": {},
   "source": [
    "# 1. Assign sequence age"
   ]
  },
  {
   "cell_type": "code",
   "execution_count": 5,
   "id": "4199eb10-eb8f-4691-8775-12c61d13d6da",
   "metadata": {
    "execution": {
     "iopub.execute_input": "2024-08-29T13:47:01.712161Z",
     "iopub.status.busy": "2024-08-29T13:47:01.711919Z",
     "iopub.status.idle": "2024-08-29T13:47:34.909700Z",
     "shell.execute_reply": "2024-08-29T13:47:34.908562Z",
     "shell.execute_reply.started": "2024-08-29T13:47:01.712141Z"
    }
   },
   "outputs": [],
   "source": [
    "s = \"HCT116\"\n",
    "ps = [\"divergent\", \"unidirectional\"]\n",
    "ds = [\"distal\", \"proximal\"]\n",
    "gs = [p+\"_\"+d for p in ps for d in ds]\n",
    "cs = [\"\", \"_control\"]"
   ]
  },
  {
   "cell_type": "code",
   "execution_count": 6,
   "id": "474ccc77-a658-465a-a1c5-02478a1b3b85",
   "metadata": {
    "execution": {
     "iopub.execute_input": "2024-08-29T13:47:34.913883Z",
     "iopub.status.busy": "2024-08-29T13:47:34.913375Z",
     "iopub.status.idle": "2024-08-29T13:47:36.140484Z",
     "shell.execute_reply": "2024-08-29T13:47:36.139878Z",
     "shell.execute_reply.started": "2024-08-29T13:47:34.913859Z"
    },
    "tags": []
   },
   "outputs": [
    {
     "data": {
      "text/plain": [
       "8"
      ]
     },
     "execution_count": 6,
     "metadata": {},
     "output_type": "execute_result"
    }
   ],
   "source": [
    "#1 TRE/control files \n",
    "\n",
    "files1 = []\n",
    "for g in gs:\n",
    "\tfor c in cs:\n",
    "\t\tfiles1.append(PROJECT_DIR_d + \"bed_plot/\" + \"_\".join([s, g+c]) + \".bed\")\n",
    "len(files1)"
   ]
  },
  {
   "cell_type": "code",
   "execution_count": 7,
   "id": "4481a9ed-5bcb-4457-bbd8-ecec26943f8a",
   "metadata": {
    "execution": {
     "iopub.execute_input": "2024-08-29T13:47:36.143909Z",
     "iopub.status.busy": "2024-08-29T13:47:36.143618Z",
     "iopub.status.idle": "2024-08-29T13:47:37.280721Z",
     "shell.execute_reply": "2024-08-29T13:47:37.279884Z",
     "shell.execute_reply.started": "2024-08-29T13:47:36.143890Z"
    },
    "tags": []
   },
   "outputs": [
    {
     "data": {
      "text/plain": [
       "24"
      ]
     },
     "execution_count": 7,
     "metadata": {},
     "output_type": "execute_result"
    }
   ],
   "source": [
    "#2 Syntenic blocks\n",
    "\n",
    "files2 = glob.glob(PROJECT_DIR_d2 + \"UCSC/multiz100way/hg38/chr*.bed\")\n",
    "len(files2)"
   ]
  },
  {
   "cell_type": "code",
   "execution_count": 8,
   "id": "c6f9506d-bc77-491f-b343-983b7b5879af",
   "metadata": {
    "execution": {
     "iopub.execute_input": "2024-08-29T13:47:37.281865Z",
     "iopub.status.busy": "2024-08-29T13:47:37.281562Z",
     "iopub.status.idle": "2024-08-29T13:47:38.477819Z",
     "shell.execute_reply": "2024-08-29T13:47:38.476727Z",
     "shell.execute_reply.started": "2024-08-29T13:47:37.281846Z"
    },
    "tags": []
   },
   "outputs": [],
   "source": [
    "def intersect(fa, fb):\n",
    "\ttemp = PROJECT_DIR_o + \"temp/\" + fa.split(\"/\")[-1]\n",
    "\twith DelimitedWriter(temp) as dw:\n",
    "\t\twith DelimitedReader(fa) as dr:\n",
    "\t\t\tfor cols in dr:\n",
    "\t\t\t\tchrom, start, end = cols[:3]\n",
    "\t\t\t\tdw.write([chrom, int(start)-250, int(end)+250]+cols[3:])\n",
    "\toutputfile = temp.split(\".bed\")[0] + \".txt\"\n",
    "\tsubprocess.run(\"bedtools intersect -a \" + temp + \" -b \" + fb + \" -sorted -wao > \" + outputfile, shell=True)"
   ]
  },
  {
   "cell_type": "code",
   "execution_count": 9,
   "id": "93af1fa8-658c-4189-af21-f688b86ac56a",
   "metadata": {
    "execution": {
     "iopub.execute_input": "2024-08-29T13:47:38.481447Z",
     "iopub.status.busy": "2024-08-29T13:47:38.481085Z",
     "iopub.status.idle": "2024-08-29T13:48:52.977235Z",
     "shell.execute_reply": "2024-08-29T13:48:52.975115Z",
     "shell.execute_reply.started": "2024-08-29T13:47:38.481429Z"
    },
    "scrolled": true,
    "tags": []
   },
   "outputs": [],
   "source": [
    "pwpool = ProcessWrapPool(len(files1))\n",
    "\n",
    "fb = \" \".join(files2)\n",
    "for fa in files1:\n",
    "\tpwpool.run(intersect, args=[fa, fb])"
   ]
  },
  {
   "cell_type": "code",
   "execution_count": 12,
   "id": "d15b3252-3985-4beb-b4cf-21ca736bdb1d",
   "metadata": {
    "execution": {
     "iopub.execute_input": "2024-08-29T13:50:30.177846Z",
     "iopub.status.busy": "2024-08-29T13:50:30.177334Z",
     "iopub.status.idle": "2024-08-29T13:50:30.182492Z",
     "shell.execute_reply": "2024-08-29T13:50:30.181985Z",
     "shell.execute_reply.started": "2024-08-29T13:50:30.177822Z"
    },
    "tags": []
   },
   "outputs": [
    {
     "data": {
      "text/plain": [
       "8"
      ]
     },
     "execution_count": 12,
     "metadata": {},
     "output_type": "execute_result"
    }
   ],
   "source": [
    "len(pwpool.finished_tasks)"
   ]
  },
  {
   "cell_type": "code",
   "execution_count": 13,
   "id": "30f69082-e905-49ba-9409-5fbd819f7f7b",
   "metadata": {
    "execution": {
     "iopub.execute_input": "2024-08-29T13:50:33.877449Z",
     "iopub.status.busy": "2024-08-29T13:50:33.877107Z",
     "iopub.status.idle": "2024-08-29T13:50:33.881920Z",
     "shell.execute_reply": "2024-08-29T13:50:33.881173Z",
     "shell.execute_reply.started": "2024-08-29T13:50:33.877428Z"
    },
    "tags": []
   },
   "outputs": [],
   "source": [
    "pwpool.close()"
   ]
  },
  {
   "cell_type": "code",
   "execution_count": 14,
   "id": "66826d0e-2a4f-4a4c-8b16-823f0650f2fd",
   "metadata": {
    "execution": {
     "iopub.execute_input": "2024-08-29T13:50:34.533732Z",
     "iopub.status.busy": "2024-08-29T13:50:34.533108Z",
     "iopub.status.idle": "2024-08-29T13:51:20.070297Z",
     "shell.execute_reply": "2024-08-29T13:51:20.069469Z",
     "shell.execute_reply.started": "2024-08-29T13:50:34.533673Z"
    }
   },
   "outputs": [
    {
     "data": {
      "text/html": [
       "<div>\n",
       "<style scoped>\n",
       "    .dataframe tbody tr th:only-of-type {\n",
       "        vertical-align: middle;\n",
       "    }\n",
       "\n",
       "    .dataframe tbody tr th {\n",
       "        vertical-align: top;\n",
       "    }\n",
       "\n",
       "    .dataframe thead th {\n",
       "        text-align: right;\n",
       "    }\n",
       "</style>\n",
       "<table border=\"1\" class=\"dataframe\">\n",
       "  <thead>\n",
       "    <tr style=\"text-align: right;\">\n",
       "      <th></th>\n",
       "      <th>0</th>\n",
       "      <th>1</th>\n",
       "      <th>2</th>\n",
       "      <th>3</th>\n",
       "      <th>4</th>\n",
       "      <th>5</th>\n",
       "      <th>6</th>\n",
       "      <th>7</th>\n",
       "      <th>8</th>\n",
       "      <th>9</th>\n",
       "      <th>10</th>\n",
       "      <th>11</th>\n",
       "      <th>12</th>\n",
       "      <th>13</th>\n",
       "    </tr>\n",
       "  </thead>\n",
       "  <tbody>\n",
       "    <tr>\n",
       "      <th>0</th>\n",
       "      <td>chr1</td>\n",
       "      <td>998532</td>\n",
       "      <td>999532</td>\n",
       "      <td>998929</td>\n",
       "      <td>999173</td>\n",
       "      <td>998930</td>\n",
       "      <td>999134</td>\n",
       "      <td>+</td>\n",
       "      <td>1</td>\n",
       "      <td>chr1</td>\n",
       "      <td>998518</td>\n",
       "      <td>998545</td>\n",
       "      <td>Vertebrate</td>\n",
       "      <td>13</td>\n",
       "    </tr>\n",
       "    <tr>\n",
       "      <th>1</th>\n",
       "      <td>chr1</td>\n",
       "      <td>998532</td>\n",
       "      <td>999532</td>\n",
       "      <td>998929</td>\n",
       "      <td>999173</td>\n",
       "      <td>998930</td>\n",
       "      <td>999134</td>\n",
       "      <td>+</td>\n",
       "      <td>1</td>\n",
       "      <td>chr1</td>\n",
       "      <td>998545</td>\n",
       "      <td>998562</td>\n",
       "      <td>Vertebrate</td>\n",
       "      <td>17</td>\n",
       "    </tr>\n",
       "  </tbody>\n",
       "</table>\n",
       "</div>"
      ],
      "text/plain": [
       "     0       1       2       3       4       5       6  7   8     9       10  \\\n",
       "0  chr1  998532  999532  998929  999173  998930  999134  +   1  chr1  998518   \n",
       "1  chr1  998532  999532  998929  999173  998930  999134  +   1  chr1  998545   \n",
       "\n",
       "       11          12  13  \n",
       "0  998545  Vertebrate  13  \n",
       "1  998562  Vertebrate  17  "
      ]
     },
     "execution_count": 14,
     "metadata": {},
     "output_type": "execute_result"
    }
   ],
   "source": [
    "# Check the output\n",
    "\n",
    "inputfile = PROJECT_DIR_o + \"temp/HCT116_divergent_distal.txt\"\n",
    "df = pd.read_table(inputfile, header=None)\n",
    "df.head(2)"
   ]
  },
  {
   "cell_type": "markdown",
   "id": "1f7f3beb-b7bb-4ad1-8b7f-72e5eba10959",
   "metadata": {},
   "source": [
    "# 2. Generate feature matrix"
   ]
  },
  {
   "cell_type": "markdown",
   "id": "70d520f4-def7-44f9-b898-fe454e7c48ec",
   "metadata": {},
   "source": [
    "## 2.1 Age"
   ]
  },
  {
   "cell_type": "code",
   "execution_count": 15,
   "id": "c5818e8f-1e49-4a70-b501-511ec6c466c0",
   "metadata": {
    "execution": {
     "iopub.execute_input": "2024-08-29T13:51:20.072637Z",
     "iopub.status.busy": "2024-08-29T13:51:20.072301Z",
     "iopub.status.idle": "2024-08-29T13:51:26.934375Z",
     "shell.execute_reply": "2024-08-29T13:51:26.933098Z",
     "shell.execute_reply.started": "2024-08-29T13:51:20.072616Z"
    },
    "tags": []
   },
   "outputs": [],
   "source": [
    "inputfile = PROJECT_DIR_r + \"UCSC/seq_age/clades.json\"\n",
    "with open(inputfile, \"r\") as f:\n",
    "\tclades = json.load(f)"
   ]
  },
  {
   "cell_type": "code",
   "execution_count": 16,
   "id": "484f32ab-faa6-40cc-8baf-794f56ee4995",
   "metadata": {
    "execution": {
     "iopub.execute_input": "2024-08-29T13:51:26.935801Z",
     "iopub.status.busy": "2024-08-29T13:51:26.935468Z",
     "iopub.status.idle": "2024-08-29T13:51:53.178842Z",
     "shell.execute_reply": "2024-08-29T13:51:53.159329Z",
     "shell.execute_reply.started": "2024-08-29T13:51:26.935780Z"
    },
    "scrolled": true,
    "tags": []
   },
   "outputs": [],
   "source": [
    "pwpool = ProcessWrapPool(len(gs)*len(cs))\n",
    "\n",
    "m = \"Age\"\n",
    "for g in gs:\n",
    "\tfor c in cs:\n",
    "\t\tinputfile = PROJECT_DIR_o + \"temp/\" + \"_\".join([s, g+c]) + \".txt\"\n",
    "\t\toutputfile = PROJECT_DIR_o + \"temp/\" + \"_\".join([s, m, g+c]) + \".txt\"\n",
    "\t\tpwpool.run(utils.age_dissection, args=[inputfile, outputfile, clades])"
   ]
  },
  {
   "cell_type": "code",
   "execution_count": 18,
   "id": "2779a125-e921-4a2f-a592-6ce5747a2d24",
   "metadata": {
    "execution": {
     "iopub.execute_input": "2024-08-29T13:57:33.283474Z",
     "iopub.status.busy": "2024-08-29T13:57:33.282713Z",
     "iopub.status.idle": "2024-08-29T13:57:33.288218Z",
     "shell.execute_reply": "2024-08-29T13:57:33.287621Z",
     "shell.execute_reply.started": "2024-08-29T13:57:33.283410Z"
    },
    "tags": []
   },
   "outputs": [
    {
     "data": {
      "text/plain": [
       "8"
      ]
     },
     "execution_count": 18,
     "metadata": {},
     "output_type": "execute_result"
    }
   ],
   "source": [
    "# 4*2\n",
    "\n",
    "len(pwpool.finished_tasks)"
   ]
  },
  {
   "cell_type": "code",
   "execution_count": 19,
   "id": "b177eedc-4bd9-4338-9588-1d5ad2a0e1c5",
   "metadata": {
    "execution": {
     "iopub.execute_input": "2024-08-29T13:57:33.915335Z",
     "iopub.status.busy": "2024-08-29T13:57:33.914926Z",
     "iopub.status.idle": "2024-08-29T13:57:34.509461Z",
     "shell.execute_reply": "2024-08-29T13:57:34.508381Z",
     "shell.execute_reply.started": "2024-08-29T13:57:33.915313Z"
    }
   },
   "outputs": [],
   "source": [
    "pwpool.close()"
   ]
  },
  {
   "cell_type": "code",
   "execution_count": 20,
   "id": "6e82163a-4c7c-43f5-9fc2-e3c29f86444b",
   "metadata": {
    "execution": {
     "iopub.execute_input": "2024-08-29T13:57:35.174047Z",
     "iopub.status.busy": "2024-08-29T13:57:35.173391Z",
     "iopub.status.idle": "2024-08-29T13:57:35.477908Z",
     "shell.execute_reply": "2024-08-29T13:57:35.462010Z",
     "shell.execute_reply.started": "2024-08-29T13:57:35.173974Z"
    }
   },
   "outputs": [],
   "source": [
    "# Reformat matrix\n",
    "\n",
    "pwpool = ProcessWrapPool(len(gs)*len(cs))\n",
    "\n",
    "for g in gs:\n",
    "\tfor c in cs:\n",
    "\t\tinputfile = PROJECT_DIR_o + \"temp/\" + \"_\".join([s, m, g+c]) + \".txt\"\n",
    "\t\toutputfile = PROJECT_DIR_o + \"temp/\" + \"_\".join([s, m, g+c, \"reformat\"]) + \".txt\"\n",
    "\t\tpwpool.run(utils.reformat_feature_matrix_for_metaplot, args=[inputfile, outputfile])"
   ]
  },
  {
   "cell_type": "code",
   "execution_count": 22,
   "id": "1a28a03e-6ee4-4bc4-b16f-ea23d8e62258",
   "metadata": {
    "execution": {
     "iopub.execute_input": "2024-08-29T13:59:11.230585Z",
     "iopub.status.busy": "2024-08-29T13:59:11.229982Z",
     "iopub.status.idle": "2024-08-29T13:59:11.236011Z",
     "shell.execute_reply": "2024-08-29T13:59:11.235346Z",
     "shell.execute_reply.started": "2024-08-29T13:59:11.230560Z"
    },
    "tags": []
   },
   "outputs": [
    {
     "data": {
      "text/plain": [
       "8"
      ]
     },
     "execution_count": 22,
     "metadata": {},
     "output_type": "execute_result"
    }
   ],
   "source": [
    "# 4*2\n",
    "\n",
    "len(pwpool.finished_tasks)"
   ]
  },
  {
   "cell_type": "code",
   "execution_count": 23,
   "id": "e031db69-eca5-4dd6-a52e-741ca4c65c6c",
   "metadata": {
    "execution": {
     "iopub.execute_input": "2024-08-29T13:59:11.899377Z",
     "iopub.status.busy": "2024-08-29T13:59:11.898974Z",
     "iopub.status.idle": "2024-08-29T13:59:13.643098Z",
     "shell.execute_reply": "2024-08-29T13:59:13.642198Z",
     "shell.execute_reply.started": "2024-08-29T13:59:11.899355Z"
    }
   },
   "outputs": [],
   "source": [
    "pwpool.close()"
   ]
  },
  {
   "cell_type": "markdown",
   "id": "3a326dfc-4e7a-4dad-8422-404bc2dfca42",
   "metadata": {},
   "source": [
    "## 2.2 Evo"
   ]
  },
  {
   "cell_type": "code",
   "execution_count": 24,
   "id": "a3cd2cba-53b4-4a38-a110-44a230bbc50a",
   "metadata": {
    "execution": {
     "iopub.execute_input": "2024-08-29T13:59:22.922570Z",
     "iopub.status.busy": "2024-08-29T13:59:22.922002Z",
     "iopub.status.idle": "2024-08-29T13:59:22.926694Z",
     "shell.execute_reply": "2024-08-29T13:59:22.925897Z",
     "shell.execute_reply.started": "2024-08-29T13:59:22.922544Z"
    }
   },
   "outputs": [],
   "source": [
    "bws = {\"phyloP\": PROJECT_DIR_r + \"UCSC/phyloP/hg38.phyloP100way.bw\",\n",
    "\t   \"CDTS\": PROJECT_DIR_r + \"Other/CDTS/coord_CDTS_percentile_N7794unrelated.bw\"\n",
    "\t   }"
   ]
  },
  {
   "cell_type": "code",
   "execution_count": 25,
   "id": "89e65c1a-8e9f-434a-91ac-6dd777bd63c8",
   "metadata": {
    "execution": {
     "iopub.execute_input": "2024-08-29T13:59:23.570100Z",
     "iopub.status.busy": "2024-08-29T13:59:23.569149Z",
     "iopub.status.idle": "2024-08-29T14:00:17.704373Z",
     "shell.execute_reply": "2024-08-29T14:00:17.659541Z",
     "shell.execute_reply.started": "2024-08-29T13:59:23.570028Z"
    },
    "scrolled": true
   },
   "outputs": [],
   "source": [
    "pwpool = ProcessWrapPool(20)\n",
    "\n",
    "for g in gs:\n",
    "\tfor c in cs:\n",
    "\t\tbed_in = PROJECT_DIR_d + \"bed_plot/\" + \"_\".join([s, g+c]) + \".bed\"\n",
    "\t\tfor m in bws:\n",
    "\t\t\toutput1 = PROJECT_DIR_o + \"temp/\" + \"_\".join([s, m, g+c]) + \".txt\"\n",
    "\t\t\toutput2 = PROJECT_DIR_o + \"temp/\" + \"_\".join([s, m, g+c, \"reformat\"]) + \".txt\"\n",
    "\t\t\tpwpool.run(utils.get_feature_matrix, args=[bed_in, bws[m], output1, output2, False, None, np.nan])"
   ]
  },
  {
   "cell_type": "code",
   "execution_count": 27,
   "id": "d8db75f4-f899-42df-96dc-9234baccf384",
   "metadata": {
    "execution": {
     "iopub.execute_input": "2024-08-29T14:16:52.671626Z",
     "iopub.status.busy": "2024-08-29T14:16:52.671381Z",
     "iopub.status.idle": "2024-08-29T14:16:52.676369Z",
     "shell.execute_reply": "2024-08-29T14:16:52.675840Z",
     "shell.execute_reply.started": "2024-08-29T14:16:52.671599Z"
    },
    "tags": []
   },
   "outputs": [
    {
     "data": {
      "text/plain": [
       "16"
      ]
     },
     "execution_count": 27,
     "metadata": {},
     "output_type": "execute_result"
    }
   ],
   "source": [
    "# 4*2*2\n",
    "\n",
    "len(pwpool.finished_tasks)"
   ]
  },
  {
   "cell_type": "code",
   "execution_count": 28,
   "id": "7e4d9245-bc1a-4007-889d-69b7399801b4",
   "metadata": {
    "execution": {
     "iopub.execute_input": "2024-08-29T14:16:53.945834Z",
     "iopub.status.busy": "2024-08-29T14:16:53.945511Z",
     "iopub.status.idle": "2024-08-29T14:17:12.904604Z",
     "shell.execute_reply": "2024-08-29T14:17:12.903687Z",
     "shell.execute_reply.started": "2024-08-29T14:16:53.945812Z"
    }
   },
   "outputs": [],
   "source": [
    "pwpool.close()"
   ]
  },
  {
   "cell_type": "markdown",
   "id": "35fbd693-e87f-419a-bb99-e9eaba7efe3f",
   "metadata": {},
   "source": [
    "## 2.3 Combine dataframes for plotting"
   ]
  },
  {
   "cell_type": "code",
   "execution_count": 29,
   "id": "48aa9114-92e9-4590-b6f2-a211f869ae69",
   "metadata": {
    "execution": {
     "iopub.execute_input": "2024-08-29T14:17:12.906490Z",
     "iopub.status.busy": "2024-08-29T14:17:12.906127Z",
     "iopub.status.idle": "2024-08-29T14:17:14.406954Z",
     "shell.execute_reply": "2024-08-29T14:17:14.406203Z",
     "shell.execute_reply.started": "2024-08-29T14:17:12.906468Z"
    }
   },
   "outputs": [],
   "source": [
    "ms = [\"Age\", \"phyloP\", \"CDTS\"]"
   ]
  },
  {
   "cell_type": "code",
   "execution_count": 30,
   "id": "7ec45a02-21aa-4180-95ca-920b68933dad",
   "metadata": {
    "execution": {
     "iopub.execute_input": "2024-08-29T14:17:14.408318Z",
     "iopub.status.busy": "2024-08-29T14:17:14.407807Z",
     "iopub.status.idle": "2024-08-29T14:17:55.529024Z",
     "shell.execute_reply": "2024-08-29T14:17:55.527510Z",
     "shell.execute_reply.started": "2024-08-29T14:17:14.408297Z"
    }
   },
   "outputs": [],
   "source": [
    "dfs_heatmap = {}\n",
    "for m in ms:\n",
    "\tdfs = []\n",
    "\tfor g in gs:\n",
    "\t\tinputfile = PROJECT_DIR_o + \"temp/\" + \"_\".join([s, m, g]) + \".txt\"\n",
    "\t\tdf = pd.read_table(inputfile)\n",
    "\t\tdf[\"Group\"] = g\n",
    "\t\tdfs.append(df)\n",
    "\tdfs_heatmap[m] = pd.concat(dfs, ignore_index=True)\t"
   ]
  },
  {
   "cell_type": "code",
   "execution_count": 31,
   "id": "95b75880-b95a-456c-a94b-b3ce9060cdac",
   "metadata": {
    "execution": {
     "iopub.execute_input": "2024-08-29T14:17:55.531733Z",
     "iopub.status.busy": "2024-08-29T14:17:55.531352Z",
     "iopub.status.idle": "2024-08-29T14:18:03.663543Z",
     "shell.execute_reply": "2024-08-29T14:18:03.662324Z",
     "shell.execute_reply.started": "2024-08-29T14:17:55.531708Z"
    }
   },
   "outputs": [],
   "source": [
    "# Age\n",
    "# Get the maximum score for each element\n",
    "# Get the average values for two groups; U test \n",
    "\n",
    "m = \"Age\"\n",
    "d = \"distal\"\n",
    "values = {}\n",
    "for p in ps:\n",
    "\tdf = dfs_heatmap[m][dfs_heatmap[m][\"Group\"]==p+\"_\"+d]\n",
    "\tdf = df.drop(columns=[\"Element\", \"Group\"])\n",
    "\tvalues[p] = df.max(axis=1).tolist()"
   ]
  },
  {
   "cell_type": "code",
   "execution_count": 32,
   "id": "3906b491-d56b-4eee-b374-fea2cb083094",
   "metadata": {
    "execution": {
     "iopub.execute_input": "2024-08-29T14:18:03.665024Z",
     "iopub.status.busy": "2024-08-29T14:18:03.664710Z",
     "iopub.status.idle": "2024-08-29T14:18:14.110800Z",
     "shell.execute_reply": "2024-08-29T14:18:14.109992Z",
     "shell.execute_reply.started": "2024-08-29T14:18:03.665001Z"
    },
    "scrolled": true
   },
   "outputs": [],
   "source": [
    "# CDTS\n",
    "# Get the minimum score for each element\n",
    "# Get the average values for two groups; U test \n",
    "\n",
    "m = \"CDTS\"\n",
    "d = \"distal\"\n",
    "values2 = {}\n",
    "for p in ps:\n",
    "\tdf = dfs_heatmap[m][dfs_heatmap[m][\"Group\"]==p+\"_\"+d]\n",
    "\tdf = df.drop(columns=[\"Element\", \"Group\"])\n",
    "\tdf = df.dropna(how='all')\n",
    "\tvalues2[p] = df.min(axis=1, skipna=True).tolist()"
   ]
  },
  {
   "cell_type": "code",
   "execution_count": 33,
   "id": "59bc5645-8216-471f-a762-f01ba7828eb1",
   "metadata": {
    "execution": {
     "iopub.execute_input": "2024-08-29T14:18:14.112175Z",
     "iopub.status.busy": "2024-08-29T14:18:14.111830Z",
     "iopub.status.idle": "2024-08-29T14:19:36.392337Z",
     "shell.execute_reply": "2024-08-29T14:19:36.391406Z",
     "shell.execute_reply.started": "2024-08-29T14:18:14.112152Z"
    }
   },
   "outputs": [],
   "source": [
    "dfs_metaplot = {}\n",
    "for m in ms:\n",
    "\tdfs = []\n",
    "\tfor g in gs:\n",
    "\t\tfor c in cs:\n",
    "\t\t\tinputfile = PROJECT_DIR_o + \"temp/\" + \"_\".join([s, m, g+c, \"reformat\"]) + \".txt\"\n",
    "\t\t\tdf = pd.read_table(inputfile)\n",
    "\t\t\tdf[\"Group\"] = g\n",
    "\t\t\tif c:\n",
    "\t\t\t\tdf[\"Label\"] = \"Control\"\n",
    "\t\t\telse:\n",
    "\t\t\t\tdf[\"Label\"] = g.split(\"_\")[0].capitalize()\n",
    "\t\t\tdfs.append(df)\n",
    "\tdfs_metaplot[m] = pd.concat(dfs, ignore_index=True)\t"
   ]
  },
  {
   "cell_type": "markdown",
   "id": "da0cad77-222b-439d-9990-10cefa8fb4fa",
   "metadata": {},
   "source": [
    "# 3. Metaplots"
   ]
  },
  {
   "cell_type": "markdown",
   "id": "d99d1be7-29d4-4b5c-857d-928e38802d83",
   "metadata": {},
   "source": [
    "## 3.1 ylims"
   ]
  },
  {
   "cell_type": "code",
   "execution_count": 34,
   "id": "e362f653-daa2-4d73-8882-e68854c3e49f",
   "metadata": {
    "execution": {
     "iopub.execute_input": "2024-08-29T14:19:36.393950Z",
     "iopub.status.busy": "2024-08-29T14:19:36.393594Z",
     "iopub.status.idle": "2024-08-29T14:19:36.399351Z",
     "shell.execute_reply": "2024-08-29T14:19:36.398850Z",
     "shell.execute_reply.started": "2024-08-29T14:19:36.393920Z"
    }
   },
   "outputs": [],
   "source": [
    "# Decide on the ylims\n",
    "# Set same value ranges for metaplots and heatmaps\n",
    "\n",
    "def get_ylims(dfs_metaplot):\n",
    "\tlabels = [\"Control\", \"Divergent\", \"Unidirectional\"]\n",
    "\tfor d in ds:\n",
    "\t\tfor m in ms:\n",
    "\t\t\tmaxs = []\n",
    "\t\t\tmins = []\n",
    "\t\t\tdf = dfs_metaplot[m][dfs_metaplot[m][\"Group\"].str.contains(d)]\n",
    "\t\t\tfor label in labels:\n",
    "\t\t\t\tmaxs.append(df[df[\"Label\"]==label].groupby(\"Position\")[\"Feature\"].mean().max())\n",
    "\t\t\t\tmins.append(df[df[\"Label\"]==label].groupby(\"Position\")[\"Feature\"].mean().min())\n",
    "\t\t\tprint(d, m, max(maxs), min(mins))"
   ]
  },
  {
   "cell_type": "code",
   "execution_count": 35,
   "id": "870c4fa9-ed5f-4f8c-9c37-26d122715a69",
   "metadata": {
    "execution": {
     "iopub.execute_input": "2024-08-29T14:19:36.400371Z",
     "iopub.status.busy": "2024-08-29T14:19:36.400101Z",
     "iopub.status.idle": "2024-08-29T14:21:06.115695Z",
     "shell.execute_reply": "2024-08-29T14:21:06.115121Z",
     "shell.execute_reply.started": "2024-08-29T14:19:36.400349Z"
    },
    "tags": []
   },
   "outputs": [
    {
     "name": "stdout",
     "output_type": "stream",
     "text": [
      "distal Age 206.96864111498257 137.5219627169488\n",
      "distal phyloP 0.32816757999995033 -0.05000684866554116\n",
      "distal CDTS 0.020497408504523997 -3.38795051553085\n",
      "proximal Age 365.3274090530408 140.58414666314957\n",
      "proximal phyloP 0.6911693570655971 -0.07571428560939268\n",
      "proximal CDTS 0.06640121192594338 -12.066685077229643\n"
     ]
    }
   ],
   "source": [
    "get_ylims(dfs_metaplot)"
   ]
  },
  {
   "cell_type": "markdown",
   "id": "64a0c1fb-7f79-4c7a-84e0-fed4f251e3ec",
   "metadata": {},
   "source": [
    "## 3.2 Generate metaplots"
   ]
  },
  {
   "cell_type": "code",
   "execution_count": 36,
   "id": "f7703c14-5b5a-456a-9135-361f30e45675",
   "metadata": {
    "execution": {
     "iopub.execute_input": "2024-08-29T14:26:09.095868Z",
     "iopub.status.busy": "2024-08-29T14:26:09.095430Z",
     "iopub.status.idle": "2024-08-29T14:26:09.105533Z",
     "shell.execute_reply": "2024-08-29T14:26:09.104878Z",
     "shell.execute_reply.started": "2024-08-29T14:26:09.095838Z"
    }
   },
   "outputs": [],
   "source": [
    "def generate_metaplot(s, d, ms, ylims, yticks, test, outputfile, xlabel=\"Distance to center (kb)\", fontsize=20, legend_fontsize=12, labelpad=7.5, labelsize=20, y_align= -0.2, hspace=0.2):\n",
    "\t\"\"\"\n",
    "\tGenerate metaplots and heatmaps for a list of features.  \n",
    "\t\"\"\"\n",
    "\t\n",
    "\tfig, axes = plt.subplots(len(ms), 1, figsize=(6, 5*len(ms)))\n",
    "\thue_order = [\"Control\", \"Divergent\", \"Unidirectional\"]\n",
    "\tpalette = [\"#969696\", \"#313695\", \"#de77ae\"]\n",
    "\t\n",
    "\tfor m in ms:\n",
    "\t\trow = ms.index(m)\n",
    "\t\tax = axes[row]\n",
    "\t\tdf = dfs_metaplot[m][dfs_metaplot[m][\"Group\"].str.contains(d)]\n",
    "\t\tutils.generate_feature_metaplot(df, palette, hue_order, ax, test)\n",
    "\t\t\t\t\t\n",
    "\t\t# Y axis\n",
    "\t\tax.set_ylim(ylims[row])\n",
    "\t\tax.set_yticks(yticks[row])\n",
    "\t\tax.set_ylabel(m, fontsize=fontsize, fontweight=\"bold\")\n",
    "\t\tax.tick_params(labelsize=labelsize, pad=labelpad)\n",
    "\t\tax.get_yaxis().set_label_coords(y_align, 0.5)\n",
    "\n",
    "\t\t# Legend\n",
    "\t\tif row == 0:\n",
    "\t\t\tax.legend(loc=\"lower left\", fontsize=fontsize, bbox_to_anchor=[0, 1.02])\n",
    "\t\telse:\n",
    "\t\t\tax.legend([],[], frameon=False)\n",
    "\n",
    "\t\t# X axis\n",
    "\t\txtick_list = [0,500,1000]\n",
    "\t\txticklabel_list = [\"-0.5\", \"0\", \"0.5\"]\n",
    "\t\tax.set_xlim([0, 1000])\n",
    "\t\tax.set_xticks(xtick_list)\n",
    "\t\tif row == len(ms)-1:\n",
    "\t\t\tax.set_xticklabels(xticklabel_list)\n",
    "\t\t\tax.set_xlabel(xlabel, fontsize=fontsize, fontweight=\"bold\")\n",
    "\t\t\tax.tick_params(labelsize=labelsize, pad=labelpad)\n",
    "\t\telse:\n",
    "\t\t\tax.set_xticklabels([])\n",
    "\t\t\tax.set_xlabel(\"\")\n",
    "\n",
    "\tfig.subplots_adjust(hspace=hspace)\n",
    "\tplt.savefig(outputfile, bbox_inches = 'tight', dpi=300) "
   ]
  },
  {
   "cell_type": "code",
   "execution_count": null,
   "id": "0f8f88d0-464a-4129-8c86-81f46413602d",
   "metadata": {},
   "outputs": [],
   "source": [
    "proximal Age 365.3274090530408 140.58414666314957\n",
    "proximal phyloP 0.6911693570655971 -0.07571428560939268\n",
    "proximal CDTS 0.06640121192594338 -12.066685077229643\n",
    "\n",
    "distal Age 206.96864111498257 137.5219627169488\n",
    "distal phyloP 0.32816757999995033 -0.05000684866554116\n",
    "distal CDTS 0.020497408504523997 -3.38795051553085\n"
   ]
  },
  {
   "cell_type": "code",
   "execution_count": 35,
   "id": "c6ed3155-0992-4cca-bdb2-7770f610f2dc",
   "metadata": {
    "execution": {
     "iopub.execute_input": "2024-08-21T23:48:27.017232Z",
     "iopub.status.busy": "2024-08-21T23:48:27.016911Z",
     "iopub.status.idle": "2024-08-21T23:48:28.117884Z",
     "shell.execute_reply": "2024-08-21T23:48:28.059955Z",
     "shell.execute_reply.started": "2024-08-21T23:48:27.017210Z"
    },
    "scrolled": true,
    "tags": []
   },
   "outputs": [],
   "source": [
    "pwpool = ProcessWrapPool(len(ds))\n",
    "\n",
    "# test = True\n",
    "test = False\n",
    "for d in ds:\n",
    "\toutputfile = PROJECT_DIR_o + \"other_figures/Fig4A_HCT116.png\"\n",
    "\tif d == \"proximal\":\n",
    "\t\tylims = [[100, 440], [-0.1, 1], [-17, 2]]\n",
    "\t\tyticks = [[120, 220, 320, 420], [0, 0.3, 0.6, 0.9], [-15, -10, -5, 0]]\n",
    "\telse:\n",
    "\t\tylims = [[110, 250], [-0.05, 0.35], [-5, 0.5]]\n",
    "\t\tyticks = [[120, 160, 200, 240], [0, 0.1, 0.2, 0.3], [-4.5, -3, -1.5, 0]]\n",
    "\tpwpool.run(generate_metaplot, args=[s, d, ms, ylims, yticks, test, outputfile])"
   ]
  },
  {
   "cell_type": "code",
   "execution_count": 38,
   "id": "403ae32c-a5ac-4088-9f80-6737b8d902fd",
   "metadata": {
    "execution": {
     "iopub.execute_input": "2024-08-22T00:43:36.212333Z",
     "iopub.status.busy": "2024-08-22T00:43:36.211884Z",
     "iopub.status.idle": "2024-08-22T00:43:36.216669Z",
     "shell.execute_reply": "2024-08-22T00:43:36.215964Z",
     "shell.execute_reply.started": "2024-08-22T00:43:36.212308Z"
    }
   },
   "outputs": [
    {
     "data": {
      "text/plain": [
       "2"
      ]
     },
     "execution_count": 38,
     "metadata": {},
     "output_type": "execute_result"
    }
   ],
   "source": [
    "len(pwpool.finished_tasks)"
   ]
  },
  {
   "cell_type": "code",
   "execution_count": 39,
   "id": "e520b435-f483-435f-a347-081928475dc0",
   "metadata": {
    "execution": {
     "iopub.execute_input": "2024-08-22T00:43:36.903546Z",
     "iopub.status.busy": "2024-08-22T00:43:36.903190Z",
     "iopub.status.idle": "2024-08-22T00:43:37.267057Z",
     "shell.execute_reply": "2024-08-22T00:43:37.266471Z",
     "shell.execute_reply.started": "2024-08-22T00:43:36.903523Z"
    }
   },
   "outputs": [],
   "source": [
    "pwpool.close()"
   ]
  },
  {
   "cell_type": "code",
   "execution_count": null,
   "id": "2228689e-1c8b-4e60-baf0-6b06a1176723",
   "metadata": {},
   "outputs": [],
   "source": []
  }
 ],
 "metadata": {
  "kernelspec": {
   "display_name": "Python 3 (ipykernel)",
   "language": "python",
   "name": "python3"
  },
  "language_info": {
   "codemirror_mode": {
    "name": "ipython",
    "version": 3
   },
   "file_extension": ".py",
   "mimetype": "text/x-python",
   "name": "python",
   "nbconvert_exporter": "python",
   "pygments_lexer": "ipython3",
   "version": "3.9.16"
  }
 },
 "nbformat": 4,
 "nbformat_minor": 5
}

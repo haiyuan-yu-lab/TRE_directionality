{
 "cells": [
  {
   "cell_type": "code",
   "execution_count": 1,
   "id": "6cf5108a-7a38-487f-85bd-4ef29d384bec",
   "metadata": {
    "execution": {
     "iopub.execute_input": "2024-01-08T18:56:05.238686Z",
     "iopub.status.busy": "2024-01-08T18:56:05.238448Z",
     "iopub.status.idle": "2024-01-08T18:56:05.245864Z",
     "shell.execute_reply": "2024-01-08T18:56:05.245126Z",
     "shell.execute_reply.started": "2024-01-08T18:56:05.238665Z"
    }
   },
   "outputs": [],
   "source": [
    "### Goals\n",
    "# 1. Show metaplots can be upregulated after CTCF degradation.\n",
    "\n",
    "### Input\n",
    "# 1. PROcap bw files in HCT116 before and after CTCF degradation\n",
    "\n",
    "### Output\n",
    "# 1. Metaplots of elements with upregulated and unchanged signals on the side with less reads"
   ]
  },
  {
   "cell_type": "code",
   "execution_count": 1,
   "id": "3a02941b-44fb-4ae3-aa1f-6a6366d81611",
   "metadata": {
    "execution": {
     "iopub.execute_input": "2024-05-27T23:52:10.747212Z",
     "iopub.status.busy": "2024-05-27T23:52:10.746957Z",
     "iopub.status.idle": "2024-05-27T23:52:10.758093Z",
     "shell.execute_reply": "2024-05-27T23:52:10.756624Z",
     "shell.execute_reply.started": "2024-05-27T23:52:10.747193Z"
    },
    "tags": []
   },
   "outputs": [],
   "source": [
    "PROJECT_DIR_s = \"/home/yc2553/projects/TRE_directionality/codes/\"\n",
    "PROJECT_DIR_r = \"/home/yc2553/projects/TRE_directionality/Resources/\"\n",
    "PROJECT_DIR_d = \"/home/yc2553/projects/TRE_directionality/PROcap/\"\n",
    "PROJECT_DIR_o = \"/home/yc2553/projects/TRE_directionality/output/\""
   ]
  },
  {
   "cell_type": "code",
   "execution_count": 2,
   "id": "5a6f59dd-84f0-4a76-a239-da0c6f6f77cc",
   "metadata": {
    "execution": {
     "iopub.execute_input": "2024-05-27T23:53:14.876710Z",
     "iopub.status.busy": "2024-05-27T23:53:14.876320Z",
     "iopub.status.idle": "2024-05-27T23:53:16.155544Z",
     "shell.execute_reply": "2024-05-27T23:53:16.154647Z",
     "shell.execute_reply.started": "2024-05-27T23:53:14.876689Z"
    }
   },
   "outputs": [],
   "source": [
    "from mphelper import ProcessWrapPool\n",
    "import pandas as pd\n",
    "import matplotlib.pyplot as plt\n",
    "import numpy as np\n",
    "from biodata.delimited import DelimitedReader, DelimitedWriter"
   ]
  },
  {
   "cell_type": "code",
   "execution_count": 3,
   "id": "1af3048d-e6d5-4a5e-8f4b-b399748a2be9",
   "metadata": {
    "execution": {
     "iopub.execute_input": "2024-05-27T23:53:16.157189Z",
     "iopub.status.busy": "2024-05-27T23:53:16.156834Z",
     "iopub.status.idle": "2024-05-27T23:53:16.440032Z",
     "shell.execute_reply": "2024-05-27T23:53:16.439403Z",
     "shell.execute_reply.started": "2024-05-27T23:53:16.157171Z"
    }
   },
   "outputs": [],
   "source": [
    "import sys\n",
    "sys.path.append(PROJECT_DIR_s)"
   ]
  },
  {
   "cell_type": "code",
   "execution_count": 41,
   "id": "49518350-5c5c-49cf-9248-a11d1d0c83cf",
   "metadata": {
    "execution": {
     "iopub.execute_input": "2024-05-28T00:10:07.858223Z",
     "iopub.status.busy": "2024-05-28T00:10:07.857946Z",
     "iopub.status.idle": "2024-05-28T00:10:07.882187Z",
     "shell.execute_reply": "2024-05-28T00:10:07.881676Z",
     "shell.execute_reply.started": "2024-05-28T00:10:07.858205Z"
    }
   },
   "outputs": [
    {
     "data": {
      "text/plain": [
       "<module 'utils' from '/home/yc2553/projects/TRE_directionality/codes/utils.py'>"
      ]
     },
     "execution_count": 41,
     "metadata": {},
     "output_type": "execute_result"
    }
   ],
   "source": [
    "import importlib\n",
    "import utils\n",
    "importlib.reload(utils)"
   ]
  },
  {
   "cell_type": "markdown",
   "id": "68f19b22-7a33-4ecf-b175-384bf09b9840",
   "metadata": {},
   "source": [
    "# 1. Generate feature matrix"
   ]
  },
  {
   "cell_type": "markdown",
   "id": "16fc3436-2349-4a65-a709-efa8f14432da",
   "metadata": {},
   "source": [
    "## 1.1 Generate element files"
   ]
  },
  {
   "cell_type": "code",
   "execution_count": 5,
   "id": "c44eabf3-daef-435d-9e5f-19ea5e69e8a0",
   "metadata": {
    "execution": {
     "iopub.execute_input": "2024-05-27T23:53:17.556191Z",
     "iopub.status.busy": "2024-05-27T23:53:17.555907Z",
     "iopub.status.idle": "2024-05-27T23:53:18.633097Z",
     "shell.execute_reply": "2024-05-27T23:53:18.632434Z",
     "shell.execute_reply.started": "2024-05-27T23:53:17.556174Z"
    }
   },
   "outputs": [],
   "source": [
    "s = \"HCT116\"\n",
    "ks = [\"pl\", \"mn\"]\n",
    "ts = [\"maximum\", \"minimum\"]\n",
    "ps = [\"divergent\", \"unidirectional\"]\n",
    "ds = [\"proximal\", \"distal\"]\n",
    "labels = [\"Up\", \"Unchanged\", \"Down\"]"
   ]
  },
  {
   "cell_type": "code",
   "execution_count": 11,
   "id": "de294325-5261-4201-9e59-8fab205b3382",
   "metadata": {
    "execution": {
     "iopub.execute_input": "2024-05-27T23:54:27.700844Z",
     "iopub.status.busy": "2024-05-27T23:54:27.700453Z",
     "iopub.status.idle": "2024-05-27T23:54:27.721723Z",
     "shell.execute_reply": "2024-05-27T23:54:27.721170Z",
     "shell.execute_reply.started": "2024-05-27T23:54:27.700826Z"
    }
   },
   "outputs": [],
   "source": [
    "# Only include elements with CTCF binding\n",
    "\n",
    "inputfile = PROJECT_DIR_o + \"labels/\" + \"_\".join([s, \"CTCF_binary\"]) + \".txt\"\n",
    "df_binding = pd.read_table(inputfile)\n",
    "included = list(df_binding[df_binding[\"Value\"]==\"CTCF binding\"][\"Element\"])"
   ]
  },
  {
   "cell_type": "code",
   "execution_count": 12,
   "id": "94356f20-5442-4334-a552-ff8a68cd2ac1",
   "metadata": {
    "execution": {
     "iopub.execute_input": "2024-05-27T23:54:49.924098Z",
     "iopub.status.busy": "2024-05-27T23:54:49.923719Z",
     "iopub.status.idle": "2024-05-27T23:54:49.966793Z",
     "shell.execute_reply": "2024-05-27T23:54:49.966211Z",
     "shell.execute_reply.started": "2024-05-27T23:54:49.924079Z"
    }
   },
   "outputs": [],
   "source": [
    "# DE labels\n",
    "\n",
    "labels2 = {}\n",
    "for t in ts:\n",
    "\tinputfile = PROJECT_DIR_o + \"labels/\" + \"_\".join([s, \"CTCF_degron\", t]) + \".txt\"\n",
    "\tdf_degron = pd.read_table(inputfile)\n",
    "\tlabels2[t] = dict(zip(df_degron[\"Element\"], df_degron[\"Value\"]))"
   ]
  },
  {
   "cell_type": "code",
   "execution_count": 14,
   "id": "e281b862-b5ac-4ecd-9a74-46080bf8aa3b",
   "metadata": {
    "execution": {
     "iopub.execute_input": "2024-05-27T23:59:11.837405Z",
     "iopub.status.busy": "2024-05-27T23:59:11.836932Z",
     "iopub.status.idle": "2024-05-27T23:59:14.968925Z",
     "shell.execute_reply": "2024-05-27T23:59:14.967841Z",
     "shell.execute_reply.started": "2024-05-27T23:59:11.837383Z"
    },
    "scrolled": true
   },
   "outputs": [],
   "source": [
    "# Combine divergent and unidirectional\n",
    "# CTCF binding\n",
    "\n",
    "prefix = []\n",
    "for d in ds:\n",
    "\tfor t in ts:\n",
    "\t\tfor label in labels:\n",
    "\t\t\tprefix.append(\"_\".join([s, d, t, label]))\n",
    "\t\t\toutputfile = PROJECT_DIR_o + \"feature_matrix/\" + \"_\".join([s, d, t, label]) + \".bed\"\n",
    "\t\t\twith DelimitedWriter(outputfile) as dw:\n",
    "\t\t\t\tfor p in ps:\n",
    "\t\t\t\t\tinputfile = PROJECT_DIR_d + \"bed_plot/\" + \"_\".join([s, p, d]) + \".bed\"\n",
    "\t\t\t\t\twith DelimitedReader(inputfile) as dr:\n",
    "\t\t\t\t\t\tfor cols in dr:\n",
    "\t\t\t\t\t\t\tchrom, _, _, start2, end2 = cols[:5]\n",
    "\t\t\t\t\t\t\tif str((chrom, start2, end2)) in included and labels2[t][str((chrom, start2, end2))] == label:\n",
    "\t\t\t\t\t\t\t\tdw.write(cols)"
   ]
  },
  {
   "cell_type": "markdown",
   "id": "853a0457-5418-41d5-a903-29006a64a2c5",
   "metadata": {},
   "source": [
    "## 1.2 Generate feature matrix for heatmap"
   ]
  },
  {
   "cell_type": "code",
   "execution_count": 15,
   "id": "531ac254-e8b9-4eba-8a6e-e24a719d758d",
   "metadata": {
    "execution": {
     "iopub.execute_input": "2024-05-27T23:59:21.606661Z",
     "iopub.status.busy": "2024-05-27T23:59:21.606189Z",
     "iopub.status.idle": "2024-05-27T23:59:21.610293Z",
     "shell.execute_reply": "2024-05-27T23:59:21.609767Z",
     "shell.execute_reply.started": "2024-05-27T23:59:21.606641Z"
    }
   },
   "outputs": [],
   "source": [
    "# Among elements with CTCF binding, some showed upregulation after CTCF degradation while others not\n",
    "# One possible reason is CTCF binding signals; strong binding may interfere with transcription more severely\n",
    "\n",
    "bws = {\"CTCF\": PROJECT_DIR_r + \"ENCODE/ENCFF388PVO.bigWig\",\n",
    "\t   \"RAD21\": PROJECT_DIR_r + \"ENCODE/ENCFF776IXR.bigWig\"\n",
    "\t   }"
   ]
  },
  {
   "cell_type": "code",
   "execution_count": 42,
   "id": "bfe5478c-69b7-4b2a-9e00-536f031ea11c",
   "metadata": {
    "execution": {
     "iopub.execute_input": "2024-05-28T00:10:30.214242Z",
     "iopub.status.busy": "2024-05-28T00:10:30.213835Z",
     "iopub.status.idle": "2024-05-28T00:10:30.239232Z",
     "shell.execute_reply": "2024-05-28T00:10:30.228968Z",
     "shell.execute_reply.started": "2024-05-28T00:10:30.214222Z"
    },
    "scrolled": true
   },
   "outputs": [],
   "source": [
    "pwpool = ProcessWrapPool(len(prefix)*len(bws))\n",
    "\n",
    "strand_sensitive = False\n",
    "strand = None\n",
    "\n",
    "for g in prefix:\n",
    "\tbed_in = PROJECT_DIR_o + \"feature_matrix/\" + g + \".bed\"\n",
    "\tfor m in bws:\n",
    "\t\toutputfile = PROJECT_DIR_o + \"feature_matrix/\" + \"_\".join([g, m]) + \".txt\"\t\n",
    "\t\tpwpool.run(utils.get_feature_matrix_for_heatmap, args=[bed_in, bws[m], outputfile, strand_sensitive, strand])"
   ]
  },
  {
   "cell_type": "code",
   "execution_count": 43,
   "id": "85821f34-6ad2-4826-844c-fb51a145a5a8",
   "metadata": {
    "execution": {
     "iopub.execute_input": "2024-05-28T00:10:30.476561Z",
     "iopub.status.busy": "2024-05-28T00:10:30.475668Z",
     "iopub.status.idle": "2024-05-28T00:10:31.765009Z",
     "shell.execute_reply": "2024-05-28T00:10:31.764030Z",
     "shell.execute_reply.started": "2024-05-28T00:10:30.476524Z"
    },
    "tags": []
   },
   "outputs": [
    {
     "data": {
      "text/plain": [
       "16"
      ]
     },
     "execution_count": 43,
     "metadata": {},
     "output_type": "execute_result"
    }
   ],
   "source": [
    "# 12*2\n",
    "\n",
    "len(pwpool.finished_tasks)"
   ]
  },
  {
   "cell_type": "code",
   "execution_count": 44,
   "id": "b68a06cb-e69e-4711-bcdd-46484fb60a07",
   "metadata": {
    "execution": {
     "iopub.execute_input": "2024-05-28T00:10:35.638928Z",
     "iopub.status.busy": "2024-05-28T00:10:35.638604Z",
     "iopub.status.idle": "2024-05-28T00:10:35.644008Z",
     "shell.execute_reply": "2024-05-28T00:10:35.643428Z",
     "shell.execute_reply.started": "2024-05-28T00:10:35.638910Z"
    }
   },
   "outputs": [],
   "source": [
    "pwpool.close()"
   ]
  },
  {
   "cell_type": "markdown",
   "id": "d08025b8-5109-4dea-b5d4-6664e8dd0c6a",
   "metadata": {},
   "source": [
    "## 1.2 Reformat feature matrix for metaplot"
   ]
  },
  {
   "cell_type": "code",
   "execution_count": 30,
   "id": "28202a0d-f910-49c5-bcc8-7be66c1a2855",
   "metadata": {
    "execution": {
     "iopub.execute_input": "2024-05-28T00:05:04.259864Z",
     "iopub.status.busy": "2024-05-28T00:05:04.259540Z",
     "iopub.status.idle": "2024-05-28T00:05:04.263210Z",
     "shell.execute_reply": "2024-05-28T00:05:04.262774Z",
     "shell.execute_reply.started": "2024-05-28T00:05:04.259847Z"
    }
   },
   "outputs": [],
   "source": [
    "labels3 = {}\n",
    "for g in prefix:\n",
    "\tfor m in bws:\n",
    "\t\tinputfile = PROJECT_DIR_o + \"feature_matrix/\" + \"_\".join([g, m]) + \".txt\"\n",
    "\t\tlabels3[inputfile] = inputfile.split(\"/\")[-1].split(\"_\")[-2]"
   ]
  },
  {
   "cell_type": "code",
   "execution_count": 45,
   "id": "da3c3e70-64a3-49bd-a5df-6cc9c100ec64",
   "metadata": {
    "execution": {
     "iopub.execute_input": "2024-05-28T00:10:40.176754Z",
     "iopub.status.busy": "2024-05-28T00:10:40.176379Z",
     "iopub.status.idle": "2024-05-28T00:10:40.195672Z",
     "shell.execute_reply": "2024-05-28T00:10:40.183043Z",
     "shell.execute_reply.started": "2024-05-28T00:10:40.176735Z"
    },
    "scrolled": true
   },
   "outputs": [],
   "source": [
    "# Combine divergent and unidirectional elements\n",
    "\n",
    "pwpool = ProcessWrapPool(len(ds)*len(bws))\n",
    "\n",
    "for d in ds:\n",
    "\tfor t in ts:\n",
    "\t\tfor m in bws:\n",
    "\t\t\tinputfiles = [PROJECT_DIR_o + \"feature_matrix/\" + \"_\".join([s, d, t, label, m]) + \".txt\" for label in labels]\n",
    "\t\t\toutputfile = PROJECT_DIR_o + \"feature_matrix/\" + \"_\".join([s, d, t, m, \"reformat\"]) + \".txt\"\n",
    "\t\t\tpwpool.run(utils.reformat_feature_matrix_for_metaplot, args=[inputfiles, outputfile, labels3])"
   ]
  },
  {
   "cell_type": "code",
   "execution_count": 47,
   "id": "6573513d-d083-4c12-a2bf-f636252cc118",
   "metadata": {
    "execution": {
     "iopub.execute_input": "2024-05-28T00:11:55.477246Z",
     "iopub.status.busy": "2024-05-28T00:11:55.476798Z",
     "iopub.status.idle": "2024-05-28T00:11:55.484247Z",
     "shell.execute_reply": "2024-05-28T00:11:55.483685Z",
     "shell.execute_reply.started": "2024-05-28T00:11:55.477221Z"
    },
    "tags": []
   },
   "outputs": [
    {
     "data": {
      "text/plain": [
       "8"
      ]
     },
     "execution_count": 47,
     "metadata": {},
     "output_type": "execute_result"
    }
   ],
   "source": [
    "# 2*2*2\n",
    "\n",
    "len(pwpool.finished_tasks)"
   ]
  },
  {
   "cell_type": "code",
   "execution_count": 48,
   "id": "b79eacc9-b1a9-425c-bbd8-0c253d6b94f5",
   "metadata": {
    "execution": {
     "iopub.execute_input": "2024-05-28T00:11:56.114590Z",
     "iopub.status.busy": "2024-05-28T00:11:56.114215Z",
     "iopub.status.idle": "2024-05-28T00:11:56.602111Z",
     "shell.execute_reply": "2024-05-28T00:11:56.601457Z",
     "shell.execute_reply.started": "2024-05-28T00:11:56.114570Z"
    }
   },
   "outputs": [],
   "source": [
    "pwpool.close()"
   ]
  },
  {
   "cell_type": "markdown",
   "id": "909d2cf0-594a-44a1-95d6-eb4d3194a033",
   "metadata": {},
   "source": [
    "# 2. Up vs. Unchanged"
   ]
  },
  {
   "cell_type": "markdown",
   "id": "26ad88f3-7801-40cb-95dd-7bb6c1ba9209",
   "metadata": {},
   "source": [
    "## 2.1 Settings"
   ]
  },
  {
   "cell_type": "markdown",
   "id": "1bcabbe8-6d2d-4679-984f-e94e30169f92",
   "metadata": {},
   "source": [
    "### 2.1.1 ylims"
   ]
  },
  {
   "cell_type": "code",
   "execution_count": 36,
   "id": "5335ab5d-0a4d-4a1f-be11-8eab074a9136",
   "metadata": {
    "execution": {
     "iopub.execute_input": "2024-05-28T00:05:42.158386Z",
     "iopub.status.busy": "2024-05-28T00:05:42.158058Z",
     "iopub.status.idle": "2024-05-28T00:05:42.169209Z",
     "shell.execute_reply": "2024-05-28T00:05:42.168758Z",
     "shell.execute_reply.started": "2024-05-28T00:05:42.158369Z"
    },
    "tags": []
   },
   "outputs": [],
   "source": [
    "# Decide on the ylims\n",
    "# TREs & controls\n",
    "# Set same value ranges for metaplots and heatmaps\n",
    "\n",
    "def get_ylims(ms):\n",
    "\tfor d in ds:\n",
    "\t\tfor t in ts:\n",
    "\t\t\tfor m in ms:\n",
    "\t\t\t\tmaxs = []\n",
    "\t\t\t\tmins = []\n",
    "\t\t\t\tinputfiles = [PROJECT_DIR_o + \"feature_matrix/\" + \"_\".join([s, d, t, label, m]) + \".txt\" for label in labels]\n",
    "\t\t\t\tfor inputfile in inputfiles:\n",
    "\t\t\t\t\tdf = pd.read_table(inputfile)\n",
    "\t\t\t\t\tdf2 = df.drop([\"Element\"], axis=1)\n",
    "\t\t\t\t\tmaxs.append(max(df2.mean()))\n",
    "\t\t\t\t\tmins.append(min(df2.mean()))\n",
    "\t\t\t\tprint(d, t, m, max(maxs), min(mins))"
   ]
  },
  {
   "cell_type": "code",
   "execution_count": 37,
   "id": "b012eeca-5625-4f87-9c51-8dbf5d5ca537",
   "metadata": {
    "execution": {
     "iopub.execute_input": "2024-05-28T00:05:42.899326Z",
     "iopub.status.busy": "2024-05-28T00:05:42.898992Z",
     "iopub.status.idle": "2024-05-28T00:05:43.619400Z",
     "shell.execute_reply": "2024-05-28T00:05:43.618840Z",
     "shell.execute_reply.started": "2024-05-28T00:05:42.899309Z"
    },
    "tags": []
   },
   "outputs": [],
   "source": [
    "ms = list(bws.keys())"
   ]
  },
  {
   "cell_type": "code",
   "execution_count": 49,
   "id": "675c64ec-e813-4563-bf05-88d849dd3344",
   "metadata": {
    "execution": {
     "iopub.execute_input": "2024-05-28T00:12:00.409125Z",
     "iopub.status.busy": "2024-05-28T00:12:00.408757Z",
     "iopub.status.idle": "2024-05-28T00:12:03.975323Z",
     "shell.execute_reply": "2024-05-28T00:12:03.974457Z",
     "shell.execute_reply.started": "2024-05-28T00:12:00.409107Z"
    }
   },
   "outputs": [
    {
     "name": "stdout",
     "output_type": "stream",
     "text": [
      "proximal maximum CTCF 65.5829699120279 1.4947985698069846\n",
      "proximal maximum RAD21 3.91938620435316 0.49916898412893046\n",
      "proximal minimum CTCF 65.66092846847948 1.581872006257375\n",
      "proximal minimum RAD21 3.975506935757203 0.39017133265733717\n",
      "distal maximum CTCF 67.83409863625738 0.9630413970281911\n",
      "distal maximum RAD21 5.851195062933997 0.4322274452032045\n",
      "distal minimum CTCF 74.57393088167262 1.26565819978714\n",
      "distal minimum RAD21 6.353954400954672 0.3763418184085326\n"
     ]
    }
   ],
   "source": [
    "get_ylims(ms)"
   ]
  },
  {
   "cell_type": "markdown",
   "id": "e451c10c-5345-499d-8f33-1d4c0d662592",
   "metadata": {},
   "source": [
    "## 2.2 Metaplots & heatmaps"
   ]
  },
  {
   "cell_type": "code",
   "execution_count": 40,
   "id": "88d1f1c5-1bcf-48ab-9b1f-50a03519cc5d",
   "metadata": {
    "execution": {
     "iopub.execute_input": "2024-05-28T00:08:29.541373Z",
     "iopub.status.busy": "2024-05-28T00:08:29.540984Z",
     "iopub.status.idle": "2024-05-28T00:08:29.554047Z",
     "shell.execute_reply": "2024-05-28T00:08:29.553526Z",
     "shell.execute_reply.started": "2024-05-28T00:08:29.541355Z"
    }
   },
   "outputs": [],
   "source": [
    "def generate_metaplot_and_heatmap(s, d, t, f_sort, ms, ylims, yticks, cbarticks, cmaps, test, outputfile, xlabel=\"Distance to center (kb)\", fontsize=20, legend_fontsize=12, labelpad=7.5, labelsize=20, y_align= -0.2, wspace=0.3, hspace=0.3):\n",
    "\t\"\"\"\n",
    "\tGenerate metaplots and heatmaps for a list of features.  \n",
    "\t\"\"\"\n",
    "\t\n",
    "\theight_ratios = [5,5,5,0.5,1]\n",
    "\tfig, axes = plt.subplots(len(height_ratios), len(ms), figsize=(5*len(ms), 12), gridspec_kw={'height_ratios': height_ratios})\n",
    "\tfor col in range(len(ms)):\n",
    "\t\tif len(ms) == 1:\n",
    "\t\t\taxes[len(height_ratios)-2].axis(\"off\")\n",
    "\t\telse:\n",
    "\t\t\taxes[len(height_ratios)-2,col].axis(\"off\")\n",
    "\n",
    "\thue_order = [\"Up\", \"Unchanged\"]\n",
    "\tpalette = [\"#fb8072\", \"#d9d9d9\"]\n",
    "\t\n",
    "\tfor m in ms:\n",
    "\t\tcol = ms.index(m)\n",
    "\t\tfor row in range(len(height_ratios)-2):\n",
    "\t\t\tif len(ms) == 1:\n",
    "\t\t\t\tax = axes[row]\n",
    "\t\t\telse:\n",
    "\t\t\t\tax = axes[row, col]\n",
    "\t\t\t# Metaplot\n",
    "\t\t\tif row == 0:\n",
    "\t\t\t\tinputfile = PROJECT_DIR_o + \"feature_matrix/\" + \"_\".join([s, d, t, m, \"reformat\"]) + \".txt\"\n",
    "\t\t\t\tutils.generate_feature_metaplot(inputfile, palette, hue_order, ax, test)\n",
    "\t\t\t\t\n",
    "\t\t\t\t# Y axis\n",
    "\t\t\t\tax.set_ylim(ylims[ms.index(m)])\n",
    "\t\t\t\tax.set_yticks(yticks[ms.index(m)])\n",
    "\t\t\t\tax.tick_params(labelsize=labelsize, pad=labelpad)\n",
    "\t\t\t\tif col == 0:\n",
    "\t\t\t\t\tax.set_ylabel(\"ChIP-seq\", fontsize=fontsize, fontweight=\"bold\")\n",
    "\t\t\t\t\tax.get_yaxis().set_label_coords(y_align, 0.5)\n",
    "\t\t\t\telse:\n",
    "\t\t\t\t\tax.set_ylabel(\"\")\n",
    "\n",
    "\t\t\t\t# Legend\n",
    "\t\t\t\tif col == 0:\n",
    "\t\t\t\t\tax.legend(loc='upper center', bbox_to_anchor=(1.1, 1.6), ncol=len(hue_order), fontsize=fontsize)\n",
    "\t\t\t\telse:\n",
    "\t\t\t\t\tax.legend([],[], frameon=False)\n",
    "\t\t\t\t\t\n",
    "\t\t\t# Heatmap\n",
    "\t\t\telse:\n",
    "\t\t\t\tif row == len(height_ratios)-3:\n",
    "\t\t\t\t\tcbar = True\n",
    "\t\t\t\t\tif len(ms) == 1:\n",
    "\t\t\t\t\t\tcbar_ax = axes[len(height_ratios)-1]\n",
    "\t\t\t\t\telse:\n",
    "\t\t\t\t\t\tcbar_ax = axes[len(height_ratios)-1, col]\n",
    "\t\t\t\telse:\n",
    "\t\t\t\t\tcbar = False\n",
    "\t\t\t\t\tcbar_ax = None\t\t\t\t\n",
    "\n",
    "\t\t\t\tfeature_files = [PROJECT_DIR_o + \"feature_matrix/\" + \"_\".join([s, d, t, labels[row-1], m]) + \".txt\"]\n",
    "\t\t\t\tcbar_kws = {\"ticks\": cbarticks[ms.index(m)], \"orientation\": \"horizontal\"}\n",
    "\t\t\t\t# Sort by the sum of CTCF\n",
    "\t\t\t\tutils.generate_feature_heatmap(feature_files, f_sort, cbarticks[ms.index(m)], cmaps[ms.index(m)], cbar, cbar_ax, cbar_kws, ax, test)\n",
    "\n",
    "\t\t\t\tif row == len(height_ratios)-3:\n",
    "\t\t\t\t\tcbar_ax.set_xticklabels(cbarticks[ms.index(m)])\n",
    "\t\t\t\t\tcbar_ax.tick_params(axis=\"x\", labelsize=labelsize, pad=labelpad)\n",
    "\n",
    "\t\t\t\tif col == 0:\n",
    "\t\t\t\t\tax.set_ylabel(labels[row-1].capitalize(), fontsize=fontsize, fontweight=\"bold\")\n",
    "\t\t\t\t\tax.get_yaxis().set_label_coords(y_align, 0.5)\n",
    "\t\t\t\telse:\n",
    "\t\t\t\t\tax.set_ylabel(\"\")\n",
    "\t\t\t\t\n",
    "\t\t\t# Title\n",
    "\t\t\tif row == 0:\n",
    "\t\t\t\tax.set_title(m, fontsize=25, pad=labelpad+5, fontweight=\"bold\")\n",
    "\t\t\n",
    "\t\t\t# X axis\n",
    "\t\t\txtick_list = [0,500,1000]\n",
    "\t\t\txticklabel_list = [\"-0.5\", \"0\", \"0.5\"]\n",
    "\t\t\tax.set_xlim([0, 1000])\n",
    "\t\t\tax.set_xticks(xtick_list)\n",
    "\t\t\tif row == len(height_ratios)-3:\n",
    "\t\t\t\tax.set_xticklabels(xticklabel_list)\n",
    "\t\t\t\tax.set_xlabel(xlabel, fontsize=fontsize, fontweight=\"bold\")\n",
    "\t\t\t\tax.tick_params(labelsize=labelsize, pad=labelpad)\n",
    "\t\t\telse:\n",
    "\t\t\t\tax.set_xticklabels([])\n",
    "\t\t\t\tax.set_xlabel(\"\")\n",
    "\n",
    "\tfig.subplots_adjust(wspace=wspace, hspace=hspace)\n",
    "\tplt.savefig(outputfile, bbox_inches = 'tight', dpi=300) "
   ]
  },
  {
   "cell_type": "code",
   "execution_count": 50,
   "id": "090b26cd-636b-4062-baee-b9e931bb7395",
   "metadata": {
    "execution": {
     "iopub.execute_input": "2024-05-28T00:12:11.861642Z",
     "iopub.status.busy": "2024-05-28T00:12:11.861203Z",
     "iopub.status.idle": "2024-05-28T00:12:11.885728Z",
     "shell.execute_reply": "2024-05-28T00:12:11.875482Z",
     "shell.execute_reply.started": "2024-05-28T00:12:11.861620Z"
    },
    "scrolled": true,
    "tags": []
   },
   "outputs": [],
   "source": [
    "pwpool = ProcessWrapPool(len(ds))\n",
    "\n",
    "# test = True\n",
    "test = False\n",
    "cmaps = [\"viridis\"]*2\n",
    "sum_file = PROJECT_DIR_o + \"labels/\" + \"_\".join([s, \"CTCF_sum\"]) + \".txt\"\n",
    "for t in ts:\n",
    "\tfor d in ds:\n",
    "\t\tif d == \"distal\":\n",
    "\t\t\tylims = [[-5, 95], [-1, 10]]\n",
    "\t\t\tyticks = [[0, 30, 60, 90], [0, 3, 6, 9]]\n",
    "\t\telse:\n",
    "\t\t\tylims = [[-5, 80], [-1,7]]\n",
    "\t\t\tyticks = [[0, 25, 50, 75], [0,2,4,6]]\n",
    "\t\toutputfile = PROJECT_DIR_o + \"other_figures/\" + \"_\".join([s, d, t, \"DE_CTCF_RAD21_binding\"]) + \".png\"\n",
    "\t\tpwpool.run(generate_metaplot_and_heatmap, args=[s, d, t, sum_file, ms, ylims, yticks, yticks, cmaps, test, outputfile])"
   ]
  },
  {
   "cell_type": "code",
   "execution_count": 53,
   "id": "1c5cd0cd-ca5a-407d-b2cc-3addc63034ca",
   "metadata": {
    "execution": {
     "iopub.execute_input": "2024-05-28T00:24:19.716959Z",
     "iopub.status.busy": "2024-05-28T00:24:19.716272Z",
     "iopub.status.idle": "2024-05-28T00:24:19.721704Z",
     "shell.execute_reply": "2024-05-28T00:24:19.721177Z",
     "shell.execute_reply.started": "2024-05-28T00:24:19.716932Z"
    },
    "tags": []
   },
   "outputs": [
    {
     "data": {
      "text/plain": [
       "4"
      ]
     },
     "execution_count": 53,
     "metadata": {},
     "output_type": "execute_result"
    }
   ],
   "source": [
    "len(pwpool.finished_tasks)"
   ]
  },
  {
   "cell_type": "code",
   "execution_count": 54,
   "id": "1c607d31-8702-4416-9e92-7a45a32149fb",
   "metadata": {
    "execution": {
     "iopub.execute_input": "2024-05-28T00:24:20.969314Z",
     "iopub.status.busy": "2024-05-28T00:24:20.968963Z",
     "iopub.status.idle": "2024-05-28T00:24:20.972349Z",
     "shell.execute_reply": "2024-05-28T00:24:20.971836Z",
     "shell.execute_reply.started": "2024-05-28T00:24:20.969296Z"
    }
   },
   "outputs": [],
   "source": [
    "pwpool.close()"
   ]
  },
  {
   "cell_type": "code",
   "execution_count": null,
   "id": "a7529b21-c1a2-44fe-8d00-42cddc5cd75d",
   "metadata": {},
   "outputs": [],
   "source": []
  }
 ],
 "metadata": {
  "kernelspec": {
   "display_name": "Python 3 (ipykernel)",
   "language": "python",
   "name": "python3"
  },
  "language_info": {
   "codemirror_mode": {
    "name": "ipython",
    "version": 3
   },
   "file_extension": ".py",
   "mimetype": "text/x-python",
   "name": "python",
   "nbconvert_exporter": "python",
   "pygments_lexer": "ipython3",
   "version": "3.9.16"
  }
 },
 "nbformat": 4,
 "nbformat_minor": 5
}

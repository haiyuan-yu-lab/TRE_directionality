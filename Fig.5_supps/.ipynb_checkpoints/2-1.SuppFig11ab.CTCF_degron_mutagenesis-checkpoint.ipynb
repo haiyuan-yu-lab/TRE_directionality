{
 "cells": [
  {
   "cell_type": "code",
   "execution_count": 1,
   "id": "5a6f59dd-84f0-4a76-a239-da0c6f6f77cc",
   "metadata": {
    "execution": {
     "iopub.execute_input": "2024-12-01T22:55:37.447552Z",
     "iopub.status.busy": "2024-12-01T22:55:37.447236Z",
     "iopub.status.idle": "2024-12-01T22:55:44.167939Z",
     "shell.execute_reply": "2024-12-01T22:55:44.167364Z",
     "shell.execute_reply.started": "2024-12-01T22:55:37.447532Z"
    }
   },
   "outputs": [],
   "source": [
    "from mphelper import ProcessWrapPool\n",
    "import pandas as pd\n",
    "import matplotlib.pyplot as plt\n",
    "import numpy as np\n",
    "import seaborn as sns\n",
    "from biodata.delimited import DelimitedReader\n",
    "from Bio import SeqIO\n",
    "import json\n",
    "import itertools"
   ]
  },
  {
   "cell_type": "code",
   "execution_count": 2,
   "id": "07a348a9-8dde-41f5-95d4-6c2ec78cd0d6",
   "metadata": {
    "execution": {
     "iopub.execute_input": "2024-12-01T22:55:44.170247Z",
     "iopub.status.busy": "2024-12-01T22:55:44.170043Z",
     "iopub.status.idle": "2024-12-01T22:55:44.174849Z",
     "shell.execute_reply": "2024-12-01T22:55:44.174433Z",
     "shell.execute_reply.started": "2024-12-01T22:55:44.170230Z"
    }
   },
   "outputs": [],
   "source": [
    "import sys\n",
    "from pathlib import Path\n",
    "sys.path.append(str(Path.cwd().parent))\n",
    "import utils"
   ]
  },
  {
   "cell_type": "code",
   "execution_count": 3,
   "id": "2ceba231-6114-4ac9-a71c-090e690e9c18",
   "metadata": {
    "execution": {
     "iopub.execute_input": "2024-12-01T22:55:44.175583Z",
     "iopub.status.busy": "2024-12-01T22:55:44.175343Z",
     "iopub.status.idle": "2024-12-01T22:55:45.560036Z",
     "shell.execute_reply": "2024-12-01T22:55:45.559452Z",
     "shell.execute_reply.started": "2024-12-01T22:55:44.175565Z"
    }
   },
   "outputs": [],
   "source": [
    "import matplotlib\n",
    "font_dir = Path.cwd().parent / \"font\"\n",
    "for font in [\"Arial.ttf\", \"Arial_Bold.ttf\"]:\n",
    "    matplotlib.font_manager.fontManager.addfont(font_dir / font)\n",
    "matplotlib.rcParams[\"font.family\"] = \"Arial\"\n",
    "bfontsize = 12\n",
    "sfontsize = 9"
   ]
  },
  {
   "cell_type": "code",
   "execution_count": 4,
   "id": "387abcd9-e140-4487-8f46-73e81099c21a",
   "metadata": {
    "execution": {
     "iopub.execute_input": "2024-12-01T22:55:45.560957Z",
     "iopub.status.busy": "2024-12-01T22:55:45.560674Z",
     "iopub.status.idle": "2024-12-01T22:55:46.956622Z",
     "shell.execute_reply": "2024-12-01T22:55:46.956081Z",
     "shell.execute_reply.started": "2024-12-01T22:55:45.560938Z"
    }
   },
   "outputs": [],
   "source": [
    "PROJECT_DIR_s = \"/fs/cbsuhy02/storage/yc2553/yc2553/projects/TRE_directionality/softwares/procapnet/\"\n",
    "PROJECT_DIR_d = \"/fs/cbsuhy02/storage/yc2553/yc2553/projects/TRE_directionality/PROcap/\"\n",
    "PROJECT_DIR_r = \"/fs/cbsuhy02/storage/yc2553/yc2553/projects/TRE_directionality/resources/\"\n",
    "PROJECT_DIR_o = \"/fs/cbsuhy02/storage/yc2553/yc2553/projects/TRE_directionality/output/\""
   ]
  },
  {
   "cell_type": "code",
   "execution_count": 5,
   "id": "59c48d1d-1199-4b88-9de2-46a60793cab3",
   "metadata": {
    "execution": {
     "iopub.execute_input": "2024-12-01T22:55:46.957513Z",
     "iopub.status.busy": "2024-12-01T22:55:46.957259Z",
     "iopub.status.idle": "2024-12-01T22:56:00.339852Z",
     "shell.execute_reply": "2024-12-01T22:56:00.338056Z",
     "shell.execute_reply.started": "2024-12-01T22:55:46.957495Z"
    }
   },
   "outputs": [],
   "source": [
    "sys.path.append(f\"{PROJECT_DIR_s}2_train_models/\")\n",
    "from data_loading import one_hot_encode"
   ]
  },
  {
   "cell_type": "markdown",
   "id": "76a38d3c-8e37-4a5a-bbc6-6c784121e35f",
   "metadata": {},
   "source": [
    "# Get sequences"
   ]
  },
  {
   "cell_type": "code",
   "execution_count": 6,
   "id": "c44eabf3-daef-435d-9e5f-19ea5e69e8a0",
   "metadata": {
    "execution": {
     "iopub.execute_input": "2024-12-01T22:56:00.340989Z",
     "iopub.status.busy": "2024-12-01T22:56:00.340580Z",
     "iopub.status.idle": "2024-12-01T22:56:00.345702Z",
     "shell.execute_reply": "2024-12-01T22:56:00.345241Z",
     "shell.execute_reply.started": "2024-12-01T22:56:00.340968Z"
    }
   },
   "outputs": [],
   "source": [
    "s = \"HCT116\"\n",
    "ks = [\"pl\", \"mn\"]\n",
    "ps = [\"divergent\", \"unidirectional\"]\n",
    "ds = [\"distal\", \"proximal\"]\n",
    "gs = [f\"{p}_{d}\" for p, d in itertools.product(ps, ds)]\n",
    "types = [\"wt\", \"mt\"]\n",
    "ts = [\"minTSS\", \"maxTSS\"]"
   ]
  },
  {
   "cell_type": "code",
   "execution_count": 7,
   "id": "f77a8f4a-9db2-4bcd-93ff-6ee03f7c3f46",
   "metadata": {
    "execution": {
     "iopub.execute_input": "2024-12-01T22:56:00.346521Z",
     "iopub.status.busy": "2024-12-01T22:56:00.346292Z",
     "iopub.status.idle": "2024-12-01T22:56:01.916373Z",
     "shell.execute_reply": "2024-12-01T22:56:01.915826Z",
     "shell.execute_reply.started": "2024-12-01T22:56:00.346503Z"
    }
   },
   "outputs": [],
   "source": [
    "inputfile = f\"{PROJECT_DIR_o}FIMO/{s}_CTCF_pos.json\"\n",
    "with open(inputfile, \"r\") as f:\n",
    "\tmotifs = json.load(f)"
   ]
  },
  {
   "cell_type": "code",
   "execution_count": 8,
   "id": "c2c083f7-9973-47e1-a11e-0e2e09e47096",
   "metadata": {
    "execution": {
     "iopub.execute_input": "2024-12-01T22:56:01.918609Z",
     "iopub.status.busy": "2024-12-01T22:56:01.918389Z",
     "iopub.status.idle": "2024-12-01T22:56:50.274244Z",
     "shell.execute_reply": "2024-12-01T22:56:50.271302Z",
     "shell.execute_reply.started": "2024-12-01T22:56:01.918591Z"
    },
    "scrolled": true
   },
   "outputs": [],
   "source": [
    "inputfile = f\"{PROJECT_DIR_r}genomes/human/GRCh38_no_alt_analysis_set_GCA_000001405.15.fasta\"\n",
    "with open(inputfile, \"r\") as f:\n",
    "\tfdict = SeqIO.to_dict(SeqIO.parse(f, \"fasta\"))"
   ]
  },
  {
   "cell_type": "code",
   "execution_count": 9,
   "id": "9c14a569-3d19-4a45-a23f-57e06aca917d",
   "metadata": {
    "execution": {
     "iopub.execute_input": "2024-12-01T22:56:50.277983Z",
     "iopub.status.busy": "2024-12-01T22:56:50.277115Z",
     "iopub.status.idle": "2024-12-01T22:56:50.306287Z",
     "shell.execute_reply": "2024-12-01T22:56:50.305595Z",
     "shell.execute_reply.started": "2024-12-01T22:56:50.277954Z"
    }
   },
   "outputs": [],
   "source": [
    "# For comparison with Fig.4\n",
    "# Generate 1-kb sequences (original vs. mutant) anchored on motif center for prediction\n",
    "\n",
    "def get_sequences(inputfiles, outputfile, fdict, t, motifs):\n",
    "\tseqs = []\n",
    "\tsigns = {}\n",
    "\tfor inputfile in inputfiles:\n",
    "\t\twith DelimitedReader(inputfile) as dr:\n",
    "\t\t\tfor cols in dr:\n",
    "\t\t\t\tchrom, start, end = cols[:3]\n",
    "\t\t\t\te = \"_\".join([chrom, start, end])\n",
    "\t\t\t\tif e in motifs:\n",
    "\t\t\t\t\tsigns[e] = cols[-1]\n",
    "\t\t\t\t\tcenter = motifs[e][0]\n",
    "\t\t\t\t\tseq = fdict[chrom][center-500:center+500].seq.upper()\n",
    "\t\t\t\t\twt_seq = one_hot_encode(seq)\n",
    "\t\t\t\t\tif t == \"wt\":\n",
    "\t\t\t\t\t\tseqs.append(wt_seq.T)\n",
    "\t\t\t\t\telse:\n",
    "\t\t\t\t\t\tmut_start = motifs[e][1]\n",
    "\t\t\t\t\t\t# in-silico deletion: replace motif instance with [0,0,0,0]\n",
    "\t\t\t\t\t\tmt_seq = wt_seq\n",
    "\t\t\t\t\t\tfor i in range(500-(center-mut_start), 500+(center-mut_start)+1):\n",
    "\t\t\t\t\t\t\tmt_seq[i] = [0,0,0,0]\n",
    "\t\t\t\t\t\tseqs.append(mt_seq.T)\n",
    "\tseqs = np.array(seqs)\n",
    "\tnp.save(outputfile, seqs)\n",
    "\treturn signs"
   ]
  },
  {
   "cell_type": "code",
   "execution_count": 10,
   "id": "a80b9457-7dca-4994-ac35-2f5f4d55e7f5",
   "metadata": {
    "execution": {
     "iopub.execute_input": "2024-12-01T22:56:50.309330Z",
     "iopub.status.busy": "2024-12-01T22:56:50.309007Z",
     "iopub.status.idle": "2024-12-01T22:56:54.274584Z",
     "shell.execute_reply": "2024-12-01T22:56:54.270477Z",
     "shell.execute_reply.started": "2024-12-01T22:56:50.309308Z"
    },
    "scrolled": true
   },
   "outputs": [],
   "source": [
    "# Anchor on motif center, generate 1-kb sequences (original vs. mutant) for prediction\n",
    "\n",
    "signs = {}\n",
    "for d in ds:\n",
    "\tinputfiles = [f\"{PROJECT_DIR_d}bed_plot/{s}_{p}_{d}.bed\" for p in ps]\n",
    "\tfor t in types:\n",
    "\t\toutputfile = f\"{PROJECT_DIR_o}procapnet/prediction/{s}_{d}_CTCF_{t}.npy\"\n",
    "\t\tsigns[(d,t)] = get_sequences(inputfiles, outputfile, fdict, t, motifs)"
   ]
  },
  {
   "cell_type": "markdown",
   "id": "8e23d010-7b6d-44c9-806c-5a931b4292c0",
   "metadata": {},
   "source": [
    "# Prediction"
   ]
  },
  {
   "cell_type": "code",
   "execution_count": 11,
   "id": "a33f197f-1726-43fb-bfb7-b1e4e2e4eae3",
   "metadata": {
    "execution": {
     "iopub.execute_input": "2024-12-01T22:56:54.279252Z",
     "iopub.status.busy": "2024-12-01T22:56:54.278806Z",
     "iopub.status.idle": "2024-12-01T22:56:54.289523Z",
     "shell.execute_reply": "2024-12-01T22:56:54.288904Z",
     "shell.execute_reply.started": "2024-12-01T22:56:54.279213Z"
    }
   },
   "outputs": [
    {
     "name": "stdout",
     "output_type": "stream",
     "text": [
      "sbatch /fs/cbsuhy02/storage/yc2553/yc2553/projects/TRE_directionality/softwares/procapnet/slurm/predict.sh HCT116 strand_merged_umap /fs/cbsuhy02/storage/yc2553/yc2553/projects/TRE_directionality/output/procapnet/ /fs/cbsuhy02/storage/yc2553/yc2553/projects/TRE_directionality/output/procapnet/prediction/HCT116_distal_CTCF_wt.npy /fs/cbsuhy02/storage/yc2553/yc2553/projects/TRE_directionality/output/procapnet/prediction/HCT116_distal_CTCF_wt. True 0\n",
      "sbatch /fs/cbsuhy02/storage/yc2553/yc2553/projects/TRE_directionality/softwares/procapnet/slurm/predict.sh HCT116 strand_merged_umap /fs/cbsuhy02/storage/yc2553/yc2553/projects/TRE_directionality/output/procapnet/ /fs/cbsuhy02/storage/yc2553/yc2553/projects/TRE_directionality/output/procapnet/prediction/HCT116_distal_CTCF_mt.npy /fs/cbsuhy02/storage/yc2553/yc2553/projects/TRE_directionality/output/procapnet/prediction/HCT116_distal_CTCF_mt. True 0\n",
      "sbatch /fs/cbsuhy02/storage/yc2553/yc2553/projects/TRE_directionality/softwares/procapnet/slurm/predict.sh HCT116 strand_merged_umap /fs/cbsuhy02/storage/yc2553/yc2553/projects/TRE_directionality/output/procapnet/ /fs/cbsuhy02/storage/yc2553/yc2553/projects/TRE_directionality/output/procapnet/prediction/HCT116_proximal_CTCF_wt.npy /fs/cbsuhy02/storage/yc2553/yc2553/projects/TRE_directionality/output/procapnet/prediction/HCT116_proximal_CTCF_wt. True 1\n",
      "sbatch /fs/cbsuhy02/storage/yc2553/yc2553/projects/TRE_directionality/softwares/procapnet/slurm/predict.sh HCT116 strand_merged_umap /fs/cbsuhy02/storage/yc2553/yc2553/projects/TRE_directionality/output/procapnet/ /fs/cbsuhy02/storage/yc2553/yc2553/projects/TRE_directionality/output/procapnet/prediction/HCT116_proximal_CTCF_mt.npy /fs/cbsuhy02/storage/yc2553/yc2553/projects/TRE_directionality/output/procapnet/prediction/HCT116_proximal_CTCF_mt. True 1\n"
     ]
    }
   ],
   "source": [
    "# Add GPU at the end\n",
    "\n",
    "script = f\"{PROJECT_DIR_s}slurm/predict.sh\"\n",
    "scale = \"True\"\n",
    "model_type = \"strand_merged_umap\"\n",
    "for d, t in itertools.product(ds, types):\n",
    "\tinputfile = f\"{PROJECT_DIR_o}procapnet/prediction/{s}_{d}_CTCF_{t}.npy\"\n",
    "\toutput_prefix = f\"{PROJECT_DIR_o}procapnet/prediction/{s}_{d}_CTCF_{t}.\"\n",
    "\tcommands = [\"sbatch\", script,\n",
    "\t\t\t\ts,\n",
    "\t\t\t\tmodel_type,\n",
    "\t\t\t\tf\"{PROJECT_DIR_o}procapnet/\",\n",
    "\t\t\t\tinputfile,\n",
    "\t\t\t\toutput_prefix,\n",
    "\t\t\t\tscale,\n",
    "\t\t\t\tstr(ds.index(d))\n",
    "\t\t\t\t]\n",
    "\tprint(\" \".join(commands))"
   ]
  },
  {
   "cell_type": "markdown",
   "id": "f5f99300-3911-449c-9f98-8f3d26287c59",
   "metadata": {},
   "source": [
    "# Generate feature matrix"
   ]
  },
  {
   "cell_type": "markdown",
   "id": "64c0b12a-1874-423d-89e4-77d0776ba7d6",
   "metadata": {},
   "source": [
    "## Get individual matrix"
   ]
  },
  {
   "cell_type": "code",
   "execution_count": 12,
   "id": "af08e706-fb72-4e5a-8bcf-15daa7537d1e",
   "metadata": {
    "execution": {
     "iopub.execute_input": "2024-12-01T22:56:54.290672Z",
     "iopub.status.busy": "2024-12-01T22:56:54.290284Z",
     "iopub.status.idle": "2024-12-01T22:56:55.959348Z",
     "shell.execute_reply": "2024-12-01T22:56:55.942725Z",
     "shell.execute_reply.started": "2024-12-01T22:56:54.290639Z"
    }
   },
   "outputs": [],
   "source": [
    "def get_matrix(data, signs, tss):\n",
    "\tresults = []\n",
    "\tfor n in range(data.shape[0]):\n",
    "\t\tsign = list(signs.values())[n]\n",
    "\t\tif tss == \"maxTSS\":\n",
    "\t\t\tvalues = list(data[n][0]) if sign == \"+\" else [v for v in data[n][1][::-1]]\n",
    "\t\telse:\n",
    "\t\t\tvalues = [-v for v in data[n][1]] if sign == \"+\" else [-v for v in data[n][0][::-1]]\n",
    "\t\tresults.append(values)\n",
    "\tdf = pd.DataFrame(results, index=list(signs.keys()))\n",
    "\treturn df"
   ]
  },
  {
   "cell_type": "code",
   "execution_count": 13,
   "id": "1383ca0f-1e4c-4178-a1b2-94c9267324df",
   "metadata": {
    "execution": {
     "iopub.execute_input": "2024-12-01T22:56:56.004697Z",
     "iopub.status.busy": "2024-12-01T22:56:56.004162Z",
     "iopub.status.idle": "2024-12-01T22:57:21.726637Z",
     "shell.execute_reply": "2024-12-01T22:57:21.723524Z",
     "shell.execute_reply.started": "2024-12-01T22:56:56.004669Z"
    }
   },
   "outputs": [],
   "source": [
    "df_features = {}\n",
    "for d, t in itertools.product(ds, types):\n",
    "\tinputfile = f\"{PROJECT_DIR_o}procapnet/prediction/{s}_{d}_CTCF_{t}.scaled_profiles.npy\"\n",
    "\tdata = np.load(inputfile)\n",
    "\tfor tss in ts:\n",
    "\t\tdf_features[(d,t,tss)] = get_matrix(data, signs[(d,t)], tss)"
   ]
  },
  {
   "cell_type": "code",
   "execution_count": 14,
   "id": "ead918e1-6962-451c-acd2-cc23e6075671",
   "metadata": {
    "execution": {
     "iopub.execute_input": "2024-12-01T22:57:21.729574Z",
     "iopub.status.busy": "2024-12-01T22:57:21.729084Z",
     "iopub.status.idle": "2024-12-01T22:57:46.995891Z",
     "shell.execute_reply": "2024-12-01T22:57:46.994470Z",
     "shell.execute_reply.started": "2024-12-01T22:57:21.729548Z"
    },
    "scrolled": true
   },
   "outputs": [],
   "source": [
    "# 10-bp bins\n",
    "\n",
    "df_bins = {}\n",
    "for k in df_features:\n",
    "\tdf_bins[k] = utils.bin_values(df_features[k])"
   ]
  },
  {
   "cell_type": "code",
   "execution_count": 15,
   "id": "6c630960-9a4f-4c52-88f3-a586ba7e7c3d",
   "metadata": {
    "execution": {
     "iopub.execute_input": "2024-12-01T22:57:46.998317Z",
     "iopub.status.busy": "2024-12-01T22:57:46.997789Z",
     "iopub.status.idle": "2024-12-01T22:57:47.115735Z",
     "shell.execute_reply": "2024-12-01T22:57:47.115183Z",
     "shell.execute_reply.started": "2024-12-01T22:57:46.998293Z"
    }
   },
   "outputs": [],
   "source": [
    "df_reformat = {}\n",
    "for k in df_bins:\n",
    "\tdf = df_bins[k].reset_index()\n",
    "\tdf_reformat[k] = pd.melt(df,\n",
    "\t\t\t\t\t\t  id_vars=\"index\",\n",
    "\t\t\t\t\t\t  value_vars=list(df.columns[1:]),\n",
    "\t\t\t\t\t\t  var_name=\"Position\",\n",
    "\t\t\t\t\t\t  value_name=\"Feature\"\n",
    "\t\t\t\t\t\t  )"
   ]
  },
  {
   "cell_type": "markdown",
   "id": "ceade190-82d8-4b2e-888f-79efc7ee87d1",
   "metadata": {},
   "source": [
    "## Combine dataframes for plotting"
   ]
  },
  {
   "cell_type": "code",
   "execution_count": 16,
   "id": "aa83aac8-e1cf-4527-a8bf-d104a86886ff",
   "metadata": {
    "execution": {
     "iopub.execute_input": "2024-12-01T22:57:47.116664Z",
     "iopub.status.busy": "2024-12-01T22:57:47.116392Z",
     "iopub.status.idle": "2024-12-01T22:57:48.119052Z",
     "shell.execute_reply": "2024-12-01T22:57:48.118453Z",
     "shell.execute_reply.started": "2024-12-01T22:57:47.116644Z"
    }
   },
   "outputs": [],
   "source": [
    "inputfile = f\"{PROJECT_DIR_o}labels/{s}_CTCF_DE.json\"\n",
    "with open(inputfile, \"r\") as f:\n",
    "\tDE_labels = json.load(f)"
   ]
  },
  {
   "cell_type": "code",
   "execution_count": 17,
   "id": "c3033929-950e-447c-9e2a-0935a0aba5cc",
   "metadata": {
    "execution": {
     "iopub.execute_input": "2024-12-01T22:57:48.119984Z",
     "iopub.status.busy": "2024-12-01T22:57:48.119725Z",
     "iopub.status.idle": "2024-12-01T22:57:49.774771Z",
     "shell.execute_reply": "2024-12-01T22:57:49.774197Z",
     "shell.execute_reply.started": "2024-12-01T22:57:48.119964Z"
    }
   },
   "outputs": [],
   "source": [
    "df_metaplots = {}\n",
    "for d, tss in itertools.product(ds, ts):\n",
    "\tlabel = \"Up\" if tss == \"minTSS\" else \"Down\"\n",
    "\tdfs = []\n",
    "\tfor t in types:\n",
    "\t\tdf = df_reformat[(d,t,tss)]\n",
    "\t\tfiltered_df = df[df[\"index\"].isin([k for k, v in DE_labels[tss].items() if v == label])].copy()\n",
    "\t\tfiltered_df[\"Label\"] = f\"{tss} ({t})\"\n",
    "\t\tdfs.append(filtered_df)\n",
    "\tdf_metaplots[(d,tss)] = pd.concat(dfs).reset_index(drop=True)\t"
   ]
  },
  {
   "cell_type": "markdown",
   "id": "0aaf2009-0933-4b94-839a-4370500fe497",
   "metadata": {},
   "source": [
    "# Generate metaplots"
   ]
  },
  {
   "cell_type": "markdown",
   "id": "e0193dd2-a960-4776-9cb5-bdd8d2442b3c",
   "metadata": {},
   "source": [
    "## Settings"
   ]
  },
  {
   "cell_type": "code",
   "execution_count": 18,
   "id": "1d065c7d-384a-4f9e-802b-5b586b096ff1",
   "metadata": {
    "execution": {
     "iopub.execute_input": "2024-12-01T22:57:49.775697Z",
     "iopub.status.busy": "2024-12-01T22:57:49.775435Z",
     "iopub.status.idle": "2024-12-01T22:57:51.042938Z",
     "shell.execute_reply": "2024-12-01T22:57:51.042376Z",
     "shell.execute_reply.started": "2024-12-01T22:57:49.775678Z"
    },
    "tags": []
   },
   "outputs": [
    {
     "name": "stdout",
     "output_type": "stream",
     "text": [
      "distal minTSS -0.09394923 -14.459512\n",
      "distal maxTSS 9.159374 0.11017028\n",
      "proximal minTSS -0.20903422 -28.572908\n",
      "proximal maxTSS 20.437168 0.26015943\n"
     ]
    }
   ],
   "source": [
    "for d, tss in itertools.product(ds, ts):\n",
    "\tmaxs = []\n",
    "\tmins = []\n",
    "\tdf = df_metaplots[(d,tss)]\n",
    "\tfor t in types:\n",
    "\t\tmaxs.append(df[df[\"Label\"]==f\"{tss} ({t})\"].groupby(\"Position\")[\"Feature\"].mean().max())\n",
    "\t\tmins.append(df[df[\"Label\"]==f\"{tss} ({t})\"].groupby(\"Position\")[\"Feature\"].mean().min())\n",
    "\tprint(d, tss, max(maxs), min(mins))"
   ]
  },
  {
   "cell_type": "markdown",
   "id": "3263b054-f0ce-4d46-9a3f-c236f8d3908a",
   "metadata": {},
   "source": [
    "## Generate metaplots"
   ]
  },
  {
   "cell_type": "code",
   "execution_count": 19,
   "id": "1a6be21b-ce4c-416f-a025-523c5770f957",
   "metadata": {
    "execution": {
     "iopub.execute_input": "2024-12-01T22:57:51.043954Z",
     "iopub.status.busy": "2024-12-01T22:57:51.043661Z",
     "iopub.status.idle": "2024-12-01T22:57:52.364965Z",
     "shell.execute_reply": "2024-12-01T22:57:52.358673Z",
     "shell.execute_reply.started": "2024-12-01T22:57:51.043932Z"
    }
   },
   "outputs": [],
   "source": [
    "def generate_metaplot(d, tss, df_metaplots, ylims, yticks, outputfile, xlabel=\"Distance (bp)\"):\n",
    "\tfig, ax = plt.subplots(figsize=(4.5,2))\n",
    "\tlabelpad = 2\n",
    "\n",
    "\thue_order = [f\"{tss} ({t})\" for t in types]\n",
    "\tif tss == \"minTSS\":\n",
    "\t\tpalette = [\"#a6cee3\", \"#08519c\"]\n",
    "\t\tlabel = \"Up\"\n",
    "\telse:\n",
    "\t\tpalette = [\"#fb9a99\", \"#a50f15\"]\n",
    "\t\tlabel = \"Down\"\t\n",
    "\t\n",
    "\tdf = df_metaplots[(d,tss)]\n",
    "\tsns.lineplot(data=df, x=\"Position\", y=\"Feature\", hue=\"Label\", hue_order=hue_order, palette=palette, ax=ax, errorbar=\"se\")\n",
    "\t\n",
    "\tax.spines[[\"right\", \"top\"]].set_visible(False)\n",
    "\tax.spines['left'].set_position(('outward', 10))\n",
    "\tax.spines['bottom'].set_position(('outward', 10))\n",
    "\t\n",
    "\ttot = len(set(df[\"index\"]))\n",
    "\tax.set_title(f\"{label} (n={tot})\", fontsize=bfontsize, pad=labelpad+5, fontweight=\"bold\")\n",
    "\tax.legend(fontsize=sfontsize)\n",
    "\n",
    "\tax.set_ylim(ylims)\n",
    "\tax.set_yticks(yticks)\n",
    "\tax.set_yticklabels([str(y) for y in yticks])\n",
    "\tax.set_ylabel(\"Predicted\", fontsize=bfontsize, fontweight=\"bold\")\n",
    "\tif tss == \"minTSS\":\n",
    "\t\tax.yaxis.set_label_coords(-0.15, 0.5)\n",
    "\telse:\n",
    "\t\tax.yaxis.set_label_coords(-0.12, 0.5)\n",
    "\t\t\n",
    "\txticklabel_list = [\"-250\", \"\", \"\", \"\", \"\", \"0\", \"\", \"\", \"\", \"\", \"250\"]\n",
    "\txtick_list = [n*5 for n in range(11)]\n",
    "\tax.set_xticks(xtick_list)\n",
    "\tax.set_xticklabels(xticklabel_list)\n",
    "\tax.set_xlabel(xlabel, fontsize=bfontsize, fontweight=\"bold\")\n",
    "\t\n",
    "\tax.tick_params(labelsize=sfontsize, pad=labelpad)\n",
    "\n",
    "\tax.axhline(y=0, color=\"#bdbdbd\", ls=\"--\")\n",
    "\tax.axvline(x=25, ymin=-0.8, ymax=1, color=\"#bdbdbd\", ls=\"--\", lw=\"1\", clip_on=False, zorder=1)\n",
    "\n",
    "\tplt.savefig(outputfile, bbox_inches=\"tight\", dpi=300) "
   ]
  },
  {
   "cell_type": "code",
   "execution_count": 20,
   "id": "8e7ad17f-8af8-4f5c-8eee-8c49fa68d473",
   "metadata": {
    "execution": {
     "iopub.execute_input": "2024-12-01T22:57:52.367417Z",
     "iopub.status.busy": "2024-12-01T22:57:52.367071Z",
     "iopub.status.idle": "2024-12-01T22:57:53.655622Z",
     "shell.execute_reply": "2024-12-01T22:57:53.655012Z",
     "shell.execute_reply.started": "2024-12-01T22:57:52.367393Z"
    }
   },
   "outputs": [],
   "source": [
    "# The matplotlib version for other analysis is v3.9.2\n",
    "# Need to change matplotlib to v3.8.3 or lower here\n",
    "# Otherwise, \"ax.axvline(...)\" won't display as expected"
   ]
  },
  {
   "cell_type": "code",
   "execution_count": 21,
   "id": "cb00967f-2699-4485-b204-31aa4a728a68",
   "metadata": {
    "execution": {
     "iopub.execute_input": "2024-12-01T22:57:53.656604Z",
     "iopub.status.busy": "2024-12-01T22:57:53.656304Z",
     "iopub.status.idle": "2024-12-01T22:57:54.949885Z",
     "shell.execute_reply": "2024-12-01T22:57:54.949262Z",
     "shell.execute_reply.started": "2024-12-01T22:57:53.656585Z"
    },
    "scrolled": true
   },
   "outputs": [],
   "source": [
    "pwpool = ProcessWrapPool(len(ds)*len(ts))\n",
    "\n",
    "for d in ds:\n",
    "\tfolder = \"supp_figures/\" if d == \"distal\" else \"other_figures/\"\n",
    "\tfor tss in ts:\n",
    "\t\tif tss == \"minTSS\":\n",
    "\t\t\toutputfile = f\"{PROJECT_DIR_o}{folder}suppFig11a.pdf\"\n",
    "\t\t\tif d == \"distal\":\n",
    "\t\t\t\tylims = [-17, 2]\n",
    "\t\t\t\tyticks = [-15, -10, -5, 0]\n",
    "\t\t\telse:\n",
    "\t\t\t\tylims = [-33, 3]\n",
    "\t\t\t\tyticks = [-30, -20, -10, 0]\n",
    "\t\telse:\n",
    "\t\t\toutputfile = f\"{PROJECT_DIR_o}{folder}suppFig11b.pdf\"\n",
    "\t\t\tif d == \"distal\":\n",
    "\t\t\t\tylims = [-2, 11]\n",
    "\t\t\t\tyticks = [0, 3, 6, 9]\n",
    "\t\t\telse:\n",
    "\t\t\t\tylims = [-2, 26]\n",
    "\t\t\t\tyticks = [0, 8, 16, 24]\n",
    "\t\tpwpool.run(generate_metaplot, args=[d, tss, df_metaplots, ylims, yticks, outputfile])"
   ]
  },
  {
   "cell_type": "code",
   "execution_count": 23,
   "id": "2a9b5e5d-fc6d-41e1-a87b-47c638fe32f6",
   "metadata": {
    "execution": {
     "iopub.execute_input": "2024-12-01T23:00:08.237414Z",
     "iopub.status.busy": "2024-12-01T23:00:08.236082Z",
     "iopub.status.idle": "2024-12-01T23:00:08.258828Z",
     "shell.execute_reply": "2024-12-01T23:00:08.258300Z",
     "shell.execute_reply.started": "2024-12-01T23:00:08.237375Z"
    },
    "tags": []
   },
   "outputs": [
    {
     "data": {
      "text/plain": [
       "4"
      ]
     },
     "execution_count": 23,
     "metadata": {},
     "output_type": "execute_result"
    }
   ],
   "source": [
    "len(pwpool.finished_tasks)"
   ]
  },
  {
   "cell_type": "code",
   "execution_count": null,
   "id": "9c17d1a5-902d-44cb-ac56-322d64c7b4a1",
   "metadata": {
    "execution": {
     "iopub.execute_input": "2024-12-01T23:00:08.808501Z",
     "iopub.status.busy": "2024-12-01T23:00:08.808068Z"
    }
   },
   "outputs": [],
   "source": [
    "pwpool.close()"
   ]
  },
  {
   "cell_type": "code",
   "execution_count": null,
   "id": "c8316868-3b75-4736-a0ce-1529bc1203e8",
   "metadata": {},
   "outputs": [],
   "source": []
  }
 ],
 "metadata": {
  "kernelspec": {
   "display_name": "Python 3 (ipykernel)",
   "language": "python",
   "name": "python3"
  },
  "language_info": {
   "codemirror_mode": {
    "name": "ipython",
    "version": 3
   },
   "file_extension": ".py",
   "mimetype": "text/x-python",
   "name": "python",
   "nbconvert_exporter": "python",
   "pygments_lexer": "ipython3",
   "version": "3.10.8"
  }
 },
 "nbformat": 4,
 "nbformat_minor": 5
}

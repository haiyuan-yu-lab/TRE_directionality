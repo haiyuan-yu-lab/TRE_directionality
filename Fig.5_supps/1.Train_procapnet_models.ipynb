{
 "cells": [
  {
   "cell_type": "code",
   "execution_count": 1,
   "id": "867dd4ad-0517-41fd-b5ea-f65d086d8a2e",
   "metadata": {
    "execution": {
     "iopub.execute_input": "2024-11-28T01:42:29.798066Z",
     "iopub.status.busy": "2024-11-28T01:42:29.797812Z",
     "iopub.status.idle": "2024-11-28T01:42:32.398731Z",
     "shell.execute_reply": "2024-11-28T01:42:32.398209Z",
     "shell.execute_reply.started": "2024-11-28T01:42:29.798047Z"
    }
   },
   "outputs": [],
   "source": [
    "import glob\n",
    "import pandas as pd\n",
    "import seaborn as sns\n",
    "import numpy as np\n",
    "import matplotlib.pyplot as plt"
   ]
  },
  {
   "cell_type": "code",
   "execution_count": 2,
   "id": "9f0c1faa-ff68-4161-9535-b43abab49d09",
   "metadata": {
    "execution": {
     "iopub.execute_input": "2024-11-28T01:42:32.400003Z",
     "iopub.status.busy": "2024-11-28T01:42:32.399686Z",
     "iopub.status.idle": "2024-11-28T01:42:32.402816Z",
     "shell.execute_reply": "2024-11-28T01:42:32.402215Z",
     "shell.execute_reply.started": "2024-11-28T01:42:32.399984Z"
    },
    "tags": []
   },
   "outputs": [],
   "source": [
    "PROJECT_DIR_s = \"/fs/cbsuhy02/storage/yc2553/yc2553/projects/TRE_directionality/softwares/procapnet/\"\n",
    "PROJECT_DIR_d = \"/fs/cbsuhy02/storage/yc2553/yc2553/projects/TRE_directionality/PROcap/\"\n",
    "PROJECT_DIR_r = \"/fs/cbsuhy02/storage/yc2553/yc2553/projects/TRE_directionality/resources/\"\n",
    "PROJECT_DIR_o = \"/fs/cbsuhy02/storage/yc2553/yc2553/projects/TRE_directionality/output/procapnet/\""
   ]
  },
  {
   "cell_type": "markdown",
   "id": "635e5bfe-923d-4df1-98a3-f4c41ccc6b23",
   "metadata": {},
   "source": [
    "# Input data"
   ]
  },
  {
   "cell_type": "code",
   "execution_count": 11,
   "id": "89aa881f-178d-4eb2-9069-ca086d254de4",
   "metadata": {
    "execution": {
     "iopub.execute_input": "2024-04-26T16:27:14.700066Z",
     "iopub.status.busy": "2024-04-26T16:27:14.695980Z",
     "iopub.status.idle": "2024-04-26T16:27:14.721007Z",
     "shell.execute_reply": "2024-04-26T16:27:14.719671Z",
     "shell.execute_reply.started": "2024-04-26T16:27:14.700038Z"
    }
   },
   "outputs": [],
   "source": [
    "# Motifs that are critical for directionality are definitely critical for transcriptoin (total counts); motifs critical for transcriptoin (total counts) can affect directionality either through orientation-specific effects or position-specific effects (so there is no need to develop a different model to directly predict directionality).\n",
    "# We'll employ PROcapNet model to identify motifs with or without orientation bias (default parameters except that we use 1000 as in-window size and 500 as out-window size).\n",
    "# We include all bidirectional and unidirectional elements (no filtering)."
   ]
  },
  {
   "cell_type": "code",
   "execution_count": 3,
   "id": "51eecf3e-7f93-4c02-b7a3-1593373dd9f0",
   "metadata": {
    "execution": {
     "iopub.execute_input": "2024-11-28T01:53:22.619635Z",
     "iopub.status.busy": "2024-11-28T01:53:22.619209Z",
     "iopub.status.idle": "2024-11-28T01:53:22.623747Z",
     "shell.execute_reply": "2024-11-28T01:53:22.623234Z",
     "shell.execute_reply.started": "2024-11-28T01:53:22.619612Z"
    }
   },
   "outputs": [
    {
     "name": "stdout",
     "output_type": "stream",
     "text": [
      "sbatch /fs/cbsuhy02/storage/yc2553/yc2553/projects/TRE_directionality/softwares/procapnet/slurm/input.sh /fs/cbsuhy02/storage/yc2553/yc2553/projects/TRE_directionality/PROcap/ brm_CTCF_U1_and_CTCF_U2_erm /fs/cbsuhy02/storage/yc2553/yc2553/projects/TRE_directionality/output/procapnet/processed/HCT116 /fs/cbsuhy02/storage/yc2553/yc2553/projects/TRE_directionality/resources/ENCODE/ENCFF240LRP.bed.gz M\n"
     ]
    }
   ],
   "source": [
    "script = f\"{PROJECT_DIR_s}slurm/input.sh\"\n",
    "s = \"HCT116\"\n",
    "acc = f\"{PROJECT_DIR_r}ENCODE/ENCFF240LRP.bed.gz\"\n",
    "prefix = \"brm_CTCF_U1_and_CTCF_U2_erm\"\n",
    "sex = \"M\"\n",
    "commands = \" \".join([\"sbatch\", script,\n",
    "\t\t\t\t\t PROJECT_DIR_d,\n",
    "\t\t\t\t\t prefix,\n",
    "\t\t\t\t\t f\"{PROJECT_DIR_o}processed/{s}\",\n",
    "\t\t\t\t\t acc, \n",
    "\t\t\t\t\t sex\n",
    "\t\t\t\t\t])\n",
    "print(commands)"
   ]
  },
  {
   "cell_type": "code",
   "execution_count": 4,
   "id": "2e2e13ab-8739-41c5-b8b7-54c0a91a1853",
   "metadata": {
    "execution": {
     "iopub.execute_input": "2024-11-28T01:53:24.582240Z",
     "iopub.status.busy": "2024-11-28T01:53:24.581960Z",
     "iopub.status.idle": "2024-11-28T01:53:25.237530Z",
     "shell.execute_reply": "2024-11-28T01:53:25.236822Z",
     "shell.execute_reply.started": "2024-11-28T01:53:24.582222Z"
    }
   },
   "outputs": [
    {
     "name": "stdout",
     "output_type": "stream",
     "text": [
      "49585\n"
     ]
    }
   ],
   "source": [
    "# No. peaks\n",
    "\n",
    "! zcat $PROJECT_DIR_o/processed/$s/peaks.bed.gz | wc -l"
   ]
  },
  {
   "cell_type": "markdown",
   "id": "94a86a92-d04b-4ca8-9d4b-34537ffbb068",
   "metadata": {},
   "source": [
    "# Train models"
   ]
  },
  {
   "cell_type": "code",
   "execution_count": null,
   "id": "115ec271-5b9c-49c6-91db-fc3dbc5ed24f",
   "metadata": {},
   "outputs": [],
   "source": [
    "# Set the parameters in \"hyperparameter.py\"\n",
    "# self.in_window = 1000\n",
    "# self.out_window = 500\n",
    "# source_fracs = [1,0]"
   ]
  },
  {
   "cell_type": "code",
   "execution_count": 5,
   "id": "05bac87d-82ea-4f73-92a6-00f9a8460115",
   "metadata": {
    "execution": {
     "iopub.execute_input": "2024-11-28T01:53:27.250871Z",
     "iopub.status.busy": "2024-11-28T01:53:27.250561Z",
     "iopub.status.idle": "2024-11-28T01:53:27.254683Z",
     "shell.execute_reply": "2024-11-28T01:53:27.254190Z",
     "shell.execute_reply.started": "2024-11-28T01:53:27.250850Z"
    }
   },
   "outputs": [
    {
     "name": "stdout",
     "output_type": "stream",
     "text": [
      "sbatch /fs/cbsuhy02/storage/yc2553/yc2553/projects/TRE_directionality/softwares/procapnet/slurm/train.sh HCT116 strand_merged_umap /fs/cbsuhy02/storage/yc2553/yc2553/projects/TRE_directionality/output/procapnet/ 1\n",
      "sbatch /fs/cbsuhy02/storage/yc2553/yc2553/projects/TRE_directionality/softwares/procapnet/slurm/train.sh HCT116 strand_merged_umap /fs/cbsuhy02/storage/yc2553/yc2553/projects/TRE_directionality/output/procapnet/ 2\n",
      "sbatch /fs/cbsuhy02/storage/yc2553/yc2553/projects/TRE_directionality/softwares/procapnet/slurm/train.sh HCT116 strand_merged_umap /fs/cbsuhy02/storage/yc2553/yc2553/projects/TRE_directionality/output/procapnet/ 3\n",
      "sbatch /fs/cbsuhy02/storage/yc2553/yc2553/projects/TRE_directionality/softwares/procapnet/slurm/train.sh HCT116 strand_merged_umap /fs/cbsuhy02/storage/yc2553/yc2553/projects/TRE_directionality/output/procapnet/ 4\n",
      "sbatch /fs/cbsuhy02/storage/yc2553/yc2553/projects/TRE_directionality/softwares/procapnet/slurm/train.sh HCT116 strand_merged_umap /fs/cbsuhy02/storage/yc2553/yc2553/projects/TRE_directionality/output/procapnet/ 5\n",
      "sbatch /fs/cbsuhy02/storage/yc2553/yc2553/projects/TRE_directionality/softwares/procapnet/slurm/train.sh HCT116 strand_merged_umap /fs/cbsuhy02/storage/yc2553/yc2553/projects/TRE_directionality/output/procapnet/ 6\n",
      "sbatch /fs/cbsuhy02/storage/yc2553/yc2553/projects/TRE_directionality/softwares/procapnet/slurm/train.sh HCT116 strand_merged_umap /fs/cbsuhy02/storage/yc2553/yc2553/projects/TRE_directionality/output/procapnet/ 7\n"
     ]
    }
   ],
   "source": [
    "# add gpu at the end\n",
    "\n",
    "model_type = \"strand_merged_umap\"\n",
    "script = f\"{PROJECT_DIR_s}slurm/train.sh\"\n",
    "for fold in range(1,8):\n",
    "\tcommands = \" \".join([\"sbatch\", script, \n",
    "\t\t\t\t\t\ts,\n",
    "\t\t\t\t\t\tmodel_type,\n",
    "\t\t\t\t\t\tPROJECT_DIR_o,\n",
    "\t\t\t\t\t\tstr(fold)\n",
    "\t\t\t\t\t\t])\n",
    "\tprint(commands)"
   ]
  },
  {
   "cell_type": "markdown",
   "id": "35edd5bc-d6c7-4266-b097-9ae83e71651f",
   "metadata": {},
   "source": [
    "# Evaluate models"
   ]
  },
  {
   "cell_type": "code",
   "execution_count": 6,
   "id": "2dcea784-2e8d-4ef6-b8e6-39013726da9b",
   "metadata": {
    "execution": {
     "iopub.execute_input": "2024-11-28T01:53:29.551547Z",
     "iopub.status.busy": "2024-11-28T01:53:29.551173Z",
     "iopub.status.idle": "2024-11-28T01:53:29.555680Z",
     "shell.execute_reply": "2024-11-28T01:53:29.555233Z",
     "shell.execute_reply.started": "2024-11-28T01:53:29.551526Z"
    }
   },
   "outputs": [],
   "source": [
    "files = glob.glob(f\"{PROJECT_DIR_o}models/{s}/{model_type}/*.model\")\n",
    "timestamps = sorted([f.split(\"/\")[-1].split(\".model\")[0] for f in files])"
   ]
  },
  {
   "cell_type": "code",
   "execution_count": 7,
   "id": "a6d0e02c-00d5-450c-81b4-75e2b9c7f9bd",
   "metadata": {
    "execution": {
     "iopub.execute_input": "2024-11-28T01:53:29.885057Z",
     "iopub.status.busy": "2024-11-28T01:53:29.884816Z",
     "iopub.status.idle": "2024-11-28T01:53:30.610728Z",
     "shell.execute_reply": "2024-11-28T01:53:30.610279Z",
     "shell.execute_reply.started": "2024-11-28T01:53:29.885040Z"
    }
   },
   "outputs": [
    {
     "name": "stdout",
     "output_type": "stream",
     "text": [
      "sbatch /fs/cbsuhy02/storage/yc2553/yc2553/projects/TRE_directionality/softwares/procapnet/slurm/eval.sh HCT116 strand_merged_umap /fs/cbsuhy02/storage/yc2553/yc2553/projects/TRE_directionality/output/procapnet/ 1 2024-10-21_23-38-55\n",
      "sbatch /fs/cbsuhy02/storage/yc2553/yc2553/projects/TRE_directionality/softwares/procapnet/slurm/eval.sh HCT116 strand_merged_umap /fs/cbsuhy02/storage/yc2553/yc2553/projects/TRE_directionality/output/procapnet/ 2 2024-10-22_00-25-53\n",
      "sbatch /fs/cbsuhy02/storage/yc2553/yc2553/projects/TRE_directionality/softwares/procapnet/slurm/eval.sh HCT116 strand_merged_umap /fs/cbsuhy02/storage/yc2553/yc2553/projects/TRE_directionality/output/procapnet/ 3 2024-10-22_00-32-20\n",
      "sbatch /fs/cbsuhy02/storage/yc2553/yc2553/projects/TRE_directionality/softwares/procapnet/slurm/eval.sh HCT116 strand_merged_umap /fs/cbsuhy02/storage/yc2553/yc2553/projects/TRE_directionality/output/procapnet/ 4 2024-10-22_01-01-35\n",
      "sbatch /fs/cbsuhy02/storage/yc2553/yc2553/projects/TRE_directionality/softwares/procapnet/slurm/eval.sh HCT116 strand_merged_umap /fs/cbsuhy02/storage/yc2553/yc2553/projects/TRE_directionality/output/procapnet/ 5 2024-10-22_01-08-25\n",
      "sbatch /fs/cbsuhy02/storage/yc2553/yc2553/projects/TRE_directionality/softwares/procapnet/slurm/eval.sh HCT116 strand_merged_umap /fs/cbsuhy02/storage/yc2553/yc2553/projects/TRE_directionality/output/procapnet/ 6 2024-10-22_01-28-54\n",
      "sbatch /fs/cbsuhy02/storage/yc2553/yc2553/projects/TRE_directionality/softwares/procapnet/slurm/eval.sh HCT116 strand_merged_umap /fs/cbsuhy02/storage/yc2553/yc2553/projects/TRE_directionality/output/procapnet/ 7 2024-10-22_01-29-32\n"
     ]
    }
   ],
   "source": [
    "# Add GPU name at the end\n",
    "\n",
    "script = f\"{PROJECT_DIR_s}slurm/eval.sh\"\n",
    "for k in timestamps:\n",
    "\tfold, timestamp = k.split(\".\") \n",
    "\tcommands = \" \".join([\"sbatch\", script, \n",
    "\t\t\t\t\t\ts,\n",
    "\t\t\t\t\t\tmodel_type,\n",
    "\t\t\t\t\t\tPROJECT_DIR_o,\n",
    "\t\t\t\t\t\tfold,\n",
    "\t\t\t\t\t\ttimestamp\n",
    "\t\t\t\t\t\t])\n",
    "\tprint(commands)"
   ]
  },
  {
   "cell_type": "code",
   "execution_count": 8,
   "id": "ff8ea092-6864-4258-8b7f-3972bcb09a8d",
   "metadata": {
    "execution": {
     "iopub.execute_input": "2024-11-28T01:53:33.091801Z",
     "iopub.status.busy": "2024-11-28T01:53:33.091536Z",
     "iopub.status.idle": "2024-11-28T01:53:33.849189Z",
     "shell.execute_reply": "2024-11-28T01:53:33.848718Z",
     "shell.execute_reply.started": "2024-11-28T01:53:33.091782Z"
    }
   },
   "outputs": [],
   "source": [
    "# Check correlation\n",
    "\n",
    "results = []\n",
    "model_type = \"strand_merged_umap\"\n",
    "for k in timestamps:\n",
    "\tinputfile = f\"{PROJECT_DIR_o}model_out/{s}/{model_type}/{k.split('.')[1]}/test_run_log.txt\"\n",
    "\twith open(inputfile, \"r\") as f:\n",
    "\t\tlines = f.readlines()\n",
    "\t\tprofile = float(lines[-3].strip().split(\": \")[1])\n",
    "\t\tcounts = float(lines[-2].strip().split(\": \")[1])\n",
    "\t\tresults.append([s, profile, \"Profile\", k.split(\".\")[0]])\n",
    "\t\tresults.append([s, counts, \"Counts\", k.split(\".\")[0]])\n",
    "df = pd.DataFrame(results, columns=[\"Model\", \"Corr\", \"Type\", \"Fold\"])"
   ]
  },
  {
   "cell_type": "code",
   "execution_count": 9,
   "id": "26907275-47bb-4244-bc90-5e99f8c0bceb",
   "metadata": {
    "execution": {
     "iopub.execute_input": "2024-11-28T01:53:34.741664Z",
     "iopub.status.busy": "2024-11-28T01:53:34.741367Z",
     "iopub.status.idle": "2024-11-28T01:53:34.748016Z",
     "shell.execute_reply": "2024-11-28T01:53:34.747503Z",
     "shell.execute_reply.started": "2024-11-28T01:53:34.741645Z"
    }
   },
   "outputs": [
    {
     "name": "stdout",
     "output_type": "stream",
     "text": [
      "Profile 0.6 0.004\n",
      "Counts 0.768 0.014\n"
     ]
    }
   ],
   "source": [
    "for t in [\"Profile\", \"Counts\"]:\n",
    "\tprint(t, \n",
    "\t\t  round(np.mean(df[df[\"Type\"]==t][\"Corr\"]),3), \n",
    "\t\t  round(np.std(df[df[\"Type\"]==t][\"Corr\"]),3)\n",
    "\t\t )"
   ]
  },
  {
   "cell_type": "code",
   "execution_count": 10,
   "id": "2457cc3c-d332-4ddd-9e7c-2baf5654a104",
   "metadata": {
    "execution": {
     "iopub.execute_input": "2024-11-28T01:53:37.056042Z",
     "iopub.status.busy": "2024-11-28T01:53:37.055783Z",
     "iopub.status.idle": "2024-11-28T01:53:37.205836Z",
     "shell.execute_reply": "2024-11-28T01:53:37.205375Z",
     "shell.execute_reply.started": "2024-11-28T01:53:37.056023Z"
    }
   },
   "outputs": [
    {
     "data": {
      "text/plain": [
       "([0, 1], [Text(0, 0, 'Profile'), Text(1, 0, 'Counts')])"
      ]
     },
     "execution_count": 10,
     "metadata": {},
     "output_type": "execute_result"
    },
    {
     "data": {
      "image/png": "[encoded data removed]",
      "text/plain": [
       "<Figure size 300x200 with 1 Axes>"
      ]
     },
     "metadata": {},
     "output_type": "display_data"
    }
   ],
   "source": [
    "fig, ax = plt.subplots(figsize=(3,2))\n",
    "g = sns.boxplot(data=df, x=\"Type\", y=\"Corr\", ax=ax)\n",
    "g.set_ylabel(\"Correlation\", fontsize=10, fontweight=\"bold\")\n",
    "g.set_xlabel(\"\")\n",
    "g.set_ylim([0,1])\n",
    "plt.xticks(fontsize=8) "
   ]
  },
  {
   "cell_type": "code",
   "execution_count": null,
   "id": "7d30dd0f-6c3a-4232-9228-583b2b2794b9",
   "metadata": {},
   "outputs": [],
   "source": []
  }
 ],
 "metadata": {
  "kernelspec": {
   "display_name": "Python 3 (ipykernel)",
   "language": "python",
   "name": "python3"
  },
  "language_info": {
   "codemirror_mode": {
    "name": "ipython",
    "version": 3
   },
   "file_extension": ".py",
   "mimetype": "text/x-python",
   "name": "python",
   "nbconvert_exporter": "python",
   "pygments_lexer": "ipython3",
   "version": "3.10.8"
  }
 },
 "nbformat": 4,
 "nbformat_minor": 5
}

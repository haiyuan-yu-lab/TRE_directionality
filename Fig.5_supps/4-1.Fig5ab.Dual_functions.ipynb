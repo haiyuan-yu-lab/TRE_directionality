{
 "cells": [
  {
   "cell_type": "code",
   "execution_count": 1,
   "id": "727d0ae8-fda2-410f-a021-d11c3cbd1fb1",
   "metadata": {
    "execution": {
     "iopub.execute_input": "2024-11-29T19:49:40.596558Z",
     "iopub.status.busy": "2024-11-29T19:49:40.596006Z",
     "iopub.status.idle": "2024-11-29T19:50:50.614714Z",
     "shell.execute_reply": "2024-11-29T19:50:50.614124Z",
     "shell.execute_reply.started": "2024-11-29T19:49:40.596533Z"
    }
   },
   "outputs": [],
   "source": [
    "from collections import defaultdict, Counter\n",
    "import pandas as pd\n",
    "import sys\n",
    "import matplotlib.pyplot as plt\n",
    "import seaborn as sns\n",
    "import numpy as np\n",
    "from Bio import SeqIO\n",
    "from statannotations.Annotator import Annotator\n",
    "import json\n",
    "import itertools"
   ]
  },
  {
   "cell_type": "code",
   "execution_count": 2,
   "id": "2ceba231-6114-4ac9-a71c-090e690e9c18",
   "metadata": {
    "execution": {
     "iopub.execute_input": "2024-11-29T19:50:50.615975Z",
     "iopub.status.busy": "2024-11-29T19:50:50.615631Z",
     "iopub.status.idle": "2024-11-29T19:50:50.676889Z",
     "shell.execute_reply": "2024-11-29T19:50:50.676458Z",
     "shell.execute_reply.started": "2024-11-29T19:50:50.615954Z"
    }
   },
   "outputs": [],
   "source": [
    "import matplotlib\n",
    "from pathlib import Path\n",
    "font_dir = Path.cwd().parent / \"font\"\n",
    "for font in [\"Arial.ttf\", \"Arial_Bold.ttf\"]:\n",
    "    matplotlib.font_manager.fontManager.addfont(font_dir / font)\n",
    "matplotlib.rcParams[\"font.family\"] = \"Arial\"\n",
    "bfontsize = 12\n",
    "sfontsize = 9"
   ]
  },
  {
   "cell_type": "code",
   "execution_count": 3,
   "id": "58c54183-42ba-4751-8586-7f00f734046d",
   "metadata": {
    "execution": {
     "iopub.execute_input": "2024-11-29T19:50:50.677610Z",
     "iopub.status.busy": "2024-11-29T19:50:50.677383Z",
     "iopub.status.idle": "2024-11-29T19:50:51.840084Z",
     "shell.execute_reply": "2024-11-29T19:50:51.839518Z",
     "shell.execute_reply.started": "2024-11-29T19:50:50.677593Z"
    }
   },
   "outputs": [],
   "source": [
    "PROJECT_DIR_s = \"/fs/cbsuhy02/storage/yc2553/yc2553/projects/TRE_directionality/softwares/procapnet/\"\n",
    "PROJECT_DIR_r = \"/fs/cbsuhy02/storage/yc2553/yc2553/projects/TRE_directionality/resources/\"\n",
    "PROJECT_DIR_o = \"/fs/cbsuhy02/storage/yc2553/yc2553/projects/TRE_directionality/output/\""
   ]
  },
  {
   "cell_type": "code",
   "execution_count": 4,
   "id": "583cfd09-f73d-4ee8-a4aa-e418d14711d0",
   "metadata": {
    "execution": {
     "iopub.execute_input": "2024-11-29T19:50:51.841166Z",
     "iopub.status.busy": "2024-11-29T19:50:51.840922Z",
     "iopub.status.idle": "2024-11-29T19:51:39.827381Z",
     "shell.execute_reply": "2024-11-29T19:51:39.826696Z",
     "shell.execute_reply.started": "2024-11-29T19:50:51.841148Z"
    }
   },
   "outputs": [],
   "source": [
    "sys.path.append(f\"{PROJECT_DIR_s}2_train_models/\")\n",
    "from file_configs import MergedFilesConfig\n",
    "from hyperparams import DefaultParams as Params\n",
    "from data_loading import one_hot_encode\n",
    "sys.path.append(f\"{PROJECT_DIR_s}6_call_motifs/\")\n",
    "from call_motifs_script import load_coords"
   ]
  },
  {
   "cell_type": "markdown",
   "id": "823375db-8861-412e-adeb-7464e24cbc9f",
   "metadata": {},
   "source": [
    "# In-silico deletion"
   ]
  },
  {
   "cell_type": "markdown",
   "id": "61f6818b-5ac6-43d3-9cfd-398bffcb332f",
   "metadata": {},
   "source": [
    "## Data preparation"
   ]
  },
  {
   "cell_type": "code",
   "execution_count": 5,
   "id": "6119fc0b-f5f2-4838-b784-ebebdcc4bfad",
   "metadata": {
    "execution": {
     "iopub.execute_input": "2024-11-29T19:51:59.381133Z",
     "iopub.status.busy": "2024-11-29T19:51:59.380418Z",
     "iopub.status.idle": "2024-11-29T19:51:59.386356Z",
     "shell.execute_reply": "2024-11-29T19:51:59.385892Z",
     "shell.execute_reply.started": "2024-11-29T19:51:59.381107Z"
    }
   },
   "outputs": [],
   "source": [
    "s = \"HCT116\"\n",
    "model_type = \"strand_merged_umap\"\n",
    "ps = [\"divergent\", \"unidirectional\"]\n",
    "ds = [\"distal\", \"proximal\"]\n",
    "types = [\"wt\", \"mt\"]\n",
    "merged_config = MergedFilesConfig(s, model_type, f\"{PROJECT_DIR_o}procapnet/\")\n",
    "peak_path = merged_config.all_peak_path"
   ]
  },
  {
   "cell_type": "code",
   "execution_count": 6,
   "id": "0d6eefa0-335a-402e-845b-01a5bcf482c5",
   "metadata": {
    "execution": {
     "iopub.execute_input": "2024-11-29T19:51:59.794640Z",
     "iopub.status.busy": "2024-11-29T19:51:59.794376Z",
     "iopub.status.idle": "2024-11-29T19:52:00.431472Z",
     "shell.execute_reply": "2024-11-29T19:52:00.430929Z",
     "shell.execute_reply.started": "2024-11-29T19:51:59.794622Z"
    }
   },
   "outputs": [],
   "source": [
    "params = Params()\n",
    "in_window = params.in_window\n",
    "coords = load_coords(peak_path, in_window=in_window)"
   ]
  },
  {
   "cell_type": "code",
   "execution_count": 7,
   "id": "a0b8a238",
   "metadata": {
    "execution": {
     "iopub.execute_input": "2024-11-29T19:52:00.432503Z",
     "iopub.status.busy": "2024-11-29T19:52:00.432246Z",
     "iopub.status.idle": "2024-11-29T19:52:01.557569Z",
     "shell.execute_reply": "2024-11-29T19:52:01.556987Z",
     "shell.execute_reply.started": "2024-11-29T19:52:00.432483Z"
    }
   },
   "outputs": [],
   "source": [
    "inputfile = f\"{PROJECT_DIR_o}procapnet/motifs_out/{s}/{model_type}/merged/mapping.json\"\n",
    "with open(inputfile, \"r\") as f:\n",
    "\tmapping = json.load(f)"
   ]
  },
  {
   "cell_type": "code",
   "execution_count": 8,
   "id": "b94f086c-8599-475d-9cdc-2f64bacef463",
   "metadata": {
    "execution": {
     "iopub.execute_input": "2024-11-29T19:52:01.558650Z",
     "iopub.status.busy": "2024-11-29T19:52:01.558383Z",
     "iopub.status.idle": "2024-11-29T19:52:03.218592Z",
     "shell.execute_reply": "2024-11-29T19:52:03.218075Z",
     "shell.execute_reply.started": "2024-11-29T19:52:01.558631Z"
    }
   },
   "outputs": [
    {
     "data": {
      "text/html": [
       "<div>\n",
       "<style scoped>\n",
       "    .dataframe tbody tr th:only-of-type {\n",
       "        vertical-align: middle;\n",
       "    }\n",
       "\n",
       "    .dataframe tbody tr th {\n",
       "        vertical-align: top;\n",
       "    }\n",
       "\n",
       "    .dataframe thead th {\n",
       "        text-align: right;\n",
       "    }\n",
       "</style>\n",
       "<table border=\"1\" class=\"dataframe\">\n",
       "  <thead>\n",
       "    <tr style=\"text-align: right;\">\n",
       "      <th></th>\n",
       "      <th>0</th>\n",
       "      <th>1</th>\n",
       "      <th>2</th>\n",
       "      <th>3</th>\n",
       "      <th>4</th>\n",
       "      <th>5</th>\n",
       "      <th>6</th>\n",
       "    </tr>\n",
       "  </thead>\n",
       "  <tbody>\n",
       "    <tr>\n",
       "      <th>0</th>\n",
       "      <td>chr1</td>\n",
       "      <td>605487</td>\n",
       "      <td>605497</td>\n",
       "      <td>NRF1</td>\n",
       "      <td>1</td>\n",
       "      <td>+</td>\n",
       "      <td>5</td>\n",
       "    </tr>\n",
       "    <tr>\n",
       "      <th>1</th>\n",
       "      <td>chr1</td>\n",
       "      <td>629619</td>\n",
       "      <td>629625</td>\n",
       "      <td>TATA</td>\n",
       "      <td>2</td>\n",
       "      <td>-</td>\n",
       "      <td>10</td>\n",
       "    </tr>\n",
       "  </tbody>\n",
       "</table>\n",
       "</div>"
      ],
      "text/plain": [
       "      0       1       2     3  4  5   6\n",
       "0  chr1  605487  605497  NRF1  1  +   5\n",
       "1  chr1  629619  629625  TATA  2  -  10"
      ]
     },
     "execution_count": 8,
     "metadata": {},
     "output_type": "execute_result"
    }
   ],
   "source": [
    "counts_hits_path = f\"{PROJECT_DIR_o}procapnet/motifs_out/{s}/{model_type}/merged/counts_hits.bed\"\n",
    "df_motifs = pd.read_table(counts_hits_path, header=None)\n",
    "df_motifs.head(2)"
   ]
  },
  {
   "cell_type": "code",
   "execution_count": 9,
   "id": "2d1db495-6782-4298-96d9-ac421f15be29",
   "metadata": {
    "execution": {
     "iopub.execute_input": "2024-11-29T19:52:03.219457Z",
     "iopub.status.busy": "2024-11-29T19:52:03.219182Z",
     "iopub.status.idle": "2024-11-29T19:52:04.420243Z",
     "shell.execute_reply": "2024-11-29T19:52:04.419573Z",
     "shell.execute_reply.started": "2024-11-29T19:52:03.219435Z"
    },
    "scrolled": true
   },
   "outputs": [],
   "source": [
    "motifs = list(set(df_motifs[3]))"
   ]
  },
  {
   "cell_type": "markdown",
   "id": "2969d29f-d79b-45be-8b30-240ee8cfad15",
   "metadata": {},
   "source": [
    "## Get sequences"
   ]
  },
  {
   "cell_type": "code",
   "execution_count": 10,
   "id": "ee18ca53-19a4-4b10-8082-dcfff0b6b9ca",
   "metadata": {
    "execution": {
     "iopub.execute_input": "2024-11-29T19:52:05.120538Z",
     "iopub.status.busy": "2024-11-29T19:52:05.120236Z",
     "iopub.status.idle": "2024-11-29T19:52:24.620814Z",
     "shell.execute_reply": "2024-11-29T19:52:24.619814Z",
     "shell.execute_reply.started": "2024-11-29T19:52:05.120519Z"
    },
    "scrolled": true
   },
   "outputs": [],
   "source": [
    "inputfile = f\"{PROJECT_DIR_r}genomes/human/GRCh38_no_alt_analysis_set_GCA_000001405.15.fasta\"\n",
    "with open(inputfile, \"r\") as f:\n",
    "\tfdict = SeqIO.to_dict(SeqIO.parse(f, \"fasta\"))"
   ]
  },
  {
   "cell_type": "code",
   "execution_count": 11,
   "id": "1b7e1344-d978-42ca-97e4-9723c2ce6457",
   "metadata": {
    "execution": {
     "iopub.execute_input": "2024-11-29T19:52:24.622339Z",
     "iopub.status.busy": "2024-11-29T19:52:24.622044Z",
     "iopub.status.idle": "2024-11-29T19:52:24.627681Z",
     "shell.execute_reply": "2024-11-29T19:52:24.627189Z",
     "shell.execute_reply.started": "2024-11-29T19:52:24.622318Z"
    }
   },
   "outputs": [],
   "source": [
    "def get_sequences(motif, outputfile, coords, fdict, t):\n",
    "\tseqs = []\n",
    "\tdf = df_motifs[(df_motifs[3]==motif) & (df_motifs[4].astype(str).isin(mapping))]\n",
    "\tfor index, row in df.iterrows():\n",
    "\t\tchrom, start, end = coords[row[4]]\n",
    "\t\tseq = fdict[chrom][int(start):int(end)].seq.upper()\n",
    "\t\twt_seq = one_hot_encode(seq)\n",
    "\t\tif t == \"wt\":\n",
    "\t\t\tseqs.append(wt_seq.T)\n",
    "\t\telse:\n",
    "\t\t\tmut_start, mut_end = row[1], row[2]\n",
    "\t\t\t# replace motif with [0,0,0,0]\n",
    "\t\t\tmt_seq = wt_seq\n",
    "\t\t\tfor i in range(mut_start-start, mut_end-start):\n",
    "\t\t\t\tmt_seq[i] = [0,0,0,0]\n",
    "\t\t\tseqs.append(mt_seq.T)\n",
    "\tseqs = np.array(seqs)\n",
    "\tnp.save(outputfile, seqs)"
   ]
  },
  {
   "cell_type": "code",
   "execution_count": 12,
   "id": "e06cfd46-9378-434e-88a3-c464982ca70f",
   "metadata": {
    "execution": {
     "iopub.execute_input": "2024-11-29T19:52:24.628498Z",
     "iopub.status.busy": "2024-11-29T19:52:24.628274Z",
     "iopub.status.idle": "2024-11-29T19:52:44.552874Z",
     "shell.execute_reply": "2024-11-29T19:52:44.552329Z",
     "shell.execute_reply.started": "2024-11-29T19:52:24.628480Z"
    },
    "scrolled": true
   },
   "outputs": [],
   "source": [
    "for motif, t in itertools.product(motifs, types):\n",
    "\toutputfile = f\"{PROJECT_DIR_o}procapnet/prediction/{s}_modisco_{motif}_{t}.npy\"\n",
    "\tget_sequences(motif, outputfile, coords, fdict, t)"
   ]
  },
  {
   "cell_type": "markdown",
   "id": "4f6f055f-7e99-4d24-a835-f0ec2d3741bb",
   "metadata": {},
   "source": [
    "## Prediction"
   ]
  },
  {
   "cell_type": "code",
   "execution_count": 16,
   "id": "ec94b826-4617-447c-8b25-d9afee60dc91",
   "metadata": {
    "execution": {
     "iopub.execute_input": "2024-11-29T20:10:01.620304Z",
     "iopub.status.busy": "2024-11-29T20:10:01.619363Z",
     "iopub.status.idle": "2024-11-29T20:10:01.637619Z",
     "shell.execute_reply": "2024-11-29T20:10:01.637086Z",
     "shell.execute_reply.started": "2024-11-29T20:10:01.620279Z"
    },
    "scrolled": true
   },
   "outputs": [
    {
     "name": "stdout",
     "output_type": "stream",
     "text": [
      "sbatch /fs/cbsuhy02/storage/yc2553/yc2553/projects/TRE_directionality/softwares/procapnet/slurm/predict.sh HCT116 strand_merged_umap /fs/cbsuhy02/storage/yc2553/yc2553/projects/TRE_directionality/output/procapnet/ /fs/cbsuhy02/storage/yc2553/yc2553/projects/TRE_directionality/output/procapnet/prediction/HCT116_modisco_ZBTB33_wt.npy /fs/cbsuhy02/storage/yc2553/yc2553/projects/TRE_directionality/output/procapnet/prediction/HCT116_modisco_ZBTB33_wt. True 0\n",
      "sbatch /fs/cbsuhy02/storage/yc2553/yc2553/projects/TRE_directionality/softwares/procapnet/slurm/predict.sh HCT116 strand_merged_umap /fs/cbsuhy02/storage/yc2553/yc2553/projects/TRE_directionality/output/procapnet/ /fs/cbsuhy02/storage/yc2553/yc2553/projects/TRE_directionality/output/procapnet/prediction/HCT116_modisco_ZBTB33_mt.npy /fs/cbsuhy02/storage/yc2553/yc2553/projects/TRE_directionality/output/procapnet/prediction/HCT116_modisco_ZBTB33_mt. True 1\n",
      "sbatch /fs/cbsuhy02/storage/yc2553/yc2553/projects/TRE_directionality/softwares/procapnet/slurm/predict.sh HCT116 strand_merged_umap /fs/cbsuhy02/storage/yc2553/yc2553/projects/TRE_directionality/output/procapnet/ /fs/cbsuhy02/storage/yc2553/yc2553/projects/TRE_directionality/output/procapnet/prediction/HCT116_modisco_CTCF_wt.npy /fs/cbsuhy02/storage/yc2553/yc2553/projects/TRE_directionality/output/procapnet/prediction/HCT116_modisco_CTCF_wt. True 0\n",
      "sbatch /fs/cbsuhy02/storage/yc2553/yc2553/projects/TRE_directionality/softwares/procapnet/slurm/predict.sh HCT116 strand_merged_umap /fs/cbsuhy02/storage/yc2553/yc2553/projects/TRE_directionality/output/procapnet/ /fs/cbsuhy02/storage/yc2553/yc2553/projects/TRE_directionality/output/procapnet/prediction/HCT116_modisco_CTCF_mt.npy /fs/cbsuhy02/storage/yc2553/yc2553/projects/TRE_directionality/output/procapnet/prediction/HCT116_modisco_CTCF_mt. True 1\n",
      "sbatch /fs/cbsuhy02/storage/yc2553/yc2553/projects/TRE_directionality/softwares/procapnet/slurm/predict.sh HCT116 strand_merged_umap /fs/cbsuhy02/storage/yc2553/yc2553/projects/TRE_directionality/output/procapnet/ /fs/cbsuhy02/storage/yc2553/yc2553/projects/TRE_directionality/output/procapnet/prediction/HCT116_modisco_CREB_wt.npy /fs/cbsuhy02/storage/yc2553/yc2553/projects/TRE_directionality/output/procapnet/prediction/HCT116_modisco_CREB_wt. True 0\n",
      "sbatch /fs/cbsuhy02/storage/yc2553/yc2553/projects/TRE_directionality/softwares/procapnet/slurm/predict.sh HCT116 strand_merged_umap /fs/cbsuhy02/storage/yc2553/yc2553/projects/TRE_directionality/output/procapnet/ /fs/cbsuhy02/storage/yc2553/yc2553/projects/TRE_directionality/output/procapnet/prediction/HCT116_modisco_CREB_mt.npy /fs/cbsuhy02/storage/yc2553/yc2553/projects/TRE_directionality/output/procapnet/prediction/HCT116_modisco_CREB_mt. True 1\n",
      "sbatch /fs/cbsuhy02/storage/yc2553/yc2553/projects/TRE_directionality/softwares/procapnet/slurm/predict.sh HCT116 strand_merged_umap /fs/cbsuhy02/storage/yc2553/yc2553/projects/TRE_directionality/output/procapnet/ /fs/cbsuhy02/storage/yc2553/yc2553/projects/TRE_directionality/output/procapnet/prediction/HCT116_modisco_SP_wt.npy /fs/cbsuhy02/storage/yc2553/yc2553/projects/TRE_directionality/output/procapnet/prediction/HCT116_modisco_SP_wt. True 0\n",
      "sbatch /fs/cbsuhy02/storage/yc2553/yc2553/projects/TRE_directionality/softwares/procapnet/slurm/predict.sh HCT116 strand_merged_umap /fs/cbsuhy02/storage/yc2553/yc2553/projects/TRE_directionality/output/procapnet/ /fs/cbsuhy02/storage/yc2553/yc2553/projects/TRE_directionality/output/procapnet/prediction/HCT116_modisco_SP_mt.npy /fs/cbsuhy02/storage/yc2553/yc2553/projects/TRE_directionality/output/procapnet/prediction/HCT116_modisco_SP_mt. True 1\n",
      "sbatch /fs/cbsuhy02/storage/yc2553/yc2553/projects/TRE_directionality/softwares/procapnet/slurm/predict.sh HCT116 strand_merged_umap /fs/cbsuhy02/storage/yc2553/yc2553/projects/TRE_directionality/output/procapnet/ /fs/cbsuhy02/storage/yc2553/yc2553/projects/TRE_directionality/output/procapnet/prediction/HCT116_modisco_NRF1_wt.npy /fs/cbsuhy02/storage/yc2553/yc2553/projects/TRE_directionality/output/procapnet/prediction/HCT116_modisco_NRF1_wt. True 0\n",
      "sbatch /fs/cbsuhy02/storage/yc2553/yc2553/projects/TRE_directionality/softwares/procapnet/slurm/predict.sh HCT116 strand_merged_umap /fs/cbsuhy02/storage/yc2553/yc2553/projects/TRE_directionality/output/procapnet/ /fs/cbsuhy02/storage/yc2553/yc2553/projects/TRE_directionality/output/procapnet/prediction/HCT116_modisco_NRF1_mt.npy /fs/cbsuhy02/storage/yc2553/yc2553/projects/TRE_directionality/output/procapnet/prediction/HCT116_modisco_NRF1_mt. True 1\n",
      "sbatch /fs/cbsuhy02/storage/yc2553/yc2553/projects/TRE_directionality/softwares/procapnet/slurm/predict.sh HCT116 strand_merged_umap /fs/cbsuhy02/storage/yc2553/yc2553/projects/TRE_directionality/output/procapnet/ /fs/cbsuhy02/storage/yc2553/yc2553/projects/TRE_directionality/output/procapnet/prediction/HCT116_modisco_TATA_wt.npy /fs/cbsuhy02/storage/yc2553/yc2553/projects/TRE_directionality/output/procapnet/prediction/HCT116_modisco_TATA_wt. True 0\n",
      "sbatch /fs/cbsuhy02/storage/yc2553/yc2553/projects/TRE_directionality/softwares/procapnet/slurm/predict.sh HCT116 strand_merged_umap /fs/cbsuhy02/storage/yc2553/yc2553/projects/TRE_directionality/output/procapnet/ /fs/cbsuhy02/storage/yc2553/yc2553/projects/TRE_directionality/output/procapnet/prediction/HCT116_modisco_TATA_mt.npy /fs/cbsuhy02/storage/yc2553/yc2553/projects/TRE_directionality/output/procapnet/prediction/HCT116_modisco_TATA_mt. True 1\n",
      "sbatch /fs/cbsuhy02/storage/yc2553/yc2553/projects/TRE_directionality/softwares/procapnet/slurm/predict.sh HCT116 strand_merged_umap /fs/cbsuhy02/storage/yc2553/yc2553/projects/TRE_directionality/output/procapnet/ /fs/cbsuhy02/storage/yc2553/yc2553/projects/TRE_directionality/output/procapnet/prediction/HCT116_modisco_ZNF143_wt.npy /fs/cbsuhy02/storage/yc2553/yc2553/projects/TRE_directionality/output/procapnet/prediction/HCT116_modisco_ZNF143_wt. True 0\n",
      "sbatch /fs/cbsuhy02/storage/yc2553/yc2553/projects/TRE_directionality/softwares/procapnet/slurm/predict.sh HCT116 strand_merged_umap /fs/cbsuhy02/storage/yc2553/yc2553/projects/TRE_directionality/output/procapnet/ /fs/cbsuhy02/storage/yc2553/yc2553/projects/TRE_directionality/output/procapnet/prediction/HCT116_modisco_ZNF143_mt.npy /fs/cbsuhy02/storage/yc2553/yc2553/projects/TRE_directionality/output/procapnet/prediction/HCT116_modisco_ZNF143_mt. True 1\n",
      "sbatch /fs/cbsuhy02/storage/yc2553/yc2553/projects/TRE_directionality/softwares/procapnet/slurm/predict.sh HCT116 strand_merged_umap /fs/cbsuhy02/storage/yc2553/yc2553/projects/TRE_directionality/output/procapnet/ /fs/cbsuhy02/storage/yc2553/yc2553/projects/TRE_directionality/output/procapnet/prediction/HCT116_modisco_NFY_wt.npy /fs/cbsuhy02/storage/yc2553/yc2553/projects/TRE_directionality/output/procapnet/prediction/HCT116_modisco_NFY_wt. True 0\n",
      "sbatch /fs/cbsuhy02/storage/yc2553/yc2553/projects/TRE_directionality/softwares/procapnet/slurm/predict.sh HCT116 strand_merged_umap /fs/cbsuhy02/storage/yc2553/yc2553/projects/TRE_directionality/output/procapnet/ /fs/cbsuhy02/storage/yc2553/yc2553/projects/TRE_directionality/output/procapnet/prediction/HCT116_modisco_NFY_mt.npy /fs/cbsuhy02/storage/yc2553/yc2553/projects/TRE_directionality/output/procapnet/prediction/HCT116_modisco_NFY_mt. True 1\n",
      "sbatch /fs/cbsuhy02/storage/yc2553/yc2553/projects/TRE_directionality/softwares/procapnet/slurm/predict.sh HCT116 strand_merged_umap /fs/cbsuhy02/storage/yc2553/yc2553/projects/TRE_directionality/output/procapnet/ /fs/cbsuhy02/storage/yc2553/yc2553/projects/TRE_directionality/output/procapnet/prediction/HCT116_modisco_YY1_wt.npy /fs/cbsuhy02/storage/yc2553/yc2553/projects/TRE_directionality/output/procapnet/prediction/HCT116_modisco_YY1_wt. True 0\n",
      "sbatch /fs/cbsuhy02/storage/yc2553/yc2553/projects/TRE_directionality/softwares/procapnet/slurm/predict.sh HCT116 strand_merged_umap /fs/cbsuhy02/storage/yc2553/yc2553/projects/TRE_directionality/output/procapnet/ /fs/cbsuhy02/storage/yc2553/yc2553/projects/TRE_directionality/output/procapnet/prediction/HCT116_modisco_YY1_mt.npy /fs/cbsuhy02/storage/yc2553/yc2553/projects/TRE_directionality/output/procapnet/prediction/HCT116_modisco_YY1_mt. True 1\n",
      "sbatch /fs/cbsuhy02/storage/yc2553/yc2553/projects/TRE_directionality/softwares/procapnet/slurm/predict.sh HCT116 strand_merged_umap /fs/cbsuhy02/storage/yc2553/yc2553/projects/TRE_directionality/output/procapnet/ /fs/cbsuhy02/storage/yc2553/yc2553/projects/TRE_directionality/output/procapnet/prediction/HCT116_modisco_AP1_wt.npy /fs/cbsuhy02/storage/yc2553/yc2553/projects/TRE_directionality/output/procapnet/prediction/HCT116_modisco_AP1_wt. True 0\n",
      "sbatch /fs/cbsuhy02/storage/yc2553/yc2553/projects/TRE_directionality/softwares/procapnet/slurm/predict.sh HCT116 strand_merged_umap /fs/cbsuhy02/storage/yc2553/yc2553/projects/TRE_directionality/output/procapnet/ /fs/cbsuhy02/storage/yc2553/yc2553/projects/TRE_directionality/output/procapnet/prediction/HCT116_modisco_AP1_mt.npy /fs/cbsuhy02/storage/yc2553/yc2553/projects/TRE_directionality/output/procapnet/prediction/HCT116_modisco_AP1_mt. True 1\n",
      "sbatch /fs/cbsuhy02/storage/yc2553/yc2553/projects/TRE_directionality/softwares/procapnet/slurm/predict.sh HCT116 strand_merged_umap /fs/cbsuhy02/storage/yc2553/yc2553/projects/TRE_directionality/output/procapnet/ /fs/cbsuhy02/storage/yc2553/yc2553/projects/TRE_directionality/output/procapnet/prediction/HCT116_modisco_ETS_wt.npy /fs/cbsuhy02/storage/yc2553/yc2553/projects/TRE_directionality/output/procapnet/prediction/HCT116_modisco_ETS_wt. True 0\n",
      "sbatch /fs/cbsuhy02/storage/yc2553/yc2553/projects/TRE_directionality/softwares/procapnet/slurm/predict.sh HCT116 strand_merged_umap /fs/cbsuhy02/storage/yc2553/yc2553/projects/TRE_directionality/output/procapnet/ /fs/cbsuhy02/storage/yc2553/yc2553/projects/TRE_directionality/output/procapnet/prediction/HCT116_modisco_ETS_mt.npy /fs/cbsuhy02/storage/yc2553/yc2553/projects/TRE_directionality/output/procapnet/prediction/HCT116_modisco_ETS_mt. True 1\n"
     ]
    }
   ],
   "source": [
    "# add gpu \n",
    "\n",
    "script = f\"{PROJECT_DIR_s}slurm/predict.sh\"\n",
    "scale = \"True\"\n",
    "model_type = \"strand_merged_umap\"\n",
    "for motif, t in itertools.product(motifs, types):\n",
    "\tinputfile = f\"{PROJECT_DIR_o}procapnet/prediction/{s}_modisco_{motif}_{t}.npy\"\n",
    "\toutput_prefix = f\"{PROJECT_DIR_o}procapnet/prediction/{s}_modisco_{motif}_{t}.\"\n",
    "\tcommands = [\"sbatch\", script,\n",
    "\t\t\t\ts,\n",
    "\t\t\t\tmodel_type,\n",
    "\t\t\t\tf\"{PROJECT_DIR_o}procapnet/\",\n",
    "\t\t\t\tinputfile,\n",
    "\t\t\t\toutput_prefix,\n",
    "\t\t\t\tscale,\n",
    "\t\t\t\tstr(types.index(t))\n",
    "\t\t\t\t]\n",
    "\tprint(\" \".join(commands))"
   ]
  },
  {
   "cell_type": "markdown",
   "id": "60d176b7-f4ed-4e63-8b6c-b7da1844410e",
   "metadata": {},
   "source": [
    "# Changes vs. position"
   ]
  },
  {
   "cell_type": "markdown",
   "id": "244269ed-bad1-4950-a4c5-9d10bdc4a5c7",
   "metadata": {},
   "source": [
    "## Position-dependent changes"
   ]
  },
  {
   "cell_type": "code",
   "execution_count": 17,
   "id": "44ed4f2a-e224-4642-8673-595b0fe3ab7f",
   "metadata": {
    "execution": {
     "iopub.execute_input": "2024-11-29T20:18:23.402692Z",
     "iopub.status.busy": "2024-11-29T20:18:23.402339Z",
     "iopub.status.idle": "2024-11-29T20:18:23.721990Z",
     "shell.execute_reply": "2024-11-29T20:18:23.720938Z",
     "shell.execute_reply.started": "2024-11-29T20:18:23.402672Z"
    }
   },
   "outputs": [],
   "source": [
    "pred_profs = {}\n",
    "for motif, t in itertools.product(motifs, types):\n",
    "\tinputfile = f\"{PROJECT_DIR_o}procapnet/prediction/{s}_modisco_{motif}_{t}.scaled_profiles.npy\"\n",
    "\tpred_profs[(motif,t)] = np.load(inputfile)"
   ]
  },
  {
   "cell_type": "code",
   "execution_count": 18,
   "id": "fc52dd8e-8caf-466a-91cb-7269f7ac355d",
   "metadata": {
    "execution": {
     "iopub.execute_input": "2024-11-29T20:18:23.926226Z",
     "iopub.status.busy": "2024-11-29T20:18:23.925948Z",
     "iopub.status.idle": "2024-11-29T20:18:24.623857Z",
     "shell.execute_reply": "2024-11-29T20:18:24.623374Z",
     "shell.execute_reply.started": "2024-11-29T20:18:23.926208Z"
    }
   },
   "outputs": [],
   "source": [
    "n_motifs = {}\n",
    "for motif in motifs:\n",
    "\tn_motifs[motif] = pred_profs[(motif,t)].shape[0]"
   ]
  },
  {
   "cell_type": "code",
   "execution_count": 19,
   "id": "e9e3ed44-a2c9-4581-923b-690f77cd2600",
   "metadata": {
    "execution": {
     "iopub.execute_input": "2024-11-29T20:18:24.624830Z",
     "iopub.status.busy": "2024-11-29T20:18:24.624591Z",
     "iopub.status.idle": "2024-11-29T20:18:32.070412Z",
     "shell.execute_reply": "2024-11-29T20:18:32.069463Z",
     "shell.execute_reply.started": "2024-11-29T20:18:24.624812Z"
    }
   },
   "outputs": [],
   "source": [
    "# Get log2FC for each strand\n",
    "\n",
    "FCs = defaultdict(list)\n",
    "for motif in motifs:\n",
    "\tfor n in range(n_motifs[motif]):\n",
    "\t\tfwd = []\n",
    "\t\trev = []\n",
    "\t\tfor t in types:\n",
    "\t\t\tfwd.append(sum(pred_profs[(motif,t)][n][0]))\n",
    "\t\t\trev.append(sum(pred_profs[(motif,t)][n][1]))\n",
    "\t\t# wt/mt\n",
    "\t\tFCs[motif].append((fwd[1]/fwd[0], rev[1]/rev[0]))"
   ]
  },
  {
   "cell_type": "code",
   "execution_count": 20,
   "id": "322c6dcf-0fc1-40d7-9e85-4d52eb3189fa",
   "metadata": {
    "execution": {
     "iopub.execute_input": "2024-11-29T20:18:32.071508Z",
     "iopub.status.busy": "2024-11-29T20:18:32.071259Z",
     "iopub.status.idle": "2024-11-29T20:18:34.864335Z",
     "shell.execute_reply": "2024-11-29T20:18:34.863868Z",
     "shell.execute_reply.started": "2024-11-29T20:18:32.071490Z"
    }
   },
   "outputs": [
    {
     "data": {
      "text/html": [
       "<div>\n",
       "<style scoped>\n",
       "    .dataframe tbody tr th:only-of-type {\n",
       "        vertical-align: middle;\n",
       "    }\n",
       "\n",
       "    .dataframe tbody tr th {\n",
       "        vertical-align: top;\n",
       "    }\n",
       "\n",
       "    .dataframe thead th {\n",
       "        text-align: right;\n",
       "    }\n",
       "</style>\n",
       "<table border=\"1\" class=\"dataframe\">\n",
       "  <thead>\n",
       "    <tr style=\"text-align: right;\">\n",
       "      <th></th>\n",
       "      <th>motif</th>\n",
       "      <th>FC</th>\n",
       "      <th>bin</th>\n",
       "      <th>TSS_type</th>\n",
       "      <th>pos</th>\n",
       "    </tr>\n",
       "  </thead>\n",
       "  <tbody>\n",
       "    <tr>\n",
       "      <th>0</th>\n",
       "      <td>ZBTB33</td>\n",
       "      <td>0.890253</td>\n",
       "      <td>-1</td>\n",
       "      <td>maxTSS</td>\n",
       "      <td>Upstream of TSS</td>\n",
       "    </tr>\n",
       "    <tr>\n",
       "      <th>1</th>\n",
       "      <td>ZBTB33</td>\n",
       "      <td>0.735905</td>\n",
       "      <td>-30</td>\n",
       "      <td>minTSS</td>\n",
       "      <td>Upstream of TSS</td>\n",
       "    </tr>\n",
       "  </tbody>\n",
       "</table>\n",
       "</div>"
      ],
      "text/plain": [
       "    motif        FC  bin TSS_type              pos\n",
       "0  ZBTB33  0.890253   -1   maxTSS  Upstream of TSS\n",
       "1  ZBTB33  0.735905  -30   minTSS  Upstream of TSS"
      ]
     },
     "execution_count": 20,
     "metadata": {},
     "output_type": "execute_result"
    }
   ],
   "source": [
    "results = []\n",
    "bin_size = 10\n",
    "for motif in motifs:\n",
    "\tdf = df_motifs[(df_motifs[3]==motif) & (df_motifs[4].astype(str).isin(mapping))].reset_index(drop=True)\n",
    "\tfor index, row in df.iterrows():\n",
    "\t\tchrom, tss1, tss2, sign = mapping[str(row[4])][:-2]\n",
    "\t\tmotif_start, motif_end = row[1:3]\n",
    "\t\tmotif_center = (motif_end + motif_start)//2\n",
    "\t\t# divergent\n",
    "\t\tif tss2 != \".\":\n",
    "\t\t\trevTSS, fwdTSS = tss1, tss2\n",
    "\t\t# unidirectional\n",
    "\t\telse:\n",
    "\t\t\tif sign == \"+\":\n",
    "\t\t\t\tfwdTSS, revTSS = tss1, np.nan\n",
    "\t\t\telse:\n",
    "\t\t\t\tfwdTSS, revTSS = np.nan, tss1\n",
    "\n",
    "\t\tfwdFC, revFC = FCs[motif][index]\n",
    "\n",
    "\t\tif not np.isnan(fwdTSS):\n",
    "\t\t\tfwdD = motif_center - fwdTSS\n",
    "\t\t\tlabel = \"maxTSS\" if sign == \"+\" else \"minTSS\"\n",
    "\t\t\tresults.append([motif, fwdFC, fwdD//bin_size, label])\n",
    "\n",
    "\t\tif not np.isnan(revTSS):\n",
    "\t\t\trevD = revTSS - motif_center\n",
    "\t\t\tlabel = \"minTSS\" if sign == \"+\" else \"maxTSS\"\n",
    "\t\t\tresults.append([motif, revFC, revD//bin_size, label])\t\t\t\t\n",
    "df_fc = pd.DataFrame(results, columns=[\"motif\", \"FC\", \"bin\", \"TSS_type\"])\n",
    "# Divide motifs into two categories: upstream and downstream of TSSs\n",
    "df_fc[\"pos\"] = df_fc[\"bin\"].apply(lambda x: \"Downstream of TSS\" if x >= 0 else \"Upstream of TSS\")\n",
    "df_fc.head(2)"
   ]
  },
  {
   "cell_type": "code",
   "execution_count": 21,
   "id": "c2b7e7d7-ec14-4f7d-8386-99c239749233",
   "metadata": {
    "execution": {
     "iopub.execute_input": "2024-11-29T20:18:34.865150Z",
     "iopub.status.busy": "2024-11-29T20:18:34.864897Z",
     "iopub.status.idle": "2024-11-29T20:18:34.906078Z",
     "shell.execute_reply": "2024-11-29T20:18:34.905618Z",
     "shell.execute_reply.started": "2024-11-29T20:18:34.865133Z"
    }
   },
   "outputs": [
    {
     "name": "stdout",
     "output_type": "stream",
     "text": [
      "ZBTB33 Counter({'Upstream of TSS': 139, 'Downstream of TSS': 34})\n",
      "CTCF Counter({'Upstream of TSS': 579, 'Downstream of TSS': 57})\n",
      "CREB Counter({'Upstream of TSS': 819, 'Downstream of TSS': 275})\n",
      "SP Counter({'Upstream of TSS': 5928, 'Downstream of TSS': 1511})\n",
      "NRF1 Counter({'Upstream of TSS': 1044, 'Downstream of TSS': 314})\n",
      "TATA Counter({'Upstream of TSS': 728, 'Downstream of TSS': 399})\n",
      "ZNF143 Counter({'Upstream of TSS': 127, 'Downstream of TSS': 22})\n",
      "NFY Counter({'Upstream of TSS': 2354, 'Downstream of TSS': 642})\n",
      "YY1 Counter({'Upstream of TSS': 65, 'Downstream of TSS': 23})\n",
      "AP1 Counter({'Upstream of TSS': 4540, 'Downstream of TSS': 735})\n",
      "ETS Counter({'Upstream of TSS': 2521, 'Downstream of TSS': 942})\n"
     ]
    }
   ],
   "source": [
    "df = df_fc[((df_fc[\"TSS_type\"]==\"maxTSS\") & (df_fc[\"pos\"]==\"Upstream of TSS\")) | ((df_fc[\"TSS_type\"]==\"minTSS\") & (df_fc[\"pos\"]==\"Downstream of TSS\"))]\n",
    "for motif in motifs:\n",
    "\tprint(motif, Counter(df[df[\"motif\"]==motif][\"pos\"]))"
   ]
  },
  {
   "cell_type": "code",
   "execution_count": 22,
   "id": "41d8fa48-9376-4c0f-94be-c6270648d641",
   "metadata": {
    "execution": {
     "iopub.execute_input": "2024-11-29T20:18:34.907280Z",
     "iopub.status.busy": "2024-11-29T20:18:34.907035Z",
     "iopub.status.idle": "2024-11-29T20:18:36.401454Z",
     "shell.execute_reply": "2024-11-29T20:18:36.400858Z",
     "shell.execute_reply.started": "2024-11-29T20:18:34.907260Z"
    },
    "scrolled": true
   },
   "outputs": [],
   "source": [
    "order = [\"CTCF\", \"AP1\", \"SP\", \"NFY\", \"CREB\", \"NRF1\", \"ETS\"]"
   ]
  },
  {
   "cell_type": "code",
   "execution_count": 23,
   "id": "0c0eba48-38cb-4887-a8ca-24f8772551b7",
   "metadata": {
    "execution": {
     "iopub.execute_input": "2024-11-29T20:18:36.402284Z",
     "iopub.status.busy": "2024-11-29T20:18:36.402034Z",
     "iopub.status.idle": "2024-11-29T20:18:37.649762Z",
     "shell.execute_reply": "2024-11-29T20:18:37.649295Z",
     "shell.execute_reply.started": "2024-11-29T20:18:36.402266Z"
    }
   },
   "outputs": [],
   "source": [
    "def plot_FC(tss_type, order, outputfile):\n",
    "\tfig, ax = plt.subplots(figsize=(5.5,2.8))\n",
    "\tdf = df_fc[((df_fc[\"TSS_type\"]==\"maxTSS\") & (df_fc[\"pos\"]==\"Upstream of TSS\")) | ((df_fc[\"TSS_type\"]==\"minTSS\") & (df_fc[\"pos\"]==\"Downstream of TSS\"))]\n",
    "\thue_plot_params = {\"data\": df,\n",
    "\t\t\t\t\t\t\"x\": \"motif\",\n",
    "\t\t\t\t\t\t\"y\": \"FC\",\n",
    "\t\t\t\t\t\t\"hue\": \"pos\",\n",
    "\t\t\t\t\t\t\"hue_order\": [\"Downstream of TSS\", \"Upstream of TSS\"],\n",
    "\t\t\t\t\t\t\"order\": order,\n",
    "\t\t\t\t\t\t\"palette\": [\"#FFD700\", \"#b3de69\"],\n",
    "\t\t\t\t\t    \"showfliers\": False\n",
    "\t\t\t\t\t\t}\n",
    "\tg = sns.boxplot(ax=ax, **hue_plot_params)\n",
    "\tg.spines[[\"right\", \"top\"]].set_visible(False)\n",
    "\tg.axhline(y=1, ls=\"--\", c=\"#636363\")\n",
    "\tlegend = g.legend(loc=\"upper right\", bbox_to_anchor=(0.9,1), ncol=2, fontsize=sfontsize)\n",
    "\n",
    "\tg.set_ylabel(\"FC (mt/wt)\", fontsize=bfontsize, fontweight=\"bold\")\n",
    "\tg.tick_params(axis=\"y\", labelsize=sfontsize)\n",
    "\tg.set_ylim([0,2.2])\n",
    "\tg.set_yticks([0,0.5,1,1.5,2])\n",
    "\t\n",
    "\tg.set_xlabel(\"\")\n",
    "\tg.tick_params(axis=\"x\", labelsize=bfontsize, rotation=30)\n",
    "\tfor label in g.get_xticklabels():\n",
    "\t\tlabel.set_fontweight(\"bold\")\n",
    "\t\tlabel.set_ha(\"right\")\n",
    "\t\n",
    "\tpairs = [[(motif, \"Upstream of TSS\"), (motif, \"Downstream of TSS\")] for motif in order]\n",
    "\tannotator = Annotator(g, pairs, **hue_plot_params)\n",
    "\tannotator.configure(test='Mann-Whitney', text_format=\"star\", \n",
    "\t\t\t\t\t\tcomparisons_correction=\"BH\",\n",
    "\t\t\t\t\t\tverbose=False, text_offset=1, fontsize=sfontsize)\n",
    "\tannotator.apply_and_annotate()\n",
    "\n",
    "\tplt.savefig(outputfile, bbox_inches=\"tight\", dpi=300) "
   ]
  },
  {
   "cell_type": "code",
   "execution_count": 24,
   "id": "cfa5a49c-7d53-4b86-9fb9-f9bf5d4e9f9d",
   "metadata": {
    "execution": {
     "iopub.execute_input": "2024-11-29T20:18:37.650582Z",
     "iopub.status.busy": "2024-11-29T20:18:37.650315Z",
     "iopub.status.idle": "2024-11-29T20:18:49.868071Z",
     "shell.execute_reply": "2024-11-29T20:18:49.867594Z",
     "shell.execute_reply.started": "2024-11-29T20:18:37.650563Z"
    }
   },
   "outputs": [
    {
     "data": {
      "image/png": "[encoded data removed]",
      "text/plain": [
       "<Figure size 550x280 with 1 Axes>"
      ]
     },
     "metadata": {},
     "output_type": "display_data"
    }
   ],
   "source": [
    "# Downstream of minTSS, Upstream of maxTSS\n",
    "\n",
    "outputfile = f\"{PROJECT_DIR_o}figures/Fig5b.pdf\"\n",
    "plot_FC(\"\", order, outputfile)"
   ]
  },
  {
   "cell_type": "code",
   "execution_count": null,
   "id": "6e10f60d-d468-475b-988e-992e1cee06fe",
   "metadata": {},
   "outputs": [],
   "source": []
  }
 ],
 "metadata": {
  "kernelspec": {
   "display_name": "Python 3 (ipykernel)",
   "language": "python",
   "name": "python3"
  },
  "language_info": {
   "codemirror_mode": {
    "name": "ipython",
    "version": 3
   },
   "file_extension": ".py",
   "mimetype": "text/x-python",
   "name": "python",
   "nbconvert_exporter": "python",
   "pygments_lexer": "ipython3",
   "version": "3.10.8"
  }
 },
 "nbformat": 4,
 "nbformat_minor": 5
}
